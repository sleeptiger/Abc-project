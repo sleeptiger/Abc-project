{
  "nbformat": 4,
  "nbformat_minor": 0,
  "metadata": {
    "colab": {
      "name": "input/output/high-level.ipynb",
      "provenance": [],
      "authorship_tag": "ABX9TyMqBq+4teUYlVhSn/Au9u3W",
      "include_colab_link": true
    },
    "kernelspec": {
      "name": "python3",
      "display_name": "Python 3"
    },
    "language_info": {
      "name": "python"
    }
  },
  "cells": [
    {
      "cell_type": "markdown",
      "metadata": {
        "id": "view-in-github",
        "colab_type": "text"
      },
      "source": [
        "<a href=\"https://colab.research.google.com/github/sleeptiger/Abc-project/blob/main/input_output_high_level.ipynb\" target=\"_parent\"><img src=\"https://colab.research.google.com/assets/colab-badge.svg\" alt=\"Open In Colab\"/></a>"
      ]
    },
    {
      "cell_type": "markdown",
      "source": [
        "# input/ output"
      ],
      "metadata": {
        "id": "r949MNnfiaDb"
      }
    },
    {
      "cell_type": "code",
      "execution_count": 2,
      "metadata": {
        "colab": {
          "base_uri": "https://localhost:8080/"
        },
        "id": "N_Gm8yGsd8lD",
        "outputId": "3e4cb8fc-de81-429f-ec28-4adeed06db82"
      },
      "outputs": [
        {
          "output_type": "stream",
          "name": "stdout",
          "text": [
            "당신이 가장 좋아하는것 은 무엇입니까?car raceing\n",
            "car raceing\n"
          ]
        }
      ],
      "source": [
        "favorite = input('당신이 가장 좋아하는것 은 무엇입니까?')\n",
        "print(favorite)"
      ]
    },
    {
      "cell_type": "markdown",
      "source": [
        "# 파일 읽고 쓰기\n",
        "\n",
        "\n",
        "*   open 을 사용해 새 파일을 만들 수있습니다.\n",
        "*   파일이 한번 오픈되면 반드시 'close' 해주어야 합니다.\n",
        "*   파일 열기 모드\n",
        "    - `r` : 읽기 모드(수정X)\n",
        "    - `w` : 쓰기 모드\n",
        "    - `a` : 추가 모드(파일의 마지막에 내용 추가)\n",
        "\n",
        "    \n"
      ],
      "metadata": {
        "id": "cUPbPwaAivz2"
      }
    },
    {
      "cell_type": "code",
      "source": [
        "f = open('new_file.txt', 'w') # 파일 생성\n",
        "f.close()"
      ],
      "metadata": {
        "id": "bQoLOHqkim7a"
      },
      "execution_count": null,
      "outputs": []
    },
    {
      "cell_type": "markdown",
      "source": [
        "> #### 파일 쓰기\n",
        "- `open` 의 `w`모드를 사용해 파일 내용을 변경 가능"
      ],
      "metadata": {
        "id": "MecrvqePjngB"
      }
    },
    {
      "cell_type": "code",
      "source": [
        "f = open('new_file.txt', 'w')\n",
        "for i in range(1, 11):\n",
        "    f.write('{}번째 줄입니다\\n'.format(i))\n",
        "\n",
        "f.close"
      ],
      "metadata": {
        "id": "NNtpPZ8Xjj99"
      },
      "execution_count": null,
      "outputs": []
    },
    {
      "cell_type": "markdown",
      "source": [
        "> #### 파일 읽기\n",
        "    - `open`의 `r`모드를 사용해 파일 내용을 확인할 수 있습니다."
      ],
      "metadata": {
        "id": "WmdDXsKnkB6H"
      }
    },
    {
      "cell_type": "code",
      "source": [
        "f = open('new_file.txt', 'r')\n",
        "for line in f.readlines():\n",
        "    print(line)\n",
        "\n",
        "f.close"
      ],
      "metadata": {
        "id": "TWGQhamDkMVH"
      },
      "execution_count": null,
      "outputs": []
    },
    {
      "cell_type": "markdown",
      "source": [
        "> ## List Comprehension \n",
        "    >-`List Comprehension`은 파이썬에서 빠르게 리스트를 생성하는 구문\n",
        "    >- 일반적으로 `for 문`을 사용하는 것보다 무척 빠르다.\n",
        "    >- 프로그램 동작 시간 너무 오래 걸리는 경우, 대안으로 생각해 볼 수있다.\n",
        "    >- 기본 문법\n",
        "        - 리스트형 = [변수 for 변수 in range(x) if 조건문]"
      ],
      "metadata": {
        "id": "p0WomtTRkxB7"
      }
    },
    {
      "cell_type": "code",
      "source": [
        "news_list = [his for his in range(10) if (his%2) == 0]  # 짝수 생성\n",
        "print(news_list)"
      ],
      "metadata": {
        "colab": {
          "base_uri": "https://localhost:8080/"
        },
        "id": "JjkT-1bjlW0U",
        "outputId": "f16f2e36-1a52-4ed8-83b4-d6f9ec5720dc"
      },
      "execution_count": 6,
      "outputs": [
        {
          "output_type": "stream",
          "name": "stdout",
          "text": [
            "[0, 2, 4, 6, 8]\n"
          ]
        }
      ]
    },
    {
      "cell_type": "code",
      "source": [
        "news_list = [his for his in range(10) if (his%2) == 1]  # \b홀수 생성\n",
        "print(news_list)"
      ],
      "metadata": {
        "colab": {
          "base_uri": "https://localhost:8080/"
        },
        "id": "X6OZTTcclkNC",
        "outputId": "c32ced5d-b2de-4d81-b75d-4b560ecd96fc"
      },
      "execution_count": 7,
      "outputs": [
        {
          "output_type": "stream",
          "name": "stdout",
          "text": [
            "[1, 3, 5, 7, 9]\n"
          ]
        }
      ]
    },
    {
      "cell_type": "markdown",
      "source": [
        "> # 예외 처리\n",
        "    >- `try` : 우선 실행\n",
        "    >- `except` : 오류 발생시 실행문"
      ],
      "metadata": {
        "id": "W2MpUqqll5xV"
      }
    },
    {
      "cell_type": "code",
      "source": [
        "def error_function(input):\n",
        "    for i in range(10):\n",
        "        result = input / (i)\n",
        "        print(result)"
      ],
      "metadata": {
        "id": "EchKd7brllsM"
      },
      "execution_count": 8,
      "outputs": []
    },
    {
      "cell_type": "code",
      "source": [
        "error_function(10) # 0의 값이 나오기 때문에 에러 발생"
      ],
      "metadata": {
        "colab": {
          "base_uri": "https://localhost:8080/",
          "height": 270
        },
        "id": "53vYS09tmXHj",
        "outputId": "649ce1bd-309b-4f2b-f366-802c17f34c6f"
      },
      "execution_count": 9,
      "outputs": [
        {
          "output_type": "error",
          "ename": "ZeroDivisionError",
          "evalue": "ignored",
          "traceback": [
            "\u001b[0;31m---------------------------------------------------------------------------\u001b[0m",
            "\u001b[0;31mZeroDivisionError\u001b[0m                         Traceback (most recent call last)",
            "\u001b[0;32m<ipython-input-9-ca59252e2803>\u001b[0m in \u001b[0;36m<module>\u001b[0;34m\u001b[0m\n\u001b[0;32m----> 1\u001b[0;31m \u001b[0merror_function\u001b[0m\u001b[0;34m(\u001b[0m\u001b[0;36m10\u001b[0m\u001b[0;34m)\u001b[0m\u001b[0;34m\u001b[0m\u001b[0;34m\u001b[0m\u001b[0m\n\u001b[0m",
            "\u001b[0;32m<ipython-input-8-fb376667363d>\u001b[0m in \u001b[0;36merror_function\u001b[0;34m(input)\u001b[0m\n\u001b[1;32m      1\u001b[0m \u001b[0;32mdef\u001b[0m \u001b[0merror_function\u001b[0m\u001b[0;34m(\u001b[0m\u001b[0minput\u001b[0m\u001b[0;34m)\u001b[0m\u001b[0;34m:\u001b[0m\u001b[0;34m\u001b[0m\u001b[0;34m\u001b[0m\u001b[0m\n\u001b[1;32m      2\u001b[0m     \u001b[0;32mfor\u001b[0m \u001b[0mi\u001b[0m \u001b[0;32min\u001b[0m \u001b[0mrange\u001b[0m\u001b[0;34m(\u001b[0m\u001b[0;36m10\u001b[0m\u001b[0;34m)\u001b[0m\u001b[0;34m:\u001b[0m\u001b[0;34m\u001b[0m\u001b[0;34m\u001b[0m\u001b[0m\n\u001b[0;32m----> 3\u001b[0;31m         \u001b[0mresult\u001b[0m \u001b[0;34m=\u001b[0m \u001b[0minput\u001b[0m \u001b[0;34m/\u001b[0m \u001b[0;34m(\u001b[0m\u001b[0mi\u001b[0m\u001b[0;34m)\u001b[0m\u001b[0;34m\u001b[0m\u001b[0;34m\u001b[0m\u001b[0m\n\u001b[0m\u001b[1;32m      4\u001b[0m         \u001b[0mprint\u001b[0m\u001b[0;34m(\u001b[0m\u001b[0mresult\u001b[0m\u001b[0;34m)\u001b[0m\u001b[0;34m\u001b[0m\u001b[0;34m\u001b[0m\u001b[0m\n",
            "\u001b[0;31mZeroDivisionError\u001b[0m: division by zero"
          ]
        }
      ]
    },
    {
      "cell_type": "code",
      "source": [
        "def error_function(input):\n",
        "    for i in range(10):\n",
        "        try: # 일단 실행\n",
        "            result = input / (i)\n",
        "            print(result)\n",
        "        except: #예외처리 시 실행\n",
        "            pass # 그냥 무시하고 진행해라"
      ],
      "metadata": {
        "id": "rqpDvTzGmY-z"
      },
      "execution_count": 10,
      "outputs": []
    },
    {
      "cell_type": "code",
      "source": [
        "error_function(10)"
      ],
      "metadata": {
        "colab": {
          "base_uri": "https://localhost:8080/"
        },
        "id": "z6Dr4jO9mlpr",
        "outputId": "69a817fd-d0de-424e-8c62-b925edf39565"
      },
      "execution_count": 11,
      "outputs": [
        {
          "output_type": "stream",
          "name": "stdout",
          "text": [
            "10.0\n",
            "5.0\n",
            "3.3333333333333335\n",
            "2.5\n",
            "2.0\n",
            "1.6666666666666667\n",
            "1.4285714285714286\n",
            "1.25\n",
            "1.1111111111111112\n"
          ]
        }
      ]
    },
    {
      "cell_type": "code",
      "source": [
        "def error_function(input):\n",
        "    for i in range(10):\n",
        "        try: # 일단 실행\n",
        "            result = input / (i)\n",
        "            print(result)\n",
        "        except ZeroDivisionError: #ZeroDivisionError 발생시 실행한다.\n",
        "            pass # 그냥 무시하고 진행해라"
      ],
      "metadata": {
        "id": "pqJZHS3GmnhL"
      },
      "execution_count": null,
      "outputs": []
    }
  ]
}