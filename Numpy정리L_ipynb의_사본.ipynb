{
  "nbformat": 4,
  "nbformat_minor": 0,
  "metadata": {
    "colab": {
      "provenance": [],
      "collapsed_sections": [
        "ExxgC1uNE9IF"
      ],
      "authorship_tag": "ABX9TyOBzc2vmSfqXOMzxBp8AwRm",
      "include_colab_link": true
    },
    "kernelspec": {
      "name": "python3",
      "display_name": "Python 3"
    },
    "language_info": {
      "name": "python"
    }
  },
  "cells": [
    {
      "cell_type": "markdown",
      "metadata": {
        "id": "view-in-github",
        "colab_type": "text"
      },
      "source": [
        "<a href=\"https://colab.research.google.com/github/sleeptiger/Abc-project/blob/main/Numpy%EC%A0%95%EB%A6%ACL_ipynb%EC%9D%98_%EC%82%AC%EB%B3%B8.ipynb\" target=\"_parent\"><img src=\"https://colab.research.google.com/assets/colab-badge.svg\" alt=\"Open In Colab\"/></a>"
      ]
    },
    {
      "cell_type": "markdown",
      "source": [
        "# 라이브러리란?\n",
        ">- 모듈은 파이썬 확장자로 이루어져 있는 실행 가능한 하나의 파일이다.\n",
        ">- 모듈안에는 한개 이상 함수, 클래스 변수가 있다.\n",
        ">- 라이브러리는 `import` 로 호출한다.\n",
        "\n"
      ],
      "metadata": {
        "id": "PFsc0S9b0V1B"
      }
    },
    {
      "cell_type": "code",
      "execution_count": 1,
      "metadata": {
        "id": "6YZaR8Pb0UJ6"
      },
      "outputs": [],
      "source": [
        "import numpy as np # as np = numpy를 np로 사용이 가능하다."
      ]
    },
    {
      "cell_type": "markdown",
      "source": [
        "# Numpy란?\n"
      ],
      "metadata": {
        "id": "L5PzMyyD07vR"
      }
    },
    {
      "cell_type": "markdown",
      "source": [
        "## Numpy \n",
        ">- 다차원 배열을 쉽고 효율적으로 계산할 수 있도록 해주는 python 라이브러리\n",
        "<br>\n",
        "<br>\n",
        "#### why Numpy\n",
        ">- 데이터는 이미지, 오디오, 텍스트 등 다양하다.\n",
        ">- 모든 데이터는 결국, 숫자의 배열 형태로 해석이 가능하다.\n",
        ">- Numpy는 python에서 모든 데이터를 자료형으로 분석하고 계산하기 위한 라이브러리이다."
      ],
      "metadata": {
        "id": "e1YDBaug1LUg"
      }
    },
    {
      "cell_type": "markdown",
      "source": [
        "## **1. 배열이란?**\n",
        "1. 같은 타입을 가지는 데이터가 나열된 집합\n",
        "2. 축의 개수에 따라 차원이 달라진다.\n",
        "<br>\n",
        "<br>\n",
        ">- axis0 = 세로/ axis1= 가로/ axis3 = 깊이"
      ],
      "metadata": {
        "id": "1sb95E6X11zH"
      }
    },
    {
      "cell_type": "code",
      "source": [
        "silver = np.array([[1,2,3],\n",
        "                  [4,5,6]])\n",
        "np.shape(silver) # 세로로 2줄 가로로 3줄"
      ],
      "metadata": {
        "colab": {
          "base_uri": "https://localhost:8080/"
        },
        "id": "X1EJDCUH0vxr",
        "outputId": "32571ab8-d852-481b-9a89-0d95b7ddbb3b"
      },
      "execution_count": null,
      "outputs": [
        {
          "output_type": "execute_result",
          "data": {
            "text/plain": [
              "(2, 3)"
            ]
          },
          "metadata": {},
          "execution_count": 5
        }
      ]
    },
    {
      "cell_type": "code",
      "source": [
        "abc = np.array([[[1,2,3],\n",
        "               [4,5,6]],\n",
        "               [[7,8,9],\n",
        "               [10,11,12]]])\n",
        "np.shape(abc)"
      ],
      "metadata": {
        "colab": {
          "base_uri": "https://localhost:8080/"
        },
        "id": "ZE7uZK9x03t4",
        "outputId": "f1979cb8-02b5-4389-9244-393e32e78ba4"
      },
      "execution_count": null,
      "outputs": [
        {
          "output_type": "execute_result",
          "data": {
            "text/plain": [
              "(2, 2, 3)"
            ]
          },
          "metadata": {},
          "execution_count": 9
        }
      ]
    },
    {
      "cell_type": "markdown",
      "source": [
        "## **2.배열과 슬라이싱, 정렬**\n",
        "1. 배열생성\n",
        "    >- 리스트를 np로 변경 \n",
        "    >- np를 사용해서 생성 -> 타입설정 가능\n",
        "    >- 파일기반 배열 생성"
      ],
      "metadata": {
        "id": "3fLTgiRd5rFT"
      }
    },
    {
      "cell_type": "code",
      "source": [
        "#리스트를 np로 변경\n",
        "x = [1,2,3,4]\n",
        "print(type(x))\n",
        "y = np.array(x)\n",
        "print(type(y))"
      ],
      "metadata": {
        "id": "y6BG3Bct24uN",
        "colab": {
          "base_uri": "https://localhost:8080/"
        },
        "outputId": "13026dbb-927d-4133-d5da-62e1827f9351"
      },
      "execution_count": 6,
      "outputs": [
        {
          "output_type": "stream",
          "name": "stdout",
          "text": [
            "<class 'list'>\n",
            "<class 'numpy.ndarray'>\n"
          ]
        }
      ]
    },
    {
      "cell_type": "code",
      "source": [
        "#   np.arange(x,y,z)   -- x = 시작 하는 숫자\n",
        "#                         Y = 끝나는 숫자(Y미만의 숫자)\n",
        "#                         Z = 간격"
      ],
      "metadata": {
        "id": "4eMl_3hO6nTK"
      },
      "execution_count": null,
      "outputs": []
    },
    {
      "cell_type": "code",
      "source": [
        "np.linspace(0,10,8)   # linspace(x,y,z) - z숫자 만큼 배열 시킨다."
      ],
      "metadata": {
        "colab": {
          "base_uri": "https://localhost:8080/"
        },
        "id": "m8HcSsMM7ydz",
        "outputId": "3a771546-18ba-4435-fb26-57617b2e125a"
      },
      "execution_count": 8,
      "outputs": [
        {
          "output_type": "execute_result",
          "data": {
            "text/plain": [
              "array([ 0.        ,  1.42857143,  2.85714286,  4.28571429,  5.71428571,\n",
              "        7.14285714,  8.57142857, 10.        ])"
            ]
          },
          "metadata": {},
          "execution_count": 8
        }
      ]
    },
    {
      "cell_type": "code",
      "source": [
        "# 여러가지 NUMPY 배열 생성기 \n",
        "np.zeros((3,5))\n",
        "# axis0 = 3  axis1= 5"
      ],
      "metadata": {
        "colab": {
          "base_uri": "https://localhost:8080/"
        },
        "id": "PMAJuAL876fA",
        "outputId": "651b10f5-b338-4803-f4e2-4fa314e9f74d"
      },
      "execution_count": null,
      "outputs": [
        {
          "output_type": "execute_result",
          "data": {
            "text/plain": [
              "array([[0., 0., 0., 0., 0.],\n",
              "       [0., 0., 0., 0., 0.],\n",
              "       [0., 0., 0., 0., 0.]])"
            ]
          },
          "metadata": {},
          "execution_count": 15
        }
      ]
    },
    {
      "cell_type": "code",
      "source": [
        "np.full([3,3],10)\n",
        "#   axis0 =3 axis1 = 3 채워주는 숫자는 10"
      ],
      "metadata": {
        "colab": {
          "base_uri": "https://localhost:8080/"
        },
        "id": "BuZGrtCT8GX_",
        "outputId": "7ec38fe7-55d2-4ad2-bc3d-424e9af75589"
      },
      "execution_count": 9,
      "outputs": [
        {
          "output_type": "execute_result",
          "data": {
            "text/plain": [
              "array([[10, 10, 10],\n",
              "       [10, 10, 10],\n",
              "       [10, 10, 10]])"
            ]
          },
          "metadata": {},
          "execution_count": 9
        }
      ]
    },
    {
      "cell_type": "markdown",
      "source": [
        "### 슬라이싱\n",
        "- 특정 구간을 불러 들인다.\n",
        "- `,` 중심으로 (x,y,z) = (axis0, axis1, axis3) = (행 인덱스, 열 인덱스, N축 인덱스)\n",
        "-  `:` = 전체를 뜻함 ex) eve[:,1] = 모든 행에 1번 열 인덱스 출력\n"
      ],
      "metadata": {
        "id": "rOfggW7L8gVW"
      }
    },
    {
      "cell_type": "code",
      "source": [
        "eve = np.array([[1,2,3],\n",
        "                [4,5,6],\n",
        "                [7,8,9]])"
      ],
      "metadata": {
        "id": "syqi7KbK8MHf"
      },
      "execution_count": null,
      "outputs": []
    },
    {
      "cell_type": "code",
      "source": [
        " np.array(eve[:,1])"
      ],
      "metadata": {
        "colab": {
          "base_uri": "https://localhost:8080/"
        },
        "id": "Dlb89C_O832_",
        "outputId": "20065c32-1e4a-41d1-fd53-e8efb2dedad0"
      },
      "execution_count": null,
      "outputs": [
        {
          "output_type": "execute_result",
          "data": {
            "text/plain": [
              "array([2, 5, 8])"
            ]
          },
          "metadata": {},
          "execution_count": 26
        }
      ]
    },
    {
      "cell_type": "code",
      "source": [
        "eve[0,2]"
      ],
      "metadata": {
        "colab": {
          "base_uri": "https://localhost:8080/"
        },
        "id": "3qCLKmwY9IC_",
        "outputId": "5d3eb6d3-ae41-49ab-d5d5-98ca45578386"
      },
      "execution_count": null,
      "outputs": [
        {
          "output_type": "execute_result",
          "data": {
            "text/plain": [
              "3"
            ]
          },
          "metadata": {},
          "execution_count": 27
        }
      ]
    },
    {
      "cell_type": "markdown",
      "source": [
        "### FANCY 인덱싱\n",
        "- 리스트로서 특정 행/ 열을 슬라이싱 할 수 있다."
      ],
      "metadata": {
        "id": "SkrmfwEJ-JNH"
      }
    },
    {
      "cell_type": "code",
      "source": [
        "arr=np.zeros((8,8))"
      ],
      "metadata": {
        "id": "bAAOKhH5-H1Y"
      },
      "execution_count": null,
      "outputs": []
    },
    {
      "cell_type": "code",
      "source": [
        "arr1 =np.arange(1,17).reshape(4,4)\n",
        "arr1"
      ],
      "metadata": {
        "colab": {
          "base_uri": "https://localhost:8080/"
        },
        "id": "33FT42qJAOJr",
        "outputId": "76f8ec88-b186-487e-db21-c782cdc5f53c"
      },
      "execution_count": 11,
      "outputs": [
        {
          "output_type": "execute_result",
          "data": {
            "text/plain": [
              "array([[ 1,  2,  3,  4],\n",
              "       [ 5,  6,  7,  8],\n",
              "       [ 9, 10, 11, 12],\n",
              "       [13, 14, 15, 16]])"
            ]
          },
          "metadata": {},
          "execution_count": 11
        }
      ]
    },
    {
      "cell_type": "code",
      "source": [
        "x = np.array([0, 1, 2, 3, 4, 5, 6, 7, 8, 9])\n",
        "x[1:8:2] # array[x:y:z] = x= 시작 구간/ y = 끝나는 구간/ z = 간격"
      ],
      "metadata": {
        "colab": {
          "base_uri": "https://localhost:8080/"
        },
        "id": "SvDdB73vk6ak",
        "outputId": "ac628b58-fcc7-4b50-b9c8-060fc8b98a23"
      },
      "execution_count": 17,
      "outputs": [
        {
          "output_type": "execute_result",
          "data": {
            "text/plain": [
              "array([1, 3, 5, 7])"
            ]
          },
          "metadata": {},
          "execution_count": 17
        }
      ]
    },
    {
      "cell_type": "code",
      "source": [
        "arr1[:,::2]"
      ],
      "metadata": {
        "colab": {
          "base_uri": "https://localhost:8080/"
        },
        "id": "5d4I3qinisbZ",
        "outputId": "c6f9f980-d0bf-43db-91bd-142438aa7300"
      },
      "execution_count": 22,
      "outputs": [
        {
          "output_type": "execute_result",
          "data": {
            "text/plain": [
              "array([[ 2,  4],\n",
              "       [ 6,  8],\n",
              "       [10, 12],\n",
              "       [14, 16]])"
            ]
          },
          "metadata": {},
          "execution_count": 22
        }
      ]
    },
    {
      "cell_type": "code",
      "source": [
        "arr1[::2] #  행 기준 2개 겨격 출력"
      ],
      "metadata": {
        "colab": {
          "base_uri": "https://localhost:8080/"
        },
        "id": "ZUtI8Ha7C_0l",
        "outputId": "5031cf3b-00df-4d95-cfa5-044e5c86b1a8"
      },
      "execution_count": null,
      "outputs": [
        {
          "output_type": "execute_result",
          "data": {
            "text/plain": [
              "array([[ 1,  2,  3,  4],\n",
              "       [ 9, 10, 11, 12]])"
            ]
          },
          "metadata": {},
          "execution_count": 85
        }
      ]
    },
    {
      "cell_type": "code",
      "source": [
        "arr1[1::2, [0,2]] # arr2[x:y:z, xz]  = x는 행의 시작점, z는 간격 수/ xz=열 컬럼"
      ],
      "metadata": {
        "colab": {
          "base_uri": "https://localhost:8080/"
        },
        "id": "mc7q8uRAATn3",
        "outputId": "95430c1c-0109-4683-c0aa-09271709a442"
      },
      "execution_count": 12,
      "outputs": [
        {
          "output_type": "execute_result",
          "data": {
            "text/plain": [
              "array([[ 5,  7],\n",
              "       [13, 15]])"
            ]
          },
          "metadata": {},
          "execution_count": 12
        }
      ]
    },
    {
      "cell_type": "code",
      "source": [
        "matrix = np.zeros((8,8))\n",
        "matrix[::2,[1,3,5,7]] = 1\n",
        "matrix[1::2,[0,2,4,6]] = 1\n",
        "np.array(matrix)"
      ],
      "metadata": {
        "colab": {
          "base_uri": "https://localhost:8080/"
        },
        "id": "QO40gDP9_fYe",
        "outputId": "d6c7ed90-8abb-409f-9432-c5ae6b0b31c5"
      },
      "execution_count": null,
      "outputs": [
        {
          "output_type": "execute_result",
          "data": {
            "text/plain": [
              "array([[0., 1., 0., 1., 0., 1., 0., 1.],\n",
              "       [1., 0., 1., 0., 1., 0., 1., 0.],\n",
              "       [0., 1., 0., 1., 0., 1., 0., 1.],\n",
              "       [1., 0., 1., 0., 1., 0., 1., 0.],\n",
              "       [0., 1., 0., 1., 0., 1., 0., 1.],\n",
              "       [1., 0., 1., 0., 1., 0., 1., 0.],\n",
              "       [0., 1., 0., 1., 0., 1., 0., 1.],\n",
              "       [1., 0., 1., 0., 1., 0., 1., 0.]])"
            ]
          },
          "metadata": {},
          "execution_count": 79
        }
      ]
    },
    {
      "cell_type": "markdown",
      "source": [
        "### boolearn 인덱싱\n",
        "- true 값만 출력"
      ],
      "metadata": {
        "id": "f2lyNs5MDVTK"
      }
    },
    {
      "cell_type": "code",
      "source": [
        "arr1>8 # True/False만 출력을 원하면"
      ],
      "metadata": {
        "colab": {
          "base_uri": "https://localhost:8080/"
        },
        "id": "sBmFgHwJ_hDn",
        "outputId": "c5d7dfb6-f4e2-49e7-99ad-7f28201b4cec"
      },
      "execution_count": null,
      "outputs": [
        {
          "output_type": "execute_result",
          "data": {
            "text/plain": [
              "array([[False, False, False, False],\n",
              "       [False, False, False, False],\n",
              "       [ True,  True,  True,  True],\n",
              "       [ True,  True,  True,  True]])"
            ]
          },
          "metadata": {},
          "execution_count": 88
        }
      ]
    },
    {
      "cell_type": "code",
      "source": [
        "arr1[arr1>8] # True/False값을 토대로 출력"
      ],
      "metadata": {
        "colab": {
          "base_uri": "https://localhost:8080/"
        },
        "id": "V9if2qrGDhUG",
        "outputId": "c3278e41-db59-4d8e-970b-6cceb353e47c"
      },
      "execution_count": null,
      "outputs": [
        {
          "output_type": "execute_result",
          "data": {
            "text/plain": [
              "array([ 9, 10, 11, 12, 13, 14, 15, 16])"
            ]
          },
          "metadata": {},
          "execution_count": 89
        }
      ]
    },
    {
      "cell_type": "markdown",
      "source": [
        "## **3.유용한 Numpy  함수**"
      ],
      "metadata": {
        "id": "AtcsPjv9E2aG"
      }
    },
    {
      "cell_type": "code",
      "source": [
        "# np.min() - 최솟값\n",
        "# np.max() - 최댓값\n",
        "# np.argmin() -최소 인덱스 값\n",
        "# np.argmax() - 최대 인덱스 값\n",
        "# np.sum() - 전체 합\n",
        "# np.mean() - 평균\n",
        "# np.where(arr2 == 7) - arr2 에서 7의 위치를 찾는다"
      ],
      "metadata": {
        "id": "z0EJxisaEXE_"
      },
      "execution_count": null,
      "outputs": []
    },
    {
      "cell_type": "markdown",
      "source": [
        "### diag 함수 2차원 행렬"
      ],
      "metadata": {
        "id": "QtDQ9aFnCfAY"
      }
    },
    {
      "cell_type": "code",
      "source": [
        "a = np.arange(1,10).reshape([3,3])\n",
        "np.diag(a)"
      ],
      "metadata": {
        "colab": {
          "base_uri": "https://localhost:8080/"
        },
        "id": "hpeaEMacCdwr",
        "outputId": "1344eb99-a1a4-4031-d364-f21e73a97d95"
      },
      "execution_count": null,
      "outputs": [
        {
          "output_type": "execute_result",
          "data": {
            "text/plain": [
              "array([1, 5, 9])"
            ]
          },
          "metadata": {},
          "execution_count": 4
        }
      ]
    },
    {
      "cell_type": "code",
      "source": [
        "np.diag([1,2,3,4], k=-1) # k-1 =  행을 하나 밑으로 내린다 "
      ],
      "metadata": {
        "colab": {
          "base_uri": "https://localhost:8080/"
        },
        "id": "KfSlMD2TCy1j",
        "outputId": "38cc16f6-cf7a-47bd-d7e3-1a91d1348678"
      },
      "execution_count": null,
      "outputs": [
        {
          "output_type": "execute_result",
          "data": {
            "text/plain": [
              "array([[0, 0, 0, 0, 0],\n",
              "       [1, 0, 0, 0, 0],\n",
              "       [0, 2, 0, 0, 0],\n",
              "       [0, 0, 3, 0, 0],\n",
              "       [0, 0, 0, 4, 0]])"
            ]
          },
          "metadata": {},
          "execution_count": 6
        }
      ]
    },
    {
      "cell_type": "markdown",
      "source": [
        "#### 배열 차원 변경"
      ],
      "metadata": {
        "id": "ExxgC1uNE9IF"
      }
    },
    {
      "cell_type": "code",
      "source": [
        "abc1 = np.arange(0,16)\n",
        "abc1"
      ],
      "metadata": {
        "colab": {
          "base_uri": "https://localhost:8080/"
        },
        "id": "NCGytwP4E8Dx",
        "outputId": "334d87bf-3c33-4fa9-a45e-0c4d13eec514"
      },
      "execution_count": null,
      "outputs": [
        {
          "output_type": "execute_result",
          "data": {
            "text/plain": [
              "array([ 0,  1,  2,  3,  4,  5,  6,  7,  8,  9, 10, 11, 12, 13, 14, 15])"
            ]
          },
          "metadata": {},
          "execution_count": 97
        }
      ]
    },
    {
      "cell_type": "code",
      "source": [
        "abc2 = abc1.reshape(4,-1)\n",
        "abc2"
      ],
      "metadata": {
        "colab": {
          "base_uri": "https://localhost:8080/"
        },
        "id": "8gQ_a10FFE7v",
        "outputId": "77b9792b-b805-4590-9b87-0bbe3f15a4b3"
      },
      "execution_count": null,
      "outputs": [
        {
          "output_type": "execute_result",
          "data": {
            "text/plain": [
              "array([[ 0,  1,  2,  3],\n",
              "       [ 4,  5,  6,  7],\n",
              "       [ 8,  9, 10, 11],\n",
              "       [12, 13, 14, 15]])"
            ]
          },
          "metadata": {},
          "execution_count": 102
        }
      ]
    },
    {
      "cell_type": "code",
      "source": [
        "abc2_2 = abc1.reshape(4,4)\n",
        "abc2_2"
      ],
      "metadata": {
        "colab": {
          "base_uri": "https://localhost:8080/"
        },
        "id": "gUJ_4VZlFOJt",
        "outputId": "f44c75e1-2d9b-4823-cecd-a8aae78e06d7"
      },
      "execution_count": null,
      "outputs": [
        {
          "output_type": "execute_result",
          "data": {
            "text/plain": [
              "array([[ 0,  1,  2,  3],\n",
              "       [ 4,  5,  6,  7],\n",
              "       [ 8,  9, 10, 11],\n",
              "       [12, 13, 14, 15]])"
            ]
          },
          "metadata": {},
          "execution_count": 104
        }
      ]
    },
    {
      "cell_type": "markdown",
      "source": [
        "## **4.정렬 함수**     "
      ],
      "metadata": {
        "id": "i_hf1wC1F9Q9"
      }
    },
    {
      "cell_type": "code",
      "source": [
        "arr = np.array([[11, 9, 11, 12], \n",
        "                [8, 9, 5, 7], \n",
        "                [3, 1, 2, 4],\n",
        "                [14, 16, 13, 15]])"
      ],
      "metadata": {
        "id": "Pg9NWbeVGW6T"
      },
      "execution_count": null,
      "outputs": []
    },
    {
      "cell_type": "code",
      "source": [
        "np.sort(arr, axis=0) # 위에서 아래로 높은순"
      ],
      "metadata": {
        "colab": {
          "base_uri": "https://localhost:8080/"
        },
        "id": "fA1kM2F7F6HW",
        "outputId": "bbdf124b-8c8b-44e8-aef8-fc83079f9427"
      },
      "execution_count": null,
      "outputs": [
        {
          "output_type": "execute_result",
          "data": {
            "text/plain": [
              "array([[ 3,  1,  2,  4],\n",
              "       [ 8,  9,  5,  7],\n",
              "       [11,  9, 11, 12],\n",
              "       [14, 16, 13, 15]])"
            ]
          },
          "metadata": {},
          "execution_count": 114
        }
      ]
    },
    {
      "cell_type": "code",
      "source": [
        "np.sort(arr, axis=0)[::-1] #위에서 아래로 낮음차순"
      ],
      "metadata": {
        "colab": {
          "base_uri": "https://localhost:8080/"
        },
        "id": "c4qZa_RLGJzU",
        "outputId": "8a5c6d12-46c7-43e4-c336-b4b342073303"
      },
      "execution_count": null,
      "outputs": [
        {
          "output_type": "execute_result",
          "data": {
            "text/plain": [
              "array([[14, 16, 13, 15],\n",
              "       [11,  9, 11, 12],\n",
              "       [ 8,  9,  5,  7],\n",
              "       [ 3,  1,  2,  4]])"
            ]
          },
          "metadata": {},
          "execution_count": 115
        }
      ]
    },
    {
      "cell_type": "code",
      "source": [
        "np.sort(arr, axis=1) # 왼쪽에서 오른쪽으로 높은 차순 정력"
      ],
      "metadata": {
        "colab": {
          "base_uri": "https://localhost:8080/"
        },
        "id": "9BbuaEzFG4C-",
        "outputId": "0944d5ac-d8ad-4a0d-92ce-216076b7ca28"
      },
      "execution_count": null,
      "outputs": [
        {
          "output_type": "execute_result",
          "data": {
            "text/plain": [
              "array([[ 9, 11, 11, 12],\n",
              "       [ 5,  7,  8,  9],\n",
              "       [ 1,  2,  3,  4],\n",
              "       [13, 14, 15, 16]])"
            ]
          },
          "metadata": {},
          "execution_count": 116
        }
      ]
    },
    {
      "cell_type": "code",
      "source": [
        "np.sort(arr, axis=1)[::-1] # 행 뒤집고 오름 차순"
      ],
      "metadata": {
        "colab": {
          "base_uri": "https://localhost:8080/"
        },
        "id": "AAqoZzGbHA_2",
        "outputId": "df45c871-c6c7-441d-c34b-723d00638e89"
      },
      "execution_count": null,
      "outputs": [
        {
          "output_type": "execute_result",
          "data": {
            "text/plain": [
              "array([[13, 14, 15, 16],\n",
              "       [ 1,  2,  3,  4],\n",
              "       [ 5,  7,  8,  9],\n",
              "       [ 9, 11, 11, 12]])"
            ]
          },
          "metadata": {},
          "execution_count": 117
        }
      ]
    },
    {
      "cell_type": "markdown",
      "source": [
        "## **5. 행렬 연산과 성능**"
      ],
      "metadata": {
        "id": "rTdr90lEJn9B"
      }
    },
    {
      "cell_type": "markdown",
      "source": [
        "### 행열(matrix)이란\n",
        "- 행과 열로 이루어진 `2차원` 배열을 행렬이라고 한다.\n",
        "- 대부분 정형 데이터 세트는 행렬 형태로 이루어져 있다.\n",
        "- 딥러닝 분석에서 가장 자주 쓰인다."
      ],
      "metadata": {
        "id": "kL10wVYUJwV1"
      }
    },
    {
      "cell_type": "markdown",
      "source": [
        "### 행렬의 기본 연산\n",
        "-행렬의 덧셈과 뺼셈\n",
        "<br>\n",
        "    -> 연산되는 두 행렬의 차원이 같아야 한다."
      ],
      "metadata": {
        "id": "4ZcUlhGuKFI5"
      }
    },
    {
      "cell_type": "code",
      "source": [
        "a = np.arange(1,17).reshape([4,4])\n",
        "b = np.arange(1,17).reshape([4,4])\n",
        "np.shape(a), np.shape(b)"
      ],
      "metadata": {
        "id": "MQmxKStqHIVs",
        "colab": {
          "base_uri": "https://localhost:8080/"
        },
        "outputId": "032ea852-47e3-4e96-ffca-fd80dad247ef"
      },
      "execution_count": null,
      "outputs": [
        {
          "output_type": "execute_result",
          "data": {
            "text/plain": [
              "((4, 4), (4, 4))"
            ]
          },
          "metadata": {},
          "execution_count": 8
        }
      ]
    },
    {
      "cell_type": "markdown",
      "source": [
        "-행렬의 곱셈과 나눗셈\n",
        "> Element-wise 연산 : 연산되는 두 행렬의 차원이 같아야 함\n",
        "<br>\n",
        "> 내적 연산(Dot Product) : 연산되는 앞행렬(열)과 뒤행렬(행) 차원이 같아야합니다.\n",
        "\n"
      ],
      "metadata": {
        "id": "K_ouubYLKzJL"
      }
    },
    {
      "cell_type": "code",
      "source": [
        "a * b # ELement-wise"
      ],
      "metadata": {
        "colab": {
          "base_uri": "https://localhost:8080/"
        },
        "id": "2JTEMpKjKjky",
        "outputId": "25d03b59-00ab-4f08-9204-483ae8395dd2"
      },
      "execution_count": null,
      "outputs": [
        {
          "output_type": "execute_result",
          "data": {
            "text/plain": [
              "array([[  1,   4,   9,  16],\n",
              "       [ 25,  36,  49,  64],\n",
              "       [ 81, 100, 121, 144],\n",
              "       [169, 196, 225, 256]])"
            ]
          },
          "metadata": {},
          "execution_count": 9
        }
      ]
    },
    {
      "cell_type": "code",
      "source": [
        "arr = np.arange(1,7).reshape([2,3])\n",
        "arr2 = np.arange(7, 13).reshape([3,2])\n",
        "print(np.array(arr))\n",
        "print(np.array(arr2))"
      ],
      "metadata": {
        "colab": {
          "base_uri": "https://localhost:8080/"
        },
        "id": "JytrgOmOKr0X",
        "outputId": "5fd89f32-9702-4dc8-a5cb-934ae573cbd9"
      },
      "execution_count": null,
      "outputs": [
        {
          "output_type": "stream",
          "name": "stdout",
          "text": [
            "[[1 2 3]\n",
            " [4 5 6]]\n",
            "[[ 7  8]\n",
            " [ 9 10]\n",
            " [11 12]]\n"
          ]
        }
      ]
    },
    {
      "cell_type": "code",
      "source": [
        "np.dot(arr, arr2)    # 내적연산"
      ],
      "metadata": {
        "colab": {
          "base_uri": "https://localhost:8080/"
        },
        "id": "ny1WFULrLJv6",
        "outputId": "99e0bbc3-83c3-440a-efac-893aa448e348"
      },
      "execution_count": null,
      "outputs": [
        {
          "output_type": "execute_result",
          "data": {
            "text/plain": [
              "array([[ 58,  64],\n",
              "       [139, 154]])"
            ]
          },
          "metadata": {},
          "execution_count": 13
        }
      ]
    },
    {
      "cell_type": "markdown",
      "source": [
        "<br>\n",
        "58= (1 * 7)+(2 * 9)+ (3*11)\n",
        "<br>\n",
        "64 =(1 * 8)+(2 * 10)+ (3*12)\n",
        "<br>\n",
        "139 = (4 * 7)+(5 * 9)+ (6*11)\n",
        "<br>\n",
        "154 = (4 * 8)+(5 * 10)+ (6*12)"
      ],
      "metadata": {
        "id": "4vfM3f0hLv5P"
      }
    },
    {
      "cell_type": "markdown",
      "source": [
        "### 행렬 집계 함수\n",
        ">- 합계(`np.sum`), 최대(`np.max`), 최소(`np.min`), 평균(`np.mean`), 표준편차(`np.std`)\n"
      ],
      "metadata": {
        "id": "4ziEkjyUMxxJ"
      }
    },
    {
      "cell_type": "code",
      "source": [
        "arr = np.arange(1,17).reshape([4,4])\n",
        "arr"
      ],
      "metadata": {
        "colab": {
          "base_uri": "https://localhost:8080/"
        },
        "id": "uvz-TR_LMNNp",
        "outputId": "8760d606-99aa-409a-add0-f711b5c8e08b"
      },
      "execution_count": null,
      "outputs": [
        {
          "output_type": "execute_result",
          "data": {
            "text/plain": [
              "array([[ 1,  2,  3,  4],\n",
              "       [ 5,  6,  7,  8],\n",
              "       [ 9, 10, 11, 12],\n",
              "       [13, 14, 15, 16]])"
            ]
          },
          "metadata": {},
          "execution_count": 22
        }
      ]
    },
    {
      "cell_type": "code",
      "source": [
        "#합계 - 전체\n",
        "np.sum(arr)"
      ],
      "metadata": {
        "colab": {
          "base_uri": "https://localhost:8080/"
        },
        "id": "6Snu9R1tNNhP",
        "outputId": "3b8b1032-bdf3-4ab3-aeac-4407a0c44cb4"
      },
      "execution_count": null,
      "outputs": [
        {
          "output_type": "execute_result",
          "data": {
            "text/plain": [
              "136"
            ]
          },
          "metadata": {},
          "execution_count": 20
        }
      ]
    },
    {
      "cell_type": "code",
      "source": [
        "#합계 -행방향(위에서 아래로)\n",
        "np.sum(arr, axis=0)"
      ],
      "metadata": {
        "colab": {
          "base_uri": "https://localhost:8080/"
        },
        "id": "ep_51XlrNP2-",
        "outputId": "6b4db5c8-8367-40bd-e896-2ce0201cdc7c"
      },
      "execution_count": null,
      "outputs": [
        {
          "output_type": "execute_result",
          "data": {
            "text/plain": [
              "array([28, 32, 36, 40])"
            ]
          },
          "metadata": {},
          "execution_count": 21
        }
      ]
    },
    {
      "cell_type": "code",
      "source": [
        "# 합계 - 열방향 (왼쪽에서 오른쪽으로)\n",
        "np.sum(arr, axis=1)"
      ],
      "metadata": {
        "colab": {
          "base_uri": "https://localhost:8080/"
        },
        "id": "OMbQYH2ONTdX",
        "outputId": "ab803d50-37c1-4839-b74e-fe2b62194c30"
      },
      "execution_count": null,
      "outputs": [
        {
          "output_type": "execute_result",
          "data": {
            "text/plain": [
              "array([10, 26, 42, 58])"
            ]
          },
          "metadata": {},
          "execution_count": 23
        }
      ]
    },
    {
      "cell_type": "markdown",
      "source": [
        "### Broadcasting 연산\n",
        "- 저차원 배열의 `연산`을 `고차원` 배열로 확장시키는 의미\n",
        "- `주의사항` 행과 열의 길이는 일치 해주어야 한다."
      ],
      "metadata": {
        "id": "vjE9EeUjNhA3"
      }
    },
    {
      "cell_type": "code",
      "source": [
        "arr3d = np.array([[[0,1],[2,3],[4,5],[6,7]], [[8,9],[10,11],[12,13],[14,15]], [[16,17],[18,19],[20,21],[22,23]]])\n",
        "arr2d = np.array([[0,1],[2,3],[4,5],[6,7]])\n",
        "np.shape(arr3d), np.shape(arr2d)"
      ],
      "metadata": {
        "colab": {
          "base_uri": "https://localhost:8080/"
        },
        "id": "TDQqYtR_Nbgv",
        "outputId": "f37830cd-df76-4fcc-dfb1-30ef3b01c532"
      },
      "execution_count": null,
      "outputs": [
        {
          "output_type": "execute_result",
          "data": {
            "text/plain": [
              "((3, 4, 2), (4, 2))"
            ]
          },
          "metadata": {},
          "execution_count": 24
        }
      ]
    },
    {
      "cell_type": "code",
      "source": [
        "np.array(arr3d)"
      ],
      "metadata": {
        "colab": {
          "base_uri": "https://localhost:8080/"
        },
        "id": "aDReCG3QNtkp",
        "outputId": "2ee0cc30-0827-4f96-e7db-4ec4a0bc9f59"
      },
      "execution_count": null,
      "outputs": [
        {
          "output_type": "execute_result",
          "data": {
            "text/plain": [
              "array([[[ 0,  1],\n",
              "        [ 2,  3],\n",
              "        [ 4,  5],\n",
              "        [ 6,  7]],\n",
              "\n",
              "       [[ 8,  9],\n",
              "        [10, 11],\n",
              "        [12, 13],\n",
              "        [14, 15]],\n",
              "\n",
              "       [[16, 17],\n",
              "        [18, 19],\n",
              "        [20, 21],\n",
              "        [22, 23]]])"
            ]
          },
          "metadata": {},
          "execution_count": 26
        }
      ]
    },
    {
      "cell_type": "code",
      "source": [
        "np.array(arr2d)"
      ],
      "metadata": {
        "colab": {
          "base_uri": "https://localhost:8080/"
        },
        "id": "dQR--uHjNyL3",
        "outputId": "3c397bb3-5ac8-4a86-b41a-648c075a7aaf"
      },
      "execution_count": null,
      "outputs": [
        {
          "output_type": "execute_result",
          "data": {
            "text/plain": [
              "array([[0, 1],\n",
              "       [2, 3],\n",
              "       [4, 5],\n",
              "       [6, 7]])"
            ]
          },
          "metadata": {},
          "execution_count": 27
        }
      ]
    },
    {
      "cell_type": "code",
      "source": [
        "# 고차원으로 맞춰서 연산 \n",
        "arr3d + arr2d"
      ],
      "metadata": {
        "colab": {
          "base_uri": "https://localhost:8080/"
        },
        "id": "-9R2n_ghN4Bf",
        "outputId": "5ad5320c-9e91-4d22-fd3d-41200d3cfd79"
      },
      "execution_count": null,
      "outputs": [
        {
          "output_type": "execute_result",
          "data": {
            "text/plain": [
              "array([[[ 0,  2],\n",
              "        [ 4,  6],\n",
              "        [ 8, 10],\n",
              "        [12, 14]],\n",
              "\n",
              "       [[ 8, 10],\n",
              "        [12, 14],\n",
              "        [16, 18],\n",
              "        [20, 22]],\n",
              "\n",
              "       [[16, 18],\n",
              "        [20, 22],\n",
              "        [24, 26],\n",
              "        [28, 30]]])"
            ]
          },
          "metadata": {},
          "execution_count": 28
        }
      ]
    },
    {
      "cell_type": "code",
      "source": [
        "#모든 값에 사칙연상을 진행한다.\n",
        "arr2d + 10"
      ],
      "metadata": {
        "colab": {
          "base_uri": "https://localhost:8080/"
        },
        "id": "VSRCUS6zN6bX",
        "outputId": "d9312efa-4ce8-49e5-efa0-88913080eb1a"
      },
      "execution_count": null,
      "outputs": [
        {
          "output_type": "execute_result",
          "data": {
            "text/plain": [
              "array([[10, 11],\n",
              "       [12, 13],\n",
              "       [14, 15],\n",
              "       [16, 17]])"
            ]
          },
          "metadata": {},
          "execution_count": 29
        }
      ]
    },
    {
      "cell_type": "code",
      "source": [
        "arr2d * 10"
      ],
      "metadata": {
        "colab": {
          "base_uri": "https://localhost:8080/"
        },
        "id": "xyVJ3s-MN9xJ",
        "outputId": "3157d62c-a1e0-4611-e7f7-5157836f17ba"
      },
      "execution_count": null,
      "outputs": [
        {
          "output_type": "execute_result",
          "data": {
            "text/plain": [
              "array([[ 0, 10],\n",
              "       [20, 30],\n",
              "       [40, 50],\n",
              "       [60, 70]])"
            ]
          },
          "metadata": {},
          "execution_count": 30
        }
      ]
    },
    {
      "cell_type": "code",
      "source": [
        "arr2d / 10"
      ],
      "metadata": {
        "colab": {
          "base_uri": "https://localhost:8080/"
        },
        "id": "VKjnF-qnOFT4",
        "outputId": "bd003839-e190-442c-b438-5aa3f5ecce36"
      },
      "execution_count": null,
      "outputs": [
        {
          "output_type": "execute_result",
          "data": {
            "text/plain": [
              "array([[0. , 0.1],\n",
              "       [0.2, 0.3],\n",
              "       [0.4, 0.5],\n",
              "       [0.6, 0.7]])"
            ]
          },
          "metadata": {},
          "execution_count": 31
        }
      ]
    },
    {
      "cell_type": "code",
      "source": [],
      "metadata": {
        "id": "m3tB8n5NOF5-"
      },
      "execution_count": null,
      "outputs": []
    }
  ]
}