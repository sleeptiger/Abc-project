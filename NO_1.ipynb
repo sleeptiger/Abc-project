{
  "nbformat": 4,
  "nbformat_minor": 0,
  "metadata": {
    "colab": {
      "name": "NO_1.ipynb",
      "provenance": [],
      "toc_visible": true,
      "authorship_tag": "ABX9TyMZlV73CJM/oOkfiBxTQq4B",
      "include_colab_link": true
    },
    "kernelspec": {
      "name": "python3",
      "display_name": "Python 3"
    },
    "language_info": {
      "name": "python"
    }
  },
  "cells": [
    {
      "cell_type": "markdown",
      "metadata": {
        "id": "view-in-github",
        "colab_type": "text"
      },
      "source": [
        "<a href=\"https://colab.research.google.com/github/sleeptiger/Abc-project/blob/main/NO_1.ipynb\" target=\"_parent\"><img src=\"https://colab.research.google.com/assets/colab-badge.svg\" alt=\"Open In Colab\"/></a>"
      ]
    },
    {
      "cell_type": "markdown",
      "source": [
        "# list\n",
        "---\n",
        "[ ] -list (수정, 삽입, 삭제 가능)"
      ],
      "metadata": {
        "id": "d27rm5krM355"
      }
    },
    {
      "cell_type": "code",
      "execution_count": null,
      "metadata": {
        "id": "GUhV5JadMrYx"
      },
      "outputs": [],
      "source": [
        "a = [1,2,3]"
      ]
    },
    {
      "cell_type": "code",
      "source": [
        "a.append(5)\n",
        "a.append(9)\n",
        "a.append(4)\n",
        "a.append(8)"
      ],
      "metadata": {
        "id": "4D3Xc3APOs6Y"
      },
      "execution_count": null,
      "outputs": []
    },
    {
      "cell_type": "code",
      "source": [
        "b= [a, 4]"
      ],
      "metadata": {
        "id": "ypyB09OfM8cy"
      },
      "execution_count": null,
      "outputs": []
    },
    {
      "cell_type": "code",
      "source": [
        "print(b)"
      ],
      "metadata": {
        "colab": {
          "base_uri": "https://localhost:8080/"
        },
        "id": "dOwxLKMMM-xy",
        "outputId": "742eeced-03d5-4ce1-9c91-f3dfffb7538b"
      },
      "execution_count": null,
      "outputs": [
        {
          "output_type": "stream",
          "name": "stdout",
          "text": [
            "[[1, 2, 3], 4]\n"
          ]
        }
      ]
    },
    {
      "cell_type": "code",
      "source": [
        "b[0]"
      ],
      "metadata": {
        "colab": {
          "base_uri": "https://localhost:8080/"
        },
        "id": "NYwOgMHbM_4w",
        "outputId": "1ec92743-1cf6-42e9-b084-e748a30e1390"
      },
      "execution_count": null,
      "outputs": [
        {
          "output_type": "execute_result",
          "data": {
            "text/plain": [
              "[1, 2, 3]"
            ]
          },
          "metadata": {},
          "execution_count": 4
        }
      ]
    },
    {
      "cell_type": "code",
      "source": [
        "b[0][-1]"
      ],
      "metadata": {
        "colab": {
          "base_uri": "https://localhost:8080/"
        },
        "id": "1U0xJN-GNBej",
        "outputId": "2ccf3094-a986-46dd-acd6-42cad2e9db64"
      },
      "execution_count": null,
      "outputs": [
        {
          "output_type": "execute_result",
          "data": {
            "text/plain": [
              "3"
            ]
          },
          "metadata": {},
          "execution_count": 5
        }
      ]
    },
    {
      "cell_type": "code",
      "source": [
        "b.insert(0,4)   # b.insert(a,b) a= 들어갈 위치/ b = 넣고 싶은 value\n",
        "print(b)"
      ],
      "metadata": {
        "colab": {
          "base_uri": "https://localhost:8080/"
        },
        "id": "kk1fPcNVNsec",
        "outputId": "723ffc50-d9bf-47c6-d1b6-5846b600ecf1"
      },
      "execution_count": null,
      "outputs": [
        {
          "output_type": "stream",
          "name": "stdout",
          "text": [
            "[[1, 2, 3], 4]\n"
          ]
        }
      ]
    },
    {
      "cell_type": "code",
      "source": [
        "print(a)\n",
        "a.sort(reverse=True)\n",
        "print(a)"
      ],
      "metadata": {
        "colab": {
          "base_uri": "https://localhost:8080/"
        },
        "id": "akJn0x1ONDLQ",
        "outputId": "91f17e4d-3fd7-451d-8738-0f39231643ab"
      },
      "execution_count": null,
      "outputs": [
        {
          "output_type": "stream",
          "name": "stdout",
          "text": [
            "[1, 2, 3, 5, 5, 9, 4, 8]\n",
            "[9, 8, 5, 5, 4, 3, 2, 1]\n"
          ]
        }
      ]
    },
    {
      "cell_type": "markdown",
      "source": [
        "# 튜블형\n",
        "---\n",
        "(  ) - 튜블 - tuple(수정, 삽입, 삭제 X, 읽기 전용"
      ],
      "metadata": {
        "id": "L81bv2FFPlCp"
      }
    },
    {
      "cell_type": "code",
      "source": [
        "a=(1,2,3)\n",
        "print(type(a))"
      ],
      "metadata": {
        "colab": {
          "base_uri": "https://localhost:8080/"
        },
        "id": "dwq5QNoUNsMQ",
        "outputId": "0374a40b-d802-436b-d761-88f140e775ea"
      },
      "execution_count": null,
      "outputs": [
        {
          "output_type": "stream",
          "name": "stdout",
          "text": [
            "<class 'tuple'>\n"
          ]
        }
      ]
    },
    {
      "cell_type": "code",
      "source": [
        "a.append(4) # 추가 삽입 불가능 (튜플이니까)"
      ],
      "metadata": {
        "colab": {
          "base_uri": "https://localhost:8080/",
          "height": 166
        },
        "id": "TbYI_KuBQB0J",
        "outputId": "905ffb2b-e61b-4703-b4d4-30c9502a1a53"
      },
      "execution_count": null,
      "outputs": [
        {
          "output_type": "error",
          "ename": "AttributeError",
          "evalue": "ignored",
          "traceback": [
            "\u001b[0;31m---------------------------------------------------------------------------\u001b[0m",
            "\u001b[0;31mAttributeError\u001b[0m                            Traceback (most recent call last)",
            "\u001b[0;32m<ipython-input-28-a39724ffcd65>\u001b[0m in \u001b[0;36m<module>\u001b[0;34m\u001b[0m\n\u001b[0;32m----> 1\u001b[0;31m \u001b[0ma\u001b[0m\u001b[0;34m.\u001b[0m\u001b[0mappend\u001b[0m\u001b[0;34m(\u001b[0m\u001b[0;36m4\u001b[0m\u001b[0;34m)\u001b[0m\u001b[0;34m\u001b[0m\u001b[0;34m\u001b[0m\u001b[0m\n\u001b[0m",
            "\u001b[0;31mAttributeError\u001b[0m: 'tuple' object has no attribute 'append'"
          ]
        }
      ]
    },
    {
      "cell_type": "code",
      "source": [
        "a.remove(3) # 삭제도 불가능(튜플이니까)"
      ],
      "metadata": {
        "colab": {
          "base_uri": "https://localhost:8080/",
          "height": 166
        },
        "id": "wsrL44vUQEJj",
        "outputId": "610ae384-e55c-4c31-a5fa-86447b98b2f0"
      },
      "execution_count": null,
      "outputs": [
        {
          "output_type": "error",
          "ename": "AttributeError",
          "evalue": "ignored",
          "traceback": [
            "\u001b[0;31m---------------------------------------------------------------------------\u001b[0m",
            "\u001b[0;31mAttributeError\u001b[0m                            Traceback (most recent call last)",
            "\u001b[0;32m<ipython-input-29-fe741f3ae678>\u001b[0m in \u001b[0;36m<module>\u001b[0;34m\u001b[0m\n\u001b[0;32m----> 1\u001b[0;31m \u001b[0ma\u001b[0m\u001b[0;34m.\u001b[0m\u001b[0mremove\u001b[0m\u001b[0;34m(\u001b[0m\u001b[0;36m3\u001b[0m\u001b[0;34m)\u001b[0m\u001b[0;34m\u001b[0m\u001b[0;34m\u001b[0m\u001b[0m\n\u001b[0m",
            "\u001b[0;31mAttributeError\u001b[0m: 'tuple' object has no attribute 'remove'"
          ]
        }
      ]
    },
    {
      "cell_type": "code",
      "source": [
        "a[0] = 4 # 대체도 불가능 (튜플이니까)"
      ],
      "metadata": {
        "colab": {
          "base_uri": "https://localhost:8080/",
          "height": 166
        },
        "id": "PFMRa_-kQFgr",
        "outputId": "b5e7130d-96f9-4218-8038-0f5622208806"
      },
      "execution_count": null,
      "outputs": [
        {
          "output_type": "error",
          "ename": "TypeError",
          "evalue": "ignored",
          "traceback": [
            "\u001b[0;31m---------------------------------------------------------------------------\u001b[0m",
            "\u001b[0;31mTypeError\u001b[0m                                 Traceback (most recent call last)",
            "\u001b[0;32m<ipython-input-30-21fac9e05986>\u001b[0m in \u001b[0;36m<module>\u001b[0;34m\u001b[0m\n\u001b[0;32m----> 1\u001b[0;31m \u001b[0ma\u001b[0m\u001b[0;34m[\u001b[0m\u001b[0;36m0\u001b[0m\u001b[0;34m]\u001b[0m \u001b[0;34m=\u001b[0m \u001b[0;36m4\u001b[0m\u001b[0;34m\u001b[0m\u001b[0;34m\u001b[0m\u001b[0m\n\u001b[0m",
            "\u001b[0;31mTypeError\u001b[0m: 'tuple' object does not support item assignment"
          ]
        }
      ]
    },
    {
      "cell_type": "markdown",
      "source": [
        "# 딕셔너리\n",
        "---\n",
        "{ } - dict"
      ],
      "metadata": {
        "id": "dsEhfvYmSWzN"
      }
    },
    {
      "cell_type": "code",
      "source": [
        "a = {'Bulldog': 'dog', 'Munchkin' : 'cat'}    # {key : value}"
      ],
      "metadata": {
        "id": "XH_ul05mQHGA"
      },
      "execution_count": null,
      "outputs": []
    },
    {
      "cell_type": "code",
      "source": [
        "a.keys() # 키 값을 리스트로 소환 할때는 소문자"
      ],
      "metadata": {
        "colab": {
          "base_uri": "https://localhost:8080/"
        },
        "id": "0vgjaFSbSmVG",
        "outputId": "24ffce93-12e9-47c5-9a36-22c23540b39b"
      },
      "execution_count": null,
      "outputs": [
        {
          "output_type": "execute_result",
          "data": {
            "text/plain": [
              "dict_keys(['Bulldog', 'Munchkin'])"
            ]
          },
          "metadata": {},
          "execution_count": 41
        }
      ]
    },
    {
      "cell_type": "code",
      "source": [
        "a['Bulldog'] # key 대괄호 안에 넣어주기"
      ],
      "metadata": {
        "colab": {
          "base_uri": "https://localhost:8080/",
          "height": 35
        },
        "id": "K3Gq8xCUT5ML",
        "outputId": "b26d6fc8-f16b-4236-dbb3-72050cc8bfb6"
      },
      "execution_count": null,
      "outputs": [
        {
          "output_type": "execute_result",
          "data": {
            "text/plain": [
              "'dog'"
            ],
            "application/vnd.google.colaboratory.intrinsic+json": {
              "type": "string"
            }
          },
          "metadata": {},
          "execution_count": 39
        }
      ]
    },
    {
      "cell_type": "code",
      "source": [
        "a['marchine'] = 'dog' # a 딕셔너리에 key: marchine, value = dog 삽입"
      ],
      "metadata": {
        "id": "T7hJkxm4UL1V"
      },
      "execution_count": null,
      "outputs": []
    },
    {
      "cell_type": "code",
      "source": [
        "a"
      ],
      "metadata": {
        "colab": {
          "base_uri": "https://localhost:8080/"
        },
        "id": "CLr8WGSnUbop",
        "outputId": "9be0a02a-2a6d-4248-fbe2-543568100c46"
      },
      "execution_count": null,
      "outputs": [
        {
          "output_type": "execute_result",
          "data": {
            "text/plain": [
              "{'Bulldog': 'dog', 'Munchkin': 'cat', 'marchine': 'dog'}"
            ]
          },
          "metadata": {},
          "execution_count": 43
        }
      ]
    },
    {
      "cell_type": "code",
      "source": [
        "a['marchine'] = 'cat' # marchine의 value의 값 변경"
      ],
      "metadata": {
        "id": "brhF1_CFUmAW"
      },
      "execution_count": null,
      "outputs": []
    },
    {
      "cell_type": "code",
      "source": [
        "a"
      ],
      "metadata": {
        "colab": {
          "base_uri": "https://localhost:8080/"
        },
        "id": "y91H2ntOUru1",
        "outputId": "359ab995-b913-463a-ad7d-b349214b485e"
      },
      "execution_count": null,
      "outputs": [
        {
          "output_type": "execute_result",
          "data": {
            "text/plain": [
              "{'Bulldog': 'dog', 'Munchkin': 'cat', 'marchine': 'cat'}"
            ]
          },
          "metadata": {},
          "execution_count": 45
        }
      ]
    },
    {
      "cell_type": "code",
      "source": [
        "del a['marchine'] # marchine의 key, value의 값 삭제\n",
        "print(a)"
      ],
      "metadata": {
        "colab": {
          "base_uri": "https://localhost:8080/"
        },
        "id": "uDE6xSghUsiF",
        "outputId": "02e6149c-9b14-4031-d18d-69c1a44cf13e"
      },
      "execution_count": null,
      "outputs": [
        {
          "output_type": "stream",
          "name": "stdout",
          "text": [
            "{'Bulldog': 'dog', 'Munchkin': 'cat'}\n"
          ]
        }
      ]
    },
    {
      "cell_type": "markdown",
      "source": [
        "# 집합\n",
        "---\n",
        "1. 집합형과 딕셔너리의 공통점 : { } \n",
        "\n",
        "*   집합형 - {1,2,3,4,5,6} = 순서X, 중북X, type = (set)\n",
        "*   딕셔너리 - {‘bulldogs’ : ‘dog’, ‘man chicken’ : ‘cat’}   type=dict\n",
        "\n",
        "\n",
        "\n",
        "\n"
      ],
      "metadata": {
        "id": "1vFhQXE_WLTS"
      }
    },
    {
      "cell_type": "code",
      "source": [
        "a= {1,2,3,4,5,6,7}\n",
        "b= {4,5,6,7,8,9,10}"
      ],
      "metadata": {
        "id": "1niBrw7IUzTh"
      },
      "execution_count": null,
      "outputs": []
    },
    {
      "cell_type": "code",
      "source": [
        "print(a & b) #교집합\n",
        "print(a | b) # 합집합\n",
        "print(a - b) # 차집합"
      ],
      "metadata": {
        "colab": {
          "base_uri": "https://localhost:8080/"
        },
        "id": "cJr1gf2tXCil",
        "outputId": "eb0a802a-acdd-4002-8cca-c991d562eb74"
      },
      "execution_count": null,
      "outputs": [
        {
          "output_type": "stream",
          "name": "stdout",
          "text": [
            "{4, 5, 6, 7}\n",
            "{1, 2, 3, 4, 5, 6, 7, 8, 9, 10}\n",
            "{1, 2, 3}\n"
          ]
        }
      ]
    },
    {
      "cell_type": "code",
      "source": [
        "a = {1,2,3,4,5}\n",
        "print(type(a))  # ---- type = set\n",
        "a = list(a) # ----- 입의로 type set -> list 로 변경\n",
        "print(type(a))"
      ],
      "metadata": {
        "colab": {
          "base_uri": "https://localhost:8080/"
        },
        "id": "Mhuiv_01XFdo",
        "outputId": "1b212fae-a011-4134-b7c3-34dc31cd25f9"
      },
      "execution_count": null,
      "outputs": [
        {
          "output_type": "stream",
          "name": "stdout",
          "text": [
            "<class 'set'>\n",
            "<class 'list'>\n"
          ]
        }
      ]
    },
    {
      "cell_type": "code",
      "source": [],
      "metadata": {
        "id": "f3xuIl2IXVdN"
      },
      "execution_count": null,
      "outputs": []
    }
  ]
}