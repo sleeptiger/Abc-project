{
  "nbformat": 4,
  "nbformat_minor": 0,
  "metadata": {
    "colab": {
      "provenance": [],
      "collapsed_sections": [],
      "authorship_tag": "ABX9TyNcYlx4fRUvps7ZUsdWDpjw",
      "include_colab_link": true
    },
    "kernelspec": {
      "name": "python3",
      "display_name": "Python 3"
    },
    "language_info": {
      "name": "python"
    }
  },
  "cells": [
    {
      "cell_type": "markdown",
      "metadata": {
        "id": "view-in-github",
        "colab_type": "text"
      },
      "source": [
        "<a href=\"https://colab.research.google.com/github/sleeptiger/Abc-project/blob/main/%EB%A8%B8%EC%8B%A0%EB%9F%AC%EB%8B%9DL.ipynb\" target=\"_parent\"><img src=\"https://colab.research.google.com/assets/colab-badge.svg\" alt=\"Open In Colab\"/></a>"
      ]
    },
    {
      "cell_type": "markdown",
      "source": [
        "# 머신러닝 기초"
      ],
      "metadata": {
        "id": "vRyk34T9OeJd"
      }
    },
    {
      "cell_type": "markdown",
      "source": [
        "## 머신러닝이란?"
      ],
      "metadata": {
        "id": "tX80P3i5Oh1S"
      }
    },
    {
      "cell_type": "markdown",
      "source": [
        "1. 묘사분석(어떤 일이 생겼는가?)\n",
        "2. 진단 분석(왜 이 일이 생겼는가?)\n",
        "3. 예측 분석(미래에 무슨일이 생길까?)\n",
        "4. 처방 분석(무엇을 행동해야하는가?)\n",
        "\n",
        "- 3번4번이 머신러닝을 활용하는 단계 분석"
      ],
      "metadata": {
        "id": "JNWbFON2OkWK"
      }
    },
    {
      "cell_type": "markdown",
      "source": [
        "- 머신러닝으로 할 수 있는 것들\n",
        "> - 분류, 예측 분석\n",
        "> - 이미지 인식\n",
        "> - 음성, 테스트 인식\n",
        "> - 추천 시스템\n"
      ],
      "metadata": {
        "id": "pdC8mQ2HPBmt"
      }
    },
    {
      "cell_type": "markdown",
      "source": [
        "## 전처리 기본(정규화, 표준화, 범주형 데이터, 학습/테스트 세트 분할)\n"
      ],
      "metadata": {
        "id": "mc7i_scQp5ai"
      }
    },
    {
      "cell_type": "markdown",
      "source": [
        "- 머신러닝의 가장 중요한 부분은 **데이터 전처리**입니다.\n",
        "- 데이터 분석가의 머신러닝 모델의 성능을 활성하기 위한 작업중 70%이상이 전처리 부분에 해당합니다.\n",
        "- 전처리 작업에는 **결측값 처리, 정규화, 표준화(수치형), 범주형 데이터의 수치형 변환, 학습/테스트 분할, Feature Engineering emd**이 있다."
      ],
      "metadata": {
        "id": "1OlKZKzFp_7j"
      }
    },
    {
      "cell_type": "code",
      "execution_count": 2,
      "metadata": {
        "id": "9tDVkfkTN7ky"
      },
      "outputs": [],
      "source": [
        "import matplotlib.pylab as plt\n",
        "import seaborn as sns\n",
        "import numpy as np\n",
        "import pandas as pd"
      ]
    },
    {
      "cell_type": "code",
      "source": [
        "penguins = sns.load_dataset('penguins')\n",
        "penguins.head()"
      ],
      "metadata": {
        "colab": {
          "base_uri": "https://localhost:8080/",
          "height": 268
        },
        "id": "gCU4WnlXqgjJ",
        "outputId": "b9ed846a-e78f-4798-a460-b41db4919e88"
      },
      "execution_count": 3,
      "outputs": [
        {
          "output_type": "execute_result",
          "data": {
            "text/plain": [
              "  species     island  bill_length_mm  bill_depth_mm  flipper_length_mm  \\\n",
              "0  Adelie  Torgersen            39.1           18.7              181.0   \n",
              "1  Adelie  Torgersen            39.5           17.4              186.0   \n",
              "2  Adelie  Torgersen            40.3           18.0              195.0   \n",
              "3  Adelie  Torgersen             NaN            NaN                NaN   \n",
              "4  Adelie  Torgersen            36.7           19.3              193.0   \n",
              "\n",
              "   body_mass_g     sex  \n",
              "0       3750.0    Male  \n",
              "1       3800.0  Female  \n",
              "2       3250.0  Female  \n",
              "3          NaN     NaN  \n",
              "4       3450.0  Female  "
            ],
            "text/html": [
              "\n",
              "  <div id=\"df-4fc3d543-8f57-4419-9e24-868af9002467\">\n",
              "    <div class=\"colab-df-container\">\n",
              "      <div>\n",
              "<style scoped>\n",
              "    .dataframe tbody tr th:only-of-type {\n",
              "        vertical-align: middle;\n",
              "    }\n",
              "\n",
              "    .dataframe tbody tr th {\n",
              "        vertical-align: top;\n",
              "    }\n",
              "\n",
              "    .dataframe thead th {\n",
              "        text-align: right;\n",
              "    }\n",
              "</style>\n",
              "<table border=\"1\" class=\"dataframe\">\n",
              "  <thead>\n",
              "    <tr style=\"text-align: right;\">\n",
              "      <th></th>\n",
              "      <th>species</th>\n",
              "      <th>island</th>\n",
              "      <th>bill_length_mm</th>\n",
              "      <th>bill_depth_mm</th>\n",
              "      <th>flipper_length_mm</th>\n",
              "      <th>body_mass_g</th>\n",
              "      <th>sex</th>\n",
              "    </tr>\n",
              "  </thead>\n",
              "  <tbody>\n",
              "    <tr>\n",
              "      <th>0</th>\n",
              "      <td>Adelie</td>\n",
              "      <td>Torgersen</td>\n",
              "      <td>39.1</td>\n",
              "      <td>18.7</td>\n",
              "      <td>181.0</td>\n",
              "      <td>3750.0</td>\n",
              "      <td>Male</td>\n",
              "    </tr>\n",
              "    <tr>\n",
              "      <th>1</th>\n",
              "      <td>Adelie</td>\n",
              "      <td>Torgersen</td>\n",
              "      <td>39.5</td>\n",
              "      <td>17.4</td>\n",
              "      <td>186.0</td>\n",
              "      <td>3800.0</td>\n",
              "      <td>Female</td>\n",
              "    </tr>\n",
              "    <tr>\n",
              "      <th>2</th>\n",
              "      <td>Adelie</td>\n",
              "      <td>Torgersen</td>\n",
              "      <td>40.3</td>\n",
              "      <td>18.0</td>\n",
              "      <td>195.0</td>\n",
              "      <td>3250.0</td>\n",
              "      <td>Female</td>\n",
              "    </tr>\n",
              "    <tr>\n",
              "      <th>3</th>\n",
              "      <td>Adelie</td>\n",
              "      <td>Torgersen</td>\n",
              "      <td>NaN</td>\n",
              "      <td>NaN</td>\n",
              "      <td>NaN</td>\n",
              "      <td>NaN</td>\n",
              "      <td>NaN</td>\n",
              "    </tr>\n",
              "    <tr>\n",
              "      <th>4</th>\n",
              "      <td>Adelie</td>\n",
              "      <td>Torgersen</td>\n",
              "      <td>36.7</td>\n",
              "      <td>19.3</td>\n",
              "      <td>193.0</td>\n",
              "      <td>3450.0</td>\n",
              "      <td>Female</td>\n",
              "    </tr>\n",
              "  </tbody>\n",
              "</table>\n",
              "</div>\n",
              "      <button class=\"colab-df-convert\" onclick=\"convertToInteractive('df-4fc3d543-8f57-4419-9e24-868af9002467')\"\n",
              "              title=\"Convert this dataframe to an interactive table.\"\n",
              "              style=\"display:none;\">\n",
              "        \n",
              "  <svg xmlns=\"http://www.w3.org/2000/svg\" height=\"24px\"viewBox=\"0 0 24 24\"\n",
              "       width=\"24px\">\n",
              "    <path d=\"M0 0h24v24H0V0z\" fill=\"none\"/>\n",
              "    <path d=\"M18.56 5.44l.94 2.06.94-2.06 2.06-.94-2.06-.94-.94-2.06-.94 2.06-2.06.94zm-11 1L8.5 8.5l.94-2.06 2.06-.94-2.06-.94L8.5 2.5l-.94 2.06-2.06.94zm10 10l.94 2.06.94-2.06 2.06-.94-2.06-.94-.94-2.06-.94 2.06-2.06.94z\"/><path d=\"M17.41 7.96l-1.37-1.37c-.4-.4-.92-.59-1.43-.59-.52 0-1.04.2-1.43.59L10.3 9.45l-7.72 7.72c-.78.78-.78 2.05 0 2.83L4 21.41c.39.39.9.59 1.41.59.51 0 1.02-.2 1.41-.59l7.78-7.78 2.81-2.81c.8-.78.8-2.07 0-2.86zM5.41 20L4 18.59l7.72-7.72 1.47 1.35L5.41 20z\"/>\n",
              "  </svg>\n",
              "      </button>\n",
              "      \n",
              "  <style>\n",
              "    .colab-df-container {\n",
              "      display:flex;\n",
              "      flex-wrap:wrap;\n",
              "      gap: 12px;\n",
              "    }\n",
              "\n",
              "    .colab-df-convert {\n",
              "      background-color: #E8F0FE;\n",
              "      border: none;\n",
              "      border-radius: 50%;\n",
              "      cursor: pointer;\n",
              "      display: none;\n",
              "      fill: #1967D2;\n",
              "      height: 32px;\n",
              "      padding: 0 0 0 0;\n",
              "      width: 32px;\n",
              "    }\n",
              "\n",
              "    .colab-df-convert:hover {\n",
              "      background-color: #E2EBFA;\n",
              "      box-shadow: 0px 1px 2px rgba(60, 64, 67, 0.3), 0px 1px 3px 1px rgba(60, 64, 67, 0.15);\n",
              "      fill: #174EA6;\n",
              "    }\n",
              "\n",
              "    [theme=dark] .colab-df-convert {\n",
              "      background-color: #3B4455;\n",
              "      fill: #D2E3FC;\n",
              "    }\n",
              "\n",
              "    [theme=dark] .colab-df-convert:hover {\n",
              "      background-color: #434B5C;\n",
              "      box-shadow: 0px 1px 3px 1px rgba(0, 0, 0, 0.15);\n",
              "      filter: drop-shadow(0px 1px 2px rgba(0, 0, 0, 0.3));\n",
              "      fill: #FFFFFF;\n",
              "    }\n",
              "  </style>\n",
              "\n",
              "      <script>\n",
              "        const buttonEl =\n",
              "          document.querySelector('#df-4fc3d543-8f57-4419-9e24-868af9002467 button.colab-df-convert');\n",
              "        buttonEl.style.display =\n",
              "          google.colab.kernel.accessAllowed ? 'block' : 'none';\n",
              "\n",
              "        async function convertToInteractive(key) {\n",
              "          const element = document.querySelector('#df-4fc3d543-8f57-4419-9e24-868af9002467');\n",
              "          const dataTable =\n",
              "            await google.colab.kernel.invokeFunction('convertToInteractive',\n",
              "                                                     [key], {});\n",
              "          if (!dataTable) return;\n",
              "\n",
              "          const docLinkHtml = 'Like what you see? Visit the ' +\n",
              "            '<a target=\"_blank\" href=https://colab.research.google.com/notebooks/data_table.ipynb>data table notebook</a>'\n",
              "            + ' to learn more about interactive tables.';\n",
              "          element.innerHTML = '';\n",
              "          dataTable['output_type'] = 'display_data';\n",
              "          await google.colab.output.renderOutput(dataTable, element);\n",
              "          const docLink = document.createElement('div');\n",
              "          docLink.innerHTML = docLinkHtml;\n",
              "          element.appendChild(docLink);\n",
              "        }\n",
              "      </script>\n",
              "    </div>\n",
              "  </div>\n",
              "  "
            ]
          },
          "metadata": {},
          "execution_count": 3
        }
      ]
    },
    {
      "cell_type": "code",
      "source": [
        "# 결측값 제거\n",
        "penguins = penguins.dropna().reset_index(drop=True)"
      ],
      "metadata": {
        "id": "AH9Q0ET5qpwr"
      },
      "execution_count": 4,
      "outputs": []
    },
    {
      "cell_type": "code",
      "source": [
        "penguins.info()"
      ],
      "metadata": {
        "colab": {
          "base_uri": "https://localhost:8080/"
        },
        "id": "-3bqU5qyqx8w",
        "outputId": "00fd6fcf-8caa-43ec-a1cc-f1d2a6c0854b"
      },
      "execution_count": 5,
      "outputs": [
        {
          "output_type": "stream",
          "name": "stdout",
          "text": [
            "<class 'pandas.core.frame.DataFrame'>\n",
            "RangeIndex: 333 entries, 0 to 332\n",
            "Data columns (total 7 columns):\n",
            " #   Column             Non-Null Count  Dtype  \n",
            "---  ------             --------------  -----  \n",
            " 0   species            333 non-null    object \n",
            " 1   island             333 non-null    object \n",
            " 2   bill_length_mm     333 non-null    float64\n",
            " 3   bill_depth_mm      333 non-null    float64\n",
            " 4   flipper_length_mm  333 non-null    float64\n",
            " 5   body_mass_g        333 non-null    float64\n",
            " 6   sex                333 non-null    object \n",
            "dtypes: float64(4), object(3)\n",
            "memory usage: 18.3+ KB\n"
          ]
        }
      ]
    },
    {
      "cell_type": "markdown",
      "source": [
        "### 정규화(Normalization), 표준화(Standardization)"
      ],
      "metadata": {
        "id": "fRfBB14pq3a4"
      }
    },
    {
      "cell_type": "markdown",
      "source": [
        "- 정규화와 표준화는 모두 수치형 데이터 전처리에서 중요한 요소입니다.\n",
        "- 학습 데이터의 feature 간 단위나 스케일(scale)차이가 클수록 학습 모델의 성능이 저하된다.\n",
        "- 따라서 수치형 데이터의 **단위를 맞춰주는 작업을 스케일링(scaling)이라고 합니다.\n",
        "- 스케링에는 일정 구간을 정해주는 정규화(Normalization) 방법과 평균(0)과 표준편차(1)를 사용하는 표준화(Standardization) 방법이 있습니다."
      ],
      "metadata": {
        "id": "bbjeHHDSq8MX"
      }
    },
    {
      "cell_type": "markdown",
      "source": [
        "- 정규화\n",
        "> - 0~1사이의 값으로 변환(수치형 컬럼에서만 정규화 가능) 플러스 값으로 표현"
      ],
      "metadata": {
        "id": "hvwu32JcrhxC"
      }
    },
    {
      "cell_type": "markdown",
      "source": [
        "- 표준화\n",
        "> - 평균을 0으로 하고 표준편차를 1로 한다.(비지도 학습 사용시 사용함)(최솟값/최댓값이 설정 안될 시에 사용)"
      ],
      "metadata": {
        "id": "JXNHEWB9rvvv"
      }
    },
    {
      "cell_type": "code",
      "source": [
        "# feature 들 간 단위가 다릅니다. (bill_length_mm/bill_depth_mm/flipper_length_mm)\n",
        "penguins"
      ],
      "metadata": {
        "id": "OrxVwU1kqzSW",
        "colab": {
          "base_uri": "https://localhost:8080/",
          "height": 483
        },
        "outputId": "6120e096-f1df-4f4a-cd4c-5796bbd43d26"
      },
      "execution_count": 6,
      "outputs": [
        {
          "output_type": "execute_result",
          "data": {
            "text/plain": [
              "    species     island  bill_length_mm  bill_depth_mm  flipper_length_mm  \\\n",
              "0    Adelie  Torgersen            39.1           18.7              181.0   \n",
              "1    Adelie  Torgersen            39.5           17.4              186.0   \n",
              "2    Adelie  Torgersen            40.3           18.0              195.0   \n",
              "3    Adelie  Torgersen            36.7           19.3              193.0   \n",
              "4    Adelie  Torgersen            39.3           20.6              190.0   \n",
              "..      ...        ...             ...            ...                ...   \n",
              "328  Gentoo     Biscoe            47.2           13.7              214.0   \n",
              "329  Gentoo     Biscoe            46.8           14.3              215.0   \n",
              "330  Gentoo     Biscoe            50.4           15.7              222.0   \n",
              "331  Gentoo     Biscoe            45.2           14.8              212.0   \n",
              "332  Gentoo     Biscoe            49.9           16.1              213.0   \n",
              "\n",
              "     body_mass_g     sex  \n",
              "0         3750.0    Male  \n",
              "1         3800.0  Female  \n",
              "2         3250.0  Female  \n",
              "3         3450.0  Female  \n",
              "4         3650.0    Male  \n",
              "..           ...     ...  \n",
              "328       4925.0  Female  \n",
              "329       4850.0  Female  \n",
              "330       5750.0    Male  \n",
              "331       5200.0  Female  \n",
              "332       5400.0    Male  \n",
              "\n",
              "[333 rows x 7 columns]"
            ],
            "text/html": [
              "\n",
              "  <div id=\"df-43143017-c624-4856-a9ba-d2b011a5580c\">\n",
              "    <div class=\"colab-df-container\">\n",
              "      <div>\n",
              "<style scoped>\n",
              "    .dataframe tbody tr th:only-of-type {\n",
              "        vertical-align: middle;\n",
              "    }\n",
              "\n",
              "    .dataframe tbody tr th {\n",
              "        vertical-align: top;\n",
              "    }\n",
              "\n",
              "    .dataframe thead th {\n",
              "        text-align: right;\n",
              "    }\n",
              "</style>\n",
              "<table border=\"1\" class=\"dataframe\">\n",
              "  <thead>\n",
              "    <tr style=\"text-align: right;\">\n",
              "      <th></th>\n",
              "      <th>species</th>\n",
              "      <th>island</th>\n",
              "      <th>bill_length_mm</th>\n",
              "      <th>bill_depth_mm</th>\n",
              "      <th>flipper_length_mm</th>\n",
              "      <th>body_mass_g</th>\n",
              "      <th>sex</th>\n",
              "    </tr>\n",
              "  </thead>\n",
              "  <tbody>\n",
              "    <tr>\n",
              "      <th>0</th>\n",
              "      <td>Adelie</td>\n",
              "      <td>Torgersen</td>\n",
              "      <td>39.1</td>\n",
              "      <td>18.7</td>\n",
              "      <td>181.0</td>\n",
              "      <td>3750.0</td>\n",
              "      <td>Male</td>\n",
              "    </tr>\n",
              "    <tr>\n",
              "      <th>1</th>\n",
              "      <td>Adelie</td>\n",
              "      <td>Torgersen</td>\n",
              "      <td>39.5</td>\n",
              "      <td>17.4</td>\n",
              "      <td>186.0</td>\n",
              "      <td>3800.0</td>\n",
              "      <td>Female</td>\n",
              "    </tr>\n",
              "    <tr>\n",
              "      <th>2</th>\n",
              "      <td>Adelie</td>\n",
              "      <td>Torgersen</td>\n",
              "      <td>40.3</td>\n",
              "      <td>18.0</td>\n",
              "      <td>195.0</td>\n",
              "      <td>3250.0</td>\n",
              "      <td>Female</td>\n",
              "    </tr>\n",
              "    <tr>\n",
              "      <th>3</th>\n",
              "      <td>Adelie</td>\n",
              "      <td>Torgersen</td>\n",
              "      <td>36.7</td>\n",
              "      <td>19.3</td>\n",
              "      <td>193.0</td>\n",
              "      <td>3450.0</td>\n",
              "      <td>Female</td>\n",
              "    </tr>\n",
              "    <tr>\n",
              "      <th>4</th>\n",
              "      <td>Adelie</td>\n",
              "      <td>Torgersen</td>\n",
              "      <td>39.3</td>\n",
              "      <td>20.6</td>\n",
              "      <td>190.0</td>\n",
              "      <td>3650.0</td>\n",
              "      <td>Male</td>\n",
              "    </tr>\n",
              "    <tr>\n",
              "      <th>...</th>\n",
              "      <td>...</td>\n",
              "      <td>...</td>\n",
              "      <td>...</td>\n",
              "      <td>...</td>\n",
              "      <td>...</td>\n",
              "      <td>...</td>\n",
              "      <td>...</td>\n",
              "    </tr>\n",
              "    <tr>\n",
              "      <th>328</th>\n",
              "      <td>Gentoo</td>\n",
              "      <td>Biscoe</td>\n",
              "      <td>47.2</td>\n",
              "      <td>13.7</td>\n",
              "      <td>214.0</td>\n",
              "      <td>4925.0</td>\n",
              "      <td>Female</td>\n",
              "    </tr>\n",
              "    <tr>\n",
              "      <th>329</th>\n",
              "      <td>Gentoo</td>\n",
              "      <td>Biscoe</td>\n",
              "      <td>46.8</td>\n",
              "      <td>14.3</td>\n",
              "      <td>215.0</td>\n",
              "      <td>4850.0</td>\n",
              "      <td>Female</td>\n",
              "    </tr>\n",
              "    <tr>\n",
              "      <th>330</th>\n",
              "      <td>Gentoo</td>\n",
              "      <td>Biscoe</td>\n",
              "      <td>50.4</td>\n",
              "      <td>15.7</td>\n",
              "      <td>222.0</td>\n",
              "      <td>5750.0</td>\n",
              "      <td>Male</td>\n",
              "    </tr>\n",
              "    <tr>\n",
              "      <th>331</th>\n",
              "      <td>Gentoo</td>\n",
              "      <td>Biscoe</td>\n",
              "      <td>45.2</td>\n",
              "      <td>14.8</td>\n",
              "      <td>212.0</td>\n",
              "      <td>5200.0</td>\n",
              "      <td>Female</td>\n",
              "    </tr>\n",
              "    <tr>\n",
              "      <th>332</th>\n",
              "      <td>Gentoo</td>\n",
              "      <td>Biscoe</td>\n",
              "      <td>49.9</td>\n",
              "      <td>16.1</td>\n",
              "      <td>213.0</td>\n",
              "      <td>5400.0</td>\n",
              "      <td>Male</td>\n",
              "    </tr>\n",
              "  </tbody>\n",
              "</table>\n",
              "<p>333 rows × 7 columns</p>\n",
              "</div>\n",
              "      <button class=\"colab-df-convert\" onclick=\"convertToInteractive('df-43143017-c624-4856-a9ba-d2b011a5580c')\"\n",
              "              title=\"Convert this dataframe to an interactive table.\"\n",
              "              style=\"display:none;\">\n",
              "        \n",
              "  <svg xmlns=\"http://www.w3.org/2000/svg\" height=\"24px\"viewBox=\"0 0 24 24\"\n",
              "       width=\"24px\">\n",
              "    <path d=\"M0 0h24v24H0V0z\" fill=\"none\"/>\n",
              "    <path d=\"M18.56 5.44l.94 2.06.94-2.06 2.06-.94-2.06-.94-.94-2.06-.94 2.06-2.06.94zm-11 1L8.5 8.5l.94-2.06 2.06-.94-2.06-.94L8.5 2.5l-.94 2.06-2.06.94zm10 10l.94 2.06.94-2.06 2.06-.94-2.06-.94-.94-2.06-.94 2.06-2.06.94z\"/><path d=\"M17.41 7.96l-1.37-1.37c-.4-.4-.92-.59-1.43-.59-.52 0-1.04.2-1.43.59L10.3 9.45l-7.72 7.72c-.78.78-.78 2.05 0 2.83L4 21.41c.39.39.9.59 1.41.59.51 0 1.02-.2 1.41-.59l7.78-7.78 2.81-2.81c.8-.78.8-2.07 0-2.86zM5.41 20L4 18.59l7.72-7.72 1.47 1.35L5.41 20z\"/>\n",
              "  </svg>\n",
              "      </button>\n",
              "      \n",
              "  <style>\n",
              "    .colab-df-container {\n",
              "      display:flex;\n",
              "      flex-wrap:wrap;\n",
              "      gap: 12px;\n",
              "    }\n",
              "\n",
              "    .colab-df-convert {\n",
              "      background-color: #E8F0FE;\n",
              "      border: none;\n",
              "      border-radius: 50%;\n",
              "      cursor: pointer;\n",
              "      display: none;\n",
              "      fill: #1967D2;\n",
              "      height: 32px;\n",
              "      padding: 0 0 0 0;\n",
              "      width: 32px;\n",
              "    }\n",
              "\n",
              "    .colab-df-convert:hover {\n",
              "      background-color: #E2EBFA;\n",
              "      box-shadow: 0px 1px 2px rgba(60, 64, 67, 0.3), 0px 1px 3px 1px rgba(60, 64, 67, 0.15);\n",
              "      fill: #174EA6;\n",
              "    }\n",
              "\n",
              "    [theme=dark] .colab-df-convert {\n",
              "      background-color: #3B4455;\n",
              "      fill: #D2E3FC;\n",
              "    }\n",
              "\n",
              "    [theme=dark] .colab-df-convert:hover {\n",
              "      background-color: #434B5C;\n",
              "      box-shadow: 0px 1px 3px 1px rgba(0, 0, 0, 0.15);\n",
              "      filter: drop-shadow(0px 1px 2px rgba(0, 0, 0, 0.3));\n",
              "      fill: #FFFFFF;\n",
              "    }\n",
              "  </style>\n",
              "\n",
              "      <script>\n",
              "        const buttonEl =\n",
              "          document.querySelector('#df-43143017-c624-4856-a9ba-d2b011a5580c button.colab-df-convert');\n",
              "        buttonEl.style.display =\n",
              "          google.colab.kernel.accessAllowed ? 'block' : 'none';\n",
              "\n",
              "        async function convertToInteractive(key) {\n",
              "          const element = document.querySelector('#df-43143017-c624-4856-a9ba-d2b011a5580c');\n",
              "          const dataTable =\n",
              "            await google.colab.kernel.invokeFunction('convertToInteractive',\n",
              "                                                     [key], {});\n",
              "          if (!dataTable) return;\n",
              "\n",
              "          const docLinkHtml = 'Like what you see? Visit the ' +\n",
              "            '<a target=\"_blank\" href=https://colab.research.google.com/notebooks/data_table.ipynb>data table notebook</a>'\n",
              "            + ' to learn more about interactive tables.';\n",
              "          element.innerHTML = '';\n",
              "          dataTable['output_type'] = 'display_data';\n",
              "          await google.colab.output.renderOutput(dataTable, element);\n",
              "          const docLink = document.createElement('div');\n",
              "          docLink.innerHTML = docLinkHtml;\n",
              "          element.appendChild(docLink);\n",
              "        }\n",
              "      </script>\n",
              "    </div>\n",
              "  </div>\n",
              "  "
            ]
          },
          "metadata": {},
          "execution_count": 6
        }
      ]
    },
    {
      "cell_type": "code",
      "source": [
        "# 도표를 통해 확인 \n",
        "plt.figure(figsize=(15,5 ))\n",
        "sns.histplot(data=penguins)\n",
        "# 데이터의 편차가 너무 심하다 정리가 필요"
      ],
      "metadata": {
        "colab": {
          "base_uri": "https://localhost:8080/",
          "height": 249
        },
        "id": "2F0I1_mda8Sc",
        "outputId": "3bdffb0a-75e2-46b7-fc08-678c772c2575"
      },
      "execution_count": 7,
      "outputs": [
        {
          "output_type": "execute_result",
          "data": {
            "text/plain": [
              "<matplotlib.axes._subplots.AxesSubplot at 0x7f37a798e8d0>"
            ]
          },
          "metadata": {},
          "execution_count": 7
        },
        {
          "output_type": "display_data",
          "data": {
            "text/plain": [
              "<Figure size 1080x360 with 1 Axes>"
            ],
            "image/png": "[encoded data removed]"
          },
          "metadata": {
            "needs_background": "light"
          }
        }
      ]
    },
    {
      "cell_type": "markdown",
      "source": [
        "**정규화(Normalization)**\n",
        "- `MinMaxScaler`를 활용한 0-1 사이 분포 만들기\n",
        "- 같은 범위의 데이터로 변환하기 때문에, 모델 학습 성능이 좋아지고, 학습 시간이 줄어드는 효과가 있다.\n",
        "- 자릿수가 늘어나지 않아 연산 오버플로우(`numeric overflow`)를 방지 할 수있다."
      ],
      "metadata": {
        "id": "_P-RFqZJbiKB"
      }
    },
    {
      "cell_type": "code",
      "source": [
        "from sklearn.preprocessing import MinMaxScaler # 라이브러리 로딩\n",
        "scaler = MinMaxScaler() # 스케일러로 정의\n",
        "\n",
        "penguins_normed = penguins.copy()\n",
        "features = penguins_normed[['bill_length_mm','bill_depth_mm','flipper_length_mm','body_mass_g']] # 정규화 대상 선택\n",
        "features_normed = scaler.fit_transform(features)  #정규화 실행\n",
        "features_normed.shape"
      ],
      "metadata": {
        "colab": {
          "base_uri": "https://localhost:8080/"
        },
        "id": "BPZvssmmbW_z",
        "outputId": "655dc338-8560-4812-e765-50d73cda6e90"
      },
      "execution_count": 8,
      "outputs": [
        {
          "output_type": "execute_result",
          "data": {
            "text/plain": [
              "(333, 4)"
            ]
          },
          "metadata": {},
          "execution_count": 8
        }
      ]
    },
    {
      "cell_type": "code",
      "source": [
        "features_normed\n",
        "# 순서대로 1 col =bill_length/ 2 col =bill_depth/ 3 col = flipper_length / 4 col = body_mass_g"
      ],
      "metadata": {
        "colab": {
          "base_uri": "https://localhost:8080/"
        },
        "id": "FowfayAEcooj",
        "outputId": "0328f400-b3ab-4cfe-b81d-51c18519b6e1"
      },
      "execution_count": 9,
      "outputs": [
        {
          "output_type": "execute_result",
          "data": {
            "text/plain": [
              "array([[0.25454545, 0.66666667, 0.15254237, 0.29166667],\n",
              "       [0.26909091, 0.51190476, 0.23728814, 0.30555556],\n",
              "       [0.29818182, 0.58333333, 0.38983051, 0.15277778],\n",
              "       ...,\n",
              "       [0.66545455, 0.30952381, 0.84745763, 0.84722222],\n",
              "       [0.47636364, 0.20238095, 0.6779661 , 0.69444444],\n",
              "       [0.64727273, 0.35714286, 0.69491525, 0.75      ]])"
            ]
          },
          "metadata": {},
          "execution_count": 9
        }
      ]
    },
    {
      "cell_type": "code",
      "source": [
        "# 정규화 시킨 데이터 입히기\n",
        "# .assign (데이터 삽입하기)\n",
        "penguins_normed = penguins_normed.assign(bill_length_mm = features_normed[:,0],\n",
        "                                         bill_depth_mm = features_normed[:,1],\n",
        "                                         flipper_length_mm = features_normed[:,2],\n",
        "                                         body_mass_g = features_normed[:,3])\n",
        "\n",
        "penguins_normed"
      ],
      "metadata": {
        "colab": {
          "base_uri": "https://localhost:8080/",
          "height": 483
        },
        "id": "xEdMJZincxq8",
        "outputId": "7b5ab2ce-2ca4-4192-ba3a-0f7670a423b5"
      },
      "execution_count": 10,
      "outputs": [
        {
          "output_type": "execute_result",
          "data": {
            "text/plain": [
              "    species     island  bill_length_mm  bill_depth_mm  flipper_length_mm  \\\n",
              "0    Adelie  Torgersen        0.254545       0.666667           0.152542   \n",
              "1    Adelie  Torgersen        0.269091       0.511905           0.237288   \n",
              "2    Adelie  Torgersen        0.298182       0.583333           0.389831   \n",
              "3    Adelie  Torgersen        0.167273       0.738095           0.355932   \n",
              "4    Adelie  Torgersen        0.261818       0.892857           0.305085   \n",
              "..      ...        ...             ...            ...                ...   \n",
              "328  Gentoo     Biscoe        0.549091       0.071429           0.711864   \n",
              "329  Gentoo     Biscoe        0.534545       0.142857           0.728814   \n",
              "330  Gentoo     Biscoe        0.665455       0.309524           0.847458   \n",
              "331  Gentoo     Biscoe        0.476364       0.202381           0.677966   \n",
              "332  Gentoo     Biscoe        0.647273       0.357143           0.694915   \n",
              "\n",
              "     body_mass_g     sex  \n",
              "0       0.291667    Male  \n",
              "1       0.305556  Female  \n",
              "2       0.152778  Female  \n",
              "3       0.208333  Female  \n",
              "4       0.263889    Male  \n",
              "..           ...     ...  \n",
              "328     0.618056  Female  \n",
              "329     0.597222  Female  \n",
              "330     0.847222    Male  \n",
              "331     0.694444  Female  \n",
              "332     0.750000    Male  \n",
              "\n",
              "[333 rows x 7 columns]"
            ],
            "text/html": [
              "\n",
              "  <div id=\"df-8a5f075b-e442-4378-90f3-30a03202ba3a\">\n",
              "    <div class=\"colab-df-container\">\n",
              "      <div>\n",
              "<style scoped>\n",
              "    .dataframe tbody tr th:only-of-type {\n",
              "        vertical-align: middle;\n",
              "    }\n",
              "\n",
              "    .dataframe tbody tr th {\n",
              "        vertical-align: top;\n",
              "    }\n",
              "\n",
              "    .dataframe thead th {\n",
              "        text-align: right;\n",
              "    }\n",
              "</style>\n",
              "<table border=\"1\" class=\"dataframe\">\n",
              "  <thead>\n",
              "    <tr style=\"text-align: right;\">\n",
              "      <th></th>\n",
              "      <th>species</th>\n",
              "      <th>island</th>\n",
              "      <th>bill_length_mm</th>\n",
              "      <th>bill_depth_mm</th>\n",
              "      <th>flipper_length_mm</th>\n",
              "      <th>body_mass_g</th>\n",
              "      <th>sex</th>\n",
              "    </tr>\n",
              "  </thead>\n",
              "  <tbody>\n",
              "    <tr>\n",
              "      <th>0</th>\n",
              "      <td>Adelie</td>\n",
              "      <td>Torgersen</td>\n",
              "      <td>0.254545</td>\n",
              "      <td>0.666667</td>\n",
              "      <td>0.152542</td>\n",
              "      <td>0.291667</td>\n",
              "      <td>Male</td>\n",
              "    </tr>\n",
              "    <tr>\n",
              "      <th>1</th>\n",
              "      <td>Adelie</td>\n",
              "      <td>Torgersen</td>\n",
              "      <td>0.269091</td>\n",
              "      <td>0.511905</td>\n",
              "      <td>0.237288</td>\n",
              "      <td>0.305556</td>\n",
              "      <td>Female</td>\n",
              "    </tr>\n",
              "    <tr>\n",
              "      <th>2</th>\n",
              "      <td>Adelie</td>\n",
              "      <td>Torgersen</td>\n",
              "      <td>0.298182</td>\n",
              "      <td>0.583333</td>\n",
              "      <td>0.389831</td>\n",
              "      <td>0.152778</td>\n",
              "      <td>Female</td>\n",
              "    </tr>\n",
              "    <tr>\n",
              "      <th>3</th>\n",
              "      <td>Adelie</td>\n",
              "      <td>Torgersen</td>\n",
              "      <td>0.167273</td>\n",
              "      <td>0.738095</td>\n",
              "      <td>0.355932</td>\n",
              "      <td>0.208333</td>\n",
              "      <td>Female</td>\n",
              "    </tr>\n",
              "    <tr>\n",
              "      <th>4</th>\n",
              "      <td>Adelie</td>\n",
              "      <td>Torgersen</td>\n",
              "      <td>0.261818</td>\n",
              "      <td>0.892857</td>\n",
              "      <td>0.305085</td>\n",
              "      <td>0.263889</td>\n",
              "      <td>Male</td>\n",
              "    </tr>\n",
              "    <tr>\n",
              "      <th>...</th>\n",
              "      <td>...</td>\n",
              "      <td>...</td>\n",
              "      <td>...</td>\n",
              "      <td>...</td>\n",
              "      <td>...</td>\n",
              "      <td>...</td>\n",
              "      <td>...</td>\n",
              "    </tr>\n",
              "    <tr>\n",
              "      <th>328</th>\n",
              "      <td>Gentoo</td>\n",
              "      <td>Biscoe</td>\n",
              "      <td>0.549091</td>\n",
              "      <td>0.071429</td>\n",
              "      <td>0.711864</td>\n",
              "      <td>0.618056</td>\n",
              "      <td>Female</td>\n",
              "    </tr>\n",
              "    <tr>\n",
              "      <th>329</th>\n",
              "      <td>Gentoo</td>\n",
              "      <td>Biscoe</td>\n",
              "      <td>0.534545</td>\n",
              "      <td>0.142857</td>\n",
              "      <td>0.728814</td>\n",
              "      <td>0.597222</td>\n",
              "      <td>Female</td>\n",
              "    </tr>\n",
              "    <tr>\n",
              "      <th>330</th>\n",
              "      <td>Gentoo</td>\n",
              "      <td>Biscoe</td>\n",
              "      <td>0.665455</td>\n",
              "      <td>0.309524</td>\n",
              "      <td>0.847458</td>\n",
              "      <td>0.847222</td>\n",
              "      <td>Male</td>\n",
              "    </tr>\n",
              "    <tr>\n",
              "      <th>331</th>\n",
              "      <td>Gentoo</td>\n",
              "      <td>Biscoe</td>\n",
              "      <td>0.476364</td>\n",
              "      <td>0.202381</td>\n",
              "      <td>0.677966</td>\n",
              "      <td>0.694444</td>\n",
              "      <td>Female</td>\n",
              "    </tr>\n",
              "    <tr>\n",
              "      <th>332</th>\n",
              "      <td>Gentoo</td>\n",
              "      <td>Biscoe</td>\n",
              "      <td>0.647273</td>\n",
              "      <td>0.357143</td>\n",
              "      <td>0.694915</td>\n",
              "      <td>0.750000</td>\n",
              "      <td>Male</td>\n",
              "    </tr>\n",
              "  </tbody>\n",
              "</table>\n",
              "<p>333 rows × 7 columns</p>\n",
              "</div>\n",
              "      <button class=\"colab-df-convert\" onclick=\"convertToInteractive('df-8a5f075b-e442-4378-90f3-30a03202ba3a')\"\n",
              "              title=\"Convert this dataframe to an interactive table.\"\n",
              "              style=\"display:none;\">\n",
              "        \n",
              "  <svg xmlns=\"http://www.w3.org/2000/svg\" height=\"24px\"viewBox=\"0 0 24 24\"\n",
              "       width=\"24px\">\n",
              "    <path d=\"M0 0h24v24H0V0z\" fill=\"none\"/>\n",
              "    <path d=\"M18.56 5.44l.94 2.06.94-2.06 2.06-.94-2.06-.94-.94-2.06-.94 2.06-2.06.94zm-11 1L8.5 8.5l.94-2.06 2.06-.94-2.06-.94L8.5 2.5l-.94 2.06-2.06.94zm10 10l.94 2.06.94-2.06 2.06-.94-2.06-.94-.94-2.06-.94 2.06-2.06.94z\"/><path d=\"M17.41 7.96l-1.37-1.37c-.4-.4-.92-.59-1.43-.59-.52 0-1.04.2-1.43.59L10.3 9.45l-7.72 7.72c-.78.78-.78 2.05 0 2.83L4 21.41c.39.39.9.59 1.41.59.51 0 1.02-.2 1.41-.59l7.78-7.78 2.81-2.81c.8-.78.8-2.07 0-2.86zM5.41 20L4 18.59l7.72-7.72 1.47 1.35L5.41 20z\"/>\n",
              "  </svg>\n",
              "      </button>\n",
              "      \n",
              "  <style>\n",
              "    .colab-df-container {\n",
              "      display:flex;\n",
              "      flex-wrap:wrap;\n",
              "      gap: 12px;\n",
              "    }\n",
              "\n",
              "    .colab-df-convert {\n",
              "      background-color: #E8F0FE;\n",
              "      border: none;\n",
              "      border-radius: 50%;\n",
              "      cursor: pointer;\n",
              "      display: none;\n",
              "      fill: #1967D2;\n",
              "      height: 32px;\n",
              "      padding: 0 0 0 0;\n",
              "      width: 32px;\n",
              "    }\n",
              "\n",
              "    .colab-df-convert:hover {\n",
              "      background-color: #E2EBFA;\n",
              "      box-shadow: 0px 1px 2px rgba(60, 64, 67, 0.3), 0px 1px 3px 1px rgba(60, 64, 67, 0.15);\n",
              "      fill: #174EA6;\n",
              "    }\n",
              "\n",
              "    [theme=dark] .colab-df-convert {\n",
              "      background-color: #3B4455;\n",
              "      fill: #D2E3FC;\n",
              "    }\n",
              "\n",
              "    [theme=dark] .colab-df-convert:hover {\n",
              "      background-color: #434B5C;\n",
              "      box-shadow: 0px 1px 3px 1px rgba(0, 0, 0, 0.15);\n",
              "      filter: drop-shadow(0px 1px 2px rgba(0, 0, 0, 0.3));\n",
              "      fill: #FFFFFF;\n",
              "    }\n",
              "  </style>\n",
              "\n",
              "      <script>\n",
              "        const buttonEl =\n",
              "          document.querySelector('#df-8a5f075b-e442-4378-90f3-30a03202ba3a button.colab-df-convert');\n",
              "        buttonEl.style.display =\n",
              "          google.colab.kernel.accessAllowed ? 'block' : 'none';\n",
              "\n",
              "        async function convertToInteractive(key) {\n",
              "          const element = document.querySelector('#df-8a5f075b-e442-4378-90f3-30a03202ba3a');\n",
              "          const dataTable =\n",
              "            await google.colab.kernel.invokeFunction('convertToInteractive',\n",
              "                                                     [key], {});\n",
              "          if (!dataTable) return;\n",
              "\n",
              "          const docLinkHtml = 'Like what you see? Visit the ' +\n",
              "            '<a target=\"_blank\" href=https://colab.research.google.com/notebooks/data_table.ipynb>data table notebook</a>'\n",
              "            + ' to learn more about interactive tables.';\n",
              "          element.innerHTML = '';\n",
              "          dataTable['output_type'] = 'display_data';\n",
              "          await google.colab.output.renderOutput(dataTable, element);\n",
              "          const docLink = document.createElement('div');\n",
              "          docLink.innerHTML = docLinkHtml;\n",
              "          element.appendChild(docLink);\n",
              "        }\n",
              "      </script>\n",
              "    </div>\n",
              "  </div>\n",
              "  "
            ]
          },
          "metadata": {},
          "execution_count": 10
        }
      ]
    },
    {
      "cell_type": "code",
      "source": [
        "# 눈의로 확인 하기\n",
        "plt.figure(figsize=(15, 5))\n",
        "sns.histplot(data=penguins_normed)\n",
        "# 혼자 떨어져 있는 데이터가 없고 모여있는 데이터로 합쳐졌다."
      ],
      "metadata": {
        "colab": {
          "base_uri": "https://localhost:8080/",
          "height": 250
        },
        "id": "ZNXduH1OdbIr",
        "outputId": "b3835f6e-0b49-4887-804c-862326b10e26"
      },
      "execution_count": 11,
      "outputs": [
        {
          "output_type": "execute_result",
          "data": {
            "text/plain": [
              "<matplotlib.axes._subplots.AxesSubplot at 0x7f37a6ad5cd0>"
            ]
          },
          "metadata": {},
          "execution_count": 11
        },
        {
          "output_type": "display_data",
          "data": {
            "text/plain": [
              "<Figure size 1080x360 with 1 Axes>"
            ],
            "image/png": "[encoded data removed]"
          },
          "metadata": {
            "needs_background": "light"
          }
        }
      ]
    },
    {
      "cell_type": "markdown",
      "source": [
        "**표준화(Standardization)**\n",
        "- `StandardScaler`를 활용한 평균 0, 표준편차 1 분표 만들기\n",
        "- 만약 Feature 가 단위 차이가 극심하게 차이가 나는 상황이라면, 정규화 보다는 표준화 방법이 선호된다.      (정규화는 작은 범위로 데이터를 압축하기 때문에 정보 손실이 발생한다.)\n",
        "- 비지도 학습(최대 최소 범위를 알기 힘든 상황)에서도 **표준화 방법**이 선호됩니다."
      ],
      "metadata": {
        "id": "K_RKdhSiepK4"
      }
    },
    {
      "cell_type": "code",
      "source": [
        "from sklearn.preprocessing import StandardScaler\n",
        "scaler = StandardScaler() # 스케일러 정의 \n",
        "\n",
        "penguins_stand = penguins.copy()\n",
        "features = penguins_stand[['bill_length_mm', 'bill_depth_mm', 'flipper_length_mm', 'body_mass_g']] # 표준화 대상 지정\n",
        "features_stand = scaler.fit_transform(features) # 표준화 "
      ],
      "metadata": {
        "id": "hG1-3j_Eehlz"
      },
      "execution_count": 12,
      "outputs": []
    },
    {
      "cell_type": "code",
      "source": [
        "# .assign (데이터 삽입하기)\n",
        "penguins_stand = penguins_stand.assign(bill_length_mm = features_stand[:,0],\n",
        "                                         bill_depth_mm = features_stand[:,1],\n",
        "                                         flipper_length_mm = features_stand[:,2],\n",
        "                                         body_mass_g = features_stand[:,3])\n",
        "\n",
        "penguins_stand"
      ],
      "metadata": {
        "colab": {
          "base_uri": "https://localhost:8080/",
          "height": 483
        },
        "id": "8s_PfMq5f4dT",
        "outputId": "952748f9-9383-4fb1-fa62-cd492847859b"
      },
      "execution_count": 13,
      "outputs": [
        {
          "output_type": "execute_result",
          "data": {
            "text/plain": [
              "    species     island  bill_length_mm  bill_depth_mm  flipper_length_mm  \\\n",
              "0    Adelie  Torgersen       -0.896042       0.780732          -1.426752   \n",
              "1    Adelie  Torgersen       -0.822788       0.119584          -1.069474   \n",
              "2    Adelie  Torgersen       -0.676280       0.424729          -0.426373   \n",
              "3    Adelie  Torgersen       -1.335566       1.085877          -0.569284   \n",
              "4    Adelie  Torgersen       -0.859415       1.747026          -0.783651   \n",
              "..      ...        ...             ...            ...                ...   \n",
              "328  Gentoo     Biscoe        0.587352      -1.762145           0.931283   \n",
              "329  Gentoo     Biscoe        0.514098      -1.457000           1.002739   \n",
              "330  Gentoo     Biscoe        1.173384      -0.744994           1.502928   \n",
              "331  Gentoo     Biscoe        0.221082      -1.202712           0.788372   \n",
              "332  Gentoo     Biscoe        1.081817      -0.541564           0.859828   \n",
              "\n",
              "     body_mass_g     sex  \n",
              "0      -0.568475    Male  \n",
              "1      -0.506286  Female  \n",
              "2      -1.190361  Female  \n",
              "3      -0.941606  Female  \n",
              "4      -0.692852    Male  \n",
              "..           ...     ...  \n",
              "328     0.892957  Female  \n",
              "329     0.799674  Female  \n",
              "330     1.919069    Male  \n",
              "331     1.234995  Female  \n",
              "332     1.483749    Male  \n",
              "\n",
              "[333 rows x 7 columns]"
            ],
            "text/html": [
              "\n",
              "  <div id=\"df-0de024dc-6f46-4eba-ada0-293c8679c10c\">\n",
              "    <div class=\"colab-df-container\">\n",
              "      <div>\n",
              "<style scoped>\n",
              "    .dataframe tbody tr th:only-of-type {\n",
              "        vertical-align: middle;\n",
              "    }\n",
              "\n",
              "    .dataframe tbody tr th {\n",
              "        vertical-align: top;\n",
              "    }\n",
              "\n",
              "    .dataframe thead th {\n",
              "        text-align: right;\n",
              "    }\n",
              "</style>\n",
              "<table border=\"1\" class=\"dataframe\">\n",
              "  <thead>\n",
              "    <tr style=\"text-align: right;\">\n",
              "      <th></th>\n",
              "      <th>species</th>\n",
              "      <th>island</th>\n",
              "      <th>bill_length_mm</th>\n",
              "      <th>bill_depth_mm</th>\n",
              "      <th>flipper_length_mm</th>\n",
              "      <th>body_mass_g</th>\n",
              "      <th>sex</th>\n",
              "    </tr>\n",
              "  </thead>\n",
              "  <tbody>\n",
              "    <tr>\n",
              "      <th>0</th>\n",
              "      <td>Adelie</td>\n",
              "      <td>Torgersen</td>\n",
              "      <td>-0.896042</td>\n",
              "      <td>0.780732</td>\n",
              "      <td>-1.426752</td>\n",
              "      <td>-0.568475</td>\n",
              "      <td>Male</td>\n",
              "    </tr>\n",
              "    <tr>\n",
              "      <th>1</th>\n",
              "      <td>Adelie</td>\n",
              "      <td>Torgersen</td>\n",
              "      <td>-0.822788</td>\n",
              "      <td>0.119584</td>\n",
              "      <td>-1.069474</td>\n",
              "      <td>-0.506286</td>\n",
              "      <td>Female</td>\n",
              "    </tr>\n",
              "    <tr>\n",
              "      <th>2</th>\n",
              "      <td>Adelie</td>\n",
              "      <td>Torgersen</td>\n",
              "      <td>-0.676280</td>\n",
              "      <td>0.424729</td>\n",
              "      <td>-0.426373</td>\n",
              "      <td>-1.190361</td>\n",
              "      <td>Female</td>\n",
              "    </tr>\n",
              "    <tr>\n",
              "      <th>3</th>\n",
              "      <td>Adelie</td>\n",
              "      <td>Torgersen</td>\n",
              "      <td>-1.335566</td>\n",
              "      <td>1.085877</td>\n",
              "      <td>-0.569284</td>\n",
              "      <td>-0.941606</td>\n",
              "      <td>Female</td>\n",
              "    </tr>\n",
              "    <tr>\n",
              "      <th>4</th>\n",
              "      <td>Adelie</td>\n",
              "      <td>Torgersen</td>\n",
              "      <td>-0.859415</td>\n",
              "      <td>1.747026</td>\n",
              "      <td>-0.783651</td>\n",
              "      <td>-0.692852</td>\n",
              "      <td>Male</td>\n",
              "    </tr>\n",
              "    <tr>\n",
              "      <th>...</th>\n",
              "      <td>...</td>\n",
              "      <td>...</td>\n",
              "      <td>...</td>\n",
              "      <td>...</td>\n",
              "      <td>...</td>\n",
              "      <td>...</td>\n",
              "      <td>...</td>\n",
              "    </tr>\n",
              "    <tr>\n",
              "      <th>328</th>\n",
              "      <td>Gentoo</td>\n",
              "      <td>Biscoe</td>\n",
              "      <td>0.587352</td>\n",
              "      <td>-1.762145</td>\n",
              "      <td>0.931283</td>\n",
              "      <td>0.892957</td>\n",
              "      <td>Female</td>\n",
              "    </tr>\n",
              "    <tr>\n",
              "      <th>329</th>\n",
              "      <td>Gentoo</td>\n",
              "      <td>Biscoe</td>\n",
              "      <td>0.514098</td>\n",
              "      <td>-1.457000</td>\n",
              "      <td>1.002739</td>\n",
              "      <td>0.799674</td>\n",
              "      <td>Female</td>\n",
              "    </tr>\n",
              "    <tr>\n",
              "      <th>330</th>\n",
              "      <td>Gentoo</td>\n",
              "      <td>Biscoe</td>\n",
              "      <td>1.173384</td>\n",
              "      <td>-0.744994</td>\n",
              "      <td>1.502928</td>\n",
              "      <td>1.919069</td>\n",
              "      <td>Male</td>\n",
              "    </tr>\n",
              "    <tr>\n",
              "      <th>331</th>\n",
              "      <td>Gentoo</td>\n",
              "      <td>Biscoe</td>\n",
              "      <td>0.221082</td>\n",
              "      <td>-1.202712</td>\n",
              "      <td>0.788372</td>\n",
              "      <td>1.234995</td>\n",
              "      <td>Female</td>\n",
              "    </tr>\n",
              "    <tr>\n",
              "      <th>332</th>\n",
              "      <td>Gentoo</td>\n",
              "      <td>Biscoe</td>\n",
              "      <td>1.081817</td>\n",
              "      <td>-0.541564</td>\n",
              "      <td>0.859828</td>\n",
              "      <td>1.483749</td>\n",
              "      <td>Male</td>\n",
              "    </tr>\n",
              "  </tbody>\n",
              "</table>\n",
              "<p>333 rows × 7 columns</p>\n",
              "</div>\n",
              "      <button class=\"colab-df-convert\" onclick=\"convertToInteractive('df-0de024dc-6f46-4eba-ada0-293c8679c10c')\"\n",
              "              title=\"Convert this dataframe to an interactive table.\"\n",
              "              style=\"display:none;\">\n",
              "        \n",
              "  <svg xmlns=\"http://www.w3.org/2000/svg\" height=\"24px\"viewBox=\"0 0 24 24\"\n",
              "       width=\"24px\">\n",
              "    <path d=\"M0 0h24v24H0V0z\" fill=\"none\"/>\n",
              "    <path d=\"M18.56 5.44l.94 2.06.94-2.06 2.06-.94-2.06-.94-.94-2.06-.94 2.06-2.06.94zm-11 1L8.5 8.5l.94-2.06 2.06-.94-2.06-.94L8.5 2.5l-.94 2.06-2.06.94zm10 10l.94 2.06.94-2.06 2.06-.94-2.06-.94-.94-2.06-.94 2.06-2.06.94z\"/><path d=\"M17.41 7.96l-1.37-1.37c-.4-.4-.92-.59-1.43-.59-.52 0-1.04.2-1.43.59L10.3 9.45l-7.72 7.72c-.78.78-.78 2.05 0 2.83L4 21.41c.39.39.9.59 1.41.59.51 0 1.02-.2 1.41-.59l7.78-7.78 2.81-2.81c.8-.78.8-2.07 0-2.86zM5.41 20L4 18.59l7.72-7.72 1.47 1.35L5.41 20z\"/>\n",
              "  </svg>\n",
              "      </button>\n",
              "      \n",
              "  <style>\n",
              "    .colab-df-container {\n",
              "      display:flex;\n",
              "      flex-wrap:wrap;\n",
              "      gap: 12px;\n",
              "    }\n",
              "\n",
              "    .colab-df-convert {\n",
              "      background-color: #E8F0FE;\n",
              "      border: none;\n",
              "      border-radius: 50%;\n",
              "      cursor: pointer;\n",
              "      display: none;\n",
              "      fill: #1967D2;\n",
              "      height: 32px;\n",
              "      padding: 0 0 0 0;\n",
              "      width: 32px;\n",
              "    }\n",
              "\n",
              "    .colab-df-convert:hover {\n",
              "      background-color: #E2EBFA;\n",
              "      box-shadow: 0px 1px 2px rgba(60, 64, 67, 0.3), 0px 1px 3px 1px rgba(60, 64, 67, 0.15);\n",
              "      fill: #174EA6;\n",
              "    }\n",
              "\n",
              "    [theme=dark] .colab-df-convert {\n",
              "      background-color: #3B4455;\n",
              "      fill: #D2E3FC;\n",
              "    }\n",
              "\n",
              "    [theme=dark] .colab-df-convert:hover {\n",
              "      background-color: #434B5C;\n",
              "      box-shadow: 0px 1px 3px 1px rgba(0, 0, 0, 0.15);\n",
              "      filter: drop-shadow(0px 1px 2px rgba(0, 0, 0, 0.3));\n",
              "      fill: #FFFFFF;\n",
              "    }\n",
              "  </style>\n",
              "\n",
              "      <script>\n",
              "        const buttonEl =\n",
              "          document.querySelector('#df-0de024dc-6f46-4eba-ada0-293c8679c10c button.colab-df-convert');\n",
              "        buttonEl.style.display =\n",
              "          google.colab.kernel.accessAllowed ? 'block' : 'none';\n",
              "\n",
              "        async function convertToInteractive(key) {\n",
              "          const element = document.querySelector('#df-0de024dc-6f46-4eba-ada0-293c8679c10c');\n",
              "          const dataTable =\n",
              "            await google.colab.kernel.invokeFunction('convertToInteractive',\n",
              "                                                     [key], {});\n",
              "          if (!dataTable) return;\n",
              "\n",
              "          const docLinkHtml = 'Like what you see? Visit the ' +\n",
              "            '<a target=\"_blank\" href=https://colab.research.google.com/notebooks/data_table.ipynb>data table notebook</a>'\n",
              "            + ' to learn more about interactive tables.';\n",
              "          element.innerHTML = '';\n",
              "          dataTable['output_type'] = 'display_data';\n",
              "          await google.colab.output.renderOutput(dataTable, element);\n",
              "          const docLink = document.createElement('div');\n",
              "          docLink.innerHTML = docLinkHtml;\n",
              "          element.appendChild(docLink);\n",
              "        }\n",
              "      </script>\n",
              "    </div>\n",
              "  </div>\n",
              "  "
            ]
          },
          "metadata": {},
          "execution_count": 13
        }
      ]
    },
    {
      "cell_type": "code",
      "source": [
        "# 눈으로 확인\n",
        "plt.figure(figsize=(15,5))\n",
        "sns.histplot(data=penguins_stand)"
      ],
      "metadata": {
        "colab": {
          "base_uri": "https://localhost:8080/",
          "height": 250
        },
        "id": "Ox3R96dZhDl5",
        "outputId": "33c59b40-ce0c-4e13-df53-329d25c2be71"
      },
      "execution_count": 14,
      "outputs": [
        {
          "output_type": "execute_result",
          "data": {
            "text/plain": [
              "<matplotlib.axes._subplots.AxesSubplot at 0x7f37a6ad5d50>"
            ]
          },
          "metadata": {},
          "execution_count": 14
        },
        {
          "output_type": "display_data",
          "data": {
            "text/plain": [
              "<Figure size 1080x360 with 1 Axes>"
            ],
            "image/png": "[encoded data removed]"
          },
          "metadata": {
            "needs_background": "light"
          }
        }
      ]
    },
    {
      "cell_type": "markdown",
      "source": [
        "### **범주형 데이터의 수치화 (인코딩,Encoding)**\n",
        "> - scikt-learn의 머신 러닝 알고리즘은 범주형 데이터를 계산할 수 없습니다.\n",
        "> - 따라서 일반적으로 범주형 데이터를 수치화(인코딩)해서 사용합니다.\n",
        "> - 범주형 데이터 수치화 방법 : 대표적으로 `라벨 인코딩(Label Encoding), 원핫 인코딩(One-hot Encoding)` 방법이 있습니다."
      ],
      "metadata": {
        "id": "9xhg8Dqwh-MR"
      }
    },
    {
      "cell_type": "code",
      "source": [
        "penguins_stand"
      ],
      "metadata": {
        "colab": {
          "base_uri": "https://localhost:8080/",
          "height": 483
        },
        "id": "_r3VKMwyh52q",
        "outputId": "a46b7e83-6928-48d9-a741-643109d85ee7"
      },
      "execution_count": 15,
      "outputs": [
        {
          "output_type": "execute_result",
          "data": {
            "text/plain": [
              "    species     island  bill_length_mm  bill_depth_mm  flipper_length_mm  \\\n",
              "0    Adelie  Torgersen       -0.896042       0.780732          -1.426752   \n",
              "1    Adelie  Torgersen       -0.822788       0.119584          -1.069474   \n",
              "2    Adelie  Torgersen       -0.676280       0.424729          -0.426373   \n",
              "3    Adelie  Torgersen       -1.335566       1.085877          -0.569284   \n",
              "4    Adelie  Torgersen       -0.859415       1.747026          -0.783651   \n",
              "..      ...        ...             ...            ...                ...   \n",
              "328  Gentoo     Biscoe        0.587352      -1.762145           0.931283   \n",
              "329  Gentoo     Biscoe        0.514098      -1.457000           1.002739   \n",
              "330  Gentoo     Biscoe        1.173384      -0.744994           1.502928   \n",
              "331  Gentoo     Biscoe        0.221082      -1.202712           0.788372   \n",
              "332  Gentoo     Biscoe        1.081817      -0.541564           0.859828   \n",
              "\n",
              "     body_mass_g     sex  \n",
              "0      -0.568475    Male  \n",
              "1      -0.506286  Female  \n",
              "2      -1.190361  Female  \n",
              "3      -0.941606  Female  \n",
              "4      -0.692852    Male  \n",
              "..           ...     ...  \n",
              "328     0.892957  Female  \n",
              "329     0.799674  Female  \n",
              "330     1.919069    Male  \n",
              "331     1.234995  Female  \n",
              "332     1.483749    Male  \n",
              "\n",
              "[333 rows x 7 columns]"
            ],
            "text/html": [
              "\n",
              "  <div id=\"df-b4195c32-f656-4285-99da-fd3593c68b59\">\n",
              "    <div class=\"colab-df-container\">\n",
              "      <div>\n",
              "<style scoped>\n",
              "    .dataframe tbody tr th:only-of-type {\n",
              "        vertical-align: middle;\n",
              "    }\n",
              "\n",
              "    .dataframe tbody tr th {\n",
              "        vertical-align: top;\n",
              "    }\n",
              "\n",
              "    .dataframe thead th {\n",
              "        text-align: right;\n",
              "    }\n",
              "</style>\n",
              "<table border=\"1\" class=\"dataframe\">\n",
              "  <thead>\n",
              "    <tr style=\"text-align: right;\">\n",
              "      <th></th>\n",
              "      <th>species</th>\n",
              "      <th>island</th>\n",
              "      <th>bill_length_mm</th>\n",
              "      <th>bill_depth_mm</th>\n",
              "      <th>flipper_length_mm</th>\n",
              "      <th>body_mass_g</th>\n",
              "      <th>sex</th>\n",
              "    </tr>\n",
              "  </thead>\n",
              "  <tbody>\n",
              "    <tr>\n",
              "      <th>0</th>\n",
              "      <td>Adelie</td>\n",
              "      <td>Torgersen</td>\n",
              "      <td>-0.896042</td>\n",
              "      <td>0.780732</td>\n",
              "      <td>-1.426752</td>\n",
              "      <td>-0.568475</td>\n",
              "      <td>Male</td>\n",
              "    </tr>\n",
              "    <tr>\n",
              "      <th>1</th>\n",
              "      <td>Adelie</td>\n",
              "      <td>Torgersen</td>\n",
              "      <td>-0.822788</td>\n",
              "      <td>0.119584</td>\n",
              "      <td>-1.069474</td>\n",
              "      <td>-0.506286</td>\n",
              "      <td>Female</td>\n",
              "    </tr>\n",
              "    <tr>\n",
              "      <th>2</th>\n",
              "      <td>Adelie</td>\n",
              "      <td>Torgersen</td>\n",
              "      <td>-0.676280</td>\n",
              "      <td>0.424729</td>\n",
              "      <td>-0.426373</td>\n",
              "      <td>-1.190361</td>\n",
              "      <td>Female</td>\n",
              "    </tr>\n",
              "    <tr>\n",
              "      <th>3</th>\n",
              "      <td>Adelie</td>\n",
              "      <td>Torgersen</td>\n",
              "      <td>-1.335566</td>\n",
              "      <td>1.085877</td>\n",
              "      <td>-0.569284</td>\n",
              "      <td>-0.941606</td>\n",
              "      <td>Female</td>\n",
              "    </tr>\n",
              "    <tr>\n",
              "      <th>4</th>\n",
              "      <td>Adelie</td>\n",
              "      <td>Torgersen</td>\n",
              "      <td>-0.859415</td>\n",
              "      <td>1.747026</td>\n",
              "      <td>-0.783651</td>\n",
              "      <td>-0.692852</td>\n",
              "      <td>Male</td>\n",
              "    </tr>\n",
              "    <tr>\n",
              "      <th>...</th>\n",
              "      <td>...</td>\n",
              "      <td>...</td>\n",
              "      <td>...</td>\n",
              "      <td>...</td>\n",
              "      <td>...</td>\n",
              "      <td>...</td>\n",
              "      <td>...</td>\n",
              "    </tr>\n",
              "    <tr>\n",
              "      <th>328</th>\n",
              "      <td>Gentoo</td>\n",
              "      <td>Biscoe</td>\n",
              "      <td>0.587352</td>\n",
              "      <td>-1.762145</td>\n",
              "      <td>0.931283</td>\n",
              "      <td>0.892957</td>\n",
              "      <td>Female</td>\n",
              "    </tr>\n",
              "    <tr>\n",
              "      <th>329</th>\n",
              "      <td>Gentoo</td>\n",
              "      <td>Biscoe</td>\n",
              "      <td>0.514098</td>\n",
              "      <td>-1.457000</td>\n",
              "      <td>1.002739</td>\n",
              "      <td>0.799674</td>\n",
              "      <td>Female</td>\n",
              "    </tr>\n",
              "    <tr>\n",
              "      <th>330</th>\n",
              "      <td>Gentoo</td>\n",
              "      <td>Biscoe</td>\n",
              "      <td>1.173384</td>\n",
              "      <td>-0.744994</td>\n",
              "      <td>1.502928</td>\n",
              "      <td>1.919069</td>\n",
              "      <td>Male</td>\n",
              "    </tr>\n",
              "    <tr>\n",
              "      <th>331</th>\n",
              "      <td>Gentoo</td>\n",
              "      <td>Biscoe</td>\n",
              "      <td>0.221082</td>\n",
              "      <td>-1.202712</td>\n",
              "      <td>0.788372</td>\n",
              "      <td>1.234995</td>\n",
              "      <td>Female</td>\n",
              "    </tr>\n",
              "    <tr>\n",
              "      <th>332</th>\n",
              "      <td>Gentoo</td>\n",
              "      <td>Biscoe</td>\n",
              "      <td>1.081817</td>\n",
              "      <td>-0.541564</td>\n",
              "      <td>0.859828</td>\n",
              "      <td>1.483749</td>\n",
              "      <td>Male</td>\n",
              "    </tr>\n",
              "  </tbody>\n",
              "</table>\n",
              "<p>333 rows × 7 columns</p>\n",
              "</div>\n",
              "      <button class=\"colab-df-convert\" onclick=\"convertToInteractive('df-b4195c32-f656-4285-99da-fd3593c68b59')\"\n",
              "              title=\"Convert this dataframe to an interactive table.\"\n",
              "              style=\"display:none;\">\n",
              "        \n",
              "  <svg xmlns=\"http://www.w3.org/2000/svg\" height=\"24px\"viewBox=\"0 0 24 24\"\n",
              "       width=\"24px\">\n",
              "    <path d=\"M0 0h24v24H0V0z\" fill=\"none\"/>\n",
              "    <path d=\"M18.56 5.44l.94 2.06.94-2.06 2.06-.94-2.06-.94-.94-2.06-.94 2.06-2.06.94zm-11 1L8.5 8.5l.94-2.06 2.06-.94-2.06-.94L8.5 2.5l-.94 2.06-2.06.94zm10 10l.94 2.06.94-2.06 2.06-.94-2.06-.94-.94-2.06-.94 2.06-2.06.94z\"/><path d=\"M17.41 7.96l-1.37-1.37c-.4-.4-.92-.59-1.43-.59-.52 0-1.04.2-1.43.59L10.3 9.45l-7.72 7.72c-.78.78-.78 2.05 0 2.83L4 21.41c.39.39.9.59 1.41.59.51 0 1.02-.2 1.41-.59l7.78-7.78 2.81-2.81c.8-.78.8-2.07 0-2.86zM5.41 20L4 18.59l7.72-7.72 1.47 1.35L5.41 20z\"/>\n",
              "  </svg>\n",
              "      </button>\n",
              "      \n",
              "  <style>\n",
              "    .colab-df-container {\n",
              "      display:flex;\n",
              "      flex-wrap:wrap;\n",
              "      gap: 12px;\n",
              "    }\n",
              "\n",
              "    .colab-df-convert {\n",
              "      background-color: #E8F0FE;\n",
              "      border: none;\n",
              "      border-radius: 50%;\n",
              "      cursor: pointer;\n",
              "      display: none;\n",
              "      fill: #1967D2;\n",
              "      height: 32px;\n",
              "      padding: 0 0 0 0;\n",
              "      width: 32px;\n",
              "    }\n",
              "\n",
              "    .colab-df-convert:hover {\n",
              "      background-color: #E2EBFA;\n",
              "      box-shadow: 0px 1px 2px rgba(60, 64, 67, 0.3), 0px 1px 3px 1px rgba(60, 64, 67, 0.15);\n",
              "      fill: #174EA6;\n",
              "    }\n",
              "\n",
              "    [theme=dark] .colab-df-convert {\n",
              "      background-color: #3B4455;\n",
              "      fill: #D2E3FC;\n",
              "    }\n",
              "\n",
              "    [theme=dark] .colab-df-convert:hover {\n",
              "      background-color: #434B5C;\n",
              "      box-shadow: 0px 1px 3px 1px rgba(0, 0, 0, 0.15);\n",
              "      filter: drop-shadow(0px 1px 2px rgba(0, 0, 0, 0.3));\n",
              "      fill: #FFFFFF;\n",
              "    }\n",
              "  </style>\n",
              "\n",
              "      <script>\n",
              "        const buttonEl =\n",
              "          document.querySelector('#df-b4195c32-f656-4285-99da-fd3593c68b59 button.colab-df-convert');\n",
              "        buttonEl.style.display =\n",
              "          google.colab.kernel.accessAllowed ? 'block' : 'none';\n",
              "\n",
              "        async function convertToInteractive(key) {\n",
              "          const element = document.querySelector('#df-b4195c32-f656-4285-99da-fd3593c68b59');\n",
              "          const dataTable =\n",
              "            await google.colab.kernel.invokeFunction('convertToInteractive',\n",
              "                                                     [key], {});\n",
              "          if (!dataTable) return;\n",
              "\n",
              "          const docLinkHtml = 'Like what you see? Visit the ' +\n",
              "            '<a target=\"_blank\" href=https://colab.research.google.com/notebooks/data_table.ipynb>data table notebook</a>'\n",
              "            + ' to learn more about interactive tables.';\n",
              "          element.innerHTML = '';\n",
              "          dataTable['output_type'] = 'display_data';\n",
              "          await google.colab.output.renderOutput(dataTable, element);\n",
              "          const docLink = document.createElement('div');\n",
              "          docLink.innerHTML = docLinkHtml;\n",
              "          element.appendChild(docLink);\n",
              "        }\n",
              "      </script>\n",
              "    </div>\n",
              "  </div>\n",
              "  "
            ]
          },
          "metadata": {},
          "execution_count": 15
        }
      ]
    },
    {
      "cell_type": "code",
      "source": [
        "penguins_stand['island'].unique()\n",
        "# 3가지의 value 존재    "
      ],
      "metadata": {
        "colab": {
          "base_uri": "https://localhost:8080/"
        },
        "id": "4SUxQQfHie54",
        "outputId": "fb60f931-ede8-4516-fc8e-cf4b9c95c718"
      },
      "execution_count": 16,
      "outputs": [
        {
          "output_type": "execute_result",
          "data": {
            "text/plain": [
              "array(['Torgersen', 'Biscoe', 'Dream'], dtype=object)"
            ]
          },
          "metadata": {},
          "execution_count": 16
        }
      ]
    },
    {
      "cell_type": "code",
      "source": [
        "penguins_stand['sex'].unique()\n",
        "# 남/녀 2개 존재"
      ],
      "metadata": {
        "colab": {
          "base_uri": "https://localhost:8080/"
        },
        "id": "RpGvsl33i5VQ",
        "outputId": "c76859d2-8bc9-4c01-8bbb-fa331860e19e"
      },
      "execution_count": 17,
      "outputs": [
        {
          "output_type": "execute_result",
          "data": {
            "text/plain": [
              "array(['Male', 'Female'], dtype=object)"
            ]
          },
          "metadata": {},
          "execution_count": 17
        }
      ]
    },
    {
      "cell_type": "markdown",
      "source": [
        "> 라벨 인코딩 (`Label Encoding`)\n",
        "> - 범주형 데이터의 범주 가짓수에 따라 숫자를 할당해주는 방법입니다."
      ],
      "metadata": {
        "id": "MDmibRZVjDPc"
      }
    },
    {
      "cell_type": "code",
      "source": [
        "from sklearn.preprocessing import LabelEncoder # 라이브러리 로딩\n",
        "encoder = LabelEncoder() \n",
        "\n",
        "penguins_label = penguins_stand.copy()\n",
        "features = penguins_label[['species', 'island', 'sex']] # 인코딩 할 대상\n",
        "encoded = features.apply(encoder.fit_transform)\n",
        "encoded"
      ],
      "metadata": {
        "colab": {
          "base_uri": "https://localhost:8080/",
          "height": 419
        },
        "id": "AY2Gq2lPi_gB",
        "outputId": "4d544f64-064c-409f-b492-6f54344c1182"
      },
      "execution_count": 18,
      "outputs": [
        {
          "output_type": "execute_result",
          "data": {
            "text/plain": [
              "     species  island  sex\n",
              "0          0       2    1\n",
              "1          0       2    0\n",
              "2          0       2    0\n",
              "3          0       2    0\n",
              "4          0       2    1\n",
              "..       ...     ...  ...\n",
              "328        2       0    0\n",
              "329        2       0    0\n",
              "330        2       0    1\n",
              "331        2       0    0\n",
              "332        2       0    1\n",
              "\n",
              "[333 rows x 3 columns]"
            ],
            "text/html": [
              "\n",
              "  <div id=\"df-47cdb56d-aedc-46fb-8aa9-b9e480666464\">\n",
              "    <div class=\"colab-df-container\">\n",
              "      <div>\n",
              "<style scoped>\n",
              "    .dataframe tbody tr th:only-of-type {\n",
              "        vertical-align: middle;\n",
              "    }\n",
              "\n",
              "    .dataframe tbody tr th {\n",
              "        vertical-align: top;\n",
              "    }\n",
              "\n",
              "    .dataframe thead th {\n",
              "        text-align: right;\n",
              "    }\n",
              "</style>\n",
              "<table border=\"1\" class=\"dataframe\">\n",
              "  <thead>\n",
              "    <tr style=\"text-align: right;\">\n",
              "      <th></th>\n",
              "      <th>species</th>\n",
              "      <th>island</th>\n",
              "      <th>sex</th>\n",
              "    </tr>\n",
              "  </thead>\n",
              "  <tbody>\n",
              "    <tr>\n",
              "      <th>0</th>\n",
              "      <td>0</td>\n",
              "      <td>2</td>\n",
              "      <td>1</td>\n",
              "    </tr>\n",
              "    <tr>\n",
              "      <th>1</th>\n",
              "      <td>0</td>\n",
              "      <td>2</td>\n",
              "      <td>0</td>\n",
              "    </tr>\n",
              "    <tr>\n",
              "      <th>2</th>\n",
              "      <td>0</td>\n",
              "      <td>2</td>\n",
              "      <td>0</td>\n",
              "    </tr>\n",
              "    <tr>\n",
              "      <th>3</th>\n",
              "      <td>0</td>\n",
              "      <td>2</td>\n",
              "      <td>0</td>\n",
              "    </tr>\n",
              "    <tr>\n",
              "      <th>4</th>\n",
              "      <td>0</td>\n",
              "      <td>2</td>\n",
              "      <td>1</td>\n",
              "    </tr>\n",
              "    <tr>\n",
              "      <th>...</th>\n",
              "      <td>...</td>\n",
              "      <td>...</td>\n",
              "      <td>...</td>\n",
              "    </tr>\n",
              "    <tr>\n",
              "      <th>328</th>\n",
              "      <td>2</td>\n",
              "      <td>0</td>\n",
              "      <td>0</td>\n",
              "    </tr>\n",
              "    <tr>\n",
              "      <th>329</th>\n",
              "      <td>2</td>\n",
              "      <td>0</td>\n",
              "      <td>0</td>\n",
              "    </tr>\n",
              "    <tr>\n",
              "      <th>330</th>\n",
              "      <td>2</td>\n",
              "      <td>0</td>\n",
              "      <td>1</td>\n",
              "    </tr>\n",
              "    <tr>\n",
              "      <th>331</th>\n",
              "      <td>2</td>\n",
              "      <td>0</td>\n",
              "      <td>0</td>\n",
              "    </tr>\n",
              "    <tr>\n",
              "      <th>332</th>\n",
              "      <td>2</td>\n",
              "      <td>0</td>\n",
              "      <td>1</td>\n",
              "    </tr>\n",
              "  </tbody>\n",
              "</table>\n",
              "<p>333 rows × 3 columns</p>\n",
              "</div>\n",
              "      <button class=\"colab-df-convert\" onclick=\"convertToInteractive('df-47cdb56d-aedc-46fb-8aa9-b9e480666464')\"\n",
              "              title=\"Convert this dataframe to an interactive table.\"\n",
              "              style=\"display:none;\">\n",
              "        \n",
              "  <svg xmlns=\"http://www.w3.org/2000/svg\" height=\"24px\"viewBox=\"0 0 24 24\"\n",
              "       width=\"24px\">\n",
              "    <path d=\"M0 0h24v24H0V0z\" fill=\"none\"/>\n",
              "    <path d=\"M18.56 5.44l.94 2.06.94-2.06 2.06-.94-2.06-.94-.94-2.06-.94 2.06-2.06.94zm-11 1L8.5 8.5l.94-2.06 2.06-.94-2.06-.94L8.5 2.5l-.94 2.06-2.06.94zm10 10l.94 2.06.94-2.06 2.06-.94-2.06-.94-.94-2.06-.94 2.06-2.06.94z\"/><path d=\"M17.41 7.96l-1.37-1.37c-.4-.4-.92-.59-1.43-.59-.52 0-1.04.2-1.43.59L10.3 9.45l-7.72 7.72c-.78.78-.78 2.05 0 2.83L4 21.41c.39.39.9.59 1.41.59.51 0 1.02-.2 1.41-.59l7.78-7.78 2.81-2.81c.8-.78.8-2.07 0-2.86zM5.41 20L4 18.59l7.72-7.72 1.47 1.35L5.41 20z\"/>\n",
              "  </svg>\n",
              "      </button>\n",
              "      \n",
              "  <style>\n",
              "    .colab-df-container {\n",
              "      display:flex;\n",
              "      flex-wrap:wrap;\n",
              "      gap: 12px;\n",
              "    }\n",
              "\n",
              "    .colab-df-convert {\n",
              "      background-color: #E8F0FE;\n",
              "      border: none;\n",
              "      border-radius: 50%;\n",
              "      cursor: pointer;\n",
              "      display: none;\n",
              "      fill: #1967D2;\n",
              "      height: 32px;\n",
              "      padding: 0 0 0 0;\n",
              "      width: 32px;\n",
              "    }\n",
              "\n",
              "    .colab-df-convert:hover {\n",
              "      background-color: #E2EBFA;\n",
              "      box-shadow: 0px 1px 2px rgba(60, 64, 67, 0.3), 0px 1px 3px 1px rgba(60, 64, 67, 0.15);\n",
              "      fill: #174EA6;\n",
              "    }\n",
              "\n",
              "    [theme=dark] .colab-df-convert {\n",
              "      background-color: #3B4455;\n",
              "      fill: #D2E3FC;\n",
              "    }\n",
              "\n",
              "    [theme=dark] .colab-df-convert:hover {\n",
              "      background-color: #434B5C;\n",
              "      box-shadow: 0px 1px 3px 1px rgba(0, 0, 0, 0.15);\n",
              "      filter: drop-shadow(0px 1px 2px rgba(0, 0, 0, 0.3));\n",
              "      fill: #FFFFFF;\n",
              "    }\n",
              "  </style>\n",
              "\n",
              "      <script>\n",
              "        const buttonEl =\n",
              "          document.querySelector('#df-47cdb56d-aedc-46fb-8aa9-b9e480666464 button.colab-df-convert');\n",
              "        buttonEl.style.display =\n",
              "          google.colab.kernel.accessAllowed ? 'block' : 'none';\n",
              "\n",
              "        async function convertToInteractive(key) {\n",
              "          const element = document.querySelector('#df-47cdb56d-aedc-46fb-8aa9-b9e480666464');\n",
              "          const dataTable =\n",
              "            await google.colab.kernel.invokeFunction('convertToInteractive',\n",
              "                                                     [key], {});\n",
              "          if (!dataTable) return;\n",
              "\n",
              "          const docLinkHtml = 'Like what you see? Visit the ' +\n",
              "            '<a target=\"_blank\" href=https://colab.research.google.com/notebooks/data_table.ipynb>data table notebook</a>'\n",
              "            + ' to learn more about interactive tables.';\n",
              "          element.innerHTML = '';\n",
              "          dataTable['output_type'] = 'display_data';\n",
              "          await google.colab.output.renderOutput(dataTable, element);\n",
              "          const docLink = document.createElement('div');\n",
              "          docLink.innerHTML = docLinkHtml;\n",
              "          element.appendChild(docLink);\n",
              "        }\n",
              "      </script>\n",
              "    </div>\n",
              "  </div>\n",
              "  "
            ]
          },
          "metadata": {},
          "execution_count": 18
        }
      ]
    },
    {
      "cell_type": "code",
      "source": [
        "# 수치형 데이터로 바꾸지\n",
        "penguins_label = penguins_label.assign(species = encoded['species'],\n",
        "                                       island = encoded['island'],\n",
        "                                       sex = encoded['sex'])\n",
        "\n",
        "penguins_label"
      ],
      "metadata": {
        "colab": {
          "base_uri": "https://localhost:8080/",
          "height": 483
        },
        "id": "ZcwwszPXmBXo",
        "outputId": "8ba3a871-0a90-4661-b134-84fbbb445750"
      },
      "execution_count": 19,
      "outputs": [
        {
          "output_type": "execute_result",
          "data": {
            "text/plain": [
              "     species  island  bill_length_mm  bill_depth_mm  flipper_length_mm  \\\n",
              "0          0       2       -0.896042       0.780732          -1.426752   \n",
              "1          0       2       -0.822788       0.119584          -1.069474   \n",
              "2          0       2       -0.676280       0.424729          -0.426373   \n",
              "3          0       2       -1.335566       1.085877          -0.569284   \n",
              "4          0       2       -0.859415       1.747026          -0.783651   \n",
              "..       ...     ...             ...            ...                ...   \n",
              "328        2       0        0.587352      -1.762145           0.931283   \n",
              "329        2       0        0.514098      -1.457000           1.002739   \n",
              "330        2       0        1.173384      -0.744994           1.502928   \n",
              "331        2       0        0.221082      -1.202712           0.788372   \n",
              "332        2       0        1.081817      -0.541564           0.859828   \n",
              "\n",
              "     body_mass_g  sex  \n",
              "0      -0.568475    1  \n",
              "1      -0.506286    0  \n",
              "2      -1.190361    0  \n",
              "3      -0.941606    0  \n",
              "4      -0.692852    1  \n",
              "..           ...  ...  \n",
              "328     0.892957    0  \n",
              "329     0.799674    0  \n",
              "330     1.919069    1  \n",
              "331     1.234995    0  \n",
              "332     1.483749    1  \n",
              "\n",
              "[333 rows x 7 columns]"
            ],
            "text/html": [
              "\n",
              "  <div id=\"df-37ec6e06-ff62-42a5-82ed-ffc553bb641a\">\n",
              "    <div class=\"colab-df-container\">\n",
              "      <div>\n",
              "<style scoped>\n",
              "    .dataframe tbody tr th:only-of-type {\n",
              "        vertical-align: middle;\n",
              "    }\n",
              "\n",
              "    .dataframe tbody tr th {\n",
              "        vertical-align: top;\n",
              "    }\n",
              "\n",
              "    .dataframe thead th {\n",
              "        text-align: right;\n",
              "    }\n",
              "</style>\n",
              "<table border=\"1\" class=\"dataframe\">\n",
              "  <thead>\n",
              "    <tr style=\"text-align: right;\">\n",
              "      <th></th>\n",
              "      <th>species</th>\n",
              "      <th>island</th>\n",
              "      <th>bill_length_mm</th>\n",
              "      <th>bill_depth_mm</th>\n",
              "      <th>flipper_length_mm</th>\n",
              "      <th>body_mass_g</th>\n",
              "      <th>sex</th>\n",
              "    </tr>\n",
              "  </thead>\n",
              "  <tbody>\n",
              "    <tr>\n",
              "      <th>0</th>\n",
              "      <td>0</td>\n",
              "      <td>2</td>\n",
              "      <td>-0.896042</td>\n",
              "      <td>0.780732</td>\n",
              "      <td>-1.426752</td>\n",
              "      <td>-0.568475</td>\n",
              "      <td>1</td>\n",
              "    </tr>\n",
              "    <tr>\n",
              "      <th>1</th>\n",
              "      <td>0</td>\n",
              "      <td>2</td>\n",
              "      <td>-0.822788</td>\n",
              "      <td>0.119584</td>\n",
              "      <td>-1.069474</td>\n",
              "      <td>-0.506286</td>\n",
              "      <td>0</td>\n",
              "    </tr>\n",
              "    <tr>\n",
              "      <th>2</th>\n",
              "      <td>0</td>\n",
              "      <td>2</td>\n",
              "      <td>-0.676280</td>\n",
              "      <td>0.424729</td>\n",
              "      <td>-0.426373</td>\n",
              "      <td>-1.190361</td>\n",
              "      <td>0</td>\n",
              "    </tr>\n",
              "    <tr>\n",
              "      <th>3</th>\n",
              "      <td>0</td>\n",
              "      <td>2</td>\n",
              "      <td>-1.335566</td>\n",
              "      <td>1.085877</td>\n",
              "      <td>-0.569284</td>\n",
              "      <td>-0.941606</td>\n",
              "      <td>0</td>\n",
              "    </tr>\n",
              "    <tr>\n",
              "      <th>4</th>\n",
              "      <td>0</td>\n",
              "      <td>2</td>\n",
              "      <td>-0.859415</td>\n",
              "      <td>1.747026</td>\n",
              "      <td>-0.783651</td>\n",
              "      <td>-0.692852</td>\n",
              "      <td>1</td>\n",
              "    </tr>\n",
              "    <tr>\n",
              "      <th>...</th>\n",
              "      <td>...</td>\n",
              "      <td>...</td>\n",
              "      <td>...</td>\n",
              "      <td>...</td>\n",
              "      <td>...</td>\n",
              "      <td>...</td>\n",
              "      <td>...</td>\n",
              "    </tr>\n",
              "    <tr>\n",
              "      <th>328</th>\n",
              "      <td>2</td>\n",
              "      <td>0</td>\n",
              "      <td>0.587352</td>\n",
              "      <td>-1.762145</td>\n",
              "      <td>0.931283</td>\n",
              "      <td>0.892957</td>\n",
              "      <td>0</td>\n",
              "    </tr>\n",
              "    <tr>\n",
              "      <th>329</th>\n",
              "      <td>2</td>\n",
              "      <td>0</td>\n",
              "      <td>0.514098</td>\n",
              "      <td>-1.457000</td>\n",
              "      <td>1.002739</td>\n",
              "      <td>0.799674</td>\n",
              "      <td>0</td>\n",
              "    </tr>\n",
              "    <tr>\n",
              "      <th>330</th>\n",
              "      <td>2</td>\n",
              "      <td>0</td>\n",
              "      <td>1.173384</td>\n",
              "      <td>-0.744994</td>\n",
              "      <td>1.502928</td>\n",
              "      <td>1.919069</td>\n",
              "      <td>1</td>\n",
              "    </tr>\n",
              "    <tr>\n",
              "      <th>331</th>\n",
              "      <td>2</td>\n",
              "      <td>0</td>\n",
              "      <td>0.221082</td>\n",
              "      <td>-1.202712</td>\n",
              "      <td>0.788372</td>\n",
              "      <td>1.234995</td>\n",
              "      <td>0</td>\n",
              "    </tr>\n",
              "    <tr>\n",
              "      <th>332</th>\n",
              "      <td>2</td>\n",
              "      <td>0</td>\n",
              "      <td>1.081817</td>\n",
              "      <td>-0.541564</td>\n",
              "      <td>0.859828</td>\n",
              "      <td>1.483749</td>\n",
              "      <td>1</td>\n",
              "    </tr>\n",
              "  </tbody>\n",
              "</table>\n",
              "<p>333 rows × 7 columns</p>\n",
              "</div>\n",
              "      <button class=\"colab-df-convert\" onclick=\"convertToInteractive('df-37ec6e06-ff62-42a5-82ed-ffc553bb641a')\"\n",
              "              title=\"Convert this dataframe to an interactive table.\"\n",
              "              style=\"display:none;\">\n",
              "        \n",
              "  <svg xmlns=\"http://www.w3.org/2000/svg\" height=\"24px\"viewBox=\"0 0 24 24\"\n",
              "       width=\"24px\">\n",
              "    <path d=\"M0 0h24v24H0V0z\" fill=\"none\"/>\n",
              "    <path d=\"M18.56 5.44l.94 2.06.94-2.06 2.06-.94-2.06-.94-.94-2.06-.94 2.06-2.06.94zm-11 1L8.5 8.5l.94-2.06 2.06-.94-2.06-.94L8.5 2.5l-.94 2.06-2.06.94zm10 10l.94 2.06.94-2.06 2.06-.94-2.06-.94-.94-2.06-.94 2.06-2.06.94z\"/><path d=\"M17.41 7.96l-1.37-1.37c-.4-.4-.92-.59-1.43-.59-.52 0-1.04.2-1.43.59L10.3 9.45l-7.72 7.72c-.78.78-.78 2.05 0 2.83L4 21.41c.39.39.9.59 1.41.59.51 0 1.02-.2 1.41-.59l7.78-7.78 2.81-2.81c.8-.78.8-2.07 0-2.86zM5.41 20L4 18.59l7.72-7.72 1.47 1.35L5.41 20z\"/>\n",
              "  </svg>\n",
              "      </button>\n",
              "      \n",
              "  <style>\n",
              "    .colab-df-container {\n",
              "      display:flex;\n",
              "      flex-wrap:wrap;\n",
              "      gap: 12px;\n",
              "    }\n",
              "\n",
              "    .colab-df-convert {\n",
              "      background-color: #E8F0FE;\n",
              "      border: none;\n",
              "      border-radius: 50%;\n",
              "      cursor: pointer;\n",
              "      display: none;\n",
              "      fill: #1967D2;\n",
              "      height: 32px;\n",
              "      padding: 0 0 0 0;\n",
              "      width: 32px;\n",
              "    }\n",
              "\n",
              "    .colab-df-convert:hover {\n",
              "      background-color: #E2EBFA;\n",
              "      box-shadow: 0px 1px 2px rgba(60, 64, 67, 0.3), 0px 1px 3px 1px rgba(60, 64, 67, 0.15);\n",
              "      fill: #174EA6;\n",
              "    }\n",
              "\n",
              "    [theme=dark] .colab-df-convert {\n",
              "      background-color: #3B4455;\n",
              "      fill: #D2E3FC;\n",
              "    }\n",
              "\n",
              "    [theme=dark] .colab-df-convert:hover {\n",
              "      background-color: #434B5C;\n",
              "      box-shadow: 0px 1px 3px 1px rgba(0, 0, 0, 0.15);\n",
              "      filter: drop-shadow(0px 1px 2px rgba(0, 0, 0, 0.3));\n",
              "      fill: #FFFFFF;\n",
              "    }\n",
              "  </style>\n",
              "\n",
              "      <script>\n",
              "        const buttonEl =\n",
              "          document.querySelector('#df-37ec6e06-ff62-42a5-82ed-ffc553bb641a button.colab-df-convert');\n",
              "        buttonEl.style.display =\n",
              "          google.colab.kernel.accessAllowed ? 'block' : 'none';\n",
              "\n",
              "        async function convertToInteractive(key) {\n",
              "          const element = document.querySelector('#df-37ec6e06-ff62-42a5-82ed-ffc553bb641a');\n",
              "          const dataTable =\n",
              "            await google.colab.kernel.invokeFunction('convertToInteractive',\n",
              "                                                     [key], {});\n",
              "          if (!dataTable) return;\n",
              "\n",
              "          const docLinkHtml = 'Like what you see? Visit the ' +\n",
              "            '<a target=\"_blank\" href=https://colab.research.google.com/notebooks/data_table.ipynb>data table notebook</a>'\n",
              "            + ' to learn more about interactive tables.';\n",
              "          element.innerHTML = '';\n",
              "          dataTable['output_type'] = 'display_data';\n",
              "          await google.colab.output.renderOutput(dataTable, element);\n",
              "          const docLink = document.createElement('div');\n",
              "          docLink.innerHTML = docLinkHtml;\n",
              "          element.appendChild(docLink);\n",
              "        }\n",
              "      </script>\n",
              "    </div>\n",
              "  </div>\n",
              "  "
            ]
          },
          "metadata": {},
          "execution_count": 19
        }
      ]
    },
    {
      "cell_type": "markdown",
      "source": [
        "> 원 핫 인코딩 (`One Hot Encoding`)\n",
        "> - 범주형 데이터의 범주 가짓수에 컬럼을 추가 해주는 방법입니다.\n",
        "> - 범주에 포함되는 컬럼에 1을 부여하고 다른 컬럼을 0을 부여한다."
      ],
      "metadata": {
        "id": "8KngjDfWmb1q"
      }
    },
    {
      "cell_type": "code",
      "source": [
        "from sklearn.preprocessing import OneHotEncoder\n",
        "encoder = OneHotEncoder()\n",
        "\n",
        "penguins_onehot = penguins_stand.copy()\n",
        "features = penguins_onehot[['species', 'island', 'sex']]\n",
        "encoded = encoder.fit_transform(features).toarray() "
      ],
      "metadata": {
        "id": "kBXs8bdimVqI"
      },
      "execution_count": 20,
      "outputs": []
    },
    {
      "cell_type": "code",
      "source": [
        "encoded"
      ],
      "metadata": {
        "colab": {
          "base_uri": "https://localhost:8080/"
        },
        "id": "xETgfqVjnCqx",
        "outputId": "b178befd-ec99-4bf8-c534-db82489d6546"
      },
      "execution_count": 21,
      "outputs": [
        {
          "output_type": "execute_result",
          "data": {
            "text/plain": [
              "array([[1., 0., 0., ..., 1., 0., 1.],\n",
              "       [1., 0., 0., ..., 1., 1., 0.],\n",
              "       [1., 0., 0., ..., 1., 1., 0.],\n",
              "       ...,\n",
              "       [0., 0., 1., ..., 0., 0., 1.],\n",
              "       [0., 0., 1., ..., 0., 1., 0.],\n",
              "       [0., 0., 1., ..., 0., 0., 1.]])"
            ]
          },
          "metadata": {},
          "execution_count": 21
        }
      ]
    },
    {
      "cell_type": "code",
      "source": [
        "encoder.categories_"
      ],
      "metadata": {
        "colab": {
          "base_uri": "https://localhost:8080/"
        },
        "id": "ZY2Znlc0nJ5I",
        "outputId": "10ea4850-6f5e-4447-8b62-8a0de5aca839"
      },
      "execution_count": 22,
      "outputs": [
        {
          "output_type": "execute_result",
          "data": {
            "text/plain": [
              "[array(['Adelie', 'Chinstrap', 'Gentoo'], dtype=object),\n",
              " array(['Biscoe', 'Dream', 'Torgersen'], dtype=object),\n",
              " array(['Female', 'Male'], dtype=object)]"
            ]
          },
          "metadata": {},
          "execution_count": 22
        }
      ]
    },
    {
      "cell_type": "code",
      "source": [
        "# 기존 범주형 컬럼 버리기\n",
        "penguins_onehot = penguins_onehot.drop(columns=['species', 'island', 'sex'])\n",
        "\n",
        "#인코딩 결과 프레임 생성\n",
        "encoded_df = pd.DataFrame(encoded)\n",
        "encoded_df.columns = encoder.get_feature_names_out()\n",
        "\n",
        "#기존 데이터 프레임과 결함\n",
        "penguins_onehot = pd.concat([penguins_onehot, encoded_df], axis=1)"
      ],
      "metadata": {
        "id": "ZoZxyyIhnOXv"
      },
      "execution_count": 23,
      "outputs": []
    },
    {
      "cell_type": "code",
      "source": [
        "penguins_onehot"
      ],
      "metadata": {
        "colab": {
          "base_uri": "https://localhost:8080/",
          "height": 483
        },
        "id": "tidt08IOoxr5",
        "outputId": "72206029-0c4d-4bec-d832-f462b5a1b328"
      },
      "execution_count": 24,
      "outputs": [
        {
          "output_type": "execute_result",
          "data": {
            "text/plain": [
              "     bill_length_mm  bill_depth_mm  flipper_length_mm  body_mass_g  \\\n",
              "0         -0.896042       0.780732          -1.426752    -0.568475   \n",
              "1         -0.822788       0.119584          -1.069474    -0.506286   \n",
              "2         -0.676280       0.424729          -0.426373    -1.190361   \n",
              "3         -1.335566       1.085877          -0.569284    -0.941606   \n",
              "4         -0.859415       1.747026          -0.783651    -0.692852   \n",
              "..              ...            ...                ...          ...   \n",
              "328        0.587352      -1.762145           0.931283     0.892957   \n",
              "329        0.514098      -1.457000           1.002739     0.799674   \n",
              "330        1.173384      -0.744994           1.502928     1.919069   \n",
              "331        0.221082      -1.202712           0.788372     1.234995   \n",
              "332        1.081817      -0.541564           0.859828     1.483749   \n",
              "\n",
              "     species_Adelie  species_Chinstrap  species_Gentoo  island_Biscoe  \\\n",
              "0               1.0                0.0             0.0            0.0   \n",
              "1               1.0                0.0             0.0            0.0   \n",
              "2               1.0                0.0             0.0            0.0   \n",
              "3               1.0                0.0             0.0            0.0   \n",
              "4               1.0                0.0             0.0            0.0   \n",
              "..              ...                ...             ...            ...   \n",
              "328             0.0                0.0             1.0            1.0   \n",
              "329             0.0                0.0             1.0            1.0   \n",
              "330             0.0                0.0             1.0            1.0   \n",
              "331             0.0                0.0             1.0            1.0   \n",
              "332             0.0                0.0             1.0            1.0   \n",
              "\n",
              "     island_Dream  island_Torgersen  sex_Female  sex_Male  \n",
              "0             0.0               1.0         0.0       1.0  \n",
              "1             0.0               1.0         1.0       0.0  \n",
              "2             0.0               1.0         1.0       0.0  \n",
              "3             0.0               1.0         1.0       0.0  \n",
              "4             0.0               1.0         0.0       1.0  \n",
              "..            ...               ...         ...       ...  \n",
              "328           0.0               0.0         1.0       0.0  \n",
              "329           0.0               0.0         1.0       0.0  \n",
              "330           0.0               0.0         0.0       1.0  \n",
              "331           0.0               0.0         1.0       0.0  \n",
              "332           0.0               0.0         0.0       1.0  \n",
              "\n",
              "[333 rows x 12 columns]"
            ],
            "text/html": [
              "\n",
              "  <div id=\"df-72211c89-e3e5-4f8e-b91c-09a54f921e7a\">\n",
              "    <div class=\"colab-df-container\">\n",
              "      <div>\n",
              "<style scoped>\n",
              "    .dataframe tbody tr th:only-of-type {\n",
              "        vertical-align: middle;\n",
              "    }\n",
              "\n",
              "    .dataframe tbody tr th {\n",
              "        vertical-align: top;\n",
              "    }\n",
              "\n",
              "    .dataframe thead th {\n",
              "        text-align: right;\n",
              "    }\n",
              "</style>\n",
              "<table border=\"1\" class=\"dataframe\">\n",
              "  <thead>\n",
              "    <tr style=\"text-align: right;\">\n",
              "      <th></th>\n",
              "      <th>bill_length_mm</th>\n",
              "      <th>bill_depth_mm</th>\n",
              "      <th>flipper_length_mm</th>\n",
              "      <th>body_mass_g</th>\n",
              "      <th>species_Adelie</th>\n",
              "      <th>species_Chinstrap</th>\n",
              "      <th>species_Gentoo</th>\n",
              "      <th>island_Biscoe</th>\n",
              "      <th>island_Dream</th>\n",
              "      <th>island_Torgersen</th>\n",
              "      <th>sex_Female</th>\n",
              "      <th>sex_Male</th>\n",
              "    </tr>\n",
              "  </thead>\n",
              "  <tbody>\n",
              "    <tr>\n",
              "      <th>0</th>\n",
              "      <td>-0.896042</td>\n",
              "      <td>0.780732</td>\n",
              "      <td>-1.426752</td>\n",
              "      <td>-0.568475</td>\n",
              "      <td>1.0</td>\n",
              "      <td>0.0</td>\n",
              "      <td>0.0</td>\n",
              "      <td>0.0</td>\n",
              "      <td>0.0</td>\n",
              "      <td>1.0</td>\n",
              "      <td>0.0</td>\n",
              "      <td>1.0</td>\n",
              "    </tr>\n",
              "    <tr>\n",
              "      <th>1</th>\n",
              "      <td>-0.822788</td>\n",
              "      <td>0.119584</td>\n",
              "      <td>-1.069474</td>\n",
              "      <td>-0.506286</td>\n",
              "      <td>1.0</td>\n",
              "      <td>0.0</td>\n",
              "      <td>0.0</td>\n",
              "      <td>0.0</td>\n",
              "      <td>0.0</td>\n",
              "      <td>1.0</td>\n",
              "      <td>1.0</td>\n",
              "      <td>0.0</td>\n",
              "    </tr>\n",
              "    <tr>\n",
              "      <th>2</th>\n",
              "      <td>-0.676280</td>\n",
              "      <td>0.424729</td>\n",
              "      <td>-0.426373</td>\n",
              "      <td>-1.190361</td>\n",
              "      <td>1.0</td>\n",
              "      <td>0.0</td>\n",
              "      <td>0.0</td>\n",
              "      <td>0.0</td>\n",
              "      <td>0.0</td>\n",
              "      <td>1.0</td>\n",
              "      <td>1.0</td>\n",
              "      <td>0.0</td>\n",
              "    </tr>\n",
              "    <tr>\n",
              "      <th>3</th>\n",
              "      <td>-1.335566</td>\n",
              "      <td>1.085877</td>\n",
              "      <td>-0.569284</td>\n",
              "      <td>-0.941606</td>\n",
              "      <td>1.0</td>\n",
              "      <td>0.0</td>\n",
              "      <td>0.0</td>\n",
              "      <td>0.0</td>\n",
              "      <td>0.0</td>\n",
              "      <td>1.0</td>\n",
              "      <td>1.0</td>\n",
              "      <td>0.0</td>\n",
              "    </tr>\n",
              "    <tr>\n",
              "      <th>4</th>\n",
              "      <td>-0.859415</td>\n",
              "      <td>1.747026</td>\n",
              "      <td>-0.783651</td>\n",
              "      <td>-0.692852</td>\n",
              "      <td>1.0</td>\n",
              "      <td>0.0</td>\n",
              "      <td>0.0</td>\n",
              "      <td>0.0</td>\n",
              "      <td>0.0</td>\n",
              "      <td>1.0</td>\n",
              "      <td>0.0</td>\n",
              "      <td>1.0</td>\n",
              "    </tr>\n",
              "    <tr>\n",
              "      <th>...</th>\n",
              "      <td>...</td>\n",
              "      <td>...</td>\n",
              "      <td>...</td>\n",
              "      <td>...</td>\n",
              "      <td>...</td>\n",
              "      <td>...</td>\n",
              "      <td>...</td>\n",
              "      <td>...</td>\n",
              "      <td>...</td>\n",
              "      <td>...</td>\n",
              "      <td>...</td>\n",
              "      <td>...</td>\n",
              "    </tr>\n",
              "    <tr>\n",
              "      <th>328</th>\n",
              "      <td>0.587352</td>\n",
              "      <td>-1.762145</td>\n",
              "      <td>0.931283</td>\n",
              "      <td>0.892957</td>\n",
              "      <td>0.0</td>\n",
              "      <td>0.0</td>\n",
              "      <td>1.0</td>\n",
              "      <td>1.0</td>\n",
              "      <td>0.0</td>\n",
              "      <td>0.0</td>\n",
              "      <td>1.0</td>\n",
              "      <td>0.0</td>\n",
              "    </tr>\n",
              "    <tr>\n",
              "      <th>329</th>\n",
              "      <td>0.514098</td>\n",
              "      <td>-1.457000</td>\n",
              "      <td>1.002739</td>\n",
              "      <td>0.799674</td>\n",
              "      <td>0.0</td>\n",
              "      <td>0.0</td>\n",
              "      <td>1.0</td>\n",
              "      <td>1.0</td>\n",
              "      <td>0.0</td>\n",
              "      <td>0.0</td>\n",
              "      <td>1.0</td>\n",
              "      <td>0.0</td>\n",
              "    </tr>\n",
              "    <tr>\n",
              "      <th>330</th>\n",
              "      <td>1.173384</td>\n",
              "      <td>-0.744994</td>\n",
              "      <td>1.502928</td>\n",
              "      <td>1.919069</td>\n",
              "      <td>0.0</td>\n",
              "      <td>0.0</td>\n",
              "      <td>1.0</td>\n",
              "      <td>1.0</td>\n",
              "      <td>0.0</td>\n",
              "      <td>0.0</td>\n",
              "      <td>0.0</td>\n",
              "      <td>1.0</td>\n",
              "    </tr>\n",
              "    <tr>\n",
              "      <th>331</th>\n",
              "      <td>0.221082</td>\n",
              "      <td>-1.202712</td>\n",
              "      <td>0.788372</td>\n",
              "      <td>1.234995</td>\n",
              "      <td>0.0</td>\n",
              "      <td>0.0</td>\n",
              "      <td>1.0</td>\n",
              "      <td>1.0</td>\n",
              "      <td>0.0</td>\n",
              "      <td>0.0</td>\n",
              "      <td>1.0</td>\n",
              "      <td>0.0</td>\n",
              "    </tr>\n",
              "    <tr>\n",
              "      <th>332</th>\n",
              "      <td>1.081817</td>\n",
              "      <td>-0.541564</td>\n",
              "      <td>0.859828</td>\n",
              "      <td>1.483749</td>\n",
              "      <td>0.0</td>\n",
              "      <td>0.0</td>\n",
              "      <td>1.0</td>\n",
              "      <td>1.0</td>\n",
              "      <td>0.0</td>\n",
              "      <td>0.0</td>\n",
              "      <td>0.0</td>\n",
              "      <td>1.0</td>\n",
              "    </tr>\n",
              "  </tbody>\n",
              "</table>\n",
              "<p>333 rows × 12 columns</p>\n",
              "</div>\n",
              "      <button class=\"colab-df-convert\" onclick=\"convertToInteractive('df-72211c89-e3e5-4f8e-b91c-09a54f921e7a')\"\n",
              "              title=\"Convert this dataframe to an interactive table.\"\n",
              "              style=\"display:none;\">\n",
              "        \n",
              "  <svg xmlns=\"http://www.w3.org/2000/svg\" height=\"24px\"viewBox=\"0 0 24 24\"\n",
              "       width=\"24px\">\n",
              "    <path d=\"M0 0h24v24H0V0z\" fill=\"none\"/>\n",
              "    <path d=\"M18.56 5.44l.94 2.06.94-2.06 2.06-.94-2.06-.94-.94-2.06-.94 2.06-2.06.94zm-11 1L8.5 8.5l.94-2.06 2.06-.94-2.06-.94L8.5 2.5l-.94 2.06-2.06.94zm10 10l.94 2.06.94-2.06 2.06-.94-2.06-.94-.94-2.06-.94 2.06-2.06.94z\"/><path d=\"M17.41 7.96l-1.37-1.37c-.4-.4-.92-.59-1.43-.59-.52 0-1.04.2-1.43.59L10.3 9.45l-7.72 7.72c-.78.78-.78 2.05 0 2.83L4 21.41c.39.39.9.59 1.41.59.51 0 1.02-.2 1.41-.59l7.78-7.78 2.81-2.81c.8-.78.8-2.07 0-2.86zM5.41 20L4 18.59l7.72-7.72 1.47 1.35L5.41 20z\"/>\n",
              "  </svg>\n",
              "      </button>\n",
              "      \n",
              "  <style>\n",
              "    .colab-df-container {\n",
              "      display:flex;\n",
              "      flex-wrap:wrap;\n",
              "      gap: 12px;\n",
              "    }\n",
              "\n",
              "    .colab-df-convert {\n",
              "      background-color: #E8F0FE;\n",
              "      border: none;\n",
              "      border-radius: 50%;\n",
              "      cursor: pointer;\n",
              "      display: none;\n",
              "      fill: #1967D2;\n",
              "      height: 32px;\n",
              "      padding: 0 0 0 0;\n",
              "      width: 32px;\n",
              "    }\n",
              "\n",
              "    .colab-df-convert:hover {\n",
              "      background-color: #E2EBFA;\n",
              "      box-shadow: 0px 1px 2px rgba(60, 64, 67, 0.3), 0px 1px 3px 1px rgba(60, 64, 67, 0.15);\n",
              "      fill: #174EA6;\n",
              "    }\n",
              "\n",
              "    [theme=dark] .colab-df-convert {\n",
              "      background-color: #3B4455;\n",
              "      fill: #D2E3FC;\n",
              "    }\n",
              "\n",
              "    [theme=dark] .colab-df-convert:hover {\n",
              "      background-color: #434B5C;\n",
              "      box-shadow: 0px 1px 3px 1px rgba(0, 0, 0, 0.15);\n",
              "      filter: drop-shadow(0px 1px 2px rgba(0, 0, 0, 0.3));\n",
              "      fill: #FFFFFF;\n",
              "    }\n",
              "  </style>\n",
              "\n",
              "      <script>\n",
              "        const buttonEl =\n",
              "          document.querySelector('#df-72211c89-e3e5-4f8e-b91c-09a54f921e7a button.colab-df-convert');\n",
              "        buttonEl.style.display =\n",
              "          google.colab.kernel.accessAllowed ? 'block' : 'none';\n",
              "\n",
              "        async function convertToInteractive(key) {\n",
              "          const element = document.querySelector('#df-72211c89-e3e5-4f8e-b91c-09a54f921e7a');\n",
              "          const dataTable =\n",
              "            await google.colab.kernel.invokeFunction('convertToInteractive',\n",
              "                                                     [key], {});\n",
              "          if (!dataTable) return;\n",
              "\n",
              "          const docLinkHtml = 'Like what you see? Visit the ' +\n",
              "            '<a target=\"_blank\" href=https://colab.research.google.com/notebooks/data_table.ipynb>data table notebook</a>'\n",
              "            + ' to learn more about interactive tables.';\n",
              "          element.innerHTML = '';\n",
              "          dataTable['output_type'] = 'display_data';\n",
              "          await google.colab.output.renderOutput(dataTable, element);\n",
              "          const docLink = document.createElement('div');\n",
              "          docLink.innerHTML = docLinkHtml;\n",
              "          element.appendChild(docLink);\n",
              "        }\n",
              "      </script>\n",
              "    </div>\n",
              "  </div>\n",
              "  "
            ]
          },
          "metadata": {},
          "execution_count": 24
        }
      ]
    },
    {
      "cell_type": "markdown",
      "source": [
        "### 학습/테스트 데이터 세트 분할\n"
      ],
      "metadata": {
        "id": "dQE3c7vCpvcv"
      }
    },
    {
      "cell_type": "markdown",
      "source": [
        "- scikt-learn 은 학습 데이터 세트를 자동으로 분할해주는 기능을 제공합니다.\n",
        "- 테스트에 사용하고 싶은 데이터를 비율로 조종할 수 있다."
      ],
      "metadata": {
        "id": "z-7DjR7fp0Vb"
      }
    },
    {
      "cell_type": "code",
      "source": [
        "penguins_label.head()"
      ],
      "metadata": {
        "colab": {
          "base_uri": "https://localhost:8080/",
          "height": 268
        },
        "id": "3HUW3ZYFpvQO",
        "outputId": "5416d4ea-83c0-48c2-e495-08b1ea2e0d05"
      },
      "execution_count": 25,
      "outputs": [
        {
          "output_type": "execute_result",
          "data": {
            "text/plain": [
              "   species  island  bill_length_mm  bill_depth_mm  flipper_length_mm  \\\n",
              "0        0       2       -0.896042       0.780732          -1.426752   \n",
              "1        0       2       -0.822788       0.119584          -1.069474   \n",
              "2        0       2       -0.676280       0.424729          -0.426373   \n",
              "3        0       2       -1.335566       1.085877          -0.569284   \n",
              "4        0       2       -0.859415       1.747026          -0.783651   \n",
              "\n",
              "   body_mass_g  sex  \n",
              "0    -0.568475    1  \n",
              "1    -0.506286    0  \n",
              "2    -1.190361    0  \n",
              "3    -0.941606    0  \n",
              "4    -0.692852    1  "
            ],
            "text/html": [
              "\n",
              "  <div id=\"df-89172a97-b96e-4c4c-a423-ad7cadfb16b7\">\n",
              "    <div class=\"colab-df-container\">\n",
              "      <div>\n",
              "<style scoped>\n",
              "    .dataframe tbody tr th:only-of-type {\n",
              "        vertical-align: middle;\n",
              "    }\n",
              "\n",
              "    .dataframe tbody tr th {\n",
              "        vertical-align: top;\n",
              "    }\n",
              "\n",
              "    .dataframe thead th {\n",
              "        text-align: right;\n",
              "    }\n",
              "</style>\n",
              "<table border=\"1\" class=\"dataframe\">\n",
              "  <thead>\n",
              "    <tr style=\"text-align: right;\">\n",
              "      <th></th>\n",
              "      <th>species</th>\n",
              "      <th>island</th>\n",
              "      <th>bill_length_mm</th>\n",
              "      <th>bill_depth_mm</th>\n",
              "      <th>flipper_length_mm</th>\n",
              "      <th>body_mass_g</th>\n",
              "      <th>sex</th>\n",
              "    </tr>\n",
              "  </thead>\n",
              "  <tbody>\n",
              "    <tr>\n",
              "      <th>0</th>\n",
              "      <td>0</td>\n",
              "      <td>2</td>\n",
              "      <td>-0.896042</td>\n",
              "      <td>0.780732</td>\n",
              "      <td>-1.426752</td>\n",
              "      <td>-0.568475</td>\n",
              "      <td>1</td>\n",
              "    </tr>\n",
              "    <tr>\n",
              "      <th>1</th>\n",
              "      <td>0</td>\n",
              "      <td>2</td>\n",
              "      <td>-0.822788</td>\n",
              "      <td>0.119584</td>\n",
              "      <td>-1.069474</td>\n",
              "      <td>-0.506286</td>\n",
              "      <td>0</td>\n",
              "    </tr>\n",
              "    <tr>\n",
              "      <th>2</th>\n",
              "      <td>0</td>\n",
              "      <td>2</td>\n",
              "      <td>-0.676280</td>\n",
              "      <td>0.424729</td>\n",
              "      <td>-0.426373</td>\n",
              "      <td>-1.190361</td>\n",
              "      <td>0</td>\n",
              "    </tr>\n",
              "    <tr>\n",
              "      <th>3</th>\n",
              "      <td>0</td>\n",
              "      <td>2</td>\n",
              "      <td>-1.335566</td>\n",
              "      <td>1.085877</td>\n",
              "      <td>-0.569284</td>\n",
              "      <td>-0.941606</td>\n",
              "      <td>0</td>\n",
              "    </tr>\n",
              "    <tr>\n",
              "      <th>4</th>\n",
              "      <td>0</td>\n",
              "      <td>2</td>\n",
              "      <td>-0.859415</td>\n",
              "      <td>1.747026</td>\n",
              "      <td>-0.783651</td>\n",
              "      <td>-0.692852</td>\n",
              "      <td>1</td>\n",
              "    </tr>\n",
              "  </tbody>\n",
              "</table>\n",
              "</div>\n",
              "      <button class=\"colab-df-convert\" onclick=\"convertToInteractive('df-89172a97-b96e-4c4c-a423-ad7cadfb16b7')\"\n",
              "              title=\"Convert this dataframe to an interactive table.\"\n",
              "              style=\"display:none;\">\n",
              "        \n",
              "  <svg xmlns=\"http://www.w3.org/2000/svg\" height=\"24px\"viewBox=\"0 0 24 24\"\n",
              "       width=\"24px\">\n",
              "    <path d=\"M0 0h24v24H0V0z\" fill=\"none\"/>\n",
              "    <path d=\"M18.56 5.44l.94 2.06.94-2.06 2.06-.94-2.06-.94-.94-2.06-.94 2.06-2.06.94zm-11 1L8.5 8.5l.94-2.06 2.06-.94-2.06-.94L8.5 2.5l-.94 2.06-2.06.94zm10 10l.94 2.06.94-2.06 2.06-.94-2.06-.94-.94-2.06-.94 2.06-2.06.94z\"/><path d=\"M17.41 7.96l-1.37-1.37c-.4-.4-.92-.59-1.43-.59-.52 0-1.04.2-1.43.59L10.3 9.45l-7.72 7.72c-.78.78-.78 2.05 0 2.83L4 21.41c.39.39.9.59 1.41.59.51 0 1.02-.2 1.41-.59l7.78-7.78 2.81-2.81c.8-.78.8-2.07 0-2.86zM5.41 20L4 18.59l7.72-7.72 1.47 1.35L5.41 20z\"/>\n",
              "  </svg>\n",
              "      </button>\n",
              "      \n",
              "  <style>\n",
              "    .colab-df-container {\n",
              "      display:flex;\n",
              "      flex-wrap:wrap;\n",
              "      gap: 12px;\n",
              "    }\n",
              "\n",
              "    .colab-df-convert {\n",
              "      background-color: #E8F0FE;\n",
              "      border: none;\n",
              "      border-radius: 50%;\n",
              "      cursor: pointer;\n",
              "      display: none;\n",
              "      fill: #1967D2;\n",
              "      height: 32px;\n",
              "      padding: 0 0 0 0;\n",
              "      width: 32px;\n",
              "    }\n",
              "\n",
              "    .colab-df-convert:hover {\n",
              "      background-color: #E2EBFA;\n",
              "      box-shadow: 0px 1px 2px rgba(60, 64, 67, 0.3), 0px 1px 3px 1px rgba(60, 64, 67, 0.15);\n",
              "      fill: #174EA6;\n",
              "    }\n",
              "\n",
              "    [theme=dark] .colab-df-convert {\n",
              "      background-color: #3B4455;\n",
              "      fill: #D2E3FC;\n",
              "    }\n",
              "\n",
              "    [theme=dark] .colab-df-convert:hover {\n",
              "      background-color: #434B5C;\n",
              "      box-shadow: 0px 1px 3px 1px rgba(0, 0, 0, 0.15);\n",
              "      filter: drop-shadow(0px 1px 2px rgba(0, 0, 0, 0.3));\n",
              "      fill: #FFFFFF;\n",
              "    }\n",
              "  </style>\n",
              "\n",
              "      <script>\n",
              "        const buttonEl =\n",
              "          document.querySelector('#df-89172a97-b96e-4c4c-a423-ad7cadfb16b7 button.colab-df-convert');\n",
              "        buttonEl.style.display =\n",
              "          google.colab.kernel.accessAllowed ? 'block' : 'none';\n",
              "\n",
              "        async function convertToInteractive(key) {\n",
              "          const element = document.querySelector('#df-89172a97-b96e-4c4c-a423-ad7cadfb16b7');\n",
              "          const dataTable =\n",
              "            await google.colab.kernel.invokeFunction('convertToInteractive',\n",
              "                                                     [key], {});\n",
              "          if (!dataTable) return;\n",
              "\n",
              "          const docLinkHtml = 'Like what you see? Visit the ' +\n",
              "            '<a target=\"_blank\" href=https://colab.research.google.com/notebooks/data_table.ipynb>data table notebook</a>'\n",
              "            + ' to learn more about interactive tables.';\n",
              "          element.innerHTML = '';\n",
              "          dataTable['output_type'] = 'display_data';\n",
              "          await google.colab.output.renderOutput(dataTable, element);\n",
              "          const docLink = document.createElement('div');\n",
              "          docLink.innerHTML = docLinkHtml;\n",
              "          element.appendChild(docLink);\n",
              "        }\n",
              "      </script>\n",
              "    </div>\n",
              "  </div>\n",
              "  "
            ]
          },
          "metadata": {},
          "execution_count": 25
        }
      ]
    },
    {
      "cell_type": "code",
      "source": [
        "from sklearn.model_selection import train_test_split\n",
        "\n",
        "X = penguins_label.drop('sex', axis=1)      # 예측에 사용되는 변수\n",
        "Y = penguins_label['sex']                   # 예측할 변수"
      ],
      "metadata": {
        "id": "zcvybYyWpGvu"
      },
      "execution_count": 26,
      "outputs": []
    },
    {
      "cell_type": "code",
      "source": [
        "#학습/테스트 세트 분할\n",
        "X_train, X_test, Y_train, Y_test = train_test_split(X, Y, test_size=0.2, shuffle=True)"
      ],
      "metadata": {
        "id": "2XMBLPZdqNn6"
      },
      "execution_count": 27,
      "outputs": []
    },
    {
      "cell_type": "code",
      "source": [
        "len(X_train), len(Y_train), len(Y_test), len(Y_test)"
      ],
      "metadata": {
        "colab": {
          "base_uri": "https://localhost:8080/"
        },
        "id": "_fy2kEzBqas2",
        "outputId": "047e76dc-a87c-45c0-cc70-cd59f3ac3a36"
      },
      "execution_count": 28,
      "outputs": [
        {
          "output_type": "execute_result",
          "data": {
            "text/plain": [
              "(266, 266, 67, 67)"
            ]
          },
          "metadata": {},
          "execution_count": 28
        }
      ]
    },
    {
      "cell_type": "code",
      "source": [
        "X_train"
      ],
      "metadata": {
        "colab": {
          "base_uri": "https://localhost:8080/",
          "height": 483
        },
        "id": "sva0dRrjqkBG",
        "outputId": "3e0a4f9a-4aba-450b-c2a0-12a39755c0f2"
      },
      "execution_count": 29,
      "outputs": [
        {
          "output_type": "execute_result",
          "data": {
            "text/plain": [
              "     species  island  bill_length_mm  bill_depth_mm  flipper_length_mm  \\\n",
              "86         0       1       -1.830031      -0.032989          -1.140929   \n",
              "247        2       0        0.935309      -1.202712           1.360017   \n",
              "215        2       0        1.100130      -0.439849           2.074573   \n",
              "35         0       1       -1.372193       0.424729          -1.355296   \n",
              "137        0       1       -0.603026      -0.083846          -0.783651   \n",
              "..       ...     ...             ...            ...                ...   \n",
              "88         0       1       -1.427134       0.068726          -0.998018   \n",
              "234        2       0        1.136757      -1.457000           1.217106   \n",
              "135        0       1       -0.621339       0.017869          -0.998018   \n",
              "27         0       1       -0.822788       0.323014          -0.926562   \n",
              "148        1       1        1.338206       1.035020          -0.569284   \n",
              "\n",
              "     body_mass_g  \n",
              "86     -1.003795  \n",
              "247     1.172806  \n",
              "215     1.856881  \n",
              "35     -1.314738  \n",
              "137    -0.599569  \n",
              "..           ...  \n",
              "88     -1.128172  \n",
              "234     1.856881  \n",
              "135    -0.910512  \n",
              "27     -1.128172  \n",
              "148    -0.692852  \n",
              "\n",
              "[266 rows x 6 columns]"
            ],
            "text/html": [
              "\n",
              "  <div id=\"df-144ea739-9406-4b60-bec6-bc29904611e1\">\n",
              "    <div class=\"colab-df-container\">\n",
              "      <div>\n",
              "<style scoped>\n",
              "    .dataframe tbody tr th:only-of-type {\n",
              "        vertical-align: middle;\n",
              "    }\n",
              "\n",
              "    .dataframe tbody tr th {\n",
              "        vertical-align: top;\n",
              "    }\n",
              "\n",
              "    .dataframe thead th {\n",
              "        text-align: right;\n",
              "    }\n",
              "</style>\n",
              "<table border=\"1\" class=\"dataframe\">\n",
              "  <thead>\n",
              "    <tr style=\"text-align: right;\">\n",
              "      <th></th>\n",
              "      <th>species</th>\n",
              "      <th>island</th>\n",
              "      <th>bill_length_mm</th>\n",
              "      <th>bill_depth_mm</th>\n",
              "      <th>flipper_length_mm</th>\n",
              "      <th>body_mass_g</th>\n",
              "    </tr>\n",
              "  </thead>\n",
              "  <tbody>\n",
              "    <tr>\n",
              "      <th>86</th>\n",
              "      <td>0</td>\n",
              "      <td>1</td>\n",
              "      <td>-1.830031</td>\n",
              "      <td>-0.032989</td>\n",
              "      <td>-1.140929</td>\n",
              "      <td>-1.003795</td>\n",
              "    </tr>\n",
              "    <tr>\n",
              "      <th>247</th>\n",
              "      <td>2</td>\n",
              "      <td>0</td>\n",
              "      <td>0.935309</td>\n",
              "      <td>-1.202712</td>\n",
              "      <td>1.360017</td>\n",
              "      <td>1.172806</td>\n",
              "    </tr>\n",
              "    <tr>\n",
              "      <th>215</th>\n",
              "      <td>2</td>\n",
              "      <td>0</td>\n",
              "      <td>1.100130</td>\n",
              "      <td>-0.439849</td>\n",
              "      <td>2.074573</td>\n",
              "      <td>1.856881</td>\n",
              "    </tr>\n",
              "    <tr>\n",
              "      <th>35</th>\n",
              "      <td>0</td>\n",
              "      <td>1</td>\n",
              "      <td>-1.372193</td>\n",
              "      <td>0.424729</td>\n",
              "      <td>-1.355296</td>\n",
              "      <td>-1.314738</td>\n",
              "    </tr>\n",
              "    <tr>\n",
              "      <th>137</th>\n",
              "      <td>0</td>\n",
              "      <td>1</td>\n",
              "      <td>-0.603026</td>\n",
              "      <td>-0.083846</td>\n",
              "      <td>-0.783651</td>\n",
              "      <td>-0.599569</td>\n",
              "    </tr>\n",
              "    <tr>\n",
              "      <th>...</th>\n",
              "      <td>...</td>\n",
              "      <td>...</td>\n",
              "      <td>...</td>\n",
              "      <td>...</td>\n",
              "      <td>...</td>\n",
              "      <td>...</td>\n",
              "    </tr>\n",
              "    <tr>\n",
              "      <th>88</th>\n",
              "      <td>0</td>\n",
              "      <td>1</td>\n",
              "      <td>-1.427134</td>\n",
              "      <td>0.068726</td>\n",
              "      <td>-0.998018</td>\n",
              "      <td>-1.128172</td>\n",
              "    </tr>\n",
              "    <tr>\n",
              "      <th>234</th>\n",
              "      <td>2</td>\n",
              "      <td>0</td>\n",
              "      <td>1.136757</td>\n",
              "      <td>-1.457000</td>\n",
              "      <td>1.217106</td>\n",
              "      <td>1.856881</td>\n",
              "    </tr>\n",
              "    <tr>\n",
              "      <th>135</th>\n",
              "      <td>0</td>\n",
              "      <td>1</td>\n",
              "      <td>-0.621339</td>\n",
              "      <td>0.017869</td>\n",
              "      <td>-0.998018</td>\n",
              "      <td>-0.910512</td>\n",
              "    </tr>\n",
              "    <tr>\n",
              "      <th>27</th>\n",
              "      <td>0</td>\n",
              "      <td>1</td>\n",
              "      <td>-0.822788</td>\n",
              "      <td>0.323014</td>\n",
              "      <td>-0.926562</td>\n",
              "      <td>-1.128172</td>\n",
              "    </tr>\n",
              "    <tr>\n",
              "      <th>148</th>\n",
              "      <td>1</td>\n",
              "      <td>1</td>\n",
              "      <td>1.338206</td>\n",
              "      <td>1.035020</td>\n",
              "      <td>-0.569284</td>\n",
              "      <td>-0.692852</td>\n",
              "    </tr>\n",
              "  </tbody>\n",
              "</table>\n",
              "<p>266 rows × 6 columns</p>\n",
              "</div>\n",
              "      <button class=\"colab-df-convert\" onclick=\"convertToInteractive('df-144ea739-9406-4b60-bec6-bc29904611e1')\"\n",
              "              title=\"Convert this dataframe to an interactive table.\"\n",
              "              style=\"display:none;\">\n",
              "        \n",
              "  <svg xmlns=\"http://www.w3.org/2000/svg\" height=\"24px\"viewBox=\"0 0 24 24\"\n",
              "       width=\"24px\">\n",
              "    <path d=\"M0 0h24v24H0V0z\" fill=\"none\"/>\n",
              "    <path d=\"M18.56 5.44l.94 2.06.94-2.06 2.06-.94-2.06-.94-.94-2.06-.94 2.06-2.06.94zm-11 1L8.5 8.5l.94-2.06 2.06-.94-2.06-.94L8.5 2.5l-.94 2.06-2.06.94zm10 10l.94 2.06.94-2.06 2.06-.94-2.06-.94-.94-2.06-.94 2.06-2.06.94z\"/><path d=\"M17.41 7.96l-1.37-1.37c-.4-.4-.92-.59-1.43-.59-.52 0-1.04.2-1.43.59L10.3 9.45l-7.72 7.72c-.78.78-.78 2.05 0 2.83L4 21.41c.39.39.9.59 1.41.59.51 0 1.02-.2 1.41-.59l7.78-7.78 2.81-2.81c.8-.78.8-2.07 0-2.86zM5.41 20L4 18.59l7.72-7.72 1.47 1.35L5.41 20z\"/>\n",
              "  </svg>\n",
              "      </button>\n",
              "      \n",
              "  <style>\n",
              "    .colab-df-container {\n",
              "      display:flex;\n",
              "      flex-wrap:wrap;\n",
              "      gap: 12px;\n",
              "    }\n",
              "\n",
              "    .colab-df-convert {\n",
              "      background-color: #E8F0FE;\n",
              "      border: none;\n",
              "      border-radius: 50%;\n",
              "      cursor: pointer;\n",
              "      display: none;\n",
              "      fill: #1967D2;\n",
              "      height: 32px;\n",
              "      padding: 0 0 0 0;\n",
              "      width: 32px;\n",
              "    }\n",
              "\n",
              "    .colab-df-convert:hover {\n",
              "      background-color: #E2EBFA;\n",
              "      box-shadow: 0px 1px 2px rgba(60, 64, 67, 0.3), 0px 1px 3px 1px rgba(60, 64, 67, 0.15);\n",
              "      fill: #174EA6;\n",
              "    }\n",
              "\n",
              "    [theme=dark] .colab-df-convert {\n",
              "      background-color: #3B4455;\n",
              "      fill: #D2E3FC;\n",
              "    }\n",
              "\n",
              "    [theme=dark] .colab-df-convert:hover {\n",
              "      background-color: #434B5C;\n",
              "      box-shadow: 0px 1px 3px 1px rgba(0, 0, 0, 0.15);\n",
              "      filter: drop-shadow(0px 1px 2px rgba(0, 0, 0, 0.3));\n",
              "      fill: #FFFFFF;\n",
              "    }\n",
              "  </style>\n",
              "\n",
              "      <script>\n",
              "        const buttonEl =\n",
              "          document.querySelector('#df-144ea739-9406-4b60-bec6-bc29904611e1 button.colab-df-convert');\n",
              "        buttonEl.style.display =\n",
              "          google.colab.kernel.accessAllowed ? 'block' : 'none';\n",
              "\n",
              "        async function convertToInteractive(key) {\n",
              "          const element = document.querySelector('#df-144ea739-9406-4b60-bec6-bc29904611e1');\n",
              "          const dataTable =\n",
              "            await google.colab.kernel.invokeFunction('convertToInteractive',\n",
              "                                                     [key], {});\n",
              "          if (!dataTable) return;\n",
              "\n",
              "          const docLinkHtml = 'Like what you see? Visit the ' +\n",
              "            '<a target=\"_blank\" href=https://colab.research.google.com/notebooks/data_table.ipynb>data table notebook</a>'\n",
              "            + ' to learn more about interactive tables.';\n",
              "          element.innerHTML = '';\n",
              "          dataTable['output_type'] = 'display_data';\n",
              "          await google.colab.output.renderOutput(dataTable, element);\n",
              "          const docLink = document.createElement('div');\n",
              "          docLink.innerHTML = docLinkHtml;\n",
              "          element.appendChild(docLink);\n",
              "        }\n",
              "      </script>\n",
              "    </div>\n",
              "  </div>\n",
              "  "
            ]
          },
          "metadata": {},
          "execution_count": 29
        }
      ]
    },
    {
      "cell_type": "code",
      "source": [
        "Y_test"
      ],
      "metadata": {
        "id": "KNPhgKHwqpCF",
        "outputId": "0e6bbe99-2b09-40c2-b595-2706ed4c55e9",
        "colab": {
          "base_uri": "https://localhost:8080/"
        }
      },
      "execution_count": 30,
      "outputs": [
        {
          "output_type": "execute_result",
          "data": {
            "text/plain": [
              "52     0\n",
              "13     0\n",
              "160    0\n",
              "321    0\n",
              "233    1\n",
              "      ..\n",
              "54     0\n",
              "81     0\n",
              "72     0\n",
              "80     1\n",
              "75     1\n",
              "Name: sex, Length: 67, dtype: int64"
            ]
          },
          "metadata": {},
          "execution_count": 30
        }
      ]
    },
    {
      "cell_type": "markdown",
      "source": [
        "> ### **로지스틱 회귀**\n",
        "> - 로지스틱 회귀(Logistic Regression)은 **대표적인 2진 분류 머신러닝 알고리즘**이다.\n",
        "> - 회귀(Regression) + 시그모이드(Sigmoid Fuction)함수를 사용해서 데이터가 어떤 범주에 속할 확률을 0에서 1사이의 값으로 예측해줍니다. (2진분류 = 2가지의사항 ex:남자/여자, 참/거짓...) (시그모이드 함수 = S자형)\n",
        "> - 회귀 방법론은 변수들 사이의 관계를 '모델링'하는 기법이다. (X와 Y의 관계)\n",
        "> - ex) 스팸일 확률이 0.5이상이면 스팸으로 분류하고, 0.5보다 작으면 정상 메일로.분류한다."
      ],
      "metadata": {
        "id": "tuTsC7yWrrcm"
      }
    },
    {
      "cell_type": "markdown",
      "source": [
        "1. [Lr]모델링 정의"
      ],
      "metadata": {
        "id": "mUdvIn0EsqNk"
      }
    },
    {
      "cell_type": "code",
      "source": [
        "from sklearn.linear_model import LogisticRegression\n",
        "lr_model = LogisticRegression(verbose=2)"
      ],
      "metadata": {
        "id": "-haZBNOjqsE2"
      },
      "execution_count": 31,
      "outputs": []
    },
    {
      "cell_type": "code",
      "source": [
        "# 파리미터 종류\n",
        "lr_model.get_params()"
      ],
      "metadata": {
        "colab": {
          "base_uri": "https://localhost:8080/"
        },
        "id": "uWu-iBYss2LC",
        "outputId": "0910f505-7e16-4a8f-9807-3516c8a9f15d"
      },
      "execution_count": 32,
      "outputs": [
        {
          "output_type": "execute_result",
          "data": {
            "text/plain": [
              "{'C': 1.0,\n",
              " 'class_weight': None,\n",
              " 'dual': False,\n",
              " 'fit_intercept': True,\n",
              " 'intercept_scaling': 1,\n",
              " 'l1_ratio': None,\n",
              " 'max_iter': 100,\n",
              " 'multi_class': 'auto',\n",
              " 'n_jobs': None,\n",
              " 'penalty': 'l2',\n",
              " 'random_state': None,\n",
              " 'solver': 'lbfgs',\n",
              " 'tol': 0.0001,\n",
              " 'verbose': 2,\n",
              " 'warm_start': False}"
            ]
          },
          "metadata": {},
          "execution_count": 32
        }
      ]
    },
    {
      "cell_type": "markdown",
      "source": [
        "2. [LR] 모델 학습"
      ],
      "metadata": {
        "id": "BgkgQowls-Cy"
      }
    },
    {
      "cell_type": "code",
      "source": [
        "lr_model.fit(X_train, Y_train)"
      ],
      "metadata": {
        "colab": {
          "base_uri": "https://localhost:8080/"
        },
        "id": "vbp8kkFys5G5",
        "outputId": "10414bd9-c620-4ed0-ce77-fbd0e0a47593"
      },
      "execution_count": 33,
      "outputs": [
        {
          "output_type": "stream",
          "name": "stderr",
          "text": [
            "[Parallel(n_jobs=1)]: Using backend SequentialBackend with 1 concurrent workers.\n",
            "[Parallel(n_jobs=1)]: Done   1 out of   1 | elapsed:    0.0s remaining:    0.0s\n",
            "[Parallel(n_jobs=1)]: Done   1 out of   1 | elapsed:    0.0s finished\n"
          ]
        },
        {
          "output_type": "execute_result",
          "data": {
            "text/plain": [
              "LogisticRegression(verbose=2)"
            ]
          },
          "metadata": {},
          "execution_count": 33
        }
      ]
    },
    {
      "cell_type": "markdown",
      "source": [
        "3. [LR] 예측"
      ],
      "metadata": {
        "id": "Zzz--LQntEJY"
      }
    },
    {
      "cell_type": "code",
      "source": [
        "# 수컷 = 1/ 암컷 = 0\n",
        "predictions = lr_model.predict(X_test)\n",
        "predictions"
      ],
      "metadata": {
        "colab": {
          "base_uri": "https://localhost:8080/"
        },
        "id": "fiwnhubrtDAf",
        "outputId": "e2a75aed-a507-4093-e074-e1faeb6a544e"
      },
      "execution_count": 34,
      "outputs": [
        {
          "output_type": "execute_result",
          "data": {
            "text/plain": [
              "array([0, 0, 0, 1, 1, 1, 1, 1, 1, 0, 1, 1, 0, 0, 1, 1, 0, 0, 0, 1, 0, 0,\n",
              "       0, 1, 0, 1, 1, 1, 0, 0, 0, 1, 0, 1, 0, 0, 0, 0, 1, 1, 0, 0, 1, 1,\n",
              "       0, 0, 1, 0, 1, 1, 1, 1, 1, 0, 1, 1, 0, 0, 1, 1, 1, 1, 0, 0, 0, 1,\n",
              "       1])"
            ]
          },
          "metadata": {},
          "execution_count": 34
        }
      ]
    },
    {
      "cell_type": "code",
      "source": [
        "#성능 평가\n",
        "from sklearn.metrics import accuracy_score # 정확도를 나타내는 라이브러리\n",
        "lr_acc = accuracy_score(Y_test, predictions)\n",
        "print('Logistic Regression 모델의 예측 정확도는 {}% 입니다.'.format(round(lr_acc*100)))"
      ],
      "metadata": {
        "colab": {
          "base_uri": "https://localhost:8080/"
        },
        "id": "xXvzZkEVtO7e",
        "outputId": "f46ea02b-3f02-4520-89a2-774efc609765"
      },
      "execution_count": 35,
      "outputs": [
        {
          "output_type": "stream",
          "name": "stdout",
          "text": [
            "Logistic Regression 모델의 예측 정확도는 96% 입니다.\n"
          ]
        }
      ]
    },
    {
      "cell_type": "markdown",
      "source": [
        "> ### 최근접 이웃 분류기(KNeighborsClassifier)\n",
        "> - 입력데이터가 주어졌을때, 입력 값과 가까운 K개의 데이터가 속해 있는 범주를 예측 해주는 알고리즘\n",
        "> - 데이터 간 거리를 측정할 때 '유클리디안 거리'를 사용한다. 실제로 떨어져있는 거리"
      ],
      "metadata": {
        "id": "Cyr6YVrBtxVe"
      }
    },
    {
      "cell_type": "markdown",
      "source": [
        "1. [KNC]모델 정의"
      ],
      "metadata": {
        "id": "leMXdkoOuGq2"
      }
    },
    {
      "cell_type": "code",
      "source": [
        "from sklearn.neighbors import KNeighborsClassifier\n",
        "knc_model = KNeighborsClassifier()"
      ],
      "metadata": {
        "id": "k2LxF_UotpqV"
      },
      "execution_count": 36,
      "outputs": []
    },
    {
      "cell_type": "code",
      "source": [
        "# 파라미터 종류\n",
        "knc_model.get_params()"
      ],
      "metadata": {
        "colab": {
          "base_uri": "https://localhost:8080/"
        },
        "id": "J02-q6TkuPcu",
        "outputId": "d1733a41-b1fc-4a56-e591-51e4668632d1"
      },
      "execution_count": 37,
      "outputs": [
        {
          "output_type": "execute_result",
          "data": {
            "text/plain": [
              "{'algorithm': 'auto',\n",
              " 'leaf_size': 30,\n",
              " 'metric': 'minkowski',\n",
              " 'metric_params': None,\n",
              " 'n_jobs': None,\n",
              " 'n_neighbors': 5,\n",
              " 'p': 2,\n",
              " 'weights': 'uniform'}"
            ]
          },
          "metadata": {},
          "execution_count": 37
        }
      ]
    },
    {
      "cell_type": "markdown",
      "source": [
        "2. [KNC] 모델 학습"
      ],
      "metadata": {
        "id": "QilDHJVtu3VK"
      }
    },
    {
      "cell_type": "code",
      "source": [
        "knc_model.fit(X_train, Y_train)"
      ],
      "metadata": {
        "colab": {
          "base_uri": "https://localhost:8080/"
        },
        "id": "mgBXNRx5usmq",
        "outputId": "05c9b947-cb90-4054-816e-d8f5f27b0f4c"
      },
      "execution_count": 38,
      "outputs": [
        {
          "output_type": "execute_result",
          "data": {
            "text/plain": [
              "KNeighborsClassifier()"
            ]
          },
          "metadata": {},
          "execution_count": 38
        }
      ]
    },
    {
      "cell_type": "markdown",
      "source": [
        "3. [KNC]예측"
      ],
      "metadata": {
        "id": "iAC278bGu-e0"
      }
    },
    {
      "cell_type": "code",
      "source": [
        "#수컷 = 1/ 암컷 = 0\n",
        "predictions = knc_model.predict(X_test)\n",
        "predictions"
      ],
      "metadata": {
        "colab": {
          "base_uri": "https://localhost:8080/"
        },
        "id": "OFXqA6O3u8lt",
        "outputId": "605db6a8-f4eb-461c-d415-5b1425aa7c8d"
      },
      "execution_count": 39,
      "outputs": [
        {
          "output_type": "execute_result",
          "data": {
            "text/plain": [
              "array([0, 0, 0, 0, 1, 1, 1, 1, 1, 0, 1, 1, 0, 0, 0, 1, 0, 0, 0, 1, 0, 0,\n",
              "       0, 1, 0, 1, 1, 1, 0, 0, 0, 1, 0, 1, 1, 0, 0, 0, 1, 1, 0, 0, 1, 1,\n",
              "       0, 0, 1, 0, 1, 1, 1, 1, 1, 0, 1, 1, 0, 0, 1, 1, 0, 1, 0, 0, 0, 0,\n",
              "       1])"
            ]
          },
          "metadata": {},
          "execution_count": 39
        }
      ]
    },
    {
      "cell_type": "code",
      "source": [
        "# 성능 평가\n",
        "knc_acc = accuracy_score(Y_test, predictions)\n",
        "print('KNeighborsClassifier 모델의 예측 정확도는 {}% 입니다.'.format(round(knc_acc*100)))"
      ],
      "metadata": {
        "colab": {
          "base_uri": "https://localhost:8080/"
        },
        "id": "I1BzmjcGvH4i",
        "outputId": "5d634b5a-681c-472a-cdba-5ab276d7962e"
      },
      "execution_count": 40,
      "outputs": [
        {
          "output_type": "stream",
          "name": "stdout",
          "text": [
            "KNeighborsClassifier 모델의 예측 정확도는 94% 입니다.\n"
          ]
        }
      ]
    },
    {
      "cell_type": "markdown",
      "source": [
        "> ### 의사결정나무(Decision Tree)\n",
        "> - 의사 결정 나무(Decision Tree)란 의사 결정 규칙을 나무(tree)구조로 나타내어서**전체 데이터를 분류** 하거나, **수치형 자료를 예측**하는데 모두 사용할 수 있는 알고리즘입니다.\n",
        "> - 의사결정 나무 알고리즘은 **가지분할(split)**, **가지치기(pruning)**방법을 사용해서 복잡한 모델에서 단순화 과정을 거칩니다.\n",
        "> - 나무 모형의 크기에 따라 머신 러닝 성능이 달라지기 때문에 적절한 크기로 설정해주어야 한다."
      ],
      "metadata": {
        "id": "v1Kv9zGOvoiy"
      }
    },
    {
      "cell_type": "markdown",
      "source": [
        "1. [DT] 모델 정의"
      ],
      "metadata": {
        "id": "oXLa7fO3wMwQ"
      }
    },
    {
      "cell_type": "code",
      "source": [
        "from sklearn.tree import DecisionTreeClassifier\n",
        "dtc_model = DecisionTreeClassifier()"
      ],
      "metadata": {
        "id": "3c0kttAFvbMT"
      },
      "execution_count": 41,
      "outputs": []
    },
    {
      "cell_type": "code",
      "source": [
        "dtc_model.get_params()"
      ],
      "metadata": {
        "colab": {
          "base_uri": "https://localhost:8080/"
        },
        "id": "xXdgpR1DwVbH",
        "outputId": "bf5a7e42-22ad-48cd-f415-38ed19080050"
      },
      "execution_count": 42,
      "outputs": [
        {
          "output_type": "execute_result",
          "data": {
            "text/plain": [
              "{'ccp_alpha': 0.0,\n",
              " 'class_weight': None,\n",
              " 'criterion': 'gini',\n",
              " 'max_depth': None,\n",
              " 'max_features': None,\n",
              " 'max_leaf_nodes': None,\n",
              " 'min_impurity_decrease': 0.0,\n",
              " 'min_samples_leaf': 1,\n",
              " 'min_samples_split': 2,\n",
              " 'min_weight_fraction_leaf': 0.0,\n",
              " 'random_state': None,\n",
              " 'splitter': 'best'}"
            ]
          },
          "metadata": {},
          "execution_count": 42
        }
      ]
    },
    {
      "cell_type": "markdown",
      "source": [
        "2. [DT]모델 학습"
      ],
      "metadata": {
        "id": "IyHMvYZMwbRK"
      }
    },
    {
      "cell_type": "code",
      "source": [
        "dtc_model.fit(X_train, Y_train)"
      ],
      "metadata": {
        "colab": {
          "base_uri": "https://localhost:8080/"
        },
        "id": "1HgmFnwcwXYi",
        "outputId": "9d807a4f-7dd7-49c4-a40d-70bc1d8f3161"
      },
      "execution_count": 43,
      "outputs": [
        {
          "output_type": "execute_result",
          "data": {
            "text/plain": [
              "DecisionTreeClassifier()"
            ]
          },
          "metadata": {},
          "execution_count": 43
        }
      ]
    },
    {
      "cell_type": "code",
      "source": [
        "# 학습된 나무 시각화\n",
        "from sklearn.tree import export_graphviz\n",
        "import graphviz\n",
        "\n",
        "dot_data = export_graphviz(dtc_model, filled = True)\n",
        "graphviz.Source(dot_data)"
      ],
      "metadata": {
        "colab": {
          "base_uri": "https://localhost:8080/",
          "height": 1000
        },
        "id": "icgZPFdawgp3",
        "outputId": "ffd9d520-1a26-4368-ba6f-1f2f3393ac4e"
      },
      "execution_count": 44,
      "outputs": [
        {
          "output_type": "execute_result",
          "data": {
            "text/plain": [
              "<graphviz.files.Source at 0x7f37a5ea8390>"
            ],
            "image/svg+xml": "<?xml version=\"1.0\" encoding=\"UTF-8\" standalone=\"no\"?>\n<!DOCTYPE svg PUBLIC \"-//W3C//DTD SVG 1.1//EN\"\n \"http://www.w3.org/Graphics/SVG/1.1/DTD/svg11.dtd\">\n<!-- Generated by graphviz version 2.40.1 (20161225.0304)\n -->\n<!-- Title: Tree Pages: 1 -->\n<svg width=\"1820pt\" height=\"893pt\"\n viewBox=\"0.00 0.00 1820.00 893.00\" xmlns=\"http://www.w3.org/2000/svg\" xmlns:xlink=\"http://www.w3.org/1999/xlink\">\n<g id=\"graph0\" class=\"graph\" transform=\"scale(1 1) rotate(0) translate(4 889)\">\n<title>Tree</title>\n<polygon fill=\"#ffffff\" stroke=\"transparent\" points=\"-4,4 -4,-889 1816,-889 1816,4 -4,4\"/>\n<!-- 0 -->\n<g id=\"node1\" class=\"node\">\n<title>0</title>\n<polygon fill=\"#f6fbfe\" stroke=\"#000000\" points=\"1153.5,-885 1021.5,-885 1021.5,-817 1153.5,-817 1153.5,-885\"/>\n<text text-anchor=\"middle\" x=\"1087.5\" y=\"-869.8\" font-family=\"Helvetica,sans-Serif\" font-size=\"14.00\" fill=\"#000000\">X[2] &lt;= 0.688</text>\n<text text-anchor=\"middle\" x=\"1087.5\" y=\"-854.8\" font-family=\"Helvetica,sans-Serif\" font-size=\"14.00\" fill=\"#000000\">gini = 0.5</text>\n<text text-anchor=\"middle\" x=\"1087.5\" y=\"-839.8\" font-family=\"Helvetica,sans-Serif\" font-size=\"14.00\" fill=\"#000000\">samples = 266</text>\n<text text-anchor=\"middle\" x=\"1087.5\" y=\"-824.8\" font-family=\"Helvetica,sans-Serif\" font-size=\"14.00\" fill=\"#000000\">value = [130, 136]</text>\n</g>\n<!-- 1 -->\n<g id=\"node2\" class=\"node\">\n<title>1</title>\n<polygon fill=\"#f4ccaf\" stroke=\"#000000\" points=\"1026.5,-781 902.5,-781 902.5,-713 1026.5,-713 1026.5,-781\"/>\n<text text-anchor=\"middle\" x=\"964.5\" y=\"-765.8\" font-family=\"Helvetica,sans-Serif\" font-size=\"14.00\" fill=\"#000000\">X[3] &lt;= 0.45</text>\n<text text-anchor=\"middle\" x=\"964.5\" y=\"-750.8\" font-family=\"Helvetica,sans-Serif\" font-size=\"14.00\" fill=\"#000000\">gini = 0.468</text>\n<text text-anchor=\"middle\" x=\"964.5\" y=\"-735.8\" font-family=\"Helvetica,sans-Serif\" font-size=\"14.00\" fill=\"#000000\">samples = 193</text>\n<text text-anchor=\"middle\" x=\"964.5\" y=\"-720.8\" font-family=\"Helvetica,sans-Serif\" font-size=\"14.00\" fill=\"#000000\">value = [121, 72]</text>\n</g>\n<!-- 0&#45;&gt;1 -->\n<g id=\"edge1\" class=\"edge\">\n<title>0&#45;&gt;1</title>\n<path fill=\"none\" stroke=\"#000000\" d=\"M1047.2252,-816.9465C1036.1816,-807.6088 1024.0972,-797.3911 1012.6596,-787.7203\"/>\n<polygon fill=\"#000000\" stroke=\"#000000\" points=\"1014.7614,-784.914 1004.8653,-781.13 1010.2417,-790.2594 1014.7614,-784.914\"/>\n<text text-anchor=\"middle\" x=\"1006.9505\" y=\"-802.3429\" font-family=\"Helvetica,sans-Serif\" font-size=\"14.00\" fill=\"#000000\">True</text>\n</g>\n<!-- 46 -->\n<g id=\"node47\" class=\"node\">\n<title>46</title>\n<polygon fill=\"#55abe9\" stroke=\"#000000\" points=\"1264,-781 1157,-781 1157,-713 1264,-713 1264,-781\"/>\n<text text-anchor=\"middle\" x=\"1210.5\" y=\"-765.8\" font-family=\"Helvetica,sans-Serif\" font-size=\"14.00\" fill=\"#000000\">X[3] &lt;= &#45;1.152</text>\n<text text-anchor=\"middle\" x=\"1210.5\" y=\"-750.8\" font-family=\"Helvetica,sans-Serif\" font-size=\"14.00\" fill=\"#000000\">gini = 0.216</text>\n<text text-anchor=\"middle\" x=\"1210.5\" y=\"-735.8\" font-family=\"Helvetica,sans-Serif\" font-size=\"14.00\" fill=\"#000000\">samples = 73</text>\n<text text-anchor=\"middle\" x=\"1210.5\" y=\"-720.8\" font-family=\"Helvetica,sans-Serif\" font-size=\"14.00\" fill=\"#000000\">value = [9, 64]</text>\n</g>\n<!-- 0&#45;&gt;46 -->\n<g id=\"edge46\" class=\"edge\">\n<title>0&#45;&gt;46</title>\n<path fill=\"none\" stroke=\"#000000\" d=\"M1127.7748,-816.9465C1138.8184,-807.6088 1150.9028,-797.3911 1162.3404,-787.7203\"/>\n<polygon fill=\"#000000\" stroke=\"#000000\" points=\"1164.7583,-790.2594 1170.1347,-781.13 1160.2386,-784.914 1164.7583,-790.2594\"/>\n<text text-anchor=\"middle\" x=\"1168.0495\" y=\"-802.3429\" font-family=\"Helvetica,sans-Serif\" font-size=\"14.00\" fill=\"#000000\">False</text>\n</g>\n<!-- 2 -->\n<g id=\"node3\" class=\"node\">\n<title>2</title>\n<polygon fill=\"#e9975b\" stroke=\"#000000\" points=\"666.5,-677 550.5,-677 550.5,-609 666.5,-609 666.5,-677\"/>\n<text text-anchor=\"middle\" x=\"608.5\" y=\"-661.8\" font-family=\"Helvetica,sans-Serif\" font-size=\"14.00\" fill=\"#000000\">X[5] &lt;= 0.971</text>\n<text text-anchor=\"middle\" x=\"608.5\" y=\"-646.8\" font-family=\"Helvetica,sans-Serif\" font-size=\"14.00\" fill=\"#000000\">gini = 0.25</text>\n<text text-anchor=\"middle\" x=\"608.5\" y=\"-631.8\" font-family=\"Helvetica,sans-Serif\" font-size=\"14.00\" fill=\"#000000\">samples = 116</text>\n<text text-anchor=\"middle\" x=\"608.5\" y=\"-616.8\" font-family=\"Helvetica,sans-Serif\" font-size=\"14.00\" fill=\"#000000\">value = [99, 17]</text>\n</g>\n<!-- 1&#45;&gt;2 -->\n<g id=\"edge2\" class=\"edge\">\n<title>1&#45;&gt;2</title>\n<path fill=\"none\" stroke=\"#000000\" d=\"M902.4895,-728.8846C839.2964,-710.4237 741.5574,-681.8707 676.3363,-662.8174\"/>\n<polygon fill=\"#000000\" stroke=\"#000000\" points=\"677.1384,-659.4054 666.5581,-659.9608 675.1755,-666.1246 677.1384,-659.4054\"/>\n</g>\n<!-- 19 -->\n<g id=\"node20\" class=\"node\">\n<title>19</title>\n<polygon fill=\"#88c4ef\" stroke=\"#000000\" points=\"1022.5,-677 906.5,-677 906.5,-609 1022.5,-609 1022.5,-677\"/>\n<text text-anchor=\"middle\" x=\"964.5\" y=\"-661.8\" font-family=\"Helvetica,sans-Serif\" font-size=\"14.00\" fill=\"#000000\">X[5] &lt;= &#45;0.724</text>\n<text text-anchor=\"middle\" x=\"964.5\" y=\"-646.8\" font-family=\"Helvetica,sans-Serif\" font-size=\"14.00\" fill=\"#000000\">gini = 0.408</text>\n<text text-anchor=\"middle\" x=\"964.5\" y=\"-631.8\" font-family=\"Helvetica,sans-Serif\" font-size=\"14.00\" fill=\"#000000\">samples = 77</text>\n<text text-anchor=\"middle\" x=\"964.5\" y=\"-616.8\" font-family=\"Helvetica,sans-Serif\" font-size=\"14.00\" fill=\"#000000\">value = [22, 55]</text>\n</g>\n<!-- 1&#45;&gt;19 -->\n<g id=\"edge19\" class=\"edge\">\n<title>1&#45;&gt;19</title>\n<path fill=\"none\" stroke=\"#000000\" d=\"M964.5,-712.9465C964.5,-704.776 964.5,-695.9318 964.5,-687.3697\"/>\n<polygon fill=\"#000000\" stroke=\"#000000\" points=\"968.0001,-687.13 964.5,-677.13 961.0001,-687.13 968.0001,-687.13\"/>\n</g>\n<!-- 3 -->\n<g id=\"node4\" class=\"node\">\n<title>3</title>\n<polygon fill=\"#e68844\" stroke=\"#000000\" points=\"478,-573 371,-573 371,-505 478,-505 478,-573\"/>\n<text text-anchor=\"middle\" x=\"424.5\" y=\"-557.8\" font-family=\"Helvetica,sans-Serif\" font-size=\"14.00\" fill=\"#000000\">X[0] &lt;= 0.5</text>\n<text text-anchor=\"middle\" x=\"424.5\" y=\"-542.8\" font-family=\"Helvetica,sans-Serif\" font-size=\"14.00\" fill=\"#000000\">gini = 0.097</text>\n<text text-anchor=\"middle\" x=\"424.5\" y=\"-527.8\" font-family=\"Helvetica,sans-Serif\" font-size=\"14.00\" fill=\"#000000\">samples = 98</text>\n<text text-anchor=\"middle\" x=\"424.5\" y=\"-512.8\" font-family=\"Helvetica,sans-Serif\" font-size=\"14.00\" fill=\"#000000\">value = [93, 5]</text>\n</g>\n<!-- 2&#45;&gt;3 -->\n<g id=\"edge3\" class=\"edge\">\n<title>2&#45;&gt;3</title>\n<path fill=\"none\" stroke=\"#000000\" d=\"M550.2813,-610.0938C530.196,-598.7412 507.6161,-585.9787 487.189,-574.4329\"/>\n<polygon fill=\"#000000\" stroke=\"#000000\" points=\"488.7048,-571.2693 478.277,-569.3957 485.2604,-577.3633 488.7048,-571.2693\"/>\n</g>\n<!-- 16 -->\n<g id=\"node17\" class=\"node\">\n<title>16</title>\n<polygon fill=\"#9ccef2\" stroke=\"#000000\" points=\"662,-573 555,-573 555,-505 662,-505 662,-573\"/>\n<text text-anchor=\"middle\" x=\"608.5\" y=\"-557.8\" font-family=\"Helvetica,sans-Serif\" font-size=\"14.00\" fill=\"#000000\">X[3] &lt;= &#45;1.152</text>\n<text text-anchor=\"middle\" x=\"608.5\" y=\"-542.8\" font-family=\"Helvetica,sans-Serif\" font-size=\"14.00\" fill=\"#000000\">gini = 0.444</text>\n<text text-anchor=\"middle\" x=\"608.5\" y=\"-527.8\" font-family=\"Helvetica,sans-Serif\" font-size=\"14.00\" fill=\"#000000\">samples = 18</text>\n<text text-anchor=\"middle\" x=\"608.5\" y=\"-512.8\" font-family=\"Helvetica,sans-Serif\" font-size=\"14.00\" fill=\"#000000\">value = [6, 12]</text>\n</g>\n<!-- 2&#45;&gt;16 -->\n<g id=\"edge16\" class=\"edge\">\n<title>2&#45;&gt;16</title>\n<path fill=\"none\" stroke=\"#000000\" d=\"M608.5,-608.9465C608.5,-600.776 608.5,-591.9318 608.5,-583.3697\"/>\n<polygon fill=\"#000000\" stroke=\"#000000\" points=\"612.0001,-583.13 608.5,-573.13 605.0001,-583.13 612.0001,-583.13\"/>\n</g>\n<!-- 4 -->\n<g id=\"node5\" class=\"node\">\n<title>4</title>\n<polygon fill=\"#e89051\" stroke=\"#000000\" points=\"353,-469 246,-469 246,-401 353,-401 353,-469\"/>\n<text text-anchor=\"middle\" x=\"299.5\" y=\"-453.8\" font-family=\"Helvetica,sans-Serif\" font-size=\"14.00\" fill=\"#000000\">X[5] &lt;= &#45;0.366</text>\n<text text-anchor=\"middle\" x=\"299.5\" y=\"-438.8\" font-family=\"Helvetica,sans-Serif\" font-size=\"14.00\" fill=\"#000000\">gini = 0.194</text>\n<text text-anchor=\"middle\" x=\"299.5\" y=\"-423.8\" font-family=\"Helvetica,sans-Serif\" font-size=\"14.00\" fill=\"#000000\">samples = 46</text>\n<text text-anchor=\"middle\" x=\"299.5\" y=\"-408.8\" font-family=\"Helvetica,sans-Serif\" font-size=\"14.00\" fill=\"#000000\">value = [41, 5]</text>\n</g>\n<!-- 3&#45;&gt;4 -->\n<g id=\"edge4\" class=\"edge\">\n<title>3&#45;&gt;4</title>\n<path fill=\"none\" stroke=\"#000000\" d=\"M383.5703,-504.9465C372.3472,-495.6088 360.0663,-485.3911 348.4427,-475.7203\"/>\n<polygon fill=\"#000000\" stroke=\"#000000\" points=\"350.4474,-472.8353 340.5216,-469.13 345.9704,-478.2164 350.4474,-472.8353\"/>\n</g>\n<!-- 15 -->\n<g id=\"node16\" class=\"node\">\n<title>15</title>\n<polygon fill=\"#e58139\" stroke=\"#000000\" points=\"478,-461.5 371,-461.5 371,-408.5 478,-408.5 478,-461.5\"/>\n<text text-anchor=\"middle\" x=\"424.5\" y=\"-446.3\" font-family=\"Helvetica,sans-Serif\" font-size=\"14.00\" fill=\"#000000\">gini = 0.0</text>\n<text text-anchor=\"middle\" x=\"424.5\" y=\"-431.3\" font-family=\"Helvetica,sans-Serif\" font-size=\"14.00\" fill=\"#000000\">samples = 52</text>\n<text text-anchor=\"middle\" x=\"424.5\" y=\"-416.3\" font-family=\"Helvetica,sans-Serif\" font-size=\"14.00\" fill=\"#000000\">value = [52, 0]</text>\n</g>\n<!-- 3&#45;&gt;15 -->\n<g id=\"edge15\" class=\"edge\">\n<title>3&#45;&gt;15</title>\n<path fill=\"none\" stroke=\"#000000\" d=\"M424.5,-504.9465C424.5,-494.2621 424.5,-482.4254 424.5,-471.5742\"/>\n<polygon fill=\"#000000\" stroke=\"#000000\" points=\"428.0001,-471.5421 424.5,-461.5422 421.0001,-471.5422 428.0001,-471.5421\"/>\n</g>\n<!-- 5 -->\n<g id=\"node6\" class=\"node\">\n<title>5</title>\n<polygon fill=\"#e78a47\" stroke=\"#000000\" points=\"293,-365 186,-365 186,-297 293,-297 293,-365\"/>\n<text text-anchor=\"middle\" x=\"239.5\" y=\"-349.8\" font-family=\"Helvetica,sans-Serif\" font-size=\"14.00\" fill=\"#000000\">X[2] &lt;= &#45;0.63</text>\n<text text-anchor=\"middle\" x=\"239.5\" y=\"-334.8\" font-family=\"Helvetica,sans-Serif\" font-size=\"14.00\" fill=\"#000000\">gini = 0.127</text>\n<text text-anchor=\"middle\" x=\"239.5\" y=\"-319.8\" font-family=\"Helvetica,sans-Serif\" font-size=\"14.00\" fill=\"#000000\">samples = 44</text>\n<text text-anchor=\"middle\" x=\"239.5\" y=\"-304.8\" font-family=\"Helvetica,sans-Serif\" font-size=\"14.00\" fill=\"#000000\">value = [41, 3]</text>\n</g>\n<!-- 4&#45;&gt;5 -->\n<g id=\"edge5\" class=\"edge\">\n<title>4&#45;&gt;5</title>\n<path fill=\"none\" stroke=\"#000000\" d=\"M279.8538,-400.9465C274.881,-392.3271 269.4757,-382.9579 264.2852,-373.9611\"/>\n<polygon fill=\"#000000\" stroke=\"#000000\" points=\"267.2193,-372.0428 259.1904,-365.13 261.156,-375.5409 267.2193,-372.0428\"/>\n</g>\n<!-- 14 -->\n<g id=\"node15\" class=\"node\">\n<title>14</title>\n<polygon fill=\"#399de5\" stroke=\"#000000\" points=\"410,-357.5 311,-357.5 311,-304.5 410,-304.5 410,-357.5\"/>\n<text text-anchor=\"middle\" x=\"360.5\" y=\"-342.3\" font-family=\"Helvetica,sans-Serif\" font-size=\"14.00\" fill=\"#000000\">gini = 0.0</text>\n<text text-anchor=\"middle\" x=\"360.5\" y=\"-327.3\" font-family=\"Helvetica,sans-Serif\" font-size=\"14.00\" fill=\"#000000\">samples = 2</text>\n<text text-anchor=\"middle\" x=\"360.5\" y=\"-312.3\" font-family=\"Helvetica,sans-Serif\" font-size=\"14.00\" fill=\"#000000\">value = [0, 2]</text>\n</g>\n<!-- 4&#45;&gt;14 -->\n<g id=\"edge14\" class=\"edge\">\n<title>4&#45;&gt;14</title>\n<path fill=\"none\" stroke=\"#000000\" d=\"M319.4737,-400.9465C325.999,-389.8215 333.2569,-377.4473 339.8322,-366.237\"/>\n<polygon fill=\"#000000\" stroke=\"#000000\" points=\"342.8916,-367.9387 344.932,-357.5422 336.8536,-364.3971 342.8916,-367.9387\"/>\n</g>\n<!-- 6 -->\n<g id=\"node7\" class=\"node\">\n<title>6</title>\n<polygon fill=\"#e6843e\" stroke=\"#000000\" points=\"231,-261 124,-261 124,-193 231,-193 231,-261\"/>\n<text text-anchor=\"middle\" x=\"177.5\" y=\"-245.8\" font-family=\"Helvetica,sans-Serif\" font-size=\"14.00\" fill=\"#000000\">X[5] &lt;= &#45;0.537</text>\n<text text-anchor=\"middle\" x=\"177.5\" y=\"-230.8\" font-family=\"Helvetica,sans-Serif\" font-size=\"14.00\" fill=\"#000000\">gini = 0.049</text>\n<text text-anchor=\"middle\" x=\"177.5\" y=\"-215.8\" font-family=\"Helvetica,sans-Serif\" font-size=\"14.00\" fill=\"#000000\">samples = 40</text>\n<text text-anchor=\"middle\" x=\"177.5\" y=\"-200.8\" font-family=\"Helvetica,sans-Serif\" font-size=\"14.00\" fill=\"#000000\">value = [39, 1]</text>\n</g>\n<!-- 5&#45;&gt;6 -->\n<g id=\"edge6\" class=\"edge\">\n<title>5&#45;&gt;6</title>\n<path fill=\"none\" stroke=\"#000000\" d=\"M219.1989,-296.9465C214.0604,-288.3271 208.4749,-278.9579 203.1114,-269.9611\"/>\n<polygon fill=\"#000000\" stroke=\"#000000\" points=\"205.9737,-267.9272 197.8467,-261.13 199.9611,-271.5117 205.9737,-267.9272\"/>\n</g>\n<!-- 11 -->\n<g id=\"node12\" class=\"node\">\n<title>11</title>\n<polygon fill=\"#ffffff\" stroke=\"#000000\" points=\"356,-261 249,-261 249,-193 356,-193 356,-261\"/>\n<text text-anchor=\"middle\" x=\"302.5\" y=\"-245.8\" font-family=\"Helvetica,sans-Serif\" font-size=\"14.00\" fill=\"#000000\">X[2] &lt;= &#45;0.585</text>\n<text text-anchor=\"middle\" x=\"302.5\" y=\"-230.8\" font-family=\"Helvetica,sans-Serif\" font-size=\"14.00\" fill=\"#000000\">gini = 0.5</text>\n<text text-anchor=\"middle\" x=\"302.5\" y=\"-215.8\" font-family=\"Helvetica,sans-Serif\" font-size=\"14.00\" fill=\"#000000\">samples = 4</text>\n<text text-anchor=\"middle\" x=\"302.5\" y=\"-200.8\" font-family=\"Helvetica,sans-Serif\" font-size=\"14.00\" fill=\"#000000\">value = [2, 2]</text>\n</g>\n<!-- 5&#45;&gt;11 -->\n<g id=\"edge11\" class=\"edge\">\n<title>5&#45;&gt;11</title>\n<path fill=\"none\" stroke=\"#000000\" d=\"M260.1286,-296.9465C265.3499,-288.3271 271.0255,-278.9579 276.4755,-269.9611\"/>\n<polygon fill=\"#000000\" stroke=\"#000000\" points=\"279.6374,-271.4965 281.8251,-261.13 273.6503,-267.8697 279.6374,-271.4965\"/>\n</g>\n<!-- 7 -->\n<g id=\"node8\" class=\"node\">\n<title>7</title>\n<polygon fill=\"#e58139\" stroke=\"#000000\" points=\"107,-149.5 0,-149.5 0,-96.5 107,-96.5 107,-149.5\"/>\n<text text-anchor=\"middle\" x=\"53.5\" y=\"-134.3\" font-family=\"Helvetica,sans-Serif\" font-size=\"14.00\" fill=\"#000000\">gini = 0.0</text>\n<text text-anchor=\"middle\" x=\"53.5\" y=\"-119.3\" font-family=\"Helvetica,sans-Serif\" font-size=\"14.00\" fill=\"#000000\">samples = 37</text>\n<text text-anchor=\"middle\" x=\"53.5\" y=\"-104.3\" font-family=\"Helvetica,sans-Serif\" font-size=\"14.00\" fill=\"#000000\">value = [37, 0]</text>\n</g>\n<!-- 6&#45;&gt;7 -->\n<g id=\"edge7\" class=\"edge\">\n<title>6&#45;&gt;7</title>\n<path fill=\"none\" stroke=\"#000000\" d=\"M136.8978,-192.9465C122.8453,-181.1606 107.1212,-167.9726 93.1465,-156.2519\"/>\n<polygon fill=\"#000000\" stroke=\"#000000\" points=\"95.0575,-153.2866 85.1464,-149.5422 90.5592,-158.65 95.0575,-153.2866\"/>\n</g>\n<!-- 8 -->\n<g id=\"node9\" class=\"node\">\n<title>8</title>\n<polygon fill=\"#f2c09c\" stroke=\"#000000\" points=\"232,-157 125,-157 125,-89 232,-89 232,-157\"/>\n<text text-anchor=\"middle\" x=\"178.5\" y=\"-141.8\" font-family=\"Helvetica,sans-Serif\" font-size=\"14.00\" fill=\"#000000\">X[4] &lt;= &#45;1.284</text>\n<text text-anchor=\"middle\" x=\"178.5\" y=\"-126.8\" font-family=\"Helvetica,sans-Serif\" font-size=\"14.00\" fill=\"#000000\">gini = 0.444</text>\n<text text-anchor=\"middle\" x=\"178.5\" y=\"-111.8\" font-family=\"Helvetica,sans-Serif\" font-size=\"14.00\" fill=\"#000000\">samples = 3</text>\n<text text-anchor=\"middle\" x=\"178.5\" y=\"-96.8\" font-family=\"Helvetica,sans-Serif\" font-size=\"14.00\" fill=\"#000000\">value = [2, 1]</text>\n</g>\n<!-- 6&#45;&gt;8 -->\n<g id=\"edge8\" class=\"edge\">\n<title>6&#45;&gt;8</title>\n<path fill=\"none\" stroke=\"#000000\" d=\"M177.8274,-192.9465C177.906,-184.776 177.991,-175.9318 178.0734,-167.3697\"/>\n<polygon fill=\"#000000\" stroke=\"#000000\" points=\"181.5754,-167.1632 178.1718,-157.13 174.5757,-167.0958 181.5754,-167.1632\"/>\n</g>\n<!-- 9 -->\n<g id=\"node10\" class=\"node\">\n<title>9</title>\n<polygon fill=\"#399de5\" stroke=\"#000000\" points=\"170,-53 71,-53 71,0 170,0 170,-53\"/>\n<text text-anchor=\"middle\" x=\"120.5\" y=\"-37.8\" font-family=\"Helvetica,sans-Serif\" font-size=\"14.00\" fill=\"#000000\">gini = 0.0</text>\n<text text-anchor=\"middle\" x=\"120.5\" y=\"-22.8\" font-family=\"Helvetica,sans-Serif\" font-size=\"14.00\" fill=\"#000000\">samples = 1</text>\n<text text-anchor=\"middle\" x=\"120.5\" y=\"-7.8\" font-family=\"Helvetica,sans-Serif\" font-size=\"14.00\" fill=\"#000000\">value = [0, 1]</text>\n</g>\n<!-- 8&#45;&gt;9 -->\n<g id=\"edge9\" class=\"edge\">\n<title>8&#45;&gt;9</title>\n<path fill=\"none\" stroke=\"#000000\" d=\"M158.0514,-88.9777C152.7678,-80.187 147.0684,-70.7044 141.7452,-61.8477\"/>\n<polygon fill=\"#000000\" stroke=\"#000000\" points=\"144.7282,-60.0165 136.5768,-53.2485 138.7285,-63.6225 144.7282,-60.0165\"/>\n</g>\n<!-- 10 -->\n<g id=\"node11\" class=\"node\">\n<title>10</title>\n<polygon fill=\"#e58139\" stroke=\"#000000\" points=\"287,-53 188,-53 188,0 287,0 287,-53\"/>\n<text text-anchor=\"middle\" x=\"237.5\" y=\"-37.8\" font-family=\"Helvetica,sans-Serif\" font-size=\"14.00\" fill=\"#000000\">gini = 0.0</text>\n<text text-anchor=\"middle\" x=\"237.5\" y=\"-22.8\" font-family=\"Helvetica,sans-Serif\" font-size=\"14.00\" fill=\"#000000\">samples = 2</text>\n<text text-anchor=\"middle\" x=\"237.5\" y=\"-7.8\" font-family=\"Helvetica,sans-Serif\" font-size=\"14.00\" fill=\"#000000\">value = [2, 0]</text>\n</g>\n<!-- 8&#45;&gt;10 -->\n<g id=\"edge10\" class=\"edge\">\n<title>8&#45;&gt;10</title>\n<path fill=\"none\" stroke=\"#000000\" d=\"M199.3012,-88.9777C204.6758,-80.187 210.4735,-70.7044 215.8885,-61.8477\"/>\n<polygon fill=\"#000000\" stroke=\"#000000\" points=\"218.9158,-63.6059 221.146,-53.2485 212.9436,-59.9545 218.9158,-63.6059\"/>\n</g>\n<!-- 12 -->\n<g id=\"node13\" class=\"node\">\n<title>12</title>\n<polygon fill=\"#399de5\" stroke=\"#000000\" points=\"351,-149.5 252,-149.5 252,-96.5 351,-96.5 351,-149.5\"/>\n<text text-anchor=\"middle\" x=\"301.5\" y=\"-134.3\" font-family=\"Helvetica,sans-Serif\" font-size=\"14.00\" fill=\"#000000\">gini = 0.0</text>\n<text text-anchor=\"middle\" x=\"301.5\" y=\"-119.3\" font-family=\"Helvetica,sans-Serif\" font-size=\"14.00\" fill=\"#000000\">samples = 2</text>\n<text text-anchor=\"middle\" x=\"301.5\" y=\"-104.3\" font-family=\"Helvetica,sans-Serif\" font-size=\"14.00\" fill=\"#000000\">value = [0, 2]</text>\n</g>\n<!-- 11&#45;&gt;12 -->\n<g id=\"edge12\" class=\"edge\">\n<title>11&#45;&gt;12</title>\n<path fill=\"none\" stroke=\"#000000\" d=\"M302.1726,-192.9465C302.0698,-182.2621 301.956,-170.4254 301.8517,-159.5742\"/>\n<polygon fill=\"#000000\" stroke=\"#000000\" points=\"305.3513,-159.508 301.7552,-149.5422 298.3516,-159.5754 305.3513,-159.508\"/>\n</g>\n<!-- 13 -->\n<g id=\"node14\" class=\"node\">\n<title>13</title>\n<polygon fill=\"#e58139\" stroke=\"#000000\" points=\"468,-149.5 369,-149.5 369,-96.5 468,-96.5 468,-149.5\"/>\n<text text-anchor=\"middle\" x=\"418.5\" y=\"-134.3\" font-family=\"Helvetica,sans-Serif\" font-size=\"14.00\" fill=\"#000000\">gini = 0.0</text>\n<text text-anchor=\"middle\" x=\"418.5\" y=\"-119.3\" font-family=\"Helvetica,sans-Serif\" font-size=\"14.00\" fill=\"#000000\">samples = 2</text>\n<text text-anchor=\"middle\" x=\"418.5\" y=\"-104.3\" font-family=\"Helvetica,sans-Serif\" font-size=\"14.00\" fill=\"#000000\">value = [2, 0]</text>\n</g>\n<!-- 11&#45;&gt;13 -->\n<g id=\"edge13\" class=\"edge\">\n<title>11&#45;&gt;13</title>\n<path fill=\"none\" stroke=\"#000000\" d=\"M340.4827,-192.9465C353.6286,-181.1606 368.3382,-167.9726 381.4113,-156.2519\"/>\n<polygon fill=\"#000000\" stroke=\"#000000\" points=\"383.786,-158.8236 388.8953,-149.5422 379.1131,-153.6116 383.786,-158.8236\"/>\n</g>\n<!-- 17 -->\n<g id=\"node18\" class=\"node\">\n<title>17</title>\n<polygon fill=\"#e58139\" stroke=\"#000000\" points=\"595,-461.5 496,-461.5 496,-408.5 595,-408.5 595,-461.5\"/>\n<text text-anchor=\"middle\" x=\"545.5\" y=\"-446.3\" font-family=\"Helvetica,sans-Serif\" font-size=\"14.00\" fill=\"#000000\">gini = 0.0</text>\n<text text-anchor=\"middle\" x=\"545.5\" y=\"-431.3\" font-family=\"Helvetica,sans-Serif\" font-size=\"14.00\" fill=\"#000000\">samples = 6</text>\n<text text-anchor=\"middle\" x=\"545.5\" y=\"-416.3\" font-family=\"Helvetica,sans-Serif\" font-size=\"14.00\" fill=\"#000000\">value = [6, 0]</text>\n</g>\n<!-- 16&#45;&gt;17 -->\n<g id=\"edge17\" class=\"edge\">\n<title>16&#45;&gt;17</title>\n<path fill=\"none\" stroke=\"#000000\" d=\"M587.8714,-504.9465C581.1322,-493.8215 573.6363,-481.4473 566.8455,-470.237\"/>\n<polygon fill=\"#000000\" stroke=\"#000000\" points=\"569.7533,-468.2818 561.5784,-461.5422 563.7661,-471.9087 569.7533,-468.2818\"/>\n</g>\n<!-- 18 -->\n<g id=\"node19\" class=\"node\">\n<title>18</title>\n<polygon fill=\"#399de5\" stroke=\"#000000\" points=\"720,-461.5 613,-461.5 613,-408.5 720,-408.5 720,-461.5\"/>\n<text text-anchor=\"middle\" x=\"666.5\" y=\"-446.3\" font-family=\"Helvetica,sans-Serif\" font-size=\"14.00\" fill=\"#000000\">gini = 0.0</text>\n<text text-anchor=\"middle\" x=\"666.5\" y=\"-431.3\" font-family=\"Helvetica,sans-Serif\" font-size=\"14.00\" fill=\"#000000\">samples = 12</text>\n<text text-anchor=\"middle\" x=\"666.5\" y=\"-416.3\" font-family=\"Helvetica,sans-Serif\" font-size=\"14.00\" fill=\"#000000\">value = [0, 12]</text>\n</g>\n<!-- 16&#45;&gt;18 -->\n<g id=\"edge18\" class=\"edge\">\n<title>16&#45;&gt;18</title>\n<path fill=\"none\" stroke=\"#000000\" d=\"M627.4914,-504.9465C633.6343,-493.9316 640.4601,-481.6922 646.6627,-470.5703\"/>\n<polygon fill=\"#000000\" stroke=\"#000000\" points=\"649.8837,-471.9806 651.6976,-461.5422 643.7701,-468.5711 649.8837,-471.9806\"/>\n</g>\n<!-- 20 -->\n<g id=\"node21\" class=\"node\">\n<title>20</title>\n<polygon fill=\"#f2c09c\" stroke=\"#000000\" points=\"962,-573 855,-573 855,-505 962,-505 962,-573\"/>\n<text text-anchor=\"middle\" x=\"908.5\" y=\"-557.8\" font-family=\"Helvetica,sans-Serif\" font-size=\"14.00\" fill=\"#000000\">X[2] &lt;= &#45;1.162</text>\n<text text-anchor=\"middle\" x=\"908.5\" y=\"-542.8\" font-family=\"Helvetica,sans-Serif\" font-size=\"14.00\" fill=\"#000000\">gini = 0.444</text>\n<text text-anchor=\"middle\" x=\"908.5\" y=\"-527.8\" font-family=\"Helvetica,sans-Serif\" font-size=\"14.00\" fill=\"#000000\">samples = 24</text>\n<text text-anchor=\"middle\" x=\"908.5\" y=\"-512.8\" font-family=\"Helvetica,sans-Serif\" font-size=\"14.00\" fill=\"#000000\">value = [16, 8]</text>\n</g>\n<!-- 19&#45;&gt;20 -->\n<g id=\"edge20\" class=\"edge\">\n<title>19&#45;&gt;20</title>\n<path fill=\"none\" stroke=\"#000000\" d=\"M946.1635,-608.9465C941.5223,-600.3271 936.4773,-590.9579 931.6329,-581.9611\"/>\n<polygon fill=\"#000000\" stroke=\"#000000\" points=\"934.7004,-580.2754 926.8777,-573.13 928.5371,-583.5941 934.7004,-580.2754\"/>\n</g>\n<!-- 31 -->\n<g id=\"node32\" class=\"node\">\n<title>31</title>\n<polygon fill=\"#52aae8\" stroke=\"#000000\" points=\"1087,-573 980,-573 980,-505 1087,-505 1087,-573\"/>\n<text text-anchor=\"middle\" x=\"1033.5\" y=\"-557.8\" font-family=\"Helvetica,sans-Serif\" font-size=\"14.00\" fill=\"#000000\">X[0] &lt;= 0.5</text>\n<text text-anchor=\"middle\" x=\"1033.5\" y=\"-542.8\" font-family=\"Helvetica,sans-Serif\" font-size=\"14.00\" fill=\"#000000\">gini = 0.201</text>\n<text text-anchor=\"middle\" x=\"1033.5\" y=\"-527.8\" font-family=\"Helvetica,sans-Serif\" font-size=\"14.00\" fill=\"#000000\">samples = 53</text>\n<text text-anchor=\"middle\" x=\"1033.5\" y=\"-512.8\" font-family=\"Helvetica,sans-Serif\" font-size=\"14.00\" fill=\"#000000\">value = [6, 47]</text>\n</g>\n<!-- 19&#45;&gt;31 -->\n<g id=\"edge31\" class=\"edge\">\n<title>19&#45;&gt;31</title>\n<path fill=\"none\" stroke=\"#000000\" d=\"M987.0932,-608.9465C992.8714,-600.2373 999.1575,-590.7626 1005.1834,-581.6801\"/>\n<polygon fill=\"#000000\" stroke=\"#000000\" points=\"1008.244,-583.3978 1010.8561,-573.13 1002.411,-579.5278 1008.244,-583.3978\"/>\n</g>\n<!-- 21 -->\n<g id=\"node22\" class=\"node\">\n<title>21</title>\n<polygon fill=\"#e58139\" stroke=\"#000000\" points=\"837,-461.5 738,-461.5 738,-408.5 837,-408.5 837,-461.5\"/>\n<text text-anchor=\"middle\" x=\"787.5\" y=\"-446.3\" font-family=\"Helvetica,sans-Serif\" font-size=\"14.00\" fill=\"#000000\">gini = 0.0</text>\n<text text-anchor=\"middle\" x=\"787.5\" y=\"-431.3\" font-family=\"Helvetica,sans-Serif\" font-size=\"14.00\" fill=\"#000000\">samples = 7</text>\n<text text-anchor=\"middle\" x=\"787.5\" y=\"-416.3\" font-family=\"Helvetica,sans-Serif\" font-size=\"14.00\" fill=\"#000000\">value = [7, 0]</text>\n</g>\n<!-- 20&#45;&gt;21 -->\n<g id=\"edge21\" class=\"edge\">\n<title>20&#45;&gt;21</title>\n<path fill=\"none\" stroke=\"#000000\" d=\"M868.8801,-504.9465C855.1676,-493.1606 839.8239,-479.9726 826.1873,-468.2519\"/>\n<polygon fill=\"#000000\" stroke=\"#000000\" points=\"828.2459,-465.4061 818.3808,-461.5422 823.6831,-470.7147 828.2459,-465.4061\"/>\n</g>\n<!-- 22 -->\n<g id=\"node23\" class=\"node\">\n<title>22</title>\n<polygon fill=\"#fcf1e9\" stroke=\"#000000\" points=\"962,-469 855,-469 855,-401 962,-401 962,-469\"/>\n<text text-anchor=\"middle\" x=\"908.5\" y=\"-453.8\" font-family=\"Helvetica,sans-Serif\" font-size=\"14.00\" fill=\"#000000\">X[2] &lt;= &#45;0.127</text>\n<text text-anchor=\"middle\" x=\"908.5\" y=\"-438.8\" font-family=\"Helvetica,sans-Serif\" font-size=\"14.00\" fill=\"#000000\">gini = 0.498</text>\n<text text-anchor=\"middle\" x=\"908.5\" y=\"-423.8\" font-family=\"Helvetica,sans-Serif\" font-size=\"14.00\" fill=\"#000000\">samples = 17</text>\n<text text-anchor=\"middle\" x=\"908.5\" y=\"-408.8\" font-family=\"Helvetica,sans-Serif\" font-size=\"14.00\" fill=\"#000000\">value = [9, 8]</text>\n</g>\n<!-- 20&#45;&gt;22 -->\n<g id=\"edge22\" class=\"edge\">\n<title>20&#45;&gt;22</title>\n<path fill=\"none\" stroke=\"#000000\" d=\"M908.5,-504.9465C908.5,-496.776 908.5,-487.9318 908.5,-479.3697\"/>\n<polygon fill=\"#000000\" stroke=\"#000000\" points=\"912.0001,-479.13 908.5,-469.13 905.0001,-479.13 912.0001,-479.13\"/>\n</g>\n<!-- 23 -->\n<g id=\"node24\" class=\"node\">\n<title>23</title>\n<polygon fill=\"#b5daf5\" stroke=\"#000000\" points=\"840.5,-365 736.5,-365 736.5,-297 840.5,-297 840.5,-365\"/>\n<text text-anchor=\"middle\" x=\"788.5\" y=\"-349.8\" font-family=\"Helvetica,sans-Serif\" font-size=\"14.00\" fill=\"#000000\">X[3] &lt;= 0.704</text>\n<text text-anchor=\"middle\" x=\"788.5\" y=\"-334.8\" font-family=\"Helvetica,sans-Serif\" font-size=\"14.00\" fill=\"#000000\">gini = 0.473</text>\n<text text-anchor=\"middle\" x=\"788.5\" y=\"-319.8\" font-family=\"Helvetica,sans-Serif\" font-size=\"14.00\" fill=\"#000000\">samples = 13</text>\n<text text-anchor=\"middle\" x=\"788.5\" y=\"-304.8\" font-family=\"Helvetica,sans-Serif\" font-size=\"14.00\" fill=\"#000000\">value = [5, 8]</text>\n</g>\n<!-- 22&#45;&gt;23 -->\n<g id=\"edge23\" class=\"edge\">\n<title>22&#45;&gt;23</title>\n<path fill=\"none\" stroke=\"#000000\" d=\"M869.2075,-400.9465C858.4333,-391.6088 846.6436,-381.3911 835.485,-371.7203\"/>\n<polygon fill=\"#000000\" stroke=\"#000000\" points=\"837.7299,-369.0344 827.8808,-365.13 833.1454,-374.3243 837.7299,-369.0344\"/>\n</g>\n<!-- 30 -->\n<g id=\"node31\" class=\"node\">\n<title>30</title>\n<polygon fill=\"#e58139\" stroke=\"#000000\" points=\"958,-357.5 859,-357.5 859,-304.5 958,-304.5 958,-357.5\"/>\n<text text-anchor=\"middle\" x=\"908.5\" y=\"-342.3\" font-family=\"Helvetica,sans-Serif\" font-size=\"14.00\" fill=\"#000000\">gini = 0.0</text>\n<text text-anchor=\"middle\" x=\"908.5\" y=\"-327.3\" font-family=\"Helvetica,sans-Serif\" font-size=\"14.00\" fill=\"#000000\">samples = 4</text>\n<text text-anchor=\"middle\" x=\"908.5\" y=\"-312.3\" font-family=\"Helvetica,sans-Serif\" font-size=\"14.00\" fill=\"#000000\">value = [4, 0]</text>\n</g>\n<!-- 22&#45;&gt;30 -->\n<g id=\"edge30\" class=\"edge\">\n<title>22&#45;&gt;30</title>\n<path fill=\"none\" stroke=\"#000000\" d=\"M908.5,-400.9465C908.5,-390.2621 908.5,-378.4254 908.5,-367.5742\"/>\n<polygon fill=\"#000000\" stroke=\"#000000\" points=\"912.0001,-367.5421 908.5,-357.5422 905.0001,-367.5422 912.0001,-367.5421\"/>\n</g>\n<!-- 24 -->\n<g id=\"node25\" class=\"node\">\n<title>24</title>\n<polygon fill=\"#e58139\" stroke=\"#000000\" points=\"718,-253.5 619,-253.5 619,-200.5 718,-200.5 718,-253.5\"/>\n<text text-anchor=\"middle\" x=\"668.5\" y=\"-238.3\" font-family=\"Helvetica,sans-Serif\" font-size=\"14.00\" fill=\"#000000\">gini = 0.0</text>\n<text text-anchor=\"middle\" x=\"668.5\" y=\"-223.3\" font-family=\"Helvetica,sans-Serif\" font-size=\"14.00\" fill=\"#000000\">samples = 2</text>\n<text text-anchor=\"middle\" x=\"668.5\" y=\"-208.3\" font-family=\"Helvetica,sans-Serif\" font-size=\"14.00\" fill=\"#000000\">value = [2, 0]</text>\n</g>\n<!-- 23&#45;&gt;24 -->\n<g id=\"edge24\" class=\"edge\">\n<title>23&#45;&gt;24</title>\n<path fill=\"none\" stroke=\"#000000\" d=\"M749.2075,-296.9465C735.6083,-285.1606 720.3915,-271.9726 706.8676,-260.2519\"/>\n<polygon fill=\"#000000\" stroke=\"#000000\" points=\"708.9748,-257.4466 699.1256,-253.5422 704.3902,-262.7364 708.9748,-257.4466\"/>\n</g>\n<!-- 25 -->\n<g id=\"node26\" class=\"node\">\n<title>25</title>\n<polygon fill=\"#83c2ef\" stroke=\"#000000\" points=\"843,-261 736,-261 736,-193 843,-193 843,-261\"/>\n<text text-anchor=\"middle\" x=\"789.5\" y=\"-245.8\" font-family=\"Helvetica,sans-Serif\" font-size=\"14.00\" fill=\"#000000\">X[2] &lt;= &#45;0.859</text>\n<text text-anchor=\"middle\" x=\"789.5\" y=\"-230.8\" font-family=\"Helvetica,sans-Serif\" font-size=\"14.00\" fill=\"#000000\">gini = 0.397</text>\n<text text-anchor=\"middle\" x=\"789.5\" y=\"-215.8\" font-family=\"Helvetica,sans-Serif\" font-size=\"14.00\" fill=\"#000000\">samples = 11</text>\n<text text-anchor=\"middle\" x=\"789.5\" y=\"-200.8\" font-family=\"Helvetica,sans-Serif\" font-size=\"14.00\" fill=\"#000000\">value = [3, 8]</text>\n</g>\n<!-- 23&#45;&gt;25 -->\n<g id=\"edge25\" class=\"edge\">\n<title>23&#45;&gt;25</title>\n<path fill=\"none\" stroke=\"#000000\" d=\"M788.8274,-296.9465C788.906,-288.776 788.991,-279.9318 789.0734,-271.3697\"/>\n<polygon fill=\"#000000\" stroke=\"#000000\" points=\"792.5754,-271.1632 789.1718,-261.13 785.5757,-271.0958 792.5754,-271.1632\"/>\n</g>\n<!-- 26 -->\n<g id=\"node27\" class=\"node\">\n<title>26</title>\n<polygon fill=\"#f6d5bd\" stroke=\"#000000\" points=\"783,-157 676,-157 676,-89 783,-89 783,-157\"/>\n<text text-anchor=\"middle\" x=\"729.5\" y=\"-141.8\" font-family=\"Helvetica,sans-Serif\" font-size=\"14.00\" fill=\"#000000\">X[2] &lt;= &#45;1.134</text>\n<text text-anchor=\"middle\" x=\"729.5\" y=\"-126.8\" font-family=\"Helvetica,sans-Serif\" font-size=\"14.00\" fill=\"#000000\">gini = 0.48</text>\n<text text-anchor=\"middle\" x=\"729.5\" y=\"-111.8\" font-family=\"Helvetica,sans-Serif\" font-size=\"14.00\" fill=\"#000000\">samples = 5</text>\n<text text-anchor=\"middle\" x=\"729.5\" y=\"-96.8\" font-family=\"Helvetica,sans-Serif\" font-size=\"14.00\" fill=\"#000000\">value = [3, 2]</text>\n</g>\n<!-- 25&#45;&gt;26 -->\n<g id=\"edge26\" class=\"edge\">\n<title>25&#45;&gt;26</title>\n<path fill=\"none\" stroke=\"#000000\" d=\"M769.8538,-192.9465C764.881,-184.3271 759.4757,-174.9579 754.2852,-165.9611\"/>\n<polygon fill=\"#000000\" stroke=\"#000000\" points=\"757.2193,-164.0428 749.1904,-157.13 751.156,-167.5409 757.2193,-164.0428\"/>\n</g>\n<!-- 29 -->\n<g id=\"node30\" class=\"node\">\n<title>29</title>\n<polygon fill=\"#399de5\" stroke=\"#000000\" points=\"900,-149.5 801,-149.5 801,-96.5 900,-96.5 900,-149.5\"/>\n<text text-anchor=\"middle\" x=\"850.5\" y=\"-134.3\" font-family=\"Helvetica,sans-Serif\" font-size=\"14.00\" fill=\"#000000\">gini = 0.0</text>\n<text text-anchor=\"middle\" x=\"850.5\" y=\"-119.3\" font-family=\"Helvetica,sans-Serif\" font-size=\"14.00\" fill=\"#000000\">samples = 6</text>\n<text text-anchor=\"middle\" x=\"850.5\" y=\"-104.3\" font-family=\"Helvetica,sans-Serif\" font-size=\"14.00\" fill=\"#000000\">value = [0, 6]</text>\n</g>\n<!-- 25&#45;&gt;29 -->\n<g id=\"edge29\" class=\"edge\">\n<title>25&#45;&gt;29</title>\n<path fill=\"none\" stroke=\"#000000\" d=\"M809.4737,-192.9465C815.999,-181.8215 823.2569,-169.4473 829.8322,-158.237\"/>\n<polygon fill=\"#000000\" stroke=\"#000000\" points=\"832.8916,-159.9387 834.932,-149.5422 826.8536,-156.3971 832.8916,-159.9387\"/>\n</g>\n<!-- 27 -->\n<g id=\"node28\" class=\"node\">\n<title>27</title>\n<polygon fill=\"#399de5\" stroke=\"#000000\" points=\"721,-53 622,-53 622,0 721,0 721,-53\"/>\n<text text-anchor=\"middle\" x=\"671.5\" y=\"-37.8\" font-family=\"Helvetica,sans-Serif\" font-size=\"14.00\" fill=\"#000000\">gini = 0.0</text>\n<text text-anchor=\"middle\" x=\"671.5\" y=\"-22.8\" font-family=\"Helvetica,sans-Serif\" font-size=\"14.00\" fill=\"#000000\">samples = 2</text>\n<text text-anchor=\"middle\" x=\"671.5\" y=\"-7.8\" font-family=\"Helvetica,sans-Serif\" font-size=\"14.00\" fill=\"#000000\">value = [0, 2]</text>\n</g>\n<!-- 26&#45;&gt;27 -->\n<g id=\"edge27\" class=\"edge\">\n<title>26&#45;&gt;27</title>\n<path fill=\"none\" stroke=\"#000000\" d=\"M709.0514,-88.9777C703.7678,-80.187 698.0684,-70.7044 692.7452,-61.8477\"/>\n<polygon fill=\"#000000\" stroke=\"#000000\" points=\"695.7282,-60.0165 687.5768,-53.2485 689.7285,-63.6225 695.7282,-60.0165\"/>\n</g>\n<!-- 28 -->\n<g id=\"node29\" class=\"node\">\n<title>28</title>\n<polygon fill=\"#e58139\" stroke=\"#000000\" points=\"838,-53 739,-53 739,0 838,0 838,-53\"/>\n<text text-anchor=\"middle\" x=\"788.5\" y=\"-37.8\" font-family=\"Helvetica,sans-Serif\" font-size=\"14.00\" fill=\"#000000\">gini = 0.0</text>\n<text text-anchor=\"middle\" x=\"788.5\" y=\"-22.8\" font-family=\"Helvetica,sans-Serif\" font-size=\"14.00\" fill=\"#000000\">samples = 3</text>\n<text text-anchor=\"middle\" x=\"788.5\" y=\"-7.8\" font-family=\"Helvetica,sans-Serif\" font-size=\"14.00\" fill=\"#000000\">value = [3, 0]</text>\n</g>\n<!-- 26&#45;&gt;28 -->\n<g id=\"edge28\" class=\"edge\">\n<title>26&#45;&gt;28</title>\n<path fill=\"none\" stroke=\"#000000\" d=\"M750.3012,-88.9777C755.6758,-80.187 761.4735,-70.7044 766.8885,-61.8477\"/>\n<polygon fill=\"#000000\" stroke=\"#000000\" points=\"769.9158,-63.6059 772.146,-53.2485 763.9436,-59.9545 769.9158,-63.6059\"/>\n</g>\n<!-- 32 -->\n<g id=\"node33\" class=\"node\">\n<title>32</title>\n<polygon fill=\"#4aa5e7\" stroke=\"#000000\" points=\"1087,-469 980,-469 980,-401 1087,-401 1087,-469\"/>\n<text text-anchor=\"middle\" x=\"1033.5\" y=\"-453.8\" font-family=\"Helvetica,sans-Serif\" font-size=\"14.00\" fill=\"#000000\">X[2] &lt;= &#45;1.29</text>\n<text text-anchor=\"middle\" x=\"1033.5\" y=\"-438.8\" font-family=\"Helvetica,sans-Serif\" font-size=\"14.00\" fill=\"#000000\">gini = 0.145</text>\n<text text-anchor=\"middle\" x=\"1033.5\" y=\"-423.8\" font-family=\"Helvetica,sans-Serif\" font-size=\"14.00\" fill=\"#000000\">samples = 51</text>\n<text text-anchor=\"middle\" x=\"1033.5\" y=\"-408.8\" font-family=\"Helvetica,sans-Serif\" font-size=\"14.00\" fill=\"#000000\">value = [4, 47]</text>\n</g>\n<!-- 31&#45;&gt;32 -->\n<g id=\"edge32\" class=\"edge\">\n<title>31&#45;&gt;32</title>\n<path fill=\"none\" stroke=\"#000000\" d=\"M1033.5,-504.9465C1033.5,-496.776 1033.5,-487.9318 1033.5,-479.3697\"/>\n<polygon fill=\"#000000\" stroke=\"#000000\" points=\"1037.0001,-479.13 1033.5,-469.13 1030.0001,-479.13 1037.0001,-479.13\"/>\n</g>\n<!-- 45 -->\n<g id=\"node46\" class=\"node\">\n<title>45</title>\n<polygon fill=\"#e58139\" stroke=\"#000000\" points=\"1204,-461.5 1105,-461.5 1105,-408.5 1204,-408.5 1204,-461.5\"/>\n<text text-anchor=\"middle\" x=\"1154.5\" y=\"-446.3\" font-family=\"Helvetica,sans-Serif\" font-size=\"14.00\" fill=\"#000000\">gini = 0.0</text>\n<text text-anchor=\"middle\" x=\"1154.5\" y=\"-431.3\" font-family=\"Helvetica,sans-Serif\" font-size=\"14.00\" fill=\"#000000\">samples = 2</text>\n<text text-anchor=\"middle\" x=\"1154.5\" y=\"-416.3\" font-family=\"Helvetica,sans-Serif\" font-size=\"14.00\" fill=\"#000000\">value = [2, 0]</text>\n</g>\n<!-- 31&#45;&gt;45 -->\n<g id=\"edge45\" class=\"edge\">\n<title>31&#45;&gt;45</title>\n<path fill=\"none\" stroke=\"#000000\" d=\"M1073.1199,-504.9465C1086.8324,-493.1606 1102.1761,-479.9726 1115.8127,-468.2519\"/>\n<polygon fill=\"#000000\" stroke=\"#000000\" points=\"1118.3169,-470.7147 1123.6192,-461.5422 1113.7541,-465.4061 1118.3169,-470.7147\"/>\n</g>\n<!-- 33 -->\n<g id=\"node34\" class=\"node\">\n<title>33</title>\n<polygon fill=\"#f2c09c\" stroke=\"#000000\" points=\"1084,-365 977,-365 977,-297 1084,-297 1084,-365\"/>\n<text text-anchor=\"middle\" x=\"1030.5\" y=\"-349.8\" font-family=\"Helvetica,sans-Serif\" font-size=\"14.00\" fill=\"#000000\">X[5] &lt;= &#45;0.258</text>\n<text text-anchor=\"middle\" x=\"1030.5\" y=\"-334.8\" font-family=\"Helvetica,sans-Serif\" font-size=\"14.00\" fill=\"#000000\">gini = 0.444</text>\n<text text-anchor=\"middle\" x=\"1030.5\" y=\"-319.8\" font-family=\"Helvetica,sans-Serif\" font-size=\"14.00\" fill=\"#000000\">samples = 3</text>\n<text text-anchor=\"middle\" x=\"1030.5\" y=\"-304.8\" font-family=\"Helvetica,sans-Serif\" font-size=\"14.00\" fill=\"#000000\">value = [2, 1]</text>\n</g>\n<!-- 32&#45;&gt;33 -->\n<g id=\"edge33\" class=\"edge\">\n<title>32&#45;&gt;33</title>\n<path fill=\"none\" stroke=\"#000000\" d=\"M1032.5177,-400.9465C1032.282,-392.776 1032.0269,-383.9318 1031.7799,-375.3697\"/>\n<polygon fill=\"#000000\" stroke=\"#000000\" points=\"1035.2715,-375.0249 1031.4845,-365.13 1028.2744,-375.2268 1035.2715,-375.0249\"/>\n</g>\n<!-- 36 -->\n<g id=\"node37\" class=\"node\">\n<title>36</title>\n<polygon fill=\"#42a1e6\" stroke=\"#000000\" points=\"1209,-365 1102,-365 1102,-297 1209,-297 1209,-365\"/>\n<text text-anchor=\"middle\" x=\"1155.5\" y=\"-349.8\" font-family=\"Helvetica,sans-Serif\" font-size=\"14.00\" fill=\"#000000\">X[5] &lt;= &#45;0.6</text>\n<text text-anchor=\"middle\" x=\"1155.5\" y=\"-334.8\" font-family=\"Helvetica,sans-Serif\" font-size=\"14.00\" fill=\"#000000\">gini = 0.08</text>\n<text text-anchor=\"middle\" x=\"1155.5\" y=\"-319.8\" font-family=\"Helvetica,sans-Serif\" font-size=\"14.00\" fill=\"#000000\">samples = 48</text>\n<text text-anchor=\"middle\" x=\"1155.5\" y=\"-304.8\" font-family=\"Helvetica,sans-Serif\" font-size=\"14.00\" fill=\"#000000\">value = [2, 46]</text>\n</g>\n<!-- 32&#45;&gt;36 -->\n<g id=\"edge36\" class=\"edge\">\n<title>32&#45;&gt;36</title>\n<path fill=\"none\" stroke=\"#000000\" d=\"M1073.4474,-400.9465C1084.4012,-391.6088 1096.3873,-381.3911 1107.732,-371.7203\"/>\n<polygon fill=\"#000000\" stroke=\"#000000\" points=\"1110.1233,-374.2809 1115.4629,-365.13 1105.5821,-368.9538 1110.1233,-374.2809\"/>\n</g>\n<!-- 34 -->\n<g id=\"node35\" class=\"node\">\n<title>34</title>\n<polygon fill=\"#e58139\" stroke=\"#000000\" points=\"963,-253.5 864,-253.5 864,-200.5 963,-200.5 963,-253.5\"/>\n<text text-anchor=\"middle\" x=\"913.5\" y=\"-238.3\" font-family=\"Helvetica,sans-Serif\" font-size=\"14.00\" fill=\"#000000\">gini = 0.0</text>\n<text text-anchor=\"middle\" x=\"913.5\" y=\"-223.3\" font-family=\"Helvetica,sans-Serif\" font-size=\"14.00\" fill=\"#000000\">samples = 2</text>\n<text text-anchor=\"middle\" x=\"913.5\" y=\"-208.3\" font-family=\"Helvetica,sans-Serif\" font-size=\"14.00\" fill=\"#000000\">value = [2, 0]</text>\n</g>\n<!-- 33&#45;&gt;34 -->\n<g id=\"edge34\" class=\"edge\">\n<title>33&#45;&gt;34</title>\n<path fill=\"none\" stroke=\"#000000\" d=\"M992.1898,-296.9465C978.9306,-285.1606 964.0942,-271.9726 950.9084,-260.2519\"/>\n<polygon fill=\"#000000\" stroke=\"#000000\" points=\"953.1593,-257.5699 943.3599,-253.5422 948.5088,-262.8018 953.1593,-257.5699\"/>\n</g>\n<!-- 35 -->\n<g id=\"node36\" class=\"node\">\n<title>35</title>\n<polygon fill=\"#399de5\" stroke=\"#000000\" points=\"1080,-253.5 981,-253.5 981,-200.5 1080,-200.5 1080,-253.5\"/>\n<text text-anchor=\"middle\" x=\"1030.5\" y=\"-238.3\" font-family=\"Helvetica,sans-Serif\" font-size=\"14.00\" fill=\"#000000\">gini = 0.0</text>\n<text text-anchor=\"middle\" x=\"1030.5\" y=\"-223.3\" font-family=\"Helvetica,sans-Serif\" font-size=\"14.00\" fill=\"#000000\">samples = 1</text>\n<text text-anchor=\"middle\" x=\"1030.5\" y=\"-208.3\" font-family=\"Helvetica,sans-Serif\" font-size=\"14.00\" fill=\"#000000\">value = [0, 1]</text>\n</g>\n<!-- 33&#45;&gt;35 -->\n<g id=\"edge35\" class=\"edge\">\n<title>33&#45;&gt;35</title>\n<path fill=\"none\" stroke=\"#000000\" d=\"M1030.5,-296.9465C1030.5,-286.2621 1030.5,-274.4254 1030.5,-263.5742\"/>\n<polygon fill=\"#000000\" stroke=\"#000000\" points=\"1034.0001,-263.5421 1030.5,-253.5422 1027.0001,-263.5422 1034.0001,-263.5421\"/>\n</g>\n<!-- 37 -->\n<g id=\"node38\" class=\"node\">\n<title>37</title>\n<polygon fill=\"#7bbeee\" stroke=\"#000000\" points=\"1207,-261 1100,-261 1100,-193 1207,-193 1207,-261\"/>\n<text text-anchor=\"middle\" x=\"1153.5\" y=\"-245.8\" font-family=\"Helvetica,sans-Serif\" font-size=\"14.00\" fill=\"#000000\">X[2] &lt;= &#45;0.997</text>\n<text text-anchor=\"middle\" x=\"1153.5\" y=\"-230.8\" font-family=\"Helvetica,sans-Serif\" font-size=\"14.00\" fill=\"#000000\">gini = 0.375</text>\n<text text-anchor=\"middle\" x=\"1153.5\" y=\"-215.8\" font-family=\"Helvetica,sans-Serif\" font-size=\"14.00\" fill=\"#000000\">samples = 4</text>\n<text text-anchor=\"middle\" x=\"1153.5\" y=\"-200.8\" font-family=\"Helvetica,sans-Serif\" font-size=\"14.00\" fill=\"#000000\">value = [1, 3]</text>\n</g>\n<!-- 36&#45;&gt;37 -->\n<g id=\"edge37\" class=\"edge\">\n<title>36&#45;&gt;37</title>\n<path fill=\"none\" stroke=\"#000000\" d=\"M1154.8451,-296.9465C1154.688,-288.776 1154.5179,-279.9318 1154.3533,-271.3697\"/>\n<polygon fill=\"#000000\" stroke=\"#000000\" points=\"1157.8481,-271.0608 1154.1563,-261.13 1150.8494,-271.1955 1157.8481,-271.0608\"/>\n</g>\n<!-- 40 -->\n<g id=\"node41\" class=\"node\">\n<title>40</title>\n<polygon fill=\"#3e9fe6\" stroke=\"#000000\" points=\"1332,-261 1225,-261 1225,-193 1332,-193 1332,-261\"/>\n<text text-anchor=\"middle\" x=\"1278.5\" y=\"-245.8\" font-family=\"Helvetica,sans-Serif\" font-size=\"14.00\" fill=\"#000000\">X[3] &lt;= 1.747</text>\n<text text-anchor=\"middle\" x=\"1278.5\" y=\"-230.8\" font-family=\"Helvetica,sans-Serif\" font-size=\"14.00\" fill=\"#000000\">gini = 0.044</text>\n<text text-anchor=\"middle\" x=\"1278.5\" y=\"-215.8\" font-family=\"Helvetica,sans-Serif\" font-size=\"14.00\" fill=\"#000000\">samples = 44</text>\n<text text-anchor=\"middle\" x=\"1278.5\" y=\"-200.8\" font-family=\"Helvetica,sans-Serif\" font-size=\"14.00\" fill=\"#000000\">value = [1, 43]</text>\n</g>\n<!-- 36&#45;&gt;40 -->\n<g id=\"edge40\" class=\"edge\">\n<title>36&#45;&gt;40</title>\n<path fill=\"none\" stroke=\"#000000\" d=\"M1195.7748,-296.9465C1206.8184,-287.6088 1218.9028,-277.3911 1230.3404,-267.7203\"/>\n<polygon fill=\"#000000\" stroke=\"#000000\" points=\"1232.7583,-270.2594 1238.1347,-261.13 1228.2386,-264.914 1232.7583,-270.2594\"/>\n</g>\n<!-- 38 -->\n<g id=\"node39\" class=\"node\">\n<title>38</title>\n<polygon fill=\"#e58139\" stroke=\"#000000\" points=\"1087,-149.5 988,-149.5 988,-96.5 1087,-96.5 1087,-149.5\"/>\n<text text-anchor=\"middle\" x=\"1037.5\" y=\"-134.3\" font-family=\"Helvetica,sans-Serif\" font-size=\"14.00\" fill=\"#000000\">gini = 0.0</text>\n<text text-anchor=\"middle\" x=\"1037.5\" y=\"-119.3\" font-family=\"Helvetica,sans-Serif\" font-size=\"14.00\" fill=\"#000000\">samples = 1</text>\n<text text-anchor=\"middle\" x=\"1037.5\" y=\"-104.3\" font-family=\"Helvetica,sans-Serif\" font-size=\"14.00\" fill=\"#000000\">value = [1, 0]</text>\n</g>\n<!-- 37&#45;&gt;38 -->\n<g id=\"edge38\" class=\"edge\">\n<title>37&#45;&gt;38</title>\n<path fill=\"none\" stroke=\"#000000\" d=\"M1115.5173,-192.9465C1102.3714,-181.1606 1087.6618,-167.9726 1074.5887,-156.2519\"/>\n<polygon fill=\"#000000\" stroke=\"#000000\" points=\"1076.8869,-153.6116 1067.1047,-149.5422 1072.214,-158.8236 1076.8869,-153.6116\"/>\n</g>\n<!-- 39 -->\n<g id=\"node40\" class=\"node\">\n<title>39</title>\n<polygon fill=\"#399de5\" stroke=\"#000000\" points=\"1204,-149.5 1105,-149.5 1105,-96.5 1204,-96.5 1204,-149.5\"/>\n<text text-anchor=\"middle\" x=\"1154.5\" y=\"-134.3\" font-family=\"Helvetica,sans-Serif\" font-size=\"14.00\" fill=\"#000000\">gini = 0.0</text>\n<text text-anchor=\"middle\" x=\"1154.5\" y=\"-119.3\" font-family=\"Helvetica,sans-Serif\" font-size=\"14.00\" fill=\"#000000\">samples = 3</text>\n<text text-anchor=\"middle\" x=\"1154.5\" y=\"-104.3\" font-family=\"Helvetica,sans-Serif\" font-size=\"14.00\" fill=\"#000000\">value = [0, 3]</text>\n</g>\n<!-- 37&#45;&gt;39 -->\n<g id=\"edge39\" class=\"edge\">\n<title>37&#45;&gt;39</title>\n<path fill=\"none\" stroke=\"#000000\" d=\"M1153.8274,-192.9465C1153.9302,-182.2621 1154.044,-170.4254 1154.1483,-159.5742\"/>\n<polygon fill=\"#000000\" stroke=\"#000000\" points=\"1157.6484,-159.5754 1154.2448,-149.5422 1150.6487,-159.508 1157.6484,-159.5754\"/>\n</g>\n<!-- 41 -->\n<g id=\"node42\" class=\"node\">\n<title>41</title>\n<polygon fill=\"#399de5\" stroke=\"#000000\" points=\"1331,-149.5 1224,-149.5 1224,-96.5 1331,-96.5 1331,-149.5\"/>\n<text text-anchor=\"middle\" x=\"1277.5\" y=\"-134.3\" font-family=\"Helvetica,sans-Serif\" font-size=\"14.00\" fill=\"#000000\">gini = 0.0</text>\n<text text-anchor=\"middle\" x=\"1277.5\" y=\"-119.3\" font-family=\"Helvetica,sans-Serif\" font-size=\"14.00\" fill=\"#000000\">samples = 38</text>\n<text text-anchor=\"middle\" x=\"1277.5\" y=\"-104.3\" font-family=\"Helvetica,sans-Serif\" font-size=\"14.00\" fill=\"#000000\">value = [0, 38]</text>\n</g>\n<!-- 40&#45;&gt;41 -->\n<g id=\"edge41\" class=\"edge\">\n<title>40&#45;&gt;41</title>\n<path fill=\"none\" stroke=\"#000000\" d=\"M1278.1726,-192.9465C1278.0698,-182.2621 1277.956,-170.4254 1277.8517,-159.5742\"/>\n<polygon fill=\"#000000\" stroke=\"#000000\" points=\"1281.3513,-159.508 1277.7552,-149.5422 1274.3516,-159.5754 1281.3513,-159.508\"/>\n</g>\n<!-- 42 -->\n<g id=\"node43\" class=\"node\">\n<title>42</title>\n<polygon fill=\"#61b1ea\" stroke=\"#000000\" points=\"1456,-157 1349,-157 1349,-89 1456,-89 1456,-157\"/>\n<text text-anchor=\"middle\" x=\"1402.5\" y=\"-141.8\" font-family=\"Helvetica,sans-Serif\" font-size=\"14.00\" fill=\"#000000\">X[5] &lt;= &#45;0.226</text>\n<text text-anchor=\"middle\" x=\"1402.5\" y=\"-126.8\" font-family=\"Helvetica,sans-Serif\" font-size=\"14.00\" fill=\"#000000\">gini = 0.278</text>\n<text text-anchor=\"middle\" x=\"1402.5\" y=\"-111.8\" font-family=\"Helvetica,sans-Serif\" font-size=\"14.00\" fill=\"#000000\">samples = 6</text>\n<text text-anchor=\"middle\" x=\"1402.5\" y=\"-96.8\" font-family=\"Helvetica,sans-Serif\" font-size=\"14.00\" fill=\"#000000\">value = [1, 5]</text>\n</g>\n<!-- 40&#45;&gt;42 -->\n<g id=\"edge42\" class=\"edge\">\n<title>40&#45;&gt;42</title>\n<path fill=\"none\" stroke=\"#000000\" d=\"M1319.1022,-192.9465C1330.2356,-183.6088 1342.4183,-173.3911 1353.9489,-163.7203\"/>\n<polygon fill=\"#000000\" stroke=\"#000000\" points=\"1356.3938,-166.2378 1361.8065,-157.13 1351.8954,-160.8745 1356.3938,-166.2378\"/>\n</g>\n<!-- 43 -->\n<g id=\"node44\" class=\"node\">\n<title>43</title>\n<polygon fill=\"#e58139\" stroke=\"#000000\" points=\"1393,-53 1294,-53 1294,0 1393,0 1393,-53\"/>\n<text text-anchor=\"middle\" x=\"1343.5\" y=\"-37.8\" font-family=\"Helvetica,sans-Serif\" font-size=\"14.00\" fill=\"#000000\">gini = 0.0</text>\n<text text-anchor=\"middle\" x=\"1343.5\" y=\"-22.8\" font-family=\"Helvetica,sans-Serif\" font-size=\"14.00\" fill=\"#000000\">samples = 1</text>\n<text text-anchor=\"middle\" x=\"1343.5\" y=\"-7.8\" font-family=\"Helvetica,sans-Serif\" font-size=\"14.00\" fill=\"#000000\">value = [1, 0]</text>\n</g>\n<!-- 42&#45;&gt;43 -->\n<g id=\"edge43\" class=\"edge\">\n<title>42&#45;&gt;43</title>\n<path fill=\"none\" stroke=\"#000000\" d=\"M1381.6988,-88.9777C1376.3242,-80.187 1370.5265,-70.7044 1365.1115,-61.8477\"/>\n<polygon fill=\"#000000\" stroke=\"#000000\" points=\"1368.0564,-59.9545 1359.854,-53.2485 1362.0842,-63.6059 1368.0564,-59.9545\"/>\n</g>\n<!-- 44 -->\n<g id=\"node45\" class=\"node\">\n<title>44</title>\n<polygon fill=\"#399de5\" stroke=\"#000000\" points=\"1510,-53 1411,-53 1411,0 1510,0 1510,-53\"/>\n<text text-anchor=\"middle\" x=\"1460.5\" y=\"-37.8\" font-family=\"Helvetica,sans-Serif\" font-size=\"14.00\" fill=\"#000000\">gini = 0.0</text>\n<text text-anchor=\"middle\" x=\"1460.5\" y=\"-22.8\" font-family=\"Helvetica,sans-Serif\" font-size=\"14.00\" fill=\"#000000\">samples = 5</text>\n<text text-anchor=\"middle\" x=\"1460.5\" y=\"-7.8\" font-family=\"Helvetica,sans-Serif\" font-size=\"14.00\" fill=\"#000000\">value = [0, 5]</text>\n</g>\n<!-- 42&#45;&gt;44 -->\n<g id=\"edge44\" class=\"edge\">\n<title>42&#45;&gt;44</title>\n<path fill=\"none\" stroke=\"#000000\" d=\"M1422.9486,-88.9777C1428.2322,-80.187 1433.9316,-70.7044 1439.2548,-61.8477\"/>\n<polygon fill=\"#000000\" stroke=\"#000000\" points=\"1442.2715,-63.6225 1444.4232,-53.2485 1436.2718,-60.0165 1442.2715,-63.6225\"/>\n</g>\n<!-- 47 -->\n<g id=\"node48\" class=\"node\">\n<title>47</title>\n<polygon fill=\"#ffffff\" stroke=\"#000000\" points=\"1262,-677 1159,-677 1159,-609 1262,-609 1262,-677\"/>\n<text text-anchor=\"middle\" x=\"1210.5\" y=\"-661.8\" font-family=\"Helvetica,sans-Serif\" font-size=\"14.00\" fill=\"#000000\">X[5] &lt;= 1.266</text>\n<text text-anchor=\"middle\" x=\"1210.5\" y=\"-646.8\" font-family=\"Helvetica,sans-Serif\" font-size=\"14.00\" fill=\"#000000\">gini = 0.5</text>\n<text text-anchor=\"middle\" x=\"1210.5\" y=\"-631.8\" font-family=\"Helvetica,sans-Serif\" font-size=\"14.00\" fill=\"#000000\">samples = 8</text>\n<text text-anchor=\"middle\" x=\"1210.5\" y=\"-616.8\" font-family=\"Helvetica,sans-Serif\" font-size=\"14.00\" fill=\"#000000\">value = [4, 4]</text>\n</g>\n<!-- 46&#45;&gt;47 -->\n<g id=\"edge47\" class=\"edge\">\n<title>46&#45;&gt;47</title>\n<path fill=\"none\" stroke=\"#000000\" d=\"M1210.5,-712.9465C1210.5,-704.776 1210.5,-695.9318 1210.5,-687.3697\"/>\n<polygon fill=\"#000000\" stroke=\"#000000\" points=\"1214.0001,-687.13 1210.5,-677.13 1207.0001,-687.13 1214.0001,-687.13\"/>\n</g>\n<!-- 50 -->\n<g id=\"node51\" class=\"node\">\n<title>50</title>\n<polygon fill=\"#49a5e7\" stroke=\"#000000\" points=\"1444,-677 1337,-677 1337,-609 1444,-609 1444,-677\"/>\n<text text-anchor=\"middle\" x=\"1390.5\" y=\"-661.8\" font-family=\"Helvetica,sans-Serif\" font-size=\"14.00\" fill=\"#000000\">X[4] &lt;= &#45;0.748</text>\n<text text-anchor=\"middle\" x=\"1390.5\" y=\"-646.8\" font-family=\"Helvetica,sans-Serif\" font-size=\"14.00\" fill=\"#000000\">gini = 0.142</text>\n<text text-anchor=\"middle\" x=\"1390.5\" y=\"-631.8\" font-family=\"Helvetica,sans-Serif\" font-size=\"14.00\" fill=\"#000000\">samples = 65</text>\n<text text-anchor=\"middle\" x=\"1390.5\" y=\"-616.8\" font-family=\"Helvetica,sans-Serif\" font-size=\"14.00\" fill=\"#000000\">value = [5, 60]</text>\n</g>\n<!-- 46&#45;&gt;50 -->\n<g id=\"edge50\" class=\"edge\">\n<title>46&#45;&gt;50</title>\n<path fill=\"none\" stroke=\"#000000\" d=\"M1264.0186,-716.0782C1284.1489,-704.4473 1307.2103,-691.1229 1328.0812,-679.0642\"/>\n<polygon fill=\"#000000\" stroke=\"#000000\" points=\"1329.9691,-682.0156 1336.8768,-673.9823 1326.4672,-675.9546 1329.9691,-682.0156\"/>\n</g>\n<!-- 48 -->\n<g id=\"node49\" class=\"node\">\n<title>48</title>\n<polygon fill=\"#e58139\" stroke=\"#000000\" points=\"1204,-565.5 1105,-565.5 1105,-512.5 1204,-512.5 1204,-565.5\"/>\n<text text-anchor=\"middle\" x=\"1154.5\" y=\"-550.3\" font-family=\"Helvetica,sans-Serif\" font-size=\"14.00\" fill=\"#000000\">gini = 0.0</text>\n<text text-anchor=\"middle\" x=\"1154.5\" y=\"-535.3\" font-family=\"Helvetica,sans-Serif\" font-size=\"14.00\" fill=\"#000000\">samples = 4</text>\n<text text-anchor=\"middle\" x=\"1154.5\" y=\"-520.3\" font-family=\"Helvetica,sans-Serif\" font-size=\"14.00\" fill=\"#000000\">value = [4, 0]</text>\n</g>\n<!-- 47&#45;&gt;48 -->\n<g id=\"edge48\" class=\"edge\">\n<title>47&#45;&gt;48</title>\n<path fill=\"none\" stroke=\"#000000\" d=\"M1192.1635,-608.9465C1186.2324,-597.9316 1179.6419,-585.6922 1173.6532,-574.5703\"/>\n<polygon fill=\"#000000\" stroke=\"#000000\" points=\"1176.6146,-572.6875 1168.7919,-565.5422 1170.4513,-576.0063 1176.6146,-572.6875\"/>\n</g>\n<!-- 49 -->\n<g id=\"node50\" class=\"node\">\n<title>49</title>\n<polygon fill=\"#399de5\" stroke=\"#000000\" points=\"1321,-565.5 1222,-565.5 1222,-512.5 1321,-512.5 1321,-565.5\"/>\n<text text-anchor=\"middle\" x=\"1271.5\" y=\"-550.3\" font-family=\"Helvetica,sans-Serif\" font-size=\"14.00\" fill=\"#000000\">gini = 0.0</text>\n<text text-anchor=\"middle\" x=\"1271.5\" y=\"-535.3\" font-family=\"Helvetica,sans-Serif\" font-size=\"14.00\" fill=\"#000000\">samples = 4</text>\n<text text-anchor=\"middle\" x=\"1271.5\" y=\"-520.3\" font-family=\"Helvetica,sans-Serif\" font-size=\"14.00\" fill=\"#000000\">value = [0, 4]</text>\n</g>\n<!-- 47&#45;&gt;49 -->\n<g id=\"edge49\" class=\"edge\">\n<title>47&#45;&gt;49</title>\n<path fill=\"none\" stroke=\"#000000\" d=\"M1230.4737,-608.9465C1236.999,-597.8215 1244.2569,-585.4473 1250.8322,-574.237\"/>\n<polygon fill=\"#000000\" stroke=\"#000000\" points=\"1253.8916,-575.9387 1255.932,-565.5422 1247.8536,-572.3971 1253.8916,-575.9387\"/>\n</g>\n<!-- 51 -->\n<g id=\"node52\" class=\"node\">\n<title>51</title>\n<polygon fill=\"#f2c09c\" stroke=\"#000000\" points=\"1442,-573 1339,-573 1339,-505 1442,-505 1442,-573\"/>\n<text text-anchor=\"middle\" x=\"1390.5\" y=\"-557.8\" font-family=\"Helvetica,sans-Serif\" font-size=\"14.00\" fill=\"#000000\">X[3] &lt;= 0.577</text>\n<text text-anchor=\"middle\" x=\"1390.5\" y=\"-542.8\" font-family=\"Helvetica,sans-Serif\" font-size=\"14.00\" fill=\"#000000\">gini = 0.444</text>\n<text text-anchor=\"middle\" x=\"1390.5\" y=\"-527.8\" font-family=\"Helvetica,sans-Serif\" font-size=\"14.00\" fill=\"#000000\">samples = 3</text>\n<text text-anchor=\"middle\" x=\"1390.5\" y=\"-512.8\" font-family=\"Helvetica,sans-Serif\" font-size=\"14.00\" fill=\"#000000\">value = [2, 1]</text>\n</g>\n<!-- 50&#45;&gt;51 -->\n<g id=\"edge51\" class=\"edge\">\n<title>50&#45;&gt;51</title>\n<path fill=\"none\" stroke=\"#000000\" d=\"M1390.5,-608.9465C1390.5,-600.776 1390.5,-591.9318 1390.5,-583.3697\"/>\n<polygon fill=\"#000000\" stroke=\"#000000\" points=\"1394.0001,-583.13 1390.5,-573.13 1387.0001,-583.13 1394.0001,-583.13\"/>\n</g>\n<!-- 54 -->\n<g id=\"node55\" class=\"node\">\n<title>54</title>\n<polygon fill=\"#43a2e6\" stroke=\"#000000\" points=\"1567,-573 1460,-573 1460,-505 1567,-505 1567,-573\"/>\n<text text-anchor=\"middle\" x=\"1513.5\" y=\"-557.8\" font-family=\"Helvetica,sans-Serif\" font-size=\"14.00\" fill=\"#000000\">X[5] &lt;= &#45;0.522</text>\n<text text-anchor=\"middle\" x=\"1513.5\" y=\"-542.8\" font-family=\"Helvetica,sans-Serif\" font-size=\"14.00\" fill=\"#000000\">gini = 0.092</text>\n<text text-anchor=\"middle\" x=\"1513.5\" y=\"-527.8\" font-family=\"Helvetica,sans-Serif\" font-size=\"14.00\" fill=\"#000000\">samples = 62</text>\n<text text-anchor=\"middle\" x=\"1513.5\" y=\"-512.8\" font-family=\"Helvetica,sans-Serif\" font-size=\"14.00\" fill=\"#000000\">value = [3, 59]</text>\n</g>\n<!-- 50&#45;&gt;54 -->\n<g id=\"edge54\" class=\"edge\">\n<title>50&#45;&gt;54</title>\n<path fill=\"none\" stroke=\"#000000\" d=\"M1430.7748,-608.9465C1441.8184,-599.6088 1453.9028,-589.3911 1465.3404,-579.7203\"/>\n<polygon fill=\"#000000\" stroke=\"#000000\" points=\"1467.7583,-582.2594 1473.1347,-573.13 1463.2386,-576.914 1467.7583,-582.2594\"/>\n</g>\n<!-- 52 -->\n<g id=\"node53\" class=\"node\">\n<title>52</title>\n<polygon fill=\"#e58139\" stroke=\"#000000\" points=\"1324,-461.5 1225,-461.5 1225,-408.5 1324,-408.5 1324,-461.5\"/>\n<text text-anchor=\"middle\" x=\"1274.5\" y=\"-446.3\" font-family=\"Helvetica,sans-Serif\" font-size=\"14.00\" fill=\"#000000\">gini = 0.0</text>\n<text text-anchor=\"middle\" x=\"1274.5\" y=\"-431.3\" font-family=\"Helvetica,sans-Serif\" font-size=\"14.00\" fill=\"#000000\">samples = 2</text>\n<text text-anchor=\"middle\" x=\"1274.5\" y=\"-416.3\" font-family=\"Helvetica,sans-Serif\" font-size=\"14.00\" fill=\"#000000\">value = [2, 0]</text>\n</g>\n<!-- 51&#45;&gt;52 -->\n<g id=\"edge52\" class=\"edge\">\n<title>51&#45;&gt;52</title>\n<path fill=\"none\" stroke=\"#000000\" d=\"M1352.5173,-504.9465C1339.3714,-493.1606 1324.6618,-479.9726 1311.5887,-468.2519\"/>\n<polygon fill=\"#000000\" stroke=\"#000000\" points=\"1313.8869,-465.6116 1304.1047,-461.5422 1309.214,-470.8236 1313.8869,-465.6116\"/>\n</g>\n<!-- 53 -->\n<g id=\"node54\" class=\"node\">\n<title>53</title>\n<polygon fill=\"#399de5\" stroke=\"#000000\" points=\"1441,-461.5 1342,-461.5 1342,-408.5 1441,-408.5 1441,-461.5\"/>\n<text text-anchor=\"middle\" x=\"1391.5\" y=\"-446.3\" font-family=\"Helvetica,sans-Serif\" font-size=\"14.00\" fill=\"#000000\">gini = 0.0</text>\n<text text-anchor=\"middle\" x=\"1391.5\" y=\"-431.3\" font-family=\"Helvetica,sans-Serif\" font-size=\"14.00\" fill=\"#000000\">samples = 1</text>\n<text text-anchor=\"middle\" x=\"1391.5\" y=\"-416.3\" font-family=\"Helvetica,sans-Serif\" font-size=\"14.00\" fill=\"#000000\">value = [0, 1]</text>\n</g>\n<!-- 51&#45;&gt;53 -->\n<g id=\"edge53\" class=\"edge\">\n<title>51&#45;&gt;53</title>\n<path fill=\"none\" stroke=\"#000000\" d=\"M1390.8274,-504.9465C1390.9302,-494.2621 1391.044,-482.4254 1391.1483,-471.5742\"/>\n<polygon fill=\"#000000\" stroke=\"#000000\" points=\"1394.6484,-471.5754 1391.2448,-461.5422 1387.6487,-471.508 1394.6484,-471.5754\"/>\n</g>\n<!-- 55 -->\n<g id=\"node56\" class=\"node\">\n<title>55</title>\n<polygon fill=\"#5dafea\" stroke=\"#000000\" points=\"1567,-469 1460,-469 1460,-401 1567,-401 1567,-469\"/>\n<text text-anchor=\"middle\" x=\"1513.5\" y=\"-453.8\" font-family=\"Helvetica,sans-Serif\" font-size=\"14.00\" fill=\"#000000\">X[4] &lt;= &#45;0.248</text>\n<text text-anchor=\"middle\" x=\"1513.5\" y=\"-438.8\" font-family=\"Helvetica,sans-Serif\" font-size=\"14.00\" fill=\"#000000\">gini = 0.26</text>\n<text text-anchor=\"middle\" x=\"1513.5\" y=\"-423.8\" font-family=\"Helvetica,sans-Serif\" font-size=\"14.00\" fill=\"#000000\">samples = 13</text>\n<text text-anchor=\"middle\" x=\"1513.5\" y=\"-408.8\" font-family=\"Helvetica,sans-Serif\" font-size=\"14.00\" fill=\"#000000\">value = [2, 11]</text>\n</g>\n<!-- 54&#45;&gt;55 -->\n<g id=\"edge55\" class=\"edge\">\n<title>54&#45;&gt;55</title>\n<path fill=\"none\" stroke=\"#000000\" d=\"M1513.5,-504.9465C1513.5,-496.776 1513.5,-487.9318 1513.5,-479.3697\"/>\n<polygon fill=\"#000000\" stroke=\"#000000\" points=\"1517.0001,-479.13 1513.5,-469.13 1510.0001,-479.13 1517.0001,-479.13\"/>\n</g>\n<!-- 60 -->\n<g id=\"node61\" class=\"node\">\n<title>60</title>\n<polygon fill=\"#3d9fe6\" stroke=\"#000000\" points=\"1692,-469 1585,-469 1585,-401 1692,-401 1692,-469\"/>\n<text text-anchor=\"middle\" x=\"1638.5\" y=\"-453.8\" font-family=\"Helvetica,sans-Serif\" font-size=\"14.00\" fill=\"#000000\">X[2] &lt;= 0.835</text>\n<text text-anchor=\"middle\" x=\"1638.5\" y=\"-438.8\" font-family=\"Helvetica,sans-Serif\" font-size=\"14.00\" fill=\"#000000\">gini = 0.04</text>\n<text text-anchor=\"middle\" x=\"1638.5\" y=\"-423.8\" font-family=\"Helvetica,sans-Serif\" font-size=\"14.00\" fill=\"#000000\">samples = 49</text>\n<text text-anchor=\"middle\" x=\"1638.5\" y=\"-408.8\" font-family=\"Helvetica,sans-Serif\" font-size=\"14.00\" fill=\"#000000\">value = [1, 48]</text>\n</g>\n<!-- 54&#45;&gt;60 -->\n<g id=\"edge60\" class=\"edge\">\n<title>54&#45;&gt;60</title>\n<path fill=\"none\" stroke=\"#000000\" d=\"M1554.4297,-504.9465C1565.6528,-495.6088 1577.9337,-485.3911 1589.5573,-475.7203\"/>\n<polygon fill=\"#000000\" stroke=\"#000000\" points=\"1592.0296,-478.2164 1597.4784,-469.13 1587.5526,-472.8353 1592.0296,-478.2164\"/>\n</g>\n<!-- 56 -->\n<g id=\"node57\" class=\"node\">\n<title>56</title>\n<polygon fill=\"#399de5\" stroke=\"#000000\" points=\"1445,-357.5 1338,-357.5 1338,-304.5 1445,-304.5 1445,-357.5\"/>\n<text text-anchor=\"middle\" x=\"1391.5\" y=\"-342.3\" font-family=\"Helvetica,sans-Serif\" font-size=\"14.00\" fill=\"#000000\">gini = 0.0</text>\n<text text-anchor=\"middle\" x=\"1391.5\" y=\"-327.3\" font-family=\"Helvetica,sans-Serif\" font-size=\"14.00\" fill=\"#000000\">samples = 10</text>\n<text text-anchor=\"middle\" x=\"1391.5\" y=\"-312.3\" font-family=\"Helvetica,sans-Serif\" font-size=\"14.00\" fill=\"#000000\">value = [0, 10]</text>\n</g>\n<!-- 55&#45;&gt;56 -->\n<g id=\"edge56\" class=\"edge\">\n<title>55&#45;&gt;56</title>\n<path fill=\"none\" stroke=\"#000000\" d=\"M1473.5526,-400.9465C1459.7268,-389.1606 1444.2564,-375.9726 1430.5071,-364.2519\"/>\n<polygon fill=\"#000000\" stroke=\"#000000\" points=\"1432.5168,-361.366 1422.636,-357.5422 1427.9756,-366.6931 1432.5168,-361.366\"/>\n</g>\n<!-- 57 -->\n<g id=\"node58\" class=\"node\">\n<title>57</title>\n<polygon fill=\"#f2c09c\" stroke=\"#000000\" points=\"1566,-365 1463,-365 1463,-297 1566,-297 1566,-365\"/>\n<text text-anchor=\"middle\" x=\"1514.5\" y=\"-349.8\" font-family=\"Helvetica,sans-Serif\" font-size=\"14.00\" fill=\"#000000\">X[2] &lt;= 1.237</text>\n<text text-anchor=\"middle\" x=\"1514.5\" y=\"-334.8\" font-family=\"Helvetica,sans-Serif\" font-size=\"14.00\" fill=\"#000000\">gini = 0.444</text>\n<text text-anchor=\"middle\" x=\"1514.5\" y=\"-319.8\" font-family=\"Helvetica,sans-Serif\" font-size=\"14.00\" fill=\"#000000\">samples = 3</text>\n<text text-anchor=\"middle\" x=\"1514.5\" y=\"-304.8\" font-family=\"Helvetica,sans-Serif\" font-size=\"14.00\" fill=\"#000000\">value = [2, 1]</text>\n</g>\n<!-- 55&#45;&gt;57 -->\n<g id=\"edge57\" class=\"edge\">\n<title>55&#45;&gt;57</title>\n<path fill=\"none\" stroke=\"#000000\" d=\"M1513.8274,-400.9465C1513.906,-392.776 1513.991,-383.9318 1514.0734,-375.3697\"/>\n<polygon fill=\"#000000\" stroke=\"#000000\" points=\"1517.5754,-375.1632 1514.1718,-365.13 1510.5757,-375.0958 1517.5754,-375.1632\"/>\n</g>\n<!-- 58 -->\n<g id=\"node59\" class=\"node\">\n<title>58</title>\n<polygon fill=\"#e58139\" stroke=\"#000000\" points=\"1450,-253.5 1351,-253.5 1351,-200.5 1450,-200.5 1450,-253.5\"/>\n<text text-anchor=\"middle\" x=\"1400.5\" y=\"-238.3\" font-family=\"Helvetica,sans-Serif\" font-size=\"14.00\" fill=\"#000000\">gini = 0.0</text>\n<text text-anchor=\"middle\" x=\"1400.5\" y=\"-223.3\" font-family=\"Helvetica,sans-Serif\" font-size=\"14.00\" fill=\"#000000\">samples = 2</text>\n<text text-anchor=\"middle\" x=\"1400.5\" y=\"-208.3\" font-family=\"Helvetica,sans-Serif\" font-size=\"14.00\" fill=\"#000000\">value = [2, 0]</text>\n</g>\n<!-- 57&#45;&gt;58 -->\n<g id=\"edge58\" class=\"edge\">\n<title>57&#45;&gt;58</title>\n<path fill=\"none\" stroke=\"#000000\" d=\"M1477.1721,-296.9465C1464.3737,-285.2707 1450.067,-272.219 1437.3099,-260.5809\"/>\n<polygon fill=\"#000000\" stroke=\"#000000\" points=\"1439.3409,-257.6961 1429.5943,-253.5422 1434.6231,-262.8675 1439.3409,-257.6961\"/>\n</g>\n<!-- 59 -->\n<g id=\"node60\" class=\"node\">\n<title>59</title>\n<polygon fill=\"#399de5\" stroke=\"#000000\" points=\"1567,-253.5 1468,-253.5 1468,-200.5 1567,-200.5 1567,-253.5\"/>\n<text text-anchor=\"middle\" x=\"1517.5\" y=\"-238.3\" font-family=\"Helvetica,sans-Serif\" font-size=\"14.00\" fill=\"#000000\">gini = 0.0</text>\n<text text-anchor=\"middle\" x=\"1517.5\" y=\"-223.3\" font-family=\"Helvetica,sans-Serif\" font-size=\"14.00\" fill=\"#000000\">samples = 1</text>\n<text text-anchor=\"middle\" x=\"1517.5\" y=\"-208.3\" font-family=\"Helvetica,sans-Serif\" font-size=\"14.00\" fill=\"#000000\">value = [0, 1]</text>\n</g>\n<!-- 57&#45;&gt;59 -->\n<g id=\"edge59\" class=\"edge\">\n<title>57&#45;&gt;59</title>\n<path fill=\"none\" stroke=\"#000000\" d=\"M1515.4823,-296.9465C1515.7905,-286.2621 1516.132,-274.4254 1516.445,-263.5742\"/>\n<polygon fill=\"#000000\" stroke=\"#000000\" points=\"1519.9445,-263.639 1516.7344,-253.5422 1512.9474,-263.4371 1519.9445,-263.639\"/>\n</g>\n<!-- 61 -->\n<g id=\"node62\" class=\"node\">\n<title>61</title>\n<polygon fill=\"#7bbeee\" stroke=\"#000000\" points=\"1687,-365 1584,-365 1584,-297 1687,-297 1687,-365\"/>\n<text text-anchor=\"middle\" x=\"1635.5\" y=\"-349.8\" font-family=\"Helvetica,sans-Serif\" font-size=\"14.00\" fill=\"#000000\">X[5] &lt;= 0.955</text>\n<text text-anchor=\"middle\" x=\"1635.5\" y=\"-334.8\" font-family=\"Helvetica,sans-Serif\" font-size=\"14.00\" fill=\"#000000\">gini = 0.375</text>\n<text text-anchor=\"middle\" x=\"1635.5\" y=\"-319.8\" font-family=\"Helvetica,sans-Serif\" font-size=\"14.00\" fill=\"#000000\">samples = 4</text>\n<text text-anchor=\"middle\" x=\"1635.5\" y=\"-304.8\" font-family=\"Helvetica,sans-Serif\" font-size=\"14.00\" fill=\"#000000\">value = [1, 3]</text>\n</g>\n<!-- 60&#45;&gt;61 -->\n<g id=\"edge61\" class=\"edge\">\n<title>60&#45;&gt;61</title>\n<path fill=\"none\" stroke=\"#000000\" d=\"M1637.5177,-400.9465C1637.282,-392.776 1637.0269,-383.9318 1636.7799,-375.3697\"/>\n<polygon fill=\"#000000\" stroke=\"#000000\" points=\"1640.2715,-375.0249 1636.4845,-365.13 1633.2744,-375.2268 1640.2715,-375.0249\"/>\n</g>\n<!-- 64 -->\n<g id=\"node65\" class=\"node\">\n<title>64</title>\n<polygon fill=\"#399de5\" stroke=\"#000000\" points=\"1812,-357.5 1705,-357.5 1705,-304.5 1812,-304.5 1812,-357.5\"/>\n<text text-anchor=\"middle\" x=\"1758.5\" y=\"-342.3\" font-family=\"Helvetica,sans-Serif\" font-size=\"14.00\" fill=\"#000000\">gini = 0.0</text>\n<text text-anchor=\"middle\" x=\"1758.5\" y=\"-327.3\" font-family=\"Helvetica,sans-Serif\" font-size=\"14.00\" fill=\"#000000\">samples = 45</text>\n<text text-anchor=\"middle\" x=\"1758.5\" y=\"-312.3\" font-family=\"Helvetica,sans-Serif\" font-size=\"14.00\" fill=\"#000000\">value = [0, 45]</text>\n</g>\n<!-- 60&#45;&gt;64 -->\n<g id=\"edge64\" class=\"edge\">\n<title>60&#45;&gt;64</title>\n<path fill=\"none\" stroke=\"#000000\" d=\"M1677.7925,-400.9465C1691.3917,-389.1606 1706.6085,-375.9726 1720.1324,-364.2519\"/>\n<polygon fill=\"#000000\" stroke=\"#000000\" points=\"1722.6098,-366.7364 1727.8744,-357.5422 1718.0252,-361.4466 1722.6098,-366.7364\"/>\n</g>\n<!-- 62 -->\n<g id=\"node63\" class=\"node\">\n<title>62</title>\n<polygon fill=\"#e58139\" stroke=\"#000000\" points=\"1684,-253.5 1585,-253.5 1585,-200.5 1684,-200.5 1684,-253.5\"/>\n<text text-anchor=\"middle\" x=\"1634.5\" y=\"-238.3\" font-family=\"Helvetica,sans-Serif\" font-size=\"14.00\" fill=\"#000000\">gini = 0.0</text>\n<text text-anchor=\"middle\" x=\"1634.5\" y=\"-223.3\" font-family=\"Helvetica,sans-Serif\" font-size=\"14.00\" fill=\"#000000\">samples = 1</text>\n<text text-anchor=\"middle\" x=\"1634.5\" y=\"-208.3\" font-family=\"Helvetica,sans-Serif\" font-size=\"14.00\" fill=\"#000000\">value = [1, 0]</text>\n</g>\n<!-- 61&#45;&gt;62 -->\n<g id=\"edge62\" class=\"edge\">\n<title>61&#45;&gt;62</title>\n<path fill=\"none\" stroke=\"#000000\" d=\"M1635.1726,-296.9465C1635.0698,-286.2621 1634.956,-274.4254 1634.8517,-263.5742\"/>\n<polygon fill=\"#000000\" stroke=\"#000000\" points=\"1638.3513,-263.508 1634.7552,-253.5422 1631.3516,-263.5754 1638.3513,-263.508\"/>\n</g>\n<!-- 63 -->\n<g id=\"node64\" class=\"node\">\n<title>63</title>\n<polygon fill=\"#399de5\" stroke=\"#000000\" points=\"1801,-253.5 1702,-253.5 1702,-200.5 1801,-200.5 1801,-253.5\"/>\n<text text-anchor=\"middle\" x=\"1751.5\" y=\"-238.3\" font-family=\"Helvetica,sans-Serif\" font-size=\"14.00\" fill=\"#000000\">gini = 0.0</text>\n<text text-anchor=\"middle\" x=\"1751.5\" y=\"-223.3\" font-family=\"Helvetica,sans-Serif\" font-size=\"14.00\" fill=\"#000000\">samples = 3</text>\n<text text-anchor=\"middle\" x=\"1751.5\" y=\"-208.3\" font-family=\"Helvetica,sans-Serif\" font-size=\"14.00\" fill=\"#000000\">value = [0, 3]</text>\n</g>\n<!-- 61&#45;&gt;63 -->\n<g id=\"edge63\" class=\"edge\">\n<title>61&#45;&gt;63</title>\n<path fill=\"none\" stroke=\"#000000\" d=\"M1673.4827,-296.9465C1686.6286,-285.1606 1701.3382,-271.9726 1714.4113,-260.2519\"/>\n<polygon fill=\"#000000\" stroke=\"#000000\" points=\"1716.786,-262.8236 1721.8953,-253.5422 1712.1131,-257.6116 1716.786,-262.8236\"/>\n</g>\n</g>\n</svg>\n"
          },
          "metadata": {},
          "execution_count": 44
        }
      ]
    },
    {
      "cell_type": "markdown",
      "source": [
        "3. [DT]예측"
      ],
      "metadata": {
        "id": "SKDPzp5vwyaZ"
      }
    },
    {
      "cell_type": "code",
      "source": [
        "predictions = dtc_model.predict(X_test)\n",
        "predictions"
      ],
      "metadata": {
        "colab": {
          "base_uri": "https://localhost:8080/"
        },
        "id": "sRs3qBb8wwZa",
        "outputId": "8e33a64d-2a9b-4335-9d80-23c171093204"
      },
      "execution_count": 45,
      "outputs": [
        {
          "output_type": "execute_result",
          "data": {
            "text/plain": [
              "array([0, 0, 0, 1, 1, 1, 1, 1, 1, 0, 1, 1, 0, 0, 0, 0, 0, 0, 0, 1, 0, 0,\n",
              "       0, 1, 0, 1, 0, 1, 0, 0, 0, 1, 0, 1, 0, 0, 0, 0, 0, 1, 0, 0, 1, 1,\n",
              "       0, 0, 1, 0, 1, 0, 1, 1, 1, 0, 1, 1, 0, 0, 1, 1, 1, 1, 0, 0, 0, 0,\n",
              "       1])"
            ]
          },
          "metadata": {},
          "execution_count": 45
        }
      ]
    },
    {
      "cell_type": "code",
      "source": [
        "# 평가\n",
        "dtc_acc = accuracy_score(Y_test, predictions)\n",
        "print('Decision Tree 모델의 예측 정확도는 {}%입니다.'.format(round(dtc_acc*100)))"
      ],
      "metadata": {
        "colab": {
          "base_uri": "https://localhost:8080/"
        },
        "id": "XkVD2GZGw4_N",
        "outputId": "75f08ae2-0c3a-4800-b029-cf471c3d9fdc"
      },
      "execution_count": 46,
      "outputs": [
        {
          "output_type": "stream",
          "name": "stdout",
          "text": [
            "Decision Tree 모델의 예측 정확도는 90%입니다.\n"
          ]
        }
      ]
    },
    {
      "cell_type": "markdown",
      "source": [
        "> ### 서포트 백터 분류기(SVC)\n",
        "> - 서포트 벡터 분류기(Support Vector Classifier)이란 두 데이터 그룹으로부터 최대한 떨어져 있는 초평면(Optimal Hyperplane)을 구하고, 이것을 사용하는 이진 분류 모델이다.\n",
        "> - 서포트 벡터는 이 초평면을 결정하기 위해 사용되는 데이터 집합\n",
        "> - 분류나 예측 문제에 동시에 사용한다.\n",
        "> - 데이터가 많으면 예측의 정확도가 비교적 높아진다."
      ],
      "metadata": {
        "id": "UvhwrLx7xKr3"
      }
    },
    {
      "cell_type": "markdown",
      "source": [
        "1.[SVC]모델 정의"
      ],
      "metadata": {
        "id": "_VHuIWDpxitl"
      }
    },
    {
      "cell_type": "code",
      "source": [
        "from sklearn.svm import SVC\n",
        "svc_model = SVC()"
      ],
      "metadata": {
        "id": "F4wpyAbexIJA"
      },
      "execution_count": 47,
      "outputs": []
    },
    {
      "cell_type": "code",
      "source": [
        "svc_model.get_params()"
      ],
      "metadata": {
        "colab": {
          "base_uri": "https://localhost:8080/"
        },
        "id": "69xtP6XzxpN9",
        "outputId": "6383c9c0-cdb3-4bc2-8cb1-88b868a8f0cc"
      },
      "execution_count": 48,
      "outputs": [
        {
          "output_type": "execute_result",
          "data": {
            "text/plain": [
              "{'C': 1.0,\n",
              " 'break_ties': False,\n",
              " 'cache_size': 200,\n",
              " 'class_weight': None,\n",
              " 'coef0': 0.0,\n",
              " 'decision_function_shape': 'ovr',\n",
              " 'degree': 3,\n",
              " 'gamma': 'scale',\n",
              " 'kernel': 'rbf',\n",
              " 'max_iter': -1,\n",
              " 'probability': False,\n",
              " 'random_state': None,\n",
              " 'shrinking': True,\n",
              " 'tol': 0.001,\n",
              " 'verbose': False}"
            ]
          },
          "metadata": {},
          "execution_count": 48
        }
      ]
    },
    {
      "cell_type": "markdown",
      "source": [
        "2. [SVC]모델 학습"
      ],
      "metadata": {
        "id": "ENoao_mqxslr"
      }
    },
    {
      "cell_type": "code",
      "source": [
        "svc_model.fit(X_train, Y_train)"
      ],
      "metadata": {
        "colab": {
          "base_uri": "https://localhost:8080/"
        },
        "id": "c_DPCsX_xrFZ",
        "outputId": "e214825b-2685-49fa-d724-98337ad3a97a"
      },
      "execution_count": 49,
      "outputs": [
        {
          "output_type": "execute_result",
          "data": {
            "text/plain": [
              "SVC()"
            ]
          },
          "metadata": {},
          "execution_count": 49
        }
      ]
    },
    {
      "cell_type": "markdown",
      "source": [
        "2. [SVC]예측"
      ],
      "metadata": {
        "id": "iJp1x8TOxyWm"
      }
    },
    {
      "cell_type": "code",
      "source": [
        "predictions = svc_model.predict(X_test)\n",
        "predictions"
      ],
      "metadata": {
        "colab": {
          "base_uri": "https://localhost:8080/"
        },
        "id": "HNYSmYXJxxGY",
        "outputId": "f38389c2-f8c6-49a5-d139-bcc5d7247082"
      },
      "execution_count": 50,
      "outputs": [
        {
          "output_type": "execute_result",
          "data": {
            "text/plain": [
              "array([0, 0, 0, 1, 1, 1, 1, 1, 1, 0, 1, 1, 0, 0, 1, 1, 0, 0, 0, 1, 0, 0,\n",
              "       0, 1, 0, 1, 0, 1, 0, 0, 0, 1, 0, 1, 1, 0, 0, 0, 1, 1, 0, 0, 1, 1,\n",
              "       0, 0, 1, 1, 1, 1, 1, 1, 1, 0, 1, 1, 0, 0, 1, 1, 1, 1, 0, 0, 0, 1,\n",
              "       1])"
            ]
          },
          "metadata": {},
          "execution_count": 50
        }
      ]
    },
    {
      "cell_type": "code",
      "source": [
        "svc_acc = accuracy_score(Y_test, predictions)\n",
        "print('Support Vector Classifier 모델의 예측 정확도는 {}%입니다.'.format(round(svc_acc*100)))"
      ],
      "metadata": {
        "colab": {
          "base_uri": "https://localhost:8080/"
        },
        "id": "Aj7dVe3Rx5Aw",
        "outputId": "7963add2-08ed-48d3-e9b9-c42a97a3ea93"
      },
      "execution_count": 51,
      "outputs": [
        {
          "output_type": "stream",
          "name": "stdout",
          "text": [
            "Support Vector Classifier 모델의 예측 정확도는 91%입니다.\n"
          ]
        }
      ]
    },
    {
      "cell_type": "markdown",
      "source": [
        "- 분류 모델별 예측 정확도"
      ],
      "metadata": {
        "id": "st5oyhfHyQCM"
      }
    },
    {
      "cell_type": "code",
      "source": [
        "accuracy_table = pd.DataFrame({'Logistic Regreesion' : [str(round(lr_acc*100))+ '%'],\n",
        "                               'KNeighbors' : [str(round(knc_acc*100)) + '%'],\n",
        "                               'Decision Tree' : [str(round(dtc_acc*100)) + '%'],\n",
        "                               'SVV' : [str(round(svc_acc*100)) + '%']})\n",
        "accuracy_table\n",
        "# 자료마다 분석 알고리즘의 정확도가 다르다."
      ],
      "metadata": {
        "colab": {
          "base_uri": "https://localhost:8080/",
          "height": 80
        },
        "id": "ADtkcFWcyFBD",
        "outputId": "4e06e95f-63d3-49e7-99da-2ca1aaab8f39"
      },
      "execution_count": 52,
      "outputs": [
        {
          "output_type": "execute_result",
          "data": {
            "text/plain": [
              "  Logistic Regreesion KNeighbors Decision Tree  SVV\n",
              "0                 96%        94%           90%  91%"
            ],
            "text/html": [
              "\n",
              "  <div id=\"df-1affe601-2d64-4771-93e5-95435d4f74bd\">\n",
              "    <div class=\"colab-df-container\">\n",
              "      <div>\n",
              "<style scoped>\n",
              "    .dataframe tbody tr th:only-of-type {\n",
              "        vertical-align: middle;\n",
              "    }\n",
              "\n",
              "    .dataframe tbody tr th {\n",
              "        vertical-align: top;\n",
              "    }\n",
              "\n",
              "    .dataframe thead th {\n",
              "        text-align: right;\n",
              "    }\n",
              "</style>\n",
              "<table border=\"1\" class=\"dataframe\">\n",
              "  <thead>\n",
              "    <tr style=\"text-align: right;\">\n",
              "      <th></th>\n",
              "      <th>Logistic Regreesion</th>\n",
              "      <th>KNeighbors</th>\n",
              "      <th>Decision Tree</th>\n",
              "      <th>SVV</th>\n",
              "    </tr>\n",
              "  </thead>\n",
              "  <tbody>\n",
              "    <tr>\n",
              "      <th>0</th>\n",
              "      <td>96%</td>\n",
              "      <td>94%</td>\n",
              "      <td>90%</td>\n",
              "      <td>91%</td>\n",
              "    </tr>\n",
              "  </tbody>\n",
              "</table>\n",
              "</div>\n",
              "      <button class=\"colab-df-convert\" onclick=\"convertToInteractive('df-1affe601-2d64-4771-93e5-95435d4f74bd')\"\n",
              "              title=\"Convert this dataframe to an interactive table.\"\n",
              "              style=\"display:none;\">\n",
              "        \n",
              "  <svg xmlns=\"http://www.w3.org/2000/svg\" height=\"24px\"viewBox=\"0 0 24 24\"\n",
              "       width=\"24px\">\n",
              "    <path d=\"M0 0h24v24H0V0z\" fill=\"none\"/>\n",
              "    <path d=\"M18.56 5.44l.94 2.06.94-2.06 2.06-.94-2.06-.94-.94-2.06-.94 2.06-2.06.94zm-11 1L8.5 8.5l.94-2.06 2.06-.94-2.06-.94L8.5 2.5l-.94 2.06-2.06.94zm10 10l.94 2.06.94-2.06 2.06-.94-2.06-.94-.94-2.06-.94 2.06-2.06.94z\"/><path d=\"M17.41 7.96l-1.37-1.37c-.4-.4-.92-.59-1.43-.59-.52 0-1.04.2-1.43.59L10.3 9.45l-7.72 7.72c-.78.78-.78 2.05 0 2.83L4 21.41c.39.39.9.59 1.41.59.51 0 1.02-.2 1.41-.59l7.78-7.78 2.81-2.81c.8-.78.8-2.07 0-2.86zM5.41 20L4 18.59l7.72-7.72 1.47 1.35L5.41 20z\"/>\n",
              "  </svg>\n",
              "      </button>\n",
              "      \n",
              "  <style>\n",
              "    .colab-df-container {\n",
              "      display:flex;\n",
              "      flex-wrap:wrap;\n",
              "      gap: 12px;\n",
              "    }\n",
              "\n",
              "    .colab-df-convert {\n",
              "      background-color: #E8F0FE;\n",
              "      border: none;\n",
              "      border-radius: 50%;\n",
              "      cursor: pointer;\n",
              "      display: none;\n",
              "      fill: #1967D2;\n",
              "      height: 32px;\n",
              "      padding: 0 0 0 0;\n",
              "      width: 32px;\n",
              "    }\n",
              "\n",
              "    .colab-df-convert:hover {\n",
              "      background-color: #E2EBFA;\n",
              "      box-shadow: 0px 1px 2px rgba(60, 64, 67, 0.3), 0px 1px 3px 1px rgba(60, 64, 67, 0.15);\n",
              "      fill: #174EA6;\n",
              "    }\n",
              "\n",
              "    [theme=dark] .colab-df-convert {\n",
              "      background-color: #3B4455;\n",
              "      fill: #D2E3FC;\n",
              "    }\n",
              "\n",
              "    [theme=dark] .colab-df-convert:hover {\n",
              "      background-color: #434B5C;\n",
              "      box-shadow: 0px 1px 3px 1px rgba(0, 0, 0, 0.15);\n",
              "      filter: drop-shadow(0px 1px 2px rgba(0, 0, 0, 0.3));\n",
              "      fill: #FFFFFF;\n",
              "    }\n",
              "  </style>\n",
              "\n",
              "      <script>\n",
              "        const buttonEl =\n",
              "          document.querySelector('#df-1affe601-2d64-4771-93e5-95435d4f74bd button.colab-df-convert');\n",
              "        buttonEl.style.display =\n",
              "          google.colab.kernel.accessAllowed ? 'block' : 'none';\n",
              "\n",
              "        async function convertToInteractive(key) {\n",
              "          const element = document.querySelector('#df-1affe601-2d64-4771-93e5-95435d4f74bd');\n",
              "          const dataTable =\n",
              "            await google.colab.kernel.invokeFunction('convertToInteractive',\n",
              "                                                     [key], {});\n",
              "          if (!dataTable) return;\n",
              "\n",
              "          const docLinkHtml = 'Like what you see? Visit the ' +\n",
              "            '<a target=\"_blank\" href=https://colab.research.google.com/notebooks/data_table.ipynb>data table notebook</a>'\n",
              "            + ' to learn more about interactive tables.';\n",
              "          element.innerHTML = '';\n",
              "          dataTable['output_type'] = 'display_data';\n",
              "          await google.colab.output.renderOutput(dataTable, element);\n",
              "          const docLink = document.createElement('div');\n",
              "          docLink.innerHTML = docLinkHtml;\n",
              "          element.appendChild(docLink);\n",
              "        }\n",
              "      </script>\n",
              "    </div>\n",
              "  </div>\n",
              "  "
            ]
          },
          "metadata": {},
          "execution_count": 52
        }
      ]
    },
    {
      "cell_type": "markdown",
      "source": [
        "## 분류 성능 평가하기\n",
        "> - **정확도(Accuraacy)**이외에 scikit-learn이 제공하는 다양한 성능을 평가하기 위한 방법 사용"
      ],
      "metadata": {
        "id": "s14KcZAMzbwN"
      }
    },
    {
      "cell_type": "markdown",
      "source": [
        "정확도 하나만으로 **'이 머신 러닝 모델은 성능이 좋은 모델이다!'** 라고 말 할 수없다.<br>\n",
        "만약 90%펭귄이 수컷인 상황이라면 모두 수컷이라고 예측을 하면 정확도는 90%이다.<br> 따라서 모델의 정확도만을 가지고 분류 성능을 평가하는 것은 주의가 필요하다."
      ],
      "metadata": {
        "id": "y5rWJCb5zuHS"
      }
    },
    {
      "cell_type": "markdown",
      "source": [
        "### 오차행렬\n",
        "> - 분류를 하면서 **모데링 얼마나 헷갈리고 있는지**를 한눈에 파악할 수있다.\n",
        "> - 실제 값 종류 별로 얼마나 맞추었는지, 아니면 얼마나 틀렸는지를 알 수 있어, **예측 오류의 종류 별로 분석**이 가능합니다."
      ],
      "metadata": {
        "id": "cfQytQmd0CIR"
      }
    },
    {
      "cell_type": "markdown",
      "source": [
        "> <img src=\"data:image/png;base64,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\" height=200 width=550/>"
      ],
      "metadata": {
        "id": "6R1Z_jYr0a6I"
      }
    },
    {
      "cell_type": "code",
      "source": [
        "# 라이브러리 import\n",
        "from sklearn.metrics import confusion_matrix\n",
        "from mlxtend.plotting import plot_confusion_matrix"
      ],
      "metadata": {
        "id": "WXPZhAuTzIUz"
      },
      "execution_count": 55,
      "outputs": []
    },
    {
      "cell_type": "code",
      "source": [
        "predictions = lr_model.predict(X_test)"
      ],
      "metadata": {
        "id": "Lyn9r1RS0sCE"
      },
      "execution_count": 60,
      "outputs": []
    },
    {
      "cell_type": "code",
      "source": [
        "# confusion matrix\n",
        "cnf_matrix = confusion_matrix(Y_test, predictions)"
      ],
      "metadata": {
        "id": "CBInWJmI09VY"
      },
      "execution_count": 57,
      "outputs": []
    },
    {
      "cell_type": "code",
      "source": [
        "cnf_matrix"
      ],
      "metadata": {
        "colab": {
          "base_uri": "https://localhost:8080/"
        },
        "id": "yU2bL54U1Dyj",
        "outputId": "d1dda834-7f89-452c-e99c-56bde4ff0c34"
      },
      "execution_count": 58,
      "outputs": [
        {
          "output_type": "execute_result",
          "data": {
            "text/plain": [
              "array([[32,  3],\n",
              "       [ 0, 32]])"
            ]
          },
          "metadata": {},
          "execution_count": 58
        }
      ]
    },
    {
      "cell_type": "code",
      "source": [
        "# Confusioin Matrix 시각화 하기\n",
        "figure, ax = plot_confusion_matrix(conf_mat = cnf_matrix, # confusion atrix\n",
        "                                   show_absolute = True, # 절대값 보여주기\n",
        "                                   show_normed = True, # 비율 보여주기\n",
        "                                   colorbar = True)\n",
        "\n",
        "plt.show()"
      ],
      "metadata": {
        "colab": {
          "base_uri": "https://localhost:8080/",
          "height": 279
        },
        "id": "0YS55XBP1E-p",
        "outputId": "a14cfbee-b935-4e29-8dd7-b8de63ed93e6"
      },
      "execution_count": 61,
      "outputs": [
        {
          "output_type": "display_data",
          "data": {
            "text/plain": [
              "<Figure size 432x288 with 2 Axes>"
            ],
            "image/png": "[encoded data removed]"
          },
          "metadata": {
            "needs_background": "light"
          }
        }
      ]
    },
    {
      "cell_type": "markdown",
      "source": [
        "> ### 정확도(Accuracy)/ 정밀도(Precision)\n",
        "> - 정확도와 정밀도는 항상 헷갈리지만, 함께 봐야하는 중요한 지표 중 하나이다.\n",
        "> - scikit-learn에선 0-1 사이 값으로 계산해 줍니다.\n",
        "> - **정확도(Accuracy)** :'전체 분류 결과 중' 에서 '실제 참으로 맞춘 비율'\n",
        "    - 전체 데이터에서 얼마나 맞췄냐?\n",
        "    - TP + TN / TP + FP + TN + FN\n",
        "> - 정밀도(precision) : '참으로 분류한 것 중'에 '실제 참의 비율'\n",
        "    - 얼마나 정밀하게 참으로 분류했는가?\n",
        "    - TP/TP + FP"
      ],
      "metadata": {
        "id": "waZkkn-P2FfI"
      }
    },
    {
      "cell_type": "code",
      "source": [
        "# libary import\n",
        "from sklearn.metrics import accuracy_score\n",
        "from sklearn.metrics import precision_score"
      ],
      "metadata": {
        "id": "ZsYDP8LK13ss"
      },
      "execution_count": 62,
      "outputs": []
    },
    {
      "cell_type": "code",
      "source": [
        "#정확도\n",
        "accuracy_score(Y_test, predictions)"
      ],
      "metadata": {
        "colab": {
          "base_uri": "https://localhost:8080/"
        },
        "id": "XZSYv5R028hN",
        "outputId": "afdad02e-04ca-4e1f-83ec-51b238585188"
      },
      "execution_count": 64,
      "outputs": [
        {
          "output_type": "execute_result",
          "data": {
            "text/plain": [
              "0.9552238805970149"
            ]
          },
          "metadata": {},
          "execution_count": 64
        }
      ]
    },
    {
      "cell_type": "code",
      "source": [
        "#정밀도\n",
        "precision_score(Y_test, predictions)"
      ],
      "metadata": {
        "colab": {
          "base_uri": "https://localhost:8080/"
        },
        "id": "csoO2FHH3AwX",
        "outputId": "1f7f96a6-3f99-4a00-f9e3-0577d3971d0e"
      },
      "execution_count": 65,
      "outputs": [
        {
          "output_type": "execute_result",
          "data": {
            "text/plain": [
              "0.9142857142857143"
            ]
          },
          "metadata": {},
          "execution_count": 65
        }
      ]
    },
    {
      "cell_type": "markdown",
      "source": [
        "> ### 재현율(Recall)\n",
        "> - 재현율(Recall)은 Hit Ratio등으로 불리는 지표이다.\n",
        "> - 정밀도와 개념이 유사하지만, 다른 점은 분모 부분이 '실제 참 값'이 들어간다.\n",
        "> - sckit-learn에선 0-1 사이 값으로 계산\n",
        "> - 재현율(Recall) : '**실제**참값 중에서 '참으로 분류한 비율'\n",
        "    - 참 값을 얼마나 잘 재현 했는가?\n",
        "    - TP / TP + FN"
      ],
      "metadata": {
        "id": "VItxdww43I5P"
      }
    },
    {
      "cell_type": "code",
      "source": [
        "# libary import\n",
        "from sklearn.metrics import recall_score"
      ],
      "metadata": {
        "id": "35j3fRSb3Hh7"
      },
      "execution_count": 68,
      "outputs": []
    },
    {
      "cell_type": "code",
      "source": [
        "recall_score(Y_test, predictions)"
      ],
      "metadata": {
        "colab": {
          "base_uri": "https://localhost:8080/"
        },
        "id": "bu8zetme3qDz",
        "outputId": "aa54b038-c360-46ba-b10a-52cd87f0c502"
      },
      "execution_count": 71,
      "outputs": [
        {
          "output_type": "execute_result",
          "data": {
            "text/plain": [
              "1.0"
            ]
          },
          "metadata": {},
          "execution_count": 71
        }
      ]
    },
    {
      "cell_type": "markdown",
      "source": [
        "> ### F1점수 (F1-score)\n",
        "> - F1-score는 재현율과 정밀도가 한쪽으로 치우치지 않았는지 나타내는 지표이다.\n",
        "> - 재현율과 정밀도는 한쪽이 높아지면, 다른 한쪽은 낮아지는 관계(Trade-off관계)가 있습니다. 만약 정밀도를 높이려 하면 재현율이 낮아집니다.\n",
        "> - 주로 **데이터가 심각한 불균형 상태일 때** 성능 평가를 제대로 하기 위해서 사용\n",
        "> - F1점수(Recall): '데이터 불균형을 보정한 분류 성능'\n",
        "    - 데이터가 불균형을 보장한 분류 성능\n",
        "    - 2 * Precision(정밀도) * Recall/ precision+Recall"
      ],
      "metadata": {
        "id": "WE0-pFL631hx"
      }
    },
    {
      "cell_type": "code",
      "source": [
        "# libary import\n",
        "from sklearn.metrics import f1_score"
      ],
      "metadata": {
        "id": "LMzdLloH3wu2"
      },
      "execution_count": 72,
      "outputs": []
    },
    {
      "cell_type": "code",
      "source": [
        "f1_score(Y_test, predictions)"
      ],
      "metadata": {
        "colab": {
          "base_uri": "https://localhost:8080/"
        },
        "id": "y03_DnCX4lB5",
        "outputId": "a8fac226-34df-481c-9e12-a8a17c48e128"
      },
      "execution_count": 74,
      "outputs": [
        {
          "output_type": "execute_result",
          "data": {
            "text/plain": [
              "0.955223880597015"
            ]
          },
          "metadata": {},
          "execution_count": 74
        }
      ]
    },
    {
      "cell_type": "markdown",
      "source": [
        "> ### ** ROC(Receiver Operator Characteristic)커브**\n",
        "> - ROC 커브는 분류 모델의 판단 기준을 연속적으로 바꾸면서 성능에 어떤 변화가 있는지 측정하는 방법입니다.\n",
        "> - TPR(True Postive Rate): 참 값에 대해 참으로 바로 예측하는 비율\n",
        "    - TP/TP+FN\n",
        "> - FPr(False Postive Rate): 거짓 값에 대해 참으로 틀리게 예측하는 비율\n",
        "    - FP/FP + TN\n",
        "> - 커브 아래 면적을 AUC(Area under the ROC curve)라고 한다.\n",
        "> - 이 AUC 면적이 클수록 성능이 좋은 모델이다."
      ],
      "metadata": {
        "id": "Od8xyz4A4ujx"
      }
    },
    {
      "cell_type": "code",
      "source": [
        "from sklearn.metrics import roc_curve\n",
        "from sklearn.metrics import roc_auc_score"
      ],
      "metadata": {
        "id": "bw2y5D4m4nEW"
      },
      "execution_count": 77,
      "outputs": []
    },
    {
      "cell_type": "code",
      "source": [
        "# roc 커브 시각화\n",
        "fpr, tpr, _ = roc_curve(Y_test, predictions)\n",
        "auc = roc_auc_score(Y_test, predictions)\n",
        "plt.plot(fpr,tpr, label='aue='+str(auc))\n",
        "plt.legend(loc='lower right')\n",
        "plt.xlabel('False Postive Rate')\n",
        "plt.ylabel('True Postive Rate')\n",
        "plt.show()"
      ],
      "metadata": {
        "colab": {
          "base_uri": "https://localhost:8080/",
          "height": 279
        },
        "id": "ZTtQPO2o6AWe",
        "outputId": "123d0d03-255e-4fc2-cee2-e84a446111b8"
      },
      "execution_count": 79,
      "outputs": [
        {
          "output_type": "display_data",
          "data": {
            "text/plain": [
              "<Figure size 432x288 with 1 Axes>"
            ],
            "image/png": "[encoded data removed]"
          },
          "metadata": {
            "needs_background": "light"
          }
        }
      ]
    },
    {
      "cell_type": "code",
      "source": [
        "# 전체 분류 모델 성능 지표\n",
        "accuracy = accuracy_score(Y_test, predictions)\n",
        "precision = precision_score(Y_test, predictions)\n",
        "recall = recall_score(Y_test, predictions)\n",
        "f1_score = f1_score(Y_test, predictions)\n",
        "auc_score = roc_auc_score(Y_test, predictions)\n",
        "\n",
        "print(\"accuracy: {}\".format(round(accuracy, 2)))\n",
        "print(\"precision: {}\".format(round(precision, 2)))\n",
        "print(\"recall: {}\".format(round(recall), 2))\n",
        "print(\"f1_score: {}\".format(round(f1_score, 2)))\n",
        "print(\"auc_score: {}\".format(round(auc_score, 2)))"
      ],
      "metadata": {
        "colab": {
          "base_uri": "https://localhost:8080/"
        },
        "id": "xjxBrFKP6h1n",
        "outputId": "15ff1cb6-26e6-4450-d8d3-221e417d8a1a"
      },
      "execution_count": 80,
      "outputs": [
        {
          "output_type": "stream",
          "name": "stdout",
          "text": [
            "accuracy: 0.96\n",
            "precision: 0.91\n",
            "recall: 1\n",
            "f1_score: 0.96\n",
            "auc_score: 0.96\n"
          ]
        }
      ]
    },
    {
      "cell_type": "code",
      "source": [],
      "metadata": {
        "id": "HIUZLSjo7FSi"
      },
      "execution_count": null,
      "outputs": []
    }
  ]
}