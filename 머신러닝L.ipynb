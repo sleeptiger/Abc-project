{
  "nbformat": 4,
  "nbformat_minor": 0,
  "metadata": {
    "colab": {
      "provenance": [],
      "collapsed_sections": [],
      "authorship_tag": "ABX9TyMSO6QM7t7p+gE1LtPdirb9",
      "include_colab_link": true
    },
    "kernelspec": {
      "name": "python3",
      "display_name": "Python 3"
    },
    "language_info": {
      "name": "python"
    }
  },
  "cells": [
    {
      "cell_type": "markdown",
      "metadata": {
        "id": "view-in-github",
        "colab_type": "text"
      },
      "source": [
        "<a href=\"https://colab.research.google.com/github/sleeptiger/Abc-project/blob/main/%EB%A8%B8%EC%8B%A0%EB%9F%AC%EB%8B%9DL.ipynb\" target=\"_parent\"><img src=\"https://colab.research.google.com/assets/colab-badge.svg\" alt=\"Open In Colab\"/></a>"
      ]
    },
    {
      "cell_type": "markdown",
      "source": [
        "# 머신러닝 기초"
      ],
      "metadata": {
        "id": "vRyk34T9OeJd"
      }
    },
    {
      "cell_type": "markdown",
      "source": [
        "## 머신러닝이란?"
      ],
      "metadata": {
        "id": "tX80P3i5Oh1S"
      }
    },
    {
      "cell_type": "markdown",
      "source": [
        "1. 묘사분석(어떤 일이 생겼는가?)\n",
        "2. 진단 분석(왜 이 일이 생겼는가?)\n",
        "3. 예측 분석(미래에 무슨일이 생길까?)\n",
        "4. 처방 분석(무엇을 행동해야하는가?)\n",
        "\n",
        "- 3번4번이 머신러닝을 활용하는 단계 분석"
      ],
      "metadata": {
        "id": "JNWbFON2OkWK"
      }
    },
    {
      "cell_type": "markdown",
      "source": [
        "- 머신러닝으로 할 수 있는 것들\n",
        "> - 분류, 예측 분석\n",
        "> - 이미지 인식\n",
        "> - 음성, 테스트 인식\n",
        "> - 추천 시스템\n"
      ],
      "metadata": {
        "id": "pdC8mQ2HPBmt"
      }
    },
    {
      "cell_type": "markdown",
      "source": [
        "## 전처리 기본(정규화, 표준화, 범주형 데이터, 학습/테스트 세트 분할)\n"
      ],
      "metadata": {
        "id": "mc7i_scQp5ai"
      }
    },
    {
      "cell_type": "markdown",
      "source": [
        "- 머신러닝의 가장 중요한 부분은 **데이터 전처리**입니다.\n",
        "- 데이터 분석가의 머신러닝 모델의 성능을 활성하기 위한 작업중 70%이상이 전처리 부분에 해당합니다.\n",
        "- 전처리 작업에는 **결측값 처리, 정규화, 표준화(수치형), 범주형 데이터의 수치형 변환, 학습/테스트 분할, Feature Engineering emd**이 있다."
      ],
      "metadata": {
        "id": "1OlKZKzFp_7j"
      }
    },
    {
      "cell_type": "code",
      "execution_count": 72,
      "metadata": {
        "id": "9tDVkfkTN7ky"
      },
      "outputs": [],
      "source": [
        "import matplotlib.pylab as plt\n",
        "import seaborn as sns\n",
        "import numpy as np\n",
        "import pandas as pd"
      ]
    },
    {
      "cell_type": "code",
      "source": [
        "penguins = sns.load_dataset('penguins')\n",
        "penguins.head()"
      ],
      "metadata": {
        "colab": {
          "base_uri": "https://localhost:8080/",
          "height": 268
        },
        "id": "gCU4WnlXqgjJ",
        "outputId": "d2fa883e-9a94-416f-972a-8369d057298e"
      },
      "execution_count": 73,
      "outputs": [
        {
          "output_type": "execute_result",
          "data": {
            "text/plain": [
              "  species     island  bill_length_mm  bill_depth_mm  flipper_length_mm  \\\n",
              "0  Adelie  Torgersen            39.1           18.7              181.0   \n",
              "1  Adelie  Torgersen            39.5           17.4              186.0   \n",
              "2  Adelie  Torgersen            40.3           18.0              195.0   \n",
              "3  Adelie  Torgersen             NaN            NaN                NaN   \n",
              "4  Adelie  Torgersen            36.7           19.3              193.0   \n",
              "\n",
              "   body_mass_g     sex  \n",
              "0       3750.0    Male  \n",
              "1       3800.0  Female  \n",
              "2       3250.0  Female  \n",
              "3          NaN     NaN  \n",
              "4       3450.0  Female  "
            ],
            "text/html": [
              "\n",
              "  <div id=\"df-21e347a6-2668-4e7c-8640-9554a3708928\">\n",
              "    <div class=\"colab-df-container\">\n",
              "      <div>\n",
              "<style scoped>\n",
              "    .dataframe tbody tr th:only-of-type {\n",
              "        vertical-align: middle;\n",
              "    }\n",
              "\n",
              "    .dataframe tbody tr th {\n",
              "        vertical-align: top;\n",
              "    }\n",
              "\n",
              "    .dataframe thead th {\n",
              "        text-align: right;\n",
              "    }\n",
              "</style>\n",
              "<table border=\"1\" class=\"dataframe\">\n",
              "  <thead>\n",
              "    <tr style=\"text-align: right;\">\n",
              "      <th></th>\n",
              "      <th>species</th>\n",
              "      <th>island</th>\n",
              "      <th>bill_length_mm</th>\n",
              "      <th>bill_depth_mm</th>\n",
              "      <th>flipper_length_mm</th>\n",
              "      <th>body_mass_g</th>\n",
              "      <th>sex</th>\n",
              "    </tr>\n",
              "  </thead>\n",
              "  <tbody>\n",
              "    <tr>\n",
              "      <th>0</th>\n",
              "      <td>Adelie</td>\n",
              "      <td>Torgersen</td>\n",
              "      <td>39.1</td>\n",
              "      <td>18.7</td>\n",
              "      <td>181.0</td>\n",
              "      <td>3750.0</td>\n",
              "      <td>Male</td>\n",
              "    </tr>\n",
              "    <tr>\n",
              "      <th>1</th>\n",
              "      <td>Adelie</td>\n",
              "      <td>Torgersen</td>\n",
              "      <td>39.5</td>\n",
              "      <td>17.4</td>\n",
              "      <td>186.0</td>\n",
              "      <td>3800.0</td>\n",
              "      <td>Female</td>\n",
              "    </tr>\n",
              "    <tr>\n",
              "      <th>2</th>\n",
              "      <td>Adelie</td>\n",
              "      <td>Torgersen</td>\n",
              "      <td>40.3</td>\n",
              "      <td>18.0</td>\n",
              "      <td>195.0</td>\n",
              "      <td>3250.0</td>\n",
              "      <td>Female</td>\n",
              "    </tr>\n",
              "    <tr>\n",
              "      <th>3</th>\n",
              "      <td>Adelie</td>\n",
              "      <td>Torgersen</td>\n",
              "      <td>NaN</td>\n",
              "      <td>NaN</td>\n",
              "      <td>NaN</td>\n",
              "      <td>NaN</td>\n",
              "      <td>NaN</td>\n",
              "    </tr>\n",
              "    <tr>\n",
              "      <th>4</th>\n",
              "      <td>Adelie</td>\n",
              "      <td>Torgersen</td>\n",
              "      <td>36.7</td>\n",
              "      <td>19.3</td>\n",
              "      <td>193.0</td>\n",
              "      <td>3450.0</td>\n",
              "      <td>Female</td>\n",
              "    </tr>\n",
              "  </tbody>\n",
              "</table>\n",
              "</div>\n",
              "      <button class=\"colab-df-convert\" onclick=\"convertToInteractive('df-21e347a6-2668-4e7c-8640-9554a3708928')\"\n",
              "              title=\"Convert this dataframe to an interactive table.\"\n",
              "              style=\"display:none;\">\n",
              "        \n",
              "  <svg xmlns=\"http://www.w3.org/2000/svg\" height=\"24px\"viewBox=\"0 0 24 24\"\n",
              "       width=\"24px\">\n",
              "    <path d=\"M0 0h24v24H0V0z\" fill=\"none\"/>\n",
              "    <path d=\"M18.56 5.44l.94 2.06.94-2.06 2.06-.94-2.06-.94-.94-2.06-.94 2.06-2.06.94zm-11 1L8.5 8.5l.94-2.06 2.06-.94-2.06-.94L8.5 2.5l-.94 2.06-2.06.94zm10 10l.94 2.06.94-2.06 2.06-.94-2.06-.94-.94-2.06-.94 2.06-2.06.94z\"/><path d=\"M17.41 7.96l-1.37-1.37c-.4-.4-.92-.59-1.43-.59-.52 0-1.04.2-1.43.59L10.3 9.45l-7.72 7.72c-.78.78-.78 2.05 0 2.83L4 21.41c.39.39.9.59 1.41.59.51 0 1.02-.2 1.41-.59l7.78-7.78 2.81-2.81c.8-.78.8-2.07 0-2.86zM5.41 20L4 18.59l7.72-7.72 1.47 1.35L5.41 20z\"/>\n",
              "  </svg>\n",
              "      </button>\n",
              "      \n",
              "  <style>\n",
              "    .colab-df-container {\n",
              "      display:flex;\n",
              "      flex-wrap:wrap;\n",
              "      gap: 12px;\n",
              "    }\n",
              "\n",
              "    .colab-df-convert {\n",
              "      background-color: #E8F0FE;\n",
              "      border: none;\n",
              "      border-radius: 50%;\n",
              "      cursor: pointer;\n",
              "      display: none;\n",
              "      fill: #1967D2;\n",
              "      height: 32px;\n",
              "      padding: 0 0 0 0;\n",
              "      width: 32px;\n",
              "    }\n",
              "\n",
              "    .colab-df-convert:hover {\n",
              "      background-color: #E2EBFA;\n",
              "      box-shadow: 0px 1px 2px rgba(60, 64, 67, 0.3), 0px 1px 3px 1px rgba(60, 64, 67, 0.15);\n",
              "      fill: #174EA6;\n",
              "    }\n",
              "\n",
              "    [theme=dark] .colab-df-convert {\n",
              "      background-color: #3B4455;\n",
              "      fill: #D2E3FC;\n",
              "    }\n",
              "\n",
              "    [theme=dark] .colab-df-convert:hover {\n",
              "      background-color: #434B5C;\n",
              "      box-shadow: 0px 1px 3px 1px rgba(0, 0, 0, 0.15);\n",
              "      filter: drop-shadow(0px 1px 2px rgba(0, 0, 0, 0.3));\n",
              "      fill: #FFFFFF;\n",
              "    }\n",
              "  </style>\n",
              "\n",
              "      <script>\n",
              "        const buttonEl =\n",
              "          document.querySelector('#df-21e347a6-2668-4e7c-8640-9554a3708928 button.colab-df-convert');\n",
              "        buttonEl.style.display =\n",
              "          google.colab.kernel.accessAllowed ? 'block' : 'none';\n",
              "\n",
              "        async function convertToInteractive(key) {\n",
              "          const element = document.querySelector('#df-21e347a6-2668-4e7c-8640-9554a3708928');\n",
              "          const dataTable =\n",
              "            await google.colab.kernel.invokeFunction('convertToInteractive',\n",
              "                                                     [key], {});\n",
              "          if (!dataTable) return;\n",
              "\n",
              "          const docLinkHtml = 'Like what you see? Visit the ' +\n",
              "            '<a target=\"_blank\" href=https://colab.research.google.com/notebooks/data_table.ipynb>data table notebook</a>'\n",
              "            + ' to learn more about interactive tables.';\n",
              "          element.innerHTML = '';\n",
              "          dataTable['output_type'] = 'display_data';\n",
              "          await google.colab.output.renderOutput(dataTable, element);\n",
              "          const docLink = document.createElement('div');\n",
              "          docLink.innerHTML = docLinkHtml;\n",
              "          element.appendChild(docLink);\n",
              "        }\n",
              "      </script>\n",
              "    </div>\n",
              "  </div>\n",
              "  "
            ]
          },
          "metadata": {},
          "execution_count": 73
        }
      ]
    },
    {
      "cell_type": "code",
      "source": [
        "# 결측값 제거\n",
        "penguins = penguins.dropna().reset_index(drop=True)"
      ],
      "metadata": {
        "id": "AH9Q0ET5qpwr"
      },
      "execution_count": 74,
      "outputs": []
    },
    {
      "cell_type": "code",
      "source": [
        "penguins.info()"
      ],
      "metadata": {
        "colab": {
          "base_uri": "https://localhost:8080/"
        },
        "id": "-3bqU5qyqx8w",
        "outputId": "ac45eaf4-d9d3-462e-ccf1-de7f3e61b0ea"
      },
      "execution_count": 75,
      "outputs": [
        {
          "output_type": "stream",
          "name": "stdout",
          "text": [
            "<class 'pandas.core.frame.DataFrame'>\n",
            "RangeIndex: 333 entries, 0 to 332\n",
            "Data columns (total 7 columns):\n",
            " #   Column             Non-Null Count  Dtype  \n",
            "---  ------             --------------  -----  \n",
            " 0   species            333 non-null    object \n",
            " 1   island             333 non-null    object \n",
            " 2   bill_length_mm     333 non-null    float64\n",
            " 3   bill_depth_mm      333 non-null    float64\n",
            " 4   flipper_length_mm  333 non-null    float64\n",
            " 5   body_mass_g        333 non-null    float64\n",
            " 6   sex                333 non-null    object \n",
            "dtypes: float64(4), object(3)\n",
            "memory usage: 18.3+ KB\n"
          ]
        }
      ]
    },
    {
      "cell_type": "markdown",
      "source": [
        "### 정규화(Normalization), 표준화(Standardization)"
      ],
      "metadata": {
        "id": "fRfBB14pq3a4"
      }
    },
    {
      "cell_type": "markdown",
      "source": [
        "- 정규화와 표준화는 모두 수치형 데이터 전처리에서 중요한 요소입니다.\n",
        "- 학습 데이터의 feature 간 단위나 스케일(scale)차이가 클수록 학습 모델의 성능이 저하된다.\n",
        "- 따라서 수치형 데이터의 **단위를 맞춰주는 작업을 스케일링(scaling)이라고 합니다.\n",
        "- 스케링에는 일정 구간을 정해주는 정규화(Normalization) 방법과 평균(0)과 표준편차(1)를 사용하는 표준화(Standardization) 방법이 있습니다."
      ],
      "metadata": {
        "id": "bbjeHHDSq8MX"
      }
    },
    {
      "cell_type": "markdown",
      "source": [
        "- 정규화\n",
        "> - 0~1사이의 값으로 변환(수치형 컬럼에서만 정규화 가능) 플러스 값으로 표현"
      ],
      "metadata": {
        "id": "hvwu32JcrhxC"
      }
    },
    {
      "cell_type": "markdown",
      "source": [
        "- 표준화\n",
        "> - 평균을 0으로 하고 표준편차를 1로 한다.(비지도 학습 사용시 사용함)(최솟값/최댓값이 설정 안될 시에 사용)"
      ],
      "metadata": {
        "id": "JXNHEWB9rvvv"
      }
    },
    {
      "cell_type": "code",
      "source": [
        "# feature 들 간 단위가 다릅니다. (bill_length_mm/bill_depth_mm/flipper_length_mm)\n",
        "penguins"
      ],
      "metadata": {
        "id": "OrxVwU1kqzSW",
        "colab": {
          "base_uri": "https://localhost:8080/",
          "height": 483
        },
        "outputId": "b5086fde-e7dd-4563-a647-6ccd896e7c08"
      },
      "execution_count": 76,
      "outputs": [
        {
          "output_type": "execute_result",
          "data": {
            "text/plain": [
              "    species     island  bill_length_mm  bill_depth_mm  flipper_length_mm  \\\n",
              "0    Adelie  Torgersen            39.1           18.7              181.0   \n",
              "1    Adelie  Torgersen            39.5           17.4              186.0   \n",
              "2    Adelie  Torgersen            40.3           18.0              195.0   \n",
              "3    Adelie  Torgersen            36.7           19.3              193.0   \n",
              "4    Adelie  Torgersen            39.3           20.6              190.0   \n",
              "..      ...        ...             ...            ...                ...   \n",
              "328  Gentoo     Biscoe            47.2           13.7              214.0   \n",
              "329  Gentoo     Biscoe            46.8           14.3              215.0   \n",
              "330  Gentoo     Biscoe            50.4           15.7              222.0   \n",
              "331  Gentoo     Biscoe            45.2           14.8              212.0   \n",
              "332  Gentoo     Biscoe            49.9           16.1              213.0   \n",
              "\n",
              "     body_mass_g     sex  \n",
              "0         3750.0    Male  \n",
              "1         3800.0  Female  \n",
              "2         3250.0  Female  \n",
              "3         3450.0  Female  \n",
              "4         3650.0    Male  \n",
              "..           ...     ...  \n",
              "328       4925.0  Female  \n",
              "329       4850.0  Female  \n",
              "330       5750.0    Male  \n",
              "331       5200.0  Female  \n",
              "332       5400.0    Male  \n",
              "\n",
              "[333 rows x 7 columns]"
            ],
            "text/html": [
              "\n",
              "  <div id=\"df-468af481-d3d6-4fa1-80da-9f84f1b71abf\">\n",
              "    <div class=\"colab-df-container\">\n",
              "      <div>\n",
              "<style scoped>\n",
              "    .dataframe tbody tr th:only-of-type {\n",
              "        vertical-align: middle;\n",
              "    }\n",
              "\n",
              "    .dataframe tbody tr th {\n",
              "        vertical-align: top;\n",
              "    }\n",
              "\n",
              "    .dataframe thead th {\n",
              "        text-align: right;\n",
              "    }\n",
              "</style>\n",
              "<table border=\"1\" class=\"dataframe\">\n",
              "  <thead>\n",
              "    <tr style=\"text-align: right;\">\n",
              "      <th></th>\n",
              "      <th>species</th>\n",
              "      <th>island</th>\n",
              "      <th>bill_length_mm</th>\n",
              "      <th>bill_depth_mm</th>\n",
              "      <th>flipper_length_mm</th>\n",
              "      <th>body_mass_g</th>\n",
              "      <th>sex</th>\n",
              "    </tr>\n",
              "  </thead>\n",
              "  <tbody>\n",
              "    <tr>\n",
              "      <th>0</th>\n",
              "      <td>Adelie</td>\n",
              "      <td>Torgersen</td>\n",
              "      <td>39.1</td>\n",
              "      <td>18.7</td>\n",
              "      <td>181.0</td>\n",
              "      <td>3750.0</td>\n",
              "      <td>Male</td>\n",
              "    </tr>\n",
              "    <tr>\n",
              "      <th>1</th>\n",
              "      <td>Adelie</td>\n",
              "      <td>Torgersen</td>\n",
              "      <td>39.5</td>\n",
              "      <td>17.4</td>\n",
              "      <td>186.0</td>\n",
              "      <td>3800.0</td>\n",
              "      <td>Female</td>\n",
              "    </tr>\n",
              "    <tr>\n",
              "      <th>2</th>\n",
              "      <td>Adelie</td>\n",
              "      <td>Torgersen</td>\n",
              "      <td>40.3</td>\n",
              "      <td>18.0</td>\n",
              "      <td>195.0</td>\n",
              "      <td>3250.0</td>\n",
              "      <td>Female</td>\n",
              "    </tr>\n",
              "    <tr>\n",
              "      <th>3</th>\n",
              "      <td>Adelie</td>\n",
              "      <td>Torgersen</td>\n",
              "      <td>36.7</td>\n",
              "      <td>19.3</td>\n",
              "      <td>193.0</td>\n",
              "      <td>3450.0</td>\n",
              "      <td>Female</td>\n",
              "    </tr>\n",
              "    <tr>\n",
              "      <th>4</th>\n",
              "      <td>Adelie</td>\n",
              "      <td>Torgersen</td>\n",
              "      <td>39.3</td>\n",
              "      <td>20.6</td>\n",
              "      <td>190.0</td>\n",
              "      <td>3650.0</td>\n",
              "      <td>Male</td>\n",
              "    </tr>\n",
              "    <tr>\n",
              "      <th>...</th>\n",
              "      <td>...</td>\n",
              "      <td>...</td>\n",
              "      <td>...</td>\n",
              "      <td>...</td>\n",
              "      <td>...</td>\n",
              "      <td>...</td>\n",
              "      <td>...</td>\n",
              "    </tr>\n",
              "    <tr>\n",
              "      <th>328</th>\n",
              "      <td>Gentoo</td>\n",
              "      <td>Biscoe</td>\n",
              "      <td>47.2</td>\n",
              "      <td>13.7</td>\n",
              "      <td>214.0</td>\n",
              "      <td>4925.0</td>\n",
              "      <td>Female</td>\n",
              "    </tr>\n",
              "    <tr>\n",
              "      <th>329</th>\n",
              "      <td>Gentoo</td>\n",
              "      <td>Biscoe</td>\n",
              "      <td>46.8</td>\n",
              "      <td>14.3</td>\n",
              "      <td>215.0</td>\n",
              "      <td>4850.0</td>\n",
              "      <td>Female</td>\n",
              "    </tr>\n",
              "    <tr>\n",
              "      <th>330</th>\n",
              "      <td>Gentoo</td>\n",
              "      <td>Biscoe</td>\n",
              "      <td>50.4</td>\n",
              "      <td>15.7</td>\n",
              "      <td>222.0</td>\n",
              "      <td>5750.0</td>\n",
              "      <td>Male</td>\n",
              "    </tr>\n",
              "    <tr>\n",
              "      <th>331</th>\n",
              "      <td>Gentoo</td>\n",
              "      <td>Biscoe</td>\n",
              "      <td>45.2</td>\n",
              "      <td>14.8</td>\n",
              "      <td>212.0</td>\n",
              "      <td>5200.0</td>\n",
              "      <td>Female</td>\n",
              "    </tr>\n",
              "    <tr>\n",
              "      <th>332</th>\n",
              "      <td>Gentoo</td>\n",
              "      <td>Biscoe</td>\n",
              "      <td>49.9</td>\n",
              "      <td>16.1</td>\n",
              "      <td>213.0</td>\n",
              "      <td>5400.0</td>\n",
              "      <td>Male</td>\n",
              "    </tr>\n",
              "  </tbody>\n",
              "</table>\n",
              "<p>333 rows × 7 columns</p>\n",
              "</div>\n",
              "      <button class=\"colab-df-convert\" onclick=\"convertToInteractive('df-468af481-d3d6-4fa1-80da-9f84f1b71abf')\"\n",
              "              title=\"Convert this dataframe to an interactive table.\"\n",
              "              style=\"display:none;\">\n",
              "        \n",
              "  <svg xmlns=\"http://www.w3.org/2000/svg\" height=\"24px\"viewBox=\"0 0 24 24\"\n",
              "       width=\"24px\">\n",
              "    <path d=\"M0 0h24v24H0V0z\" fill=\"none\"/>\n",
              "    <path d=\"M18.56 5.44l.94 2.06.94-2.06 2.06-.94-2.06-.94-.94-2.06-.94 2.06-2.06.94zm-11 1L8.5 8.5l.94-2.06 2.06-.94-2.06-.94L8.5 2.5l-.94 2.06-2.06.94zm10 10l.94 2.06.94-2.06 2.06-.94-2.06-.94-.94-2.06-.94 2.06-2.06.94z\"/><path d=\"M17.41 7.96l-1.37-1.37c-.4-.4-.92-.59-1.43-.59-.52 0-1.04.2-1.43.59L10.3 9.45l-7.72 7.72c-.78.78-.78 2.05 0 2.83L4 21.41c.39.39.9.59 1.41.59.51 0 1.02-.2 1.41-.59l7.78-7.78 2.81-2.81c.8-.78.8-2.07 0-2.86zM5.41 20L4 18.59l7.72-7.72 1.47 1.35L5.41 20z\"/>\n",
              "  </svg>\n",
              "      </button>\n",
              "      \n",
              "  <style>\n",
              "    .colab-df-container {\n",
              "      display:flex;\n",
              "      flex-wrap:wrap;\n",
              "      gap: 12px;\n",
              "    }\n",
              "\n",
              "    .colab-df-convert {\n",
              "      background-color: #E8F0FE;\n",
              "      border: none;\n",
              "      border-radius: 50%;\n",
              "      cursor: pointer;\n",
              "      display: none;\n",
              "      fill: #1967D2;\n",
              "      height: 32px;\n",
              "      padding: 0 0 0 0;\n",
              "      width: 32px;\n",
              "    }\n",
              "\n",
              "    .colab-df-convert:hover {\n",
              "      background-color: #E2EBFA;\n",
              "      box-shadow: 0px 1px 2px rgba(60, 64, 67, 0.3), 0px 1px 3px 1px rgba(60, 64, 67, 0.15);\n",
              "      fill: #174EA6;\n",
              "    }\n",
              "\n",
              "    [theme=dark] .colab-df-convert {\n",
              "      background-color: #3B4455;\n",
              "      fill: #D2E3FC;\n",
              "    }\n",
              "\n",
              "    [theme=dark] .colab-df-convert:hover {\n",
              "      background-color: #434B5C;\n",
              "      box-shadow: 0px 1px 3px 1px rgba(0, 0, 0, 0.15);\n",
              "      filter: drop-shadow(0px 1px 2px rgba(0, 0, 0, 0.3));\n",
              "      fill: #FFFFFF;\n",
              "    }\n",
              "  </style>\n",
              "\n",
              "      <script>\n",
              "        const buttonEl =\n",
              "          document.querySelector('#df-468af481-d3d6-4fa1-80da-9f84f1b71abf button.colab-df-convert');\n",
              "        buttonEl.style.display =\n",
              "          google.colab.kernel.accessAllowed ? 'block' : 'none';\n",
              "\n",
              "        async function convertToInteractive(key) {\n",
              "          const element = document.querySelector('#df-468af481-d3d6-4fa1-80da-9f84f1b71abf');\n",
              "          const dataTable =\n",
              "            await google.colab.kernel.invokeFunction('convertToInteractive',\n",
              "                                                     [key], {});\n",
              "          if (!dataTable) return;\n",
              "\n",
              "          const docLinkHtml = 'Like what you see? Visit the ' +\n",
              "            '<a target=\"_blank\" href=https://colab.research.google.com/notebooks/data_table.ipynb>data table notebook</a>'\n",
              "            + ' to learn more about interactive tables.';\n",
              "          element.innerHTML = '';\n",
              "          dataTable['output_type'] = 'display_data';\n",
              "          await google.colab.output.renderOutput(dataTable, element);\n",
              "          const docLink = document.createElement('div');\n",
              "          docLink.innerHTML = docLinkHtml;\n",
              "          element.appendChild(docLink);\n",
              "        }\n",
              "      </script>\n",
              "    </div>\n",
              "  </div>\n",
              "  "
            ]
          },
          "metadata": {},
          "execution_count": 76
        }
      ]
    },
    {
      "cell_type": "code",
      "source": [
        "# 도표를 통해 확인 \n",
        "plt.figure(figsize=(15,5 ))\n",
        "sns.histplot(data=penguins)\n",
        "# 데이터의 편차가 너무 심하다 정리가 필요"
      ],
      "metadata": {
        "colab": {
          "base_uri": "https://localhost:8080/",
          "height": 249
        },
        "id": "2F0I1_mda8Sc",
        "outputId": "05e50446-e61d-49dc-968b-77990b83b4cb"
      },
      "execution_count": 77,
      "outputs": [
        {
          "output_type": "execute_result",
          "data": {
            "text/plain": [
              "<matplotlib.axes._subplots.AxesSubplot at 0x7f3c6f8d8a90>"
            ]
          },
          "metadata": {},
          "execution_count": 77
        },
        {
          "output_type": "display_data",
          "data": {
            "text/plain": [
              "<Figure size 1080x360 with 1 Axes>"
            ],
            "image/png": "[encoded data removed]"
          },
          "metadata": {
            "needs_background": "light"
          }
        }
      ]
    },
    {
      "cell_type": "markdown",
      "source": [
        "**정규화(Normalization)**\n",
        "- `MinMaxScaler`를 활용한 0-1 사이 분포 만들기\n",
        "- 같은 범위의 데이터로 변환하기 때문에, 모델 학습 성능이 좋아지고, 학습 시간이 줄어드는 효과가 있다.\n",
        "- 자릿수가 늘어나지 않아 연산 오버플로우(`numeric overflow`)를 방지 할 수있다."
      ],
      "metadata": {
        "id": "_P-RFqZJbiKB"
      }
    },
    {
      "cell_type": "code",
      "source": [
        "from sklearn.preprocessing import MinMaxScaler # 라이브러리 로딩\n",
        "scaler = MinMaxScaler() # 스케일러로 정의\n",
        "\n",
        "penguins_normed = penguins.copy()\n",
        "features = penguins_normed[['bill_length_mm','bill_depth_mm','flipper_length_mm','body_mass_g']] # 정규화 대상 선택\n",
        "features_normed = scaler.fit_transform(features)  #정규화 실행\n",
        "features_normed.shape"
      ],
      "metadata": {
        "colab": {
          "base_uri": "https://localhost:8080/"
        },
        "id": "BPZvssmmbW_z",
        "outputId": "a24591f7-d5f2-4fa5-df17-9f81dcc545ea"
      },
      "execution_count": 78,
      "outputs": [
        {
          "output_type": "execute_result",
          "data": {
            "text/plain": [
              "(333, 4)"
            ]
          },
          "metadata": {},
          "execution_count": 78
        }
      ]
    },
    {
      "cell_type": "code",
      "source": [
        "features_normed\n",
        "# 순서대로 1 col =bill_length/ 2 col =bill_depth/ 3 col = flipper_length / 4 col = body_mass_g"
      ],
      "metadata": {
        "colab": {
          "base_uri": "https://localhost:8080/"
        },
        "id": "FowfayAEcooj",
        "outputId": "32e7060c-1135-4426-b30c-d499adb22363"
      },
      "execution_count": 79,
      "outputs": [
        {
          "output_type": "execute_result",
          "data": {
            "text/plain": [
              "array([[0.25454545, 0.66666667, 0.15254237, 0.29166667],\n",
              "       [0.26909091, 0.51190476, 0.23728814, 0.30555556],\n",
              "       [0.29818182, 0.58333333, 0.38983051, 0.15277778],\n",
              "       ...,\n",
              "       [0.66545455, 0.30952381, 0.84745763, 0.84722222],\n",
              "       [0.47636364, 0.20238095, 0.6779661 , 0.69444444],\n",
              "       [0.64727273, 0.35714286, 0.69491525, 0.75      ]])"
            ]
          },
          "metadata": {},
          "execution_count": 79
        }
      ]
    },
    {
      "cell_type": "code",
      "source": [
        "# 정규화 시킨 데이터 입히기\n",
        "# .assign (데이터 삽입하기)\n",
        "penguins_normed = penguins_normed.assign(bill_length_mm = features_normed[:,0],\n",
        "                                         bill_depth_mm = features_normed[:,1],\n",
        "                                         flipper_length_mm = features_normed[:,2],\n",
        "                                         body_mass_g = features_normed[:,3])\n",
        "\n",
        "penguins_normed"
      ],
      "metadata": {
        "colab": {
          "base_uri": "https://localhost:8080/",
          "height": 483
        },
        "id": "xEdMJZincxq8",
        "outputId": "e3c40c31-8912-42ef-8092-fa0c21750910"
      },
      "execution_count": 80,
      "outputs": [
        {
          "output_type": "execute_result",
          "data": {
            "text/plain": [
              "    species     island  bill_length_mm  bill_depth_mm  flipper_length_mm  \\\n",
              "0    Adelie  Torgersen        0.254545       0.666667           0.152542   \n",
              "1    Adelie  Torgersen        0.269091       0.511905           0.237288   \n",
              "2    Adelie  Torgersen        0.298182       0.583333           0.389831   \n",
              "3    Adelie  Torgersen        0.167273       0.738095           0.355932   \n",
              "4    Adelie  Torgersen        0.261818       0.892857           0.305085   \n",
              "..      ...        ...             ...            ...                ...   \n",
              "328  Gentoo     Biscoe        0.549091       0.071429           0.711864   \n",
              "329  Gentoo     Biscoe        0.534545       0.142857           0.728814   \n",
              "330  Gentoo     Biscoe        0.665455       0.309524           0.847458   \n",
              "331  Gentoo     Biscoe        0.476364       0.202381           0.677966   \n",
              "332  Gentoo     Biscoe        0.647273       0.357143           0.694915   \n",
              "\n",
              "     body_mass_g     sex  \n",
              "0       0.291667    Male  \n",
              "1       0.305556  Female  \n",
              "2       0.152778  Female  \n",
              "3       0.208333  Female  \n",
              "4       0.263889    Male  \n",
              "..           ...     ...  \n",
              "328     0.618056  Female  \n",
              "329     0.597222  Female  \n",
              "330     0.847222    Male  \n",
              "331     0.694444  Female  \n",
              "332     0.750000    Male  \n",
              "\n",
              "[333 rows x 7 columns]"
            ],
            "text/html": [
              "\n",
              "  <div id=\"df-174d1a42-7fc7-43d7-a95f-3b3bb2d5eed0\">\n",
              "    <div class=\"colab-df-container\">\n",
              "      <div>\n",
              "<style scoped>\n",
              "    .dataframe tbody tr th:only-of-type {\n",
              "        vertical-align: middle;\n",
              "    }\n",
              "\n",
              "    .dataframe tbody tr th {\n",
              "        vertical-align: top;\n",
              "    }\n",
              "\n",
              "    .dataframe thead th {\n",
              "        text-align: right;\n",
              "    }\n",
              "</style>\n",
              "<table border=\"1\" class=\"dataframe\">\n",
              "  <thead>\n",
              "    <tr style=\"text-align: right;\">\n",
              "      <th></th>\n",
              "      <th>species</th>\n",
              "      <th>island</th>\n",
              "      <th>bill_length_mm</th>\n",
              "      <th>bill_depth_mm</th>\n",
              "      <th>flipper_length_mm</th>\n",
              "      <th>body_mass_g</th>\n",
              "      <th>sex</th>\n",
              "    </tr>\n",
              "  </thead>\n",
              "  <tbody>\n",
              "    <tr>\n",
              "      <th>0</th>\n",
              "      <td>Adelie</td>\n",
              "      <td>Torgersen</td>\n",
              "      <td>0.254545</td>\n",
              "      <td>0.666667</td>\n",
              "      <td>0.152542</td>\n",
              "      <td>0.291667</td>\n",
              "      <td>Male</td>\n",
              "    </tr>\n",
              "    <tr>\n",
              "      <th>1</th>\n",
              "      <td>Adelie</td>\n",
              "      <td>Torgersen</td>\n",
              "      <td>0.269091</td>\n",
              "      <td>0.511905</td>\n",
              "      <td>0.237288</td>\n",
              "      <td>0.305556</td>\n",
              "      <td>Female</td>\n",
              "    </tr>\n",
              "    <tr>\n",
              "      <th>2</th>\n",
              "      <td>Adelie</td>\n",
              "      <td>Torgersen</td>\n",
              "      <td>0.298182</td>\n",
              "      <td>0.583333</td>\n",
              "      <td>0.389831</td>\n",
              "      <td>0.152778</td>\n",
              "      <td>Female</td>\n",
              "    </tr>\n",
              "    <tr>\n",
              "      <th>3</th>\n",
              "      <td>Adelie</td>\n",
              "      <td>Torgersen</td>\n",
              "      <td>0.167273</td>\n",
              "      <td>0.738095</td>\n",
              "      <td>0.355932</td>\n",
              "      <td>0.208333</td>\n",
              "      <td>Female</td>\n",
              "    </tr>\n",
              "    <tr>\n",
              "      <th>4</th>\n",
              "      <td>Adelie</td>\n",
              "      <td>Torgersen</td>\n",
              "      <td>0.261818</td>\n",
              "      <td>0.892857</td>\n",
              "      <td>0.305085</td>\n",
              "      <td>0.263889</td>\n",
              "      <td>Male</td>\n",
              "    </tr>\n",
              "    <tr>\n",
              "      <th>...</th>\n",
              "      <td>...</td>\n",
              "      <td>...</td>\n",
              "      <td>...</td>\n",
              "      <td>...</td>\n",
              "      <td>...</td>\n",
              "      <td>...</td>\n",
              "      <td>...</td>\n",
              "    </tr>\n",
              "    <tr>\n",
              "      <th>328</th>\n",
              "      <td>Gentoo</td>\n",
              "      <td>Biscoe</td>\n",
              "      <td>0.549091</td>\n",
              "      <td>0.071429</td>\n",
              "      <td>0.711864</td>\n",
              "      <td>0.618056</td>\n",
              "      <td>Female</td>\n",
              "    </tr>\n",
              "    <tr>\n",
              "      <th>329</th>\n",
              "      <td>Gentoo</td>\n",
              "      <td>Biscoe</td>\n",
              "      <td>0.534545</td>\n",
              "      <td>0.142857</td>\n",
              "      <td>0.728814</td>\n",
              "      <td>0.597222</td>\n",
              "      <td>Female</td>\n",
              "    </tr>\n",
              "    <tr>\n",
              "      <th>330</th>\n",
              "      <td>Gentoo</td>\n",
              "      <td>Biscoe</td>\n",
              "      <td>0.665455</td>\n",
              "      <td>0.309524</td>\n",
              "      <td>0.847458</td>\n",
              "      <td>0.847222</td>\n",
              "      <td>Male</td>\n",
              "    </tr>\n",
              "    <tr>\n",
              "      <th>331</th>\n",
              "      <td>Gentoo</td>\n",
              "      <td>Biscoe</td>\n",
              "      <td>0.476364</td>\n",
              "      <td>0.202381</td>\n",
              "      <td>0.677966</td>\n",
              "      <td>0.694444</td>\n",
              "      <td>Female</td>\n",
              "    </tr>\n",
              "    <tr>\n",
              "      <th>332</th>\n",
              "      <td>Gentoo</td>\n",
              "      <td>Biscoe</td>\n",
              "      <td>0.647273</td>\n",
              "      <td>0.357143</td>\n",
              "      <td>0.694915</td>\n",
              "      <td>0.750000</td>\n",
              "      <td>Male</td>\n",
              "    </tr>\n",
              "  </tbody>\n",
              "</table>\n",
              "<p>333 rows × 7 columns</p>\n",
              "</div>\n",
              "      <button class=\"colab-df-convert\" onclick=\"convertToInteractive('df-174d1a42-7fc7-43d7-a95f-3b3bb2d5eed0')\"\n",
              "              title=\"Convert this dataframe to an interactive table.\"\n",
              "              style=\"display:none;\">\n",
              "        \n",
              "  <svg xmlns=\"http://www.w3.org/2000/svg\" height=\"24px\"viewBox=\"0 0 24 24\"\n",
              "       width=\"24px\">\n",
              "    <path d=\"M0 0h24v24H0V0z\" fill=\"none\"/>\n",
              "    <path d=\"M18.56 5.44l.94 2.06.94-2.06 2.06-.94-2.06-.94-.94-2.06-.94 2.06-2.06.94zm-11 1L8.5 8.5l.94-2.06 2.06-.94-2.06-.94L8.5 2.5l-.94 2.06-2.06.94zm10 10l.94 2.06.94-2.06 2.06-.94-2.06-.94-.94-2.06-.94 2.06-2.06.94z\"/><path d=\"M17.41 7.96l-1.37-1.37c-.4-.4-.92-.59-1.43-.59-.52 0-1.04.2-1.43.59L10.3 9.45l-7.72 7.72c-.78.78-.78 2.05 0 2.83L4 21.41c.39.39.9.59 1.41.59.51 0 1.02-.2 1.41-.59l7.78-7.78 2.81-2.81c.8-.78.8-2.07 0-2.86zM5.41 20L4 18.59l7.72-7.72 1.47 1.35L5.41 20z\"/>\n",
              "  </svg>\n",
              "      </button>\n",
              "      \n",
              "  <style>\n",
              "    .colab-df-container {\n",
              "      display:flex;\n",
              "      flex-wrap:wrap;\n",
              "      gap: 12px;\n",
              "    }\n",
              "\n",
              "    .colab-df-convert {\n",
              "      background-color: #E8F0FE;\n",
              "      border: none;\n",
              "      border-radius: 50%;\n",
              "      cursor: pointer;\n",
              "      display: none;\n",
              "      fill: #1967D2;\n",
              "      height: 32px;\n",
              "      padding: 0 0 0 0;\n",
              "      width: 32px;\n",
              "    }\n",
              "\n",
              "    .colab-df-convert:hover {\n",
              "      background-color: #E2EBFA;\n",
              "      box-shadow: 0px 1px 2px rgba(60, 64, 67, 0.3), 0px 1px 3px 1px rgba(60, 64, 67, 0.15);\n",
              "      fill: #174EA6;\n",
              "    }\n",
              "\n",
              "    [theme=dark] .colab-df-convert {\n",
              "      background-color: #3B4455;\n",
              "      fill: #D2E3FC;\n",
              "    }\n",
              "\n",
              "    [theme=dark] .colab-df-convert:hover {\n",
              "      background-color: #434B5C;\n",
              "      box-shadow: 0px 1px 3px 1px rgba(0, 0, 0, 0.15);\n",
              "      filter: drop-shadow(0px 1px 2px rgba(0, 0, 0, 0.3));\n",
              "      fill: #FFFFFF;\n",
              "    }\n",
              "  </style>\n",
              "\n",
              "      <script>\n",
              "        const buttonEl =\n",
              "          document.querySelector('#df-174d1a42-7fc7-43d7-a95f-3b3bb2d5eed0 button.colab-df-convert');\n",
              "        buttonEl.style.display =\n",
              "          google.colab.kernel.accessAllowed ? 'block' : 'none';\n",
              "\n",
              "        async function convertToInteractive(key) {\n",
              "          const element = document.querySelector('#df-174d1a42-7fc7-43d7-a95f-3b3bb2d5eed0');\n",
              "          const dataTable =\n",
              "            await google.colab.kernel.invokeFunction('convertToInteractive',\n",
              "                                                     [key], {});\n",
              "          if (!dataTable) return;\n",
              "\n",
              "          const docLinkHtml = 'Like what you see? Visit the ' +\n",
              "            '<a target=\"_blank\" href=https://colab.research.google.com/notebooks/data_table.ipynb>data table notebook</a>'\n",
              "            + ' to learn more about interactive tables.';\n",
              "          element.innerHTML = '';\n",
              "          dataTable['output_type'] = 'display_data';\n",
              "          await google.colab.output.renderOutput(dataTable, element);\n",
              "          const docLink = document.createElement('div');\n",
              "          docLink.innerHTML = docLinkHtml;\n",
              "          element.appendChild(docLink);\n",
              "        }\n",
              "      </script>\n",
              "    </div>\n",
              "  </div>\n",
              "  "
            ]
          },
          "metadata": {},
          "execution_count": 80
        }
      ]
    },
    {
      "cell_type": "code",
      "source": [
        "# 눈의로 확인 하기\n",
        "plt.figure(figsize=(15, 5))\n",
        "sns.histplot(data=penguins_normed)\n",
        "# 혼자 떨어져 있는 데이터가 없고 모여있는 데이터로 합쳐졌다."
      ],
      "metadata": {
        "colab": {
          "base_uri": "https://localhost:8080/",
          "height": 250
        },
        "id": "ZNXduH1OdbIr",
        "outputId": "1712f815-6bc6-4f3d-902f-7a2cd5cb25a8"
      },
      "execution_count": 81,
      "outputs": [
        {
          "output_type": "execute_result",
          "data": {
            "text/plain": [
              "<matplotlib.axes._subplots.AxesSubplot at 0x7f3c6f8d8d50>"
            ]
          },
          "metadata": {},
          "execution_count": 81
        },
        {
          "output_type": "display_data",
          "data": {
            "text/plain": [
              "<Figure size 1080x360 with 1 Axes>"
            ],
            "image/png": "[encoded data removed]"
          },
          "metadata": {
            "needs_background": "light"
          }
        }
      ]
    },
    {
      "cell_type": "markdown",
      "source": [
        "**표준화(Standardization)**\n",
        "- `StandardScaler`를 활용한 평균 0, 표준편차 1 분표 만들기\n",
        "- 만약 Feature 가 단위 차이가 극심하게 차이가 나는 상황이라면, 정규화 보다는 표준화 방법이 선호된다.      (정규화는 작은 범위로 데이터를 압축하기 때문에 정보 손실이 발생한다.)\n",
        "- 비지도 학습(최대 최소 범위를 알기 힘든 상황)에서도 **표준화 방법**이 선호됩니다."
      ],
      "metadata": {
        "id": "K_RKdhSiepK4"
      }
    },
    {
      "cell_type": "code",
      "source": [
        "from sklearn.preprocessing import StandardScaler\n",
        "scaler = StandardScaler() # 스케일러 정의 \n",
        "\n",
        "penguins_stand = penguins.copy()\n",
        "features = penguins_stand[['bill_length_mm', 'bill_depth_mm', 'flipper_length_mm', 'body_mass_g']] # 표준화 대상 지정\n",
        "features_stand = scaler.fit_transform(features) # 표준화 "
      ],
      "metadata": {
        "id": "hG1-3j_Eehlz"
      },
      "execution_count": 82,
      "outputs": []
    },
    {
      "cell_type": "code",
      "source": [
        "# .assign (데이터 삽입하기)\n",
        "penguins_stand = penguins_stand.assign(bill_length_mm = features_stand[:,0],\n",
        "                                         bill_depth_mm = features_stand[:,1],\n",
        "                                         flipper_length_mm = features_stand[:,2],\n",
        "                                         body_mass_g = features_stand[:,3])\n",
        "\n",
        "penguins_stand"
      ],
      "metadata": {
        "colab": {
          "base_uri": "https://localhost:8080/",
          "height": 483
        },
        "id": "8s_PfMq5f4dT",
        "outputId": "b35ae7cd-626b-4f5e-ab70-416d3d3f64e1"
      },
      "execution_count": 83,
      "outputs": [
        {
          "output_type": "execute_result",
          "data": {
            "text/plain": [
              "    species     island  bill_length_mm  bill_depth_mm  flipper_length_mm  \\\n",
              "0    Adelie  Torgersen       -0.896042       0.780732          -1.426752   \n",
              "1    Adelie  Torgersen       -0.822788       0.119584          -1.069474   \n",
              "2    Adelie  Torgersen       -0.676280       0.424729          -0.426373   \n",
              "3    Adelie  Torgersen       -1.335566       1.085877          -0.569284   \n",
              "4    Adelie  Torgersen       -0.859415       1.747026          -0.783651   \n",
              "..      ...        ...             ...            ...                ...   \n",
              "328  Gentoo     Biscoe        0.587352      -1.762145           0.931283   \n",
              "329  Gentoo     Biscoe        0.514098      -1.457000           1.002739   \n",
              "330  Gentoo     Biscoe        1.173384      -0.744994           1.502928   \n",
              "331  Gentoo     Biscoe        0.221082      -1.202712           0.788372   \n",
              "332  Gentoo     Biscoe        1.081817      -0.541564           0.859828   \n",
              "\n",
              "     body_mass_g     sex  \n",
              "0      -0.568475    Male  \n",
              "1      -0.506286  Female  \n",
              "2      -1.190361  Female  \n",
              "3      -0.941606  Female  \n",
              "4      -0.692852    Male  \n",
              "..           ...     ...  \n",
              "328     0.892957  Female  \n",
              "329     0.799674  Female  \n",
              "330     1.919069    Male  \n",
              "331     1.234995  Female  \n",
              "332     1.483749    Male  \n",
              "\n",
              "[333 rows x 7 columns]"
            ],
            "text/html": [
              "\n",
              "  <div id=\"df-2a40c4bf-c349-4e4e-a20a-7d00bc57020f\">\n",
              "    <div class=\"colab-df-container\">\n",
              "      <div>\n",
              "<style scoped>\n",
              "    .dataframe tbody tr th:only-of-type {\n",
              "        vertical-align: middle;\n",
              "    }\n",
              "\n",
              "    .dataframe tbody tr th {\n",
              "        vertical-align: top;\n",
              "    }\n",
              "\n",
              "    .dataframe thead th {\n",
              "        text-align: right;\n",
              "    }\n",
              "</style>\n",
              "<table border=\"1\" class=\"dataframe\">\n",
              "  <thead>\n",
              "    <tr style=\"text-align: right;\">\n",
              "      <th></th>\n",
              "      <th>species</th>\n",
              "      <th>island</th>\n",
              "      <th>bill_length_mm</th>\n",
              "      <th>bill_depth_mm</th>\n",
              "      <th>flipper_length_mm</th>\n",
              "      <th>body_mass_g</th>\n",
              "      <th>sex</th>\n",
              "    </tr>\n",
              "  </thead>\n",
              "  <tbody>\n",
              "    <tr>\n",
              "      <th>0</th>\n",
              "      <td>Adelie</td>\n",
              "      <td>Torgersen</td>\n",
              "      <td>-0.896042</td>\n",
              "      <td>0.780732</td>\n",
              "      <td>-1.426752</td>\n",
              "      <td>-0.568475</td>\n",
              "      <td>Male</td>\n",
              "    </tr>\n",
              "    <tr>\n",
              "      <th>1</th>\n",
              "      <td>Adelie</td>\n",
              "      <td>Torgersen</td>\n",
              "      <td>-0.822788</td>\n",
              "      <td>0.119584</td>\n",
              "      <td>-1.069474</td>\n",
              "      <td>-0.506286</td>\n",
              "      <td>Female</td>\n",
              "    </tr>\n",
              "    <tr>\n",
              "      <th>2</th>\n",
              "      <td>Adelie</td>\n",
              "      <td>Torgersen</td>\n",
              "      <td>-0.676280</td>\n",
              "      <td>0.424729</td>\n",
              "      <td>-0.426373</td>\n",
              "      <td>-1.190361</td>\n",
              "      <td>Female</td>\n",
              "    </tr>\n",
              "    <tr>\n",
              "      <th>3</th>\n",
              "      <td>Adelie</td>\n",
              "      <td>Torgersen</td>\n",
              "      <td>-1.335566</td>\n",
              "      <td>1.085877</td>\n",
              "      <td>-0.569284</td>\n",
              "      <td>-0.941606</td>\n",
              "      <td>Female</td>\n",
              "    </tr>\n",
              "    <tr>\n",
              "      <th>4</th>\n",
              "      <td>Adelie</td>\n",
              "      <td>Torgersen</td>\n",
              "      <td>-0.859415</td>\n",
              "      <td>1.747026</td>\n",
              "      <td>-0.783651</td>\n",
              "      <td>-0.692852</td>\n",
              "      <td>Male</td>\n",
              "    </tr>\n",
              "    <tr>\n",
              "      <th>...</th>\n",
              "      <td>...</td>\n",
              "      <td>...</td>\n",
              "      <td>...</td>\n",
              "      <td>...</td>\n",
              "      <td>...</td>\n",
              "      <td>...</td>\n",
              "      <td>...</td>\n",
              "    </tr>\n",
              "    <tr>\n",
              "      <th>328</th>\n",
              "      <td>Gentoo</td>\n",
              "      <td>Biscoe</td>\n",
              "      <td>0.587352</td>\n",
              "      <td>-1.762145</td>\n",
              "      <td>0.931283</td>\n",
              "      <td>0.892957</td>\n",
              "      <td>Female</td>\n",
              "    </tr>\n",
              "    <tr>\n",
              "      <th>329</th>\n",
              "      <td>Gentoo</td>\n",
              "      <td>Biscoe</td>\n",
              "      <td>0.514098</td>\n",
              "      <td>-1.457000</td>\n",
              "      <td>1.002739</td>\n",
              "      <td>0.799674</td>\n",
              "      <td>Female</td>\n",
              "    </tr>\n",
              "    <tr>\n",
              "      <th>330</th>\n",
              "      <td>Gentoo</td>\n",
              "      <td>Biscoe</td>\n",
              "      <td>1.173384</td>\n",
              "      <td>-0.744994</td>\n",
              "      <td>1.502928</td>\n",
              "      <td>1.919069</td>\n",
              "      <td>Male</td>\n",
              "    </tr>\n",
              "    <tr>\n",
              "      <th>331</th>\n",
              "      <td>Gentoo</td>\n",
              "      <td>Biscoe</td>\n",
              "      <td>0.221082</td>\n",
              "      <td>-1.202712</td>\n",
              "      <td>0.788372</td>\n",
              "      <td>1.234995</td>\n",
              "      <td>Female</td>\n",
              "    </tr>\n",
              "    <tr>\n",
              "      <th>332</th>\n",
              "      <td>Gentoo</td>\n",
              "      <td>Biscoe</td>\n",
              "      <td>1.081817</td>\n",
              "      <td>-0.541564</td>\n",
              "      <td>0.859828</td>\n",
              "      <td>1.483749</td>\n",
              "      <td>Male</td>\n",
              "    </tr>\n",
              "  </tbody>\n",
              "</table>\n",
              "<p>333 rows × 7 columns</p>\n",
              "</div>\n",
              "      <button class=\"colab-df-convert\" onclick=\"convertToInteractive('df-2a40c4bf-c349-4e4e-a20a-7d00bc57020f')\"\n",
              "              title=\"Convert this dataframe to an interactive table.\"\n",
              "              style=\"display:none;\">\n",
              "        \n",
              "  <svg xmlns=\"http://www.w3.org/2000/svg\" height=\"24px\"viewBox=\"0 0 24 24\"\n",
              "       width=\"24px\">\n",
              "    <path d=\"M0 0h24v24H0V0z\" fill=\"none\"/>\n",
              "    <path d=\"M18.56 5.44l.94 2.06.94-2.06 2.06-.94-2.06-.94-.94-2.06-.94 2.06-2.06.94zm-11 1L8.5 8.5l.94-2.06 2.06-.94-2.06-.94L8.5 2.5l-.94 2.06-2.06.94zm10 10l.94 2.06.94-2.06 2.06-.94-2.06-.94-.94-2.06-.94 2.06-2.06.94z\"/><path d=\"M17.41 7.96l-1.37-1.37c-.4-.4-.92-.59-1.43-.59-.52 0-1.04.2-1.43.59L10.3 9.45l-7.72 7.72c-.78.78-.78 2.05 0 2.83L4 21.41c.39.39.9.59 1.41.59.51 0 1.02-.2 1.41-.59l7.78-7.78 2.81-2.81c.8-.78.8-2.07 0-2.86zM5.41 20L4 18.59l7.72-7.72 1.47 1.35L5.41 20z\"/>\n",
              "  </svg>\n",
              "      </button>\n",
              "      \n",
              "  <style>\n",
              "    .colab-df-container {\n",
              "      display:flex;\n",
              "      flex-wrap:wrap;\n",
              "      gap: 12px;\n",
              "    }\n",
              "\n",
              "    .colab-df-convert {\n",
              "      background-color: #E8F0FE;\n",
              "      border: none;\n",
              "      border-radius: 50%;\n",
              "      cursor: pointer;\n",
              "      display: none;\n",
              "      fill: #1967D2;\n",
              "      height: 32px;\n",
              "      padding: 0 0 0 0;\n",
              "      width: 32px;\n",
              "    }\n",
              "\n",
              "    .colab-df-convert:hover {\n",
              "      background-color: #E2EBFA;\n",
              "      box-shadow: 0px 1px 2px rgba(60, 64, 67, 0.3), 0px 1px 3px 1px rgba(60, 64, 67, 0.15);\n",
              "      fill: #174EA6;\n",
              "    }\n",
              "\n",
              "    [theme=dark] .colab-df-convert {\n",
              "      background-color: #3B4455;\n",
              "      fill: #D2E3FC;\n",
              "    }\n",
              "\n",
              "    [theme=dark] .colab-df-convert:hover {\n",
              "      background-color: #434B5C;\n",
              "      box-shadow: 0px 1px 3px 1px rgba(0, 0, 0, 0.15);\n",
              "      filter: drop-shadow(0px 1px 2px rgba(0, 0, 0, 0.3));\n",
              "      fill: #FFFFFF;\n",
              "    }\n",
              "  </style>\n",
              "\n",
              "      <script>\n",
              "        const buttonEl =\n",
              "          document.querySelector('#df-2a40c4bf-c349-4e4e-a20a-7d00bc57020f button.colab-df-convert');\n",
              "        buttonEl.style.display =\n",
              "          google.colab.kernel.accessAllowed ? 'block' : 'none';\n",
              "\n",
              "        async function convertToInteractive(key) {\n",
              "          const element = document.querySelector('#df-2a40c4bf-c349-4e4e-a20a-7d00bc57020f');\n",
              "          const dataTable =\n",
              "            await google.colab.kernel.invokeFunction('convertToInteractive',\n",
              "                                                     [key], {});\n",
              "          if (!dataTable) return;\n",
              "\n",
              "          const docLinkHtml = 'Like what you see? Visit the ' +\n",
              "            '<a target=\"_blank\" href=https://colab.research.google.com/notebooks/data_table.ipynb>data table notebook</a>'\n",
              "            + ' to learn more about interactive tables.';\n",
              "          element.innerHTML = '';\n",
              "          dataTable['output_type'] = 'display_data';\n",
              "          await google.colab.output.renderOutput(dataTable, element);\n",
              "          const docLink = document.createElement('div');\n",
              "          docLink.innerHTML = docLinkHtml;\n",
              "          element.appendChild(docLink);\n",
              "        }\n",
              "      </script>\n",
              "    </div>\n",
              "  </div>\n",
              "  "
            ]
          },
          "metadata": {},
          "execution_count": 83
        }
      ]
    },
    {
      "cell_type": "code",
      "source": [
        "# 눈으로 확인\n",
        "plt.figure(figsize=(15,5))\n",
        "sns.histplot(data=penguins_stand)"
      ],
      "metadata": {
        "colab": {
          "base_uri": "https://localhost:8080/",
          "height": 250
        },
        "id": "Ox3R96dZhDl5",
        "outputId": "ea15640c-ea0f-43b0-8ecd-5d9886672a38"
      },
      "execution_count": 84,
      "outputs": [
        {
          "output_type": "execute_result",
          "data": {
            "text/plain": [
              "<matplotlib.axes._subplots.AxesSubplot at 0x7f3c6f660210>"
            ]
          },
          "metadata": {},
          "execution_count": 84
        },
        {
          "output_type": "display_data",
          "data": {
            "text/plain": [
              "<Figure size 1080x360 with 1 Axes>"
            ],
            "image/png": "[encoded data removed]"
          },
          "metadata": {
            "needs_background": "light"
          }
        }
      ]
    },
    {
      "cell_type": "markdown",
      "source": [
        "### **범주형 데이터의 수치화 (인코딩,Encoding)**\n",
        "> - scikt-learn의 머신 러닝 알고리즘은 범주형 데이터를 계산할 수 없습니다.\n",
        "> - 따라서 일반적으로 범주형 데이터를 수치화(인코딩)해서 사용합니다.\n",
        "> - 범주형 데이터 수치화 방법 : 대표적으로 `라벨 인코딩(Label Encoding), 원핫 인코딩(One-hot Encoding)` 방법이 있습니다."
      ],
      "metadata": {
        "id": "9xhg8Dqwh-MR"
      }
    },
    {
      "cell_type": "code",
      "source": [
        "penguins_stand"
      ],
      "metadata": {
        "colab": {
          "base_uri": "https://localhost:8080/",
          "height": 483
        },
        "id": "_r3VKMwyh52q",
        "outputId": "4ea6f339-adde-478e-d5df-2ac01b45ca4b"
      },
      "execution_count": 85,
      "outputs": [
        {
          "output_type": "execute_result",
          "data": {
            "text/plain": [
              "    species     island  bill_length_mm  bill_depth_mm  flipper_length_mm  \\\n",
              "0    Adelie  Torgersen       -0.896042       0.780732          -1.426752   \n",
              "1    Adelie  Torgersen       -0.822788       0.119584          -1.069474   \n",
              "2    Adelie  Torgersen       -0.676280       0.424729          -0.426373   \n",
              "3    Adelie  Torgersen       -1.335566       1.085877          -0.569284   \n",
              "4    Adelie  Torgersen       -0.859415       1.747026          -0.783651   \n",
              "..      ...        ...             ...            ...                ...   \n",
              "328  Gentoo     Biscoe        0.587352      -1.762145           0.931283   \n",
              "329  Gentoo     Biscoe        0.514098      -1.457000           1.002739   \n",
              "330  Gentoo     Biscoe        1.173384      -0.744994           1.502928   \n",
              "331  Gentoo     Biscoe        0.221082      -1.202712           0.788372   \n",
              "332  Gentoo     Biscoe        1.081817      -0.541564           0.859828   \n",
              "\n",
              "     body_mass_g     sex  \n",
              "0      -0.568475    Male  \n",
              "1      -0.506286  Female  \n",
              "2      -1.190361  Female  \n",
              "3      -0.941606  Female  \n",
              "4      -0.692852    Male  \n",
              "..           ...     ...  \n",
              "328     0.892957  Female  \n",
              "329     0.799674  Female  \n",
              "330     1.919069    Male  \n",
              "331     1.234995  Female  \n",
              "332     1.483749    Male  \n",
              "\n",
              "[333 rows x 7 columns]"
            ],
            "text/html": [
              "\n",
              "  <div id=\"df-33301fad-3506-4284-92d2-519cc87fc992\">\n",
              "    <div class=\"colab-df-container\">\n",
              "      <div>\n",
              "<style scoped>\n",
              "    .dataframe tbody tr th:only-of-type {\n",
              "        vertical-align: middle;\n",
              "    }\n",
              "\n",
              "    .dataframe tbody tr th {\n",
              "        vertical-align: top;\n",
              "    }\n",
              "\n",
              "    .dataframe thead th {\n",
              "        text-align: right;\n",
              "    }\n",
              "</style>\n",
              "<table border=\"1\" class=\"dataframe\">\n",
              "  <thead>\n",
              "    <tr style=\"text-align: right;\">\n",
              "      <th></th>\n",
              "      <th>species</th>\n",
              "      <th>island</th>\n",
              "      <th>bill_length_mm</th>\n",
              "      <th>bill_depth_mm</th>\n",
              "      <th>flipper_length_mm</th>\n",
              "      <th>body_mass_g</th>\n",
              "      <th>sex</th>\n",
              "    </tr>\n",
              "  </thead>\n",
              "  <tbody>\n",
              "    <tr>\n",
              "      <th>0</th>\n",
              "      <td>Adelie</td>\n",
              "      <td>Torgersen</td>\n",
              "      <td>-0.896042</td>\n",
              "      <td>0.780732</td>\n",
              "      <td>-1.426752</td>\n",
              "      <td>-0.568475</td>\n",
              "      <td>Male</td>\n",
              "    </tr>\n",
              "    <tr>\n",
              "      <th>1</th>\n",
              "      <td>Adelie</td>\n",
              "      <td>Torgersen</td>\n",
              "      <td>-0.822788</td>\n",
              "      <td>0.119584</td>\n",
              "      <td>-1.069474</td>\n",
              "      <td>-0.506286</td>\n",
              "      <td>Female</td>\n",
              "    </tr>\n",
              "    <tr>\n",
              "      <th>2</th>\n",
              "      <td>Adelie</td>\n",
              "      <td>Torgersen</td>\n",
              "      <td>-0.676280</td>\n",
              "      <td>0.424729</td>\n",
              "      <td>-0.426373</td>\n",
              "      <td>-1.190361</td>\n",
              "      <td>Female</td>\n",
              "    </tr>\n",
              "    <tr>\n",
              "      <th>3</th>\n",
              "      <td>Adelie</td>\n",
              "      <td>Torgersen</td>\n",
              "      <td>-1.335566</td>\n",
              "      <td>1.085877</td>\n",
              "      <td>-0.569284</td>\n",
              "      <td>-0.941606</td>\n",
              "      <td>Female</td>\n",
              "    </tr>\n",
              "    <tr>\n",
              "      <th>4</th>\n",
              "      <td>Adelie</td>\n",
              "      <td>Torgersen</td>\n",
              "      <td>-0.859415</td>\n",
              "      <td>1.747026</td>\n",
              "      <td>-0.783651</td>\n",
              "      <td>-0.692852</td>\n",
              "      <td>Male</td>\n",
              "    </tr>\n",
              "    <tr>\n",
              "      <th>...</th>\n",
              "      <td>...</td>\n",
              "      <td>...</td>\n",
              "      <td>...</td>\n",
              "      <td>...</td>\n",
              "      <td>...</td>\n",
              "      <td>...</td>\n",
              "      <td>...</td>\n",
              "    </tr>\n",
              "    <tr>\n",
              "      <th>328</th>\n",
              "      <td>Gentoo</td>\n",
              "      <td>Biscoe</td>\n",
              "      <td>0.587352</td>\n",
              "      <td>-1.762145</td>\n",
              "      <td>0.931283</td>\n",
              "      <td>0.892957</td>\n",
              "      <td>Female</td>\n",
              "    </tr>\n",
              "    <tr>\n",
              "      <th>329</th>\n",
              "      <td>Gentoo</td>\n",
              "      <td>Biscoe</td>\n",
              "      <td>0.514098</td>\n",
              "      <td>-1.457000</td>\n",
              "      <td>1.002739</td>\n",
              "      <td>0.799674</td>\n",
              "      <td>Female</td>\n",
              "    </tr>\n",
              "    <tr>\n",
              "      <th>330</th>\n",
              "      <td>Gentoo</td>\n",
              "      <td>Biscoe</td>\n",
              "      <td>1.173384</td>\n",
              "      <td>-0.744994</td>\n",
              "      <td>1.502928</td>\n",
              "      <td>1.919069</td>\n",
              "      <td>Male</td>\n",
              "    </tr>\n",
              "    <tr>\n",
              "      <th>331</th>\n",
              "      <td>Gentoo</td>\n",
              "      <td>Biscoe</td>\n",
              "      <td>0.221082</td>\n",
              "      <td>-1.202712</td>\n",
              "      <td>0.788372</td>\n",
              "      <td>1.234995</td>\n",
              "      <td>Female</td>\n",
              "    </tr>\n",
              "    <tr>\n",
              "      <th>332</th>\n",
              "      <td>Gentoo</td>\n",
              "      <td>Biscoe</td>\n",
              "      <td>1.081817</td>\n",
              "      <td>-0.541564</td>\n",
              "      <td>0.859828</td>\n",
              "      <td>1.483749</td>\n",
              "      <td>Male</td>\n",
              "    </tr>\n",
              "  </tbody>\n",
              "</table>\n",
              "<p>333 rows × 7 columns</p>\n",
              "</div>\n",
              "      <button class=\"colab-df-convert\" onclick=\"convertToInteractive('df-33301fad-3506-4284-92d2-519cc87fc992')\"\n",
              "              title=\"Convert this dataframe to an interactive table.\"\n",
              "              style=\"display:none;\">\n",
              "        \n",
              "  <svg xmlns=\"http://www.w3.org/2000/svg\" height=\"24px\"viewBox=\"0 0 24 24\"\n",
              "       width=\"24px\">\n",
              "    <path d=\"M0 0h24v24H0V0z\" fill=\"none\"/>\n",
              "    <path d=\"M18.56 5.44l.94 2.06.94-2.06 2.06-.94-2.06-.94-.94-2.06-.94 2.06-2.06.94zm-11 1L8.5 8.5l.94-2.06 2.06-.94-2.06-.94L8.5 2.5l-.94 2.06-2.06.94zm10 10l.94 2.06.94-2.06 2.06-.94-2.06-.94-.94-2.06-.94 2.06-2.06.94z\"/><path d=\"M17.41 7.96l-1.37-1.37c-.4-.4-.92-.59-1.43-.59-.52 0-1.04.2-1.43.59L10.3 9.45l-7.72 7.72c-.78.78-.78 2.05 0 2.83L4 21.41c.39.39.9.59 1.41.59.51 0 1.02-.2 1.41-.59l7.78-7.78 2.81-2.81c.8-.78.8-2.07 0-2.86zM5.41 20L4 18.59l7.72-7.72 1.47 1.35L5.41 20z\"/>\n",
              "  </svg>\n",
              "      </button>\n",
              "      \n",
              "  <style>\n",
              "    .colab-df-container {\n",
              "      display:flex;\n",
              "      flex-wrap:wrap;\n",
              "      gap: 12px;\n",
              "    }\n",
              "\n",
              "    .colab-df-convert {\n",
              "      background-color: #E8F0FE;\n",
              "      border: none;\n",
              "      border-radius: 50%;\n",
              "      cursor: pointer;\n",
              "      display: none;\n",
              "      fill: #1967D2;\n",
              "      height: 32px;\n",
              "      padding: 0 0 0 0;\n",
              "      width: 32px;\n",
              "    }\n",
              "\n",
              "    .colab-df-convert:hover {\n",
              "      background-color: #E2EBFA;\n",
              "      box-shadow: 0px 1px 2px rgba(60, 64, 67, 0.3), 0px 1px 3px 1px rgba(60, 64, 67, 0.15);\n",
              "      fill: #174EA6;\n",
              "    }\n",
              "\n",
              "    [theme=dark] .colab-df-convert {\n",
              "      background-color: #3B4455;\n",
              "      fill: #D2E3FC;\n",
              "    }\n",
              "\n",
              "    [theme=dark] .colab-df-convert:hover {\n",
              "      background-color: #434B5C;\n",
              "      box-shadow: 0px 1px 3px 1px rgba(0, 0, 0, 0.15);\n",
              "      filter: drop-shadow(0px 1px 2px rgba(0, 0, 0, 0.3));\n",
              "      fill: #FFFFFF;\n",
              "    }\n",
              "  </style>\n",
              "\n",
              "      <script>\n",
              "        const buttonEl =\n",
              "          document.querySelector('#df-33301fad-3506-4284-92d2-519cc87fc992 button.colab-df-convert');\n",
              "        buttonEl.style.display =\n",
              "          google.colab.kernel.accessAllowed ? 'block' : 'none';\n",
              "\n",
              "        async function convertToInteractive(key) {\n",
              "          const element = document.querySelector('#df-33301fad-3506-4284-92d2-519cc87fc992');\n",
              "          const dataTable =\n",
              "            await google.colab.kernel.invokeFunction('convertToInteractive',\n",
              "                                                     [key], {});\n",
              "          if (!dataTable) return;\n",
              "\n",
              "          const docLinkHtml = 'Like what you see? Visit the ' +\n",
              "            '<a target=\"_blank\" href=https://colab.research.google.com/notebooks/data_table.ipynb>data table notebook</a>'\n",
              "            + ' to learn more about interactive tables.';\n",
              "          element.innerHTML = '';\n",
              "          dataTable['output_type'] = 'display_data';\n",
              "          await google.colab.output.renderOutput(dataTable, element);\n",
              "          const docLink = document.createElement('div');\n",
              "          docLink.innerHTML = docLinkHtml;\n",
              "          element.appendChild(docLink);\n",
              "        }\n",
              "      </script>\n",
              "    </div>\n",
              "  </div>\n",
              "  "
            ]
          },
          "metadata": {},
          "execution_count": 85
        }
      ]
    },
    {
      "cell_type": "code",
      "source": [
        "penguins_stand['island'].unique()\n",
        "# 3가지의 value 존재    "
      ],
      "metadata": {
        "colab": {
          "base_uri": "https://localhost:8080/"
        },
        "id": "4SUxQQfHie54",
        "outputId": "401c785a-86d7-4dfd-bc97-9b7ce76392af"
      },
      "execution_count": 86,
      "outputs": [
        {
          "output_type": "execute_result",
          "data": {
            "text/plain": [
              "array(['Torgersen', 'Biscoe', 'Dream'], dtype=object)"
            ]
          },
          "metadata": {},
          "execution_count": 86
        }
      ]
    },
    {
      "cell_type": "code",
      "source": [
        "penguins_stand['sex'].unique()\n",
        "# 남/녀 2개 존재"
      ],
      "metadata": {
        "colab": {
          "base_uri": "https://localhost:8080/"
        },
        "id": "RpGvsl33i5VQ",
        "outputId": "e32073c6-db15-4b66-dcd8-3f9e32c558cf"
      },
      "execution_count": 87,
      "outputs": [
        {
          "output_type": "execute_result",
          "data": {
            "text/plain": [
              "array(['Male', 'Female'], dtype=object)"
            ]
          },
          "metadata": {},
          "execution_count": 87
        }
      ]
    },
    {
      "cell_type": "markdown",
      "source": [
        "> 라벨 인코딩 (`Label Encoding`)\n",
        "> - 범주형 데이터의 범주 가짓수에 따라 숫자를 할당해주는 방법입니다."
      ],
      "metadata": {
        "id": "MDmibRZVjDPc"
      }
    },
    {
      "cell_type": "code",
      "source": [
        "from sklearn.preprocessing import LabelEncoder # 라이브러리 로딩\n",
        "encoder = LabelEncoder() \n",
        "\n",
        "penguins_label = penguins_stand.copy()\n",
        "features = penguins_label[['species', 'island', 'sex']] # 인코딩 할 대상\n",
        "encoded = features.apply(encoder.fit_transform)\n",
        "encoded"
      ],
      "metadata": {
        "colab": {
          "base_uri": "https://localhost:8080/",
          "height": 419
        },
        "id": "AY2Gq2lPi_gB",
        "outputId": "d372327c-1406-4946-de80-5720dfe57753"
      },
      "execution_count": 88,
      "outputs": [
        {
          "output_type": "execute_result",
          "data": {
            "text/plain": [
              "     species  island  sex\n",
              "0          0       2    1\n",
              "1          0       2    0\n",
              "2          0       2    0\n",
              "3          0       2    0\n",
              "4          0       2    1\n",
              "..       ...     ...  ...\n",
              "328        2       0    0\n",
              "329        2       0    0\n",
              "330        2       0    1\n",
              "331        2       0    0\n",
              "332        2       0    1\n",
              "\n",
              "[333 rows x 3 columns]"
            ],
            "text/html": [
              "\n",
              "  <div id=\"df-8cdb6fab-28f3-4f6b-a309-694a36e7e25d\">\n",
              "    <div class=\"colab-df-container\">\n",
              "      <div>\n",
              "<style scoped>\n",
              "    .dataframe tbody tr th:only-of-type {\n",
              "        vertical-align: middle;\n",
              "    }\n",
              "\n",
              "    .dataframe tbody tr th {\n",
              "        vertical-align: top;\n",
              "    }\n",
              "\n",
              "    .dataframe thead th {\n",
              "        text-align: right;\n",
              "    }\n",
              "</style>\n",
              "<table border=\"1\" class=\"dataframe\">\n",
              "  <thead>\n",
              "    <tr style=\"text-align: right;\">\n",
              "      <th></th>\n",
              "      <th>species</th>\n",
              "      <th>island</th>\n",
              "      <th>sex</th>\n",
              "    </tr>\n",
              "  </thead>\n",
              "  <tbody>\n",
              "    <tr>\n",
              "      <th>0</th>\n",
              "      <td>0</td>\n",
              "      <td>2</td>\n",
              "      <td>1</td>\n",
              "    </tr>\n",
              "    <tr>\n",
              "      <th>1</th>\n",
              "      <td>0</td>\n",
              "      <td>2</td>\n",
              "      <td>0</td>\n",
              "    </tr>\n",
              "    <tr>\n",
              "      <th>2</th>\n",
              "      <td>0</td>\n",
              "      <td>2</td>\n",
              "      <td>0</td>\n",
              "    </tr>\n",
              "    <tr>\n",
              "      <th>3</th>\n",
              "      <td>0</td>\n",
              "      <td>2</td>\n",
              "      <td>0</td>\n",
              "    </tr>\n",
              "    <tr>\n",
              "      <th>4</th>\n",
              "      <td>0</td>\n",
              "      <td>2</td>\n",
              "      <td>1</td>\n",
              "    </tr>\n",
              "    <tr>\n",
              "      <th>...</th>\n",
              "      <td>...</td>\n",
              "      <td>...</td>\n",
              "      <td>...</td>\n",
              "    </tr>\n",
              "    <tr>\n",
              "      <th>328</th>\n",
              "      <td>2</td>\n",
              "      <td>0</td>\n",
              "      <td>0</td>\n",
              "    </tr>\n",
              "    <tr>\n",
              "      <th>329</th>\n",
              "      <td>2</td>\n",
              "      <td>0</td>\n",
              "      <td>0</td>\n",
              "    </tr>\n",
              "    <tr>\n",
              "      <th>330</th>\n",
              "      <td>2</td>\n",
              "      <td>0</td>\n",
              "      <td>1</td>\n",
              "    </tr>\n",
              "    <tr>\n",
              "      <th>331</th>\n",
              "      <td>2</td>\n",
              "      <td>0</td>\n",
              "      <td>0</td>\n",
              "    </tr>\n",
              "    <tr>\n",
              "      <th>332</th>\n",
              "      <td>2</td>\n",
              "      <td>0</td>\n",
              "      <td>1</td>\n",
              "    </tr>\n",
              "  </tbody>\n",
              "</table>\n",
              "<p>333 rows × 3 columns</p>\n",
              "</div>\n",
              "      <button class=\"colab-df-convert\" onclick=\"convertToInteractive('df-8cdb6fab-28f3-4f6b-a309-694a36e7e25d')\"\n",
              "              title=\"Convert this dataframe to an interactive table.\"\n",
              "              style=\"display:none;\">\n",
              "        \n",
              "  <svg xmlns=\"http://www.w3.org/2000/svg\" height=\"24px\"viewBox=\"0 0 24 24\"\n",
              "       width=\"24px\">\n",
              "    <path d=\"M0 0h24v24H0V0z\" fill=\"none\"/>\n",
              "    <path d=\"M18.56 5.44l.94 2.06.94-2.06 2.06-.94-2.06-.94-.94-2.06-.94 2.06-2.06.94zm-11 1L8.5 8.5l.94-2.06 2.06-.94-2.06-.94L8.5 2.5l-.94 2.06-2.06.94zm10 10l.94 2.06.94-2.06 2.06-.94-2.06-.94-.94-2.06-.94 2.06-2.06.94z\"/><path d=\"M17.41 7.96l-1.37-1.37c-.4-.4-.92-.59-1.43-.59-.52 0-1.04.2-1.43.59L10.3 9.45l-7.72 7.72c-.78.78-.78 2.05 0 2.83L4 21.41c.39.39.9.59 1.41.59.51 0 1.02-.2 1.41-.59l7.78-7.78 2.81-2.81c.8-.78.8-2.07 0-2.86zM5.41 20L4 18.59l7.72-7.72 1.47 1.35L5.41 20z\"/>\n",
              "  </svg>\n",
              "      </button>\n",
              "      \n",
              "  <style>\n",
              "    .colab-df-container {\n",
              "      display:flex;\n",
              "      flex-wrap:wrap;\n",
              "      gap: 12px;\n",
              "    }\n",
              "\n",
              "    .colab-df-convert {\n",
              "      background-color: #E8F0FE;\n",
              "      border: none;\n",
              "      border-radius: 50%;\n",
              "      cursor: pointer;\n",
              "      display: none;\n",
              "      fill: #1967D2;\n",
              "      height: 32px;\n",
              "      padding: 0 0 0 0;\n",
              "      width: 32px;\n",
              "    }\n",
              "\n",
              "    .colab-df-convert:hover {\n",
              "      background-color: #E2EBFA;\n",
              "      box-shadow: 0px 1px 2px rgba(60, 64, 67, 0.3), 0px 1px 3px 1px rgba(60, 64, 67, 0.15);\n",
              "      fill: #174EA6;\n",
              "    }\n",
              "\n",
              "    [theme=dark] .colab-df-convert {\n",
              "      background-color: #3B4455;\n",
              "      fill: #D2E3FC;\n",
              "    }\n",
              "\n",
              "    [theme=dark] .colab-df-convert:hover {\n",
              "      background-color: #434B5C;\n",
              "      box-shadow: 0px 1px 3px 1px rgba(0, 0, 0, 0.15);\n",
              "      filter: drop-shadow(0px 1px 2px rgba(0, 0, 0, 0.3));\n",
              "      fill: #FFFFFF;\n",
              "    }\n",
              "  </style>\n",
              "\n",
              "      <script>\n",
              "        const buttonEl =\n",
              "          document.querySelector('#df-8cdb6fab-28f3-4f6b-a309-694a36e7e25d button.colab-df-convert');\n",
              "        buttonEl.style.display =\n",
              "          google.colab.kernel.accessAllowed ? 'block' : 'none';\n",
              "\n",
              "        async function convertToInteractive(key) {\n",
              "          const element = document.querySelector('#df-8cdb6fab-28f3-4f6b-a309-694a36e7e25d');\n",
              "          const dataTable =\n",
              "            await google.colab.kernel.invokeFunction('convertToInteractive',\n",
              "                                                     [key], {});\n",
              "          if (!dataTable) return;\n",
              "\n",
              "          const docLinkHtml = 'Like what you see? Visit the ' +\n",
              "            '<a target=\"_blank\" href=https://colab.research.google.com/notebooks/data_table.ipynb>data table notebook</a>'\n",
              "            + ' to learn more about interactive tables.';\n",
              "          element.innerHTML = '';\n",
              "          dataTable['output_type'] = 'display_data';\n",
              "          await google.colab.output.renderOutput(dataTable, element);\n",
              "          const docLink = document.createElement('div');\n",
              "          docLink.innerHTML = docLinkHtml;\n",
              "          element.appendChild(docLink);\n",
              "        }\n",
              "      </script>\n",
              "    </div>\n",
              "  </div>\n",
              "  "
            ]
          },
          "metadata": {},
          "execution_count": 88
        }
      ]
    },
    {
      "cell_type": "code",
      "source": [
        "# 수치형 데이터로 바꾸지\n",
        "penguins_label = penguins_label.assign(species = encoded['species'],\n",
        "                                       island = encoded['island'],\n",
        "                                       sex = encoded['sex'])\n",
        "\n",
        "penguins_label"
      ],
      "metadata": {
        "colab": {
          "base_uri": "https://localhost:8080/",
          "height": 483
        },
        "id": "ZcwwszPXmBXo",
        "outputId": "b8ecd037-db29-4a30-8a19-38e607af8346"
      },
      "execution_count": 89,
      "outputs": [
        {
          "output_type": "execute_result",
          "data": {
            "text/plain": [
              "     species  island  bill_length_mm  bill_depth_mm  flipper_length_mm  \\\n",
              "0          0       2       -0.896042       0.780732          -1.426752   \n",
              "1          0       2       -0.822788       0.119584          -1.069474   \n",
              "2          0       2       -0.676280       0.424729          -0.426373   \n",
              "3          0       2       -1.335566       1.085877          -0.569284   \n",
              "4          0       2       -0.859415       1.747026          -0.783651   \n",
              "..       ...     ...             ...            ...                ...   \n",
              "328        2       0        0.587352      -1.762145           0.931283   \n",
              "329        2       0        0.514098      -1.457000           1.002739   \n",
              "330        2       0        1.173384      -0.744994           1.502928   \n",
              "331        2       0        0.221082      -1.202712           0.788372   \n",
              "332        2       0        1.081817      -0.541564           0.859828   \n",
              "\n",
              "     body_mass_g  sex  \n",
              "0      -0.568475    1  \n",
              "1      -0.506286    0  \n",
              "2      -1.190361    0  \n",
              "3      -0.941606    0  \n",
              "4      -0.692852    1  \n",
              "..           ...  ...  \n",
              "328     0.892957    0  \n",
              "329     0.799674    0  \n",
              "330     1.919069    1  \n",
              "331     1.234995    0  \n",
              "332     1.483749    1  \n",
              "\n",
              "[333 rows x 7 columns]"
            ],
            "text/html": [
              "\n",
              "  <div id=\"df-6cfa4922-e879-4fa5-99b6-e2c825d6f9d1\">\n",
              "    <div class=\"colab-df-container\">\n",
              "      <div>\n",
              "<style scoped>\n",
              "    .dataframe tbody tr th:only-of-type {\n",
              "        vertical-align: middle;\n",
              "    }\n",
              "\n",
              "    .dataframe tbody tr th {\n",
              "        vertical-align: top;\n",
              "    }\n",
              "\n",
              "    .dataframe thead th {\n",
              "        text-align: right;\n",
              "    }\n",
              "</style>\n",
              "<table border=\"1\" class=\"dataframe\">\n",
              "  <thead>\n",
              "    <tr style=\"text-align: right;\">\n",
              "      <th></th>\n",
              "      <th>species</th>\n",
              "      <th>island</th>\n",
              "      <th>bill_length_mm</th>\n",
              "      <th>bill_depth_mm</th>\n",
              "      <th>flipper_length_mm</th>\n",
              "      <th>body_mass_g</th>\n",
              "      <th>sex</th>\n",
              "    </tr>\n",
              "  </thead>\n",
              "  <tbody>\n",
              "    <tr>\n",
              "      <th>0</th>\n",
              "      <td>0</td>\n",
              "      <td>2</td>\n",
              "      <td>-0.896042</td>\n",
              "      <td>0.780732</td>\n",
              "      <td>-1.426752</td>\n",
              "      <td>-0.568475</td>\n",
              "      <td>1</td>\n",
              "    </tr>\n",
              "    <tr>\n",
              "      <th>1</th>\n",
              "      <td>0</td>\n",
              "      <td>2</td>\n",
              "      <td>-0.822788</td>\n",
              "      <td>0.119584</td>\n",
              "      <td>-1.069474</td>\n",
              "      <td>-0.506286</td>\n",
              "      <td>0</td>\n",
              "    </tr>\n",
              "    <tr>\n",
              "      <th>2</th>\n",
              "      <td>0</td>\n",
              "      <td>2</td>\n",
              "      <td>-0.676280</td>\n",
              "      <td>0.424729</td>\n",
              "      <td>-0.426373</td>\n",
              "      <td>-1.190361</td>\n",
              "      <td>0</td>\n",
              "    </tr>\n",
              "    <tr>\n",
              "      <th>3</th>\n",
              "      <td>0</td>\n",
              "      <td>2</td>\n",
              "      <td>-1.335566</td>\n",
              "      <td>1.085877</td>\n",
              "      <td>-0.569284</td>\n",
              "      <td>-0.941606</td>\n",
              "      <td>0</td>\n",
              "    </tr>\n",
              "    <tr>\n",
              "      <th>4</th>\n",
              "      <td>0</td>\n",
              "      <td>2</td>\n",
              "      <td>-0.859415</td>\n",
              "      <td>1.747026</td>\n",
              "      <td>-0.783651</td>\n",
              "      <td>-0.692852</td>\n",
              "      <td>1</td>\n",
              "    </tr>\n",
              "    <tr>\n",
              "      <th>...</th>\n",
              "      <td>...</td>\n",
              "      <td>...</td>\n",
              "      <td>...</td>\n",
              "      <td>...</td>\n",
              "      <td>...</td>\n",
              "      <td>...</td>\n",
              "      <td>...</td>\n",
              "    </tr>\n",
              "    <tr>\n",
              "      <th>328</th>\n",
              "      <td>2</td>\n",
              "      <td>0</td>\n",
              "      <td>0.587352</td>\n",
              "      <td>-1.762145</td>\n",
              "      <td>0.931283</td>\n",
              "      <td>0.892957</td>\n",
              "      <td>0</td>\n",
              "    </tr>\n",
              "    <tr>\n",
              "      <th>329</th>\n",
              "      <td>2</td>\n",
              "      <td>0</td>\n",
              "      <td>0.514098</td>\n",
              "      <td>-1.457000</td>\n",
              "      <td>1.002739</td>\n",
              "      <td>0.799674</td>\n",
              "      <td>0</td>\n",
              "    </tr>\n",
              "    <tr>\n",
              "      <th>330</th>\n",
              "      <td>2</td>\n",
              "      <td>0</td>\n",
              "      <td>1.173384</td>\n",
              "      <td>-0.744994</td>\n",
              "      <td>1.502928</td>\n",
              "      <td>1.919069</td>\n",
              "      <td>1</td>\n",
              "    </tr>\n",
              "    <tr>\n",
              "      <th>331</th>\n",
              "      <td>2</td>\n",
              "      <td>0</td>\n",
              "      <td>0.221082</td>\n",
              "      <td>-1.202712</td>\n",
              "      <td>0.788372</td>\n",
              "      <td>1.234995</td>\n",
              "      <td>0</td>\n",
              "    </tr>\n",
              "    <tr>\n",
              "      <th>332</th>\n",
              "      <td>2</td>\n",
              "      <td>0</td>\n",
              "      <td>1.081817</td>\n",
              "      <td>-0.541564</td>\n",
              "      <td>0.859828</td>\n",
              "      <td>1.483749</td>\n",
              "      <td>1</td>\n",
              "    </tr>\n",
              "  </tbody>\n",
              "</table>\n",
              "<p>333 rows × 7 columns</p>\n",
              "</div>\n",
              "      <button class=\"colab-df-convert\" onclick=\"convertToInteractive('df-6cfa4922-e879-4fa5-99b6-e2c825d6f9d1')\"\n",
              "              title=\"Convert this dataframe to an interactive table.\"\n",
              "              style=\"display:none;\">\n",
              "        \n",
              "  <svg xmlns=\"http://www.w3.org/2000/svg\" height=\"24px\"viewBox=\"0 0 24 24\"\n",
              "       width=\"24px\">\n",
              "    <path d=\"M0 0h24v24H0V0z\" fill=\"none\"/>\n",
              "    <path d=\"M18.56 5.44l.94 2.06.94-2.06 2.06-.94-2.06-.94-.94-2.06-.94 2.06-2.06.94zm-11 1L8.5 8.5l.94-2.06 2.06-.94-2.06-.94L8.5 2.5l-.94 2.06-2.06.94zm10 10l.94 2.06.94-2.06 2.06-.94-2.06-.94-.94-2.06-.94 2.06-2.06.94z\"/><path d=\"M17.41 7.96l-1.37-1.37c-.4-.4-.92-.59-1.43-.59-.52 0-1.04.2-1.43.59L10.3 9.45l-7.72 7.72c-.78.78-.78 2.05 0 2.83L4 21.41c.39.39.9.59 1.41.59.51 0 1.02-.2 1.41-.59l7.78-7.78 2.81-2.81c.8-.78.8-2.07 0-2.86zM5.41 20L4 18.59l7.72-7.72 1.47 1.35L5.41 20z\"/>\n",
              "  </svg>\n",
              "      </button>\n",
              "      \n",
              "  <style>\n",
              "    .colab-df-container {\n",
              "      display:flex;\n",
              "      flex-wrap:wrap;\n",
              "      gap: 12px;\n",
              "    }\n",
              "\n",
              "    .colab-df-convert {\n",
              "      background-color: #E8F0FE;\n",
              "      border: none;\n",
              "      border-radius: 50%;\n",
              "      cursor: pointer;\n",
              "      display: none;\n",
              "      fill: #1967D2;\n",
              "      height: 32px;\n",
              "      padding: 0 0 0 0;\n",
              "      width: 32px;\n",
              "    }\n",
              "\n",
              "    .colab-df-convert:hover {\n",
              "      background-color: #E2EBFA;\n",
              "      box-shadow: 0px 1px 2px rgba(60, 64, 67, 0.3), 0px 1px 3px 1px rgba(60, 64, 67, 0.15);\n",
              "      fill: #174EA6;\n",
              "    }\n",
              "\n",
              "    [theme=dark] .colab-df-convert {\n",
              "      background-color: #3B4455;\n",
              "      fill: #D2E3FC;\n",
              "    }\n",
              "\n",
              "    [theme=dark] .colab-df-convert:hover {\n",
              "      background-color: #434B5C;\n",
              "      box-shadow: 0px 1px 3px 1px rgba(0, 0, 0, 0.15);\n",
              "      filter: drop-shadow(0px 1px 2px rgba(0, 0, 0, 0.3));\n",
              "      fill: #FFFFFF;\n",
              "    }\n",
              "  </style>\n",
              "\n",
              "      <script>\n",
              "        const buttonEl =\n",
              "          document.querySelector('#df-6cfa4922-e879-4fa5-99b6-e2c825d6f9d1 button.colab-df-convert');\n",
              "        buttonEl.style.display =\n",
              "          google.colab.kernel.accessAllowed ? 'block' : 'none';\n",
              "\n",
              "        async function convertToInteractive(key) {\n",
              "          const element = document.querySelector('#df-6cfa4922-e879-4fa5-99b6-e2c825d6f9d1');\n",
              "          const dataTable =\n",
              "            await google.colab.kernel.invokeFunction('convertToInteractive',\n",
              "                                                     [key], {});\n",
              "          if (!dataTable) return;\n",
              "\n",
              "          const docLinkHtml = 'Like what you see? Visit the ' +\n",
              "            '<a target=\"_blank\" href=https://colab.research.google.com/notebooks/data_table.ipynb>data table notebook</a>'\n",
              "            + ' to learn more about interactive tables.';\n",
              "          element.innerHTML = '';\n",
              "          dataTable['output_type'] = 'display_data';\n",
              "          await google.colab.output.renderOutput(dataTable, element);\n",
              "          const docLink = document.createElement('div');\n",
              "          docLink.innerHTML = docLinkHtml;\n",
              "          element.appendChild(docLink);\n",
              "        }\n",
              "      </script>\n",
              "    </div>\n",
              "  </div>\n",
              "  "
            ]
          },
          "metadata": {},
          "execution_count": 89
        }
      ]
    },
    {
      "cell_type": "markdown",
      "source": [
        "> 원 핫 인코딩 (`One Hot Encoding`)\n",
        "> - 범주형 데이터의 범주 가짓수에 컬럼을 추가 해주는 방법입니다.\n",
        "> - 범주에 포함되는 컬럼에 1을 부여하고 다른 컬럼을 0을 부여한다."
      ],
      "metadata": {
        "id": "8KngjDfWmb1q"
      }
    },
    {
      "cell_type": "code",
      "source": [
        "from sklearn.preprocessing import OneHotEncoder\n",
        "encoder = OneHotEncoder()\n",
        "\n",
        "penguins_onehot = penguins_stand.copy()\n",
        "features = penguins_onehot[['species', 'island', 'sex']]\n",
        "encoded = encoder.fit_transform(features).toarray() "
      ],
      "metadata": {
        "id": "kBXs8bdimVqI"
      },
      "execution_count": 90,
      "outputs": []
    },
    {
      "cell_type": "code",
      "source": [
        "encoded"
      ],
      "metadata": {
        "colab": {
          "base_uri": "https://localhost:8080/"
        },
        "id": "xETgfqVjnCqx",
        "outputId": "51337ce8-f172-45d8-cfa6-1bc38c847dca"
      },
      "execution_count": 91,
      "outputs": [
        {
          "output_type": "execute_result",
          "data": {
            "text/plain": [
              "array([[1., 0., 0., ..., 1., 0., 1.],\n",
              "       [1., 0., 0., ..., 1., 1., 0.],\n",
              "       [1., 0., 0., ..., 1., 1., 0.],\n",
              "       ...,\n",
              "       [0., 0., 1., ..., 0., 0., 1.],\n",
              "       [0., 0., 1., ..., 0., 1., 0.],\n",
              "       [0., 0., 1., ..., 0., 0., 1.]])"
            ]
          },
          "metadata": {},
          "execution_count": 91
        }
      ]
    },
    {
      "cell_type": "code",
      "source": [
        "encoder.categories_"
      ],
      "metadata": {
        "colab": {
          "base_uri": "https://localhost:8080/"
        },
        "id": "ZY2Znlc0nJ5I",
        "outputId": "f8e782fb-e4d3-4238-d376-4e61e86b7fc1"
      },
      "execution_count": 92,
      "outputs": [
        {
          "output_type": "execute_result",
          "data": {
            "text/plain": [
              "[array(['Adelie', 'Chinstrap', 'Gentoo'], dtype=object),\n",
              " array(['Biscoe', 'Dream', 'Torgersen'], dtype=object),\n",
              " array(['Female', 'Male'], dtype=object)]"
            ]
          },
          "metadata": {},
          "execution_count": 92
        }
      ]
    },
    {
      "cell_type": "code",
      "source": [
        "# 기존 범주형 컬럼 버리기\n",
        "penguins_onehot = penguins_onehot.drop(columns=['species', 'island', 'sex'])\n",
        "\n",
        "#인코딩 결과 프레임 생성\n",
        "encoded_df = pd.DataFrame(encoded)\n",
        "encoded_df.columns = encoder.get_feature_names_out()\n",
        "\n",
        "#기존 데이터 프레임과 결함\n",
        "penguins_onehot = pd.concat([penguins_onehot, encoded_df], axis=1)"
      ],
      "metadata": {
        "id": "ZoZxyyIhnOXv"
      },
      "execution_count": 93,
      "outputs": []
    },
    {
      "cell_type": "code",
      "source": [
        "penguins_onehot"
      ],
      "metadata": {
        "colab": {
          "base_uri": "https://localhost:8080/",
          "height": 483
        },
        "id": "tidt08IOoxr5",
        "outputId": "f05d07ef-6a3b-4f10-c772-4d05a4767c1a"
      },
      "execution_count": 94,
      "outputs": [
        {
          "output_type": "execute_result",
          "data": {
            "text/plain": [
              "     bill_length_mm  bill_depth_mm  flipper_length_mm  body_mass_g  \\\n",
              "0         -0.896042       0.780732          -1.426752    -0.568475   \n",
              "1         -0.822788       0.119584          -1.069474    -0.506286   \n",
              "2         -0.676280       0.424729          -0.426373    -1.190361   \n",
              "3         -1.335566       1.085877          -0.569284    -0.941606   \n",
              "4         -0.859415       1.747026          -0.783651    -0.692852   \n",
              "..              ...            ...                ...          ...   \n",
              "328        0.587352      -1.762145           0.931283     0.892957   \n",
              "329        0.514098      -1.457000           1.002739     0.799674   \n",
              "330        1.173384      -0.744994           1.502928     1.919069   \n",
              "331        0.221082      -1.202712           0.788372     1.234995   \n",
              "332        1.081817      -0.541564           0.859828     1.483749   \n",
              "\n",
              "     species_Adelie  species_Chinstrap  species_Gentoo  island_Biscoe  \\\n",
              "0               1.0                0.0             0.0            0.0   \n",
              "1               1.0                0.0             0.0            0.0   \n",
              "2               1.0                0.0             0.0            0.0   \n",
              "3               1.0                0.0             0.0            0.0   \n",
              "4               1.0                0.0             0.0            0.0   \n",
              "..              ...                ...             ...            ...   \n",
              "328             0.0                0.0             1.0            1.0   \n",
              "329             0.0                0.0             1.0            1.0   \n",
              "330             0.0                0.0             1.0            1.0   \n",
              "331             0.0                0.0             1.0            1.0   \n",
              "332             0.0                0.0             1.0            1.0   \n",
              "\n",
              "     island_Dream  island_Torgersen  sex_Female  sex_Male  \n",
              "0             0.0               1.0         0.0       1.0  \n",
              "1             0.0               1.0         1.0       0.0  \n",
              "2             0.0               1.0         1.0       0.0  \n",
              "3             0.0               1.0         1.0       0.0  \n",
              "4             0.0               1.0         0.0       1.0  \n",
              "..            ...               ...         ...       ...  \n",
              "328           0.0               0.0         1.0       0.0  \n",
              "329           0.0               0.0         1.0       0.0  \n",
              "330           0.0               0.0         0.0       1.0  \n",
              "331           0.0               0.0         1.0       0.0  \n",
              "332           0.0               0.0         0.0       1.0  \n",
              "\n",
              "[333 rows x 12 columns]"
            ],
            "text/html": [
              "\n",
              "  <div id=\"df-fc6b33a7-20ba-40be-ac65-f786e8829cd6\">\n",
              "    <div class=\"colab-df-container\">\n",
              "      <div>\n",
              "<style scoped>\n",
              "    .dataframe tbody tr th:only-of-type {\n",
              "        vertical-align: middle;\n",
              "    }\n",
              "\n",
              "    .dataframe tbody tr th {\n",
              "        vertical-align: top;\n",
              "    }\n",
              "\n",
              "    .dataframe thead th {\n",
              "        text-align: right;\n",
              "    }\n",
              "</style>\n",
              "<table border=\"1\" class=\"dataframe\">\n",
              "  <thead>\n",
              "    <tr style=\"text-align: right;\">\n",
              "      <th></th>\n",
              "      <th>bill_length_mm</th>\n",
              "      <th>bill_depth_mm</th>\n",
              "      <th>flipper_length_mm</th>\n",
              "      <th>body_mass_g</th>\n",
              "      <th>species_Adelie</th>\n",
              "      <th>species_Chinstrap</th>\n",
              "      <th>species_Gentoo</th>\n",
              "      <th>island_Biscoe</th>\n",
              "      <th>island_Dream</th>\n",
              "      <th>island_Torgersen</th>\n",
              "      <th>sex_Female</th>\n",
              "      <th>sex_Male</th>\n",
              "    </tr>\n",
              "  </thead>\n",
              "  <tbody>\n",
              "    <tr>\n",
              "      <th>0</th>\n",
              "      <td>-0.896042</td>\n",
              "      <td>0.780732</td>\n",
              "      <td>-1.426752</td>\n",
              "      <td>-0.568475</td>\n",
              "      <td>1.0</td>\n",
              "      <td>0.0</td>\n",
              "      <td>0.0</td>\n",
              "      <td>0.0</td>\n",
              "      <td>0.0</td>\n",
              "      <td>1.0</td>\n",
              "      <td>0.0</td>\n",
              "      <td>1.0</td>\n",
              "    </tr>\n",
              "    <tr>\n",
              "      <th>1</th>\n",
              "      <td>-0.822788</td>\n",
              "      <td>0.119584</td>\n",
              "      <td>-1.069474</td>\n",
              "      <td>-0.506286</td>\n",
              "      <td>1.0</td>\n",
              "      <td>0.0</td>\n",
              "      <td>0.0</td>\n",
              "      <td>0.0</td>\n",
              "      <td>0.0</td>\n",
              "      <td>1.0</td>\n",
              "      <td>1.0</td>\n",
              "      <td>0.0</td>\n",
              "    </tr>\n",
              "    <tr>\n",
              "      <th>2</th>\n",
              "      <td>-0.676280</td>\n",
              "      <td>0.424729</td>\n",
              "      <td>-0.426373</td>\n",
              "      <td>-1.190361</td>\n",
              "      <td>1.0</td>\n",
              "      <td>0.0</td>\n",
              "      <td>0.0</td>\n",
              "      <td>0.0</td>\n",
              "      <td>0.0</td>\n",
              "      <td>1.0</td>\n",
              "      <td>1.0</td>\n",
              "      <td>0.0</td>\n",
              "    </tr>\n",
              "    <tr>\n",
              "      <th>3</th>\n",
              "      <td>-1.335566</td>\n",
              "      <td>1.085877</td>\n",
              "      <td>-0.569284</td>\n",
              "      <td>-0.941606</td>\n",
              "      <td>1.0</td>\n",
              "      <td>0.0</td>\n",
              "      <td>0.0</td>\n",
              "      <td>0.0</td>\n",
              "      <td>0.0</td>\n",
              "      <td>1.0</td>\n",
              "      <td>1.0</td>\n",
              "      <td>0.0</td>\n",
              "    </tr>\n",
              "    <tr>\n",
              "      <th>4</th>\n",
              "      <td>-0.859415</td>\n",
              "      <td>1.747026</td>\n",
              "      <td>-0.783651</td>\n",
              "      <td>-0.692852</td>\n",
              "      <td>1.0</td>\n",
              "      <td>0.0</td>\n",
              "      <td>0.0</td>\n",
              "      <td>0.0</td>\n",
              "      <td>0.0</td>\n",
              "      <td>1.0</td>\n",
              "      <td>0.0</td>\n",
              "      <td>1.0</td>\n",
              "    </tr>\n",
              "    <tr>\n",
              "      <th>...</th>\n",
              "      <td>...</td>\n",
              "      <td>...</td>\n",
              "      <td>...</td>\n",
              "      <td>...</td>\n",
              "      <td>...</td>\n",
              "      <td>...</td>\n",
              "      <td>...</td>\n",
              "      <td>...</td>\n",
              "      <td>...</td>\n",
              "      <td>...</td>\n",
              "      <td>...</td>\n",
              "      <td>...</td>\n",
              "    </tr>\n",
              "    <tr>\n",
              "      <th>328</th>\n",
              "      <td>0.587352</td>\n",
              "      <td>-1.762145</td>\n",
              "      <td>0.931283</td>\n",
              "      <td>0.892957</td>\n",
              "      <td>0.0</td>\n",
              "      <td>0.0</td>\n",
              "      <td>1.0</td>\n",
              "      <td>1.0</td>\n",
              "      <td>0.0</td>\n",
              "      <td>0.0</td>\n",
              "      <td>1.0</td>\n",
              "      <td>0.0</td>\n",
              "    </tr>\n",
              "    <tr>\n",
              "      <th>329</th>\n",
              "      <td>0.514098</td>\n",
              "      <td>-1.457000</td>\n",
              "      <td>1.002739</td>\n",
              "      <td>0.799674</td>\n",
              "      <td>0.0</td>\n",
              "      <td>0.0</td>\n",
              "      <td>1.0</td>\n",
              "      <td>1.0</td>\n",
              "      <td>0.0</td>\n",
              "      <td>0.0</td>\n",
              "      <td>1.0</td>\n",
              "      <td>0.0</td>\n",
              "    </tr>\n",
              "    <tr>\n",
              "      <th>330</th>\n",
              "      <td>1.173384</td>\n",
              "      <td>-0.744994</td>\n",
              "      <td>1.502928</td>\n",
              "      <td>1.919069</td>\n",
              "      <td>0.0</td>\n",
              "      <td>0.0</td>\n",
              "      <td>1.0</td>\n",
              "      <td>1.0</td>\n",
              "      <td>0.0</td>\n",
              "      <td>0.0</td>\n",
              "      <td>0.0</td>\n",
              "      <td>1.0</td>\n",
              "    </tr>\n",
              "    <tr>\n",
              "      <th>331</th>\n",
              "      <td>0.221082</td>\n",
              "      <td>-1.202712</td>\n",
              "      <td>0.788372</td>\n",
              "      <td>1.234995</td>\n",
              "      <td>0.0</td>\n",
              "      <td>0.0</td>\n",
              "      <td>1.0</td>\n",
              "      <td>1.0</td>\n",
              "      <td>0.0</td>\n",
              "      <td>0.0</td>\n",
              "      <td>1.0</td>\n",
              "      <td>0.0</td>\n",
              "    </tr>\n",
              "    <tr>\n",
              "      <th>332</th>\n",
              "      <td>1.081817</td>\n",
              "      <td>-0.541564</td>\n",
              "      <td>0.859828</td>\n",
              "      <td>1.483749</td>\n",
              "      <td>0.0</td>\n",
              "      <td>0.0</td>\n",
              "      <td>1.0</td>\n",
              "      <td>1.0</td>\n",
              "      <td>0.0</td>\n",
              "      <td>0.0</td>\n",
              "      <td>0.0</td>\n",
              "      <td>1.0</td>\n",
              "    </tr>\n",
              "  </tbody>\n",
              "</table>\n",
              "<p>333 rows × 12 columns</p>\n",
              "</div>\n",
              "      <button class=\"colab-df-convert\" onclick=\"convertToInteractive('df-fc6b33a7-20ba-40be-ac65-f786e8829cd6')\"\n",
              "              title=\"Convert this dataframe to an interactive table.\"\n",
              "              style=\"display:none;\">\n",
              "        \n",
              "  <svg xmlns=\"http://www.w3.org/2000/svg\" height=\"24px\"viewBox=\"0 0 24 24\"\n",
              "       width=\"24px\">\n",
              "    <path d=\"M0 0h24v24H0V0z\" fill=\"none\"/>\n",
              "    <path d=\"M18.56 5.44l.94 2.06.94-2.06 2.06-.94-2.06-.94-.94-2.06-.94 2.06-2.06.94zm-11 1L8.5 8.5l.94-2.06 2.06-.94-2.06-.94L8.5 2.5l-.94 2.06-2.06.94zm10 10l.94 2.06.94-2.06 2.06-.94-2.06-.94-.94-2.06-.94 2.06-2.06.94z\"/><path d=\"M17.41 7.96l-1.37-1.37c-.4-.4-.92-.59-1.43-.59-.52 0-1.04.2-1.43.59L10.3 9.45l-7.72 7.72c-.78.78-.78 2.05 0 2.83L4 21.41c.39.39.9.59 1.41.59.51 0 1.02-.2 1.41-.59l7.78-7.78 2.81-2.81c.8-.78.8-2.07 0-2.86zM5.41 20L4 18.59l7.72-7.72 1.47 1.35L5.41 20z\"/>\n",
              "  </svg>\n",
              "      </button>\n",
              "      \n",
              "  <style>\n",
              "    .colab-df-container {\n",
              "      display:flex;\n",
              "      flex-wrap:wrap;\n",
              "      gap: 12px;\n",
              "    }\n",
              "\n",
              "    .colab-df-convert {\n",
              "      background-color: #E8F0FE;\n",
              "      border: none;\n",
              "      border-radius: 50%;\n",
              "      cursor: pointer;\n",
              "      display: none;\n",
              "      fill: #1967D2;\n",
              "      height: 32px;\n",
              "      padding: 0 0 0 0;\n",
              "      width: 32px;\n",
              "    }\n",
              "\n",
              "    .colab-df-convert:hover {\n",
              "      background-color: #E2EBFA;\n",
              "      box-shadow: 0px 1px 2px rgba(60, 64, 67, 0.3), 0px 1px 3px 1px rgba(60, 64, 67, 0.15);\n",
              "      fill: #174EA6;\n",
              "    }\n",
              "\n",
              "    [theme=dark] .colab-df-convert {\n",
              "      background-color: #3B4455;\n",
              "      fill: #D2E3FC;\n",
              "    }\n",
              "\n",
              "    [theme=dark] .colab-df-convert:hover {\n",
              "      background-color: #434B5C;\n",
              "      box-shadow: 0px 1px 3px 1px rgba(0, 0, 0, 0.15);\n",
              "      filter: drop-shadow(0px 1px 2px rgba(0, 0, 0, 0.3));\n",
              "      fill: #FFFFFF;\n",
              "    }\n",
              "  </style>\n",
              "\n",
              "      <script>\n",
              "        const buttonEl =\n",
              "          document.querySelector('#df-fc6b33a7-20ba-40be-ac65-f786e8829cd6 button.colab-df-convert');\n",
              "        buttonEl.style.display =\n",
              "          google.colab.kernel.accessAllowed ? 'block' : 'none';\n",
              "\n",
              "        async function convertToInteractive(key) {\n",
              "          const element = document.querySelector('#df-fc6b33a7-20ba-40be-ac65-f786e8829cd6');\n",
              "          const dataTable =\n",
              "            await google.colab.kernel.invokeFunction('convertToInteractive',\n",
              "                                                     [key], {});\n",
              "          if (!dataTable) return;\n",
              "\n",
              "          const docLinkHtml = 'Like what you see? Visit the ' +\n",
              "            '<a target=\"_blank\" href=https://colab.research.google.com/notebooks/data_table.ipynb>data table notebook</a>'\n",
              "            + ' to learn more about interactive tables.';\n",
              "          element.innerHTML = '';\n",
              "          dataTable['output_type'] = 'display_data';\n",
              "          await google.colab.output.renderOutput(dataTable, element);\n",
              "          const docLink = document.createElement('div');\n",
              "          docLink.innerHTML = docLinkHtml;\n",
              "          element.appendChild(docLink);\n",
              "        }\n",
              "      </script>\n",
              "    </div>\n",
              "  </div>\n",
              "  "
            ]
          },
          "metadata": {},
          "execution_count": 94
        }
      ]
    },
    {
      "cell_type": "markdown",
      "source": [
        "### 학습/테스트 데이터 세트 분할\n"
      ],
      "metadata": {
        "id": "dQE3c7vCpvcv"
      }
    },
    {
      "cell_type": "markdown",
      "source": [
        "- scikt-learn 은 학습 데이터 세트를 자동으로 분할해주는 기능을 제공합니다.\n",
        "- 테스트에 사용하고 싶은 데이터를 비율로 조종할 수 있다."
      ],
      "metadata": {
        "id": "z-7DjR7fp0Vb"
      }
    },
    {
      "cell_type": "code",
      "source": [
        "penguins_label.head()"
      ],
      "metadata": {
        "colab": {
          "base_uri": "https://localhost:8080/",
          "height": 268
        },
        "id": "3HUW3ZYFpvQO",
        "outputId": "237fd700-201b-4438-f223-00141cb58944"
      },
      "execution_count": 95,
      "outputs": [
        {
          "output_type": "execute_result",
          "data": {
            "text/plain": [
              "   species  island  bill_length_mm  bill_depth_mm  flipper_length_mm  \\\n",
              "0        0       2       -0.896042       0.780732          -1.426752   \n",
              "1        0       2       -0.822788       0.119584          -1.069474   \n",
              "2        0       2       -0.676280       0.424729          -0.426373   \n",
              "3        0       2       -1.335566       1.085877          -0.569284   \n",
              "4        0       2       -0.859415       1.747026          -0.783651   \n",
              "\n",
              "   body_mass_g  sex  \n",
              "0    -0.568475    1  \n",
              "1    -0.506286    0  \n",
              "2    -1.190361    0  \n",
              "3    -0.941606    0  \n",
              "4    -0.692852    1  "
            ],
            "text/html": [
              "\n",
              "  <div id=\"df-291bd0da-9bbe-4fea-b770-85f4012d21f8\">\n",
              "    <div class=\"colab-df-container\">\n",
              "      <div>\n",
              "<style scoped>\n",
              "    .dataframe tbody tr th:only-of-type {\n",
              "        vertical-align: middle;\n",
              "    }\n",
              "\n",
              "    .dataframe tbody tr th {\n",
              "        vertical-align: top;\n",
              "    }\n",
              "\n",
              "    .dataframe thead th {\n",
              "        text-align: right;\n",
              "    }\n",
              "</style>\n",
              "<table border=\"1\" class=\"dataframe\">\n",
              "  <thead>\n",
              "    <tr style=\"text-align: right;\">\n",
              "      <th></th>\n",
              "      <th>species</th>\n",
              "      <th>island</th>\n",
              "      <th>bill_length_mm</th>\n",
              "      <th>bill_depth_mm</th>\n",
              "      <th>flipper_length_mm</th>\n",
              "      <th>body_mass_g</th>\n",
              "      <th>sex</th>\n",
              "    </tr>\n",
              "  </thead>\n",
              "  <tbody>\n",
              "    <tr>\n",
              "      <th>0</th>\n",
              "      <td>0</td>\n",
              "      <td>2</td>\n",
              "      <td>-0.896042</td>\n",
              "      <td>0.780732</td>\n",
              "      <td>-1.426752</td>\n",
              "      <td>-0.568475</td>\n",
              "      <td>1</td>\n",
              "    </tr>\n",
              "    <tr>\n",
              "      <th>1</th>\n",
              "      <td>0</td>\n",
              "      <td>2</td>\n",
              "      <td>-0.822788</td>\n",
              "      <td>0.119584</td>\n",
              "      <td>-1.069474</td>\n",
              "      <td>-0.506286</td>\n",
              "      <td>0</td>\n",
              "    </tr>\n",
              "    <tr>\n",
              "      <th>2</th>\n",
              "      <td>0</td>\n",
              "      <td>2</td>\n",
              "      <td>-0.676280</td>\n",
              "      <td>0.424729</td>\n",
              "      <td>-0.426373</td>\n",
              "      <td>-1.190361</td>\n",
              "      <td>0</td>\n",
              "    </tr>\n",
              "    <tr>\n",
              "      <th>3</th>\n",
              "      <td>0</td>\n",
              "      <td>2</td>\n",
              "      <td>-1.335566</td>\n",
              "      <td>1.085877</td>\n",
              "      <td>-0.569284</td>\n",
              "      <td>-0.941606</td>\n",
              "      <td>0</td>\n",
              "    </tr>\n",
              "    <tr>\n",
              "      <th>4</th>\n",
              "      <td>0</td>\n",
              "      <td>2</td>\n",
              "      <td>-0.859415</td>\n",
              "      <td>1.747026</td>\n",
              "      <td>-0.783651</td>\n",
              "      <td>-0.692852</td>\n",
              "      <td>1</td>\n",
              "    </tr>\n",
              "  </tbody>\n",
              "</table>\n",
              "</div>\n",
              "      <button class=\"colab-df-convert\" onclick=\"convertToInteractive('df-291bd0da-9bbe-4fea-b770-85f4012d21f8')\"\n",
              "              title=\"Convert this dataframe to an interactive table.\"\n",
              "              style=\"display:none;\">\n",
              "        \n",
              "  <svg xmlns=\"http://www.w3.org/2000/svg\" height=\"24px\"viewBox=\"0 0 24 24\"\n",
              "       width=\"24px\">\n",
              "    <path d=\"M0 0h24v24H0V0z\" fill=\"none\"/>\n",
              "    <path d=\"M18.56 5.44l.94 2.06.94-2.06 2.06-.94-2.06-.94-.94-2.06-.94 2.06-2.06.94zm-11 1L8.5 8.5l.94-2.06 2.06-.94-2.06-.94L8.5 2.5l-.94 2.06-2.06.94zm10 10l.94 2.06.94-2.06 2.06-.94-2.06-.94-.94-2.06-.94 2.06-2.06.94z\"/><path d=\"M17.41 7.96l-1.37-1.37c-.4-.4-.92-.59-1.43-.59-.52 0-1.04.2-1.43.59L10.3 9.45l-7.72 7.72c-.78.78-.78 2.05 0 2.83L4 21.41c.39.39.9.59 1.41.59.51 0 1.02-.2 1.41-.59l7.78-7.78 2.81-2.81c.8-.78.8-2.07 0-2.86zM5.41 20L4 18.59l7.72-7.72 1.47 1.35L5.41 20z\"/>\n",
              "  </svg>\n",
              "      </button>\n",
              "      \n",
              "  <style>\n",
              "    .colab-df-container {\n",
              "      display:flex;\n",
              "      flex-wrap:wrap;\n",
              "      gap: 12px;\n",
              "    }\n",
              "\n",
              "    .colab-df-convert {\n",
              "      background-color: #E8F0FE;\n",
              "      border: none;\n",
              "      border-radius: 50%;\n",
              "      cursor: pointer;\n",
              "      display: none;\n",
              "      fill: #1967D2;\n",
              "      height: 32px;\n",
              "      padding: 0 0 0 0;\n",
              "      width: 32px;\n",
              "    }\n",
              "\n",
              "    .colab-df-convert:hover {\n",
              "      background-color: #E2EBFA;\n",
              "      box-shadow: 0px 1px 2px rgba(60, 64, 67, 0.3), 0px 1px 3px 1px rgba(60, 64, 67, 0.15);\n",
              "      fill: #174EA6;\n",
              "    }\n",
              "\n",
              "    [theme=dark] .colab-df-convert {\n",
              "      background-color: #3B4455;\n",
              "      fill: #D2E3FC;\n",
              "    }\n",
              "\n",
              "    [theme=dark] .colab-df-convert:hover {\n",
              "      background-color: #434B5C;\n",
              "      box-shadow: 0px 1px 3px 1px rgba(0, 0, 0, 0.15);\n",
              "      filter: drop-shadow(0px 1px 2px rgba(0, 0, 0, 0.3));\n",
              "      fill: #FFFFFF;\n",
              "    }\n",
              "  </style>\n",
              "\n",
              "      <script>\n",
              "        const buttonEl =\n",
              "          document.querySelector('#df-291bd0da-9bbe-4fea-b770-85f4012d21f8 button.colab-df-convert');\n",
              "        buttonEl.style.display =\n",
              "          google.colab.kernel.accessAllowed ? 'block' : 'none';\n",
              "\n",
              "        async function convertToInteractive(key) {\n",
              "          const element = document.querySelector('#df-291bd0da-9bbe-4fea-b770-85f4012d21f8');\n",
              "          const dataTable =\n",
              "            await google.colab.kernel.invokeFunction('convertToInteractive',\n",
              "                                                     [key], {});\n",
              "          if (!dataTable) return;\n",
              "\n",
              "          const docLinkHtml = 'Like what you see? Visit the ' +\n",
              "            '<a target=\"_blank\" href=https://colab.research.google.com/notebooks/data_table.ipynb>data table notebook</a>'\n",
              "            + ' to learn more about interactive tables.';\n",
              "          element.innerHTML = '';\n",
              "          dataTable['output_type'] = 'display_data';\n",
              "          await google.colab.output.renderOutput(dataTable, element);\n",
              "          const docLink = document.createElement('div');\n",
              "          docLink.innerHTML = docLinkHtml;\n",
              "          element.appendChild(docLink);\n",
              "        }\n",
              "      </script>\n",
              "    </div>\n",
              "  </div>\n",
              "  "
            ]
          },
          "metadata": {},
          "execution_count": 95
        }
      ]
    },
    {
      "cell_type": "code",
      "source": [
        "from sklearn.model_selection import train_test_split\n",
        "\n",
        "X = penguins_label.drop('sex', axis=1)      # 예측에 사용되는 변수\n",
        "Y = penguins_label['sex']                   # 예측할 변수"
      ],
      "metadata": {
        "id": "zcvybYyWpGvu"
      },
      "execution_count": 96,
      "outputs": []
    },
    {
      "cell_type": "code",
      "source": [
        "#학습/테스트 세트 분할\n",
        "X_train, X_test, Y_train, Y_test = train_test_split(X, Y, test_size=0.2, shuffle=True)"
      ],
      "metadata": {
        "id": "2XMBLPZdqNn6"
      },
      "execution_count": 97,
      "outputs": []
    },
    {
      "cell_type": "code",
      "source": [
        "len(X_train), len(Y_train), len(Y_test), len(Y_test)"
      ],
      "metadata": {
        "colab": {
          "base_uri": "https://localhost:8080/"
        },
        "id": "_fy2kEzBqas2",
        "outputId": "dfb989f5-d291-4846-c940-7fd36d0b1146"
      },
      "execution_count": 98,
      "outputs": [
        {
          "output_type": "execute_result",
          "data": {
            "text/plain": [
              "(266, 266, 67, 67)"
            ]
          },
          "metadata": {},
          "execution_count": 98
        }
      ]
    },
    {
      "cell_type": "code",
      "source": [
        "X_train"
      ],
      "metadata": {
        "colab": {
          "base_uri": "https://localhost:8080/",
          "height": 483
        },
        "id": "sva0dRrjqkBG",
        "outputId": "58d234f9-2016-4f27-ecf6-f934e9cf9fae"
      },
      "execution_count": 99,
      "outputs": [
        {
          "output_type": "execute_result",
          "data": {
            "text/plain": [
              "     species  island  bill_length_mm  bill_depth_mm  flipper_length_mm  \\\n",
              "219        2       0        0.459158      -1.863860           0.645461   \n",
              "251        2       0        0.001320      -1.813003           0.502550   \n",
              "231        2       0        0.953622      -0.999282           1.431472   \n",
              "163        1       1        2.565211       0.323014          -1.426752   \n",
              "330        2       0        1.173384      -0.744994           1.502928   \n",
              "..       ...     ...             ...            ...                ...   \n",
              "184        1       1        0.532412      -0.287276          -0.640740   \n",
              "172        1       1        1.191698       0.628159          -0.069095   \n",
              "105        0       0        0.294336       1.594453          -0.712196   \n",
              "249        2       0       -0.255069      -1.762145           0.859828   \n",
              "252        2       0        0.862055      -0.744994           0.502550   \n",
              "\n",
              "     body_mass_g  \n",
              "219     0.426543  \n",
              "251     0.177788  \n",
              "231     2.603144  \n",
              "163    -0.630663  \n",
              "330     1.919069  \n",
              "..           ...  \n",
              "184    -1.874435  \n",
              "172    -1.003795  \n",
              "105     0.488731  \n",
              "249     0.924052  \n",
              "252     1.421560  \n",
              "\n",
              "[266 rows x 6 columns]"
            ],
            "text/html": [
              "\n",
              "  <div id=\"df-ddd3842c-1727-42d2-a983-c83fcf4505d7\">\n",
              "    <div class=\"colab-df-container\">\n",
              "      <div>\n",
              "<style scoped>\n",
              "    .dataframe tbody tr th:only-of-type {\n",
              "        vertical-align: middle;\n",
              "    }\n",
              "\n",
              "    .dataframe tbody tr th {\n",
              "        vertical-align: top;\n",
              "    }\n",
              "\n",
              "    .dataframe thead th {\n",
              "        text-align: right;\n",
              "    }\n",
              "</style>\n",
              "<table border=\"1\" class=\"dataframe\">\n",
              "  <thead>\n",
              "    <tr style=\"text-align: right;\">\n",
              "      <th></th>\n",
              "      <th>species</th>\n",
              "      <th>island</th>\n",
              "      <th>bill_length_mm</th>\n",
              "      <th>bill_depth_mm</th>\n",
              "      <th>flipper_length_mm</th>\n",
              "      <th>body_mass_g</th>\n",
              "    </tr>\n",
              "  </thead>\n",
              "  <tbody>\n",
              "    <tr>\n",
              "      <th>219</th>\n",
              "      <td>2</td>\n",
              "      <td>0</td>\n",
              "      <td>0.459158</td>\n",
              "      <td>-1.863860</td>\n",
              "      <td>0.645461</td>\n",
              "      <td>0.426543</td>\n",
              "    </tr>\n",
              "    <tr>\n",
              "      <th>251</th>\n",
              "      <td>2</td>\n",
              "      <td>0</td>\n",
              "      <td>0.001320</td>\n",
              "      <td>-1.813003</td>\n",
              "      <td>0.502550</td>\n",
              "      <td>0.177788</td>\n",
              "    </tr>\n",
              "    <tr>\n",
              "      <th>231</th>\n",
              "      <td>2</td>\n",
              "      <td>0</td>\n",
              "      <td>0.953622</td>\n",
              "      <td>-0.999282</td>\n",
              "      <td>1.431472</td>\n",
              "      <td>2.603144</td>\n",
              "    </tr>\n",
              "    <tr>\n",
              "      <th>163</th>\n",
              "      <td>1</td>\n",
              "      <td>1</td>\n",
              "      <td>2.565211</td>\n",
              "      <td>0.323014</td>\n",
              "      <td>-1.426752</td>\n",
              "      <td>-0.630663</td>\n",
              "    </tr>\n",
              "    <tr>\n",
              "      <th>330</th>\n",
              "      <td>2</td>\n",
              "      <td>0</td>\n",
              "      <td>1.173384</td>\n",
              "      <td>-0.744994</td>\n",
              "      <td>1.502928</td>\n",
              "      <td>1.919069</td>\n",
              "    </tr>\n",
              "    <tr>\n",
              "      <th>...</th>\n",
              "      <td>...</td>\n",
              "      <td>...</td>\n",
              "      <td>...</td>\n",
              "      <td>...</td>\n",
              "      <td>...</td>\n",
              "      <td>...</td>\n",
              "    </tr>\n",
              "    <tr>\n",
              "      <th>184</th>\n",
              "      <td>1</td>\n",
              "      <td>1</td>\n",
              "      <td>0.532412</td>\n",
              "      <td>-0.287276</td>\n",
              "      <td>-0.640740</td>\n",
              "      <td>-1.874435</td>\n",
              "    </tr>\n",
              "    <tr>\n",
              "      <th>172</th>\n",
              "      <td>1</td>\n",
              "      <td>1</td>\n",
              "      <td>1.191698</td>\n",
              "      <td>0.628159</td>\n",
              "      <td>-0.069095</td>\n",
              "      <td>-1.003795</td>\n",
              "    </tr>\n",
              "    <tr>\n",
              "      <th>105</th>\n",
              "      <td>0</td>\n",
              "      <td>0</td>\n",
              "      <td>0.294336</td>\n",
              "      <td>1.594453</td>\n",
              "      <td>-0.712196</td>\n",
              "      <td>0.488731</td>\n",
              "    </tr>\n",
              "    <tr>\n",
              "      <th>249</th>\n",
              "      <td>2</td>\n",
              "      <td>0</td>\n",
              "      <td>-0.255069</td>\n",
              "      <td>-1.762145</td>\n",
              "      <td>0.859828</td>\n",
              "      <td>0.924052</td>\n",
              "    </tr>\n",
              "    <tr>\n",
              "      <th>252</th>\n",
              "      <td>2</td>\n",
              "      <td>0</td>\n",
              "      <td>0.862055</td>\n",
              "      <td>-0.744994</td>\n",
              "      <td>0.502550</td>\n",
              "      <td>1.421560</td>\n",
              "    </tr>\n",
              "  </tbody>\n",
              "</table>\n",
              "<p>266 rows × 6 columns</p>\n",
              "</div>\n",
              "      <button class=\"colab-df-convert\" onclick=\"convertToInteractive('df-ddd3842c-1727-42d2-a983-c83fcf4505d7')\"\n",
              "              title=\"Convert this dataframe to an interactive table.\"\n",
              "              style=\"display:none;\">\n",
              "        \n",
              "  <svg xmlns=\"http://www.w3.org/2000/svg\" height=\"24px\"viewBox=\"0 0 24 24\"\n",
              "       width=\"24px\">\n",
              "    <path d=\"M0 0h24v24H0V0z\" fill=\"none\"/>\n",
              "    <path d=\"M18.56 5.44l.94 2.06.94-2.06 2.06-.94-2.06-.94-.94-2.06-.94 2.06-2.06.94zm-11 1L8.5 8.5l.94-2.06 2.06-.94-2.06-.94L8.5 2.5l-.94 2.06-2.06.94zm10 10l.94 2.06.94-2.06 2.06-.94-2.06-.94-.94-2.06-.94 2.06-2.06.94z\"/><path d=\"M17.41 7.96l-1.37-1.37c-.4-.4-.92-.59-1.43-.59-.52 0-1.04.2-1.43.59L10.3 9.45l-7.72 7.72c-.78.78-.78 2.05 0 2.83L4 21.41c.39.39.9.59 1.41.59.51 0 1.02-.2 1.41-.59l7.78-7.78 2.81-2.81c.8-.78.8-2.07 0-2.86zM5.41 20L4 18.59l7.72-7.72 1.47 1.35L5.41 20z\"/>\n",
              "  </svg>\n",
              "      </button>\n",
              "      \n",
              "  <style>\n",
              "    .colab-df-container {\n",
              "      display:flex;\n",
              "      flex-wrap:wrap;\n",
              "      gap: 12px;\n",
              "    }\n",
              "\n",
              "    .colab-df-convert {\n",
              "      background-color: #E8F0FE;\n",
              "      border: none;\n",
              "      border-radius: 50%;\n",
              "      cursor: pointer;\n",
              "      display: none;\n",
              "      fill: #1967D2;\n",
              "      height: 32px;\n",
              "      padding: 0 0 0 0;\n",
              "      width: 32px;\n",
              "    }\n",
              "\n",
              "    .colab-df-convert:hover {\n",
              "      background-color: #E2EBFA;\n",
              "      box-shadow: 0px 1px 2px rgba(60, 64, 67, 0.3), 0px 1px 3px 1px rgba(60, 64, 67, 0.15);\n",
              "      fill: #174EA6;\n",
              "    }\n",
              "\n",
              "    [theme=dark] .colab-df-convert {\n",
              "      background-color: #3B4455;\n",
              "      fill: #D2E3FC;\n",
              "    }\n",
              "\n",
              "    [theme=dark] .colab-df-convert:hover {\n",
              "      background-color: #434B5C;\n",
              "      box-shadow: 0px 1px 3px 1px rgba(0, 0, 0, 0.15);\n",
              "      filter: drop-shadow(0px 1px 2px rgba(0, 0, 0, 0.3));\n",
              "      fill: #FFFFFF;\n",
              "    }\n",
              "  </style>\n",
              "\n",
              "      <script>\n",
              "        const buttonEl =\n",
              "          document.querySelector('#df-ddd3842c-1727-42d2-a983-c83fcf4505d7 button.colab-df-convert');\n",
              "        buttonEl.style.display =\n",
              "          google.colab.kernel.accessAllowed ? 'block' : 'none';\n",
              "\n",
              "        async function convertToInteractive(key) {\n",
              "          const element = document.querySelector('#df-ddd3842c-1727-42d2-a983-c83fcf4505d7');\n",
              "          const dataTable =\n",
              "            await google.colab.kernel.invokeFunction('convertToInteractive',\n",
              "                                                     [key], {});\n",
              "          if (!dataTable) return;\n",
              "\n",
              "          const docLinkHtml = 'Like what you see? Visit the ' +\n",
              "            '<a target=\"_blank\" href=https://colab.research.google.com/notebooks/data_table.ipynb>data table notebook</a>'\n",
              "            + ' to learn more about interactive tables.';\n",
              "          element.innerHTML = '';\n",
              "          dataTable['output_type'] = 'display_data';\n",
              "          await google.colab.output.renderOutput(dataTable, element);\n",
              "          const docLink = document.createElement('div');\n",
              "          docLink.innerHTML = docLinkHtml;\n",
              "          element.appendChild(docLink);\n",
              "        }\n",
              "      </script>\n",
              "    </div>\n",
              "  </div>\n",
              "  "
            ]
          },
          "metadata": {},
          "execution_count": 99
        }
      ]
    },
    {
      "cell_type": "code",
      "source": [
        "Y_test"
      ],
      "metadata": {
        "id": "KNPhgKHwqpCF",
        "outputId": "8332e88f-8927-4db2-f1b3-4d14943a22dd",
        "colab": {
          "base_uri": "https://localhost:8080/"
        }
      },
      "execution_count": 100,
      "outputs": [
        {
          "output_type": "execute_result",
          "data": {
            "text/plain": [
              "53     1\n",
              "29     0\n",
              "173    1\n",
              "245    0\n",
              "109    1\n",
              "      ..\n",
              "193    1\n",
              "114    0\n",
              "60     0\n",
              "325    0\n",
              "49     1\n",
              "Name: sex, Length: 67, dtype: int64"
            ]
          },
          "metadata": {},
          "execution_count": 100
        }
      ]
    },
    {
      "cell_type": "markdown",
      "source": [
        "> ### **로지스틱 회귀**\n",
        "> - 로지스틱 회귀(Logistic Regression)은 **대표적인 2진 분류 머신러닝 알고리즘**이다.\n",
        "> - 회귀(Regression) + 시그모이드(Sigmoid Fuction)함수를 사용해서 데이터가 어떤 범주에 속할 확률을 0에서 1사이의 값으로 예측해줍니다. (2진분류 = 2가지의사항 ex:남자/여자, 참/거짓...) (시그모이드 함수 = S자형)\n",
        "> - 회귀 방법론은 변수들 사이의 관계를 '모델링'하는 기법이다. (X와 Y의 관계)\n",
        "> - ex) 스팸일 확률이 0.5이상이면 스팸으로 분류하고, 0.5보다 작으면 정상 메일로.분류한다."
      ],
      "metadata": {
        "id": "tuTsC7yWrrcm"
      }
    },
    {
      "cell_type": "markdown",
      "source": [
        "1. [Lr]모델링 정의"
      ],
      "metadata": {
        "id": "mUdvIn0EsqNk"
      }
    },
    {
      "cell_type": "code",
      "source": [
        "from sklearn.linear_model import LogisticRegression\n",
        "lr_model = LogisticRegression(verbose=2)"
      ],
      "metadata": {
        "id": "-haZBNOjqsE2"
      },
      "execution_count": 101,
      "outputs": []
    },
    {
      "cell_type": "code",
      "source": [
        "# 파리미터 종류\n",
        "lr_model.get_params()"
      ],
      "metadata": {
        "colab": {
          "base_uri": "https://localhost:8080/"
        },
        "id": "uWu-iBYss2LC",
        "outputId": "91e06c7b-c7de-4ae8-d62d-faf3b15ebd23"
      },
      "execution_count": 102,
      "outputs": [
        {
          "output_type": "execute_result",
          "data": {
            "text/plain": [
              "{'C': 1.0,\n",
              " 'class_weight': None,\n",
              " 'dual': False,\n",
              " 'fit_intercept': True,\n",
              " 'intercept_scaling': 1,\n",
              " 'l1_ratio': None,\n",
              " 'max_iter': 100,\n",
              " 'multi_class': 'auto',\n",
              " 'n_jobs': None,\n",
              " 'penalty': 'l2',\n",
              " 'random_state': None,\n",
              " 'solver': 'lbfgs',\n",
              " 'tol': 0.0001,\n",
              " 'verbose': 2,\n",
              " 'warm_start': False}"
            ]
          },
          "metadata": {},
          "execution_count": 102
        }
      ]
    },
    {
      "cell_type": "markdown",
      "source": [
        "2. [LR] 모델 학습"
      ],
      "metadata": {
        "id": "BgkgQowls-Cy"
      }
    },
    {
      "cell_type": "code",
      "source": [
        "lr_model.fit(X_train, Y_train)"
      ],
      "metadata": {
        "colab": {
          "base_uri": "https://localhost:8080/"
        },
        "id": "vbp8kkFys5G5",
        "outputId": "66ac2fc1-ce99-4645-b5d3-e480952473c4"
      },
      "execution_count": 103,
      "outputs": [
        {
          "output_type": "stream",
          "name": "stderr",
          "text": [
            "[Parallel(n_jobs=1)]: Using backend SequentialBackend with 1 concurrent workers.\n",
            "[Parallel(n_jobs=1)]: Done   1 out of   1 | elapsed:    0.1s remaining:    0.0s\n",
            "[Parallel(n_jobs=1)]: Done   1 out of   1 | elapsed:    0.1s finished\n"
          ]
        },
        {
          "output_type": "execute_result",
          "data": {
            "text/plain": [
              "LogisticRegression(verbose=2)"
            ]
          },
          "metadata": {},
          "execution_count": 103
        }
      ]
    },
    {
      "cell_type": "markdown",
      "source": [
        "3. [LR] 예측"
      ],
      "metadata": {
        "id": "Zzz--LQntEJY"
      }
    },
    {
      "cell_type": "code",
      "source": [
        "# 수컷 = 1/ 암컷 = 0\n",
        "predictions = lr_model.predict(X_test)\n",
        "predictions"
      ],
      "metadata": {
        "colab": {
          "base_uri": "https://localhost:8080/"
        },
        "id": "fiwnhubrtDAf",
        "outputId": "7a50ac7c-1614-4e3c-dd67-ce88e2c1cc31"
      },
      "execution_count": 104,
      "outputs": [
        {
          "output_type": "execute_result",
          "data": {
            "text/plain": [
              "array([1, 0, 1, 0, 1, 1, 1, 0, 1, 1, 1, 0, 0, 0, 1, 0, 0, 0, 1, 0, 1, 1,\n",
              "       0, 0, 0, 1, 1, 1, 1, 1, 0, 1, 0, 0, 0, 1, 1, 0, 1, 0, 0, 0, 0, 0,\n",
              "       0, 1, 0, 1, 1, 1, 1, 1, 0, 0, 1, 1, 0, 0, 1, 0, 0, 1, 1, 0, 0, 0,\n",
              "       1])"
            ]
          },
          "metadata": {},
          "execution_count": 104
        }
      ]
    },
    {
      "cell_type": "code",
      "source": [
        "#성능 평가\n",
        "from sklearn.metrics import accuracy_score # 정확도를 나타내는 라이브러리\n",
        "lr_acc = accuracy_score(Y_test, predictions)\n",
        "print('Logistic Regression 모델의 예측 정확도는 {}% 입니다.'.format(round(lr_acc*100)))"
      ],
      "metadata": {
        "colab": {
          "base_uri": "https://localhost:8080/"
        },
        "id": "xXvzZkEVtO7e",
        "outputId": "b847dc15-5d4f-4705-ab5b-81a0b5aa4201"
      },
      "execution_count": 105,
      "outputs": [
        {
          "output_type": "stream",
          "name": "stdout",
          "text": [
            "Logistic Regression 모델의 예측 정확도는 96% 입니다.\n"
          ]
        }
      ]
    },
    {
      "cell_type": "markdown",
      "source": [
        "> ### 최근접 이웃 분류기(KNeighborsClassifier)\n",
        "> - 입력데이터가 주어졌을때, 입력 값과 가까운 K개의 데이터가 속해 있는 범주를 예측 해주는 알고리즘\n",
        "> - 데이터 간 거리를 측정할 때 '유클리디안 거리'를 사용한다. 실제로 떨어져있는 거리"
      ],
      "metadata": {
        "id": "Cyr6YVrBtxVe"
      }
    },
    {
      "cell_type": "markdown",
      "source": [
        "1. [KNC]모델 정의"
      ],
      "metadata": {
        "id": "leMXdkoOuGq2"
      }
    },
    {
      "cell_type": "code",
      "source": [
        "from sklearn.neighbors import KNeighborsClassifier\n",
        "knc_model = KNeighborsClassifier()"
      ],
      "metadata": {
        "id": "k2LxF_UotpqV"
      },
      "execution_count": 106,
      "outputs": []
    },
    {
      "cell_type": "code",
      "source": [
        "# 파라미터 종류\n",
        "knc_model.get_params()"
      ],
      "metadata": {
        "colab": {
          "base_uri": "https://localhost:8080/"
        },
        "id": "J02-q6TkuPcu",
        "outputId": "ee81fe38-aa1a-4042-ec81-d6f352dea701"
      },
      "execution_count": 107,
      "outputs": [
        {
          "output_type": "execute_result",
          "data": {
            "text/plain": [
              "{'algorithm': 'auto',\n",
              " 'leaf_size': 30,\n",
              " 'metric': 'minkowski',\n",
              " 'metric_params': None,\n",
              " 'n_jobs': None,\n",
              " 'n_neighbors': 5,\n",
              " 'p': 2,\n",
              " 'weights': 'uniform'}"
            ]
          },
          "metadata": {},
          "execution_count": 107
        }
      ]
    },
    {
      "cell_type": "markdown",
      "source": [
        "2. [KNC] 모델 학습"
      ],
      "metadata": {
        "id": "QilDHJVtu3VK"
      }
    },
    {
      "cell_type": "code",
      "source": [
        "knc_model.fit(X_train, Y_train)"
      ],
      "metadata": {
        "colab": {
          "base_uri": "https://localhost:8080/"
        },
        "id": "mgBXNRx5usmq",
        "outputId": "b777be04-ee97-477b-a6b6-f84b6a8a3a1c"
      },
      "execution_count": 108,
      "outputs": [
        {
          "output_type": "execute_result",
          "data": {
            "text/plain": [
              "KNeighborsClassifier()"
            ]
          },
          "metadata": {},
          "execution_count": 108
        }
      ]
    },
    {
      "cell_type": "markdown",
      "source": [
        "3. [KNC]예측"
      ],
      "metadata": {
        "id": "iAC278bGu-e0"
      }
    },
    {
      "cell_type": "code",
      "source": [
        "#수컷 = 1/ 암컷 = 0\n",
        "predictions = knc_model.predict(X_test)\n",
        "predictions"
      ],
      "metadata": {
        "colab": {
          "base_uri": "https://localhost:8080/"
        },
        "id": "OFXqA6O3u8lt",
        "outputId": "dd4aabb5-0203-44c0-f5e6-92909a2d4a9a"
      },
      "execution_count": 109,
      "outputs": [
        {
          "output_type": "execute_result",
          "data": {
            "text/plain": [
              "array([0, 0, 1, 0, 1, 1, 1, 0, 1, 1, 1, 0, 0, 0, 1, 0, 0, 0, 1, 0, 1, 1,\n",
              "       0, 0, 0, 1, 1, 1, 1, 1, 0, 1, 0, 0, 0, 1, 1, 0, 1, 0, 0, 0, 0, 0,\n",
              "       0, 1, 0, 1, 1, 1, 1, 1, 0, 0, 1, 1, 0, 0, 1, 0, 0, 1, 1, 0, 0, 0,\n",
              "       1])"
            ]
          },
          "metadata": {},
          "execution_count": 109
        }
      ]
    },
    {
      "cell_type": "code",
      "source": [
        "# 성능 평가\n",
        "knc_acc = accuracy_score(Y_test, predictions)\n",
        "print('KNeighborsClassifier 모델의 예측 정확도는 {}% 입니다.'.format(round(knc_acc*100)))"
      ],
      "metadata": {
        "colab": {
          "base_uri": "https://localhost:8080/"
        },
        "id": "I1BzmjcGvH4i",
        "outputId": "609710b3-0058-4701-9641-617a458cba4a"
      },
      "execution_count": 110,
      "outputs": [
        {
          "output_type": "stream",
          "name": "stdout",
          "text": [
            "KNeighborsClassifier 모델의 예측 정확도는 94% 입니다.\n"
          ]
        }
      ]
    },
    {
      "cell_type": "markdown",
      "source": [
        "> ### 의사결정나무(Decision Tree)\n",
        "> - 의사 결정 나무(Decision Tree)란 의사 결정 규칙을 나무(tree)구조로 나타내어서**전체 데이터를 분류** 하거나, **수치형 자료를 예측**하는데 모두 사용할 수 있는 알고리즘입니다.\n",
        "> - 의사결정 나무 알고리즘은 **가지분할(split)**, **가지치기(pruning)**방법을 사용해서 복잡한 모델에서 단순화 과정을 거칩니다.\n",
        "> - 나무 모형의 크기에 따라 머신 러닝 성능이 달라지기 때문에 적절한 크기로 설정해주어야 한다."
      ],
      "metadata": {
        "id": "v1Kv9zGOvoiy"
      }
    },
    {
      "cell_type": "markdown",
      "source": [
        "1. [DT] 모델 정의"
      ],
      "metadata": {
        "id": "oXLa7fO3wMwQ"
      }
    },
    {
      "cell_type": "code",
      "source": [
        "from sklearn.tree import DecisionTreeClassifier\n",
        "dtc_model = DecisionTreeClassifier()"
      ],
      "metadata": {
        "id": "3c0kttAFvbMT"
      },
      "execution_count": 111,
      "outputs": []
    },
    {
      "cell_type": "code",
      "source": [
        "dtc_model.get_params()"
      ],
      "metadata": {
        "colab": {
          "base_uri": "https://localhost:8080/"
        },
        "id": "xXdgpR1DwVbH",
        "outputId": "cdc1b4fd-5cfd-4648-bd0e-02ca90de666b"
      },
      "execution_count": 112,
      "outputs": [
        {
          "output_type": "execute_result",
          "data": {
            "text/plain": [
              "{'ccp_alpha': 0.0,\n",
              " 'class_weight': None,\n",
              " 'criterion': 'gini',\n",
              " 'max_depth': None,\n",
              " 'max_features': None,\n",
              " 'max_leaf_nodes': None,\n",
              " 'min_impurity_decrease': 0.0,\n",
              " 'min_samples_leaf': 1,\n",
              " 'min_samples_split': 2,\n",
              " 'min_weight_fraction_leaf': 0.0,\n",
              " 'random_state': None,\n",
              " 'splitter': 'best'}"
            ]
          },
          "metadata": {},
          "execution_count": 112
        }
      ]
    },
    {
      "cell_type": "markdown",
      "source": [
        "2. [DT]모델 학습"
      ],
      "metadata": {
        "id": "IyHMvYZMwbRK"
      }
    },
    {
      "cell_type": "code",
      "source": [
        "dtc_model.fit(X_train, Y_train)"
      ],
      "metadata": {
        "colab": {
          "base_uri": "https://localhost:8080/"
        },
        "id": "1HgmFnwcwXYi",
        "outputId": "d10e6d9f-e9b7-4d3d-9a1f-9fc29c51bfb9"
      },
      "execution_count": 113,
      "outputs": [
        {
          "output_type": "execute_result",
          "data": {
            "text/plain": [
              "DecisionTreeClassifier()"
            ]
          },
          "metadata": {},
          "execution_count": 113
        }
      ]
    },
    {
      "cell_type": "code",
      "source": [
        "# 학습된 나무 시각화\n",
        "from sklearn.tree import export_graphviz\n",
        "import graphviz\n",
        "\n",
        "dot_data = export_graphviz(dtc_model, filled = True)\n",
        "graphviz.Source(dot_data)"
      ],
      "metadata": {
        "colab": {
          "base_uri": "https://localhost:8080/",
          "height": 1000
        },
        "id": "icgZPFdawgp3",
        "outputId": "c13cdce1-032e-43a6-ff80-972eee8b0b27"
      },
      "execution_count": 114,
      "outputs": [
        {
          "output_type": "execute_result",
          "data": {
            "text/plain": [
              "<graphviz.files.Source at 0x7f3c6f52a890>"
            ],
            "image/svg+xml": "<?xml version=\"1.0\" encoding=\"UTF-8\" standalone=\"no\"?>\n<!DOCTYPE svg PUBLIC \"-//W3C//DTD SVG 1.1//EN\"\n \"http://www.w3.org/Graphics/SVG/1.1/DTD/svg11.dtd\">\n<!-- Generated by graphviz version 2.40.1 (20161225.0304)\n -->\n<!-- Title: Tree Pages: 1 -->\n<svg width=\"2166pt\" height=\"997pt\"\n viewBox=\"0.00 0.00 2166.00 997.00\" xmlns=\"http://www.w3.org/2000/svg\" xmlns:xlink=\"http://www.w3.org/1999/xlink\">\n<g id=\"graph0\" class=\"graph\" transform=\"scale(1 1) rotate(0) translate(4 993)\">\n<title>Tree</title>\n<polygon fill=\"#ffffff\" stroke=\"transparent\" points=\"-4,4 -4,-993 2162,-993 2162,4 -4,4\"/>\n<!-- 0 -->\n<g id=\"node1\" class=\"node\">\n<title>0</title>\n<polygon fill=\"#fcfeff\" stroke=\"#000000\" points=\"1009.5,-989 877.5,-989 877.5,-921 1009.5,-921 1009.5,-989\"/>\n<text text-anchor=\"middle\" x=\"943.5\" y=\"-973.8\" font-family=\"Helvetica,sans-Serif\" font-size=\"14.00\" fill=\"#000000\">X[5] &lt;= &#45;0.615</text>\n<text text-anchor=\"middle\" x=\"943.5\" y=\"-958.8\" font-family=\"Helvetica,sans-Serif\" font-size=\"14.00\" fill=\"#000000\">gini = 0.5</text>\n<text text-anchor=\"middle\" x=\"943.5\" y=\"-943.8\" font-family=\"Helvetica,sans-Serif\" font-size=\"14.00\" fill=\"#000000\">samples = 266</text>\n<text text-anchor=\"middle\" x=\"943.5\" y=\"-928.8\" font-family=\"Helvetica,sans-Serif\" font-size=\"14.00\" fill=\"#000000\">value = [132, 134]</text>\n</g>\n<!-- 1 -->\n<g id=\"node2\" class=\"node\">\n<title>1</title>\n<polygon fill=\"#ea9b62\" stroke=\"#000000\" points=\"774.5,-885 658.5,-885 658.5,-817 774.5,-817 774.5,-885\"/>\n<text text-anchor=\"middle\" x=\"716.5\" y=\"-869.8\" font-family=\"Helvetica,sans-Serif\" font-size=\"14.00\" fill=\"#000000\">X[3] &lt;= 0.704</text>\n<text text-anchor=\"middle\" x=\"716.5\" y=\"-854.8\" font-family=\"Helvetica,sans-Serif\" font-size=\"14.00\" fill=\"#000000\">gini = 0.283</text>\n<text text-anchor=\"middle\" x=\"716.5\" y=\"-839.8\" font-family=\"Helvetica,sans-Serif\" font-size=\"14.00\" fill=\"#000000\">samples = 88</text>\n<text text-anchor=\"middle\" x=\"716.5\" y=\"-824.8\" font-family=\"Helvetica,sans-Serif\" font-size=\"14.00\" fill=\"#000000\">value = [73, 15]</text>\n</g>\n<!-- 0&#45;&gt;1 -->\n<g id=\"edge1\" class=\"edge\">\n<title>0&#45;&gt;1</title>\n<path fill=\"none\" stroke=\"#000000\" d=\"M877.232,-924.6393C847.9472,-911.2225 813.5565,-895.4664 784.1176,-881.979\"/>\n<polygon fill=\"#000000\" stroke=\"#000000\" points=\"785.2953,-878.6688 774.7462,-877.6855 782.3797,-885.0327 785.2953,-878.6688\"/>\n<text text-anchor=\"middle\" x=\"783.4544\" y=\"-897.4198\" font-family=\"Helvetica,sans-Serif\" font-size=\"14.00\" fill=\"#000000\">True</text>\n</g>\n<!-- 24 -->\n<g id=\"node25\" class=\"node\">\n<title>24</title>\n<polygon fill=\"#9bcef2\" stroke=\"#000000\" points=\"1077.5,-885 953.5,-885 953.5,-817 1077.5,-817 1077.5,-885\"/>\n<text text-anchor=\"middle\" x=\"1015.5\" y=\"-869.8\" font-family=\"Helvetica,sans-Serif\" font-size=\"14.00\" fill=\"#000000\">X[3] &lt;= &#45;1.152</text>\n<text text-anchor=\"middle\" x=\"1015.5\" y=\"-854.8\" font-family=\"Helvetica,sans-Serif\" font-size=\"14.00\" fill=\"#000000\">gini = 0.443</text>\n<text text-anchor=\"middle\" x=\"1015.5\" y=\"-839.8\" font-family=\"Helvetica,sans-Serif\" font-size=\"14.00\" fill=\"#000000\">samples = 178</text>\n<text text-anchor=\"middle\" x=\"1015.5\" y=\"-824.8\" font-family=\"Helvetica,sans-Serif\" font-size=\"14.00\" fill=\"#000000\">value = [59, 119]</text>\n</g>\n<!-- 0&#45;&gt;24 -->\n<g id=\"edge24\" class=\"edge\">\n<title>0&#45;&gt;24</title>\n<path fill=\"none\" stroke=\"#000000\" d=\"M967.0755,-920.9465C973.1671,-912.1475 979.7996,-902.5672 986.1466,-893.3993\"/>\n<polygon fill=\"#000000\" stroke=\"#000000\" points=\"989.0571,-895.3442 991.8715,-885.13 983.3017,-891.3597 989.0571,-895.3442\"/>\n<text text-anchor=\"middle\" x=\"996.3437\" y=\"-906.0267\" font-family=\"Helvetica,sans-Serif\" font-size=\"14.00\" fill=\"#000000\">False</text>\n</g>\n<!-- 2 -->\n<g id=\"node3\" class=\"node\">\n<title>2</title>\n<polygon fill=\"#e6853f\" stroke=\"#000000\" points=\"413,-781 306,-781 306,-713 413,-713 413,-781\"/>\n<text text-anchor=\"middle\" x=\"359.5\" y=\"-765.8\" font-family=\"Helvetica,sans-Serif\" font-size=\"14.00\" fill=\"#000000\">X[2] &lt;= 0.789</text>\n<text text-anchor=\"middle\" x=\"359.5\" y=\"-750.8\" font-family=\"Helvetica,sans-Serif\" font-size=\"14.00\" fill=\"#000000\">gini = 0.061</text>\n<text text-anchor=\"middle\" x=\"359.5\" y=\"-735.8\" font-family=\"Helvetica,sans-Serif\" font-size=\"14.00\" fill=\"#000000\">samples = 64</text>\n<text text-anchor=\"middle\" x=\"359.5\" y=\"-720.8\" font-family=\"Helvetica,sans-Serif\" font-size=\"14.00\" fill=\"#000000\">value = [62, 2]</text>\n</g>\n<!-- 1&#45;&gt;2 -->\n<g id=\"edge2\" class=\"edge\">\n<title>1&#45;&gt;2</title>\n<path fill=\"none\" stroke=\"#000000\" d=\"M658.3472,-834.0591C593.7929,-815.2534 489.9307,-784.9966 423.2164,-765.5616\"/>\n<polygon fill=\"#000000\" stroke=\"#000000\" points=\"423.826,-762.0938 413.2461,-762.6571 421.8681,-768.8144 423.826,-762.0938\"/>\n</g>\n<!-- 11 -->\n<g id=\"node12\" class=\"node\">\n<title>11</title>\n<polygon fill=\"#e1f0fb\" stroke=\"#000000\" points=\"774.5,-781 658.5,-781 658.5,-713 774.5,-713 774.5,-781\"/>\n<text text-anchor=\"middle\" x=\"716.5\" y=\"-765.8\" font-family=\"Helvetica,sans-Serif\" font-size=\"14.00\" fill=\"#000000\">X[2] &lt;= &#45;0.896</text>\n<text text-anchor=\"middle\" x=\"716.5\" y=\"-750.8\" font-family=\"Helvetica,sans-Serif\" font-size=\"14.00\" fill=\"#000000\">gini = 0.497</text>\n<text text-anchor=\"middle\" x=\"716.5\" y=\"-735.8\" font-family=\"Helvetica,sans-Serif\" font-size=\"14.00\" fill=\"#000000\">samples = 24</text>\n<text text-anchor=\"middle\" x=\"716.5\" y=\"-720.8\" font-family=\"Helvetica,sans-Serif\" font-size=\"14.00\" fill=\"#000000\">value = [11, 13]</text>\n</g>\n<!-- 1&#45;&gt;11 -->\n<g id=\"edge11\" class=\"edge\">\n<title>1&#45;&gt;11</title>\n<path fill=\"none\" stroke=\"#000000\" d=\"M716.5,-816.9465C716.5,-808.776 716.5,-799.9318 716.5,-791.3697\"/>\n<polygon fill=\"#000000\" stroke=\"#000000\" points=\"720.0001,-791.13 716.5,-781.13 713.0001,-791.13 720.0001,-791.13\"/>\n</g>\n<!-- 3 -->\n<g id=\"node4\" class=\"node\">\n<title>3</title>\n<polygon fill=\"#e5833c\" stroke=\"#000000\" points=\"232,-677 125,-677 125,-609 232,-609 232,-677\"/>\n<text text-anchor=\"middle\" x=\"178.5\" y=\"-661.8\" font-family=\"Helvetica,sans-Serif\" font-size=\"14.00\" fill=\"#000000\">X[2] &lt;= &#45;0.63</text>\n<text text-anchor=\"middle\" x=\"178.5\" y=\"-646.8\" font-family=\"Helvetica,sans-Serif\" font-size=\"14.00\" fill=\"#000000\">gini = 0.034</text>\n<text text-anchor=\"middle\" x=\"178.5\" y=\"-631.8\" font-family=\"Helvetica,sans-Serif\" font-size=\"14.00\" fill=\"#000000\">samples = 58</text>\n<text text-anchor=\"middle\" x=\"178.5\" y=\"-616.8\" font-family=\"Helvetica,sans-Serif\" font-size=\"14.00\" fill=\"#000000\">value = [57, 1]</text>\n</g>\n<!-- 2&#45;&gt;3 -->\n<g id=\"edge3\" class=\"edge\">\n<title>2&#45;&gt;3</title>\n<path fill=\"none\" stroke=\"#000000\" d=\"M305.6841,-716.0782C285.3507,-704.3949 262.0434,-691.0028 240.9821,-678.9013\"/>\n<polygon fill=\"#000000\" stroke=\"#000000\" points=\"242.5229,-675.75 232.1086,-673.8027 239.0355,-681.8195 242.5229,-675.75\"/>\n</g>\n<!-- 8 -->\n<g id=\"node9\" class=\"node\">\n<title>8</title>\n<polygon fill=\"#ea9a61\" stroke=\"#000000\" points=\"411,-677 308,-677 308,-609 411,-609 411,-677\"/>\n<text text-anchor=\"middle\" x=\"359.5\" y=\"-661.8\" font-family=\"Helvetica,sans-Serif\" font-size=\"14.00\" fill=\"#000000\">X[2] &lt;= 0.944</text>\n<text text-anchor=\"middle\" x=\"359.5\" y=\"-646.8\" font-family=\"Helvetica,sans-Serif\" font-size=\"14.00\" fill=\"#000000\">gini = 0.278</text>\n<text text-anchor=\"middle\" x=\"359.5\" y=\"-631.8\" font-family=\"Helvetica,sans-Serif\" font-size=\"14.00\" fill=\"#000000\">samples = 6</text>\n<text text-anchor=\"middle\" x=\"359.5\" y=\"-616.8\" font-family=\"Helvetica,sans-Serif\" font-size=\"14.00\" fill=\"#000000\">value = [5, 1]</text>\n</g>\n<!-- 2&#45;&gt;8 -->\n<g id=\"edge8\" class=\"edge\">\n<title>2&#45;&gt;8</title>\n<path fill=\"none\" stroke=\"#000000\" d=\"M359.5,-712.9465C359.5,-704.776 359.5,-695.9318 359.5,-687.3697\"/>\n<polygon fill=\"#000000\" stroke=\"#000000\" points=\"363.0001,-687.13 359.5,-677.13 356.0001,-687.13 363.0001,-687.13\"/>\n</g>\n<!-- 4 -->\n<g id=\"node5\" class=\"node\">\n<title>4</title>\n<polygon fill=\"#e58139\" stroke=\"#000000\" points=\"107,-565.5 0,-565.5 0,-512.5 107,-512.5 107,-565.5\"/>\n<text text-anchor=\"middle\" x=\"53.5\" y=\"-550.3\" font-family=\"Helvetica,sans-Serif\" font-size=\"14.00\" fill=\"#000000\">gini = 0.0</text>\n<text text-anchor=\"middle\" x=\"53.5\" y=\"-535.3\" font-family=\"Helvetica,sans-Serif\" font-size=\"14.00\" fill=\"#000000\">samples = 37</text>\n<text text-anchor=\"middle\" x=\"53.5\" y=\"-520.3\" font-family=\"Helvetica,sans-Serif\" font-size=\"14.00\" fill=\"#000000\">value = [37, 0]</text>\n</g>\n<!-- 3&#45;&gt;4 -->\n<g id=\"edge4\" class=\"edge\">\n<title>3&#45;&gt;4</title>\n<path fill=\"none\" stroke=\"#000000\" d=\"M137.5703,-608.9465C123.4045,-597.1606 107.5537,-583.9726 93.4662,-572.2519\"/>\n<polygon fill=\"#000000\" stroke=\"#000000\" points=\"95.3275,-569.2474 85.4016,-565.5422 90.8504,-574.6285 95.3275,-569.2474\"/>\n</g>\n<!-- 5 -->\n<g id=\"node6\" class=\"node\">\n<title>5</title>\n<polygon fill=\"#e68743\" stroke=\"#000000\" points=\"232,-573 125,-573 125,-505 232,-505 232,-573\"/>\n<text text-anchor=\"middle\" x=\"178.5\" y=\"-557.8\" font-family=\"Helvetica,sans-Serif\" font-size=\"14.00\" fill=\"#000000\">X[2] &lt;= &#45;0.594</text>\n<text text-anchor=\"middle\" x=\"178.5\" y=\"-542.8\" font-family=\"Helvetica,sans-Serif\" font-size=\"14.00\" fill=\"#000000\">gini = 0.091</text>\n<text text-anchor=\"middle\" x=\"178.5\" y=\"-527.8\" font-family=\"Helvetica,sans-Serif\" font-size=\"14.00\" fill=\"#000000\">samples = 21</text>\n<text text-anchor=\"middle\" x=\"178.5\" y=\"-512.8\" font-family=\"Helvetica,sans-Serif\" font-size=\"14.00\" fill=\"#000000\">value = [20, 1]</text>\n</g>\n<!-- 3&#45;&gt;5 -->\n<g id=\"edge5\" class=\"edge\">\n<title>3&#45;&gt;5</title>\n<path fill=\"none\" stroke=\"#000000\" d=\"M178.5,-608.9465C178.5,-600.776 178.5,-591.9318 178.5,-583.3697\"/>\n<polygon fill=\"#000000\" stroke=\"#000000\" points=\"182.0001,-583.13 178.5,-573.13 175.0001,-583.13 182.0001,-583.13\"/>\n</g>\n<!-- 6 -->\n<g id=\"node7\" class=\"node\">\n<title>6</title>\n<polygon fill=\"#399de5\" stroke=\"#000000\" points=\"168,-461.5 69,-461.5 69,-408.5 168,-408.5 168,-461.5\"/>\n<text text-anchor=\"middle\" x=\"118.5\" y=\"-446.3\" font-family=\"Helvetica,sans-Serif\" font-size=\"14.00\" fill=\"#000000\">gini = 0.0</text>\n<text text-anchor=\"middle\" x=\"118.5\" y=\"-431.3\" font-family=\"Helvetica,sans-Serif\" font-size=\"14.00\" fill=\"#000000\">samples = 1</text>\n<text text-anchor=\"middle\" x=\"118.5\" y=\"-416.3\" font-family=\"Helvetica,sans-Serif\" font-size=\"14.00\" fill=\"#000000\">value = [0, 1]</text>\n</g>\n<!-- 5&#45;&gt;6 -->\n<g id=\"edge6\" class=\"edge\">\n<title>5&#45;&gt;6</title>\n<path fill=\"none\" stroke=\"#000000\" d=\"M158.8538,-504.9465C152.4355,-493.8215 145.2965,-481.4473 138.829,-470.237\"/>\n<polygon fill=\"#000000\" stroke=\"#000000\" points=\"141.8417,-468.455 133.8128,-461.5422 135.7784,-471.9531 141.8417,-468.455\"/>\n</g>\n<!-- 7 -->\n<g id=\"node8\" class=\"node\">\n<title>7</title>\n<polygon fill=\"#e58139\" stroke=\"#000000\" points=\"293,-461.5 186,-461.5 186,-408.5 293,-408.5 293,-461.5\"/>\n<text text-anchor=\"middle\" x=\"239.5\" y=\"-446.3\" font-family=\"Helvetica,sans-Serif\" font-size=\"14.00\" fill=\"#000000\">gini = 0.0</text>\n<text text-anchor=\"middle\" x=\"239.5\" y=\"-431.3\" font-family=\"Helvetica,sans-Serif\" font-size=\"14.00\" fill=\"#000000\">samples = 20</text>\n<text text-anchor=\"middle\" x=\"239.5\" y=\"-416.3\" font-family=\"Helvetica,sans-Serif\" font-size=\"14.00\" fill=\"#000000\">value = [20, 0]</text>\n</g>\n<!-- 5&#45;&gt;7 -->\n<g id=\"edge7\" class=\"edge\">\n<title>5&#45;&gt;7</title>\n<path fill=\"none\" stroke=\"#000000\" d=\"M198.4737,-504.9465C204.999,-493.8215 212.2569,-481.4473 218.8322,-470.237\"/>\n<polygon fill=\"#000000\" stroke=\"#000000\" points=\"221.8916,-471.9387 223.932,-461.5422 215.8536,-468.3971 221.8916,-471.9387\"/>\n</g>\n<!-- 9 -->\n<g id=\"node10\" class=\"node\">\n<title>9</title>\n<polygon fill=\"#399de5\" stroke=\"#000000\" points=\"349,-565.5 250,-565.5 250,-512.5 349,-512.5 349,-565.5\"/>\n<text text-anchor=\"middle\" x=\"299.5\" y=\"-550.3\" font-family=\"Helvetica,sans-Serif\" font-size=\"14.00\" fill=\"#000000\">gini = 0.0</text>\n<text text-anchor=\"middle\" x=\"299.5\" y=\"-535.3\" font-family=\"Helvetica,sans-Serif\" font-size=\"14.00\" fill=\"#000000\">samples = 1</text>\n<text text-anchor=\"middle\" x=\"299.5\" y=\"-520.3\" font-family=\"Helvetica,sans-Serif\" font-size=\"14.00\" fill=\"#000000\">value = [0, 1]</text>\n</g>\n<!-- 8&#45;&gt;9 -->\n<g id=\"edge9\" class=\"edge\">\n<title>8&#45;&gt;9</title>\n<path fill=\"none\" stroke=\"#000000\" d=\"M339.8538,-608.9465C333.4355,-597.8215 326.2965,-585.4473 319.829,-574.237\"/>\n<polygon fill=\"#000000\" stroke=\"#000000\" points=\"322.8417,-572.455 314.8128,-565.5422 316.7784,-575.9531 322.8417,-572.455\"/>\n</g>\n<!-- 10 -->\n<g id=\"node11\" class=\"node\">\n<title>10</title>\n<polygon fill=\"#e58139\" stroke=\"#000000\" points=\"466,-565.5 367,-565.5 367,-512.5 466,-512.5 466,-565.5\"/>\n<text text-anchor=\"middle\" x=\"416.5\" y=\"-550.3\" font-family=\"Helvetica,sans-Serif\" font-size=\"14.00\" fill=\"#000000\">gini = 0.0</text>\n<text text-anchor=\"middle\" x=\"416.5\" y=\"-535.3\" font-family=\"Helvetica,sans-Serif\" font-size=\"14.00\" fill=\"#000000\">samples = 5</text>\n<text text-anchor=\"middle\" x=\"416.5\" y=\"-520.3\" font-family=\"Helvetica,sans-Serif\" font-size=\"14.00\" fill=\"#000000\">value = [5, 0]</text>\n</g>\n<!-- 8&#45;&gt;10 -->\n<g id=\"edge10\" class=\"edge\">\n<title>8&#45;&gt;10</title>\n<path fill=\"none\" stroke=\"#000000\" d=\"M378.1639,-608.9465C384.2009,-597.9316 390.9091,-585.6922 397.0047,-574.5703\"/>\n<polygon fill=\"#000000\" stroke=\"#000000\" points=\"400.2158,-575.9936 401.9529,-565.5422 394.0773,-572.6292 400.2158,-575.9936\"/>\n</g>\n<!-- 12 -->\n<g id=\"node13\" class=\"node\">\n<title>12</title>\n<polygon fill=\"#eca06a\" stroke=\"#000000\" points=\"708,-677 601,-677 601,-609 708,-609 708,-677\"/>\n<text text-anchor=\"middle\" x=\"654.5\" y=\"-661.8\" font-family=\"Helvetica,sans-Serif\" font-size=\"14.00\" fill=\"#000000\">X[4] &lt;= &#45;0.319</text>\n<text text-anchor=\"middle\" x=\"654.5\" y=\"-646.8\" font-family=\"Helvetica,sans-Serif\" font-size=\"14.00\" fill=\"#000000\">gini = 0.32</text>\n<text text-anchor=\"middle\" x=\"654.5\" y=\"-631.8\" font-family=\"Helvetica,sans-Serif\" font-size=\"14.00\" fill=\"#000000\">samples = 10</text>\n<text text-anchor=\"middle\" x=\"654.5\" y=\"-616.8\" font-family=\"Helvetica,sans-Serif\" font-size=\"14.00\" fill=\"#000000\">value = [8, 2]</text>\n</g>\n<!-- 11&#45;&gt;12 -->\n<g id=\"edge12\" class=\"edge\">\n<title>11&#45;&gt;12</title>\n<path fill=\"none\" stroke=\"#000000\" d=\"M696.1989,-712.9465C691.0604,-704.3271 685.4749,-694.9579 680.1114,-685.9611\"/>\n<polygon fill=\"#000000\" stroke=\"#000000\" points=\"682.9737,-683.9272 674.8467,-677.13 676.9611,-687.5117 682.9737,-683.9272\"/>\n</g>\n<!-- 19 -->\n<g id=\"node20\" class=\"node\">\n<title>19</title>\n<polygon fill=\"#6fb8ec\" stroke=\"#000000\" points=\"833,-677 726,-677 726,-609 833,-609 833,-677\"/>\n<text text-anchor=\"middle\" x=\"779.5\" y=\"-661.8\" font-family=\"Helvetica,sans-Serif\" font-size=\"14.00\" fill=\"#000000\">X[0] &lt;= 0.5</text>\n<text text-anchor=\"middle\" x=\"779.5\" y=\"-646.8\" font-family=\"Helvetica,sans-Serif\" font-size=\"14.00\" fill=\"#000000\">gini = 0.337</text>\n<text text-anchor=\"middle\" x=\"779.5\" y=\"-631.8\" font-family=\"Helvetica,sans-Serif\" font-size=\"14.00\" fill=\"#000000\">samples = 14</text>\n<text text-anchor=\"middle\" x=\"779.5\" y=\"-616.8\" font-family=\"Helvetica,sans-Serif\" font-size=\"14.00\" fill=\"#000000\">value = [3, 11]</text>\n</g>\n<!-- 11&#45;&gt;19 -->\n<g id=\"edge19\" class=\"edge\">\n<title>11&#45;&gt;19</title>\n<path fill=\"none\" stroke=\"#000000\" d=\"M737.1286,-712.9465C742.3499,-704.3271 748.0255,-694.9579 753.4755,-685.9611\"/>\n<polygon fill=\"#000000\" stroke=\"#000000\" points=\"756.6374,-687.4965 758.8251,-677.13 750.6503,-683.8697 756.6374,-687.4965\"/>\n</g>\n<!-- 13 -->\n<g id=\"node14\" class=\"node\">\n<title>13</title>\n<polygon fill=\"#e89152\" stroke=\"#000000\" points=\"591,-573 484,-573 484,-505 591,-505 591,-573\"/>\n<text text-anchor=\"middle\" x=\"537.5\" y=\"-557.8\" font-family=\"Helvetica,sans-Serif\" font-size=\"14.00\" fill=\"#000000\">X[4] &lt;= &#45;1.177</text>\n<text text-anchor=\"middle\" x=\"537.5\" y=\"-542.8\" font-family=\"Helvetica,sans-Serif\" font-size=\"14.00\" fill=\"#000000\">gini = 0.198</text>\n<text text-anchor=\"middle\" x=\"537.5\" y=\"-527.8\" font-family=\"Helvetica,sans-Serif\" font-size=\"14.00\" fill=\"#000000\">samples = 9</text>\n<text text-anchor=\"middle\" x=\"537.5\" y=\"-512.8\" font-family=\"Helvetica,sans-Serif\" font-size=\"14.00\" fill=\"#000000\">value = [8, 1]</text>\n</g>\n<!-- 12&#45;&gt;13 -->\n<g id=\"edge13\" class=\"edge\">\n<title>12&#45;&gt;13</title>\n<path fill=\"none\" stroke=\"#000000\" d=\"M616.1898,-608.9465C605.7859,-599.6986 594.411,-589.5876 583.6243,-579.9994\"/>\n<polygon fill=\"#000000\" stroke=\"#000000\" points=\"585.6956,-577.1577 575.8962,-573.13 581.0451,-582.3896 585.6956,-577.1577\"/>\n</g>\n<!-- 18 -->\n<g id=\"node19\" class=\"node\">\n<title>18</title>\n<polygon fill=\"#399de5\" stroke=\"#000000\" points=\"708,-565.5 609,-565.5 609,-512.5 708,-512.5 708,-565.5\"/>\n<text text-anchor=\"middle\" x=\"658.5\" y=\"-550.3\" font-family=\"Helvetica,sans-Serif\" font-size=\"14.00\" fill=\"#000000\">gini = 0.0</text>\n<text text-anchor=\"middle\" x=\"658.5\" y=\"-535.3\" font-family=\"Helvetica,sans-Serif\" font-size=\"14.00\" fill=\"#000000\">samples = 1</text>\n<text text-anchor=\"middle\" x=\"658.5\" y=\"-520.3\" font-family=\"Helvetica,sans-Serif\" font-size=\"14.00\" fill=\"#000000\">value = [0, 1]</text>\n</g>\n<!-- 12&#45;&gt;18 -->\n<g id=\"edge18\" class=\"edge\">\n<title>12&#45;&gt;18</title>\n<path fill=\"none\" stroke=\"#000000\" d=\"M655.8097,-608.9465C656.2207,-598.2621 656.6759,-586.4254 657.0933,-575.5742\"/>\n<polygon fill=\"#000000\" stroke=\"#000000\" points=\"660.5921,-575.6693 657.4791,-565.5422 653.5973,-575.4002 660.5921,-575.6693\"/>\n</g>\n<!-- 14 -->\n<g id=\"node15\" class=\"node\">\n<title>14</title>\n<polygon fill=\"#ffffff\" stroke=\"#000000\" points=\"535,-469 428,-469 428,-401 535,-401 535,-469\"/>\n<text text-anchor=\"middle\" x=\"481.5\" y=\"-453.8\" font-family=\"Helvetica,sans-Serif\" font-size=\"14.00\" fill=\"#000000\">X[5] &lt;= &#45;1.035</text>\n<text text-anchor=\"middle\" x=\"481.5\" y=\"-438.8\" font-family=\"Helvetica,sans-Serif\" font-size=\"14.00\" fill=\"#000000\">gini = 0.5</text>\n<text text-anchor=\"middle\" x=\"481.5\" y=\"-423.8\" font-family=\"Helvetica,sans-Serif\" font-size=\"14.00\" fill=\"#000000\">samples = 2</text>\n<text text-anchor=\"middle\" x=\"481.5\" y=\"-408.8\" font-family=\"Helvetica,sans-Serif\" font-size=\"14.00\" fill=\"#000000\">value = [1, 1]</text>\n</g>\n<!-- 13&#45;&gt;14 -->\n<g id=\"edge14\" class=\"edge\">\n<title>13&#45;&gt;14</title>\n<path fill=\"none\" stroke=\"#000000\" d=\"M519.1635,-504.9465C514.5223,-496.3271 509.4773,-486.9579 504.6329,-477.9611\"/>\n<polygon fill=\"#000000\" stroke=\"#000000\" points=\"507.7004,-476.2754 499.8777,-469.13 501.5371,-479.5941 507.7004,-476.2754\"/>\n</g>\n<!-- 17 -->\n<g id=\"node18\" class=\"node\">\n<title>17</title>\n<polygon fill=\"#e58139\" stroke=\"#000000\" points=\"652,-461.5 553,-461.5 553,-408.5 652,-408.5 652,-461.5\"/>\n<text text-anchor=\"middle\" x=\"602.5\" y=\"-446.3\" font-family=\"Helvetica,sans-Serif\" font-size=\"14.00\" fill=\"#000000\">gini = 0.0</text>\n<text text-anchor=\"middle\" x=\"602.5\" y=\"-431.3\" font-family=\"Helvetica,sans-Serif\" font-size=\"14.00\" fill=\"#000000\">samples = 7</text>\n<text text-anchor=\"middle\" x=\"602.5\" y=\"-416.3\" font-family=\"Helvetica,sans-Serif\" font-size=\"14.00\" fill=\"#000000\">value = [7, 0]</text>\n</g>\n<!-- 13&#45;&gt;17 -->\n<g id=\"edge17\" class=\"edge\">\n<title>13&#45;&gt;17</title>\n<path fill=\"none\" stroke=\"#000000\" d=\"M558.7834,-504.9465C565.7366,-493.8215 573.4705,-481.4473 580.4769,-470.237\"/>\n<polygon fill=\"#000000\" stroke=\"#000000\" points=\"583.5791,-471.8772 585.9111,-461.5422 577.6431,-468.1671 583.5791,-471.8772\"/>\n</g>\n<!-- 15 -->\n<g id=\"node16\" class=\"node\">\n<title>15</title>\n<polygon fill=\"#e58139\" stroke=\"#000000\" points=\"472,-357.5 373,-357.5 373,-304.5 472,-304.5 472,-357.5\"/>\n<text text-anchor=\"middle\" x=\"422.5\" y=\"-342.3\" font-family=\"Helvetica,sans-Serif\" font-size=\"14.00\" fill=\"#000000\">gini = 0.0</text>\n<text text-anchor=\"middle\" x=\"422.5\" y=\"-327.3\" font-family=\"Helvetica,sans-Serif\" font-size=\"14.00\" fill=\"#000000\">samples = 1</text>\n<text text-anchor=\"middle\" x=\"422.5\" y=\"-312.3\" font-family=\"Helvetica,sans-Serif\" font-size=\"14.00\" fill=\"#000000\">value = [1, 0]</text>\n</g>\n<!-- 14&#45;&gt;15 -->\n<g id=\"edge15\" class=\"edge\">\n<title>14&#45;&gt;15</title>\n<path fill=\"none\" stroke=\"#000000\" d=\"M462.1812,-400.9465C455.9324,-389.9316 448.9888,-377.6922 442.6793,-366.5703\"/>\n<polygon fill=\"#000000\" stroke=\"#000000\" points=\"445.5362,-364.513 437.5576,-357.5422 439.4477,-367.967 445.5362,-364.513\"/>\n</g>\n<!-- 16 -->\n<g id=\"node17\" class=\"node\">\n<title>16</title>\n<polygon fill=\"#399de5\" stroke=\"#000000\" points=\"589,-357.5 490,-357.5 490,-304.5 589,-304.5 589,-357.5\"/>\n<text text-anchor=\"middle\" x=\"539.5\" y=\"-342.3\" font-family=\"Helvetica,sans-Serif\" font-size=\"14.00\" fill=\"#000000\">gini = 0.0</text>\n<text text-anchor=\"middle\" x=\"539.5\" y=\"-327.3\" font-family=\"Helvetica,sans-Serif\" font-size=\"14.00\" fill=\"#000000\">samples = 1</text>\n<text text-anchor=\"middle\" x=\"539.5\" y=\"-312.3\" font-family=\"Helvetica,sans-Serif\" font-size=\"14.00\" fill=\"#000000\">value = [0, 1]</text>\n</g>\n<!-- 14&#45;&gt;16 -->\n<g id=\"edge16\" class=\"edge\">\n<title>14&#45;&gt;16</title>\n<path fill=\"none\" stroke=\"#000000\" d=\"M500.4914,-400.9465C506.6343,-389.9316 513.4601,-377.6922 519.6627,-366.5703\"/>\n<polygon fill=\"#000000\" stroke=\"#000000\" points=\"522.8837,-367.9806 524.6976,-357.5422 516.7701,-364.5711 522.8837,-367.9806\"/>\n</g>\n<!-- 20 -->\n<g id=\"node21\" class=\"node\">\n<title>20</title>\n<polygon fill=\"#399de5\" stroke=\"#000000\" points=\"825,-565.5 726,-565.5 726,-512.5 825,-512.5 825,-565.5\"/>\n<text text-anchor=\"middle\" x=\"775.5\" y=\"-550.3\" font-family=\"Helvetica,sans-Serif\" font-size=\"14.00\" fill=\"#000000\">gini = 0.0</text>\n<text text-anchor=\"middle\" x=\"775.5\" y=\"-535.3\" font-family=\"Helvetica,sans-Serif\" font-size=\"14.00\" fill=\"#000000\">samples = 6</text>\n<text text-anchor=\"middle\" x=\"775.5\" y=\"-520.3\" font-family=\"Helvetica,sans-Serif\" font-size=\"14.00\" fill=\"#000000\">value = [0, 6]</text>\n</g>\n<!-- 19&#45;&gt;20 -->\n<g id=\"edge20\" class=\"edge\">\n<title>19&#45;&gt;20</title>\n<path fill=\"none\" stroke=\"#000000\" d=\"M778.1903,-608.9465C777.7793,-598.2621 777.3241,-586.4254 776.9067,-575.5742\"/>\n<polygon fill=\"#000000\" stroke=\"#000000\" points=\"780.4027,-575.4002 776.5209,-565.5422 773.4079,-575.6693 780.4027,-575.4002\"/>\n</g>\n<!-- 21 -->\n<g id=\"node22\" class=\"node\">\n<title>21</title>\n<polygon fill=\"#b0d8f5\" stroke=\"#000000\" points=\"946,-573 843,-573 843,-505 946,-505 946,-573\"/>\n<text text-anchor=\"middle\" x=\"894.5\" y=\"-557.8\" font-family=\"Helvetica,sans-Serif\" font-size=\"14.00\" fill=\"#000000\">X[2] &lt;= 0.743</text>\n<text text-anchor=\"middle\" x=\"894.5\" y=\"-542.8\" font-family=\"Helvetica,sans-Serif\" font-size=\"14.00\" fill=\"#000000\">gini = 0.469</text>\n<text text-anchor=\"middle\" x=\"894.5\" y=\"-527.8\" font-family=\"Helvetica,sans-Serif\" font-size=\"14.00\" fill=\"#000000\">samples = 8</text>\n<text text-anchor=\"middle\" x=\"894.5\" y=\"-512.8\" font-family=\"Helvetica,sans-Serif\" font-size=\"14.00\" fill=\"#000000\">value = [3, 5]</text>\n</g>\n<!-- 19&#45;&gt;21 -->\n<g id=\"edge21\" class=\"edge\">\n<title>19&#45;&gt;21</title>\n<path fill=\"none\" stroke=\"#000000\" d=\"M817.1553,-608.9465C827.3813,-599.6986 838.5618,-589.5876 849.1641,-579.9994\"/>\n<polygon fill=\"#000000\" stroke=\"#000000\" points=\"851.6908,-582.4334 856.7601,-573.13 846.9956,-577.2416 851.6908,-582.4334\"/>\n</g>\n<!-- 22 -->\n<g id=\"node23\" class=\"node\">\n<title>22</title>\n<polygon fill=\"#e58139\" stroke=\"#000000\" points=\"827,-461.5 728,-461.5 728,-408.5 827,-408.5 827,-461.5\"/>\n<text text-anchor=\"middle\" x=\"777.5\" y=\"-446.3\" font-family=\"Helvetica,sans-Serif\" font-size=\"14.00\" fill=\"#000000\">gini = 0.0</text>\n<text text-anchor=\"middle\" x=\"777.5\" y=\"-431.3\" font-family=\"Helvetica,sans-Serif\" font-size=\"14.00\" fill=\"#000000\">samples = 3</text>\n<text text-anchor=\"middle\" x=\"777.5\" y=\"-416.3\" font-family=\"Helvetica,sans-Serif\" font-size=\"14.00\" fill=\"#000000\">value = [3, 0]</text>\n</g>\n<!-- 21&#45;&gt;22 -->\n<g id=\"edge22\" class=\"edge\">\n<title>21&#45;&gt;22</title>\n<path fill=\"none\" stroke=\"#000000\" d=\"M856.1898,-504.9465C842.9306,-493.1606 828.0942,-479.9726 814.9084,-468.2519\"/>\n<polygon fill=\"#000000\" stroke=\"#000000\" points=\"817.1593,-465.5699 807.3599,-461.5422 812.5088,-470.8018 817.1593,-465.5699\"/>\n</g>\n<!-- 23 -->\n<g id=\"node24\" class=\"node\">\n<title>23</title>\n<polygon fill=\"#399de5\" stroke=\"#000000\" points=\"944,-461.5 845,-461.5 845,-408.5 944,-408.5 944,-461.5\"/>\n<text text-anchor=\"middle\" x=\"894.5\" y=\"-446.3\" font-family=\"Helvetica,sans-Serif\" font-size=\"14.00\" fill=\"#000000\">gini = 0.0</text>\n<text text-anchor=\"middle\" x=\"894.5\" y=\"-431.3\" font-family=\"Helvetica,sans-Serif\" font-size=\"14.00\" fill=\"#000000\">samples = 5</text>\n<text text-anchor=\"middle\" x=\"894.5\" y=\"-416.3\" font-family=\"Helvetica,sans-Serif\" font-size=\"14.00\" fill=\"#000000\">value = [0, 5]</text>\n</g>\n<!-- 21&#45;&gt;23 -->\n<g id=\"edge23\" class=\"edge\">\n<title>21&#45;&gt;23</title>\n<path fill=\"none\" stroke=\"#000000\" d=\"M894.5,-504.9465C894.5,-494.2621 894.5,-482.4254 894.5,-471.5742\"/>\n<polygon fill=\"#000000\" stroke=\"#000000\" points=\"898.0001,-471.5421 894.5,-461.5422 891.0001,-471.5422 898.0001,-471.5421\"/>\n</g>\n<!-- 25 -->\n<g id=\"node26\" class=\"node\">\n<title>25</title>\n<polygon fill=\"#e78a48\" stroke=\"#000000\" points=\"1069,-781 962,-781 962,-713 1069,-713 1069,-781\"/>\n<text text-anchor=\"middle\" x=\"1015.5\" y=\"-765.8\" font-family=\"Helvetica,sans-Serif\" font-size=\"14.00\" fill=\"#000000\">X[5] &lt;= 1.297</text>\n<text text-anchor=\"middle\" x=\"1015.5\" y=\"-750.8\" font-family=\"Helvetica,sans-Serif\" font-size=\"14.00\" fill=\"#000000\">gini = 0.13</text>\n<text text-anchor=\"middle\" x=\"1015.5\" y=\"-735.8\" font-family=\"Helvetica,sans-Serif\" font-size=\"14.00\" fill=\"#000000\">samples = 43</text>\n<text text-anchor=\"middle\" x=\"1015.5\" y=\"-720.8\" font-family=\"Helvetica,sans-Serif\" font-size=\"14.00\" fill=\"#000000\">value = [40, 3]</text>\n</g>\n<!-- 24&#45;&gt;25 -->\n<g id=\"edge25\" class=\"edge\">\n<title>24&#45;&gt;25</title>\n<path fill=\"none\" stroke=\"#000000\" d=\"M1015.5,-816.9465C1015.5,-808.776 1015.5,-799.9318 1015.5,-791.3697\"/>\n<polygon fill=\"#000000\" stroke=\"#000000\" points=\"1019.0001,-791.13 1015.5,-781.13 1012.0001,-791.13 1019.0001,-791.13\"/>\n</g>\n<!-- 28 -->\n<g id=\"node29\" class=\"node\">\n<title>28</title>\n<polygon fill=\"#59ade9\" stroke=\"#000000\" points=\"1267.5,-781 1143.5,-781 1143.5,-713 1267.5,-713 1267.5,-781\"/>\n<text text-anchor=\"middle\" x=\"1205.5\" y=\"-765.8\" font-family=\"Helvetica,sans-Serif\" font-size=\"14.00\" fill=\"#000000\">X[5] &lt;= &#45;0.429</text>\n<text text-anchor=\"middle\" x=\"1205.5\" y=\"-750.8\" font-family=\"Helvetica,sans-Serif\" font-size=\"14.00\" fill=\"#000000\">gini = 0.242</text>\n<text text-anchor=\"middle\" x=\"1205.5\" y=\"-735.8\" font-family=\"Helvetica,sans-Serif\" font-size=\"14.00\" fill=\"#000000\">samples = 135</text>\n<text text-anchor=\"middle\" x=\"1205.5\" y=\"-720.8\" font-family=\"Helvetica,sans-Serif\" font-size=\"14.00\" fill=\"#000000\">value = [19, 116]</text>\n</g>\n<!-- 24&#45;&gt;28 -->\n<g id=\"edge28\" class=\"edge\">\n<title>24&#45;&gt;28</title>\n<path fill=\"none\" stroke=\"#000000\" d=\"M1077.7131,-816.9465C1095.932,-806.9741 1115.9845,-795.9979 1134.6955,-785.7561\"/>\n<polygon fill=\"#000000\" stroke=\"#000000\" points=\"1136.3804,-788.824 1143.4718,-780.9523 1133.0193,-782.6836 1136.3804,-788.824\"/>\n</g>\n<!-- 26 -->\n<g id=\"node27\" class=\"node\">\n<title>26</title>\n<polygon fill=\"#e58139\" stroke=\"#000000\" points=\"980,-669.5 873,-669.5 873,-616.5 980,-616.5 980,-669.5\"/>\n<text text-anchor=\"middle\" x=\"926.5\" y=\"-654.3\" font-family=\"Helvetica,sans-Serif\" font-size=\"14.00\" fill=\"#000000\">gini = 0.0</text>\n<text text-anchor=\"middle\" x=\"926.5\" y=\"-639.3\" font-family=\"Helvetica,sans-Serif\" font-size=\"14.00\" fill=\"#000000\">samples = 40</text>\n<text text-anchor=\"middle\" x=\"926.5\" y=\"-624.3\" font-family=\"Helvetica,sans-Serif\" font-size=\"14.00\" fill=\"#000000\">value = [40, 0]</text>\n</g>\n<!-- 25&#45;&gt;26 -->\n<g id=\"edge26\" class=\"edge\">\n<title>25&#45;&gt;26</title>\n<path fill=\"none\" stroke=\"#000000\" d=\"M986.3581,-712.9465C976.5548,-701.491 965.6181,-688.711 955.8025,-677.2412\"/>\n<polygon fill=\"#000000\" stroke=\"#000000\" points=\"958.3751,-674.8642 949.214,-669.5422 953.0567,-679.4156 958.3751,-674.8642\"/>\n</g>\n<!-- 27 -->\n<g id=\"node28\" class=\"node\">\n<title>27</title>\n<polygon fill=\"#399de5\" stroke=\"#000000\" points=\"1097,-669.5 998,-669.5 998,-616.5 1097,-616.5 1097,-669.5\"/>\n<text text-anchor=\"middle\" x=\"1047.5\" y=\"-654.3\" font-family=\"Helvetica,sans-Serif\" font-size=\"14.00\" fill=\"#000000\">gini = 0.0</text>\n<text text-anchor=\"middle\" x=\"1047.5\" y=\"-639.3\" font-family=\"Helvetica,sans-Serif\" font-size=\"14.00\" fill=\"#000000\">samples = 3</text>\n<text text-anchor=\"middle\" x=\"1047.5\" y=\"-624.3\" font-family=\"Helvetica,sans-Serif\" font-size=\"14.00\" fill=\"#000000\">value = [0, 3]</text>\n</g>\n<!-- 25&#45;&gt;27 -->\n<g id=\"edge27\" class=\"edge\">\n<title>25&#45;&gt;27</title>\n<path fill=\"none\" stroke=\"#000000\" d=\"M1025.978,-712.9465C1029.2994,-702.1519 1032.9827,-690.1813 1036.3496,-679.2389\"/>\n<polygon fill=\"#000000\" stroke=\"#000000\" points=\"1039.7375,-680.1293 1039.3332,-669.5422 1033.047,-678.0706 1039.7375,-680.1293\"/>\n</g>\n<!-- 29 -->\n<g id=\"node30\" class=\"node\">\n<title>29</title>\n<polygon fill=\"#d1e8f9\" stroke=\"#000000\" points=\"1263.5,-677 1147.5,-677 1147.5,-609 1263.5,-609 1263.5,-677\"/>\n<text text-anchor=\"middle\" x=\"1205.5\" y=\"-661.8\" font-family=\"Helvetica,sans-Serif\" font-size=\"14.00\" fill=\"#000000\">X[3] &lt;= 1.086</text>\n<text text-anchor=\"middle\" x=\"1205.5\" y=\"-646.8\" font-family=\"Helvetica,sans-Serif\" font-size=\"14.00\" fill=\"#000000\">gini = 0.491</text>\n<text text-anchor=\"middle\" x=\"1205.5\" y=\"-631.8\" font-family=\"Helvetica,sans-Serif\" font-size=\"14.00\" fill=\"#000000\">samples = 23</text>\n<text text-anchor=\"middle\" x=\"1205.5\" y=\"-616.8\" font-family=\"Helvetica,sans-Serif\" font-size=\"14.00\" fill=\"#000000\">value = [10, 13]</text>\n</g>\n<!-- 28&#45;&gt;29 -->\n<g id=\"edge29\" class=\"edge\">\n<title>28&#45;&gt;29</title>\n<path fill=\"none\" stroke=\"#000000\" d=\"M1205.5,-712.9465C1205.5,-704.776 1205.5,-695.9318 1205.5,-687.3697\"/>\n<polygon fill=\"#000000\" stroke=\"#000000\" points=\"1209.0001,-687.13 1205.5,-677.13 1202.0001,-687.13 1209.0001,-687.13\"/>\n</g>\n<!-- 44 -->\n<g id=\"node45\" class=\"node\">\n<title>44</title>\n<polygon fill=\"#4aa6e7\" stroke=\"#000000\" points=\"1430.5,-677 1314.5,-677 1314.5,-609 1430.5,-609 1430.5,-677\"/>\n<text text-anchor=\"middle\" x=\"1372.5\" y=\"-661.8\" font-family=\"Helvetica,sans-Serif\" font-size=\"14.00\" fill=\"#000000\">X[3] &lt;= &#45;0.974</text>\n<text text-anchor=\"middle\" x=\"1372.5\" y=\"-646.8\" font-family=\"Helvetica,sans-Serif\" font-size=\"14.00\" fill=\"#000000\">gini = 0.148</text>\n<text text-anchor=\"middle\" x=\"1372.5\" y=\"-631.8\" font-family=\"Helvetica,sans-Serif\" font-size=\"14.00\" fill=\"#000000\">samples = 112</text>\n<text text-anchor=\"middle\" x=\"1372.5\" y=\"-616.8\" font-family=\"Helvetica,sans-Serif\" font-size=\"14.00\" fill=\"#000000\">value = [9, 103]</text>\n</g>\n<!-- 28&#45;&gt;44 -->\n<g id=\"edge44\" class=\"edge\">\n<title>28&#45;&gt;44</title>\n<path fill=\"none\" stroke=\"#000000\" d=\"M1260.182,-712.9465C1275.7529,-703.2497 1292.8476,-692.6039 1308.9004,-682.6069\"/>\n<polygon fill=\"#000000\" stroke=\"#000000\" points=\"1311.0568,-685.3873 1317.6951,-677.13 1307.3563,-679.4453 1311.0568,-685.3873\"/>\n</g>\n<!-- 30 -->\n<g id=\"node31\" class=\"node\">\n<title>30</title>\n<polygon fill=\"#f7d9c4\" stroke=\"#000000\" points=\"1178,-573 1071,-573 1071,-505 1178,-505 1178,-573\"/>\n<text text-anchor=\"middle\" x=\"1124.5\" y=\"-557.8\" font-family=\"Helvetica,sans-Serif\" font-size=\"14.00\" fill=\"#000000\">X[2] &lt;= &#45;1.235</text>\n<text text-anchor=\"middle\" x=\"1124.5\" y=\"-542.8\" font-family=\"Helvetica,sans-Serif\" font-size=\"14.00\" fill=\"#000000\">gini = 0.484</text>\n<text text-anchor=\"middle\" x=\"1124.5\" y=\"-527.8\" font-family=\"Helvetica,sans-Serif\" font-size=\"14.00\" fill=\"#000000\">samples = 17</text>\n<text text-anchor=\"middle\" x=\"1124.5\" y=\"-512.8\" font-family=\"Helvetica,sans-Serif\" font-size=\"14.00\" fill=\"#000000\">value = [10, 7]</text>\n</g>\n<!-- 29&#45;&gt;30 -->\n<g id=\"edge30\" class=\"edge\">\n<title>29&#45;&gt;30</title>\n<path fill=\"none\" stroke=\"#000000\" d=\"M1178.9776,-608.9465C1172.0546,-600.0578 1164.5106,-590.3716 1157.304,-581.1188\"/>\n<polygon fill=\"#000000\" stroke=\"#000000\" points=\"1159.988,-578.8688 1151.082,-573.13 1154.4654,-583.1701 1159.988,-578.8688\"/>\n</g>\n<!-- 43 -->\n<g id=\"node44\" class=\"node\">\n<title>43</title>\n<polygon fill=\"#399de5\" stroke=\"#000000\" points=\"1295,-565.5 1196,-565.5 1196,-512.5 1295,-512.5 1295,-565.5\"/>\n<text text-anchor=\"middle\" x=\"1245.5\" y=\"-550.3\" font-family=\"Helvetica,sans-Serif\" font-size=\"14.00\" fill=\"#000000\">gini = 0.0</text>\n<text text-anchor=\"middle\" x=\"1245.5\" y=\"-535.3\" font-family=\"Helvetica,sans-Serif\" font-size=\"14.00\" fill=\"#000000\">samples = 6</text>\n<text text-anchor=\"middle\" x=\"1245.5\" y=\"-520.3\" font-family=\"Helvetica,sans-Serif\" font-size=\"14.00\" fill=\"#000000\">value = [0, 6]</text>\n</g>\n<!-- 29&#45;&gt;43 -->\n<g id=\"edge43\" class=\"edge\">\n<title>29&#45;&gt;43</title>\n<path fill=\"none\" stroke=\"#000000\" d=\"M1218.5975,-608.9465C1222.7916,-598.0418 1227.4474,-585.9368 1231.6907,-574.9043\"/>\n<polygon fill=\"#000000\" stroke=\"#000000\" points=\"1234.9683,-576.1321 1235.2915,-565.5422 1228.4349,-573.6192 1234.9683,-576.1321\"/>\n</g>\n<!-- 31 -->\n<g id=\"node32\" class=\"node\">\n<title>31</title>\n<polygon fill=\"#e58139\" stroke=\"#000000\" points=\"1061,-461.5 962,-461.5 962,-408.5 1061,-408.5 1061,-461.5\"/>\n<text text-anchor=\"middle\" x=\"1011.5\" y=\"-446.3\" font-family=\"Helvetica,sans-Serif\" font-size=\"14.00\" fill=\"#000000\">gini = 0.0</text>\n<text text-anchor=\"middle\" x=\"1011.5\" y=\"-431.3\" font-family=\"Helvetica,sans-Serif\" font-size=\"14.00\" fill=\"#000000\">samples = 4</text>\n<text text-anchor=\"middle\" x=\"1011.5\" y=\"-416.3\" font-family=\"Helvetica,sans-Serif\" font-size=\"14.00\" fill=\"#000000\">value = [4, 0]</text>\n</g>\n<!-- 30&#45;&gt;31 -->\n<g id=\"edge31\" class=\"edge\">\n<title>30&#45;&gt;31</title>\n<path fill=\"none\" stroke=\"#000000\" d=\"M1087.4996,-504.9465C1074.8134,-493.2707 1060.6322,-480.219 1047.987,-468.5809\"/>\n<polygon fill=\"#000000\" stroke=\"#000000\" points=\"1050.0673,-465.7389 1040.3391,-461.5422 1045.3269,-470.8895 1050.0673,-465.7389\"/>\n</g>\n<!-- 32 -->\n<g id=\"node33\" class=\"node\">\n<title>32</title>\n<polygon fill=\"#e3f1fb\" stroke=\"#000000\" points=\"1183.5,-469 1079.5,-469 1079.5,-401 1183.5,-401 1183.5,-469\"/>\n<text text-anchor=\"middle\" x=\"1131.5\" y=\"-453.8\" font-family=\"Helvetica,sans-Serif\" font-size=\"14.00\" fill=\"#000000\">X[3] &lt;= 0.399</text>\n<text text-anchor=\"middle\" x=\"1131.5\" y=\"-438.8\" font-family=\"Helvetica,sans-Serif\" font-size=\"14.00\" fill=\"#000000\">gini = 0.497</text>\n<text text-anchor=\"middle\" x=\"1131.5\" y=\"-423.8\" font-family=\"Helvetica,sans-Serif\" font-size=\"14.00\" fill=\"#000000\">samples = 13</text>\n<text text-anchor=\"middle\" x=\"1131.5\" y=\"-408.8\" font-family=\"Helvetica,sans-Serif\" font-size=\"14.00\" fill=\"#000000\">value = [6, 7]</text>\n</g>\n<!-- 30&#45;&gt;32 -->\n<g id=\"edge32\" class=\"edge\">\n<title>30&#45;&gt;32</title>\n<path fill=\"none\" stroke=\"#000000\" d=\"M1126.7921,-504.9465C1127.342,-496.776 1127.9373,-487.9318 1128.5136,-479.3697\"/>\n<polygon fill=\"#000000\" stroke=\"#000000\" points=\"1132.0232,-479.3425 1129.2028,-469.13 1125.039,-478.8723 1132.0232,-479.3425\"/>\n</g>\n<!-- 33 -->\n<g id=\"node34\" class=\"node\">\n<title>33</title>\n<polygon fill=\"#eca06a\" stroke=\"#000000\" points=\"1060,-365 953,-365 953,-297 1060,-297 1060,-365\"/>\n<text text-anchor=\"middle\" x=\"1006.5\" y=\"-349.8\" font-family=\"Helvetica,sans-Serif\" font-size=\"14.00\" fill=\"#000000\">X[4] &lt;= &#45;1.284</text>\n<text text-anchor=\"middle\" x=\"1006.5\" y=\"-334.8\" font-family=\"Helvetica,sans-Serif\" font-size=\"14.00\" fill=\"#000000\">gini = 0.32</text>\n<text text-anchor=\"middle\" x=\"1006.5\" y=\"-319.8\" font-family=\"Helvetica,sans-Serif\" font-size=\"14.00\" fill=\"#000000\">samples = 5</text>\n<text text-anchor=\"middle\" x=\"1006.5\" y=\"-304.8\" font-family=\"Helvetica,sans-Serif\" font-size=\"14.00\" fill=\"#000000\">value = [4, 1]</text>\n</g>\n<!-- 32&#45;&gt;33 -->\n<g id=\"edge33\" class=\"edge\">\n<title>32&#45;&gt;33</title>\n<path fill=\"none\" stroke=\"#000000\" d=\"M1090.5703,-400.9465C1079.3472,-391.6088 1067.0663,-381.3911 1055.4427,-371.7203\"/>\n<polygon fill=\"#000000\" stroke=\"#000000\" points=\"1057.4474,-368.8353 1047.5216,-365.13 1052.9704,-374.2164 1057.4474,-368.8353\"/>\n</g>\n<!-- 36 -->\n<g id=\"node37\" class=\"node\">\n<title>36</title>\n<polygon fill=\"#7bbeee\" stroke=\"#000000\" points=\"1185,-365 1078,-365 1078,-297 1185,-297 1185,-365\"/>\n<text text-anchor=\"middle\" x=\"1131.5\" y=\"-349.8\" font-family=\"Helvetica,sans-Serif\" font-size=\"14.00\" fill=\"#000000\">X[5] &lt;= &#45;0.475</text>\n<text text-anchor=\"middle\" x=\"1131.5\" y=\"-334.8\" font-family=\"Helvetica,sans-Serif\" font-size=\"14.00\" fill=\"#000000\">gini = 0.375</text>\n<text text-anchor=\"middle\" x=\"1131.5\" y=\"-319.8\" font-family=\"Helvetica,sans-Serif\" font-size=\"14.00\" fill=\"#000000\">samples = 8</text>\n<text text-anchor=\"middle\" x=\"1131.5\" y=\"-304.8\" font-family=\"Helvetica,sans-Serif\" font-size=\"14.00\" fill=\"#000000\">value = [2, 6]</text>\n</g>\n<!-- 32&#45;&gt;36 -->\n<g id=\"edge36\" class=\"edge\">\n<title>32&#45;&gt;36</title>\n<path fill=\"none\" stroke=\"#000000\" d=\"M1131.5,-400.9465C1131.5,-392.776 1131.5,-383.9318 1131.5,-375.3697\"/>\n<polygon fill=\"#000000\" stroke=\"#000000\" points=\"1135.0001,-375.13 1131.5,-365.13 1128.0001,-375.13 1135.0001,-375.13\"/>\n</g>\n<!-- 34 -->\n<g id=\"node35\" class=\"node\">\n<title>34</title>\n<polygon fill=\"#399de5\" stroke=\"#000000\" points=\"940,-253.5 841,-253.5 841,-200.5 940,-200.5 940,-253.5\"/>\n<text text-anchor=\"middle\" x=\"890.5\" y=\"-238.3\" font-family=\"Helvetica,sans-Serif\" font-size=\"14.00\" fill=\"#000000\">gini = 0.0</text>\n<text text-anchor=\"middle\" x=\"890.5\" y=\"-223.3\" font-family=\"Helvetica,sans-Serif\" font-size=\"14.00\" fill=\"#000000\">samples = 1</text>\n<text text-anchor=\"middle\" x=\"890.5\" y=\"-208.3\" font-family=\"Helvetica,sans-Serif\" font-size=\"14.00\" fill=\"#000000\">value = [0, 1]</text>\n</g>\n<!-- 33&#45;&gt;34 -->\n<g id=\"edge34\" class=\"edge\">\n<title>33&#45;&gt;34</title>\n<path fill=\"none\" stroke=\"#000000\" d=\"M968.5173,-296.9465C955.3714,-285.1606 940.6618,-271.9726 927.5887,-260.2519\"/>\n<polygon fill=\"#000000\" stroke=\"#000000\" points=\"929.8869,-257.6116 920.1047,-253.5422 925.214,-262.8236 929.8869,-257.6116\"/>\n</g>\n<!-- 35 -->\n<g id=\"node36\" class=\"node\">\n<title>35</title>\n<polygon fill=\"#e58139\" stroke=\"#000000\" points=\"1057,-253.5 958,-253.5 958,-200.5 1057,-200.5 1057,-253.5\"/>\n<text text-anchor=\"middle\" x=\"1007.5\" y=\"-238.3\" font-family=\"Helvetica,sans-Serif\" font-size=\"14.00\" fill=\"#000000\">gini = 0.0</text>\n<text text-anchor=\"middle\" x=\"1007.5\" y=\"-223.3\" font-family=\"Helvetica,sans-Serif\" font-size=\"14.00\" fill=\"#000000\">samples = 4</text>\n<text text-anchor=\"middle\" x=\"1007.5\" y=\"-208.3\" font-family=\"Helvetica,sans-Serif\" font-size=\"14.00\" fill=\"#000000\">value = [4, 0]</text>\n</g>\n<!-- 33&#45;&gt;35 -->\n<g id=\"edge35\" class=\"edge\">\n<title>33&#45;&gt;35</title>\n<path fill=\"none\" stroke=\"#000000\" d=\"M1006.8274,-296.9465C1006.9302,-286.2621 1007.044,-274.4254 1007.1483,-263.5742\"/>\n<polygon fill=\"#000000\" stroke=\"#000000\" points=\"1010.6484,-263.5754 1007.2448,-253.5422 1003.6487,-263.508 1010.6484,-263.5754\"/>\n</g>\n<!-- 37 -->\n<g id=\"node38\" class=\"node\">\n<title>37</title>\n<polygon fill=\"#5aade9\" stroke=\"#000000\" points=\"1184,-261 1077,-261 1077,-193 1184,-193 1184,-261\"/>\n<text text-anchor=\"middle\" x=\"1130.5\" y=\"-245.8\" font-family=\"Helvetica,sans-Serif\" font-size=\"14.00\" fill=\"#000000\">X[4] &lt;= &#45;0.248</text>\n<text text-anchor=\"middle\" x=\"1130.5\" y=\"-230.8\" font-family=\"Helvetica,sans-Serif\" font-size=\"14.00\" fill=\"#000000\">gini = 0.245</text>\n<text text-anchor=\"middle\" x=\"1130.5\" y=\"-215.8\" font-family=\"Helvetica,sans-Serif\" font-size=\"14.00\" fill=\"#000000\">samples = 7</text>\n<text text-anchor=\"middle\" x=\"1130.5\" y=\"-200.8\" font-family=\"Helvetica,sans-Serif\" font-size=\"14.00\" fill=\"#000000\">value = [1, 6]</text>\n</g>\n<!-- 36&#45;&gt;37 -->\n<g id=\"edge37\" class=\"edge\">\n<title>36&#45;&gt;37</title>\n<path fill=\"none\" stroke=\"#000000\" d=\"M1131.1726,-296.9465C1131.094,-288.776 1131.009,-279.9318 1130.9266,-271.3697\"/>\n<polygon fill=\"#000000\" stroke=\"#000000\" points=\"1134.4243,-271.0958 1130.8282,-261.13 1127.4246,-271.1632 1134.4243,-271.0958\"/>\n</g>\n<!-- 42 -->\n<g id=\"node43\" class=\"node\">\n<title>42</title>\n<polygon fill=\"#e58139\" stroke=\"#000000\" points=\"1301,-253.5 1202,-253.5 1202,-200.5 1301,-200.5 1301,-253.5\"/>\n<text text-anchor=\"middle\" x=\"1251.5\" y=\"-238.3\" font-family=\"Helvetica,sans-Serif\" font-size=\"14.00\" fill=\"#000000\">gini = 0.0</text>\n<text text-anchor=\"middle\" x=\"1251.5\" y=\"-223.3\" font-family=\"Helvetica,sans-Serif\" font-size=\"14.00\" fill=\"#000000\">samples = 1</text>\n<text text-anchor=\"middle\" x=\"1251.5\" y=\"-208.3\" font-family=\"Helvetica,sans-Serif\" font-size=\"14.00\" fill=\"#000000\">value = [1, 0]</text>\n</g>\n<!-- 36&#45;&gt;42 -->\n<g id=\"edge42\" class=\"edge\">\n<title>36&#45;&gt;42</title>\n<path fill=\"none\" stroke=\"#000000\" d=\"M1170.7925,-296.9465C1184.3917,-285.1606 1199.6085,-271.9726 1213.1324,-260.2519\"/>\n<polygon fill=\"#000000\" stroke=\"#000000\" points=\"1215.6098,-262.7364 1220.8744,-253.5422 1211.0252,-257.4466 1215.6098,-262.7364\"/>\n</g>\n<!-- 38 -->\n<g id=\"node39\" class=\"node\">\n<title>38</title>\n<polygon fill=\"#399de5\" stroke=\"#000000\" points=\"1120,-149.5 1021,-149.5 1021,-96.5 1120,-96.5 1120,-149.5\"/>\n<text text-anchor=\"middle\" x=\"1070.5\" y=\"-134.3\" font-family=\"Helvetica,sans-Serif\" font-size=\"14.00\" fill=\"#000000\">gini = 0.0</text>\n<text text-anchor=\"middle\" x=\"1070.5\" y=\"-119.3\" font-family=\"Helvetica,sans-Serif\" font-size=\"14.00\" fill=\"#000000\">samples = 5</text>\n<text text-anchor=\"middle\" x=\"1070.5\" y=\"-104.3\" font-family=\"Helvetica,sans-Serif\" font-size=\"14.00\" fill=\"#000000\">value = [0, 5]</text>\n</g>\n<!-- 37&#45;&gt;38 -->\n<g id=\"edge38\" class=\"edge\">\n<title>37&#45;&gt;38</title>\n<path fill=\"none\" stroke=\"#000000\" d=\"M1110.8538,-192.9465C1104.4355,-181.8215 1097.2965,-169.4473 1090.829,-158.237\"/>\n<polygon fill=\"#000000\" stroke=\"#000000\" points=\"1093.8417,-156.455 1085.8128,-149.5422 1087.7784,-159.9531 1093.8417,-156.455\"/>\n</g>\n<!-- 39 -->\n<g id=\"node40\" class=\"node\">\n<title>39</title>\n<polygon fill=\"#ffffff\" stroke=\"#000000\" points=\"1245,-157 1138,-157 1138,-89 1245,-89 1245,-157\"/>\n<text text-anchor=\"middle\" x=\"1191.5\" y=\"-141.8\" font-family=\"Helvetica,sans-Serif\" font-size=\"14.00\" fill=\"#000000\">X[4] &lt;= &#45;0.069</text>\n<text text-anchor=\"middle\" x=\"1191.5\" y=\"-126.8\" font-family=\"Helvetica,sans-Serif\" font-size=\"14.00\" fill=\"#000000\">gini = 0.5</text>\n<text text-anchor=\"middle\" x=\"1191.5\" y=\"-111.8\" font-family=\"Helvetica,sans-Serif\" font-size=\"14.00\" fill=\"#000000\">samples = 2</text>\n<text text-anchor=\"middle\" x=\"1191.5\" y=\"-96.8\" font-family=\"Helvetica,sans-Serif\" font-size=\"14.00\" fill=\"#000000\">value = [1, 1]</text>\n</g>\n<!-- 37&#45;&gt;39 -->\n<g id=\"edge39\" class=\"edge\">\n<title>37&#45;&gt;39</title>\n<path fill=\"none\" stroke=\"#000000\" d=\"M1150.4737,-192.9465C1155.5293,-184.3271 1161.0247,-174.9579 1166.3017,-165.9611\"/>\n<polygon fill=\"#000000\" stroke=\"#000000\" points=\"1169.4411,-167.5265 1171.4814,-157.13 1163.4031,-163.985 1169.4411,-167.5265\"/>\n</g>\n<!-- 40 -->\n<g id=\"node41\" class=\"node\">\n<title>40</title>\n<polygon fill=\"#e58139\" stroke=\"#000000\" points=\"1183,-53 1084,-53 1084,0 1183,0 1183,-53\"/>\n<text text-anchor=\"middle\" x=\"1133.5\" y=\"-37.8\" font-family=\"Helvetica,sans-Serif\" font-size=\"14.00\" fill=\"#000000\">gini = 0.0</text>\n<text text-anchor=\"middle\" x=\"1133.5\" y=\"-22.8\" font-family=\"Helvetica,sans-Serif\" font-size=\"14.00\" fill=\"#000000\">samples = 1</text>\n<text text-anchor=\"middle\" x=\"1133.5\" y=\"-7.8\" font-family=\"Helvetica,sans-Serif\" font-size=\"14.00\" fill=\"#000000\">value = [1, 0]</text>\n</g>\n<!-- 39&#45;&gt;40 -->\n<g id=\"edge40\" class=\"edge\">\n<title>39&#45;&gt;40</title>\n<path fill=\"none\" stroke=\"#000000\" d=\"M1171.0514,-88.9777C1165.7678,-80.187 1160.0684,-70.7044 1154.7452,-61.8477\"/>\n<polygon fill=\"#000000\" stroke=\"#000000\" points=\"1157.7282,-60.0165 1149.5768,-53.2485 1151.7285,-63.6225 1157.7282,-60.0165\"/>\n</g>\n<!-- 41 -->\n<g id=\"node42\" class=\"node\">\n<title>41</title>\n<polygon fill=\"#399de5\" stroke=\"#000000\" points=\"1300,-53 1201,-53 1201,0 1300,0 1300,-53\"/>\n<text text-anchor=\"middle\" x=\"1250.5\" y=\"-37.8\" font-family=\"Helvetica,sans-Serif\" font-size=\"14.00\" fill=\"#000000\">gini = 0.0</text>\n<text text-anchor=\"middle\" x=\"1250.5\" y=\"-22.8\" font-family=\"Helvetica,sans-Serif\" font-size=\"14.00\" fill=\"#000000\">samples = 1</text>\n<text text-anchor=\"middle\" x=\"1250.5\" y=\"-7.8\" font-family=\"Helvetica,sans-Serif\" font-size=\"14.00\" fill=\"#000000\">value = [0, 1]</text>\n</g>\n<!-- 39&#45;&gt;41 -->\n<g id=\"edge41\" class=\"edge\">\n<title>39&#45;&gt;41</title>\n<path fill=\"none\" stroke=\"#000000\" d=\"M1212.3012,-88.9777C1217.6758,-80.187 1223.4735,-70.7044 1228.8885,-61.8477\"/>\n<polygon fill=\"#000000\" stroke=\"#000000\" points=\"1231.9158,-63.6059 1234.146,-53.2485 1225.9436,-59.9545 1231.9158,-63.6059\"/>\n</g>\n<!-- 45 -->\n<g id=\"node46\" class=\"node\">\n<title>45</title>\n<polygon fill=\"#b0d8f5\" stroke=\"#000000\" points=\"1426,-573 1319,-573 1319,-505 1426,-505 1426,-573\"/>\n<text text-anchor=\"middle\" x=\"1372.5\" y=\"-557.8\" font-family=\"Helvetica,sans-Serif\" font-size=\"14.00\" fill=\"#000000\">X[5] &lt;= 0.955</text>\n<text text-anchor=\"middle\" x=\"1372.5\" y=\"-542.8\" font-family=\"Helvetica,sans-Serif\" font-size=\"14.00\" fill=\"#000000\">gini = 0.469</text>\n<text text-anchor=\"middle\" x=\"1372.5\" y=\"-527.8\" font-family=\"Helvetica,sans-Serif\" font-size=\"14.00\" fill=\"#000000\">samples = 16</text>\n<text text-anchor=\"middle\" x=\"1372.5\" y=\"-512.8\" font-family=\"Helvetica,sans-Serif\" font-size=\"14.00\" fill=\"#000000\">value = [6, 10]</text>\n</g>\n<!-- 44&#45;&gt;45 -->\n<g id=\"edge45\" class=\"edge\">\n<title>44&#45;&gt;45</title>\n<path fill=\"none\" stroke=\"#000000\" d=\"M1372.5,-608.9465C1372.5,-600.776 1372.5,-591.9318 1372.5,-583.3697\"/>\n<polygon fill=\"#000000\" stroke=\"#000000\" points=\"1376.0001,-583.13 1372.5,-573.13 1369.0001,-583.13 1376.0001,-583.13\"/>\n</g>\n<!-- 54 -->\n<g id=\"node55\" class=\"node\">\n<title>54</title>\n<polygon fill=\"#3fa0e6\" stroke=\"#000000\" points=\"1835,-573 1728,-573 1728,-505 1835,-505 1835,-573\"/>\n<text text-anchor=\"middle\" x=\"1781.5\" y=\"-557.8\" font-family=\"Helvetica,sans-Serif\" font-size=\"14.00\" fill=\"#000000\">X[3] &lt;= &#45;0.821</text>\n<text text-anchor=\"middle\" x=\"1781.5\" y=\"-542.8\" font-family=\"Helvetica,sans-Serif\" font-size=\"14.00\" fill=\"#000000\">gini = 0.061</text>\n<text text-anchor=\"middle\" x=\"1781.5\" y=\"-527.8\" font-family=\"Helvetica,sans-Serif\" font-size=\"14.00\" fill=\"#000000\">samples = 96</text>\n<text text-anchor=\"middle\" x=\"1781.5\" y=\"-512.8\" font-family=\"Helvetica,sans-Serif\" font-size=\"14.00\" fill=\"#000000\">value = [3, 93]</text>\n</g>\n<!-- 44&#45;&gt;54 -->\n<g id=\"edge54\" class=\"edge\">\n<title>44&#45;&gt;54</title>\n<path fill=\"none\" stroke=\"#000000\" d=\"M1430.6654,-628.2098C1506.6984,-608.8762 1639.406,-575.1315 1717.9913,-555.1489\"/>\n<polygon fill=\"#000000\" stroke=\"#000000\" points=\"1718.9399,-558.5192 1727.7689,-552.6627 1717.2148,-551.7351 1718.9399,-558.5192\"/>\n</g>\n<!-- 46 -->\n<g id=\"node47\" class=\"node\">\n<title>46</title>\n<polygon fill=\"#ea9a61\" stroke=\"#000000\" points=\"1418,-469 1315,-469 1315,-401 1418,-401 1418,-469\"/>\n<text text-anchor=\"middle\" x=\"1366.5\" y=\"-453.8\" font-family=\"Helvetica,sans-Serif\" font-size=\"14.00\" fill=\"#000000\">X[2] &lt;= 0.926</text>\n<text text-anchor=\"middle\" x=\"1366.5\" y=\"-438.8\" font-family=\"Helvetica,sans-Serif\" font-size=\"14.00\" fill=\"#000000\">gini = 0.278</text>\n<text text-anchor=\"middle\" x=\"1366.5\" y=\"-423.8\" font-family=\"Helvetica,sans-Serif\" font-size=\"14.00\" fill=\"#000000\">samples = 6</text>\n<text text-anchor=\"middle\" x=\"1366.5\" y=\"-408.8\" font-family=\"Helvetica,sans-Serif\" font-size=\"14.00\" fill=\"#000000\">value = [5, 1]</text>\n</g>\n<!-- 45&#45;&gt;46 -->\n<g id=\"edge46\" class=\"edge\">\n<title>45&#45;&gt;46</title>\n<path fill=\"none\" stroke=\"#000000\" d=\"M1370.5354,-504.9465C1370.064,-496.776 1369.5538,-487.9318 1369.0598,-479.3697\"/>\n<polygon fill=\"#000000\" stroke=\"#000000\" points=\"1372.5393,-478.9118 1368.469,-469.13 1365.5509,-479.315 1372.5393,-478.9118\"/>\n</g>\n<!-- 49 -->\n<g id=\"node50\" class=\"node\">\n<title>49</title>\n<polygon fill=\"#4fa8e8\" stroke=\"#000000\" points=\"1540.5,-469 1436.5,-469 1436.5,-401 1540.5,-401 1540.5,-469\"/>\n<text text-anchor=\"middle\" x=\"1488.5\" y=\"-453.8\" font-family=\"Helvetica,sans-Serif\" font-size=\"14.00\" fill=\"#000000\">X[2] &lt;= 1.155</text>\n<text text-anchor=\"middle\" x=\"1488.5\" y=\"-438.8\" font-family=\"Helvetica,sans-Serif\" font-size=\"14.00\" fill=\"#000000\">gini = 0.18</text>\n<text text-anchor=\"middle\" x=\"1488.5\" y=\"-423.8\" font-family=\"Helvetica,sans-Serif\" font-size=\"14.00\" fill=\"#000000\">samples = 10</text>\n<text text-anchor=\"middle\" x=\"1488.5\" y=\"-408.8\" font-family=\"Helvetica,sans-Serif\" font-size=\"14.00\" fill=\"#000000\">value = [1, 9]</text>\n</g>\n<!-- 45&#45;&gt;49 -->\n<g id=\"edge49\" class=\"edge\">\n<title>45&#45;&gt;49</title>\n<path fill=\"none\" stroke=\"#000000\" d=\"M1410.4827,-504.9465C1420.7977,-495.6986 1432.0754,-485.5876 1442.7699,-475.9994\"/>\n<polygon fill=\"#000000\" stroke=\"#000000\" points=\"1445.3226,-478.4115 1450.4319,-469.13 1440.6498,-473.1995 1445.3226,-478.4115\"/>\n</g>\n<!-- 47 -->\n<g id=\"node48\" class=\"node\">\n<title>47</title>\n<polygon fill=\"#e58139\" stroke=\"#000000\" points=\"1302,-357.5 1203,-357.5 1203,-304.5 1302,-304.5 1302,-357.5\"/>\n<text text-anchor=\"middle\" x=\"1252.5\" y=\"-342.3\" font-family=\"Helvetica,sans-Serif\" font-size=\"14.00\" fill=\"#000000\">gini = 0.0</text>\n<text text-anchor=\"middle\" x=\"1252.5\" y=\"-327.3\" font-family=\"Helvetica,sans-Serif\" font-size=\"14.00\" fill=\"#000000\">samples = 5</text>\n<text text-anchor=\"middle\" x=\"1252.5\" y=\"-312.3\" font-family=\"Helvetica,sans-Serif\" font-size=\"14.00\" fill=\"#000000\">value = [5, 0]</text>\n</g>\n<!-- 46&#45;&gt;47 -->\n<g id=\"edge47\" class=\"edge\">\n<title>46&#45;&gt;47</title>\n<path fill=\"none\" stroke=\"#000000\" d=\"M1329.1721,-400.9465C1316.3737,-389.2707 1302.067,-376.219 1289.3099,-364.5809\"/>\n<polygon fill=\"#000000\" stroke=\"#000000\" points=\"1291.3409,-361.6961 1281.5943,-357.5422 1286.6231,-366.8675 1291.3409,-361.6961\"/>\n</g>\n<!-- 48 -->\n<g id=\"node49\" class=\"node\">\n<title>48</title>\n<polygon fill=\"#399de5\" stroke=\"#000000\" points=\"1419,-357.5 1320,-357.5 1320,-304.5 1419,-304.5 1419,-357.5\"/>\n<text text-anchor=\"middle\" x=\"1369.5\" y=\"-342.3\" font-family=\"Helvetica,sans-Serif\" font-size=\"14.00\" fill=\"#000000\">gini = 0.0</text>\n<text text-anchor=\"middle\" x=\"1369.5\" y=\"-327.3\" font-family=\"Helvetica,sans-Serif\" font-size=\"14.00\" fill=\"#000000\">samples = 1</text>\n<text text-anchor=\"middle\" x=\"1369.5\" y=\"-312.3\" font-family=\"Helvetica,sans-Serif\" font-size=\"14.00\" fill=\"#000000\">value = [0, 1]</text>\n</g>\n<!-- 46&#45;&gt;48 -->\n<g id=\"edge48\" class=\"edge\">\n<title>46&#45;&gt;48</title>\n<path fill=\"none\" stroke=\"#000000\" d=\"M1367.4823,-400.9465C1367.7905,-390.2621 1368.132,-378.4254 1368.445,-367.5742\"/>\n<polygon fill=\"#000000\" stroke=\"#000000\" points=\"1371.9445,-367.639 1368.7344,-357.5422 1364.9474,-367.4371 1371.9445,-367.639\"/>\n</g>\n<!-- 50 -->\n<g id=\"node51\" class=\"node\">\n<title>50</title>\n<polygon fill=\"#399de5\" stroke=\"#000000\" points=\"1536,-357.5 1437,-357.5 1437,-304.5 1536,-304.5 1536,-357.5\"/>\n<text text-anchor=\"middle\" x=\"1486.5\" y=\"-342.3\" font-family=\"Helvetica,sans-Serif\" font-size=\"14.00\" fill=\"#000000\">gini = 0.0</text>\n<text text-anchor=\"middle\" x=\"1486.5\" y=\"-327.3\" font-family=\"Helvetica,sans-Serif\" font-size=\"14.00\" fill=\"#000000\">samples = 8</text>\n<text text-anchor=\"middle\" x=\"1486.5\" y=\"-312.3\" font-family=\"Helvetica,sans-Serif\" font-size=\"14.00\" fill=\"#000000\">value = [0, 8]</text>\n</g>\n<!-- 49&#45;&gt;50 -->\n<g id=\"edge50\" class=\"edge\">\n<title>49&#45;&gt;50</title>\n<path fill=\"none\" stroke=\"#000000\" d=\"M1487.8451,-400.9465C1487.6397,-390.2621 1487.412,-378.4254 1487.2034,-367.5742\"/>\n<polygon fill=\"#000000\" stroke=\"#000000\" points=\"1490.7021,-367.473 1487.0104,-357.5422 1483.7034,-367.6076 1490.7021,-367.473\"/>\n</g>\n<!-- 51 -->\n<g id=\"node52\" class=\"node\">\n<title>51</title>\n<polygon fill=\"#ffffff\" stroke=\"#000000\" points=\"1657,-365 1554,-365 1554,-297 1657,-297 1657,-365\"/>\n<text text-anchor=\"middle\" x=\"1605.5\" y=\"-349.8\" font-family=\"Helvetica,sans-Serif\" font-size=\"14.00\" fill=\"#000000\">X[4] &lt;= 1.324</text>\n<text text-anchor=\"middle\" x=\"1605.5\" y=\"-334.8\" font-family=\"Helvetica,sans-Serif\" font-size=\"14.00\" fill=\"#000000\">gini = 0.5</text>\n<text text-anchor=\"middle\" x=\"1605.5\" y=\"-319.8\" font-family=\"Helvetica,sans-Serif\" font-size=\"14.00\" fill=\"#000000\">samples = 2</text>\n<text text-anchor=\"middle\" x=\"1605.5\" y=\"-304.8\" font-family=\"Helvetica,sans-Serif\" font-size=\"14.00\" fill=\"#000000\">value = [1, 1]</text>\n</g>\n<!-- 49&#45;&gt;51 -->\n<g id=\"edge51\" class=\"edge\">\n<title>49&#45;&gt;51</title>\n<path fill=\"none\" stroke=\"#000000\" d=\"M1526.8102,-400.9465C1537.2141,-391.6986 1548.589,-381.5876 1559.3757,-371.9994\"/>\n<polygon fill=\"#000000\" stroke=\"#000000\" points=\"1561.9549,-374.3896 1567.1038,-365.13 1557.3044,-369.1577 1561.9549,-374.3896\"/>\n</g>\n<!-- 52 -->\n<g id=\"node53\" class=\"node\">\n<title>52</title>\n<polygon fill=\"#e58139\" stroke=\"#000000\" points=\"1624,-253.5 1525,-253.5 1525,-200.5 1624,-200.5 1624,-253.5\"/>\n<text text-anchor=\"middle\" x=\"1574.5\" y=\"-238.3\" font-family=\"Helvetica,sans-Serif\" font-size=\"14.00\" fill=\"#000000\">gini = 0.0</text>\n<text text-anchor=\"middle\" x=\"1574.5\" y=\"-223.3\" font-family=\"Helvetica,sans-Serif\" font-size=\"14.00\" fill=\"#000000\">samples = 1</text>\n<text text-anchor=\"middle\" x=\"1574.5\" y=\"-208.3\" font-family=\"Helvetica,sans-Serif\" font-size=\"14.00\" fill=\"#000000\">value = [1, 0]</text>\n</g>\n<!-- 51&#45;&gt;52 -->\n<g id=\"edge52\" class=\"edge\">\n<title>51&#45;&gt;52</title>\n<path fill=\"none\" stroke=\"#000000\" d=\"M1595.3494,-296.9465C1592.1318,-286.1519 1588.5636,-274.1813 1585.302,-263.2389\"/>\n<polygon fill=\"#000000\" stroke=\"#000000\" points=\"1588.6224,-262.1257 1582.4116,-253.5422 1581.9141,-264.1253 1588.6224,-262.1257\"/>\n</g>\n<!-- 53 -->\n<g id=\"node54\" class=\"node\">\n<title>53</title>\n<polygon fill=\"#399de5\" stroke=\"#000000\" points=\"1741,-253.5 1642,-253.5 1642,-200.5 1741,-200.5 1741,-253.5\"/>\n<text text-anchor=\"middle\" x=\"1691.5\" y=\"-238.3\" font-family=\"Helvetica,sans-Serif\" font-size=\"14.00\" fill=\"#000000\">gini = 0.0</text>\n<text text-anchor=\"middle\" x=\"1691.5\" y=\"-223.3\" font-family=\"Helvetica,sans-Serif\" font-size=\"14.00\" fill=\"#000000\">samples = 1</text>\n<text text-anchor=\"middle\" x=\"1691.5\" y=\"-208.3\" font-family=\"Helvetica,sans-Serif\" font-size=\"14.00\" fill=\"#000000\">value = [0, 1]</text>\n</g>\n<!-- 51&#45;&gt;53 -->\n<g id=\"edge53\" class=\"edge\">\n<title>51&#45;&gt;53</title>\n<path fill=\"none\" stroke=\"#000000\" d=\"M1633.6596,-296.9465C1643.0413,-285.6012 1653.4973,-272.9567 1662.9113,-261.5724\"/>\n<polygon fill=\"#000000\" stroke=\"#000000\" points=\"1665.8763,-263.4791 1669.5517,-253.5422 1660.4817,-259.0182 1665.8763,-263.4791\"/>\n</g>\n<!-- 55 -->\n<g id=\"node56\" class=\"node\">\n<title>55</title>\n<polygon fill=\"#5aade9\" stroke=\"#000000\" points=\"1833,-469 1730,-469 1730,-401 1833,-401 1833,-469\"/>\n<text text-anchor=\"middle\" x=\"1781.5\" y=\"-453.8\" font-family=\"Helvetica,sans-Serif\" font-size=\"14.00\" fill=\"#000000\">X[5] &lt;= 1.002</text>\n<text text-anchor=\"middle\" x=\"1781.5\" y=\"-438.8\" font-family=\"Helvetica,sans-Serif\" font-size=\"14.00\" fill=\"#000000\">gini = 0.245</text>\n<text text-anchor=\"middle\" x=\"1781.5\" y=\"-423.8\" font-family=\"Helvetica,sans-Serif\" font-size=\"14.00\" fill=\"#000000\">samples = 7</text>\n<text text-anchor=\"middle\" x=\"1781.5\" y=\"-408.8\" font-family=\"Helvetica,sans-Serif\" font-size=\"14.00\" fill=\"#000000\">value = [1, 6]</text>\n</g>\n<!-- 54&#45;&gt;55 -->\n<g id=\"edge55\" class=\"edge\">\n<title>54&#45;&gt;55</title>\n<path fill=\"none\" stroke=\"#000000\" d=\"M1781.5,-504.9465C1781.5,-496.776 1781.5,-487.9318 1781.5,-479.3697\"/>\n<polygon fill=\"#000000\" stroke=\"#000000\" points=\"1785.0001,-479.13 1781.5,-469.13 1778.0001,-479.13 1785.0001,-479.13\"/>\n</g>\n<!-- 58 -->\n<g id=\"node59\" class=\"node\">\n<title>58</title>\n<polygon fill=\"#3e9fe6\" stroke=\"#000000\" points=\"2016,-469 1909,-469 1909,-401 2016,-401 2016,-469\"/>\n<text text-anchor=\"middle\" x=\"1962.5\" y=\"-453.8\" font-family=\"Helvetica,sans-Serif\" font-size=\"14.00\" fill=\"#000000\">X[5] &lt;= &#45;0.04</text>\n<text text-anchor=\"middle\" x=\"1962.5\" y=\"-438.8\" font-family=\"Helvetica,sans-Serif\" font-size=\"14.00\" fill=\"#000000\">gini = 0.044</text>\n<text text-anchor=\"middle\" x=\"1962.5\" y=\"-423.8\" font-family=\"Helvetica,sans-Serif\" font-size=\"14.00\" fill=\"#000000\">samples = 89</text>\n<text text-anchor=\"middle\" x=\"1962.5\" y=\"-408.8\" font-family=\"Helvetica,sans-Serif\" font-size=\"14.00\" fill=\"#000000\">value = [2, 87]</text>\n</g>\n<!-- 54&#45;&gt;58 -->\n<g id=\"edge58\" class=\"edge\">\n<title>54&#45;&gt;58</title>\n<path fill=\"none\" stroke=\"#000000\" d=\"M1835.3159,-508.0782C1855.6493,-496.3949 1878.9566,-483.0028 1900.0179,-470.9013\"/>\n<polygon fill=\"#000000\" stroke=\"#000000\" points=\"1901.9645,-473.8195 1908.8914,-465.8027 1898.4771,-467.75 1901.9645,-473.8195\"/>\n</g>\n<!-- 56 -->\n<g id=\"node57\" class=\"node\">\n<title>56</title>\n<polygon fill=\"#e58139\" stroke=\"#000000\" points=\"1774,-357.5 1675,-357.5 1675,-304.5 1774,-304.5 1774,-357.5\"/>\n<text text-anchor=\"middle\" x=\"1724.5\" y=\"-342.3\" font-family=\"Helvetica,sans-Serif\" font-size=\"14.00\" fill=\"#000000\">gini = 0.0</text>\n<text text-anchor=\"middle\" x=\"1724.5\" y=\"-327.3\" font-family=\"Helvetica,sans-Serif\" font-size=\"14.00\" fill=\"#000000\">samples = 1</text>\n<text text-anchor=\"middle\" x=\"1724.5\" y=\"-312.3\" font-family=\"Helvetica,sans-Serif\" font-size=\"14.00\" fill=\"#000000\">value = [1, 0]</text>\n</g>\n<!-- 55&#45;&gt;56 -->\n<g id=\"edge56\" class=\"edge\">\n<title>55&#45;&gt;56</title>\n<path fill=\"none\" stroke=\"#000000\" d=\"M1762.8361,-400.9465C1756.7991,-389.9316 1750.0909,-377.6922 1743.9953,-366.5703\"/>\n<polygon fill=\"#000000\" stroke=\"#000000\" points=\"1746.9227,-364.6292 1739.0471,-357.5422 1740.7842,-367.9936 1746.9227,-364.6292\"/>\n</g>\n<!-- 57 -->\n<g id=\"node58\" class=\"node\">\n<title>57</title>\n<polygon fill=\"#399de5\" stroke=\"#000000\" points=\"1891,-357.5 1792,-357.5 1792,-304.5 1891,-304.5 1891,-357.5\"/>\n<text text-anchor=\"middle\" x=\"1841.5\" y=\"-342.3\" font-family=\"Helvetica,sans-Serif\" font-size=\"14.00\" fill=\"#000000\">gini = 0.0</text>\n<text text-anchor=\"middle\" x=\"1841.5\" y=\"-327.3\" font-family=\"Helvetica,sans-Serif\" font-size=\"14.00\" fill=\"#000000\">samples = 6</text>\n<text text-anchor=\"middle\" x=\"1841.5\" y=\"-312.3\" font-family=\"Helvetica,sans-Serif\" font-size=\"14.00\" fill=\"#000000\">value = [0, 6]</text>\n</g>\n<!-- 55&#45;&gt;57 -->\n<g id=\"edge57\" class=\"edge\">\n<title>55&#45;&gt;57</title>\n<path fill=\"none\" stroke=\"#000000\" d=\"M1801.1462,-400.9465C1807.5645,-389.8215 1814.7035,-377.4473 1821.171,-366.237\"/>\n<polygon fill=\"#000000\" stroke=\"#000000\" points=\"1824.2216,-367.9531 1826.1872,-357.5422 1818.1583,-364.455 1824.2216,-367.9531\"/>\n</g>\n<!-- 59 -->\n<g id=\"node60\" class=\"node\">\n<title>59</title>\n<polygon fill=\"#47a4e7\" stroke=\"#000000\" points=\"2016,-365 1909,-365 1909,-297 2016,-297 2016,-365\"/>\n<text text-anchor=\"middle\" x=\"1962.5\" y=\"-349.8\" font-family=\"Helvetica,sans-Serif\" font-size=\"14.00\" fill=\"#000000\">X[3] &lt;= 1.645</text>\n<text text-anchor=\"middle\" x=\"1962.5\" y=\"-334.8\" font-family=\"Helvetica,sans-Serif\" font-size=\"14.00\" fill=\"#000000\">gini = 0.121</text>\n<text text-anchor=\"middle\" x=\"1962.5\" y=\"-319.8\" font-family=\"Helvetica,sans-Serif\" font-size=\"14.00\" fill=\"#000000\">samples = 31</text>\n<text text-anchor=\"middle\" x=\"1962.5\" y=\"-304.8\" font-family=\"Helvetica,sans-Serif\" font-size=\"14.00\" fill=\"#000000\">value = [2, 29]</text>\n</g>\n<!-- 58&#45;&gt;59 -->\n<g id=\"edge59\" class=\"edge\">\n<title>58&#45;&gt;59</title>\n<path fill=\"none\" stroke=\"#000000\" d=\"M1962.5,-400.9465C1962.5,-392.776 1962.5,-383.9318 1962.5,-375.3697\"/>\n<polygon fill=\"#000000\" stroke=\"#000000\" points=\"1966.0001,-375.13 1962.5,-365.13 1959.0001,-375.13 1966.0001,-375.13\"/>\n</g>\n<!-- 68 -->\n<g id=\"node69\" class=\"node\">\n<title>68</title>\n<polygon fill=\"#399de5\" stroke=\"#000000\" points=\"2141,-357.5 2034,-357.5 2034,-304.5 2141,-304.5 2141,-357.5\"/>\n<text text-anchor=\"middle\" x=\"2087.5\" y=\"-342.3\" font-family=\"Helvetica,sans-Serif\" font-size=\"14.00\" fill=\"#000000\">gini = 0.0</text>\n<text text-anchor=\"middle\" x=\"2087.5\" y=\"-327.3\" font-family=\"Helvetica,sans-Serif\" font-size=\"14.00\" fill=\"#000000\">samples = 58</text>\n<text text-anchor=\"middle\" x=\"2087.5\" y=\"-312.3\" font-family=\"Helvetica,sans-Serif\" font-size=\"14.00\" fill=\"#000000\">value = [0, 58]</text>\n</g>\n<!-- 58&#45;&gt;68 -->\n<g id=\"edge68\" class=\"edge\">\n<title>58&#45;&gt;68</title>\n<path fill=\"none\" stroke=\"#000000\" d=\"M2003.4297,-400.9465C2017.5955,-389.1606 2033.4463,-375.9726 2047.5338,-364.2519\"/>\n<polygon fill=\"#000000\" stroke=\"#000000\" points=\"2050.1496,-366.6285 2055.5984,-357.5422 2045.6725,-361.2474 2050.1496,-366.6285\"/>\n</g>\n<!-- 60 -->\n<g id=\"node61\" class=\"node\">\n<title>60</title>\n<polygon fill=\"#40a1e6\" stroke=\"#000000\" points=\"1921,-261 1814,-261 1814,-193 1921,-193 1921,-261\"/>\n<text text-anchor=\"middle\" x=\"1867.5\" y=\"-245.8\" font-family=\"Helvetica,sans-Serif\" font-size=\"14.00\" fill=\"#000000\">X[5] &lt;= &#45;0.102</text>\n<text text-anchor=\"middle\" x=\"1867.5\" y=\"-230.8\" font-family=\"Helvetica,sans-Serif\" font-size=\"14.00\" fill=\"#000000\">gini = 0.069</text>\n<text text-anchor=\"middle\" x=\"1867.5\" y=\"-215.8\" font-family=\"Helvetica,sans-Serif\" font-size=\"14.00\" fill=\"#000000\">samples = 28</text>\n<text text-anchor=\"middle\" x=\"1867.5\" y=\"-200.8\" font-family=\"Helvetica,sans-Serif\" font-size=\"14.00\" fill=\"#000000\">value = [1, 27]</text>\n</g>\n<!-- 59&#45;&gt;60 -->\n<g id=\"edge60\" class=\"edge\">\n<title>59&#45;&gt;60</title>\n<path fill=\"none\" stroke=\"#000000\" d=\"M1931.3934,-296.9465C1923.1099,-287.8782 1914.0682,-277.9799 1905.4621,-268.5585\"/>\n<polygon fill=\"#000000\" stroke=\"#000000\" points=\"1908.005,-266.1528 1898.6764,-261.13 1902.8367,-270.8739 1908.005,-266.1528\"/>\n</g>\n<!-- 65 -->\n<g id=\"node66\" class=\"node\">\n<title>65</title>\n<polygon fill=\"#9ccef2\" stroke=\"#000000\" points=\"2046,-261 1939,-261 1939,-193 2046,-193 2046,-261\"/>\n<text text-anchor=\"middle\" x=\"1992.5\" y=\"-245.8\" font-family=\"Helvetica,sans-Serif\" font-size=\"14.00\" fill=\"#000000\">X[5] &lt;= &#45;0.226</text>\n<text text-anchor=\"middle\" x=\"1992.5\" y=\"-230.8\" font-family=\"Helvetica,sans-Serif\" font-size=\"14.00\" fill=\"#000000\">gini = 0.444</text>\n<text text-anchor=\"middle\" x=\"1992.5\" y=\"-215.8\" font-family=\"Helvetica,sans-Serif\" font-size=\"14.00\" fill=\"#000000\">samples = 3</text>\n<text text-anchor=\"middle\" x=\"1992.5\" y=\"-200.8\" font-family=\"Helvetica,sans-Serif\" font-size=\"14.00\" fill=\"#000000\">value = [1, 2]</text>\n</g>\n<!-- 59&#45;&gt;65 -->\n<g id=\"edge65\" class=\"edge\">\n<title>59&#45;&gt;65</title>\n<path fill=\"none\" stroke=\"#000000\" d=\"M1972.3231,-296.9465C1974.7318,-288.5965 1977.3434,-279.5427 1979.8638,-270.8056\"/>\n<polygon fill=\"#000000\" stroke=\"#000000\" points=\"1983.246,-271.7083 1982.6548,-261.13 1976.5202,-269.7681 1983.246,-271.7083\"/>\n</g>\n<!-- 61 -->\n<g id=\"node62\" class=\"node\">\n<title>61</title>\n<polygon fill=\"#399de5\" stroke=\"#000000\" points=\"1797,-149.5 1690,-149.5 1690,-96.5 1797,-96.5 1797,-149.5\"/>\n<text text-anchor=\"middle\" x=\"1743.5\" y=\"-134.3\" font-family=\"Helvetica,sans-Serif\" font-size=\"14.00\" fill=\"#000000\">gini = 0.0</text>\n<text text-anchor=\"middle\" x=\"1743.5\" y=\"-119.3\" font-family=\"Helvetica,sans-Serif\" font-size=\"14.00\" fill=\"#000000\">samples = 25</text>\n<text text-anchor=\"middle\" x=\"1743.5\" y=\"-104.3\" font-family=\"Helvetica,sans-Serif\" font-size=\"14.00\" fill=\"#000000\">value = [0, 25]</text>\n</g>\n<!-- 60&#45;&gt;61 -->\n<g id=\"edge61\" class=\"edge\">\n<title>60&#45;&gt;61</title>\n<path fill=\"none\" stroke=\"#000000\" d=\"M1826.8978,-192.9465C1812.8453,-181.1606 1797.1212,-167.9726 1783.1465,-156.2519\"/>\n<polygon fill=\"#000000\" stroke=\"#000000\" points=\"1785.0575,-153.2866 1775.1464,-149.5422 1780.5592,-158.65 1785.0575,-153.2866\"/>\n</g>\n<!-- 62 -->\n<g id=\"node63\" class=\"node\">\n<title>62</title>\n<polygon fill=\"#9ccef2\" stroke=\"#000000\" points=\"1922,-157 1815,-157 1815,-89 1922,-89 1922,-157\"/>\n<text text-anchor=\"middle\" x=\"1868.5\" y=\"-141.8\" font-family=\"Helvetica,sans-Serif\" font-size=\"14.00\" fill=\"#000000\">X[4] &lt;= &#45;0.355</text>\n<text text-anchor=\"middle\" x=\"1868.5\" y=\"-126.8\" font-family=\"Helvetica,sans-Serif\" font-size=\"14.00\" fill=\"#000000\">gini = 0.444</text>\n<text text-anchor=\"middle\" x=\"1868.5\" y=\"-111.8\" font-family=\"Helvetica,sans-Serif\" font-size=\"14.00\" fill=\"#000000\">samples = 3</text>\n<text text-anchor=\"middle\" x=\"1868.5\" y=\"-96.8\" font-family=\"Helvetica,sans-Serif\" font-size=\"14.00\" fill=\"#000000\">value = [1, 2]</text>\n</g>\n<!-- 60&#45;&gt;62 -->\n<g id=\"edge62\" class=\"edge\">\n<title>60&#45;&gt;62</title>\n<path fill=\"none\" stroke=\"#000000\" d=\"M1867.8274,-192.9465C1867.906,-184.776 1867.991,-175.9318 1868.0734,-167.3697\"/>\n<polygon fill=\"#000000\" stroke=\"#000000\" points=\"1871.5754,-167.1632 1868.1718,-157.13 1864.5757,-167.0958 1871.5754,-167.1632\"/>\n</g>\n<!-- 63 -->\n<g id=\"node64\" class=\"node\">\n<title>63</title>\n<polygon fill=\"#e58139\" stroke=\"#000000\" points=\"1859,-53 1760,-53 1760,0 1859,0 1859,-53\"/>\n<text text-anchor=\"middle\" x=\"1809.5\" y=\"-37.8\" font-family=\"Helvetica,sans-Serif\" font-size=\"14.00\" fill=\"#000000\">gini = 0.0</text>\n<text text-anchor=\"middle\" x=\"1809.5\" y=\"-22.8\" font-family=\"Helvetica,sans-Serif\" font-size=\"14.00\" fill=\"#000000\">samples = 1</text>\n<text text-anchor=\"middle\" x=\"1809.5\" y=\"-7.8\" font-family=\"Helvetica,sans-Serif\" font-size=\"14.00\" fill=\"#000000\">value = [1, 0]</text>\n</g>\n<!-- 62&#45;&gt;63 -->\n<g id=\"edge63\" class=\"edge\">\n<title>62&#45;&gt;63</title>\n<path fill=\"none\" stroke=\"#000000\" d=\"M1847.6988,-88.9777C1842.3242,-80.187 1836.5265,-70.7044 1831.1115,-61.8477\"/>\n<polygon fill=\"#000000\" stroke=\"#000000\" points=\"1834.0564,-59.9545 1825.854,-53.2485 1828.0842,-63.6059 1834.0564,-59.9545\"/>\n</g>\n<!-- 64 -->\n<g id=\"node65\" class=\"node\">\n<title>64</title>\n<polygon fill=\"#399de5\" stroke=\"#000000\" points=\"1976,-53 1877,-53 1877,0 1976,0 1976,-53\"/>\n<text text-anchor=\"middle\" x=\"1926.5\" y=\"-37.8\" font-family=\"Helvetica,sans-Serif\" font-size=\"14.00\" fill=\"#000000\">gini = 0.0</text>\n<text text-anchor=\"middle\" x=\"1926.5\" y=\"-22.8\" font-family=\"Helvetica,sans-Serif\" font-size=\"14.00\" fill=\"#000000\">samples = 2</text>\n<text text-anchor=\"middle\" x=\"1926.5\" y=\"-7.8\" font-family=\"Helvetica,sans-Serif\" font-size=\"14.00\" fill=\"#000000\">value = [0, 2]</text>\n</g>\n<!-- 62&#45;&gt;64 -->\n<g id=\"edge64\" class=\"edge\">\n<title>62&#45;&gt;64</title>\n<path fill=\"none\" stroke=\"#000000\" d=\"M1888.9486,-88.9777C1894.2322,-80.187 1899.9316,-70.7044 1905.2548,-61.8477\"/>\n<polygon fill=\"#000000\" stroke=\"#000000\" points=\"1908.2715,-63.6225 1910.4232,-53.2485 1902.2718,-60.0165 1908.2715,-63.6225\"/>\n</g>\n<!-- 66 -->\n<g id=\"node67\" class=\"node\">\n<title>66</title>\n<polygon fill=\"#e58139\" stroke=\"#000000\" points=\"2041,-149.5 1942,-149.5 1942,-96.5 2041,-96.5 2041,-149.5\"/>\n<text text-anchor=\"middle\" x=\"1991.5\" y=\"-134.3\" font-family=\"Helvetica,sans-Serif\" font-size=\"14.00\" fill=\"#000000\">gini = 0.0</text>\n<text text-anchor=\"middle\" x=\"1991.5\" y=\"-119.3\" font-family=\"Helvetica,sans-Serif\" font-size=\"14.00\" fill=\"#000000\">samples = 1</text>\n<text text-anchor=\"middle\" x=\"1991.5\" y=\"-104.3\" font-family=\"Helvetica,sans-Serif\" font-size=\"14.00\" fill=\"#000000\">value = [1, 0]</text>\n</g>\n<!-- 65&#45;&gt;66 -->\n<g id=\"edge66\" class=\"edge\">\n<title>65&#45;&gt;66</title>\n<path fill=\"none\" stroke=\"#000000\" d=\"M1992.1726,-192.9465C1992.0698,-182.2621 1991.956,-170.4254 1991.8517,-159.5742\"/>\n<polygon fill=\"#000000\" stroke=\"#000000\" points=\"1995.3513,-159.508 1991.7552,-149.5422 1988.3516,-159.5754 1995.3513,-159.508\"/>\n</g>\n<!-- 67 -->\n<g id=\"node68\" class=\"node\">\n<title>67</title>\n<polygon fill=\"#399de5\" stroke=\"#000000\" points=\"2158,-149.5 2059,-149.5 2059,-96.5 2158,-96.5 2158,-149.5\"/>\n<text text-anchor=\"middle\" x=\"2108.5\" y=\"-134.3\" font-family=\"Helvetica,sans-Serif\" font-size=\"14.00\" fill=\"#000000\">gini = 0.0</text>\n<text text-anchor=\"middle\" x=\"2108.5\" y=\"-119.3\" font-family=\"Helvetica,sans-Serif\" font-size=\"14.00\" fill=\"#000000\">samples = 2</text>\n<text text-anchor=\"middle\" x=\"2108.5\" y=\"-104.3\" font-family=\"Helvetica,sans-Serif\" font-size=\"14.00\" fill=\"#000000\">value = [0, 2]</text>\n</g>\n<!-- 65&#45;&gt;67 -->\n<g id=\"edge67\" class=\"edge\">\n<title>65&#45;&gt;67</title>\n<path fill=\"none\" stroke=\"#000000\" d=\"M2030.4827,-192.9465C2043.6286,-181.1606 2058.3382,-167.9726 2071.4113,-156.2519\"/>\n<polygon fill=\"#000000\" stroke=\"#000000\" points=\"2073.786,-158.8236 2078.8953,-149.5422 2069.1131,-153.6116 2073.786,-158.8236\"/>\n</g>\n</g>\n</svg>\n"
          },
          "metadata": {},
          "execution_count": 114
        }
      ]
    },
    {
      "cell_type": "markdown",
      "source": [
        "3. [DT]예측"
      ],
      "metadata": {
        "id": "SKDPzp5vwyaZ"
      }
    },
    {
      "cell_type": "code",
      "source": [
        "predictions = dtc_model.predict(X_test)\n",
        "predictions"
      ],
      "metadata": {
        "colab": {
          "base_uri": "https://localhost:8080/"
        },
        "id": "sRs3qBb8wwZa",
        "outputId": "d6b5c639-958b-4bb5-d821-caaaceaa748c"
      },
      "execution_count": 115,
      "outputs": [
        {
          "output_type": "execute_result",
          "data": {
            "text/plain": [
              "array([1, 0, 1, 0, 1, 1, 1, 0, 1, 1, 1, 0, 0, 0, 1, 1, 0, 0, 1, 0, 1, 1,\n",
              "       0, 0, 0, 1, 1, 1, 1, 1, 1, 1, 0, 0, 0, 0, 1, 0, 1, 0, 0, 0, 0, 0,\n",
              "       0, 1, 0, 1, 1, 1, 1, 1, 0, 0, 1, 1, 0, 0, 1, 0, 0, 1, 1, 0, 0, 0,\n",
              "       1])"
            ]
          },
          "metadata": {},
          "execution_count": 115
        }
      ]
    },
    {
      "cell_type": "code",
      "source": [
        "# 평가\n",
        "dtc_acc = accuracy_score(Y_test, predictions)\n",
        "print('Decision Tree 모델의 예측 정확도는 {}%입니다.'.format(round(dtc_acc*100)))"
      ],
      "metadata": {
        "colab": {
          "base_uri": "https://localhost:8080/"
        },
        "id": "XkVD2GZGw4_N",
        "outputId": "1ea0455a-6195-4d99-91b9-a9d1d26dd63d"
      },
      "execution_count": 116,
      "outputs": [
        {
          "output_type": "stream",
          "name": "stdout",
          "text": [
            "Decision Tree 모델의 예측 정확도는 94%입니다.\n"
          ]
        }
      ]
    },
    {
      "cell_type": "markdown",
      "source": [
        "> ### 서포트 백터 분류기(SVC)\n",
        "> - 서포트 벡터 분류기(Support Vector Classifier)이란 두 데이터 그룹으로부터 최대한 떨어져 있는 초평면(Optimal Hyperplane)을 구하고, 이것을 사용하는 이진 분류 모델이다.\n",
        "> - 서포트 벡터는 이 초평면을 결정하기 위해 사용되는 데이터 집합\n",
        "> - 분류나 예측 문제에 동시에 사용한다.\n",
        "> - 데이터가 많으면 예측의 정확도가 비교적 높아진다."
      ],
      "metadata": {
        "id": "UvhwrLx7xKr3"
      }
    },
    {
      "cell_type": "markdown",
      "source": [
        "1.[SVC]모델 정의"
      ],
      "metadata": {
        "id": "_VHuIWDpxitl"
      }
    },
    {
      "cell_type": "code",
      "source": [
        "from sklearn.svm import SVC\n",
        "svc_model = SVC()"
      ],
      "metadata": {
        "id": "F4wpyAbexIJA"
      },
      "execution_count": 117,
      "outputs": []
    },
    {
      "cell_type": "code",
      "source": [
        "svc_model.get_params()"
      ],
      "metadata": {
        "colab": {
          "base_uri": "https://localhost:8080/"
        },
        "id": "69xtP6XzxpN9",
        "outputId": "149a4819-b496-43ca-8e3e-0a7eec82ba6d"
      },
      "execution_count": 118,
      "outputs": [
        {
          "output_type": "execute_result",
          "data": {
            "text/plain": [
              "{'C': 1.0,\n",
              " 'break_ties': False,\n",
              " 'cache_size': 200,\n",
              " 'class_weight': None,\n",
              " 'coef0': 0.0,\n",
              " 'decision_function_shape': 'ovr',\n",
              " 'degree': 3,\n",
              " 'gamma': 'scale',\n",
              " 'kernel': 'rbf',\n",
              " 'max_iter': -1,\n",
              " 'probability': False,\n",
              " 'random_state': None,\n",
              " 'shrinking': True,\n",
              " 'tol': 0.001,\n",
              " 'verbose': False}"
            ]
          },
          "metadata": {},
          "execution_count": 118
        }
      ]
    },
    {
      "cell_type": "markdown",
      "source": [
        "2. [SVC]모델 학습"
      ],
      "metadata": {
        "id": "ENoao_mqxslr"
      }
    },
    {
      "cell_type": "code",
      "source": [
        "svc_model.fit(X_train, Y_train)"
      ],
      "metadata": {
        "colab": {
          "base_uri": "https://localhost:8080/"
        },
        "id": "c_DPCsX_xrFZ",
        "outputId": "135c1f3e-4464-4f5a-c3e5-9a1da63d11ab"
      },
      "execution_count": 119,
      "outputs": [
        {
          "output_type": "execute_result",
          "data": {
            "text/plain": [
              "SVC()"
            ]
          },
          "metadata": {},
          "execution_count": 119
        }
      ]
    },
    {
      "cell_type": "markdown",
      "source": [
        "2. [SVC]예측"
      ],
      "metadata": {
        "id": "iJp1x8TOxyWm"
      }
    },
    {
      "cell_type": "code",
      "source": [
        "predictions = svc_model.predict(X_test)\n",
        "predictions"
      ],
      "metadata": {
        "colab": {
          "base_uri": "https://localhost:8080/"
        },
        "id": "HNYSmYXJxxGY",
        "outputId": "7751a705-402e-41a4-f450-f3b8e77631c8"
      },
      "execution_count": 120,
      "outputs": [
        {
          "output_type": "execute_result",
          "data": {
            "text/plain": [
              "array([1, 0, 1, 0, 1, 1, 1, 1, 1, 1, 1, 0, 0, 0, 1, 0, 0, 0, 1, 0, 1, 1,\n",
              "       0, 0, 0, 1, 1, 1, 1, 1, 0, 1, 0, 0, 0, 1, 1, 0, 1, 0, 0, 0, 0, 0,\n",
              "       0, 1, 0, 1, 1, 1, 1, 1, 0, 0, 1, 1, 0, 0, 1, 0, 0, 1, 1, 0, 0, 0,\n",
              "       1])"
            ]
          },
          "metadata": {},
          "execution_count": 120
        }
      ]
    },
    {
      "cell_type": "code",
      "source": [
        "svc_acc = accuracy_score(Y_test, predictions)\n",
        "print('Support Vector Classifier 모델의 예측 정확도는 {}%입니다.'.format(round(svc_acc*100)))"
      ],
      "metadata": {
        "colab": {
          "base_uri": "https://localhost:8080/"
        },
        "id": "Aj7dVe3Rx5Aw",
        "outputId": "adcfdcd3-6ae3-4054-ba6e-111a6b4d24fb"
      },
      "execution_count": 121,
      "outputs": [
        {
          "output_type": "stream",
          "name": "stdout",
          "text": [
            "Support Vector Classifier 모델의 예측 정확도는 97%입니다.\n"
          ]
        }
      ]
    },
    {
      "cell_type": "markdown",
      "source": [
        "- 분류 모델별 예측 정확도"
      ],
      "metadata": {
        "id": "st5oyhfHyQCM"
      }
    },
    {
      "cell_type": "code",
      "source": [
        "accuracy_table = pd.DataFrame({'Logistic Regreesion' : [str(round(lr_acc*100))+ '%'],\n",
        "                               'KNeighbors' : [str(round(knc_acc*100)) + '%'],\n",
        "                               'Decision Tree' : [str(round(dtc_acc*100)) + '%'],\n",
        "                               'SVV' : [str(round(svc_acc*100)) + '%']})\n",
        "accuracy_table\n",
        "# 자료마다 분석 알고리즘의 정확도가 다르다."
      ],
      "metadata": {
        "colab": {
          "base_uri": "https://localhost:8080/",
          "height": 80
        },
        "id": "ADtkcFWcyFBD",
        "outputId": "2b4bd20e-93ff-41c8-9676-2c7ba157af03"
      },
      "execution_count": 122,
      "outputs": [
        {
          "output_type": "execute_result",
          "data": {
            "text/plain": [
              "  Logistic Regreesion KNeighbors Decision Tree  SVV\n",
              "0                 96%        94%           94%  97%"
            ],
            "text/html": [
              "\n",
              "  <div id=\"df-bffd6a56-5382-45ce-b2e2-cd8c74ef0e79\">\n",
              "    <div class=\"colab-df-container\">\n",
              "      <div>\n",
              "<style scoped>\n",
              "    .dataframe tbody tr th:only-of-type {\n",
              "        vertical-align: middle;\n",
              "    }\n",
              "\n",
              "    .dataframe tbody tr th {\n",
              "        vertical-align: top;\n",
              "    }\n",
              "\n",
              "    .dataframe thead th {\n",
              "        text-align: right;\n",
              "    }\n",
              "</style>\n",
              "<table border=\"1\" class=\"dataframe\">\n",
              "  <thead>\n",
              "    <tr style=\"text-align: right;\">\n",
              "      <th></th>\n",
              "      <th>Logistic Regreesion</th>\n",
              "      <th>KNeighbors</th>\n",
              "      <th>Decision Tree</th>\n",
              "      <th>SVV</th>\n",
              "    </tr>\n",
              "  </thead>\n",
              "  <tbody>\n",
              "    <tr>\n",
              "      <th>0</th>\n",
              "      <td>96%</td>\n",
              "      <td>94%</td>\n",
              "      <td>94%</td>\n",
              "      <td>97%</td>\n",
              "    </tr>\n",
              "  </tbody>\n",
              "</table>\n",
              "</div>\n",
              "      <button class=\"colab-df-convert\" onclick=\"convertToInteractive('df-bffd6a56-5382-45ce-b2e2-cd8c74ef0e79')\"\n",
              "              title=\"Convert this dataframe to an interactive table.\"\n",
              "              style=\"display:none;\">\n",
              "        \n",
              "  <svg xmlns=\"http://www.w3.org/2000/svg\" height=\"24px\"viewBox=\"0 0 24 24\"\n",
              "       width=\"24px\">\n",
              "    <path d=\"M0 0h24v24H0V0z\" fill=\"none\"/>\n",
              "    <path d=\"M18.56 5.44l.94 2.06.94-2.06 2.06-.94-2.06-.94-.94-2.06-.94 2.06-2.06.94zm-11 1L8.5 8.5l.94-2.06 2.06-.94-2.06-.94L8.5 2.5l-.94 2.06-2.06.94zm10 10l.94 2.06.94-2.06 2.06-.94-2.06-.94-.94-2.06-.94 2.06-2.06.94z\"/><path d=\"M17.41 7.96l-1.37-1.37c-.4-.4-.92-.59-1.43-.59-.52 0-1.04.2-1.43.59L10.3 9.45l-7.72 7.72c-.78.78-.78 2.05 0 2.83L4 21.41c.39.39.9.59 1.41.59.51 0 1.02-.2 1.41-.59l7.78-7.78 2.81-2.81c.8-.78.8-2.07 0-2.86zM5.41 20L4 18.59l7.72-7.72 1.47 1.35L5.41 20z\"/>\n",
              "  </svg>\n",
              "      </button>\n",
              "      \n",
              "  <style>\n",
              "    .colab-df-container {\n",
              "      display:flex;\n",
              "      flex-wrap:wrap;\n",
              "      gap: 12px;\n",
              "    }\n",
              "\n",
              "    .colab-df-convert {\n",
              "      background-color: #E8F0FE;\n",
              "      border: none;\n",
              "      border-radius: 50%;\n",
              "      cursor: pointer;\n",
              "      display: none;\n",
              "      fill: #1967D2;\n",
              "      height: 32px;\n",
              "      padding: 0 0 0 0;\n",
              "      width: 32px;\n",
              "    }\n",
              "\n",
              "    .colab-df-convert:hover {\n",
              "      background-color: #E2EBFA;\n",
              "      box-shadow: 0px 1px 2px rgba(60, 64, 67, 0.3), 0px 1px 3px 1px rgba(60, 64, 67, 0.15);\n",
              "      fill: #174EA6;\n",
              "    }\n",
              "\n",
              "    [theme=dark] .colab-df-convert {\n",
              "      background-color: #3B4455;\n",
              "      fill: #D2E3FC;\n",
              "    }\n",
              "\n",
              "    [theme=dark] .colab-df-convert:hover {\n",
              "      background-color: #434B5C;\n",
              "      box-shadow: 0px 1px 3px 1px rgba(0, 0, 0, 0.15);\n",
              "      filter: drop-shadow(0px 1px 2px rgba(0, 0, 0, 0.3));\n",
              "      fill: #FFFFFF;\n",
              "    }\n",
              "  </style>\n",
              "\n",
              "      <script>\n",
              "        const buttonEl =\n",
              "          document.querySelector('#df-bffd6a56-5382-45ce-b2e2-cd8c74ef0e79 button.colab-df-convert');\n",
              "        buttonEl.style.display =\n",
              "          google.colab.kernel.accessAllowed ? 'block' : 'none';\n",
              "\n",
              "        async function convertToInteractive(key) {\n",
              "          const element = document.querySelector('#df-bffd6a56-5382-45ce-b2e2-cd8c74ef0e79');\n",
              "          const dataTable =\n",
              "            await google.colab.kernel.invokeFunction('convertToInteractive',\n",
              "                                                     [key], {});\n",
              "          if (!dataTable) return;\n",
              "\n",
              "          const docLinkHtml = 'Like what you see? Visit the ' +\n",
              "            '<a target=\"_blank\" href=https://colab.research.google.com/notebooks/data_table.ipynb>data table notebook</a>'\n",
              "            + ' to learn more about interactive tables.';\n",
              "          element.innerHTML = '';\n",
              "          dataTable['output_type'] = 'display_data';\n",
              "          await google.colab.output.renderOutput(dataTable, element);\n",
              "          const docLink = document.createElement('div');\n",
              "          docLink.innerHTML = docLinkHtml;\n",
              "          element.appendChild(docLink);\n",
              "        }\n",
              "      </script>\n",
              "    </div>\n",
              "  </div>\n",
              "  "
            ]
          },
          "metadata": {},
          "execution_count": 122
        }
      ]
    },
    {
      "cell_type": "markdown",
      "source": [
        "## 분류 성능 평가하기\n",
        "> - **정확도(Accuraacy)**이외에 scikit-learn이 제공하는 다양한 성능을 평가하기 위한 방법 사용"
      ],
      "metadata": {
        "id": "s14KcZAMzbwN"
      }
    },
    {
      "cell_type": "markdown",
      "source": [
        "정확도 하나만으로 **'이 머신 러닝 모델은 성능이 좋은 모델이다!'** 라고 말 할 수없다.<br>\n",
        "만약 90%펭귄이 수컷인 상황이라면 모두 수컷이라고 예측을 하면 정확도는 90%이다.<br> 따라서 모델의 정확도만을 가지고 분류 성능을 평가하는 것은 주의가 필요하다."
      ],
      "metadata": {
        "id": "y5rWJCb5zuHS"
      }
    },
    {
      "cell_type": "markdown",
      "source": [
        "### 오차행렬\n",
        "> - 분류를 하면서 **모데링 얼마나 헷갈리고 있는지**를 한눈에 파악할 수있다.\n",
        "> - 실제 값 종류 별로 얼마나 맞추었는지, 아니면 얼마나 틀렸는지를 알 수 있어, **예측 오류의 종류 별로 분석**이 가능합니다."
      ],
      "metadata": {
        "id": "cfQytQmd0CIR"
      }
    },
    {
      "cell_type": "markdown",
      "source": [
        "> <img src=\"data:image/png;base64,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\" height=200 width=550/>"
      ],
      "metadata": {
        "id": "6R1Z_jYr0a6I"
      }
    },
    {
      "cell_type": "code",
      "source": [
        "# 라이브러리 import\n",
        "from sklearn.metrics import confusion_matrix\n",
        "from mlxtend.plotting import plot_confusion_matrix"
      ],
      "metadata": {
        "id": "WXPZhAuTzIUz"
      },
      "execution_count": 123,
      "outputs": []
    },
    {
      "cell_type": "code",
      "source": [
        "predictions = lr_model.predict(X_test)"
      ],
      "metadata": {
        "id": "Lyn9r1RS0sCE"
      },
      "execution_count": 124,
      "outputs": []
    },
    {
      "cell_type": "code",
      "source": [
        "# confusion matrix\n",
        "cnf_matrix = confusion_matrix(Y_test, predictions)"
      ],
      "metadata": {
        "id": "CBInWJmI09VY"
      },
      "execution_count": 125,
      "outputs": []
    },
    {
      "cell_type": "code",
      "source": [
        "cnf_matrix"
      ],
      "metadata": {
        "colab": {
          "base_uri": "https://localhost:8080/"
        },
        "id": "yU2bL54U1Dyj",
        "outputId": "fea72da8-14fe-4908-d0fc-7118eb38f6dd"
      },
      "execution_count": 126,
      "outputs": [
        {
          "output_type": "execute_result",
          "data": {
            "text/plain": [
              "array([[32,  1],\n",
              "       [ 2, 32]])"
            ]
          },
          "metadata": {},
          "execution_count": 126
        }
      ]
    },
    {
      "cell_type": "code",
      "source": [
        "# Confusioin Matrix 시각화 하기\n",
        "figure, ax = plot_confusion_matrix(conf_mat = cnf_matrix, # confusion atrix\n",
        "                                   show_absolute = True, # 절대값 보여주기\n",
        "                                   show_normed = True, # 비율 보여주기\n",
        "                                   colorbar = True)\n",
        "\n",
        "plt.show()"
      ],
      "metadata": {
        "colab": {
          "base_uri": "https://localhost:8080/",
          "height": 279
        },
        "id": "0YS55XBP1E-p",
        "outputId": "e6858740-eb03-4ef0-c059-ae068f4a184b"
      },
      "execution_count": 127,
      "outputs": [
        {
          "output_type": "display_data",
          "data": {
            "text/plain": [
              "<Figure size 432x288 with 2 Axes>"
            ],
            "image/png": "[encoded data removed]"
          },
          "metadata": {
            "needs_background": "light"
          }
        }
      ]
    },
    {
      "cell_type": "markdown",
      "source": [
        "> ### 정확도(Accuracy)/ 정밀도(Precision)\n",
        "> - 정확도와 정밀도는 항상 헷갈리지만, 함께 봐야하는 중요한 지표 중 하나이다.\n",
        "> - scikit-learn에선 0-1 사이 값으로 계산해 줍니다.\n",
        "> - **정확도(Accuracy)** :'전체 분류 결과 중' 에서 '실제 참으로 맞춘 비율'\n",
        "    - 전체 데이터에서 얼마나 맞췄냐?\n",
        "    - TP + TN / TP + FP + TN + FN\n",
        "> - 정밀도(precision) : '참으로 분류한 것 중'에 '실제 참의 비율'\n",
        "    - 얼마나 정밀하게 참으로 분류했는가?\n",
        "    - TP/TP + FP"
      ],
      "metadata": {
        "id": "waZkkn-P2FfI"
      }
    },
    {
      "cell_type": "code",
      "source": [
        "# libary import\n",
        "from sklearn.metrics import accuracy_score\n",
        "from sklearn.metrics import precision_score"
      ],
      "metadata": {
        "id": "ZsYDP8LK13ss"
      },
      "execution_count": 128,
      "outputs": []
    },
    {
      "cell_type": "code",
      "source": [
        "#정확도\n",
        "accuracy_score(Y_test, predictions)"
      ],
      "metadata": {
        "colab": {
          "base_uri": "https://localhost:8080/"
        },
        "id": "XZSYv5R028hN",
        "outputId": "99758c56-eaac-4290-b570-8565eb985baa"
      },
      "execution_count": 129,
      "outputs": [
        {
          "output_type": "execute_result",
          "data": {
            "text/plain": [
              "0.9552238805970149"
            ]
          },
          "metadata": {},
          "execution_count": 129
        }
      ]
    },
    {
      "cell_type": "code",
      "source": [
        "#정밀도\n",
        "precision_score(Y_test, predictions)"
      ],
      "metadata": {
        "colab": {
          "base_uri": "https://localhost:8080/"
        },
        "id": "csoO2FHH3AwX",
        "outputId": "db49ba1d-b39e-40ab-d136-3cfffe542689"
      },
      "execution_count": 130,
      "outputs": [
        {
          "output_type": "execute_result",
          "data": {
            "text/plain": [
              "0.9696969696969697"
            ]
          },
          "metadata": {},
          "execution_count": 130
        }
      ]
    },
    {
      "cell_type": "markdown",
      "source": [
        "> ### 재현율(Recall)\n",
        "> - 재현율(Recall)은 Hit Ratio등으로 불리는 지표이다.\n",
        "> - 정밀도와 개념이 유사하지만, 다른 점은 분모 부분이 '실제 참 값'이 들어간다.\n",
        "> - sckit-learn에선 0-1 사이 값으로 계산\n",
        "> - 재현율(Recall) : '**실제**참값 중에서 '참으로 분류한 비율'\n",
        "    - 참 값을 얼마나 잘 재현 했는가?\n",
        "    - TP / TP + FN"
      ],
      "metadata": {
        "id": "VItxdww43I5P"
      }
    },
    {
      "cell_type": "code",
      "source": [
        "# libary import\n",
        "from sklearn.metrics import recall_score"
      ],
      "metadata": {
        "id": "35j3fRSb3Hh7"
      },
      "execution_count": 131,
      "outputs": []
    },
    {
      "cell_type": "code",
      "source": [
        "recall_score(Y_test, predictions)"
      ],
      "metadata": {
        "colab": {
          "base_uri": "https://localhost:8080/"
        },
        "id": "bu8zetme3qDz",
        "outputId": "bb305a38-0410-412b-a19c-a19d952003b7"
      },
      "execution_count": 132,
      "outputs": [
        {
          "output_type": "execute_result",
          "data": {
            "text/plain": [
              "0.9411764705882353"
            ]
          },
          "metadata": {},
          "execution_count": 132
        }
      ]
    },
    {
      "cell_type": "markdown",
      "source": [
        "> ### F1점수 (F1-score)\n",
        "> - F1-score는 재현율과 정밀도가 한쪽으로 치우치지 않았는지 나타내는 지표이다.\n",
        "> - 재현율과 정밀도는 한쪽이 높아지면, 다른 한쪽은 낮아지는 관계(Trade-off관계)가 있습니다. 만약 정밀도를 높이려 하면 재현율이 낮아집니다.\n",
        "> - 주로 **데이터가 심각한 불균형 상태일 때** 성능 평가를 제대로 하기 위해서 사용\n",
        "> - F1점수(Recall): '데이터 불균형을 보정한 분류 성능'\n",
        "    - 데이터가 불균형을 보장한 분류 성능\n",
        "    - 2 * Precision(정밀도) * Recall/ precision+Recall"
      ],
      "metadata": {
        "id": "WE0-pFL631hx"
      }
    },
    {
      "cell_type": "code",
      "source": [
        "# libary import\n",
        "from sklearn.metrics import f1_score"
      ],
      "metadata": {
        "id": "LMzdLloH3wu2"
      },
      "execution_count": 133,
      "outputs": []
    },
    {
      "cell_type": "code",
      "source": [
        "f1_score(Y_test, predictions)"
      ],
      "metadata": {
        "colab": {
          "base_uri": "https://localhost:8080/"
        },
        "id": "y03_DnCX4lB5",
        "outputId": "08065a71-18c6-4bf5-ef13-7b6d47e5f4b5"
      },
      "execution_count": 134,
      "outputs": [
        {
          "output_type": "execute_result",
          "data": {
            "text/plain": [
              "0.955223880597015"
            ]
          },
          "metadata": {},
          "execution_count": 134
        }
      ]
    },
    {
      "cell_type": "markdown",
      "source": [
        "> ### **ROC(Receiver Operator Characteristic)커브**\n",
        "> - ROC 커브는 분류 모델의 판단 기준을 연속적으로 바꾸면서 성능에 어떤 변화가 있는지 측정하는 방법입니다.\n",
        "> - TPR(True Postive Rate): 참 값에 대해 참으로 바로 예측하는 비율\n",
        "    - TP/TP+FN\n",
        "> - FPr(False Postive Rate): 거짓 값에 대해 참으로 틀리게 예측하는 비율\n",
        "    - FP/FP + TN\n",
        "> - 커브 아래 면적을 AUC(Area under the ROC curve)라고 한다.\n",
        "> - 이 AUC 면적이 클수록 성능이 좋은 모델이다."
      ],
      "metadata": {
        "id": "Od8xyz4A4ujx"
      }
    },
    {
      "cell_type": "code",
      "source": [
        "from sklearn.metrics import roc_curve\n",
        "from sklearn.metrics import roc_auc_score"
      ],
      "metadata": {
        "id": "bw2y5D4m4nEW"
      },
      "execution_count": 135,
      "outputs": []
    },
    {
      "cell_type": "code",
      "source": [
        "# roc 커브 시각화\n",
        "fpr, tpr, _ = roc_curve(Y_test, predictions)\n",
        "auc = roc_auc_score(Y_test, predictions)\n",
        "plt.plot(fpr,tpr, label='aue='+str(auc))\n",
        "plt.legend(loc='lower right')\n",
        "plt.xlabel('False Postive Rate')\n",
        "plt.ylabel('True Postive Rate')\n",
        "plt.show()"
      ],
      "metadata": {
        "colab": {
          "base_uri": "https://localhost:8080/",
          "height": 279
        },
        "id": "ZTtQPO2o6AWe",
        "outputId": "8ee1ef43-48f6-497f-80d8-62b7a57d1384"
      },
      "execution_count": 136,
      "outputs": [
        {
          "output_type": "display_data",
          "data": {
            "text/plain": [
              "<Figure size 432x288 with 1 Axes>"
            ],
            "image/png": "[encoded data removed]"
          },
          "metadata": {
            "needs_background": "light"
          }
        }
      ]
    },
    {
      "cell_type": "code",
      "source": [
        "# 전체 분류 모델 성능 지표\n",
        "accuracy = accuracy_score(Y_test, predictions)\n",
        "precision = precision_score(Y_test, predictions)\n",
        "recall = recall_score(Y_test, predictions)\n",
        "f1_score = f1_score(Y_test, predictions)\n",
        "auc_score = roc_auc_score(Y_test, predictions)\n",
        "\n",
        "print(\"accuracy: {}\".format(round(accuracy, 2)))\n",
        "print(\"precision: {}\".format(round(precision, 2)))\n",
        "print(\"recall: {}\".format(round(recall), 2))\n",
        "print(\"f1_score: {}\".format(round(f1_score, 2)))\n",
        "print(\"auc_score: {}\".format(round(auc_score, 2)))"
      ],
      "metadata": {
        "colab": {
          "base_uri": "https://localhost:8080/"
        },
        "id": "xjxBrFKP6h1n",
        "outputId": "929f8463-4c6a-4de6-8ae6-5f2463719161"
      },
      "execution_count": 137,
      "outputs": [
        {
          "output_type": "stream",
          "name": "stdout",
          "text": [
            "accuracy: 0.96\n",
            "precision: 0.97\n",
            "recall: 1\n",
            "f1_score: 0.96\n",
            "auc_score: 0.96\n"
          ]
        }
      ]
    },
    {
      "cell_type": "markdown",
      "source": [
        "> ## 회귀 분석 모델링\n",
        "- **`수치형`** 데이터를 예측하기 위한 대표적인 지도 학습(Supervised Learning) 방법론인 **회귀 분석**"
      ],
      "metadata": {
        "id": "r8Gb8HTHPCBz"
      }
    },
    {
      "cell_type": "markdown",
      "source": [
        "> ### 회귀 분석(Regression Analysis)이란?\n",
        "- 회귀 분석은 데이터로부터 변수들 간의 함수 관게를 찾아내는 방법이다.\n",
        "- 과거 **수치형** 데이터로 부터 함수관계를아 찾아내고, 미래 수치형 데이터를 예측한다.\n",
        "- 부동산 가격 예측, 고객 수요 예측, 원재료 가격에 예측 다양한 문제를 해결 한다.\n",
        "- 과거 데이터 패턴을 학습하는 방법이기 때문에, 변동성이 심한 문제는 모델 성능이 떨어질 수 있다."
      ],
      "metadata": {
        "id": "h1yLlvZ_Plpy"
      }
    },
    {
      "cell_type": "markdown",
      "source": [
        "> ### 선형 회귀(Linear Regression)\n",
        "- 선형 회귀란 **변수들 사이의 선형적(직선적인)함수 관계를 모델링하는 방법**\n",
        "- 데이터를 바탕으로 **변수 관계를 설명하는 일차 방정식 함수**를 만들어 낸다.\n",
        "    - `Y= WX + b(W:기울기, b :y절편)`\n",
        "    - 학습 방법은 경사 하강법 알고리증 사용\n",
        "- 학습을 통해 제일 합리적인 선을 찾아내는 것\n",
        "- 만약 `변수들의 상관관계가 없다면` 합리적인 선을 `찾아내지 못할 수 있다.`\n"
      ],
      "metadata": {
        "id": "Q4ONhhYYQyQA"
      }
    },
    {
      "cell_type": "markdown",
      "source": [
        "> ![linear_regression.png](data:image/png;base64,iVBORw0KGgoAAAANSUhEUgAAAoQAAAEQCAYAAAApqGWHAAAAAXNSR0IArs4c6QAAAARnQU1BAACxjwv8YQUAAAAJcEhZcwAADsMAAA7DAcdvqGQAAMXaSURBVHhe7P1XlBxZdqYLzsudh5m77tvcXvf2mu5ea6bVJXvIJrtJFkVTFlVTFavIqmKlqFQAMoFEAkhkIpGZ0FprrYFABCIQWmuttdZaS3cP1zL+2fu4W4SFwwMaEQBif8Afpo+Zm52z7T8mjv3fIAiCIAiCIKwqLBYLbDYbXC4XvF4vxBAKgiAIgiCsMurq6tDR0YGRkRGYzWYxhIIgCIIgCKuNsLAwpKamoqamBsPDw2IIBUEQBEEQVhvbtm3D+fPnlSnkK4ViCAVBEARBEFYZP/7xj5UpvHfvHmpra8UQCoIgCIIgrDb+4A/+AGvWrMHFixdRXl4uhlAQBEEQBGG18Vu/9Vv45S9/iXPnzqG0tFQMoSAIgiAIwmrjBz/4AT788EP1HGFZWZkYQkEQBEEQhNXGH/7hH2LdunW4fPmy3DIWBEEQBEFYjfzZn/0Z1q9fj6tXr6KyslIMoSAIgiAIwmrjhz/8ITZs2IBr166JIRQEQRAEQViNiCEUBEEQBEFY5YghFARBEARBWOWIIRQEQRAEQVjliCEUBEEQBEFY5YghFARBEARBWOWIIRQEQRAEQVjliCEUBEEQBEFY5YghFARBEARBWOWIIRQEQRAEQVjliCEUBEEQBEFY5YghFARBEARBWOWIIRQEQRAEQVjliCEUBEEQBEFY5YghFARBEARBWOWIIRQEQRAEQVjliCEUBEEQBEFY5YghFARBEARBWOWIIRQEQRAEQVjliCEUBEEQBEFY5YghFARBEARBWOWIIRQEQRAEQVjliCEUBEEQBEFY5Ygh1DP3GAmCIAiCILyliCFUho/+KGnDS0gQBGFV4AtIEITVwuo2hMro0R8xhIIgCAHYCHr9XYl9grBqWL2GcN7o0Z9gQ6hVjrVhTYIgCG8bi2Ic/3EHRP2LpgmC8DYjhlAZQa4Ja+Jh/fSABEEQ3iZCxTmOgXCQ7FQp9i6uHAuC8Fazyg0h/VEmkALfnIcCH9eKXTrROJ4m0VAQhLcJFf9YgRjo08Qxz0qaJZEx9NF0zRCyBEF4axFDqJlBJSeN5Noxi/vdNAuNl0goCMLbhGbwVAwkacaPTeGcjWQkWUgcF3lcYH5BEN5a5KUS7Qqhz02x0AmXzwGnzwXXnFvJ4/NSvJxTMVMQBOGtQTN5LDaD87hpHJlBsLhyLJViQVgNiCGcv2XMxs8HO6lv0oDShlaMzdrVjWO5aSwIwltLILiNDE2jo30ENivfHWETaCeJIRSE1cLqNoQKDnQL1eNZjxdxObXYf+4BihqHYKdJPJUlVwkFQXhb4HCmhTQ3eb7k1BqcvxiPtq5xNc5LRnBOmcGF+CgIwtuLGMIAHBj5lZKWYSu+Ox6F97+6jPMPijHr9alwyFcJ1eM1NKMyhlokFQRBeMPQQphW2e0aMOPY+VSs23oJ0ZkNmHTw3ZJARZgkCMLbz6o3hPpgx0HwfkY71u2Jwi++DcfnR2NR2j6qbpyolrk4QJLUXeZ5ZygIgvBmwhFs1ODBnZh6fL4vAe99+wBfnk5EetMozIHpgiCsDla1IeRgx1f+WBb6U9Y2je/OZ+GTg8n44GAq3tsTiRPheeiYMPsNIYsW8pER5OcN5w2hRE1BEF5jOEQFi3FSGCuoGcU3x9Lx/s4kvHcwCz+nuLc/vABd0/xSiQ5tIUEQ3kpWtSHk2yH8hAwbvV6jB5djyvDpgRisPZqONcezseZIItbtu4HI7CpYfHPKOPofr+bIyEsHkEApCMJrjBaxVJf+cBxjhqbMuBiej82HkrDmUDY+Ol6IT06mYt3RcCSUtMMdCHPzj8mwBEF4K1n1hpBNnp0iZF5tLwXF29h2Ng1bzuXiU6oxb7uUh0/338TXx6+jsmOAatNzOhuoi4wSJAVBeI3hEMWxS5lCGlAVYepJySvBVwduYNfFPHx9sQJrT+Zj+60SbDh2D3suRKNjYIrm9C8jhlAQ3m5WvSFkLHYXwhPzsPXgdVxPacEeCoifHU7Aiag6HA3LxaaDl5BYUAtroLrsj4m6yChBUhCE1xgOUcoMqiF/12i3435cMvacCsONhBYcvNeAdUfTcSahCScisvH9sRsor+70L8DwQhLrBOGtZZW/VOKPbi6XG5UNnUjIrUd69QRO3C/DxkPRuJ7ahviyfoRlVKCmexxW7xLRUIKkIAivMcFejvuNVgvyyqoQm1GFjMoJHAurwdoDcbid3YHM2n4aX4qOzrGFmrPEOUF4qxFDSNHO5/OB22IdMvpQ2W3FuahKbDocjfvZXagfcaBrxoFp55xqpFoQBOFNQzOEmqfjrtvrwdD4DNoGZlHT6cDBG4X4aHc4Igo60W1woX90FoYZu/+5Gv3CgiC8laxyQ0jMeeH1utXD0xY30Gvy4VpCHTYfjkJccR/GyAWST1Tt9WsVZT8SHQVBeLPhmGak4NYxOocT90rwyb4wxJX1YMYDWCkeerhZBTGEgrAqkCuE/Mk6MoQMP2g9bPPiVlI9th6JRHJZPwwUMa00G3/MaXE85KHFFlEQVi9cHjQJrw1PcUjsFPgGZoBLMTXYcPgBkit6MUuhzaktJ4dVEFYFYgjnyAz63Cre8S3hYSsbwlp8fSQCqWW9MHn9t4rZLC7ERO5jM8hVZ0EQ/GVCk/BaoD8kjzksLgplQ0bgQnQVPj10HylVPbDxeJJW5ZWjKghvP6vcEHK4I0M4x9/sDDaE4Ugt7YaZDCGbQe+idhfYCLK0cCkIqxBxCa8v+nAVrCA0Q3g+uhJrD9wlQ9ilvs7E8VDuFgvC6kEMIdu9Oa/q49vCQ8oQ1vmvELIh9PgbpPbN+TBHxnHBDIohFFY5kv1fX/QGMFhBsCEcNAHnYirwMRnCZDKEHAv5QRo+xEssJgjCW4YYQnX9z6fsnWYIbybVK0OYRobQQoZQBUUyjXwlUQyhIPhRRUJdOdfgfi4j+puNwoqgubhQCkJdISRDeDa2Ah8dvKOuEOofk1liMUEQ3jLEEIohFIRnhj/lzW+g+rxcDhju2mC3D2JiohUul9k/WlgZ9E4uWEGIIRQEgZGXSgLGjv8uNoQPxBAKQiio2HipKHipbPjLkAe+uRlMG6tQUX0XhcW3YTQOqFmFFUI7NKEUhBhCQRAYMYTK2PmfE1xsCCORVtIDm3fOHxDFEAqCgu8S++azPpeOGQyPFiIr7wSS0r5HcdlFzBj4k2diI1YMFbSWUBDBhpCfIQx+oSTEYoIgvGWIIfRf/5s3hIMWL24k1mHr4QdIKdYbQpqPpebXJGFSWCUsyuqqRJC8cLsnMDZRiYycc0hMPYjC0nPo7c+A3T4amEdYEbRDFEpBPM4QSqQThNWDGMJAuFswhB4yhDXYwg20lvSq7xeroLjo4XlBWD1oVwQDVSMSv39qgd3Rjaa2eKRlnUZs0lHkFNxAU2sOxie6yShaeVFhpdAOVSgFsdQtYz7K+quEgiC83axqQ+g/wflUV28Ir5Mh3Hw4EkklfeoKod8Q0h9BWEVoRsAvKgc+fmSCP+JohNnahIraO0jOOIrEtGPILbqLlo4STEyNwGZ30LxSYFaUxQdvsYKQZwgFQWBeD0OoHJe/95l5UrTiaVr6LN28/kX9tpANIZ/q+s0eXEuoxqZDD5BY3At74JaxIKwe/CVCKxuaGJ/PgAlDFQrKLiA+dTcy886gtOoBOnoqMGOYgNPpg4echHq6Qng69DtY368RalwoguOcpuDhIMQQCoLAvFaGkNs0W9yu2VPwmNkXpccdcn1zuisX3MenPF69du1jwRBGiiEUViWqTJCj48ck/GWE8cDtMaBnMB85hReQmL4f6bknUVoZjo7uEhhnJ+Bye9Wt5YUXTlYnvufcASpecXwKDjgLB+Hx8GoD0tJRXR6npcEKQgyhIAjMa2MI58h4uZwuOOxsy54CilA+vp3r9VHQ46+IPBqyPG4PpcnfKvanPx8sA7NyRwyhIATgjM7lgwsE9S/kezfszn40dyQgNfsImcEDKCq/hdrGZPT018JgGoeHy2Fgbv2Sby1aLOG4EoBjkJdM8axpFt759hmfjGbafB4y4aRFcPKBdc3v1kA/G0+Of/NQL2+Pl9Lwejz+7aH4p7aRl11CLtpUMYSCILw8QxiIGIODgygrKcP4+Lh/xNMQCHgcwDjI2aw2WMzWRcF2KdhEFhUUoqW5JTAmAC3KgXbeCGrokuReMYSC8DhcmLX0oKImAvGp+9Vt4pzC82hoTsPAUDNM5mkyg3rzw6WFS5O+0L2dsOnTKrCTE5PIzszGzPSM3wwGYtqS8G4KTFdxiuRwOGC32cnM+fcnp8MGk+fjOMbyqbYfAYPBgML8QvT19KlhRWA+rgj7TWYgcnGHk2Rxf5DEEAqCwLz0K4QR9yPwt3/zt0hJSQmMeTacTieuX72O7d9sh2HaEBi7NI0NjfiLH/45Tp08HRgTQBfF2GhykGTpI5t/FjGEghAK35wdE1NNygzGJB1AbNJ+lFTeRmtnFoZGW2G1GeD1kfmgeReXkdVRYjiusPHyeDyICH+A//EH/wMV5RVwOpz+XRBkCJVJ0+0azeQxvMzVK9dw7OgxjIyMqHFulxsuh/8OB98N8V/58yfaUN+Av/nrv8GZ02fUsB5tu3hdLrvT3y+GUBCEJ/ByDKEuYly8cBG//d9/G8nJyf4RzwjXkq9fu47vvv2OattPNoSVFZX4b7/533Bg/4HAmEfhq5Unj5/E3Tt3A2P8+DdbDKGw2tAVWK2XCwEZCb9r4AZHbJgytCG/+A6iYg8gLec08ktuoqM7F5MzHbA7jbSY/t/qha/k3b51G7/yf/0KSopLAmODYFMXfDuYCex/Nm23btzCoYOHMDQ0pG4FP+7xmfLScvzgd36Aw4eOBMYs4ObHZAi+03KWKsoN1XVqWBFYn/6AyTOEgiAwL/0K4ZXLV/CD3/4BEhMSVaA0GU2w2+3+ieqk4+9lZo2zGOgfhNFA0SgAB0ajwYjpyWlVQ9bgdCYnJ9UtGb6dzMGSa8LVVdX4vd/9fRw/dkLdbjbMGDA7O6uW4bR4nrraOvz1X/01Nn6+EU6qMTsdLvXAvNvjf5OSN0sMobB64BxPxo8NIPdqUobQQb2TGBwtQWbeZUQnHEVW3lVU1ceiq7cIE9PtsDkmaR4nzc7lx99sk/7faoPjHFc2f/3Xfh1NjU3wUFwZHxuH270QvxjteT+OZUODQ5iemva/gEK7jJ/bnJmawcjwiLpLwnDs4jjH83Hc436+ksjiivBf/Plf4PSp0yoNTtNE8VTBh5bGNTc04X9QbPzmy68wPjQCt42OLd/ODkIMoSAIzEs3hNevX8fv/eD31C3fLZu/xO9S/6frPlO3ONStC4Jv3aalpuG9X7yHH/7pn+Mf/+EfER0V7Z/m8SD6YbS6dcKGkens6MS2r7bhr/7yr1QQ5O7f/90/KDPY2tKqhj9d+ym+3f4t/uD3/4Cm/T3SUtLUst3d3Xj/3ffxv/0//zf8+//Pv8ef//AvcObMWTVN3VqhfxymxRAKqwfO7WRW2IVw5uYCoDK5HS73IPqH85GRex6xSUeQXXBdvTzSO1AFg2kADpcB3jk7LeKmShV/w9irpDeGq80+sCEMu3cfv/J//aq6U/HxR5/gt/7bb+HDX36Ivl7dM35E5IMo/OynP8Nf/vlfqkdromhYPcpCXL1yFYcOHMLY6Jga5tj25ZYt+LM//TP86Z/8qdKaT9agqLAIzU3N+LM/+SE+o9i6Y8cO/NEf/hH+7m/+DinJ/kd1RoaG8fc0/H//X/4X/J//r3+Fv/uLv8aDO2GwU2U6GDGEgiAwL90Q3g+7j3/7b/4tfuPXfxMnT5zCmdNn8V9//Tfw3jvvweXiMANkpGUo47Z/737kZOdg987dZBx/F6mpqbBardj29Tb8zm/9Dnq7yZDZ7BRgP1amMT42HsePHce/+t//d/zD3/8Dhino9fb0qlsn/+7f/DtlCMPuhuF//vX/VM/zVFdXw2az4drVa/hVCtZ/+id/hrCwcBpfQycxDnL+f2IIhdUD52a+ckVlUTOE6rViOyy2VtTUhyE++TCi408gv/g+WjryMDjaCKN5BB4fG0F+ZpCbpPEbQb8p5HELptCf6OqBDeGDiAcU9/4dfue3f6Bi1NHDR/Hv/7//Hlu/3Dp/xyIhPgG/+7u/h2+/+Vbd8t21Yxd+97d/F3GxcWr6p59+hj/4vT9Ad1e3elP503Wf4q/+4q+QGJ+o5v3X/8e/xru/eAdGo1GZxV/7tV/H//Gv/g9s/mIzrly+ShXjv8Zv/sZvoqe7R11FvHvrDv7zf/iP+Pu/+huE3byN9sYWeHR3XTTEEAqCwLx0Q3jn9h0VCPeR2eOgxiZw86bN+I3/+hsYGhzG1NQUPv7wY/zJH/0JDDNGtUxfXx/++I/+GB988AFmZmawa+cu/Mkf/6man2+h/Jdf/S9kLk+qefmt4r/8i7/E11u/Vs8btrW14Tf/62/iFxQo+dkbjlz8PM9vkiG9TUGQ6ejowI/+/kf4fMPn6qogowU4MYTC6oJzM5/uObdzzmfsMFtbUFl9AwnJu5CQehzZeeGobyrE6EQnrI4ZeOcWjASnoMoNGcnFhtBvChdK1+qADSFXhP/Dv/+POHHsBMxms6rIrv90PX6PDOBA/4Ca7x2KUT//6c9VvGP4SiDfZl63Zp26nfzllq34u7/9e0xNTqGKgvHv/uAH2LVrt5q3va1dVXTXrV2nhuvr6vGbv/mb+OX7v8ToyKj/xZb7Eco08uM6zDil/+cUR/eSmbSwKeXDEuLwiCEUBIF56YaQb3vw1T2+JazBbwBzzZWbhunt7VXm71f+86/gm23b8cXGTfjss/X4rf/+W/jwww+VIdxNQfAv//KvlHnkZ2f++A//GB999BEt20eBsopq4b+Ds6fPqmdnGusb8QOqZR8+dDiwNiAzIxM/+J3fxdnArWGuMf/d3/6dqnFrsDHk5cUQCqsPzu38XC9rFuOTJSgsOY3E1J1IyTiCssqH6Oiqw8T0KBwuG5UVzTgu4L/CztKM4Oo2hPfu3sP/77/82qKXSjju8QtvHe0dqlkaNodcMebbvFw53bB+A/7N//vf4HPquh1udWfkp//8U/XMYE93t3qc5ic//ic1nJOTg9+muMqxkamrq8Mf/sEfqiuRGuVl5epOSER4hBqempjCX//wr3DswGFYDIHnC/0HbRFiCAVBYF7JSyW//7u/j9SU1MAYqFvH/ExNa3OreqbvT/74T9QzL3yb5cb1G7h18zbu3bmHqooqWCwWFfS4NsxmkN/M42cAuSb9o3/4kbo6yFcYucbM1NbUqmcW9YaQzSgHT80QNjY24Yd/9kP1UokGG0Kvj09g/lMYP2rNj3IPLDKEfWIIhbcMzs98urfC4xlC32AWCopPIT7lGySn70dx2T10dFbAYDTAFeqt2AALRoErVQtm0F9aVleJ0RvCstIyNY4rm6dPnaE498eqIjwzPa1i3k/+8Se4cfWGamKGK883rt9ERXmlmn/TF5vUc4VDg0PKQL7z83fw7/7tv1Mm8W//59+q+MXPUzN8hZDvsvAzhxq8bo6TkQ8i1XB/bz/+4Ae/j2OHjsBmtvgPi5uOadBhFUMorAj6zCUZ7LXglRhCNmjaw80MN/nCzwh2tHWoJmD++Sf/rN76DQW/kbxn9x71ogjfOuFnZfhh6m1ff4Pw++GIjYnF0MBwYG6gprpGrY+ba9AINoQckP/8z/4cX2z8Qg0zfOJyUyDnLudFNoQcBAfJEF5XhjCKDGE/bI++lCcIr57gYLmUnhleyA6rvQctbXHKBCal7kFe4XlU1z7E4FANTKZxuEI8a6ZnYRP4HxtBvxn0l6bn2rA3llBXCLnCyRVhvirY0tSi5uGXPj54/0MV1x6BdhlfMfwxGUa+M5Kfl69i1rZt25CUmIyE+ET15rIGXyHkOycH9x8MjAFKS0rxX3/9v6qKNjM8MIQ/+v3/gZ3ffLfQYoN2aVdHsCFMDhhCDn3a0QxaRBBeDH3G0ksRaoJewqvipRvCC+cv4L//xn+nIJYUGAP1xjDfMq6pqVXPuty9fVc9Z7hh/ed48OCBev7m3NnzKqDxSyX8hjLfQuZnb/i2xw8pMP7mb/w3vPfueypofrv9O/WmHcNNyvw3mrZv7z41zLAZ/Y1f/w0VkBl++eQff/SPap3nz51HcXExGU8HxUZ/BuO/XGnmkDmkrhDW4ItDD5FAhpCvEM6j5UdNgvAqCM5nT9JSBKb5Z2PDxtd83LA5BtDUHo/EtAN4GPctmcGLaGrOwMhoC1xuM5kZqihpz9oGHq14PNqGaFpdsNnj55b/03/8z/NxiffbsaPH8Z//039GdWW1GnftyjX82q/+GtZ/tkHFx5joGJrnqHpekHcbj//HH/1YGca21jZlINngrf1kLTZ8ugFff7UNeXl5Kq3aWv+dkb2796phhhvF5rYQ+cU6htsh/NHf/j1+5T/8J5w4fBT1VHl2B17s0/MkQ8hHf/UdVeGVoYWJUAo5knOglgs1Ca+C5zOE+uMSdHyyMrOwdctWZe40OPB9tm49Otr9tzv4rbvLly6rt375bWHWGgp63LaW1jA1X83jmvLI0Aj+9I//FO/8yzs4T6aR3xjmJmfY8PEtkonxCQqUX6umajS4OZoNFFwfBpqy4RdbMjMz1Xr4dvWNGzeUMdXDP4HHDFs8uJ5Yiy8ORyOhZIAMoZq8wBK/WxBeCsH561mlCAzMj+M/Xvo3jQlDDSob7iOBzGB04l7k5F9GU0sWRse6qJJk5pkfQTOHQmjYMGdnZeOTj9eol9wY3mdRkVHqJZCuji41zmQyqQrzP1D8+qef/BN+/I8/JhO4HvV1/oaj+Tby3r17YZm1oL62Hn/zP/8W//xP/4w7t+7g9MnTyiBys1lcCe7v78eXW76cvxrIdHV24ZOPPkF6avr8MUtNTMYP/+hP8MP/8UdIiIp5KkOov2WsPw0LwgujZSYl+vOIgs0f9/NJmCW58VXz/IZQO26aAseI37AbHBhUpk+7usDPAnZ398w3Js1wt76+Xt0aKSgoULeGucFobquQbytzwOOGXS9cuIBf+y+/pgKkBgfB//X/8b+qmjDPz28Xc2PW/KYer4+vMvb09Kiattb2IcPNOXANu6+/jzZ3bv6boRr8M0bNHtxIrMHGI9GILxmC40mGcCF5QXgxQuWtZ5VCVyBV1wO3dwoDE0XIKTuP6NRdiEvdj7zim2jrKsD4ZB9sdut82RSeEdrdbPb4+WiOcXzFkGMLxx9+iU59yi4AxzRuvDo3Nw/5+fno6uqab8B6cmJCxTKOWfyyyO//3u/Pm0WGK8P/+v/81+rRGa7k8tvK09PT/ol06KwWqzKF/GKedvi5geqmhiYU0PpGqXI9x41jBx3mpQwhb5WWkyRnCC+MlpGU6M+8OE9qWjB//rsa/FgXt2Kw0JKBP1cKr4KXagiDTyjKEAZa59dQ3+8Mmk+Px7lw5Y7ni4yMxK/+6q/ivXffVzVofkbxJz/+iXo4mwOrHp7/kW3g9YV4bobHBd8K41nGlCGs9hvC0iH/FUL9stwfLEF4GYTKWyxdGXusGH2/OqXPwuHuR+9oLnLKLyEqaR8Ss06jtPYhOnrLMWMagdPDX+7xLyE8B4vDiHpeL7iyyXck9F9eehJs+n6bW1744EOqFF9UL6j86Ef/qFpL6Oz032nR4FjGX2AK3o6FfKBjUf7w87grhNrsoZIShGdCn5n4PK1EmY9N4Lw41/nFJtBHOVE1gq/konFchoJPysLL4uUYwsCx0RsvDojq2518vLWzDffrDCF3uTatlgnM4nF54HEvPMPEVxz56yd8O4afOfx8w0Zs37YdVVVVymzy8rweTpcfhPfSOF6UPwav1svbR3B6bACVEQxRS2Z4FBvCm2IIhZUgOF9x3tW6Wj+L0fr147hnfpgX4FvA4+geTEJq/jEkZR9HWt5llNQko3OgCZPGSdjdHGT9zCcjPD28yymmsDjmqTjD8SgQvxiON8okUlfFJZo2Px8N83L8/WFteU6T23ANuxdGce8Tddt5zcdrsWvnbtXsloJn4zQ43tG61VXGhVX6+zU9ATGEwrKgz0wqn1PGW2QGWZzr2PSxIfQbQS/lRhb3+3OlFgyFl83zv1TCx4OPi3Zs9CI4UGnBioOggs2V7lhSWKQgGAiSPE9gef6UEy83D/Xydz7bW9vVc4gux8JzMFpQZbmdHpUer0Mbp6WpSduuUPAsYgiFFSM4X2llhbtavx799Hn4tgoHThcs9k509qYgq+AUEtIPIr/sNhpb89Az0I6JaROsTjIitHxwssIzwPuPYxX9n49zQTuUK6Iq5qh5FsziwnI+VRGev2OhW56/384vmPCtYG6UX8GzcXKUTvCVSAUvrymYEOPEEArLgj4zLWkIOT9ronJD/7wB8T+agSS8Kl6OIQylwIFnUzYfKEPNQ13N1GnjvW7KDNzPaN1gAvMuUiC9eTMYPJ3F+SywOcHwaDGEwooRKm+xGK0bCprm89EpXH1NhGvWBkwZm1DR8ACxqYeRlH4CxWVhaGsvwtTkEGZNDthsZCZ4OX8KisetQngMvBN553GsWIrAPKEM4TPB8wfSUlcIgx57UfA8eukJHibEEArLgj4zhTSEPKzNsBjO5SFy+mLm0w5IeGZenSHUxEFSC3yhprPUPAtig6j6Gd34p9VjDSFriczCo8UQCitGID+pTqCfK1NuF2dCP17yfHYrPzNG/fOj2RjY6K+VZMLgRCHSCk7iYdIhJKRdQFlFMro6G2GYmvTfmqSzvU8tS+VEFT5/QrxKxXyP8FRwTNF3Q6GfR9u/gWP8TPD8+jSWWqeW9lOkL4ZQWBb0mUkZQk2UAVXX31Ho+wmOdfwI7kLMCwHPP69AAtwvPDUvZgifVkyo8UspVNB82QoBjxZDKKwYgbzEHQ/9Udf7qDLFXwyZNtrR3NKHwqI2ZGW1IL+gB1V1I2jtHoODrw7S6dvunUT3SBFS8o4iPGEb0vIuoqQyBYODA7Ca3PDwtxk5P8+bCL697CDxW7A6ZyF5+tnQ9tfj9pt+mn7+xy0TCp6fD5UWI3WHbRFa2k+RvhhCYVnQZ6Z5w8YKjCP42pGWpbk7Nu1GU8c0iiv6kVvUTd0+lFf3YWjU4p+JCCwaSIf+BKctPDXPbwjfQjjviCEUVhoOii76wydkOk+jcdiKsPRWnLxThLP3KnD+fi2uRDbjdnwbIlKqUNpSj+GZdtR1ZyKRTGB0+nFkl9xEY3suBc4uOOwu+MhdspQhnM+zbAj5pRKWT7Lym4AWc/QKxZOm6xBDKCwb8xmK/uhMG49iA6hVhLmKWj1gx+2MAZx72I5TD5pxMrwBZ6KacDayAXdTulHRZoJZa9FJJUB/+NaHuv3MiQYkPDViCHVw1hFDKKwkc3M+eCmg2SmQGSkyFg1ZsC+6FTsfdOJkyhSu5jlxo8CLG7kO3MiYxLXkGgqQt/Eg7zqics8gNu8Cciri0NBeheHxfljsJoqTnInJ8PHzZvwohS7P+o0gi/8Jbw1abApWCMQQCsuKylD0Z17+UcoMkuzUXzRgxfeRffjybh8OpcziXKEPF4ooj+Z7cT7fg8Nxk9gf1oOMGgNsTl6a0AzhI6bQP1l4MmIIdXC+EUMorCRzc/7mFjgo1ozbcSKxBVvutOFYthenc4ALeRQUs+dwOm0KJ5OqcCYpHlfSruNc7CHcST+PtPIY1HZUYWhiGBabBW6vk9IkZ8np+ugUrx4elIz71qOPT3qFQAyhsOxoZk0H11U5OvVRTfhQdAfW3+zD/gwPjuTN4SDFv0PZPuzPom6mBycpFh6Om8Hx8E5UNhugXrbn9BYZQsrYYgifCTGEOjjfiCEUVhY+DZMhpHyV2jiGLZeLsDfegCPpczie7sPxNDeOJZtILTieEoVzmRdwPe8C9t/ehQPXTiKzqhz9U+OYdZjh8S2YQTGEqwztEAcrBGIIhWVHM4SBjMUddauY8mJW9QB23mvAzgSTMoEHMlzYk2LH3lRSmhP70504nOaiirEXh+934n5iBwxGToHEzTvxnRBlBlkL6xCejBhCHZxvxBAKKwtfIfRi1OrG3ZwObL5Yht2xM9iXaMHxjFnsjevC7pgy6s/Auby7OJF6BjtuHcWW44ex9fAF5Nb0YsbhgZsMoI+NoKpzc22ZTSF3KUhKxn370ccnvUIghlBYdvSGkMS3i/muyBTVhO8kV2BPeBP2JlvwPcU9ZQRJu5Is2J1sVdqT6MCJTB8ORfThUkQj+oZ4aYLDnQpxi9MXno4XM4Tazn7TtAQ8SQyhsLL4I1rvtA2X4puw/WYddsWM4PuYXnz/sBo7Y9KwLzkMZwvu4WzuHXx7+yw2nbqB784lYvf5dJQ0zcLCSSi4hxS4QiiGcBWhj096hUAMobDsaIbNN6dCkpvEd0XG6fx7I64Yu8IasCPWgO2xRmyPmSEZ8W2sSek70vZoC3bG2bH7/gCO361HQ3vgm94c3vQhjiU8Nc9vCHlHazv/TdOiTLIwwH1iCIWVZI5MG7/kMWxy4XpSJ76+Uo5vI5rJEFZiV0IqDqVH4lJ5JI6k38TGS+fx4YEr2HIyFbsvFuHA5WyUtxlhnTeEnDk1Q8hdMYSrBu0QBysE/CD/0CwZwphyfHLwLlKqu5Uh1ELfYxYVhOdDfwWP4CuEDgpNE2Y3bsaX4NtbNdgaMYrNEePYEjGGLzWFc3ccm8JmsPmeAZuvdGI/VZpr2g3+hDg9vYRnQgyhboD7xBAKK4mXP3NG/6bMXtxKasfmMxn45l4+vnuYhEOZ4TiSfQtbw0/hk3Nn8fPdd7H2cC6+PV+FA9fLcfh6Cmp7x1RNewEa0JtBMYSrA+0QBysE/B2AISMZwugyrDlwF2lkCPl5Ln5p8wmLCsLzEcIQ8vODU2YXbsQWYuvlYqy/2YVPb/bh0xs9OvWS+mn8GE0fx9rT9dh7sx4NvVZ/QpyeXsIzIYZQN8B9YgiFlYRPzvy2ndHuQUxeE76/EoU9D+KxK/YBGcL7+C7hNn508DD+fs81/PxAJtafacBX5yqw63I+ToRlonl4Btz+9EK2pD7NCC4yhMJbDx/mYIWA89tIwBCuPXgX6VUBQ0h6wqKC8HzoMhV3OA+6SEabBw9SyvHV+VysO1eLdZdbse5qJ9Zc68XH1wbwy2tDeO/KANaRIdxwow9rT5bgRGQT2sedC3mUe/QSnhp5qUQH5x0xhMJKoGUlDox8IrZ5fajpbsW15AicSLiDfXF3sOHmFfzjkYv485138df7UvDT40X45Hw5PjqUgC9PxSMirx0DZq9q1HVRtuSauLA60TJWKAXg/KYMYVQp1pEhzKjuUYZQvbCp5hCEVwdnRc5n/OiC1eVDZfMIDt8qxtojOVh3ugIbrrTh0xtD+PDmJH52dQo/OT+C98624aNjBdh6IRvxlSMYc5GhDKQTKo8LT4cYQh2cf8QQCi9KqCzyqPT//IGMxdmNm4meMk8ipyIBt1Mu4VTsWWw4uw9/s30H/uKbM/ifO6Px44PZ+MXxHKw5nYGvLiTjfHQxyjoNmKEzOb8MsAhOmFcirE4WZ7wFBeDeUQNwLrIUnwYMIech9Ul53XyC8LLh7KXFPvWmMWW8vnErHma1Y/+1Emw9U4ANp0rwwYkq/OxEI350tA0/OtSIn+/LxcbjibiaVI2GUQtmaVnOs5zOojzO0vXqRgkhEEOogzOKGELhReEsoQW5UFrIOvy0oJfkCYj/OTA1O4Cy2hQ8SDyFeylncDziKDac2IV/2bkf7+y7jI+PxWDdyRRsPJ2IfbezcT2uGEV1fZiyeNUbo7yORWgrFVYvC5lusQjOHiMGH848KJ6/QqjeMqbYx1esA7MJwkuF8xXnPRafZvlNYwf18OfomntNSC3sxaWISuw8l43PDqfjo0M5+OQYVVqOlmDn5UI6T5ejtGUAYxY3nac5FULL13rpenWjhBCIIdTBGUUMofCicJbQgpxe3MIgy/+xODaCbqoV20gWGmOFb86MGVMviivjERF7AlGJJxCXcxX30m7hTnosriVn4lRkJk6E5+Dk/VxciSlCWmkbyuq7MD5tUbf41MolTwrPAGebEaPfEH568B4Zwl4xhMIrJzhOqk/X0QgnDZhtwOCoA+U1gwiPr8LZuwU4da8UFyMbcC26keJiC2rbBzFmmIWLMynDnVDS9epGCSEQQ6iDM4oYQuFF4SwRyhD6xXaQ+9zUZ4PdMw4XyTc3if6xSmQVhCE+9TKSM68it/Q+aloz0dJfj+b+LjT2DKKucwTVbUM0fhAtXaPo7h/H5IQRLgedwtUDiCxKXsuX3NX6BSEEYgiFlYDzlRYn+XavFr5UvqMRbsqEFpMbA/3TqGvoQ1VdL+qbR9DcNo7+wSkYjWaah2bSMqiWoBb/tPGENhg0WghCDKEOzihiCIUXhbOEFugWxDbQ/7ygfyq/+mGnYQMcri509mchNecSIuNOICXzFsqrU9DZV4HxqS7M2qZhsphhmLVjxmjH5LQZU9OzMJvtcNhccDvcmFNRlNLVB0RBeAo4u4ghFJYbfZzUG0Kf6uGJFC/dPrgoxllMNpgMFlgpBjrtbnidHn/M02dO7p+X1hM0OiAhNGIIdXBGEUMovCicJeYDHQ34bxXzU4Jekov6+HTLhtCCWWsH6trikJR1ApEJ+5FTeActbWUYGu6B1WaAx+OAz0dLk9njzxB73LSkwwMnBUT1yU5eB433ktRnilUgJUm+FJ4Szi5iCIXlhvPVfJzkLo1QhpDzXEBsDr1uipsU79xOrvgGgl4oeBn1jyOuv/rNs4aSEBoxhDo4o4ghFF4UzhLq1ocmGvaHKDaENurjlgJnMTXbgJKqcDxMOoL4tJMoLL+H9q4SjI8PwWSchdtFS2oGLyBuX9pDtWaPe04ZQg6iLF6PFlClqUHhWeDsIoZQWG44X3He0wyhFsM0LTKGNDDHAS9Ebpyfh/r9z2dz9XuxIRSeDjGEOjjjiCEUXhTOEvOBjgb8ppANIYc9C3VHMDpThPzyS4hK3I+E9DMorUpA32AzpmfGYTbPwmlzwqfVhjX5I54yhepqIMGjOXhq61EncJ6PJwjCU8DZRQyhsNxwvuK8x6FMUyDELYjzH7k9VnBO1MZoUvOqfu2ff1h4esQQ6uDMI4ZQeFE4SwQHNn94csM9N4bOgVQkZR1EdMpOZOSfQ0lVNDp76mE0kRF08NU/qt2SGZzjZwL1+UwTj+ZEFwZ16wlM4x5BeAo4u4ghFJYbLXbpDaFeahrN5CMzyNJbPK3vSRKeDTGEOjgDiSEUXgTfnJeCmP9d4sVZwwOHdwId/ZlIyz+K6ORdSMk9herGJPQNNWHaMAk3G0HKbywVDTVjt5R0vYukLScITwFnFzGEwnLD+UqZvsdo4TbynNLThEVNwrMjhlAHZyIxhMLzwzVZNwUyblJGH7zcMDuG0TmQj6zCi4hPO4D8Uipw9YnoGqiH0WKAzeGg+QIZ6kXzlORL4RngPCqGUFhuOF9x3tMbwKeVFuKWkvB8iCHUwRlJDKHwvPBjLr45H51E+fUR7RaHC5PGdpTWRCAt7yxScs4hp/guGloLMDTag1mbBS6vfxm+pcxXElWm0vLW46Tr1Y0KGhCExyOGUFgJOF+JIXy9EEOogzOSGELhReFrg/wJOi9MGJ6sR17pXUQlHkB8xjEUVTxAc0cZRidH4HTxqyYabB/5NMymUA0+Wbpe3aigAUF4PI8zhPygviC8Cjhrcd57HmkhbikJz4cYQh2ckcQQCkvyxOPNpo7bF3TCMzeK7qFcZORfRGT8QSRlXkRxVSzaesowaRyEw83zLeBPmv7xZUZtPU+Srlc3KmhAEB4Pn2CDDSFXS7R3mgThVaCFqVch4fkQQ6iDM5IYQuHZ4UzAp1V/Y9N2Vy9ae5KRkn0CMcmHkJp9CZV16ejsa8TYVD9sLiO4kWq+Hbfw0DSlQJp/IeRJEoSXxFKGUF0dVKI/LEEQ3mrEEOrgkCeGUHgqFh13zQzOwmxtRF1rGBIyDiEu5RiyC+6ipiEbA8PtMFlm4PTYyAQ6yAD6lBnUxCdfZQhJCu4uJT2PmyYIT8FShlDlRf6jNQgsplAQ3mrEEOrgcCeGUAh1iJeSx8tPW9lJBljsLaiovYqY5O8Qn3oIuUV30dBShOGxPljtFjqf8omVny90k/mjLiUQrEXnXO7XKxRPM48gPIZQhjDwahP94QcJeUgQhLcdMYQ6OACKIRT4kPqtW2gtTOdmZqzw+IYxNlOIkuoriIrfjbjkIyipiEJbZzHGJ/rhcNl12YSNoJf0FIaQ4eHgcYLwEuG8HMoQKsgMznkDLzoJgvBWI4ZQB593xRAKfEj5JMmHPlg8nuHrfPxWsHtuFF2DaUgvOIyY5B1Iy7mM0opkdPbUwTQ7Dpebv13szyT+TzD5m6z2G0LuUlo6yV05YbkRQygIAiOGUAefi8UQCnxIQxlC//eItSluOL1jaOpKQUrOSUQmfoe03JOobcxBX38vDEYTvOqDwwsZhA2hdmXQn3X8VlEvQVhuxBAKgsCIIdTBJ2QxhCvIa7JfedWhDSF/gcRBfXZYHYOobUpCeMxBRMQdQGbBJVTVJ6JvoAuzsy54eYEQ8BVA/3c5F/9UTYKw3IghFASBEUOog0/IYghXiFD7lcXo+wm/qQoMvAI4ac0Q8onRbwi5uWkndScxbWpEVWM0opOO42HCKWQX3kdLZxlGxgYxa7YHmcHFG68NLSVBWG7EEL6mhAoI+kCxaDoN6KcJwnMghlAHlyUxhCtEqP3K4g6fsahfG8WHhD/39qpMISe7YAgXbhO7fDMYnChDYcVNJGaeRGb+NVTUpaK1sw6TM2bYnTQXzzqPtsULG6ofE0qCsNyIIXwNCcQ8RVBw4Hjoo+CnGrGfn0jSegXhORFDqIPLkhjCFWLRPvXRfz4R8XU5btqF/vBoEsdJJ/U41Pd/eZxaQC3jn+MxBGadVxCcls/HL32QsaM/Lur3qlOjnYZH0TtchPS864hLOYu8kjA0tOWiZ6AVY1MzsDpoO2kTFif76Iq0MUtJEJYbLjliCF8vOJwpv6eDK5tuioUeikueOTfFJBfFDD42gZOUBBLhBRFDqIPLkRjCFUDbj8rTUQ8FuzmWl6/PkQHk8YR2+5Zb/uMn+Rg2cd45no+M3ONMobYOvfTQsHrpw+c3oWwI3dTvgxk2Zxc6BhKQlnsa0YlnkZUfhaa2UgyO9cAwOwsnbRhvl7wlLLyJcKkRQ/hmwMfFQXHOwS0ccEWV+rjaOh92uEeTIDwjYgh1cBkSQ7gCaPuRz0zKVSl7ReIrgUDXiAXVXeMob5tGafME6vsM6J9x+U0YyUbGUZk3cmP+K4Yh0Nahl0ZgmP0kf5TBnwanbobB2ojqlnDEpO1GdPJ+FFfEoKWjAsPjPTDbZ+Ei58jmkaU2ndMLoO8XhNcVLkNiCFcejhd8LFgWCj99k1Y09kyhqmWcNIGW3mmMGBww0YwumstJ/+xzjzGE8yMF4ekQQ6iDy48YwhUiaJ9yZ8rkQFHjMO6n1ePcg2pcfNiJcxFduBzTg/vpvajqmsa0E7CSEbSSKXQpQ7gEurQfmSkw7PXMweXiQf7O8AQmjOUoqrpMRnAnHibvRU7RTXQPVGLSMAiby0TzcWuEC0E8OOng1QjC6wjnXTGEKwvHCj7V8N2PYZsbGXUjuJXaigvR9TgTUUdqohjYhDspLSjrmoSRYpWTlrLyreP56BPo6CUIz4AYQh1cfsQQrhBB+3GKqsgxee04eb8YZ+OacTNnGveKPIgoAW5mO3EqcgCnwxuRWjmGCdcczLQMP1v4LIdDNRQ9f1mP+vnWMwVYH6bRP5aNzMJTiEzYgYS04yipikFTRwkmjYOwe3ht/lNmKEOo13PxQgsLwrMhhnAF0ZVz3suDFjceVoxg371qHI9tx5XMSVzPMeNGjh2XUmdwOLwFJx/WIr1pHMN2j3p0hk2kqgprcUOTIDwjYgh1cBkSQ7jy2NxzKGqawbHwKpxM6MGFXCMuFTpxuRC4nE/KA25Q91zCNI6ENSCnw4BxH99CeTb4BRKfl0596hY1h1UzPN4B9A4nISX3IKISdiKn+DqqGzPQ3d+OsalJ2F12OoHy6dJ/4IMN4UtB8pWwjIghXEFo52vPHdtop8eTGdwT0YYDsUM4k2nC+RwXLuT4cCEbpDlcyZ/DsYQx7L1fh8yWCVhoOb8hDPyR2CG8AGIIdXA5EkO4svDubBu04HJMHY5EteNgwigOphtxKNuCw1k2HMl043gmcCaDAmSGB2coOJ5NbEaLwa4M4RMPh/64cSRmMzhH9ew5I5yuTrT3xiAhbS8iE3Yjv/Q2WjqL0D/cBaOZm5WhkyOnEYBr5YuS45Evg5eamCA8nicbwvkh4RXSO2zE+ZgGfBvWiUPJBpzKspM8OJk5p3SK4t5J0vF0N5nGHtzI6sGgzd8OggoXWtzQxw79OP14QQiBGEIdXF7EEK4sbjo7FdaN4fsLWTj4sA874yawPWEC25LGsD1pCN8lTGJXvBv74+dwPMGJ04nT2Hm7DAVdRtgCaYQk1HFTbyVzOLVgxtCMusZIJGUcQFL6UeQXh6O+qRiT0xMwW2zqauKyoW2fICwDC4awhAxhWJAh9JIh5CAovDSWKNu5RfU4cLMEux4M4kDCDA4mzVDXhH0JVuxPcFDXjd3xXhxIAQ7GzuBYZDtK26cXwoXWo6WvH9ZLEJZADKEOLitiCFeIwH60uIDU8j5su5CDnZHUjR7H1tgxbI4bwpa4XmyJHcbWKCu+jfJg30Mn9t4fwfZrZUitn4R5/rzFifEA3+pi0SmPR/GZL3DM/I268s0WEwzGJpSU38TDuL1ISD2BkrIotHVUYWioH3a7G243z7uMBLZREJYDvyH0Bq4Q3idD2Dd/1WmOKkJzi1tbF16E4LId6Oe6aWxyEXZdLsSOsCHsiprCzofj+DZyHNsjJ7H94Qy2PTTha4p538X7sDfGjN03m5Bc0uNfXvvztBKEEIgh1MHlRAzhSjKHaasH0QXt2HQuC19H9GDTgxF8ETGMjVH9WP+wB+ujhrAh3IzN913YE+3FrrAxfHmpGNGlgzC5tIPBB41vIPM1Q5ZLGUB9M4X8AonHN4nxqXLkl55DVNxXSEg+irLyVHR2NGFmegIeDxvGFUDylbCM+A2hmwxhERnCcGUIOed71dcwqEfy4stB25f6fRrouil2RcUX4fsLxdh2awjfhE3i67AJbL0/js3hYxQDx/B5xAQ2RFiwPWEO3z2YwZdnKpBU3K2W15JblO6TJAhBiCHUwWVEDOFK4W8UetRoR2R+Gzaczcbn93qxjgzf2vtj+OT+CD6IGMAHFBw/umvBp3cd+OLmDDZdasfGc9mILusnQ6hdydAMoZ3E7+F51YnN/0Kxf5rHO4ne4Vyk5Z1CfOoeJGUcREl5JPr7OmCcMcHjWsHnpiRfCcuI3xC6yBAWLjKEHiowqsxIXnxxtDKtFxPouhw+JGfU4rsLFfji8hA23ZjGljsU38JmsCFsGp/dn8an4TP45I4Bn90xYePVXnx1phxZVUNqeV1d149+PY+TIOgQQ6iDy4cYwpWCDaEHk1Y3UqoHsfVGCT6+0Yn3bo/jF7en8TPSP98Zx8/uTOHn12fx/lUDPrnYh7VUS95yJRMZreOwaH5QuT86cCzu5/9qGn/yaRqz9iY0dUYhIWMfohJ3IiP3PGob0zE42AqbdZYWo5lX8rjyuldy/cKqwm8InWQICwK3jHsDhtD/vXAxhC8BrUzrpYNf5C4q78X3F6ux5lQvPr00ifXXZrDuhgEf3zThg1sm/PKmER9eG8dHF3qw5kQFDtyqRV33bOgk9SMfJ0HQIYZQB5cPMYQri53OThXdMzgSVY1Pr9aR8evBz64M45+ujuLH14bwT6SfXR7Bexd78cn5WnxxMR8HI/NRM2qa/5ydOiZ8JuMzne74+HwmTBqqUFZ7HTEpu8gQ7kde6TVUNyRjcLgVFquJTn7KOa4skq+EZUQZQpMYwleKVqY16aFhNoTVDWM4fLMWnx5vwNpTnfj0fB9VeofxwaUxvHd5Au9eHsMnl/rw2dlabD6ZixvxzRiYDNEkUPC6HidB0CGGUAeXDzGEKwuHt1GTi05Kg9gXVol1Z8vw7pk6/OxsE/75XAN+eq4O75ypwQenivHR4TgcvJeD7JZ+9FussGtmjo8J9ypTyAN8EK0YGS9DQek5xKftIx1DUUUE2npKMTjaDqNpAm4PW0rdAdXSWW54vbrNEIRXiRjCZUAr03oF4LDloRDVN+pEZEY3dl0qwcZjeVh/ohTrTtXi41PN+OWpDop5bfjkWBm+OJqOM/eKUVo3BrMlkFBw2k8rQdAhhlAHlw8xhCuDtiv55OSi6Dg0NovYzAYcvlGAL07m4MPjOXjnaAbePZGGD44n49MT0Th0JxVZ1e3oN8xixmGDw+eiExiloCWkGtTl56BMGB2vREnFTSSk7UdSxkkUlDxAW1clpo3jcLgsdNLjZwZ5odfggGo7QxCWAc71YghfMVqZ1isA71/a1TCYfahpm0RsdjPOhOVjx4U0bDqWjnWHc/DJkWJ8crgQXxzLxKk7hcgt68XwqA0uvqXCaWmh61n0OvC6btcqRQyhDs6LYghXBt6NKqbxc38uK5ymGfS196KosAn3Yspw9FYOvr+egp1303DsYTauxGcjv7oJA2MTMFtpfpdTvZSycMuXux54vRPo6klFctohxCUdRFbeVZRVJtG4BhhoHV6OxIF5/XoNDqjkLWEZ4dwvhvAVoy/ToUQHwUPhZ2bWiu6BEZTUNCEiIRdn76Th+K08HLlThkM3S3D5YRXyqgYwMGKF3UqxUqvHskKlu5ReNU+zHv32BEtYEcQQ6uB8KIZwZeDdqGKajyKcywzYTfCRYbNMGNDdOYac0maklDcio74V5d19aBoYRP/oCGaMM3A7HYD6BB1HRxZfGbTC5RlEe2cKGcF9iE3YhZx8yuTVaejuacHs7KyqlfvhtWvLBtAfX72Wg+Ven7Cq4WIghnAZ0JdrvTRoR8/NeeFwWjA1PY6GlhYUVTaioLqLKr8DyKnsR037FEan3bBauX3IwHLPaghfkFBJapon1MRFoj9KoaYFJCw7Ygh1cB4UQ7gy8InHS+Ivgsy5nUps8uZcHtjtLkyZLBg1zmKUjNy4ZRZTpBmzCRa7FW51a5gPFBs6B6U1QeObUd/0APFJ+xGffAjFJXfR2lqAkZEeWC1mWk+oA6cbx72h9NToZg5OQ69QPG6aILxkxBAuI1rZDpYOfuzFQ7HPbLNihuKewewkeUheWGw+uOjg+LSQp5nBYEP4itCvgqVfvbYJiwheQIn+zNEP4Ap88MJqGv0wzSwKy4oYQh2c/8QQrgxc/vnko0TOcC5g2LhBaa/PS6bPAxcZPydFQrvXCZvHQV0XHDTsoX9z6hRmo5PYGMYmy1FSfgNxiQdIh1BQdBdt7UUYH++D0/7YD9wtwKsPpSfCM3F006L1Uy0kCCsG51IxhMsI70+9guBR87FQp8XG6QnS9QaNfiH0aXGEC5a2idpmKvQLKdEfZQhZ1L/od3EqPJ5GaPMLy4YYQh2c98QQrhC0H1WcoDjAhlAFiABcY/aSyCaS9SNzSP/4k+4u1eemsVxdtlF3BL1DWUjPPovYxGPUvY7SigS0d1RgenoYLofum8QqylJ3qePH40PpsfAMfJWST6e8Tdz/xIUEYUXhYiCG8PWBd7dmApVfCmixcVpCAbhXm12/2MtAS4+jm15axNMreP0L20AnVnUlkKZogV+ZwcAHBdQ06n1ZGy08FWIIdXDeE0O4AvA+1EcO1hKwLfRQ6PGR3GQCveprJHzVz4jewUyk5RxDTMJhZOffQ21DAXp6O2E0GuDldh0YWtccX4H00Eoes575Yxusx8IzeClZF8mjtpXXyoGST7DB4vE8nTfDn/RTrUQQXiqc/8QQvj5oUUDTPMETQikA9/Jx5fiyOMa8OJwWS2/8tBjHXbZ03IAXR2a9eBxP0+LewvZoUZLnCHxuVF09pN6XtdHCUyGGUAfnPTGEKwTvRy3SsELAo9luuSmsuGChQGSkMbNweAbR2pWF5MyTeBi/F5m5N1HXWIDB4SGYzWTOVPU6APW+OkPIs7Bh5WuW/plnKVrW9psRV9yFiJxWUgfupjYhrqgXTcNOWDiaEuq3Ua3YPcdLP9WqBOGlwHlPDOHrg1b+Nc0TPCGUAnCvP176xf26yS8Ep8XSG0KWgzKKnfIM551pGlHabUZ0URuiClrxIK8Zt1OrkFTWg+Zhq7J+vF28HOUy+stLBWzkHHX5+cKg3yS8esQQ6uC8J4ZwheD9qO6NcFeNCQk/L+j02WkWDh4GzFiaUdsaj/i0U4hLOYG8wjtobCnEyNggrFY2g/7l/OmzeB0kvi3N45aCp4XSE+BVcF2Xu0bqSSrvx8nIGpyMacPl9HFcyzbhbMIojkd24XxMC7JrxzFF1WauObMV9JJ42adYlSC8FDi/iSF8fdBCjaZ5gieEUgDuVeFOJ93kF4LT0oymZga1fo59Q1TLjaZz5+n4dlxI7cWljH6cSeqkGNiKs6Rric0oaByChTKWymckrkarKDhHY5QZpK0N+k3Cq0cMoQ7Oe2IIVxAVBEgccQLwSyXqpET9/LF9p89FoYPDiBPDk3Uoqr6P6JTDiEs9gdLKBHR0NWB8YhR2p2vRiYy/T+z/RnFgpG5aSHh6KD0BF61Cu/mRXjWA4+G1FAj7cSXXjsu5PlzOB64XAhcz7DgWOYjTUU3IbZyEifNZgJcZvAXhSXB+E0P4+qCFGk3zBE8IpQChJrFeFC0dzjMs7fSojZuyOhFb0oldt+twNt2Aq/l2XClw4GKuBZeyzLhE4y4nDeJcZCWZQqq0Ux7zV6ApBfXcIHdZuoSFZUMMoQ7Oe2IIVwrakerBYhJHlgBsCFWX5KbaI4cPq3sKPUN1SMq+jodJJ5GWexHltdHo6G7AxIQRNptXncg0uLFqHzdh49UdTN30kPD0UHoCbpqH11LaOIzT9ytxOraPAiEHROBkOnA8DTiTBQqWwJUsL05F9+FcVC3qB2ZVHZl5itUIwkuDi5sYwjcIPh6htMwEr5JjX1X7II7dL8KRhDGcyZ3DqWwvjqc7cSLTTfHPibNpLlzJtOBMbCdOhBWjedimKs8qLe13BEtYNsQQ6uC8J4ZwpeAdyacm6ur2Kb8V7HK7aBTXI2dhdfaiqTsTKbnXcT/2JJKybqO6IRs9A00wWUxwu+kkpjOUCs1oslTimkKgn7yUHgNPNljncDOuBgduV+JU4jiOpzpwJNmNw4k+HIyfUzoUD5xKoYAZP4ND9+rxsHAA0/zkNRG8+YLwKuH8JobwDUOLRZqWg+B1agowZZhFeHIJDoaV4WCKCXtT3diT7MKOeBt2JtixN9GBA9Q9lGDG0ZRpfHenFmG5vTC4+CRLhEqbJSwbYgh1cN4TQ7hS8I4MvoI3RycjL7yq4Wk7Zm0tqG4OR3zGcdI5ZBVFoLqpEH1DvTCaLeqxwHm4XxvmrrpkGKxgaFzwLKH0BLpHHTgbWYG99+qwL3YcO+Os2BXjwN5oF/Y8dGO3kk/1H46dxcGIDlxL7UT/jN8KiiEUlhMxhMIT0ce/edEfXebo6BvH2bAM7A+vxXexU/gmzo5tsTZ8HWvF1zFWbKf+72NYZnyfaMLWsA6cjmvDqC3wCt58ukESlg0xhDo474khXCloR6pPz3GXOsoVcQ+fmixk+DpQUR+OpKzjSMg8i9yyCDR3l2Nooh+zVvP8OyLzMYqX566G6ldzPF4hRj2iJdAmNQ/ZcCSiEtvvNOKb6ClsibLiqygHvo1y4rsH1CVtf+DEtxFWMoXT2HGvGRcSmtE1yVdCxRAKy4sYQuGJcB54RPRHVbT91LWP4siNZOy4U4VtUePYHDVLMgW6s9gSSSYwcpZioQFbH45hw7V6HI1qQI+BHwUKsCj9gN4kgrf7DfsNYgh18HETQ7hS0I5UDZP6e/2Bhg3iLKZNjaioe4CEjJNIzj6PkupY1LcVYniKzKDdCpcykn7UCYx71J9geOQTFGLUI1oC3nq+llk9aMPOu6XYeLMOG6MmsC7CjPXhVmy6b8GmexQc7xqpa8Tme1PYdn8Q225U4lxcHTonHSp5MYTCciKGUHgiWuzTS2UOn2rGy0WBr7p1BEdupmLb9VJsuT+Mz8OnsT5sEp+RNgT0OemL+6MU/7rx6fki7LtTjLYxh4qdiuB1vGnwNusDePDwa44YQh187MQQrhC0H9UjfvPwbYQZDI+VoqDsMhLTjyAt9xKKqmLR0l2B4ck+zDptcPFJK7AEM28IQ6IdsMcoxKhHtAScVfgxwKphG3aFl+PjS6VYEzaATyJM+CTMiLV3prD21jjW3hyl7ijW3RrEhuvN2HIpD9eS69E/zY9XC8LyIoZQeCL6+KeJMwflEf7MKH9fub5rAkdupePjI8lYc6Uda26OUJwbwRoSd9feGlb69EY3Nl6twfqTabgQW4neqUCLEKH0JsHby4WJuurTq9pwYNybgBhCHXzMxBAuM/P7cc5fiNSAD17fFDq7s5CScRwxiTuQmX8WNY0p6Bqox4RxBDa3Y1E5m19SGxESba7HKMSoR7QEnFW4nf36CRtOpzbi44v5eP9aMz66P46P7o7hgxsD+PB6H6kHH97oxSc3u7HmYjm2XclGdEEbxkx8Gn7sKgThpSOGUHgiWuxbJPoTCLjcolfnkBmXY8vw4aEE/PORcrxzvhsfXRvEJzeGqDuAD6704ZeXKPada8CGs3n47mIqEos6MGrwvPmGUNtW6s7NN3HmH+YCNufhCWqO1xoxhDr4eIkhXGbm96N2fW0WZksnWtqSkZR6ElGxB5CVfxW1jakYHu+E0WpQbRFqu31+8YDmJ4QkeO4QCjHqES0BT7LT3+5ZO2Jq+/H1vRK8e6EUv7jajHevtuP9K614/1Ij3rtYj19cIl2oxtoLhTgZXYXS9knMOvnU/NhVCMJLRwyh8EQ4Dzwi+qMyCBlC0visF9n1Y9gTVot/OlyOHx1txDsXevHhtSG8d6kPPz/XhZ+ebsM7xyvwxekMXI4uQ13nNExW38oYQrUO+qPkH/V0qAUDCqBasZhTTZv5PP6vTWm4HU54nO5Fs7+uiCHUwcdLDOFKoJnBcUzNlKG04ioZwV2ITzqGnPw7aG0vx/BoPyw2GzxU8HhuL52svFQAORCxaPApjoV2wB6jEKMe0RLwZ+v4SyMmCgr1kxZcz2/HphuF+JcTWfjpsWy8eyof75/Kxbsns/GLU9n42fF0fH2zCEnVoxg0eum3BRIShGVEDKHwRLTYt0j0J2CmOA+ZyfO0jXkQVjSOL6634ieHKpTeO9OEd083ULyrxT8fqcR7R/Jw6E4xcir7MUkmcj52h9KrZH77WbwRj8r/3ahgaRsXEC/LP8Krmtf24/HCZpqFacYAh9W68C391xwxhDr4YIohXB64DPq/Mcw72EJlaQgjY1koKj2L2IQdZAYPIb/wHpnBEszMTMDp9HAZU7ubG0DlZwfdtLwyhIHy+HTHgmdaSrrepfQY2BAy/IumaSOrB2ZwJ6sOe29n4ssz0fj8WDg+P3oPW89E0rgMHInIx72sBtT1z8LoWAg1grCccL4TQyg8Ec4Hi0R/ApmD85CNAt+oBajosSK8YIjiWw02nUzCuoMPsf5ILPUnY9v5TOy/nou0km4MTjigNUH4aNoBvUq07Ve/gX+BX2wCtX/87Xx9d9GHRflDBz7tBxA82mSDva0HrTGpiD17GbnJqfC4+MOkPD2w3GuMGEIdfLjEEL4KHt1R6pN0ysVxYRnB6HgOsvIOkxn8FmmZx1BRFYnOrnIYZsbgDlxu55MTG0D+hB0fFr6iNn+FkPTS4LRC6SlgU8i/it97NjncaOkbQm5ZDeIzchERl4xbEdF4QN2c4kpU1LehqWsQw9MW2OjHaCHpKVclCC8FznNiCIWnQouFKk/M96h84iRZKDONz7rQOTCJmuZuJGcV4eb9GFy/x3EvHRn5FSitbsPg2Cw4rM+jJRWsV4Z+JVwC+N4O2z4vxe4FuQPifp42p1q00JlAxk3zjE1iqLASTVfDkPvVPtz9l89w4r11iL9zTwzhmwofLjGEL5ugHTXfywXLCpe7D70DySgoPoeE5ENIST9FZjAKff0VMBiGyAwGLp0RHHRYmgnUm0HW6wBfreRt4s3hEGO22TA4PIzu3l5SD9o72tHV1YlhGjcxPgGDaRZ2D4eahV3zmvwUYZUghlB4ETh7cPxif8f5huOZ2WLB9PQ0RkdH0NnZiaamZop73TQ8TnHdApcrkKm48zi9EvQr4C3nSO2mM5Kbtt8Nh048zJbQ/6WshebN4KH+aQMMtc3ofpiEnP3HcfuTz3Hzg8/wcP3XyNt9AhW3ItBVXQu3zYI5j9796nhlv/H5EEOog4+NGMKXTdBOmu+1wOFsQVNbGOKTdyIx5TBy88JQXZOFoeEW2GyTcLttND8tEFiGe4NNoTbMWml4+7y0IW5yhXwVUwsfDrcbs1ar+prKLBlEu8NBRpjCj4dqnjRfwO8KwooghlB4HjhbcN5h8WmS453+ro2bTJPd4YRp1gyD0aRMot1BFstNBkwLepyIXkzw8EvHn7j/PhObQf+1QCfJTv026rLYDLJJ9P/CAFYbplra0Z2UjqpTFxFP5u/Gv3yEq++tQdy3e1Bx/S46E9MwWlwOQ2s7rOPj8DnsmKNzQEhe6e98dsQQ6uDjIobwVcOFy0xBogG1jbeQlLYbyWmHUVIaidaWGoyNjcHp5MZbeL7FO5eH+AQVSq/DSUtvCF0kfsaRt40qzPPPPHLQVNsbmJ+7grCScEkTQyg8K5wt/JZqsXi8Jo6HLM5HIdHNrPUqFg28bPwP9nj5s6j0zx0wf445J2xeOxlDD/3TmUCbBdbhYQwUlaLhVjhiv/4e1z78FDc/3oCIL7Yh+9BJtEREY6K4DKbmVhg6OmAeGoLLaIDLbKICxntlCbTf+cp+67MhhlAHHxMxhK8CbUfRCcZnwORUJQqLLyA6bhsyso+hquYhunsaYDJY4eUz0RLMG6kQeh3QDCGLDSFf/VMmUCf9VU050QqvA2IIheeBs4XeCLK0ajxLi3OhpOAuSV0t5G5glGLRwMuG7aB6IpBMoEsZQb4WyKbQSf0KjweOqWnMNLaiJSoWqQeO4TKZwEu/XIuHm7cj5+AJ1IdFoSevAJMNDTB3dcI82A/rxBjcFiO3NUM7xE2r8tAPph+4VCHSfucr+63PhhhCHXxMxBC+CngnUZHzjqJ/MB/5RVcQl3gQyaknUFkdg8HBBhgN01CPWWgRhQmxf7VRwXod4DKvBTxlDLkbJG26Jvr/Wv0GYfUhhlB4HjjfLCnKM4/TfNCjmVfCELIl5L8un4uMIZ/k1WjA5oCluw+9qVkoOHEe0Vu/w9WP1+PaZ5vwcNcB5F+9gY60TIyUVWKquQWWoUG4DFPwWWfhtc3C57JRoKfS4+N7QQGL/LgCpP3OV/Zbnw0xhDr4mIghfDG0vM9dLnDaDvJ4xtDZk4L0rJNISTuF4tJI1NUXYKC/HXb7rGrQcx5tsUCg0KNNCtbrgN4Qsp5kBln0/7X6DcLqg4uZGELhWdHHrmAFx7lgKbirGcLAoDZp8cBLQmXkRxOec7pgmZjCWGE5uu88RObW3bjzi7UIX0MmcMv3KDx1Ca1xyegtLcdAazPGxoYwbZqGzWzEnM0KuJ2UCJ2/5vUEE6gn9CatGGIIdfAxEUP47Oh3g2aKuNFo/5tZs3C6RtHRmYvk1AtISb2E8opYtLaVo7enC4apmUcb7dQSDASKNwX+7drvfxo9bcwQhFfJUoaQG39XeVTyqfAMcHYJFe80zcc97i5lCBltxKKRj4dn5eRY3LTZnDJngRXocXpgn5zBVGsXqiNjkXDwBK6v24xrH6xH5IZtyN51DJ3hcRjOLMBMZT0snT0wDg9jenoC0zYTTB4bJeHEnJuvBurPX4ENftrgHpj9dUEMoQ4+LmIInx7O8yytkPOu4CthbtpnXiqEczBi1lqDqoZbiE8+h6SUBygpzUVHRyOGBvswM823iT1L78MQ5VgQhJcLF7NgQ8hVOXVOW+J8KgivgkWnAh5Qoj8qM2rD/t5geDS/vOegDOu/YcvPc3NfAMrHPqMNsz3DGM0sRNaBU7i/cTtO/eITXPhkI2L2HkXxrfvozMrHRG0TjB3dsAwMwzk1DdfsLJxWK1xOBzxeNzxzlLpmNuel2zBtO59GrxFiCHXwsRFD+OzwLtBMoYf+qDe4fEaMzlShqPoyohN3IDHtKkrLi9HS2oHh4RHMGmfnG5wWBGHloFNZkCHsUSdUVTR5YtAFfEF4VXCe858S+K/ObKmMyFp8wlg8RIbQ64HD46IJuil0nnGMTmKypBLV1+7i4bZduP3pl7j24UYkfLMf5RduozEiHr05RRhvaIVlaBQO/uScyQSnxQKXww6P2wWvx02bQoVhPm3uBmsJQs3Kes0QQ6iDj48YwufD4fL4v+QDK5zeQfSMZCO98CyiUw4gs+Aq6prz0NvHDZNOwDxrho/bYpF9JwgrDp9mQxlCBRdT3UUWQXh5BJ9I+WKC/3UPfguY3wP2vwtMXcqELO7XjKGPjBnfifK/HhJ0MpmegbN7COb2fgzFpiD38Clc+2QDzr37Me59sQ2ZR86i/t5D9KflYbamGea2brjJNPqMZsDuUO0G+sgAeslg+tQt4Ue39Zl5wcWXAzGEOvgYiSF8PtxeF+0KL6yefjT1xCG14ASiUw8go+AaqhrS0TPQCoORal12J3z8OQ9BEF4LxBAKy0+oE6nfDPpt4MI/ZQpV8y0st18qY/LJecEg8hUJr80G2+AwhlKzkLvvOKI+/wo3PvwM9zZuxcMde1F0/RY60rPRW1CC6foWWLv6gSkDYLUDLkqfv0CirgIG0pzX6kAMoQ4+7GIInxcXLM4e1LY/RHTaXkQk7EZq3mXUNOdiaKwPM0Yj7FTz8n+/WBCE1wUukWIIheUl1Il0wRDyt0P4HzcRra4Kshlks8YvcfAtYQWN9zrgtZjg7O2BoaAQdReuIHHzN7j1/hrc+nAdErbvQt7pC6iMiER9dhY66qsxONgHw/SkuiU8ZycjyC81qvOS/0qj/t9qQwyhDj78YgifgCo3VFR0z2jww7UmaydKam4hIn4X4jKOobDyAepa8jE42gezzQ6nk4q3XBkUhNcOMYTCsvDI+VIbsSD+p90uVkZQEzdSyy8galC/Z9YEU2M96u6HIWnvHtxfvwF33v8Ises3ofDISbQ+jEVfTi4GS8vQV1ONkf5uTJkmMeu1wz7ngodNJp27+PzlX2/AkAaGg7dtsd5OxBDq4MMshvDJ8FU+dQmfsFINq2+oA7klNxCbtgvJOadRUBGDroE2TBtnYXVQwaV9tAp3kyC8EYghfDX4mz0hkxGQrg69auC8xQp1zvTvEzU1gDaRx9GJV9+mn4v63V54TRa42roxFJuEwkMnEbP5a9z4eA3ubvwCKYcOoebOHXSnpqK3tBi97U0YHu6F0TABy6wBLqcVXu12s7YR2ioDg4tYavxbjBhCHXzsxRDqWOI3+s2gk2pSVvQNtyGz4CEik44iKfskqpqS0NpVgxl+i5j2nYvKnpsS4PpecFKrMUAKwusGnx7FED6GRwKXTo/BR2bGL80UBia8xfBP5PzE4lMnZx3uX7TPAvuBGz736NvwU+aPRTOwtDbMnB54hsYxU1iB4gvXEfPNLoR9thl31nyO5O/3oOziZbTExGCkrASG1ibM9nbBND2GSes0pt0WONRt58BKhccihlAHZxkxhAGCf6Mq1X68ZAZtrkm09pQgPe8m4jIvIr00CuVNhRid6oPbbVM1MQ6CHBBsVNNzUkGfT4r+cHkXBGHl4aIthnAJtKAVTIhxWkzjG4/q+TeKgeqVCJrAMW81GELOS3wNjr8I7Ah0leXj364X4fK6wR+Om98t6tulAVx0vhgzwl7VhO6HSUjYcRD3PttKRnArorbuQOqJ88gPf4DmvDyMNzdidqAXtslROI1TcJlNcDkssLutsHuccFMGfvRyhBAKMYQ6OLusSkMY6jdp4hJO8nn49XsHjbLB6hxBRUMaHiSdR1TqOWRWxqCorR7tk1Qb4+Zk5vE/BcJL8VVCjeBVLEwRBGG54RIrhvAx6IMU7yz2Lcrl0CCNZyOoj2HcT9ESDp8HLqoIu2km7dOVb3tFWNs9ekPI2YfH80/XxLBxXrQ7eJ9anfB1DWAoPgOVp64idvN3uLduM8I+/xqJuw6j5uo9tEcno7OgBL1trZgYH4bNYoTTbobTwQ1H2+F2OchbcmsW/nYDeT3C0yGGUAdnzlVnCEP9Hr349/PLIHNm6hnHpLESBZV3kJB3BdHZdxGZFY87qdm4k9OEqNJRFLWa0THkht3BC/vhvuCAECxBEFYGLptiCEOjzB6L+vnupaYZC9A14kVZkxk5VQaUNTvRPT6HWZrG+9Pp82Ha5oSdFnSS2CQpY8QJvcXwz+Pfz6cN/s168e8PmZX4IfP+cXjKGlB/6S5iNm7HvQ834t7HXyDp2/2ouHwHbXEpGMgrhrGxFY7uQVhHxmE1shG0kQF0wcvtBgbaDNSe3Xxq982z6bWKEUOog/PCqjaEmmtj9ONVcR7D8GgO8kovICr1CBKK7uNaQgT2XI3Czqs5OBTVjtPJo7iUMoKL0U1Izu/A4ITdnywVTG8gEuqT1UsQhJVBDOGT4dMA7ycL7YvqXivCMztwMbYV5xMGcSl5GmdjxnAqogURua3omLCpq2NmMoU26nI/N5SinqV+WpPyBqP9Qu5qp5RFv5oH2AQazJipakDHwyTk7j6GhM++xn0yguGfbkXRiYuou/MAPckZmCyvgbGtA6a+ATgmp+AzW+Cx2uF1uChvelW7tnNvu9NeJsQQ6uAstWpvGXPJ1RTMnAX9fanIzjmCpPSTSCp4gCsxcdhxOQ77w6pxJnkKZ7OdOJfjwXnqXkifwvm4VtxNaUDboEkFU46D+uAQLEEQVgYul2IIQ0CBiY0Gi/eRgQJZTpsJp+PbcTKhF6fTpnAqw44z2V6cSnfheKIRBx80k0FsResklBm0kGyUjpNS4CcKV4MhZOa4JQpu30+Pm3672QF7Uye6o1NRdvwSwj/6ArffXYfoL7Yjff8JlN+JQGtGNoaqazHZ0Qnz0CDsExNwGmbgtpjhc5K95k/IsQn00rHhe/GrY5cuC2IIdXC+WvWGcP43+X+YzTaOrs58ZKYdRlLiXmQXhCMuOwu7LyVj1616HE+awsl0B46meXAk1YtDaU4cSZvF2cxxHHlQjbuZ7Rg3+hsS5eQFQXi94HIphjAEFAJ9fCUrcPWpfsiKY/Gd2B3VjZOZRpzMceNoNnA4C6p7gnQs2YCDkd24lzOCEfIuJlqOjSF/x8nDlpDfon1r4Vu1IX4fG8PhcfSk5SLr1CUkfLNXXQmM//QrZH21FyVHzqPpQRx6C0swTibQMDoCw/QEZmcNdP4JPBvossPLX8NS6fuPh+oEeoWXgxhCHZy3Vv1LJdyZc8HpnILJ1I26+mTEx59EXPQhFBXcR0lFMa5EkCG8Wo79kSPYHT2FA0lmCoQ2pYMpNuxNMeFknglHUnqw404ZshvG1W2Tt2FXCcLbhhjCJaCApV2BMtuciMxpx/bbTTicasCxTAsOpNmwJ9WNPele7Mvw4GCGF8fSXDgWN4OTD/uQUT8N49ycin38nuuqMISBPtXe2IwZkxW16qrfw+17cePjz3Htw/WI3PQtco+eQ0NYNIZyijBUXo3p7l7MTk7AaTHDYyfz53TA53LCp31T2MffLOEvl/jzq5xLXg1iCHVwJluthtAfp/jH8nthBkzO1KGiOgKxCceQnHQOlcUxaG+uQUVNN87cLsaBe93YET6OHTFG7EuaxcEEIw7FG7AnYRbfJxnxfeIo9iT3YfONElxMa8ewhdMmgvedXoIgLDtc9JcyhBwX1CdjVyH8bJr23fXewXGcvl+Mb+524GCqBfuSTdhFFeEdiTZ8n2zH9ykW6rdiV4wVh2KogvxwGNcS2zFNhtLf9Aq3uMBNcfnTW2meK+zqF+KfwQpOwOHETEsHau7HIOXASdxYuwmXyARe/3Qz4nceRO2N++iITcFYeS0mWzthHB6BaWYGFrsVNpcdHvVpOspwvN99JNVlo8n7z9+MWfApWXh5iCHUwZnszTWEoTZsKS1GPd/HhU8VtQmMThSiqPwSkjMPIS3rFKqrYzHa2wzD+CxqGmdw/GYV9t4fwLeR09j+0IDt0aSoGZIBXz004ksa3hjRj29iuvHFnQrsjapC8yi/pUwEb4pegiAsO1zyFxvCXrIufB7mW4CBGVZhOZ1/W5Vobe/HwZt5+PpeL76PN2Nb9BS+ip6hWGfCl1Qp3hJDwxT7dsW5cDTRhT1hfbgY34pxx5x6ocTfxAq/VvJ67EDeDt4iln+bHqcAfOuc9wePcpI1C5hlWOh39Q5jMLsI+WevIvabPbi3dguiNm1H8u7DKLp0A7UxCegqLMFUWwdm+4fgmJqB02SGhwykhwygh4wyN1I956VzkFoPpcvS+rk3oMDgi6Ot40laRYgh1MHH/s00hPqN0RebYGnTFuObc9FYM9y+UfQNZSI56xDCY75CWs4R1DZGY6C/Gg7DDLw2oK7FhgNXK7H9bi+2Rs5gU/g0Nt6fwYZwA9aHG7E+woQND4xkCEfwbdwQNtymee+XoGZoxr+yUJulSRCEZYcjQrAhZBPDX5KY9wBcPrWwsgqpbezA7qvZ2HJvAFujZ7Hh/hjFvEmKeVP4LGISn0aMU8ybogqyFTujTNh6pQnnY1swYvUbQv+O4+tbK78DNTPov2pJx1gNaeeGID3uiuakCaMVdai4EYHk7w7hzgcbcfO9T5H01S7kHTqNtvsxmCwsw0x9M6Z6ujE9MQaj2QiLwwa3x6Ne1nkEXt1y7CJex+O0ShFDqIPzwZttCLk08QazAiVL3fPh/sA09X1IbR4WXwuYgdVVh4b2+0jMOIjI+D1kBi+jqj4FIxOdsFpMVCOkeel/c48Hh27XYcPVNnwaNo2P7hrw/h0D3rszhXdvT+H9uzP48O40TRvFlgcD+ORqOXbH1qN50k7rIbSzyyPyTxYEYXnhyPA4Q6iZwmU7Wb8mqDeM1Q8HGlt7sPdGHtbf6qEK7ww+vjWMj++MUfybwAd3xynmjWPN3TGaPkKxsRPrz5bjQnyrMoT8cq1/x628IeS1a2bQTX3+b6mwRdSfEwLi8wR/Ws6tPUBA2Jyw1LWg/UESig6dV03EXP1wA+5+/jVS9h1H9c1wdKVkYLS8CsbWDrhGx+CcmVEvh9g8DtjnPHBQuryGRWi7ZTnzGK8nlFYxYgh1cF54cw1hwPAtEo1T5i8wTT0dTprjcM+POrNccLo6UF53DvHp2xGXdgC5JfdQ11yM7v5eqs1xa+/+xZjesTmq+bZhzfk6vH99CD+/OYV/uj6Nn9wYo+4wfnp9BP9ydRgfXO3B2mvN+PB8Ec5m92GQ215gFpnAIAmCsOxw8RZD+Cg+btaEfzwxODqDExFl+ORSAzbcH1fx7YMbg3j/5gjevTmKd2+MKJO48c4A1l+sxxdni3ArvRNjVA/2h05Oh/tWdgfy2v3P4vlI/JIGD2nnBxIbQE0adjfcfUNoSctG3rlriNu4HXd//CGif7kRGd/sQ/n5G2hLTMNQWQWmmlsx0d2F2alxWE0GeJw22odsO3lNfC3Svw2P7AWeoHVXdhetasQQ6uB8+FYZQi7gJPX5nnkzyI84c0MIVFDnpjE+0YyqmgeITd6FlOyjKK2ORmtXFYbHR2GyOuDWCionSUxbgISSYWy+XIqfnijHP13owE+uDuAn13vxT9e68DMKlO9e7sI7JyrxyyM5+PZWBVKbTTCoqEjbGWwC9RIEYdnhIi6GMAT8WwO/12h1I6awC1suleLjU2X46GwVPrnSig+udOK9Kz14/3IPPrnahQ2XG7HhdBEO3atFbqMRMxRuueUaP1owXSHU7+Grnv5bxJrUBCdtqPZMIEOjvEPjGCyuRNXdSGQfOoW7n32Jax99jgebv0P6vmNovPcQU4XlsLV0wD40DAe/JWwywmkzw80viHid8Pk48HO6gfWobSAxWj8rMHlRv7DsiCHUwXnw7TOEVOiVuN9N4lu3FiqsExgarkB+4V3ExB9HWvYllFbFor27FuNTk3C4OA0/nDrHCh5jp/Jd32vE+bg6rD+fh58dL8Q/nqrA358px9+fLsOPT5XjFycr8O7+DGw5mYnw7F50jHvh4M3jlPQGMFiCICw7XDTFEIaAfyv/durYKO7V9phwIbqOzg1JWHMwCWtPFeCXFO/ePVWN905X44MTpVhzJAs7LhchrmgUvTO0HAVNbrnGzwruvMBv8R9QOpDqto8OHuSDPjqDibomtKVmI/vYOdzb8BWufvw5IrZ8h5yDp1B95S7akzIwVFMHQ28vnFNT8Mya4HVY6YdyAlom0XdJvD6VkQKjNQXPzmjThGVHDKEOzoOvtSGcX1egkM2XIhb388aytPHUpUjubz6BxrMhhBMu9zjaO/KRkXkF8UknkFtwG9V1WejobsDo5BhsTr6h4IebSeAUuVkpfhaGu1OzLhQ3DuFGah2+uZaL90+m4R+PJOMfjqbi5ydy8NGJXHx/qRjhye1o7DBj1sLpUCJ68xdKgiAsO1zWl80Qamnp4EG9glmx0BDYIO5wDBw3uFFcO4qbD8vw/YlYfH4oDmuOZuKDo7mkPGUGv7+QjweZPWjqd8Pg8C/3SjY/sG0LqVN30Yp047VO0Kh5TFb4+kYxkF6AvCNncX/TdlxcsxEXP/0C97/fi+wrN9GQlIqx8moYW9oxOzAIm8kAN5nAOY8Tc9xgNJtBL51f+FazMn8BcX/gTpV/mFbOot5F28HDwoojhlAH588VMYSh0gvu13dVmOFL8dzlkhSsAKoWOAeP2wmv+ozQHByOCbS2FSA27iKiHh5Ddu4VtLTlYHikFwbTLBwuftTYvyp+1Njt88BF6agPtJO4tuvx+DA2ZURd+xASi9twJqYM2+/kYNu9IhyMacT5+FakloySwbRj1uBdaNhWCwZLSRCEZYfL+3IZQuUPOE3qcizhJDkyBYtXoz4ZR1qx0BBYr7Z+rlNPTztR3zCImIRSnLuTjRP3K3Dkfi0OhdXiVEQdYnIH0NDjwBRVgvlxm0Wbrn6Uv3cpgmfRhhcvRkO8UWrD/FPoSNFx4r1JUJcfEwoMqGG/QQuMYlxeWAeHMVrbhNqb4cjefQT31mzGxffWIuzrHYg+fAJFYRHoLCzGUGsrxgb6YJgah81igtNpo+T44oJ2tCjA861hL8nDXRqnSRnEgNS8vBH+bV70o/T9woohhlAH58kVu0KolRN9etTP5UyVfer6n/HgGXijtALJ4zQFodLi8XYKFiYYjL2ob8xCcsotxMReQlZ2OAU3MoPD7bBYzXQC0K+cF+c35DxwUqFmQ8hXB9UJgoKLw+mG0WxH//gsKluHkVXbjYy6ARS2TKC6Ywa9QzYYDR547byQSsz/RwUmkhbQ9BIEYdnh4rlshpDTo3Q4lPGzdRzWOJKx1DpJWsj10oo9NOOKhwZef2Ab+MslFqMDA32TqK7rQ3HtIIrqRlFUP4bypkm0DzgwYfI/WqNbzM8jIx5Fm4V3tba7H12MpsybLDLNZPgcc04Vq/mpQA83IxaYtmhJ6p2jivxUUzva49MQ8/1+3NqwFVc/3YybG79G4v5jqLgdjr6cQozX1mNW3RKehGPWSEZwFg6HRX1CTj0bSOta9GYyr4/Nn94M6g2hMqgs7VcJryNiCHVwNl1uQ6gC5FOksdgQamFUK2CPL2RerwGj46UoLg1DfOJFZQgLixLQ3FyB0dFBWPhzQVR4tRS4y+LgwkFGXSGkVXCNV50cAl0u7w6aYJq1w2gkA2hiWTE7a4Nl1gqnzYE5F22rdkbRzgZiCAXhtYFK47IaQg+lox4/oWHNBHKX2zzgV964n+FVuciA8fpXDF63Xgx151xzsM46YJw2wzBjocqvlWKgA7NWL+z0AzhWaldAnxb9ang5bXez/OincPznPcfHaI4q7C4aw2/z8hvEmlkLYHdgqrUdDQkpyDt7CeFbvsXtT7fgygfrcX/zd8i7cB3NSWkYramDuadPNRUzN2MAbFZaDb8VQz9I3Q7WKWAI+WVF9cIiX7l4kng+ZWSfZa8Iy4kYQh1c3JbTEPKinDwVE/Xe7+CUHY1dY6hpH0ZF4xDq20bQOzgNB5f9RfASPFLbuFAbwsMUILxmDI9UI6/gGuISTiEt/QYqKlPR2VmDqakhuN38wXD/Egz3qm2ikRxc3FSA3RSROcBp33lXFT+tyzOrBXgG6vHQdrE4gCjRtvKMvJInSRCEZYdPz8thCFUS9IfjCBs/HjZTmi0jRpS2DaOkdRTFpCKKfV1DRv9dCZrHwT4iMP+yo61YL94PWtxTlzpZHPv4eW2aTIM8G6N1nwZ98poWL+8fy5HZR3uGqum0Pyl+q/MB38/R4XLBNTCIkdJKNNwNR/Q33+PULz7A2fc/wd2NXyPn2Dl0RiViKDMf07WNsPT3wzU1Ba/FTAaSjKCdzkhOO/0+NoMhpJnCYEOoTJ9Oj4zncwH/DuF1RAyhDi5Qr9wQBi1DxQqjVDXO6zDiSlIbTkXWkKpwJqIK5x5U4+rDWhTUTGAm0K6zn9DhYvHgHFUMB9DWkYqs3CuITzyDrOxbaGjMxMBgAwyGIbics2o+PxTM6K+XIj8bQBcFOjaFbopuPMwxT9V4SRwD57tcvnkfqS4FK77SSCaQpYygJs30PU6CICw7XO6XzRCSOOZxyDBRcC1smsCl2BqciazG+ehGpQtRNbgZX43C+n5MWMjY8DYElll2eKODxRujiTeKpYZpInd5nudAn7Q+2QX8G8CG0EtHyAsHSbPWDB0v4zQm6xrRm5COggPHELFhM659uA7hX2xF1qETqLp2B30pWZgsrYK9rQvO/kF4Z2b8JtDFb8H4DZ+PXxYhLTKBevlYbAqfRWIIX3fEEOrgYvVKDWFgftXYacAADdP6wsunsDuyA3ui2nExdwZXC424WWzBjTwjLiUPUrBsQkrZOMZm+fPoS6ySR86XMwoVziG0d8YiMW0PouMPIjcvDM0tBZiY7IDZMkZm0ASvh2/S8EIcZPjZE6p3knljM+iX3xyyNDMYLFW258UjqSeU9MZvKQmCsOxQ6Xy1hjCwjPIC1OWQarTPIaF0EIfDKnAusQu38i24ne/ErTwbwgotOB/TimO3C5BU2otJO38D2L/6eZ5nO54HXs/j9BLh5Pg3sngfkX1S0ob52qAf3YrZZM0YYO7owlBGBsrOX0LkF1/i7toNuLXuc8R8vwtFl66gPTEJhqoaWJpbYe/tg2tklMyjEXD6TSC/JOIj06au+FH/HBu4+bs8S0vN+wwSQ/h6I4ZQBxezV2YItXmpLHAzMHMUbJ0eHzJrhrHtbiO+T5zE8QKX0omAzuS7cDHPiXPJkzh2vxEp5ZOYcVOQVgkGodImW+ezY9bcgdqGMCSn70BG9i4Ull5HY2M+xsZ7qPwbaF4KAvy1ElU4+TkQDvxs+vjKoN4Q+q8OiiEUhLcXKp2v3hByOuQHuMuPn+TUz2Df7Soci+3GtSIHzud6cTpzDmczvTifacfVbBPOJXTj0L0apNSMwuLS3RKlnpDfwX0V8Goep2AeN+0JaIvxbtYMoXb60frnsdlgHhnBWFEJGs9fQfqmb/Dg3TW48c7HuLNlK1JOn0FVVBTac7MwWFeNqe4O2CZG4DJOw2fnV6CdlDCZP1ob/3PTGvifl8apF0bYaGq3ex8nnu+ZxOecwPlAeO0QQ6iDs+hLNYSh5tENj05M4WpsKbZHdmFnmhV7KBDuyrCpftbuVCsOplhxIsmMM3EjuBjbgq4ppwoO+iT9UJF2j2NktAwl5TcRm7AbKRkHUVF9C+0duRgd7YXFPAOv10YLc21NK5wLhpBjLL/Zp5lAfutYmUES/Q8pMYSC8GZDpTOkIeTWBOaLJ8/Eep5iysvogtaIwYcrsU3YH9aM02kzOJJqxgGKcwfTXDic6sLRVBtOp8/iYsYUjkR24nhkKxr7+PGWFYC3+XnFLDU+BDyJTze8q4JPOwqPD94ZE4wNrWgPj0bavsMI//xL3PrlOjxYuxEFuw6j7sYdNKWloruqAmNdbZgc6oHJMA6b3QC3x/+GsLoKSAfTbwb9d4f4JrT/83Kv0hD6zzf+zCS8jogh1MEF8KUZwlDzaeIORdnahhYcvJaEPXED+DbRiO+SjPg2aRbbEoz4Kt6Ib+JnsSNuFgfjLTgeO4Ej92qR12iAlS/XLcJHBX0Q/UMpyC08gdjEHWQGj6GuIQn9/fWYmByCzWqF2+W/NaDCja5w6g0hi40gi1ez1JVBTWIIBeHNhkrnI4ZQXcxT5ZL+8wyanqeY8jLkBxgvpVHWMIUT92pwLGYAhxJm8F3UJL6Pm8LOpBnsTDBhN8W9A/HTOJNuwMnECey80YDs6iF/AhrLFS54PS9Ti1g8kfc336Vhu7YIqx2m7kEMZhWh4vQ1JG7YjoiPNiLysy+Ruvsgqm/cxWBGFsZKyjDV2gzT1BiM5imY7SZY3WbYfHY4yOLzO8hsAEPjN4hK2rlBvSHzBM2fR55WlAFUhhJeR8QQ6uCi8lIMYah5AqZHKwsetxeFpc3YezkVux7246voSXwTO0Mm0IQvY4zYHG3Elhgzvo62YEc0GcP7A9h1swIRue0w6F47npuzwu7oQFdvNDLzDyA5Yy8yc0+jujYWw6MtMBknYbfZ4XZT7Y+NmcJvAhfkD0bBZu9JUj+Jk5yXNpEGghX4/UuLt0sQhOWGSucShtA/kc/j82X8ecopL8NpEGY7EJ1BFeHblTgUPYRvw8fxVcQMvo6ZwVexk9Q1YjvFu50xUziSaMD+h5PYfrUVSSWj6lazgtJbtlvGDK/qZWkevi7nN18+bpVBOzFoWGywT0xjqrYZTWExiN95GNc+2YRL73+GsM+3ofzcNfQnpmO8sBSWtg44BgYxOzAAh3EGbo8Tdp8DDp8LTjqS/PoJv5OsXRcMzcJG8jkhZAwPJZ73mbXUNggrjRhCHZxNX50h9BcE7jAuigE5xd3YfioN34X3YhsFvq0PprA5cgYbI41YH2HCZxFmbIiYxZbwGQqcQ/j6WglupNdi2sE3dDg5MyamqlFdfwMpmTsQn7oLmXkXUVOfgpHRdjicJlq1PxJz46X+luw5ELH5W5DfEKrNW1KCILydcFR4nCFUehE4hgQMockBRGW14NtLRfg+rAdb745hc7gJm6JmsYHi3hcPKN6Rvn4wjd1kErffG8cX51rwMHcENn6hluHtWu6YpK3zacXo+4NQMVj986ovSSnI5HqMZsy2dKEjIg6Z+47j9mdfqvYCw8kEpu49iqKbYajLyEZvTS1mentgHR2F0zADn9VCJxV+K5h2NMX5+Yr+/L/nQNv+pSS8dYgh1MF5/JUYQnXVzF9QuVLFsKfLLCQjeDINm6+3YtO9EWy8O4rP7k1g7b1pfHTPiA/uzuKjOwasuzWBTTe6seVKISLLOzDttsPlHcfoRAlKy68jNfMAEtL2IqfwEhpa0jE53UO1RG7Z0G8AGf8VQH/90L9JPOzfNDF8grB6edQQ9qg7vCos8MSAmXsRVF2UMJPTTCrpx7eXS7H1Zgc+vzmMz8PMWBduw0dhFqwJs2L9fSs23Z/BtgeT+OLmINafb0JM0Rjs7FIZ3rDljlnaOh8nHWpQGx/47Yvg5++4mRe+MmCzw9Y/jKm8UtRfuInkr3fh9od0Uv7lZ3j41Q4UnrmM7tgUTBdXYKKxBaP9/TBMTcJuNcPtsMHnpnT4k3HzwVyt/cXRkgqW8NYihlAH5/WXawjpD2veEPLDuv7ampMGK5smsP9aAT45VY41V7vxydUefHhtAO9cGcbPro7jn69O4edXJ/DBpSGsOd+ILdfykd4xhB7rABp6U5FbfA5JKQeQlnkaBSX30d5VCMNsH7w+K62Brwhy09L+aO43hP51szQzKIZQEFY3SxlCBU3k9wFeGIoxHInM9CevyYBtF0qw4VIz1l3px9pbM/jlbRveuWnDe7es+PC2icaNYe31Hnx8uQVf321HVpNJfTpTsRLxitf5OOmYH6X18Hbr5/FRxXx8Au6WdpjJBPbdikT2N3sR9sF6RK7ZhMSvdqLo+Hm0RESjLyMHI2UVMLa1wzE8ApfBADcZSJ+bjKT+WT5+OFMF88A6NLRt0PSsvOjywhuFGEIdnN9friHkaKqJEgoYQo4PnGzPmBVXYmux7ngRPj7VgI/OtOCXZzvwzvle/OzcIH56bgQ/P9eP9041YsPFMhyNK0F+XwdKujKRVHAGcakHkJlzDsVlsWjtqIFxdpxiAtUWKXV+ecTlcVCc4DUxC7cOWGIIBUFgOB69ckNI8OfqrKSaPhv23irH5+cqqaLbRKavDx9cm8C7VAF+98oE3r88iPfPt+D902VYe7ECh5N6UDnoUF84UaxEvOJ1BovR9xPzvdp4Fodg3od2DzwGM6ztPeh8GI+SY2fx8NMvcffdtUj4Yjty9h9DzdXb6E5MxXR5Jc3XDivfFh4egts4AziddDz4PEKJhpRunYx+WC9BWAIxhDq4rLwUQ6jgCbwwF2BNVDMkB8ZTOAhPW53IrBrEgZv12HC0HGuPVWDtyXp8dLoVvzzdiV+e6sYHp5rw6ekiHI8rR2J9NdIaUvEwh8xg9jHklt1EbWMmuvvaYTBZVCXRj2Y5/SP8mymGUBCER+Eo8SoNIafPIYaflON7F2NUZ81sNGDfnWp8dCgTH58sV8bww3Mt+PAsGcRzdXjncCY+OJKEvRFVeFAxiq4Z/kRbIKGViFfaekNIfaFJexYoGJcPnjEjrE09mE7ORf3pq8j4cifu/WINbvzsQyRu/R7lF66jKzkdY9XVmO5sh2moH/bpCXgtRnhss/A5LRTOae8FziGPGkFNtD5NjH5YL0FYAjGEOrisvDxDyHCQ4GjKD79wYaYOicsuP81n9djRPjSDpKJhnH/QhB0XCrD1TD42ni7G52crsOF0JTady8fRqDxEV5QgtiwBN5POIDLtFLJKbqGxMw9DY90wWWzcRJXCvwq+VczvlC1svN4MssQQCoLAcOh4tYaQI5FHNXzioCF+upmbFUyoGMH+20XYdDYLn53KwtoTpOMZWHM0GRuOxWHfzSzElvejZdIDI22DCnEcq1YyXmnrD2wDf6rTZbfBzS90MIGQO+dywzlhwGxRJarOXUfk+q/w4OMvEPXRRqRv2YG6E5fReScSw+k5mKqtw2x/L2xTE7DNzsBORtBpN8NL5wefj9sN9J8//BFcxyIzyOJxATH6Yb0EYQnEEOrgsvJyDSFP5MLMt3EDUZWjmlrGQ70OmKn21zc2jYqmXjxML8XZsGScvJ+B4/dzcex+Hk5GpeBBYRyZwTDcz7yCe0kXUViTgpbuSkwYhuBwO1TbVQvwCnhd/kYGNLRN1SSGUBAEhqPEqzSEbAd9sFKaJoqGVtUEisE1h7YJGzIbBnA9rRqHwrKx73YGDt4h3UzG9bgSZFX0omPYCgutn283qzDFf14oXmkJhNAicxUY98g8vEP4pKBXYJrbA8+4AbbmLnSEPUTyjgO4t24T7q75Agn8csjhM2i6FYGB1GzMVNfD1N4J8xCdYwzTcFtnMee0UxpkLD0u2u+80xcq9ny2cJMWIjoRvL30/6klCCEQQ6iDy8nLNYQMF+HgRBgu8FxfdsBJNcFp0zRaezqRU1aCjPJSpJNSy0uQXJ6B2ILbeJB5FvH5d5BXlYa2vmaMTI7A4rDOm8GF1LmP17n0hqk56I8YQkEQOFq82mcIOf5ZKe6YKDkLyQW7z40pmxPDFgcaByeR39iN3LpOFDR0obCuAzVtg+gemMG00QU3Lf5yYhQnoomvW/rl3wMBzT/zzeIV87bztEBXjeMdQv1eMm4uJ3x2G+y9vejNzEHBsXOI+WI7bn7wGe59tgXJew+j8todjKbnYKakEoa6Jhg7u2EeHYHVRObRbobD5f+CiPq2n/aSCK8/AG8tr5EvLSyMJeaNIIuHn0GCEAIxhDq4nLxUQ7jkvNRDBV41Sko1Qf5UkIuCi9lhw4RxEkPT/WgfqEFxXSJSCsIQnXYHydnRKG8oQt9oF0ZnxjBrs8Ht41asQiSv+haFjkdYFEsWFhQEYZXBkeKVGUIVW/gP2xkn9bH4E2leuCj+ObxezNqdmDHbME0yWB0wWp0U39ywOcg6eubmv5b0YnGKF9bkv4nN0ZPF/X7Dt4TUDmDxRtCw10Oj6DeMjWO2sBS1124j9qsduP7RZ7jz6SYk7z6EChrXFp+CgaJSTDe3wjU8jLmZaczNzmKO4vycx/8JOW4umr8frD4Vp8TrXIx/i/1aEv3PexoJQgjEEOrgcrI8hjAADfOzyPwFEQ8ZQ//tAQqKlg5UNUYjOvkAIuOPITM/AVV1Negb6oPJZoLFye0Q+s0gB4nHJP/IOAWP1CKMloAgCKsSDgGvxBBqAUhJCzoctciEqUSpnw0QB0FVQeamsrh5rIXF9Hcynh9/av7rgRw3F77b678Z64+9ftNHWmTOAtvMt3BpO31GE2arqlEX/gApBw7j7rrPcfP9NYjb9A0KjpxC9e0w9KRnY6amAcb2LphHR2E3GeBzOSg5MsWB3+1fX8CY0jj1fWG1Pv+2+vfXMxBY7KklCCEQQ6iDy8krNYR6AuO43KtvBvNHhuamMGNpQlndXcRn7ENMyi4UVtxCa2c1RicmYA5cFeTwxZulhatAUiEVEp7AC2packZBEN52OAQsiyHU34Zlg6W6LB7vl7+9VOoNXpz0/PjNoP85PP6Mm/8FFxb/86ix/ISem+biK5l+06a2jTFb4W5uR3dUHLJ2USV97ee4/cFa3NvwBWJ37UbZ9ZvoTErFRFkFHJ1d8AwNY26KTKDZArfTAbeXPx7n/8dtw2qat6jaMO8DjWf9wcE762kkCEGIIdTBZeTlP0O4BIHlPB4XbHYjDZowba5Def1dxKbuU4awqPIqWrqzMGUahtPDNUj/Mhw2WLxp3NVvSrBCwhO0RLQEBEFYlXAIWHZDOC8ep59xoW/x2BdBuzLIdo+tn/8f9/EYvwkMXL1jKbNKa52kCnp5FUqv3ET0V9/j3sef4/4HnyHz272oOnsJLQ+iMFJWisnmRgw21GOmt5fMowmwWSk5Ts9vQvklGl4LV+TZAi71j7fzudEWf1YJgg4xhDq4fCybISR8PgoVXiPcngEMjecgv/wC4tMPIqPgLEprH6CzrxQTM31kBvkt5QU4gPNmsbg/1CZpCglP4AU1LTmjIAhvOxwC3m5D6Mf/5KL/dq3fBNL6VWwNbAOvaGoGU0VlqLkfhdjdB3Fn41bcJT3YtgNZpy6g+kEM+guKYWxpg3VgEC7DDFyWWThtfDXQTj+H0ibxZ0J5Tdx6ov/JSb8xZIPoJWnflg8WXyHlzVlSS+0MHv88EgQdYgh1cPl4JYYwaD5+kcTj4SZaLdQdQO9AErIKjyEq8XukZJ9EdVM8ugeqYbBMw+Xj8OFHiwm8SZq0GLGUQsITtMS0BARBWJVwCHjbrxD6n0/kuywBI6jH5oCzowctMYnIPHIa9zZsxeWP1+PWF18h4eAx1IRFoicjBwMV1Rjp7IZhYgJOK7c96KbKvBseFaP9V/+4z/9Uor+ZGDaBmnhYDKHwOiOGUAeXj1dmCDVU8OPnRSxwOHvQ3ZeB1KwjiE7cg7Tci6isT8LgWCsM5kkKEIsT53jAm6OXFiOWUkh4wtMEGUEQ3no4BLx5hjAwZdGyT5IG9bu9cPRSZTynEJlnLiFi2w5cX78ZVz7bjKg9B1Fw8y7qEpPRXliI8eYWmAcGMcvPcZvNsJMR9PjIAFIy8z+JBvRic+clBRu+UOP0EkMorCRiCHVw+VjSEGqFR+vX63E8Mg8P2GG29qCuIRbJaacQm3wU2YU3Ud+Sg66+RhhmpyjouPyzB9CSWSpGLKWQ8ITgBARBWJVwCHglhpCZD0b05xFTyP2B8c8QhPzP2/GyJH4hJbAsX6Pz/5rANC19PRY7+ksrURL+EOHf71MG8OKajbhE3YSjp1AWHoWewhJMtbZhorsbk4MDsMxMwW23wuN2+VuEoCT5y1CcfMgaOjtFlrZ9OvmvVIYWm8HnNoQMT3sWCUIQYgh1cBl5fkPIPU8qsZyYGSZzG6rqHiI+6SQSUy6guCwBrR2VGJ3oh9lmosort031aDra6p5FS/JUMwmC8LbDUeuJhlAfL541Zqhl6M+8OFGWblwwPGqRFgb8bSyQgSKD5fO4aBIPU3SlNN3cvp9q3oXS59G87QYLzLUt6IxLQ/nZG7i5dgvOvv8prnz+NaIPnEDJvUg0pWRiqKoWhq4eOMYm4DEY4baY4bHb6fcH0uPVE9pPUMPc1WthM/1/9L8x8BuW+jePf7bQehKhlgklQQiBGEIdXE5exBD6nyJZPImDlFcFLL6NYMTASClyi64hPuU40rIuo6ImFT197ZicmobDsfDyiJas1mX06T6tBEEQHgf7mCcawmDT86wEG6NgBZjv4x4lbbpfZAHpHz9yQ5VmMoNel522yb+1PIc/AhNuD9w9g+hJz0PW0XOI3vQdHny0CYmff4fM746g+Mx1NMWkoK+4EtMd3bCOjMFOMdhtMmPOwZ+Po5itXelTV/u0fkqbOo/V60KobWMJwhKIIdTBZWVJQ8iBgNEXLL0CHRU7/IOBYQ5RDjjcw+jsy0NG7mVEJx5Deu4VlNfEobO3BsbZGbjcFOQC6+DlXpYEQRAeB4ed18UQMjzEYdcvvh7oF7+QwS36ebjPR31uqkAHrg4q3LRxUyYM55ei6PJNJO46iFufbcalD9fj/pbvUHDqCtoeJGKquBqzje2w9Q/DOTUDz6wZPqsNPqqQz/GjOl5KR28GF4nWQ53H6nXidd424bVDDKEOLi/PbQhJ3OGYwV2GQxg/L+jyDqJzIB3peZeQmHEOeSX3Ud2Yip7BahjMo/DwNyx1BJJ7KRIEQXgcHNpW1BDqEuQ+XgWHXV6tJh7mqrVq3FkNLSwDownm1nZ0RiWg9Oh5RKz5AtfeX4uwzdvwcMc+FF27g9akDAyX12KiuR3mwWE4pmfgs9spcUrdS+ktetaP0l5StD7qPFaC8IYihlAHl+UXNoQqbC3M7HT3obkrHmm5Z5GQfhoFZQ/Q0lmK4YkOmB2TFNq4pSpeclFSL02CIAiPg6PVYw0hP0JHcXDOS5GKxcboWQNNKCPICkpA69NPmZ+q3UJhbHZYWjtVczBFpy8g5stvce+j9Xjw2RYk79iP0ss30JKUgt7iEkx3dMIyMqpuCTvIPLr4aiA3HK2ZP/32LDJ/oUTrps5jJQhvKGIIdXBZXtoQBkq6Vuj1CsDGjpsgBZk8j9eMsYlW1DXHIDnrGGJTjyKn6A4a24owMTMMu9seqO3ys4WPJvmyJAiC8Die2RDytzZ5IZ4W0FMxb7y0BTlC8cIcN0MQPJJm9Q2PYbC8CpW3whD75fe4/ctPEfHJRsRs/hYJew6h8m44BgsKMdXYCGN/LyyGSbicVorHLkovEMzVerk30L/I8C0lmt+/qU+WILyhiCHUwWU5tCGkKRwUGK3QK+kH+CkXbirGSt1pjIxXIrfwGuJSjiI1+xQKy++jpbMYY1ODsDpc6nEXTppjK0uf0suUIAjC42Cf8zyGUO+nnh5eUCVGvSoCkvz3VFgqKU5QS5MnT5thrG1BW0Qi8vccx901X+D6xxsQtmk7UvYfR31YJLozstFVVo7RjjZYJkZgN0zBaZuFx2OndP3NQatvBYfaYB5kaRug9euljX8aCcIbihhCHVyWn90Q8gxsBG0kK1zuQfQO5iC74CISUo8iM/8SSqsfoKO3FDOzY3B53NwmqnqJjduzUrGVk9Ghkn5JEgRBeBzsd57XEHLs0vybXozW1VBt7KkFOWaS+Nlp9d1gv1nj7ZjH4YWzdwQ9aQUoO3lVvR0c9tO1iHx/IxK37ETeiQtoSUzDcFUNxlrbMDk8iGnTFAz2Wdh9Trhpo/nLJPNPIFL6av26DeT1sXSjFga0icEzPY0E4Q1FDKEOLsuLDGFJwBCqoBAo6VpQ0QLFvCE0wu7sQEPrQ8Ql70dU/F7kFF5HQ0s6+obqYLJOwBtoHoEX45iqSR+nWIIgCMsFx6MXMYQqjtGsenGaHMs0+Y0jX6fjf/wJOVqDj+MmzxmARrn6RtBXXo2qsGhk7z+FiA3f4PoHG/Fg8w5kHb2A5sgETBRWYLquEaa+PtgmJ2EzGeFy2eGk9By0sW61Du1Zbm1LHkVtV6A7P4c28CokCK85Ygh1cJldbAiHdYaQ5yA096aNpz8+nwmG2QbUNt9HXMoeRMbtUG0NNrfnYWS8E3aHmWechxdTQZSkatcsGqlJEARhueCQ8zIMIc2mXY9TadJo1VX9NEBLKqPGmofHTxkx3diOjpg0pH5/ENc//hxXPtyA8E3bkXf4LOpvRaIjPRe99Y2YGBiE3WCElxuMVk3E8NoCCS2StubnIDiplyVBeM0RQ6iDy2zIW8aqeqtmWSjcysm54fGMY2y8GEXl1xCTtB8pmadRVkUBrKsEM8ZhuNwUuDgaBtAW1UtN1uLXc8YwQRCE54FDzvMYQn5JV5lBEptBvt7H4n7NFLI4vD2CxQZ7ew+6EzNQevISYr/Yjlvvr8OND9cjetsuFJ2/ipaYJEwVV8Le0glz3yBmp6Zht9ng9XA7hFQRJzPofy6Q18LwmoIVRKhZWHpCTdf0JEIto5cgvMaIIdTB5XWxIRwgQ0hjOSKyc1MzcZfDHYe+WQwOZyEn/wTiUw4gMe0sKqqT0dPXRGaQbxFrtdcFeOlgM6iS1EsQBGGZYDv1zIaQhj2eOXgoeHGUYxPI4jYWuKuMIM22KJzRCMvgMIar6tB64z4Kv92PsPc+xZWffoDIDVuRe/gkWh/EYCg7D2MVlZhubYN9eBg+oxE+q3VRo9Hc9I3/mcCAngTP8iRphJqm6UmEWkYvQXiNEUOog8trsCF0cPCDnYIgfyOTwySHOiscjj5MTlYhr+AiHsbuQVbedVTXZ6O7txVT09NwudkwhmY+PkiAEARhhXlWQ8iXBNmQeTxe8mf+l0GcFMxsbrcyiIvCGi3nmzRiorkN/SmZyNp7BFHrtyD8442I41vCR06j7OotdKdlYqKqBsbWFlj7++CYGIXLNAOf00oJaBvAG0NpPmvc1JZ5GXoSoZbRSxBeY8QQ6uDyutgQ9sOmGUKPDT4PBSfqt1k70dwcg4zM00hMOoXs3Luoqy/C8OgQZs12uN38QDMvx3VnDpeL0WIDSxAEYSV5VkPIvszn9cHtcqvbthzJXFRZtukqwV7jLAztfejLKED1uRuIXrcFUR9+jrg1m5D73X7UX72DrpQ0jFbXYKqnCwaOnTOTcNiM8LpstA7+LB2lxytXcdS/nudCH3BfVE8i1DJ6CcJrjBhCHVxeR8kQXk+owsbDD5UhtLh5LAclB+bmZjA724jGxgdIzziCzKyTKCq+j4aGQgwO9cNqc6imtdRdDE6PIqdqTiEwrKGmBSQIgrCSPNEQBm6MaIbQ6/HC5XLB4/YsxDC+let0wzw8iqGyCpRcIhP4zU5c/egz3Fu3CWnb96Du7FWMxCRjIicf07W1MJARNI+PwGqags1mgN0xC6fLAjdVvt1zToq6LP87w/6vGT+nKdQH3BfVkwi1jF6CsNw8Q957xBDycxmrTxzt/I0UjMy6cS2+Ep8fikJccR9mnTyWA9EUTMY6lJZdQ1LyPmRkHkJl1W10dxdjemoYNrudjB/Py0nNwUOB001mkrvewPMuIpHoxaUn1HTRs4mj24jRgdMR+Vh3IAxpVd3qCWk1neKXj+KYv8svcvjjmT/SEV4vHNMGTFY3oC82GSl7D+LG+i9w8ZNPcfPzTcg6ehLN4VEYLyyGoa4eps5OTPZ2wzQ9DqvVCKfdBK/DAp/Lqm4PK3nscPsccJAp5GZkXORIPXNeFV+Dt/2pxPH3ZSlU+nqFWkavUMuIRE+hxYSeJ6SeIe+9mYYw8ON8AT0y/ZnEQYYv6/mfhRk2u3GVDeGBKCSW9sHstlJtuB9jo/moqwtDUtIBpKedQH3dQ/T1FMM4M0zBjKrQtLAKmgF5nGQIHRQ8KZj6PAHppmvSat0vJEpbJHopCpW/Vlq6gOZ2eTE4OIG2tj6YzNwYvB+fFvC8VJ49Xn/3KYPgahb9UXcwhqZtOB1VgE8O3UdyTRcctE+9PA/vw0C+UAGSz0t8a9higqGvA60Zyci9eB53P/8CN8gE3tqwCbF79qEqLAytSYmYrCiHvaMd1p4emIeHYJmehM06CxsZP5bTYSVDaIPPQRVqlpPkcsDtIUPodcLpdSu5SXx7el50jJ9NgfygSbcPnkn6NESiVyldvnNS3OvsGkJnzzBMVud8hWyRB/JR3GNpw/PjAwoeH0JvniHU7TD9zvBHqucV15FZwLjdQ4awHBv2PUByeRcmrN1obr+PpJTdSEk5gIL8q6irScbEaCfcdjMFRzKDFDDBt5a5Jh3oqnG68SLRGyEt37LYBKykqIwvEmGzOhAdm4tvd53BvehcdPTPwEbBch6vB3MuN5VD6q4CU+iHu88vToYN4bm4Mnx87AES6rvV28K6vUr7n2S0wtrdi+nCPDTfuYyE7zbj6sfv4Ma6j/Dw22+QfeoUWuLi0FtYgNHmBkx0d8A8PgyHYRo+qwVw0YmM5CV53AEFhvXice4Q4vEevlX9HJrjz0Op/fWSxGmJRK9Ki/IbYLK4cDsiDd/tv4rb0UVo6uWv8njVw2xqLh/HOop7Pm70nfr1UtMejR2h9OZeISSxGeS32jhW8fmCKoGLzmNPe15T81EarDGrG5fjCrHhwFXcz85DaXs6UgpPITL5ALKKb6OxsxS9Q30UG/k2Bi3PywXSWJQujVcKHi8Svc7S8u1rIq1csnjY5AByKoZx9FoGNu27i+9OxiAmrxV9UxbofaGqLK4CM8jHjH28k+R4RtlJNhKbvxErcCqmAuuOxyCrbkClrRoatLvgmDLC1NiJ3vtxyNh3FGFbvsL5T9biJnWzz10iE5iMsdJqTNQ2YaajDzODY5iZNsFA5t1KgdFOyfAtaD55cXc5xetkaflHJHpTpI97RurJrB7AnouJWLPjGradikNYZjs6Ry3KezAc73zqCqFmAlmBq4bcHyKGBOuNfYZQuzroop0wQ+65pXsCFU0TqGw3oSKg8oC4v7LduFhtNI5U0TaLMlJpuxnFND6hrBOHbkfi+wvncS0lHHezbuBq4mlceHgeV2LvIaGkHJk13chvHEVRyzSKWw0obhGJ3g6VtBrnVda2cipto21pp20iFXZQt9OE0i4zsppmEVsxi0vJffjmUhE+2h+Hj/bE4NvzmUgrG8KI0Q6n1wsXBUVVWQzEi7dNjMlsRXVLH8rbRmhfTaKofUbtq6dRASmflNc5g9yuGSTUDGHn9TxsOZyAjJQaGJs6MF1aju64VBQev4CIz7bhyvuf48Q7n+HY2q9xbscZhF9JRFJsBVITK1GQUYvywmZUV/egpmmI4uoISjvH6JhNoKxrGuVdBpR30rFdCXUsVin9bpHo9RXlUfIixRQHi6hbRHk4lzzMw8phnE1uwuYLmfiX3Q/x/t5YHLqZj8LaPoxMW2B3knXk+EC1xDmKgX55yAyynu4q4SOGULUA/wbIE+i6qPZZ29yLczce4vujd/D98Wh8ezwO355IwHaleFIsDT8MEs13Io6mJWLb8SR8dSwRW45FYtORy9h29jQuJtxBWP4D7L6+H5/s2YR/2boJH+84iM8PXsUXh+5h0+EwfHH4PjYeCsfGgxHYeIC6B7grEr3BOvjAr0MPKH9HrqBoWw6H4/Mj97GBytnmkzHYdi4Nnx9LxsZTWVh7LAvrzxTgkxO5+PmuRPz8G9reA5F4mFmH3mkzrBwb2BQG4sTbJL5J5PH4UN3Qhn0nr+K7U3fwzekIfHUmClvPRD+VviRtCeiLk+FYd+AW1u64jy+3P8CZb84j8svvEbZmPS698xHO/MsanPjFRhx4ZzO+J3350bfYuOkoNnxzEet3XMfnO69i6+7L2L7/GsXgW/j+xB1sO3kHX568TbqDrafC8BWt46uTD/D1iUia9nBZ9fXJKKWvTvjXv/XYA5HoNVYUvjwajc1HqJySR9l0IgYbaNxnlJfXnqQK8IkU/MuhDLxzMBMf7gzH5l2XEJVYjKkZ/ioaAs/MuuFzk7g7//xt6Hii1xttCLlRVBftgIb2fly7n4Qjl2Jx9Go6Dl/NwqGrOTiolE3KxKFraTgcpEPX0nFQKQMHrmdgz9U4fHfhKk48uImrqTdx8O5hfHHse2w6dhjbTl/Bvutx2HclFXsvZ5DSsedyGvZc0pQqEolegnaTdl1Kxq7Lidh5hXQ1Cbuu0vhr2dh9oxB77lRix51qbLxQgF8eSsMvdsdj44k0HLiWhfSyDgwYzLCp2PB2GkKuyTtcHjS0dOPKvTgcuxGPQ7dSceB2Bvbdznxq7b1FcexGGsW1ZOy9kIBtO6Pw7Re3cWbNIUT88nPEffwpoj7bjGubd+PYtlM48P0FHNh3FQdOhGH3+SjsuBiN7y/HYseVGDpWD7H7chTFRb92XaHppJ00ftdlmn4pjo5rgrrltefS8mrvpaR57b+SIhK93rqcSkrHvstZOB5Win03c/HdlTTsvV+Ib27mYd3ZDLx3JBPvHkzH2r0PsIcqg7mlbTCaKd555tRLdavOEHrpxzmpluykHTA+bUVt0wCKqvpQWDuGgtoJ5NdoGkdBzSiKaoZRXDM0ryJSYe0gzTuAfFbDILJqunAjJRMHb90kY3gC204dxsWHkYjMykNmRQuKGodRUD+K/LpJWoblTz+/lsbVjpCGRaK3Q1ReVkp5pNyaQeRSucyp7UNmTS8yqvqRXjmM1MoxPCwcxtmYeqw/HIsP94RTpS0OF6IrEJdTj+buMcxYrHD5PPOVxlDx400WG0K324uhkUkUVDQgu7wFGRWdSKvoRurzqLwT0Rn1OHAkAVvWXsLlLWeRufs4So6cROHZy8i6E4vUxDIkpFYhJacOaYXNSC5pRmJZExLLm5FUwWpCMimlvFEpuYLVRGk3I422L720HRmlHcgs6UTWMiu7tNuvsm7klPeIRK+5+pBT1k/5leJfxRByyL9k1IwguqgXxyJKsIHi3S/3PsRnhxNxKqwAGcUt6B8zgd+bUjGCenxul196QxgUR0LpEUPopQVfe5ED9tKP9ri464PV7MLw4DQ6uyfQ0TdDMqCjl4ZJ3b2T6O2dQH/POGlsXn2k3t5R9PSO0Dwj6OobQfsgmbyGfnx3KhwfbDuHo1RzLq7rRGt3P4ZGJzA6PoORUQPJjOFhG8mOoWELySgSiV6iBodnMDAyjf6RKfRxd9SIgTELWnoMCIstwld7L+O7o/dw6HIM7sTnUSWvBb19g7DOmuCxWSguuEie0PHjrZAPDocbk1MmDI/NYGjMgMFx2kfPoH7WhAmdQ1Moa+zHsYsp2LD5Mu6cj0VNUhYaM7LRWlKB7qZODPRNYJBi7OioCePjJoxNUBwcn8bwxBSGJiYxOMmawMDk+Lx4eJimjdA8YxQ7x8eMJBMmllmT4+Z5TU1YRKLXXpPjFsq7ZoxxeZuyo65lBJdvp2H7gdv4av9dnLyZhaj0BuRVdKC7fxxmKzfVRPGODKDX7QyIYiAPkyH0ep8uFr55hpDNYLDIGHrsHgqQHtgD4n4nyUVy29003fWI3EpOuB1OmtcJq3sOrSM2HLqagc92ROB+SjsmZ91wsvmknb1IPE6ZUuoXiUQvV2Tm/KKyy0GNgx2Vz+kpK9IzS3Ds9HWERaWjsKIJLV19GB4ZgX12RjVy7G++5G03hAFpMUiLRxQPn1ZukotkdXowPOPApfB8fLT1IiJiijDcO4zJkTFYLQ44bC7YqesmA8rrU3JRv9NBssPttMHtssHlssLBcluoa4GT+t0kD82j5qUY63XQceF0llP0++bFFxFEojdCHPM86lbvBFXC4qjie/VGPB5QhbikshudvVNUKTPBNGuF00llS5k+FpWxeROoidJ7Cr25VwiDxA2PqsuefJ+c5vF39eJxOqllAgrMz80TDM06cO5+AbYciEBCUTcMdGDc4Nb5KQ0lmlev4HRfpl51+qI3R6stL6jytbi88ZtyXMnr6xtCYVE5mlu7MDQyod62tdsdZDzYCOrMIJlJFR8ovbdVoffb08tLcs/5MGp04HxEHtbvu4u00g6qBPubsGCTyY2B+2Msideh9c+P45OW/8TjCZJ2Mlq0jYHl9PH7lUszsqSFyobolUmr1Om7zyN9eqHGr4D0eSlkXntZ4rISKKcupxc9PcOoqm5CU0sPxqfMsLM3ofm4cuePB7Rt6oqgVu40adOfrDfTELL0O25+hzyDgpcnucj4DZvtOB+ehy8P3SVD2AYjZT4OmG5aRpNHS4MVIh2RSPSSFShvXPGz2+xUY57ErImCIvW7nBQEtZN94IThN4Qk3bKi0OL4Nmyw43R4Lj47eB+Z1T2q7TNy4GQGKf7xlbXg46FXUHocH1838YlTk4vyhUj0vNLnpVB57dXIBytVek2zZsyaLbQdbvCnHFWljrbDH/+4nP7/2/vO6CqOrFu/799bM2+9+fzGM9+MI9gYgzHGJhkQWSSRDSbnnHMwGJtgwIDJYJIRGUQyGZFzzoicgwDlnBDYnv3OPvf2pXXVIkowHlWttVff7q7UXadO7XOqqq9A4j8PGST+uISQ4IsgnO49CVZaG0gI7wghnCKEsM+ohUIIL3gI4QNJk6WE0Ckvt2WusN93ipuZdTF4tWBb2tuTnd0uC1Yc+/mrhnedvc+d4CZx+vtx8RnHuk/IuUX8HgoZdBHAtNdd58+uELMjHhHCXeg4chE2H72mX29weQjd79PeHg55PC3sg5zT/ayEVa59QDfIGljv2X58HnBd3AP263TXH+FxhC0rYK+Hk5xZeNL9p4GVh1Wu/Zr1m158S/+9aP9MRwjTrZX7TwUVnRdSRTEGxycLIdyJPqOFEO4VQigDzn1RjKmS5oEbFFLHPJ8EhzI9eNr7GeX3pPQGrwaPaxendrRfd5MbBYmPdxweU23XMhtWPZ4F3mmdzq3f7meziEaaOFY8OSrps6cTUHl5zu3vyRu2NAbOeCD67U50MiYF7EKnHxYh8MgVJD/8HQ91/abE8Xr3mYHn1qGZAJZt8PLgImmPh9Uu3kf7ffs1e56pDx4qHhHCrIVVl8dB4z5Fv7GImNM9wirvgTwff9PrxyM9hLzG56YH36PvnqLMx8EQQhuynBBakIZ7kJKK1MQUPExOxcOU+2mFgvW5/0BJAAfK3+XItTe6AcZS0jb8xvscUJlGBMSTh8Grh9VO8psW3O8y0HLaMw0BYkfmYns56nrX3/lZJbkv5w/lempCsmsjVKrEoTwwHysOy6BCyCxiaNXpecE60lJ1y/MDke2H/D9ZUWTp4srz6TuxnoXXpA58xlRJl5KY5In3QPK4z3WC9vQW+P4yglN8gzRwIoRJD7KOELoGtF+RxOl+Tn1J+zvG03IfyYcFLqBPlrQazy03qVw3Kr+ZNwdJez7eYByDrIFFypSYafvxt4u4cNqTYLz70l5WGqtdkpKT9Zz/LsS2TJb+fl/amnlZ7ebJW+SC56nSxy1CSDy6n3Ww6usE1lvlmbLorvfjkEb3OcAqTwmhOz8+n+eZZey3ZkkUT1Hm45COEFIJZAvwBXuBxO92XJIoxu1CCOdjzZ7ziJEB+b4MZqmSRlm5G455Pi3YiNzhTCUmjWCRAM991kcGVpJFz6YYuU9SqErPiicdhkTQ9Sf+rngqXOwQXs9m8IrAduLuSums+t+67r8PUqUhbW/F425abUu5p5B42tZy7wGNBpEZlRW2s8ApD4/svAgs2XoW2NPJb34SxVM36T8Z5Ut5jY2KwYlDR3D96lXX9/XcCu6B9A8XmXQrO+blkIfCncYRTvEN0iBV9FtwdJKuIew4YhE2Hr6MxFQhXhy0Ged55eIxYN4k+dysx39eSaPXBGxvnRpzy7pd3pk2hXLFb6zJNcIVz6X/7Pk4wa7HDTIXJDApou8SxJhL5Rgm19hmLp3g+itJwt6fSXZ03JJrbEuX/vtd87svefC+de8RmAdl1BWHeEQKsxZWve2g/iZ5ZT1YPxJWF4lzBp83JSUFZ8+dw7nz5+WduchvshztYB/hs7NcfTZ3ntazEmn0nfv+8yIdIWQFsgUoaHbItRRRjLdiE0UxbkWv0XOxevdZxNCTJ4rHUmCZAiozaTyGkOA7mD19Jn5ZtlwGftenHeg9tDrM8cPHMGr4SAzs2x9L5i9EXGSUEkPe44B65eIlTJkwCb2798SU8RNx47IMrHKd99M9o8HLh7S3aDhcOn8BU6WdunfpimHfDsb+XXsfecAIIfHnTgVh9Pcj0LNLd/w8bQaCb9xUxackS+LEC3nauGY9Bn09EMO+G4JdW3cgJUHykLQe2XKqw7PAyudZ4E5Hj/Z9qc/ieQswbdIUhN4LUeWeUb4MRw4eQoPadfGz9AGGdPWQ3ySE9Kpyrcx9t5JMA+lPGcI7rkE63Bf9FhxFvbcDnYQQBh68jAR+uoveGcbJoP1eBJR5hsNHjmDs+PG4cOGCS1bc9xlCQkIwZ+489OrVG+MnTJTB87wSDtV9MugmJiVh567dGDx4CPr06YuApcsQExOrce4LKbGXZwd1uUEWwu3BTUyix+83RMiYFbB0KXr36YO+/fojIGCpXqMMkECxPRl37br1+OabQegncVavWYuEhATVfyRBcsCBgwcx9Pth6Cw6dO68+YiUPERkNA/KqmNdsgBOMkVQJvfu249vvxuM3Xv2ppFnb/BeWFg4evTsha8HDkRMbJx+SN9FKh+BcXnUz0RxTPfKh6Sb0HMerd/PiexLCAnrBbpfIgnhzTgqxi1CCOdg9Z4ziOU0rSjMdGmfF6KoOHCmJKVgz7ad+KpWHfy//34ddarXRHJsgmfzABXa2pWrULxQUdSuVgMtGjXBF58XwoDefREjxEBsKASdPI1aVaujbIlSaNW4OYoVKoJGX9XHhaBzqlDTPJ/BKwGVxLXLV9ClfSf4liqLBnXr4eNcHyFfrjxYu+IXbSeGg7v3orZfdVSr6IfmDRujSIGCaN6oKe7cClblERMVjZFDv0dZn1IqC9Ur+6HoZwWxeO4C3WlLi1Ply6EOjrDFJeH0XBNQ8XgrH+9rei4KXQ0XOb9Pciv5pCQn48eRP2Bgn/4IvnVbn03j03KVfqQDuhsM27ZsRYnCRTF+zDg9t7zbmkbicJr4TNAZzPGfi61btnmMoTRkz5sE2mHFMcgQjyWEIheeAScTYMlRSEgoJk+ZgnyffIL/+5e/KPFj4D3K+7lz59C0WXOU8CmJ1m3aomSp0vCrWg379h/Q+/dT72PBwkXwket1RedVr1ETnxb4DIOHDNGpaE6vOZVvkPWwiBO9gpGit8YJ4S9dpiwaNW6CypWr4O2338bXAwYiWsi7GrzSz8eOG49ChYugTt26qFnrS+T9OB9mzJyJJCH9DCtXrdY8yvn6yv3ayJP3Y/QUQ4Gkinm4PITPDo/nz+saZwT1t/2a+5ygnFrGvMq0XGPYLPqsXfsO2BC4Sc+d4tKbyHBPDOZ69RugYaPGiJL3xKB5Cax09HyvWr0GCxYsRGhoqMTgvxS57qcD++kL9tV0hJDsPttASFfq/fsuyHmyNNgNIWUTF29Gz1H+WLUnCHH02j0UofBO+wIQjYbjR46hY+t2aNeqDcqXKYcyMtBHh4vV9EAGShHwW9duoHI5X1St5IdDYhlduXwZ40aNQZ4PP8KKpct1zVnfHr1RQdKu/uUX3Lh2HUtEaHLn/ADfDRiEZOlIJAn6jFbZ+rwGLxNUAreu38SG1Wuxc/sOXL1yBQGLluD993KgwVf1kBifgDAZHNu2aAXf0uXUY3b92jVMnTwFH72fC5PGTVBFsWXjJnyaNx9GD/8Bly9dUpmo92UdVBIZuXjughoZD2wy5lSXNGAcke1/6ZpGMUCEeHEKIzmBH3YWi5zeuCT2DTGI5FzMV5FNVz+gQtJBWaz6VBl8GVxKSvKUfO7eDEbwjVtISkhyTWOIrDI/nT5mfnJMSUzWdDu2bUe5kqUxbepPep4YG++ql+RPBcXjgX0HUFMG/CGDh2gcvlPPMxD04mcEK45BhkgR/XY7MgGTFm9H5+ELsfHgJcSnCLmXtnSKn0aGnhGUE2LhwoVo2bIVmgvpe/eddzBx0mRdX0adRSLRt29/JQU//zwbN2/exNKly4Q85kcrIYcMx0+cUILQsFEj9S6eDgpCj549kevD3Ni6dZunHKc6GGQ9XF6tX4X0xWDHzl3YtHmLjGFXsP/AAW23d959T9rwlPTv33Hs+AkleAO/GaTTp2zPevXqCUEsihMnjiMqOhplRc/VqfsVjhw5ikui/wYO/AYf5/vEY0iQrFletadFohivXLfI6Vqr3pzuJkG1DGxeo1wyqN6Rc95joBeU6Rk4g8M6hAhBvXjpshJVSwbp3aM3m/2JgeSSgQSveYuWSgrj4uL0mhWs6eJk0ckdOnbCV/Xq48aNG3qPnlESZat+mYnsTQjFyky9L4NaarIKSJI0qosQBqLH6NlCCE8hXq3NzH3xXB9458ZtHBPhPnXiJDq16wBfIXYRYRHqHaRnY92qNcj3UR4sFivYCrdv3ETxosUwQJTlzSvX4VOsBAZ/863mycB8G9QVa7lKVZw5FaTr0FwWvq18S5kbvDQkCzFKTRLi9C9tJkRHRqOibwX4FC+BaLEMt2zajM/zF8DI4SNdESTclLauUqES6og1HB4ajm9FARYpWEjJpRVILN958y3sFFLF/J+JEArobQtcvxFjRo7GhfMXVNFFhIVh9oxZmDx+EhLjEnRZwp07d3QKeFlAgMrUfSlr/rz5aC0ktlH9hujXpx9uSr30nii9tWLNL5y3QIhumHpIb4qxQjltJIqvScPGaN6kGXp164Fjh49i/559qOxbEb179sIUIQWVyldAj67dcFL6BcNlMYRaNm+Jv/71DSEO76JF8xb4RQygB9InCX1WJyJowf5ODBxBQniLhHDRdnQZvgCBBy4IIeR6ppQ0A6hT2mcFBzHi8OHDOClEYMeOHfjs088wduw4ac9f1QC4QT3nU1I9hCyXgR6gtu3bo5j0mbv3QuA/Zy7e/yAX1qxdq/cZ6D38KE9efCeGAwd2awA3eHXgEg8SJSuQHI0Y+YN6hXft3qNxRv4wStvtyNFj7ljQdn3zrbexfPkKbBX9RuNg+gzXshKG06eDUPSLYuo9Jmki8bLL6pPA9anRQjQnieH90/TpSsioq7gs4bvBQ9XTlyxkj9coV2N+HKtlMgSdOYNvBn2nRK5Rk6aanh5v6s8DYtBPFF158tRpTRsXH4+Fi5egicgyPYFNmzVD0+bNsXT5ciWEbdu1h2+Fipglhk8LMZC+kjwXiLFEAsm+MObHH/G3v/8P/vLfr6NS5cqYIobzrdvBOoNIQprZpDAdIWQDZh8IEUxJlKOwdzlPFKG6EROPCUs2ovvoWVi5+yTik/iXTCJE6dI+PzjFx+k1BgpFy2YtXIRQBn4OwPEiRD+OGoMPc36AowcPu6bQJE1MdIx6E+lV3LRho5LD2bNmK+mj8mPo07M3Spcsjb179ioB4cCfpnwZsA1eEtzvXNuA58kuC/GEDISf5suPOrXrqCKbP28e8gr5XzB/gd6nIggXC7NTh44oV7ocLl28hCaiTEgO4+PiPdbrti3bkPO9HOox5lStTt0+QzszzJntj084PeNew3f61CkULVwEn36SH2dOn9Zr27ZuQwE5nzFthlqm/qK8SsmAPWzIMEwcPwHlxOJvLETvlgzkVCodO3RA5YqVtN6sZy+RyRrVqmPMqNFo17ot/vr6X1H/q/q4LkTx4P79KFyoMHLmyIm+vfpgsCjawkJ8a9esjTvBd3D37l1Nn+O9nPhC5H3kiJHYuXOnh9Tqs8h7zRDW+zDIEMmi325FiCG8cDs6fz8fG/efF0OY3pIU1Yv0bDilexFQThgOyGCbR2R/8uTJutmAYbcQBRLCUaPH6Lk1HTd8xAjkz/8p9uzbrySiwGefIygoyOOxOS9GDaeWmzRtJnIq/YEkwaFsg5cHtjN1AOWInjGu8WzZqjVyfvABrly5qnHatG2L6jVq4eq1a9qObLdTQqhIEkmAxomOKV22HDZt3qz3SbSCRTdw6rh+gwbqMeP4p7L6lLAIYdt27ZRYUnaY7zwxdN944w1dpxgREaHlcd2jT6lSOHjoMILFOCYJ9ataHZOmTMWAb77BF8WKKbFkmDFzFj4RGV0lRjE3xsybPx/FSvhg6LDhGDxkKN5+5x3kFnnfsDEQ4ZI/SeDrr7+O2rW/VEOmchU/fe5169erI2rhosX4WPRzzvc/UINoY2AgYuJi5RlSdWkE36/3O38RpCOEnDbKPhAimBwvxwSxMpKRIIJ7IyYOkwIC0W3UTKzcdRxxultKhMgx/XNCGjJFFBYXyt+6dQutm7eEb9nyCL8nVsbD39RaGSNWVP48+XDu9BklhFSKJANVq1TVdWjTp/ykhHDx/IXqGWSnY+jXpy9KFiuBPaJUGdKU+STY62iQabA6Gzsvyd63g74VgpPDQwCniDL5XAa3FWIN8z4HuChRcr179UaZ0mVx5PARIViV0ahBIyVkVH5s70NijX6UOw9mzZiFxMREMQy4hk/KzKgteT3pEagAT5w4iaJFv0DTxk3VGNkUuBlvv/k23vzHm1i4YKFOhUyeNBmfipKjF5EDcAXfiujRvYdnUA9YshT//Mc/EbA4QBeCt27dBhUlDqd2Lly4KITzE0yaOEnjkgQWE7nlszHs2b0beUUBVpLnu3Lpiq4hHD7se+R6P5e+DwYaN1Uq+WHggEFKAJPkWTkdbX+WDOH0HgzSIEn0263weExauA0dh87Fhn1nEZckRFF0ok6LZcF7pPxSjvfu3SeEMC8mTpzoIXaBmzajiMgkiQCDJWfDh4/QaeN16zfo4OpTshSuiTxxpyXDhYsXUd63Aho0auTqD1KGU9kGLx9sQ07F7pG+/Nbb76Bj587Sj5NUn9WrV1+ng6/duK76j+3GaWOuHx07bgL69f8aZcuVx/YdO7SdKTehIWH4sk5d1BKjOjQsTEkkPYVPC3ot6YWbOWsW3n33Paxdt0F0dKpuaPnff/qTyJEvrl+/jgSRI65b5NQup7+nTJ2KIkIgV/7iWv/92+//Uk+2T8nSMpbfxpIlAfi8YEElhCSU9ApyipzPzjWTXPdYXAgip5R5n8YLyd6y5ct1Yw03zvC8d99+uq6QxhjJaYOGjXBSjHWaTBxL4qkDJf59eRan9/28SEcI6SbNPkhEclKcHOOFbSchXoT2SngsJgsh7DpqBlbsOIbYBHoQRYgc0z8npCE5jcjp4Vs3b3oIYZgQQi445ac4Jowdh/x58+H44aPqCSHpi4+PQ63qNdGoXgPMmTUbhQp8jtkzZmr9UsXKZ+jVo6duPNgvipYhTZlPgr2OBpmGRJEhKj+GlctX6tRnl05d1BPMMH3adBQtUlSUzEo3IaTCC0WXzl1RXhThsaPHUJvWcN36ahRQ+VHBHjxwEB/myi3pZ2he/FRLcqKUSTi1Kc/lHslUckKyylVK8n20a9MeZUqVEVm8Df/Zc1CoUCGUK1MOfXr30fK6demGhg0aqmGyKXAT3vznW6grynj48OEYMWIkuko933rzLfUgqtUtFnTdL+vi2tVrOH/ugk4Jdu/WXZ/p8KEjQi4LeNYDbt++A8WL+2Dsj65NJQyrV69Wb+D06dP1nB7VWjVr44eRo1yeAFGSrJfnWR8H+/MbOCIlNQXB4WIIL9yKDkPnYP3eM4gVEkidyEEnMQveIwcfDvw7tu3A+zk/ULLHgY5hkxBCem1+FB3IwDXedB4OFUOhYOHC2LJtm/7mwHrp8mVwOpn9hoSQG0+ayQBNQsg+4lS2QdaDMxaEnktbk+xfvnwFVaR9SPROnz6t1+j8INmpVLkKzkv70Ujl0hfeLyw6cey4ceqF4+/1GzaqPFD/hYaGoUbNWoLaiIiMVFnier6nBetEj+WpoDPInfsjDBc9FnznLho3boKGgs8LFhICulPXLH4u+pBLFBg4xfs/Yvx26twFY8b8qF5seqU/L1gYx0VPcYr7i2LFsWLlSvVctmjVGgULFVY5vXnrlhJALnuIE/0VJkSWHkI+B/UmA9dL0tBp36GjTkMzdOvRA/VF/16U98PA90oyy7+xo3GcooZb5iAdISRjzz7gC42TY7y84ETEi+K5HilkbPF6tB08Hku2HESMvHQqL+f0LwZ+rJeEsK1uLCmLe8F3dF1UfGwcpk6a4l4ftkM9O/wUDTcfkDh26dgZ2zZvRYFPPtUpO+alhPB3EVjmVboMjh45omu6OPirJfYkeNXNIPNArxkDyU+BTwugnhA7XXPHUU7CXP+5yC9tOW+ea4E0CeFtsTbbtWmHmjVqqeesRbMW6iWk4rA8H7t37UbuXB9hyeIlMgAKyUsUOY2XMu1tbq8Lz3nPBobJEyejZImSupP3u2+/Q1exSIcOGSYkrBY2y+Bc1a+qELaxqqx/WfkL3vjrG0r6vpdBeeCAgRj83WCM+mEUTp44pQq+tSjBOkIIuYg8MjxSvdr5xLhp3aI1alSrodPLB/Yf1LK5AcC3XAX1klqBhLBIoaKY4PYQHRSr2be8L74Z+I32hfhY6a/xLi/hE2F/fgNH0DNx457ovflb0OE7f6zbcwYxlCXRiZSrhCx4jxx8SNh2bt8pRs2HukaLnxdhn2A/4Y5TegG5wYTxOJ08ZOgwJYqHRLeN/vFHnTI+dvy43mc4f+68epI6de6shJAE06lsg6yHyo0iUdsuJCQMTUWHffxJft1gQjJI445esKbNW6gX7cKlS9r+auweOowPRC7okRstspFf9OaaNa71oiSEnLqtWq26braIiY3VtiZJelqwjtyJzmnbpkLS6KHkZ28qVKyE5StWomKlKpgwabISPsoUPdnczdyqdRvduNRVDFySyP79B+gGF+54545qbnIpWKgIli5bJmUkY5gYOlwLWferekr+ypQthwkTJ+k6xnv37qFlq1b6DCS41K8hciRh5kaSeyGuz3ZxippxuPOecfQdS//huEI5T1bDLXNgCKGQQR4pJHEiVFfDYzB+wSq0HDgKCwL3IDoLCKEqqxSXNRwdFaUelqpV/DzrCinwmwM34+9v/A3Tf5ruIQ5HDx3V9V6zps/A9avXda1VV7FU4oRAMoTevYfSPqV04T7XX3FtoePASWJgh0MdDTIPnAblWil63Ro3aqyeMnsI3BCIjz7Mg04dOrmvAGeDzmp8rp/jxpMBonhy5MiBs2fP6n0q1CliNOTJnQdHDh/VwZRKmLKVIRFiW3vJAqeJd+3chVpCPOmNbCbKcemSpQgM3KQkkQSufPny2LNnjyrQlaIsc7ybA7NmzlIPIz2TJGn0dtODyPNWLVrprmBuCOFu6JIlS6K3PAcJ3rSfpuHa1ataLsP27dtRUhTgGPd6MYZVv6xCESEEEydM1PODBw+hRHEf9TIyUK6dnsURTu/BIA3iEpNxJTgKY2dvRJsBM7F25xnEJrqmpRLkvsqVV5oXBXUcw+mTp1Hws4L4eba/njNcEfkgQeCAzw1NDBy46UniGqtI0ZlceE/CwDVWViDR4GA9ecpULSOrDHmDx4M6KD5BZIdkRca5O3fu6rQvPWnWOkArxIq+4Nq5Dz7IhV1i4Fph6rTprrV2GzZi9Zo1eC9HTkx0Lzth2CZ6I3+Bz/TzNfT00eNnJ3xPAuvGDR/UV1w3SAOkQYOGSry4saRnr15KEkuU8FFv3dWr15TY9urdB8VFL/I7gwzR0TFqoFthtv8c3R29UgxnXQ7Wti38qlXTXfRc97pV6k2iSGJH2eZUNMsJCQ3Va/dkbCjh4+MhhCyThJBeRHoZGUh+aVA5vfsXRTYnhJyHdxFCnsfKwHY9LBbz127HoEn+2LD/JGKFhWf2yycZDL4djC2BWzBzxiyUKV0GuUS5LVm0RIlggpBQ3q9cqTLyCQGcJ1YHB2JOw3HwPBMUpINiz+498O677+r0GwfWDu07qLXNtWkccDlVmRAnz8aBkZ4jb++RBYc6GmQOaO2ePnVap2T//Of/gwFfD8BasXTniOJYsmSJrqnjWpK2rdvqtCtJ0xpRgB3adcBnovACNwbit99/040duWWwa9akme6ynSqWM2WD3ryICE6ZpD4qN6N2tbe5G9yJSy9ep06d8Nprr6FMmTK6VvCiWOsVK1TSa5we5ppGTtWeOXMWjWRg5salRWIVc9qaz7M0YCnuiUFCq7Vpk6YoK/mcP39ed5NywPerzDWAA9WrOPvn2fptQSq7rVu36nPQM2mF5cuW65pKrl1kYH38qlTFxx9/jBUrVuDkyZOuPmk9h50AesP7HRikQ4IMULdCY/Hzst0YMmU1dh+/IYZwigzWCW4vD+M4p30esO3Oihxx+QHlgR7n5i24e3yV/nMDDY+hw4bhzbffkQG4LzYL0evbt59O43FgZeBnZ0qI8Vu0WHHtD/7+/kIWqygou1k1YBo8GdQBJFuc7SKp4Xq4P/35zzrtuWz5Cm2rmbN+FgK4S4hjgu4u5mahqlWrCsFfhMWiFzmt2kLIEj85FBkZKaSqOgoKaWNafpevsp8figkxo+eOxgVnJli2E/nzBuWZ5XJNH4nkiZOndN3e//qv/1KCGSUGxzLRQVxbSP03VYxYpqERvmbtOvUANhYdR1J6QPQfvxHI6WzWg4SQ61yXLF2qer1Lt274KE8edOvWQz+lNH7CBGzZskXrSkLINYbVq9fQj7ArIbwXonLeRkjg3Xv3VEf2lzHjH/98C0OHDtWdzjdv3kJsbGyad55ZSEcIye6zF+IFcSLEiaIEExEcHo1j569j++HTOHv9DuJEcDhP75z2+cBvs50+cVo9Qr7lfFHsi2IokL8AqlSuomvLbkmDs3G4i7SGCAsX6FcoX0HvL1u6TNdP0SqhUm0pnYbek+r05EheI74fgbtikdFbQ2JJJMZJufJsJIgKhzoZZA3YToGBgert43SxXxU/lC9bHj7SZg3rN8QWGewYDh06jAb1G8BHLNJKFSuhZo0a6k2jMqQnjgqAXrkKvhVQrmw5lC1dVuOTWHHwcyr7qSDywM1NJGl58+bVzR7Mj1M5XNeVSyz3sWPGqjwxPu/R29m4YROVywbyDNwtTWLK72RRbjmF3KZVG50yPnPmjJJheh/7ycDQrWs3rT/rTqJ87Ngx1BernM/Gj63TG75582Z5N42weOFiVcIko1yfmF8UbbWq1TBvzrxHAwCfgbKdEezPauCIeBns7kbGYt/J6wjcf0H0XhgiYhMRI8ZknLxDgh4Vp7TPCrYZZYjGBD3JZcuURb58n6CcyEfFipXV48dPk3DHab9+X6O09BvKDpcMDBr0rRoHHHhjpf0XL16CSmI0+4oc+kq/aNK4iS434AY8lmNNqRm8JHBsEVmJF7nhbmI6LThL8OWXdfChGLN+ftWkvaqIjiup4Ppjki96vBYvDtB2phxUER3ZvFkL3eBmzX7xywJcR+zjUxIVpc2rVa2uaVxLGhJVHhzr5AD1XrrB9NwM0lX0EjfX/bJylXoN+dmvikKOfHx8sG/ffp3ipdxSH0+ZMlU31tWsWQt1636lH9vmNeppejQbCcnjLmLqLZJAej/bt++I7t176LsoK/pvtZBaThnzn1n4TzxcT8ixgusG27RuiyGDh6qBzT0FLJ+bpQoKURw5chT27d2vX6F4Ib2fAdIRQr6M7IVYBRd5RonwhQghDI2MQ1h0vBxjdOBxTvf8oLKiB3D9uvW6k3ONCMe6tS4vy4b1G1QoGEc71KXLqjz9Z/vr5gKSwSQRZObz668P9bMcXNc1Y8ZM6TS7EBkRqZsHGM9CXKyAv73qYZD1YCcjUdqxfYd6vgICAtTjS7D9qTCpEDl4Xbx4SePQe3jgwAEl8+z0cTFxukGC+W3fth2zZs1Sw+DqlasiJ661JN7lPjVELrgblxtANm7ciPNnz6tio6LkhhAOsJTBhEQpI8H1PKwvPZuLZfCePmOGrmHkjmf2FcbjtzUPC8HlVPcoUWCFRJHtc29yohVMr9Df//Z3/WQSPdgHDuzXBeeWvNIrwJ3FV65c0QGB320MuRuiHiWWdfzYcVW2nmcQ+c4Q9mc1SAd6cmIEd8KicP1eJK7ejcDt8ChESDtECaIFsWwXW5oXBeWVuozeXvaHddIP1q1dh7nSJ45J27LNSfo46HHg5PpSfm6DchElAzLz4HQw8zl65Kj2JX64mstoKHPe5Rm8JFBOCOl3MdEyrsrv0JAQ1VkrVqzUvrt4EbFYx7R9+/bpmmjqOJIhets4fbt8+XLdZcz2pyHMfLixKOh0kBiu/rrxjTogQcrkOBkr5FPHNzu86+YEiUfdyu+l6kezhXiF3AvR65Qt1pvXuCPYSkP9x/vUd3PnzFEiSDmmLqaO5jQxdTeXBTF9iWIl9FNZGv4F9WhyIyAJb1hoKE6dPKUyHBMTo3mTIB87elw30lHHqb4VWT906JB6R7nhinqRS820LvbnyQSkI4RU6tkLFCYiTq0M/qegCy5FmD7+i0OFXEgdt7nrf26K8iM4VcK/iWLDMA7XJ3DA5zeTqCA5SHN6kLuqeJ/ramLdypOLr7nbjkKiZWg5aeFdD4OXA7YJ24heNi4X4G8SI/W6iRzQ6uQ3JjnI0SNGcKqZAyMJvuYjiovnlAGm54JsKlKmoyx4l/ksYHoqVubLT41oflIWDQurnDRp5B7js558Dq6RZBymo2fA+mAq1xYOGzoMOd/LKRZ4VzV8SDA57U1P59bNW10fs5ZnjZX+FnI3FBHhEZo3n59HKkV+sJ3kOM1ziwL11IfvJiPY622QDtQT0dKeYVExuBsRjQjKnBD/SLlO0EimPnRK+yLggEsZoQxp3xDwnH2Ff81JosC+wT5CrzHvUx6oG5nekjUuGWAellwwX++yDF4yKC/SPmwjkjWrnV1w/QsIwc+5WWMdv6DBPm+1JXUhiRfHrZgoyUcIJnWn9TeKjMu01H80GHlfy2WffxZ5lfhqOEpZlJ+oiCjVLZQ/lsHxWWVNyrHnS1mk3qP+4lHlVurAI+vOJVvbtm7HF0W+QN26dRGwJADr16/H998P1/XRY8aM0TJUT/JZ3XLNo26Q4ThulSfvxhobWCfes+JnNgwhfAVQJSwdJTxcyJ2QOio2OzSOCCGthSgO+HLO3ySDvM8/BqfQ0nJxkUJJJ8ITLcKtHcgNJYKal+23A7zrZ5C5YFtpe0q70eqlIlDrlO0k7UtCaCk1ejg0nSgBXuO0AeMzLpUrQVmw8uZv5m2dPzMkX7uiI1iGh3BZ923xYkXOaKxYipL1JmnjQK7nbiLG++fOntO1g5wO4sYVrj9s1qyZejj53BzAWR5lO5LkV8pgOo+CZx1Urh/zjCwvIzjFN/CA/Z+EMEqOkSJzPJIUKjHkdUFWEEI1gtwyxn5BvUZZ1r7xFIOdS/ZcpMPpvsErBOWFkP6nOov92YLqFjo7olXXebcf7/O6i+gJVKdIOkLu2eNqfHeeHl1hle0VL0O460nSSf0Tdi9M5ZKfjOHRksuY2EcGqOpsjsVyTFce9TafS9JxXaD/z/74svaXqPNlHd1Q+FXdevpNVn5Ym3Wn7LMveL8Heir1PXDskLyoW52eP7ORjhC6XoJB1sJF6jgIUhCc47gGXBJC67fC/du6xi33/GAmwbgWrGtWXta5E6w4BlkDdnpLAfJI5WaRJ95nR9e2pnIQI8GTVuJQ8ajysV2z2p+w/34usA7ueli/WU9rwNZrrKutviSDrkHcRWZ5JNHVOKI4rXT09lkeG64XXLt2rU6jcJqc9eY9S/nHxslz2MriYGCV5zlmBKt+TnCKb+AB+3+UG5GCCEG4vO8wAY8RAksHZSbsckujWAdRufZM8mzJmsG/J9x9kIathRjp11FypAFJ/eCdhnIQITrQpfdEHwpICq20T9QFzwPm6YaSL7lml8N0Milyp9e85c+dh+pPqTf1G2dZuByHmz75CS+u+ebMCR001J38W1JOL6fJR8BlYySiOnbw2W119I6bmUhHCHXgMkiDSBuc7j876Plzup4e/LaR03U7GIf58WhBz21xeJ4R7HkZZB20c7M9pYNzasJDFHnP7R3R++440RGue1kKW3kko1TE6e6zLoT7GjeceMdzKe5H5xrffU5FQ68Pp1l0KkQIIq95nplgXKss+2/r/uNg1c8JTvENPGD/j3AjXBAmCJX3ZiFMEJHF79HTLwiH+wZ/UEh7qp6zQXUa5ekJba2EUPWRK40n7b+xjLjIm0uvs96WfqO+o96zpnq90znBld7rOs+f4t29CNIRQmWlBmnA715ZcLqflXiaMu3188aT7hPe+RlkEdzKQsEOz6NTPMKK43QvM2Grk0UIHeN5w7tumV1Xq15O97zBsjOCU3wDD9j/IwThgjA3QuW9WwgXcDYjS/UE20nKcLxn8MeGd3+04BTXDqc0/+4ywvrZ4RTnacHndbqexUhHCOm+NzAwyGJEOlzzxtPEeVGEPwKnLzj16xjPG951exl1zQicfsoITvEN0oFrkcMc4BQ30/EqZccga8G2dYJTXDueJ81/El7R86YjhOHhMigYGBhkD3Bjkhv8/EJYaJhzvH9nkMhmBKf4BukQJgh1gFNcAwOD/0ykI4T8QKKBgYGBQfZCqAOc4hkYGPxnIh0hDA0NhYGBgYGBgYGBQfZBOkLIv1MxMDAwMDAwMDDIPkhHCPlXaAYGBgYGBgYGBtkHvr6+6Ny5s/49qhLC4OBgGBgYGBgYGBgYZB+UKVMG7du3x4wZM3D48GG8xj9nNjAwMDAwMDAwyD4oVqwYWrdujZ9++gmHDh3Cazdu3ICBgYGBgYGBgUH2QdGiRdG8eXNMnjwZBw4cwGvXr1+HgYGBgYGBgYFB9kHJkiXRrl07TJ8+3TVlzD9kvnr1KjZt2oQRI0agYcOGKFWqFIoUKYLixYvrHDN3olSsWNHAwMDAwMDAwOAPiMqVK6NKlSrw8/PTY506ddC/f38sXLgQJ0+exGvJycm4c+cODh48iLlz52LQoEG6yLBly5Zo06YNOnbsqNuSu3btamBgYGBgYGBg8AdE9+7dFT179tQjyeDUqVMRGBiIS5cu4bXU1FT9k+PLly9j586dCAgI0B0njDRt2jTMnDkTs2fPNjAwMDAwMDAw+IPC398fc+bMUecfjwsWLFAyeOLECf0u4Wu//vor6CWMjIzUOeWgoCD9Hg3nk48cOYJjx47h+PHjBgYGBgYGBgYGf1CQ+Nlx6tQpdQaSDCYkJOD/A/IcJLuSUf6uAAAAAElFTkSuQmCC)"
      ],
      "metadata": {
        "id": "Si39tpjwRsxT"
      }
    },
    {
      "cell_type": "code",
      "source": [
        "from sklearn.linear_model import LinearRegression"
      ],
      "metadata": {
        "id": "Pw2Twwb_TLV2"
      },
      "execution_count": 138,
      "outputs": []
    },
    {
      "cell_type": "code",
      "source": [
        "# 샘플 데이터 생성\n",
        "df = pd.DataFrame({'height': [160, 180, 170, 150, 175, 165, 185, 155, 140, 190],\n",
        "                   'weight': [48, 75, 73, 45, 75, 55, 78, 53, 40, 85]})"
      ],
      "metadata": {
        "id": "5r8x1hQqR3tf"
      },
      "execution_count": 139,
      "outputs": []
    },
    {
      "cell_type": "code",
      "source": [
        "# 시각화\n",
        "df.plot.scatter(x='weight', y='height',figsize=(15,5))"
      ],
      "metadata": {
        "colab": {
          "base_uri": "https://localhost:8080/",
          "height": 259
        },
        "id": "231N4x2fR4eS",
        "outputId": "ee7596d8-5cd8-410d-89c0-efdb09ebfba2"
      },
      "execution_count": 140,
      "outputs": [
        {
          "output_type": "execute_result",
          "data": {
            "text/plain": [
              "<matplotlib.axes._subplots.AxesSubplot at 0x7f3c6f4b9510>"
            ]
          },
          "metadata": {},
          "execution_count": 140
        },
        {
          "output_type": "display_data",
          "data": {
            "text/plain": [
              "<Figure size 1080x360 with 1 Axes>"
            ],
            "image/png": "[encoded data removed]"
          },
          "metadata": {
            "needs_background": "light"
          }
        }
      ]
    },
    {
      "cell_type": "code",
      "source": [
        "lr_model = LinearRegression()\n",
        "# lr_model.fit(df['weight'], df['height'])\n",
        "# LinearRRegression()의 X값은 array 값으로 입력"
      ],
      "metadata": {
        "colab": {
          "base_uri": "https://localhost:8080/",
          "height": 555
        },
        "id": "ieQz4A_CSFow",
        "outputId": "03b573a2-8d18-4eb1-9298-dfaa3800e66e"
      },
      "execution_count": 142,
      "outputs": [
        {
          "output_type": "error",
          "ename": "ValueError",
          "evalue": "ignored",
          "traceback": [
            "\u001b[0;31m---------------------------------------------------------------------------\u001b[0m",
            "\u001b[0;31mValueError\u001b[0m                                Traceback (most recent call last)",
            "\u001b[0;32m<ipython-input-142-11117b8b3ce4>\u001b[0m in \u001b[0;36m<module>\u001b[0;34m\u001b[0m\n\u001b[1;32m      1\u001b[0m \u001b[0mlr_model\u001b[0m \u001b[0;34m=\u001b[0m \u001b[0mLinearRegression\u001b[0m\u001b[0;34m(\u001b[0m\u001b[0;34m)\u001b[0m\u001b[0;34m\u001b[0m\u001b[0;34m\u001b[0m\u001b[0m\n\u001b[0;32m----> 2\u001b[0;31m \u001b[0mlr_model\u001b[0m\u001b[0;34m.\u001b[0m\u001b[0mfit\u001b[0m\u001b[0;34m(\u001b[0m\u001b[0mdf\u001b[0m\u001b[0;34m[\u001b[0m\u001b[0;34m'weight'\u001b[0m\u001b[0;34m]\u001b[0m\u001b[0;34m,\u001b[0m \u001b[0mdf\u001b[0m\u001b[0;34m[\u001b[0m\u001b[0;34m'height'\u001b[0m\u001b[0;34m]\u001b[0m\u001b[0;34m)\u001b[0m\u001b[0;34m\u001b[0m\u001b[0;34m\u001b[0m\u001b[0m\n\u001b[0m\u001b[1;32m      3\u001b[0m \u001b[0;31m# LinearRRegression()의 X값은 array 값으로 입력\u001b[0m\u001b[0;34m\u001b[0m\u001b[0;34m\u001b[0m\u001b[0;34m\u001b[0m\u001b[0m\n",
            "\u001b[0;32m/usr/local/lib/python3.7/dist-packages/sklearn/linear_model/_base.py\u001b[0m in \u001b[0;36mfit\u001b[0;34m(self, X, y, sample_weight)\u001b[0m\n\u001b[1;32m    661\u001b[0m \u001b[0;34m\u001b[0m\u001b[0m\n\u001b[1;32m    662\u001b[0m         X, y = self._validate_data(\n\u001b[0;32m--> 663\u001b[0;31m             \u001b[0mX\u001b[0m\u001b[0;34m,\u001b[0m \u001b[0my\u001b[0m\u001b[0;34m,\u001b[0m \u001b[0maccept_sparse\u001b[0m\u001b[0;34m=\u001b[0m\u001b[0maccept_sparse\u001b[0m\u001b[0;34m,\u001b[0m \u001b[0my_numeric\u001b[0m\u001b[0;34m=\u001b[0m\u001b[0;32mTrue\u001b[0m\u001b[0;34m,\u001b[0m \u001b[0mmulti_output\u001b[0m\u001b[0;34m=\u001b[0m\u001b[0;32mTrue\u001b[0m\u001b[0;34m\u001b[0m\u001b[0;34m\u001b[0m\u001b[0m\n\u001b[0m\u001b[1;32m    664\u001b[0m         )\n\u001b[1;32m    665\u001b[0m \u001b[0;34m\u001b[0m\u001b[0m\n",
            "\u001b[0;32m/usr/local/lib/python3.7/dist-packages/sklearn/base.py\u001b[0m in \u001b[0;36m_validate_data\u001b[0;34m(self, X, y, reset, validate_separately, **check_params)\u001b[0m\n\u001b[1;32m    579\u001b[0m                 \u001b[0my\u001b[0m \u001b[0;34m=\u001b[0m \u001b[0mcheck_array\u001b[0m\u001b[0;34m(\u001b[0m\u001b[0my\u001b[0m\u001b[0;34m,\u001b[0m \u001b[0;34m**\u001b[0m\u001b[0mcheck_y_params\u001b[0m\u001b[0;34m)\u001b[0m\u001b[0;34m\u001b[0m\u001b[0;34m\u001b[0m\u001b[0m\n\u001b[1;32m    580\u001b[0m             \u001b[0;32melse\u001b[0m\u001b[0;34m:\u001b[0m\u001b[0;34m\u001b[0m\u001b[0;34m\u001b[0m\u001b[0m\n\u001b[0;32m--> 581\u001b[0;31m                 \u001b[0mX\u001b[0m\u001b[0;34m,\u001b[0m \u001b[0my\u001b[0m \u001b[0;34m=\u001b[0m \u001b[0mcheck_X_y\u001b[0m\u001b[0;34m(\u001b[0m\u001b[0mX\u001b[0m\u001b[0;34m,\u001b[0m \u001b[0my\u001b[0m\u001b[0;34m,\u001b[0m \u001b[0;34m**\u001b[0m\u001b[0mcheck_params\u001b[0m\u001b[0;34m)\u001b[0m\u001b[0;34m\u001b[0m\u001b[0;34m\u001b[0m\u001b[0m\n\u001b[0m\u001b[1;32m    582\u001b[0m             \u001b[0mout\u001b[0m \u001b[0;34m=\u001b[0m \u001b[0mX\u001b[0m\u001b[0;34m,\u001b[0m \u001b[0my\u001b[0m\u001b[0;34m\u001b[0m\u001b[0;34m\u001b[0m\u001b[0m\n\u001b[1;32m    583\u001b[0m \u001b[0;34m\u001b[0m\u001b[0m\n",
            "\u001b[0;32m/usr/local/lib/python3.7/dist-packages/sklearn/utils/validation.py\u001b[0m in \u001b[0;36mcheck_X_y\u001b[0;34m(X, y, accept_sparse, accept_large_sparse, dtype, order, copy, force_all_finite, ensure_2d, allow_nd, multi_output, ensure_min_samples, ensure_min_features, y_numeric, estimator)\u001b[0m\n\u001b[1;32m    974\u001b[0m         \u001b[0mensure_min_samples\u001b[0m\u001b[0;34m=\u001b[0m\u001b[0mensure_min_samples\u001b[0m\u001b[0;34m,\u001b[0m\u001b[0;34m\u001b[0m\u001b[0;34m\u001b[0m\u001b[0m\n\u001b[1;32m    975\u001b[0m         \u001b[0mensure_min_features\u001b[0m\u001b[0;34m=\u001b[0m\u001b[0mensure_min_features\u001b[0m\u001b[0;34m,\u001b[0m\u001b[0;34m\u001b[0m\u001b[0;34m\u001b[0m\u001b[0m\n\u001b[0;32m--> 976\u001b[0;31m         \u001b[0mestimator\u001b[0m\u001b[0;34m=\u001b[0m\u001b[0mestimator\u001b[0m\u001b[0;34m,\u001b[0m\u001b[0;34m\u001b[0m\u001b[0;34m\u001b[0m\u001b[0m\n\u001b[0m\u001b[1;32m    977\u001b[0m     )\n\u001b[1;32m    978\u001b[0m \u001b[0;34m\u001b[0m\u001b[0m\n",
            "\u001b[0;32m/usr/local/lib/python3.7/dist-packages/sklearn/utils/validation.py\u001b[0m in \u001b[0;36mcheck_array\u001b[0;34m(array, accept_sparse, accept_large_sparse, dtype, order, copy, force_all_finite, ensure_2d, allow_nd, ensure_min_samples, ensure_min_features, estimator)\u001b[0m\n\u001b[1;32m    771\u001b[0m                     \u001b[0;34m\"Reshape your data either using array.reshape(-1, 1) if \"\u001b[0m\u001b[0;34m\u001b[0m\u001b[0;34m\u001b[0m\u001b[0m\n\u001b[1;32m    772\u001b[0m                     \u001b[0;34m\"your data has a single feature or array.reshape(1, -1) \"\u001b[0m\u001b[0;34m\u001b[0m\u001b[0;34m\u001b[0m\u001b[0m\n\u001b[0;32m--> 773\u001b[0;31m                     \u001b[0;34m\"if it contains a single sample.\"\u001b[0m\u001b[0;34m.\u001b[0m\u001b[0mformat\u001b[0m\u001b[0;34m(\u001b[0m\u001b[0marray\u001b[0m\u001b[0;34m)\u001b[0m\u001b[0;34m\u001b[0m\u001b[0;34m\u001b[0m\u001b[0m\n\u001b[0m\u001b[1;32m    774\u001b[0m                 )\n\u001b[1;32m    775\u001b[0m \u001b[0;34m\u001b[0m\u001b[0m\n",
            "\u001b[0;31mValueError\u001b[0m: Expected 2D array, got 1D array instead:\narray=[48 75 73 45 75 55 78 53 40 85].\nReshape your data either using array.reshape(-1, 1) if your data has a single feature or array.reshape(1, -1) if it contains a single sample."
          ]
        }
      ]
    },
    {
      "cell_type": "code",
      "source": [
        "df['weight'] # series 형태 "
      ],
      "metadata": {
        "colab": {
          "base_uri": "https://localhost:8080/"
        },
        "id": "zTrO_-Q-SQ2m",
        "outputId": "e32d4e82-0951-4fdf-c04d-4e623c526255"
      },
      "execution_count": 143,
      "outputs": [
        {
          "output_type": "execute_result",
          "data": {
            "text/plain": [
              "0    48\n",
              "1    75\n",
              "2    73\n",
              "3    45\n",
              "4    75\n",
              "5    55\n",
              "6    78\n",
              "7    53\n",
              "8    40\n",
              "9    85\n",
              "Name: weight, dtype: int64"
            ]
          },
          "metadata": {},
          "execution_count": 143
        }
      ]
    },
    {
      "cell_type": "code",
      "source": [
        "df['weight'].values.reshape(-1,1)\n",
        "# 2차 배열 변경"
      ],
      "metadata": {
        "colab": {
          "base_uri": "https://localhost:8080/"
        },
        "id": "mArVNNO7VKPI",
        "outputId": "322c3c0e-45f3-46fd-862d-3bf11c8bc391"
      },
      "execution_count": 145,
      "outputs": [
        {
          "output_type": "execute_result",
          "data": {
            "text/plain": [
              "array([[48],\n",
              "       [75],\n",
              "       [73],\n",
              "       [45],\n",
              "       [75],\n",
              "       [55],\n",
              "       [78],\n",
              "       [53],\n",
              "       [40],\n",
              "       [85]])"
            ]
          },
          "metadata": {},
          "execution_count": 145
        }
      ]
    },
    {
      "cell_type": "code",
      "source": [
        "lr_model.fit(df['weight'].values.reshape(-1,1), df['height'])"
      ],
      "metadata": {
        "colab": {
          "base_uri": "https://localhost:8080/"
        },
        "id": "j-w_SIf6Vbm2",
        "outputId": "e82299be-414f-493f-ed81-4fad99665034"
      },
      "execution_count": 146,
      "outputs": [
        {
          "output_type": "execute_result",
          "data": {
            "text/plain": [
              "LinearRegression()"
            ]
          },
          "metadata": {},
          "execution_count": 146
        }
      ]
    },
    {
      "cell_type": "code",
      "source": [
        "# 기울기 (W)\n",
        "lr_model.coef_"
      ],
      "metadata": {
        "colab": {
          "base_uri": "https://localhost:8080/"
        },
        "id": "1OeLpIh2VsWy",
        "outputId": "b5f59d13-c0c8-4720-97d6-2d2ebc317490"
      },
      "execution_count": 148,
      "outputs": [
        {
          "output_type": "execute_result",
          "data": {
            "text/plain": [
              "array([0.95205509])"
            ]
          },
          "metadata": {},
          "execution_count": 148
        }
      ]
    },
    {
      "cell_type": "code",
      "source": [
        "# y절평 (b)\n",
        "lr_model.intercept_"
      ],
      "metadata": {
        "colab": {
          "base_uri": "https://localhost:8080/"
        },
        "id": "yHmFxFAhVyGX",
        "outputId": "0984d651-5589-41b3-b412-d40ad2215252"
      },
      "execution_count": 149,
      "outputs": [
        {
          "output_type": "execute_result",
          "data": {
            "text/plain": [
              "107.30614601599589"
            ]
          },
          "metadata": {},
          "execution_count": 149
        }
      ]
    },
    {
      "cell_type": "code",
      "source": [
        "x = np.linspace(40, 90, 50)\n",
        "y = lr_model.coef_[0]*x + lr_model.intercept_ # Y = W*X + b\n",
        "y"
      ],
      "metadata": {
        "colab": {
          "base_uri": "https://localhost:8080/"
        },
        "id": "Yond1ss6V774",
        "outputId": "c8b50b79-81e8-486e-fad3-8d69080f84bc"
      },
      "execution_count": 150,
      "outputs": [
        {
          "output_type": "execute_result",
          "data": {
            "text/plain": [
              "array([145.38834951, 146.3598343 , 147.33131908, 148.30280386,\n",
              "       149.27428865, 150.24577343, 151.21725821, 152.188743  ,\n",
              "       153.16022778, 154.13171256, 155.10319735, 156.07468213,\n",
              "       157.04616691, 158.0176517 , 158.98913648, 159.96062126,\n",
              "       160.93210604, 161.90359083, 162.87507561, 163.84656039,\n",
              "       164.81804518, 165.78952996, 166.76101474, 167.73249953,\n",
              "       168.70398431, 169.67546909, 170.64695388, 171.61843866,\n",
              "       172.58992344, 173.56140823, 174.53289301, 175.50437779,\n",
              "       176.47586257, 177.44734736, 178.41883214, 179.39031692,\n",
              "       180.36180171, 181.33328649, 182.30477127, 183.27625606,\n",
              "       184.24774084, 185.21922562, 186.19071041, 187.16219519,\n",
              "       188.13367997, 189.10516476, 190.07664954, 191.04813432,\n",
              "       192.0196191 , 192.99110389])"
            ]
          },
          "metadata": {},
          "execution_count": 150
        }
      ]
    },
    {
      "cell_type": "code",
      "source": [
        "# 선형 회귀 선 시각화\n",
        "df.plot.scatter(x='weight', y='height', figsize=(15,5))\n",
        "plt.plot(x,y, c='blue')\n",
        "plt.show()"
      ],
      "metadata": {
        "colab": {
          "base_uri": "https://localhost:8080/",
          "height": 241
        },
        "id": "dcBZpWZGWNRR",
        "outputId": "55cbb710-23a2-49f4-da4c-5f4cede13b8c"
      },
      "execution_count": 151,
      "outputs": [
        {
          "output_type": "display_data",
          "data": {
            "text/plain": [
              "<Figure size 1080x360 with 1 Axes>"
            ],
            "image/png": "[encoded data removed]"
          },
          "metadata": {
            "needs_background": "light"
          }
        }
      ]
    },
    {
      "cell_type": "markdown",
      "source": [
        "> ### 다중 선형 회귀(multi-Linear Regreesion)\n",
        "- 다중 선형 회귀랑 변수(X)가 여러개인 회귀 분석\n",
        "    - Y=W1X1 + W2X2 + W3X3 +...+ b\n",
        "- 대부분의 **실제 문제는 변수가 하나 이상** 이기 때문에, 다중 선형 회귀가 많이 활용된다.\n",
        "- 일반적으로 선형 회귀 분석에서는 자동적으로 함수를 찾아주기 때문에 **정규화/표준화 과정이** 필요 없다."
      ],
      "metadata": {
        "id": "HqvXc-xlW6SR"
      }
    },
    {
      "cell_type": "markdown",
      "source": [
        "> 실습 데이터 세트(캘리포니아 주택 가격 정보)\n",
        "> - [scikit-learn 제공 데이터 세트 목록](https://scikit-learn.org/stable/modules/classes.html?highlight=datasets#module-sklearn.datasets)"
      ],
      "metadata": {
        "id": "IT4-_qKVXdBx"
      }
    },
    {
      "cell_type": "code",
      "source": [
        "from sklearn.datasets import fetch_california_housing\n",
        "dataset = fetch_california_housing()\n",
        "cal_house_df = pd.DataFrame(dataset.data, columns=dataset.feature_names)\n",
        "cal_house_df['Price($)'] = dataset.target * 100000"
      ],
      "metadata": {
        "id": "-4vUMVEhWyyz"
      },
      "execution_count": 171,
      "outputs": []
    },
    {
      "cell_type": "code",
      "source": [
        "cal_house_df"
      ],
      "metadata": {
        "colab": {
          "base_uri": "https://localhost:8080/",
          "height": 483
        },
        "id": "t9zcA8EHYGf9",
        "outputId": "e5d9edde-594b-4b5f-8d8c-ccef2643bec3"
      },
      "execution_count": 174,
      "outputs": [
        {
          "output_type": "execute_result",
          "data": {
            "text/plain": [
              "       MedInc  HouseAge  AveRooms  AveBedrms  Population  AveOccup  Latitude  \\\n",
              "0      8.3252      41.0  6.984127   1.023810       322.0  2.555556     37.88   \n",
              "1      8.3014      21.0  6.238137   0.971880      2401.0  2.109842     37.86   \n",
              "2      7.2574      52.0  8.288136   1.073446       496.0  2.802260     37.85   \n",
              "3      5.6431      52.0  5.817352   1.073059       558.0  2.547945     37.85   \n",
              "4      3.8462      52.0  6.281853   1.081081       565.0  2.181467     37.85   \n",
              "...       ...       ...       ...        ...         ...       ...       ...   \n",
              "20635  1.5603      25.0  5.045455   1.133333       845.0  2.560606     39.48   \n",
              "20636  2.5568      18.0  6.114035   1.315789       356.0  3.122807     39.49   \n",
              "20637  1.7000      17.0  5.205543   1.120092      1007.0  2.325635     39.43   \n",
              "20638  1.8672      18.0  5.329513   1.171920       741.0  2.123209     39.43   \n",
              "20639  2.3886      16.0  5.254717   1.162264      1387.0  2.616981     39.37   \n",
              "\n",
              "       Longitude  Price($)  \n",
              "0        -122.23  452600.0  \n",
              "1        -122.22  358500.0  \n",
              "2        -122.24  352100.0  \n",
              "3        -122.25  341300.0  \n",
              "4        -122.25  342200.0  \n",
              "...          ...       ...  \n",
              "20635    -121.09   78100.0  \n",
              "20636    -121.21   77100.0  \n",
              "20637    -121.22   92300.0  \n",
              "20638    -121.32   84700.0  \n",
              "20639    -121.24   89400.0  \n",
              "\n",
              "[20640 rows x 9 columns]"
            ],
            "text/html": [
              "\n",
              "  <div id=\"df-c3fad097-0f1b-4cd7-a6b0-846d3271666e\">\n",
              "    <div class=\"colab-df-container\">\n",
              "      <div>\n",
              "<style scoped>\n",
              "    .dataframe tbody tr th:only-of-type {\n",
              "        vertical-align: middle;\n",
              "    }\n",
              "\n",
              "    .dataframe tbody tr th {\n",
              "        vertical-align: top;\n",
              "    }\n",
              "\n",
              "    .dataframe thead th {\n",
              "        text-align: right;\n",
              "    }\n",
              "</style>\n",
              "<table border=\"1\" class=\"dataframe\">\n",
              "  <thead>\n",
              "    <tr style=\"text-align: right;\">\n",
              "      <th></th>\n",
              "      <th>MedInc</th>\n",
              "      <th>HouseAge</th>\n",
              "      <th>AveRooms</th>\n",
              "      <th>AveBedrms</th>\n",
              "      <th>Population</th>\n",
              "      <th>AveOccup</th>\n",
              "      <th>Latitude</th>\n",
              "      <th>Longitude</th>\n",
              "      <th>Price($)</th>\n",
              "    </tr>\n",
              "  </thead>\n",
              "  <tbody>\n",
              "    <tr>\n",
              "      <th>0</th>\n",
              "      <td>8.3252</td>\n",
              "      <td>41.0</td>\n",
              "      <td>6.984127</td>\n",
              "      <td>1.023810</td>\n",
              "      <td>322.0</td>\n",
              "      <td>2.555556</td>\n",
              "      <td>37.88</td>\n",
              "      <td>-122.23</td>\n",
              "      <td>452600.0</td>\n",
              "    </tr>\n",
              "    <tr>\n",
              "      <th>1</th>\n",
              "      <td>8.3014</td>\n",
              "      <td>21.0</td>\n",
              "      <td>6.238137</td>\n",
              "      <td>0.971880</td>\n",
              "      <td>2401.0</td>\n",
              "      <td>2.109842</td>\n",
              "      <td>37.86</td>\n",
              "      <td>-122.22</td>\n",
              "      <td>358500.0</td>\n",
              "    </tr>\n",
              "    <tr>\n",
              "      <th>2</th>\n",
              "      <td>7.2574</td>\n",
              "      <td>52.0</td>\n",
              "      <td>8.288136</td>\n",
              "      <td>1.073446</td>\n",
              "      <td>496.0</td>\n",
              "      <td>2.802260</td>\n",
              "      <td>37.85</td>\n",
              "      <td>-122.24</td>\n",
              "      <td>352100.0</td>\n",
              "    </tr>\n",
              "    <tr>\n",
              "      <th>3</th>\n",
              "      <td>5.6431</td>\n",
              "      <td>52.0</td>\n",
              "      <td>5.817352</td>\n",
              "      <td>1.073059</td>\n",
              "      <td>558.0</td>\n",
              "      <td>2.547945</td>\n",
              "      <td>37.85</td>\n",
              "      <td>-122.25</td>\n",
              "      <td>341300.0</td>\n",
              "    </tr>\n",
              "    <tr>\n",
              "      <th>4</th>\n",
              "      <td>3.8462</td>\n",
              "      <td>52.0</td>\n",
              "      <td>6.281853</td>\n",
              "      <td>1.081081</td>\n",
              "      <td>565.0</td>\n",
              "      <td>2.181467</td>\n",
              "      <td>37.85</td>\n",
              "      <td>-122.25</td>\n",
              "      <td>342200.0</td>\n",
              "    </tr>\n",
              "    <tr>\n",
              "      <th>...</th>\n",
              "      <td>...</td>\n",
              "      <td>...</td>\n",
              "      <td>...</td>\n",
              "      <td>...</td>\n",
              "      <td>...</td>\n",
              "      <td>...</td>\n",
              "      <td>...</td>\n",
              "      <td>...</td>\n",
              "      <td>...</td>\n",
              "    </tr>\n",
              "    <tr>\n",
              "      <th>20635</th>\n",
              "      <td>1.5603</td>\n",
              "      <td>25.0</td>\n",
              "      <td>5.045455</td>\n",
              "      <td>1.133333</td>\n",
              "      <td>845.0</td>\n",
              "      <td>2.560606</td>\n",
              "      <td>39.48</td>\n",
              "      <td>-121.09</td>\n",
              "      <td>78100.0</td>\n",
              "    </tr>\n",
              "    <tr>\n",
              "      <th>20636</th>\n",
              "      <td>2.5568</td>\n",
              "      <td>18.0</td>\n",
              "      <td>6.114035</td>\n",
              "      <td>1.315789</td>\n",
              "      <td>356.0</td>\n",
              "      <td>3.122807</td>\n",
              "      <td>39.49</td>\n",
              "      <td>-121.21</td>\n",
              "      <td>77100.0</td>\n",
              "    </tr>\n",
              "    <tr>\n",
              "      <th>20637</th>\n",
              "      <td>1.7000</td>\n",
              "      <td>17.0</td>\n",
              "      <td>5.205543</td>\n",
              "      <td>1.120092</td>\n",
              "      <td>1007.0</td>\n",
              "      <td>2.325635</td>\n",
              "      <td>39.43</td>\n",
              "      <td>-121.22</td>\n",
              "      <td>92300.0</td>\n",
              "    </tr>\n",
              "    <tr>\n",
              "      <th>20638</th>\n",
              "      <td>1.8672</td>\n",
              "      <td>18.0</td>\n",
              "      <td>5.329513</td>\n",
              "      <td>1.171920</td>\n",
              "      <td>741.0</td>\n",
              "      <td>2.123209</td>\n",
              "      <td>39.43</td>\n",
              "      <td>-121.32</td>\n",
              "      <td>84700.0</td>\n",
              "    </tr>\n",
              "    <tr>\n",
              "      <th>20639</th>\n",
              "      <td>2.3886</td>\n",
              "      <td>16.0</td>\n",
              "      <td>5.254717</td>\n",
              "      <td>1.162264</td>\n",
              "      <td>1387.0</td>\n",
              "      <td>2.616981</td>\n",
              "      <td>39.37</td>\n",
              "      <td>-121.24</td>\n",
              "      <td>89400.0</td>\n",
              "    </tr>\n",
              "  </tbody>\n",
              "</table>\n",
              "<p>20640 rows × 9 columns</p>\n",
              "</div>\n",
              "      <button class=\"colab-df-convert\" onclick=\"convertToInteractive('df-c3fad097-0f1b-4cd7-a6b0-846d3271666e')\"\n",
              "              title=\"Convert this dataframe to an interactive table.\"\n",
              "              style=\"display:none;\">\n",
              "        \n",
              "  <svg xmlns=\"http://www.w3.org/2000/svg\" height=\"24px\"viewBox=\"0 0 24 24\"\n",
              "       width=\"24px\">\n",
              "    <path d=\"M0 0h24v24H0V0z\" fill=\"none\"/>\n",
              "    <path d=\"M18.56 5.44l.94 2.06.94-2.06 2.06-.94-2.06-.94-.94-2.06-.94 2.06-2.06.94zm-11 1L8.5 8.5l.94-2.06 2.06-.94-2.06-.94L8.5 2.5l-.94 2.06-2.06.94zm10 10l.94 2.06.94-2.06 2.06-.94-2.06-.94-.94-2.06-.94 2.06-2.06.94z\"/><path d=\"M17.41 7.96l-1.37-1.37c-.4-.4-.92-.59-1.43-.59-.52 0-1.04.2-1.43.59L10.3 9.45l-7.72 7.72c-.78.78-.78 2.05 0 2.83L4 21.41c.39.39.9.59 1.41.59.51 0 1.02-.2 1.41-.59l7.78-7.78 2.81-2.81c.8-.78.8-2.07 0-2.86zM5.41 20L4 18.59l7.72-7.72 1.47 1.35L5.41 20z\"/>\n",
              "  </svg>\n",
              "      </button>\n",
              "      \n",
              "  <style>\n",
              "    .colab-df-container {\n",
              "      display:flex;\n",
              "      flex-wrap:wrap;\n",
              "      gap: 12px;\n",
              "    }\n",
              "\n",
              "    .colab-df-convert {\n",
              "      background-color: #E8F0FE;\n",
              "      border: none;\n",
              "      border-radius: 50%;\n",
              "      cursor: pointer;\n",
              "      display: none;\n",
              "      fill: #1967D2;\n",
              "      height: 32px;\n",
              "      padding: 0 0 0 0;\n",
              "      width: 32px;\n",
              "    }\n",
              "\n",
              "    .colab-df-convert:hover {\n",
              "      background-color: #E2EBFA;\n",
              "      box-shadow: 0px 1px 2px rgba(60, 64, 67, 0.3), 0px 1px 3px 1px rgba(60, 64, 67, 0.15);\n",
              "      fill: #174EA6;\n",
              "    }\n",
              "\n",
              "    [theme=dark] .colab-df-convert {\n",
              "      background-color: #3B4455;\n",
              "      fill: #D2E3FC;\n",
              "    }\n",
              "\n",
              "    [theme=dark] .colab-df-convert:hover {\n",
              "      background-color: #434B5C;\n",
              "      box-shadow: 0px 1px 3px 1px rgba(0, 0, 0, 0.15);\n",
              "      filter: drop-shadow(0px 1px 2px rgba(0, 0, 0, 0.3));\n",
              "      fill: #FFFFFF;\n",
              "    }\n",
              "  </style>\n",
              "\n",
              "      <script>\n",
              "        const buttonEl =\n",
              "          document.querySelector('#df-c3fad097-0f1b-4cd7-a6b0-846d3271666e button.colab-df-convert');\n",
              "        buttonEl.style.display =\n",
              "          google.colab.kernel.accessAllowed ? 'block' : 'none';\n",
              "\n",
              "        async function convertToInteractive(key) {\n",
              "          const element = document.querySelector('#df-c3fad097-0f1b-4cd7-a6b0-846d3271666e');\n",
              "          const dataTable =\n",
              "            await google.colab.kernel.invokeFunction('convertToInteractive',\n",
              "                                                     [key], {});\n",
              "          if (!dataTable) return;\n",
              "\n",
              "          const docLinkHtml = 'Like what you see? Visit the ' +\n",
              "            '<a target=\"_blank\" href=https://colab.research.google.com/notebooks/data_table.ipynb>data table notebook</a>'\n",
              "            + ' to learn more about interactive tables.';\n",
              "          element.innerHTML = '';\n",
              "          dataTable['output_type'] = 'display_data';\n",
              "          await google.colab.output.renderOutput(dataTable, element);\n",
              "          const docLink = document.createElement('div');\n",
              "          docLink.innerHTML = docLinkHtml;\n",
              "          element.appendChild(docLink);\n",
              "        }\n",
              "      </script>\n",
              "    </div>\n",
              "  </div>\n",
              "  "
            ]
          },
          "metadata": {},
          "execution_count": 174
        }
      ]
    },
    {
      "cell_type": "code",
      "source": [
        "from sklearn.model_selection import train_test_split\n",
        "\n",
        "X = cal_house_df.drop('Price($)', axis=1)\n",
        "Y = cal_house_df['Price($)']\n",
        "\n",
        "X_train, X_test, Y_train, Y_test = train_test_split(X, Y, test_size=0.01, shuffle=True)"
      ],
      "metadata": {
        "id": "jZBzAUY7auNI"
      },
      "execution_count": 176,
      "outputs": []
    },
    {
      "cell_type": "code",
      "source": [
        "X_train"
      ],
      "metadata": {
        "colab": {
          "base_uri": "https://localhost:8080/",
          "height": 483
        },
        "id": "A6Bddm3Abjk6",
        "outputId": "75ca9f2f-a55d-4d4b-a6b3-30a63307f630"
      },
      "execution_count": 179,
      "outputs": [
        {
          "output_type": "execute_result",
          "data": {
            "text/plain": [
              "       MedInc  HouseAge  AveRooms  AveBedrms  Population  AveOccup  Latitude  \\\n",
              "5757   6.8840      50.0  7.103560   1.087379       878.0  2.841424     34.18   \n",
              "7004   3.6000      36.0  4.240713   1.022288      2816.0  4.184250     33.97   \n",
              "19999  1.8827      20.0  5.427184   1.053398      1405.0  3.410194     36.06   \n",
              "17828  5.8721      16.0  6.410188   0.989276      1419.0  3.804290     37.40   \n",
              "191    2.2542      43.0  4.554622   1.053221      1284.0  3.596639     37.79   \n",
              "...       ...       ...       ...        ...         ...       ...       ...   \n",
              "18700  3.0549       7.0  5.196352   1.064378      2223.0  2.385193     40.58   \n",
              "893    4.6641      29.0  6.011966   1.102564      1724.0  2.947009     37.54   \n",
              "14728  3.6500      29.0  4.987854   0.983806       665.0  2.692308     32.80   \n",
              "16831  5.1282      35.0  5.543388   0.981405      1498.0  3.095041     37.59   \n",
              "18887  3.0507      52.0  4.427646   1.062635      1277.0  2.758099     38.11   \n",
              "\n",
              "       Longitude  \n",
              "5757     -118.28  \n",
              "7004     -118.05  \n",
              "19999    -119.31  \n",
              "17828    -121.86  \n",
              "191      -122.24  \n",
              "...          ...  \n",
              "18700    -122.34  \n",
              "893      -121.95  \n",
              "14728    -117.02  \n",
              "16831    -122.49  \n",
              "18887    -122.24  \n",
              "\n",
              "[20433 rows x 8 columns]"
            ],
            "text/html": [
              "\n",
              "  <div id=\"df-44448a11-7737-40ba-bcff-e72ebbde82c0\">\n",
              "    <div class=\"colab-df-container\">\n",
              "      <div>\n",
              "<style scoped>\n",
              "    .dataframe tbody tr th:only-of-type {\n",
              "        vertical-align: middle;\n",
              "    }\n",
              "\n",
              "    .dataframe tbody tr th {\n",
              "        vertical-align: top;\n",
              "    }\n",
              "\n",
              "    .dataframe thead th {\n",
              "        text-align: right;\n",
              "    }\n",
              "</style>\n",
              "<table border=\"1\" class=\"dataframe\">\n",
              "  <thead>\n",
              "    <tr style=\"text-align: right;\">\n",
              "      <th></th>\n",
              "      <th>MedInc</th>\n",
              "      <th>HouseAge</th>\n",
              "      <th>AveRooms</th>\n",
              "      <th>AveBedrms</th>\n",
              "      <th>Population</th>\n",
              "      <th>AveOccup</th>\n",
              "      <th>Latitude</th>\n",
              "      <th>Longitude</th>\n",
              "    </tr>\n",
              "  </thead>\n",
              "  <tbody>\n",
              "    <tr>\n",
              "      <th>5757</th>\n",
              "      <td>6.8840</td>\n",
              "      <td>50.0</td>\n",
              "      <td>7.103560</td>\n",
              "      <td>1.087379</td>\n",
              "      <td>878.0</td>\n",
              "      <td>2.841424</td>\n",
              "      <td>34.18</td>\n",
              "      <td>-118.28</td>\n",
              "    </tr>\n",
              "    <tr>\n",
              "      <th>7004</th>\n",
              "      <td>3.6000</td>\n",
              "      <td>36.0</td>\n",
              "      <td>4.240713</td>\n",
              "      <td>1.022288</td>\n",
              "      <td>2816.0</td>\n",
              "      <td>4.184250</td>\n",
              "      <td>33.97</td>\n",
              "      <td>-118.05</td>\n",
              "    </tr>\n",
              "    <tr>\n",
              "      <th>19999</th>\n",
              "      <td>1.8827</td>\n",
              "      <td>20.0</td>\n",
              "      <td>5.427184</td>\n",
              "      <td>1.053398</td>\n",
              "      <td>1405.0</td>\n",
              "      <td>3.410194</td>\n",
              "      <td>36.06</td>\n",
              "      <td>-119.31</td>\n",
              "    </tr>\n",
              "    <tr>\n",
              "      <th>17828</th>\n",
              "      <td>5.8721</td>\n",
              "      <td>16.0</td>\n",
              "      <td>6.410188</td>\n",
              "      <td>0.989276</td>\n",
              "      <td>1419.0</td>\n",
              "      <td>3.804290</td>\n",
              "      <td>37.40</td>\n",
              "      <td>-121.86</td>\n",
              "    </tr>\n",
              "    <tr>\n",
              "      <th>191</th>\n",
              "      <td>2.2542</td>\n",
              "      <td>43.0</td>\n",
              "      <td>4.554622</td>\n",
              "      <td>1.053221</td>\n",
              "      <td>1284.0</td>\n",
              "      <td>3.596639</td>\n",
              "      <td>37.79</td>\n",
              "      <td>-122.24</td>\n",
              "    </tr>\n",
              "    <tr>\n",
              "      <th>...</th>\n",
              "      <td>...</td>\n",
              "      <td>...</td>\n",
              "      <td>...</td>\n",
              "      <td>...</td>\n",
              "      <td>...</td>\n",
              "      <td>...</td>\n",
              "      <td>...</td>\n",
              "      <td>...</td>\n",
              "    </tr>\n",
              "    <tr>\n",
              "      <th>18700</th>\n",
              "      <td>3.0549</td>\n",
              "      <td>7.0</td>\n",
              "      <td>5.196352</td>\n",
              "      <td>1.064378</td>\n",
              "      <td>2223.0</td>\n",
              "      <td>2.385193</td>\n",
              "      <td>40.58</td>\n",
              "      <td>-122.34</td>\n",
              "    </tr>\n",
              "    <tr>\n",
              "      <th>893</th>\n",
              "      <td>4.6641</td>\n",
              "      <td>29.0</td>\n",
              "      <td>6.011966</td>\n",
              "      <td>1.102564</td>\n",
              "      <td>1724.0</td>\n",
              "      <td>2.947009</td>\n",
              "      <td>37.54</td>\n",
              "      <td>-121.95</td>\n",
              "    </tr>\n",
              "    <tr>\n",
              "      <th>14728</th>\n",
              "      <td>3.6500</td>\n",
              "      <td>29.0</td>\n",
              "      <td>4.987854</td>\n",
              "      <td>0.983806</td>\n",
              "      <td>665.0</td>\n",
              "      <td>2.692308</td>\n",
              "      <td>32.80</td>\n",
              "      <td>-117.02</td>\n",
              "    </tr>\n",
              "    <tr>\n",
              "      <th>16831</th>\n",
              "      <td>5.1282</td>\n",
              "      <td>35.0</td>\n",
              "      <td>5.543388</td>\n",
              "      <td>0.981405</td>\n",
              "      <td>1498.0</td>\n",
              "      <td>3.095041</td>\n",
              "      <td>37.59</td>\n",
              "      <td>-122.49</td>\n",
              "    </tr>\n",
              "    <tr>\n",
              "      <th>18887</th>\n",
              "      <td>3.0507</td>\n",
              "      <td>52.0</td>\n",
              "      <td>4.427646</td>\n",
              "      <td>1.062635</td>\n",
              "      <td>1277.0</td>\n",
              "      <td>2.758099</td>\n",
              "      <td>38.11</td>\n",
              "      <td>-122.24</td>\n",
              "    </tr>\n",
              "  </tbody>\n",
              "</table>\n",
              "<p>20433 rows × 8 columns</p>\n",
              "</div>\n",
              "      <button class=\"colab-df-convert\" onclick=\"convertToInteractive('df-44448a11-7737-40ba-bcff-e72ebbde82c0')\"\n",
              "              title=\"Convert this dataframe to an interactive table.\"\n",
              "              style=\"display:none;\">\n",
              "        \n",
              "  <svg xmlns=\"http://www.w3.org/2000/svg\" height=\"24px\"viewBox=\"0 0 24 24\"\n",
              "       width=\"24px\">\n",
              "    <path d=\"M0 0h24v24H0V0z\" fill=\"none\"/>\n",
              "    <path d=\"M18.56 5.44l.94 2.06.94-2.06 2.06-.94-2.06-.94-.94-2.06-.94 2.06-2.06.94zm-11 1L8.5 8.5l.94-2.06 2.06-.94-2.06-.94L8.5 2.5l-.94 2.06-2.06.94zm10 10l.94 2.06.94-2.06 2.06-.94-2.06-.94-.94-2.06-.94 2.06-2.06.94z\"/><path d=\"M17.41 7.96l-1.37-1.37c-.4-.4-.92-.59-1.43-.59-.52 0-1.04.2-1.43.59L10.3 9.45l-7.72 7.72c-.78.78-.78 2.05 0 2.83L4 21.41c.39.39.9.59 1.41.59.51 0 1.02-.2 1.41-.59l7.78-7.78 2.81-2.81c.8-.78.8-2.07 0-2.86zM5.41 20L4 18.59l7.72-7.72 1.47 1.35L5.41 20z\"/>\n",
              "  </svg>\n",
              "      </button>\n",
              "      \n",
              "  <style>\n",
              "    .colab-df-container {\n",
              "      display:flex;\n",
              "      flex-wrap:wrap;\n",
              "      gap: 12px;\n",
              "    }\n",
              "\n",
              "    .colab-df-convert {\n",
              "      background-color: #E8F0FE;\n",
              "      border: none;\n",
              "      border-radius: 50%;\n",
              "      cursor: pointer;\n",
              "      display: none;\n",
              "      fill: #1967D2;\n",
              "      height: 32px;\n",
              "      padding: 0 0 0 0;\n",
              "      width: 32px;\n",
              "    }\n",
              "\n",
              "    .colab-df-convert:hover {\n",
              "      background-color: #E2EBFA;\n",
              "      box-shadow: 0px 1px 2px rgba(60, 64, 67, 0.3), 0px 1px 3px 1px rgba(60, 64, 67, 0.15);\n",
              "      fill: #174EA6;\n",
              "    }\n",
              "\n",
              "    [theme=dark] .colab-df-convert {\n",
              "      background-color: #3B4455;\n",
              "      fill: #D2E3FC;\n",
              "    }\n",
              "\n",
              "    [theme=dark] .colab-df-convert:hover {\n",
              "      background-color: #434B5C;\n",
              "      box-shadow: 0px 1px 3px 1px rgba(0, 0, 0, 0.15);\n",
              "      filter: drop-shadow(0px 1px 2px rgba(0, 0, 0, 0.3));\n",
              "      fill: #FFFFFF;\n",
              "    }\n",
              "  </style>\n",
              "\n",
              "      <script>\n",
              "        const buttonEl =\n",
              "          document.querySelector('#df-44448a11-7737-40ba-bcff-e72ebbde82c0 button.colab-df-convert');\n",
              "        buttonEl.style.display =\n",
              "          google.colab.kernel.accessAllowed ? 'block' : 'none';\n",
              "\n",
              "        async function convertToInteractive(key) {\n",
              "          const element = document.querySelector('#df-44448a11-7737-40ba-bcff-e72ebbde82c0');\n",
              "          const dataTable =\n",
              "            await google.colab.kernel.invokeFunction('convertToInteractive',\n",
              "                                                     [key], {});\n",
              "          if (!dataTable) return;\n",
              "\n",
              "          const docLinkHtml = 'Like what you see? Visit the ' +\n",
              "            '<a target=\"_blank\" href=https://colab.research.google.com/notebooks/data_table.ipynb>data table notebook</a>'\n",
              "            + ' to learn more about interactive tables.';\n",
              "          element.innerHTML = '';\n",
              "          dataTable['output_type'] = 'display_data';\n",
              "          await google.colab.output.renderOutput(dataTable, element);\n",
              "          const docLink = document.createElement('div');\n",
              "          docLink.innerHTML = docLinkHtml;\n",
              "          element.appendChild(docLink);\n",
              "        }\n",
              "      </script>\n",
              "    </div>\n",
              "  </div>\n",
              "  "
            ]
          },
          "metadata": {},
          "execution_count": 179
        }
      ]
    },
    {
      "cell_type": "code",
      "source": [
        "Y_train"
      ],
      "metadata": {
        "colab": {
          "base_uri": "https://localhost:8080/"
        },
        "id": "BL3IHJ17b0xz",
        "outputId": "236d6510-a6ee-4358-8741-2897132f91ad"
      },
      "execution_count": 180,
      "outputs": [
        {
          "output_type": "execute_result",
          "data": {
            "text/plain": [
              "5757     365600.0\n",
              "7004     154000.0\n",
              "19999     48700.0\n",
              "17828    267800.0\n",
              "191      112200.0\n",
              "           ...   \n",
              "18700    101700.0\n",
              "893      248900.0\n",
              "14728    168900.0\n",
              "16831    262500.0\n",
              "18887    107300.0\n",
              "Name: Price($), Length: 20433, dtype: float64"
            ]
          },
          "metadata": {},
          "execution_count": 180
        }
      ]
    },
    {
      "cell_type": "code",
      "source": [
        "# 다중선형 회귀 모델 정의/학습\n",
        "mlr_model = LinearRegression()\n",
        "mlr_model.fit(X_train, Y_train)"
      ],
      "metadata": {
        "colab": {
          "base_uri": "https://localhost:8080/"
        },
        "id": "66iG5pCgb5Cz",
        "outputId": "c6382d3f-a365-4dbf-c29e-126ae0e37b28"
      },
      "execution_count": 181,
      "outputs": [
        {
          "output_type": "execute_result",
          "data": {
            "text/plain": [
              "LinearRegression()"
            ]
          },
          "metadata": {},
          "execution_count": 181
        }
      ]
    },
    {
      "cell_type": "code",
      "source": [
        "predictions = mlr_model.predict(X_test)\n",
        "predictions"
      ],
      "metadata": {
        "colab": {
          "base_uri": "https://localhost:8080/"
        },
        "id": "9G18fbsYcD7m",
        "outputId": "7f0346ef-427d-460d-c906-c55be148b25e"
      },
      "execution_count": 182,
      "outputs": [
        {
          "output_type": "execute_result",
          "data": {
            "text/plain": [
              "array([150734.07476641, 129169.36143862, 202669.09947838, 313344.81251049,\n",
              "       127419.74945012, 168194.92095937, 179583.04278578, 174801.92656312,\n",
              "       211279.49453417, 191594.78842072, 180272.73150089, 205659.68820641,\n",
              "       309900.21849937,  51379.18446132, 209141.8189201 , 140447.68512308,\n",
              "        10014.95141903, 145383.49675723, 139974.05410099, 223712.4329094 ,\n",
              "       116192.39547826, 141119.88132433, 314110.69089918, 140274.80857998,\n",
              "       140550.73271164, 190150.45773177, 139411.12318655, 163127.90865663,\n",
              "       147910.98389444, 352201.35762353, 144343.22791989, 239765.13624456,\n",
              "        94672.33172836, 116208.50515692, 267834.99043005, 102993.37197807,\n",
              "       282134.99657762, 227845.67940831, 187926.82211977, 174493.5235646 ,\n",
              "       180830.18627517, 227218.83651747, 231861.25187411, 166894.5896283 ,\n",
              "       240751.56542993, 302883.3043961 ,  88680.47724925, 530689.12764306,\n",
              "       172274.00461294, 130003.20460912, 189627.89786923, 173055.00498943,\n",
              "       146624.764496  , 172666.02800725, 197541.11165607, 220887.70949861,\n",
              "       209011.73857382, 167423.85363433, 211102.70417975, 286148.29044582,\n",
              "        71874.53062011,  61680.17102623, 201045.37836514, 261908.79006959,\n",
              "       120886.55137718, 229955.54944959, 317350.08661839, 332553.75397435,\n",
              "       228230.34982819,  77889.36168781, 121644.30829601, 190433.98404028,\n",
              "       164292.75864647, 193846.81757793, 298046.06404527, 189403.79086608,\n",
              "       267259.76062038, 292622.25306429, 255856.47012714, 329509.02685887,\n",
              "       211396.79228676, 187146.58463161, 383615.28084743, 238027.0435135 ,\n",
              "        92016.71449509, -55218.58706855, 135136.65786721, 162471.92373645,\n",
              "       236375.47740208, 219199.24850264, 249879.5078871 , 233353.71220028,\n",
              "       260923.40985137, 266104.78029794,  67428.43858086, 190478.23561905,\n",
              "       149304.82926794, 402169.84782142, 211428.26509472, 185802.65513247,\n",
              "       227038.40676768, 244826.09953476,  81440.32201246, 275741.85635313,\n",
              "       714667.35226477,  97590.62738778, 202529.7689021 , 430647.82421862,\n",
              "       173095.59857039, 141534.66325256, 299648.46315485, 355152.96310676,\n",
              "        88518.21035194, 221659.73831546, 217667.4673345 , 168306.23339147,\n",
              "       276961.64543746, 258340.104144  , 102022.92767343, 381925.83781609,\n",
              "       178022.61004096, 160104.84165209, 188852.11320044, 228927.434305  ,\n",
              "       186521.60266599, 240325.9874035 , 243794.42925735, 184776.72466859,\n",
              "       109234.24513317, 182565.50520519, 180540.05682091, 215194.90493188,\n",
              "       126008.08441123, 192349.64932894, 113200.42369079,  27486.61490103,\n",
              "       132470.40243141, 154339.62347833, 197263.69300684,  73042.92019488,\n",
              "       331586.6512518 , 261088.67936557, 105480.22880557,  94325.33403202,\n",
              "       485100.37078722, 193139.98286335, 497162.90976253, 205456.38615701,\n",
              "       149800.71543293, 183584.30638176, 479458.19123124, 227144.88237071,\n",
              "       171811.89713056, 193595.92509333, 141908.3992034 , 271668.30838202,\n",
              "       176186.38202416, 119078.16503301, 172399.03105712,  48528.75777044,\n",
              "       530233.29356088, 209357.2824816 , 218597.34264702, 209152.67707924,\n",
              "        87925.05929232, 224047.7033501 , 119063.06417694, 233553.93646577,\n",
              "       199854.01757871, 154507.58337155, 183740.70141002, 278678.19970796,\n",
              "       184883.5850894 , 185669.14985199, 112076.51242946,  91409.10542448,\n",
              "       281205.43295971, 186159.07216549, 227376.60626143, 182985.32362536,\n",
              "       182967.74549521,  99123.52939814,  82841.27917999, 235731.9296048 ,\n",
              "       262077.34749805, 408523.63725198, 192482.76801995, 232500.44062963,\n",
              "        91071.44378472, 203461.59360379, 244219.83484211, 145153.6273265 ,\n",
              "       246829.99332871, 284309.81244651, 164065.05993492, 185359.60896688,\n",
              "        63289.04174475, 309068.22289043, 128185.5362678 , 247587.36440735,\n",
              "        76870.08425613, 212936.30780719, 210490.69784218, 279106.76077914,\n",
              "       229914.05487189, 290401.57095759, 132233.88151945])"
            ]
          },
          "metadata": {},
          "execution_count": 182
        }
      ]
    },
    {
      "cell_type": "code",
      "source": [
        "# 예측 시각화\n",
        "Y_test = Y_test.reset_index(drop=True)\n",
        "\n",
        "plt.figure(figsize=(15,5))\n",
        "plt.plot(Y_test, label='Actual', color='red')\n",
        "plt.plot(predictions, label='Prediction', color='black')\n",
        "plt.legend(loc='upper right')\n",
        "plt.ylabel('Price($)')\n",
        "plt.show()"
      ],
      "metadata": {
        "colab": {
          "base_uri": "https://localhost:8080/",
          "height": 226
        },
        "id": "nZGg1NZVcIRA",
        "outputId": "75f32934-95f2-4605-a6ad-e0cc455a0818"
      },
      "execution_count": 185,
      "outputs": [
        {
          "output_type": "display_data",
          "data": {
            "text/plain": [
              "<Figure size 1080x360 with 1 Axes>"
            ],
            "image/png": "[encoded data removed]"
          },
          "metadata": {
            "needs_background": "light"
          }
        }
      ]
    },
    {
      "cell_type": "code",
      "source": [],
      "metadata": {
        "id": "mriiPzQWchp5"
      },
      "execution_count": null,
      "outputs": []
    }
  ]
}