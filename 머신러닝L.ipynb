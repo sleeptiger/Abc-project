{
  "nbformat": 4,
  "nbformat_minor": 0,
  "metadata": {
    "colab": {
      "provenance": [],
      "collapsed_sections": [],
      "authorship_tag": "ABX9TyNqKsx3BrhSRdikf9oevcOf",
      "include_colab_link": true
    },
    "kernelspec": {
      "name": "python3",
      "display_name": "Python 3"
    },
    "language_info": {
      "name": "python"
    }
  },
  "cells": [
    {
      "cell_type": "markdown",
      "metadata": {
        "id": "view-in-github",
        "colab_type": "text"
      },
      "source": [
        "<a href=\"https://colab.research.google.com/github/sleeptiger/Abc-project/blob/main/%EB%A8%B8%EC%8B%A0%EB%9F%AC%EB%8B%9DL.ipynb\" target=\"_parent\"><img src=\"https://colab.research.google.com/assets/colab-badge.svg\" alt=\"Open In Colab\"/></a>"
      ]
    },
    {
      "cell_type": "markdown",
      "source": [
        "# 머신러닝 기초"
      ],
      "metadata": {
        "id": "vRyk34T9OeJd"
      }
    },
    {
      "cell_type": "markdown",
      "source": [
        "## 머신러닝이란?"
      ],
      "metadata": {
        "id": "tX80P3i5Oh1S"
      }
    },
    {
      "cell_type": "markdown",
      "source": [
        "1. 묘사분석(어떤 일이 생겼는가?)\n",
        "2. 진단 분석(왜 이 일이 생겼는가?)\n",
        "3. 예측 분석(미래에 무슨일이 생길까?)\n",
        "4. 처방 분석(무엇을 행동해야하는가?)\n",
        "\n",
        "- 3번4번이 머신러닝을 활용하는 단계 분석"
      ],
      "metadata": {
        "id": "JNWbFON2OkWK"
      }
    },
    {
      "cell_type": "markdown",
      "source": [
        "- 머신러닝으로 할 수 있는 것들\n",
        "> - 분류, 예측 분석\n",
        "> - 이미지 인식\n",
        "> - 음성, 테스트 인식\n",
        "> - 추천 시스템\n"
      ],
      "metadata": {
        "id": "pdC8mQ2HPBmt"
      }
    },
    {
      "cell_type": "markdown",
      "source": [
        "## 전처리 기본(정규화, 표준화, 범주형 데이터, 학습/테스트 세트 분할)\n"
      ],
      "metadata": {
        "id": "mc7i_scQp5ai"
      }
    },
    {
      "cell_type": "markdown",
      "source": [
        "- 머신러닝의 가장 중요한 부분은 **데이터 전처리**입니다.\n",
        "- 데이터 분석가의 머신러닝 모델의 성능을 활성하기 위한 작업중 70%이상이 전처리 부분에 해당합니다.\n",
        "- 전처리 작업에는 **결측값 처리, 정규화, 표준화(수치형), 범주형 데이터의 수치형 변환, 학습/테스트 분할, Feature Engineering emd**이 있다."
      ],
      "metadata": {
        "id": "1OlKZKzFp_7j"
      }
    },
    {
      "cell_type": "code",
      "execution_count": 2,
      "metadata": {
        "id": "9tDVkfkTN7ky"
      },
      "outputs": [],
      "source": [
        "import matplotlib.pylab as plt\n",
        "import seaborn as sns\n",
        "import numpy as np\n",
        "import pandas as pd"
      ]
    },
    {
      "cell_type": "code",
      "source": [
        "penguins = sns.load_dataset('penguins')\n",
        "penguins.head()"
      ],
      "metadata": {
        "colab": {
          "base_uri": "https://localhost:8080/",
          "height": 268
        },
        "id": "gCU4WnlXqgjJ",
        "outputId": "cc6f137d-d0f8-4177-cf69-4ede015caf7d"
      },
      "execution_count": 3,
      "outputs": [
        {
          "output_type": "execute_result",
          "data": {
            "text/plain": [
              "  species     island  bill_length_mm  bill_depth_mm  flipper_length_mm  \\\n",
              "0  Adelie  Torgersen            39.1           18.7              181.0   \n",
              "1  Adelie  Torgersen            39.5           17.4              186.0   \n",
              "2  Adelie  Torgersen            40.3           18.0              195.0   \n",
              "3  Adelie  Torgersen             NaN            NaN                NaN   \n",
              "4  Adelie  Torgersen            36.7           19.3              193.0   \n",
              "\n",
              "   body_mass_g     sex  \n",
              "0       3750.0    Male  \n",
              "1       3800.0  Female  \n",
              "2       3250.0  Female  \n",
              "3          NaN     NaN  \n",
              "4       3450.0  Female  "
            ],
            "text/html": [
              "\n",
              "  <div id=\"df-d7ff6c3b-ebcd-4f08-b1a4-ff4e9ea33821\">\n",
              "    <div class=\"colab-df-container\">\n",
              "      <div>\n",
              "<style scoped>\n",
              "    .dataframe tbody tr th:only-of-type {\n",
              "        vertical-align: middle;\n",
              "    }\n",
              "\n",
              "    .dataframe tbody tr th {\n",
              "        vertical-align: top;\n",
              "    }\n",
              "\n",
              "    .dataframe thead th {\n",
              "        text-align: right;\n",
              "    }\n",
              "</style>\n",
              "<table border=\"1\" class=\"dataframe\">\n",
              "  <thead>\n",
              "    <tr style=\"text-align: right;\">\n",
              "      <th></th>\n",
              "      <th>species</th>\n",
              "      <th>island</th>\n",
              "      <th>bill_length_mm</th>\n",
              "      <th>bill_depth_mm</th>\n",
              "      <th>flipper_length_mm</th>\n",
              "      <th>body_mass_g</th>\n",
              "      <th>sex</th>\n",
              "    </tr>\n",
              "  </thead>\n",
              "  <tbody>\n",
              "    <tr>\n",
              "      <th>0</th>\n",
              "      <td>Adelie</td>\n",
              "      <td>Torgersen</td>\n",
              "      <td>39.1</td>\n",
              "      <td>18.7</td>\n",
              "      <td>181.0</td>\n",
              "      <td>3750.0</td>\n",
              "      <td>Male</td>\n",
              "    </tr>\n",
              "    <tr>\n",
              "      <th>1</th>\n",
              "      <td>Adelie</td>\n",
              "      <td>Torgersen</td>\n",
              "      <td>39.5</td>\n",
              "      <td>17.4</td>\n",
              "      <td>186.0</td>\n",
              "      <td>3800.0</td>\n",
              "      <td>Female</td>\n",
              "    </tr>\n",
              "    <tr>\n",
              "      <th>2</th>\n",
              "      <td>Adelie</td>\n",
              "      <td>Torgersen</td>\n",
              "      <td>40.3</td>\n",
              "      <td>18.0</td>\n",
              "      <td>195.0</td>\n",
              "      <td>3250.0</td>\n",
              "      <td>Female</td>\n",
              "    </tr>\n",
              "    <tr>\n",
              "      <th>3</th>\n",
              "      <td>Adelie</td>\n",
              "      <td>Torgersen</td>\n",
              "      <td>NaN</td>\n",
              "      <td>NaN</td>\n",
              "      <td>NaN</td>\n",
              "      <td>NaN</td>\n",
              "      <td>NaN</td>\n",
              "    </tr>\n",
              "    <tr>\n",
              "      <th>4</th>\n",
              "      <td>Adelie</td>\n",
              "      <td>Torgersen</td>\n",
              "      <td>36.7</td>\n",
              "      <td>19.3</td>\n",
              "      <td>193.0</td>\n",
              "      <td>3450.0</td>\n",
              "      <td>Female</td>\n",
              "    </tr>\n",
              "  </tbody>\n",
              "</table>\n",
              "</div>\n",
              "      <button class=\"colab-df-convert\" onclick=\"convertToInteractive('df-d7ff6c3b-ebcd-4f08-b1a4-ff4e9ea33821')\"\n",
              "              title=\"Convert this dataframe to an interactive table.\"\n",
              "              style=\"display:none;\">\n",
              "        \n",
              "  <svg xmlns=\"http://www.w3.org/2000/svg\" height=\"24px\"viewBox=\"0 0 24 24\"\n",
              "       width=\"24px\">\n",
              "    <path d=\"M0 0h24v24H0V0z\" fill=\"none\"/>\n",
              "    <path d=\"M18.56 5.44l.94 2.06.94-2.06 2.06-.94-2.06-.94-.94-2.06-.94 2.06-2.06.94zm-11 1L8.5 8.5l.94-2.06 2.06-.94-2.06-.94L8.5 2.5l-.94 2.06-2.06.94zm10 10l.94 2.06.94-2.06 2.06-.94-2.06-.94-.94-2.06-.94 2.06-2.06.94z\"/><path d=\"M17.41 7.96l-1.37-1.37c-.4-.4-.92-.59-1.43-.59-.52 0-1.04.2-1.43.59L10.3 9.45l-7.72 7.72c-.78.78-.78 2.05 0 2.83L4 21.41c.39.39.9.59 1.41.59.51 0 1.02-.2 1.41-.59l7.78-7.78 2.81-2.81c.8-.78.8-2.07 0-2.86zM5.41 20L4 18.59l7.72-7.72 1.47 1.35L5.41 20z\"/>\n",
              "  </svg>\n",
              "      </button>\n",
              "      \n",
              "  <style>\n",
              "    .colab-df-container {\n",
              "      display:flex;\n",
              "      flex-wrap:wrap;\n",
              "      gap: 12px;\n",
              "    }\n",
              "\n",
              "    .colab-df-convert {\n",
              "      background-color: #E8F0FE;\n",
              "      border: none;\n",
              "      border-radius: 50%;\n",
              "      cursor: pointer;\n",
              "      display: none;\n",
              "      fill: #1967D2;\n",
              "      height: 32px;\n",
              "      padding: 0 0 0 0;\n",
              "      width: 32px;\n",
              "    }\n",
              "\n",
              "    .colab-df-convert:hover {\n",
              "      background-color: #E2EBFA;\n",
              "      box-shadow: 0px 1px 2px rgba(60, 64, 67, 0.3), 0px 1px 3px 1px rgba(60, 64, 67, 0.15);\n",
              "      fill: #174EA6;\n",
              "    }\n",
              "\n",
              "    [theme=dark] .colab-df-convert {\n",
              "      background-color: #3B4455;\n",
              "      fill: #D2E3FC;\n",
              "    }\n",
              "\n",
              "    [theme=dark] .colab-df-convert:hover {\n",
              "      background-color: #434B5C;\n",
              "      box-shadow: 0px 1px 3px 1px rgba(0, 0, 0, 0.15);\n",
              "      filter: drop-shadow(0px 1px 2px rgba(0, 0, 0, 0.3));\n",
              "      fill: #FFFFFF;\n",
              "    }\n",
              "  </style>\n",
              "\n",
              "      <script>\n",
              "        const buttonEl =\n",
              "          document.querySelector('#df-d7ff6c3b-ebcd-4f08-b1a4-ff4e9ea33821 button.colab-df-convert');\n",
              "        buttonEl.style.display =\n",
              "          google.colab.kernel.accessAllowed ? 'block' : 'none';\n",
              "\n",
              "        async function convertToInteractive(key) {\n",
              "          const element = document.querySelector('#df-d7ff6c3b-ebcd-4f08-b1a4-ff4e9ea33821');\n",
              "          const dataTable =\n",
              "            await google.colab.kernel.invokeFunction('convertToInteractive',\n",
              "                                                     [key], {});\n",
              "          if (!dataTable) return;\n",
              "\n",
              "          const docLinkHtml = 'Like what you see? Visit the ' +\n",
              "            '<a target=\"_blank\" href=https://colab.research.google.com/notebooks/data_table.ipynb>data table notebook</a>'\n",
              "            + ' to learn more about interactive tables.';\n",
              "          element.innerHTML = '';\n",
              "          dataTable['output_type'] = 'display_data';\n",
              "          await google.colab.output.renderOutput(dataTable, element);\n",
              "          const docLink = document.createElement('div');\n",
              "          docLink.innerHTML = docLinkHtml;\n",
              "          element.appendChild(docLink);\n",
              "        }\n",
              "      </script>\n",
              "    </div>\n",
              "  </div>\n",
              "  "
            ]
          },
          "metadata": {},
          "execution_count": 3
        }
      ]
    },
    {
      "cell_type": "code",
      "source": [
        "# 결측값 제거\n",
        "penguins = penguins.dropna().reset_index(drop=True)"
      ],
      "metadata": {
        "id": "AH9Q0ET5qpwr"
      },
      "execution_count": 4,
      "outputs": []
    },
    {
      "cell_type": "code",
      "source": [
        "penguins.info()"
      ],
      "metadata": {
        "colab": {
          "base_uri": "https://localhost:8080/"
        },
        "id": "-3bqU5qyqx8w",
        "outputId": "ebcfca44-66a8-4c8b-f306-ad950b7398cb"
      },
      "execution_count": 5,
      "outputs": [
        {
          "output_type": "stream",
          "name": "stdout",
          "text": [
            "<class 'pandas.core.frame.DataFrame'>\n",
            "RangeIndex: 333 entries, 0 to 332\n",
            "Data columns (total 7 columns):\n",
            " #   Column             Non-Null Count  Dtype  \n",
            "---  ------             --------------  -----  \n",
            " 0   species            333 non-null    object \n",
            " 1   island             333 non-null    object \n",
            " 2   bill_length_mm     333 non-null    float64\n",
            " 3   bill_depth_mm      333 non-null    float64\n",
            " 4   flipper_length_mm  333 non-null    float64\n",
            " 5   body_mass_g        333 non-null    float64\n",
            " 6   sex                333 non-null    object \n",
            "dtypes: float64(4), object(3)\n",
            "memory usage: 18.3+ KB\n"
          ]
        }
      ]
    },
    {
      "cell_type": "markdown",
      "source": [
        "### 정규화(Normalization), 표준화(Standardization)"
      ],
      "metadata": {
        "id": "fRfBB14pq3a4"
      }
    },
    {
      "cell_type": "markdown",
      "source": [
        "- 정규화와 표준화는 모두 수치형 데이터 전처리에서 중요한 요소입니다.\n",
        "- 학습 데이터의 feature 간 단위나 스케일(scale)차이가 클수록 학습 모델의 성능이 저하된다.\n",
        "- 따라서 수치형 데이터의 **단위를 맞춰주는 작업을 스케일링(scaling)이라고 합니다.\n",
        "- 스케링에는 일정 구간을 정해주는 정규화(Normalization) 방법과 평균(0)과 표준편차(1)를 사용하는 표준화(Standardization) 방법이 있습니다."
      ],
      "metadata": {
        "id": "bbjeHHDSq8MX"
      }
    },
    {
      "cell_type": "markdown",
      "source": [
        "- 정규화\n",
        "> - 0~1사이의 값으로 변환(수치형 컬럼에서만 정규화 가능) 플러스 값으로 표현"
      ],
      "metadata": {
        "id": "hvwu32JcrhxC"
      }
    },
    {
      "cell_type": "markdown",
      "source": [
        "- 표준화\n",
        "> - 평균을 0으로 하고 표준편차를 1로 한다.(비지도 학습 사용시 사용함)(최솟값/최댓값이 설정 안될 시에 사용)"
      ],
      "metadata": {
        "id": "JXNHEWB9rvvv"
      }
    },
    {
      "cell_type": "code",
      "source": [
        "# feature 들 간 단위가 다릅니다. (bill_length_mm/bill_depth_mm/flipper_length_mm)\n",
        "penguins"
      ],
      "metadata": {
        "id": "OrxVwU1kqzSW",
        "colab": {
          "base_uri": "https://localhost:8080/",
          "height": 483
        },
        "outputId": "b7336329-cfc4-436d-ead5-df6e13717083"
      },
      "execution_count": 6,
      "outputs": [
        {
          "output_type": "execute_result",
          "data": {
            "text/plain": [
              "    species     island  bill_length_mm  bill_depth_mm  flipper_length_mm  \\\n",
              "0    Adelie  Torgersen            39.1           18.7              181.0   \n",
              "1    Adelie  Torgersen            39.5           17.4              186.0   \n",
              "2    Adelie  Torgersen            40.3           18.0              195.0   \n",
              "3    Adelie  Torgersen            36.7           19.3              193.0   \n",
              "4    Adelie  Torgersen            39.3           20.6              190.0   \n",
              "..      ...        ...             ...            ...                ...   \n",
              "328  Gentoo     Biscoe            47.2           13.7              214.0   \n",
              "329  Gentoo     Biscoe            46.8           14.3              215.0   \n",
              "330  Gentoo     Biscoe            50.4           15.7              222.0   \n",
              "331  Gentoo     Biscoe            45.2           14.8              212.0   \n",
              "332  Gentoo     Biscoe            49.9           16.1              213.0   \n",
              "\n",
              "     body_mass_g     sex  \n",
              "0         3750.0    Male  \n",
              "1         3800.0  Female  \n",
              "2         3250.0  Female  \n",
              "3         3450.0  Female  \n",
              "4         3650.0    Male  \n",
              "..           ...     ...  \n",
              "328       4925.0  Female  \n",
              "329       4850.0  Female  \n",
              "330       5750.0    Male  \n",
              "331       5200.0  Female  \n",
              "332       5400.0    Male  \n",
              "\n",
              "[333 rows x 7 columns]"
            ],
            "text/html": [
              "\n",
              "  <div id=\"df-14d07868-5bc2-448f-a39c-579065634466\">\n",
              "    <div class=\"colab-df-container\">\n",
              "      <div>\n",
              "<style scoped>\n",
              "    .dataframe tbody tr th:only-of-type {\n",
              "        vertical-align: middle;\n",
              "    }\n",
              "\n",
              "    .dataframe tbody tr th {\n",
              "        vertical-align: top;\n",
              "    }\n",
              "\n",
              "    .dataframe thead th {\n",
              "        text-align: right;\n",
              "    }\n",
              "</style>\n",
              "<table border=\"1\" class=\"dataframe\">\n",
              "  <thead>\n",
              "    <tr style=\"text-align: right;\">\n",
              "      <th></th>\n",
              "      <th>species</th>\n",
              "      <th>island</th>\n",
              "      <th>bill_length_mm</th>\n",
              "      <th>bill_depth_mm</th>\n",
              "      <th>flipper_length_mm</th>\n",
              "      <th>body_mass_g</th>\n",
              "      <th>sex</th>\n",
              "    </tr>\n",
              "  </thead>\n",
              "  <tbody>\n",
              "    <tr>\n",
              "      <th>0</th>\n",
              "      <td>Adelie</td>\n",
              "      <td>Torgersen</td>\n",
              "      <td>39.1</td>\n",
              "      <td>18.7</td>\n",
              "      <td>181.0</td>\n",
              "      <td>3750.0</td>\n",
              "      <td>Male</td>\n",
              "    </tr>\n",
              "    <tr>\n",
              "      <th>1</th>\n",
              "      <td>Adelie</td>\n",
              "      <td>Torgersen</td>\n",
              "      <td>39.5</td>\n",
              "      <td>17.4</td>\n",
              "      <td>186.0</td>\n",
              "      <td>3800.0</td>\n",
              "      <td>Female</td>\n",
              "    </tr>\n",
              "    <tr>\n",
              "      <th>2</th>\n",
              "      <td>Adelie</td>\n",
              "      <td>Torgersen</td>\n",
              "      <td>40.3</td>\n",
              "      <td>18.0</td>\n",
              "      <td>195.0</td>\n",
              "      <td>3250.0</td>\n",
              "      <td>Female</td>\n",
              "    </tr>\n",
              "    <tr>\n",
              "      <th>3</th>\n",
              "      <td>Adelie</td>\n",
              "      <td>Torgersen</td>\n",
              "      <td>36.7</td>\n",
              "      <td>19.3</td>\n",
              "      <td>193.0</td>\n",
              "      <td>3450.0</td>\n",
              "      <td>Female</td>\n",
              "    </tr>\n",
              "    <tr>\n",
              "      <th>4</th>\n",
              "      <td>Adelie</td>\n",
              "      <td>Torgersen</td>\n",
              "      <td>39.3</td>\n",
              "      <td>20.6</td>\n",
              "      <td>190.0</td>\n",
              "      <td>3650.0</td>\n",
              "      <td>Male</td>\n",
              "    </tr>\n",
              "    <tr>\n",
              "      <th>...</th>\n",
              "      <td>...</td>\n",
              "      <td>...</td>\n",
              "      <td>...</td>\n",
              "      <td>...</td>\n",
              "      <td>...</td>\n",
              "      <td>...</td>\n",
              "      <td>...</td>\n",
              "    </tr>\n",
              "    <tr>\n",
              "      <th>328</th>\n",
              "      <td>Gentoo</td>\n",
              "      <td>Biscoe</td>\n",
              "      <td>47.2</td>\n",
              "      <td>13.7</td>\n",
              "      <td>214.0</td>\n",
              "      <td>4925.0</td>\n",
              "      <td>Female</td>\n",
              "    </tr>\n",
              "    <tr>\n",
              "      <th>329</th>\n",
              "      <td>Gentoo</td>\n",
              "      <td>Biscoe</td>\n",
              "      <td>46.8</td>\n",
              "      <td>14.3</td>\n",
              "      <td>215.0</td>\n",
              "      <td>4850.0</td>\n",
              "      <td>Female</td>\n",
              "    </tr>\n",
              "    <tr>\n",
              "      <th>330</th>\n",
              "      <td>Gentoo</td>\n",
              "      <td>Biscoe</td>\n",
              "      <td>50.4</td>\n",
              "      <td>15.7</td>\n",
              "      <td>222.0</td>\n",
              "      <td>5750.0</td>\n",
              "      <td>Male</td>\n",
              "    </tr>\n",
              "    <tr>\n",
              "      <th>331</th>\n",
              "      <td>Gentoo</td>\n",
              "      <td>Biscoe</td>\n",
              "      <td>45.2</td>\n",
              "      <td>14.8</td>\n",
              "      <td>212.0</td>\n",
              "      <td>5200.0</td>\n",
              "      <td>Female</td>\n",
              "    </tr>\n",
              "    <tr>\n",
              "      <th>332</th>\n",
              "      <td>Gentoo</td>\n",
              "      <td>Biscoe</td>\n",
              "      <td>49.9</td>\n",
              "      <td>16.1</td>\n",
              "      <td>213.0</td>\n",
              "      <td>5400.0</td>\n",
              "      <td>Male</td>\n",
              "    </tr>\n",
              "  </tbody>\n",
              "</table>\n",
              "<p>333 rows × 7 columns</p>\n",
              "</div>\n",
              "      <button class=\"colab-df-convert\" onclick=\"convertToInteractive('df-14d07868-5bc2-448f-a39c-579065634466')\"\n",
              "              title=\"Convert this dataframe to an interactive table.\"\n",
              "              style=\"display:none;\">\n",
              "        \n",
              "  <svg xmlns=\"http://www.w3.org/2000/svg\" height=\"24px\"viewBox=\"0 0 24 24\"\n",
              "       width=\"24px\">\n",
              "    <path d=\"M0 0h24v24H0V0z\" fill=\"none\"/>\n",
              "    <path d=\"M18.56 5.44l.94 2.06.94-2.06 2.06-.94-2.06-.94-.94-2.06-.94 2.06-2.06.94zm-11 1L8.5 8.5l.94-2.06 2.06-.94-2.06-.94L8.5 2.5l-.94 2.06-2.06.94zm10 10l.94 2.06.94-2.06 2.06-.94-2.06-.94-.94-2.06-.94 2.06-2.06.94z\"/><path d=\"M17.41 7.96l-1.37-1.37c-.4-.4-.92-.59-1.43-.59-.52 0-1.04.2-1.43.59L10.3 9.45l-7.72 7.72c-.78.78-.78 2.05 0 2.83L4 21.41c.39.39.9.59 1.41.59.51 0 1.02-.2 1.41-.59l7.78-7.78 2.81-2.81c.8-.78.8-2.07 0-2.86zM5.41 20L4 18.59l7.72-7.72 1.47 1.35L5.41 20z\"/>\n",
              "  </svg>\n",
              "      </button>\n",
              "      \n",
              "  <style>\n",
              "    .colab-df-container {\n",
              "      display:flex;\n",
              "      flex-wrap:wrap;\n",
              "      gap: 12px;\n",
              "    }\n",
              "\n",
              "    .colab-df-convert {\n",
              "      background-color: #E8F0FE;\n",
              "      border: none;\n",
              "      border-radius: 50%;\n",
              "      cursor: pointer;\n",
              "      display: none;\n",
              "      fill: #1967D2;\n",
              "      height: 32px;\n",
              "      padding: 0 0 0 0;\n",
              "      width: 32px;\n",
              "    }\n",
              "\n",
              "    .colab-df-convert:hover {\n",
              "      background-color: #E2EBFA;\n",
              "      box-shadow: 0px 1px 2px rgba(60, 64, 67, 0.3), 0px 1px 3px 1px rgba(60, 64, 67, 0.15);\n",
              "      fill: #174EA6;\n",
              "    }\n",
              "\n",
              "    [theme=dark] .colab-df-convert {\n",
              "      background-color: #3B4455;\n",
              "      fill: #D2E3FC;\n",
              "    }\n",
              "\n",
              "    [theme=dark] .colab-df-convert:hover {\n",
              "      background-color: #434B5C;\n",
              "      box-shadow: 0px 1px 3px 1px rgba(0, 0, 0, 0.15);\n",
              "      filter: drop-shadow(0px 1px 2px rgba(0, 0, 0, 0.3));\n",
              "      fill: #FFFFFF;\n",
              "    }\n",
              "  </style>\n",
              "\n",
              "      <script>\n",
              "        const buttonEl =\n",
              "          document.querySelector('#df-14d07868-5bc2-448f-a39c-579065634466 button.colab-df-convert');\n",
              "        buttonEl.style.display =\n",
              "          google.colab.kernel.accessAllowed ? 'block' : 'none';\n",
              "\n",
              "        async function convertToInteractive(key) {\n",
              "          const element = document.querySelector('#df-14d07868-5bc2-448f-a39c-579065634466');\n",
              "          const dataTable =\n",
              "            await google.colab.kernel.invokeFunction('convertToInteractive',\n",
              "                                                     [key], {});\n",
              "          if (!dataTable) return;\n",
              "\n",
              "          const docLinkHtml = 'Like what you see? Visit the ' +\n",
              "            '<a target=\"_blank\" href=https://colab.research.google.com/notebooks/data_table.ipynb>data table notebook</a>'\n",
              "            + ' to learn more about interactive tables.';\n",
              "          element.innerHTML = '';\n",
              "          dataTable['output_type'] = 'display_data';\n",
              "          await google.colab.output.renderOutput(dataTable, element);\n",
              "          const docLink = document.createElement('div');\n",
              "          docLink.innerHTML = docLinkHtml;\n",
              "          element.appendChild(docLink);\n",
              "        }\n",
              "      </script>\n",
              "    </div>\n",
              "  </div>\n",
              "  "
            ]
          },
          "metadata": {},
          "execution_count": 6
        }
      ]
    },
    {
      "cell_type": "code",
      "source": [
        "# 도표를 통해 확인 \n",
        "plt.figure(figsize=(15,5 ))\n",
        "sns.histplot(data=penguins)\n",
        "# 데이터의 편차가 너무 심하다 정리가 필요"
      ],
      "metadata": {
        "colab": {
          "base_uri": "https://localhost:8080/",
          "height": 249
        },
        "id": "2F0I1_mda8Sc",
        "outputId": "9d6f1cd7-72c6-49e8-8f82-89984d7ff0d1"
      },
      "execution_count": 7,
      "outputs": [
        {
          "output_type": "execute_result",
          "data": {
            "text/plain": [
              "<matplotlib.axes._subplots.AxesSubplot at 0x7f49beb25f10>"
            ]
          },
          "metadata": {},
          "execution_count": 7
        },
        {
          "output_type": "display_data",
          "data": {
            "text/plain": [
              "<Figure size 1080x360 with 1 Axes>"
            ],
            "image/png": "[encoded data removed]"
          },
          "metadata": {
            "needs_background": "light"
          }
        }
      ]
    },
    {
      "cell_type": "markdown",
      "source": [
        "**정규화(Normalization)**\n",
        "- `MinMaxScaler`를 활용한 0-1 사이 분포 만들기\n",
        "- 같은 범위의 데이터로 변환하기 때문에, 모델 학습 성능이 좋아지고, 학습 시간이 줄어드는 효과가 있다.\n",
        "- 자릿수가 늘어나지 않아 연산 오버플로우(`numeric overflow`)를 방지 할 수있다."
      ],
      "metadata": {
        "id": "_P-RFqZJbiKB"
      }
    },
    {
      "cell_type": "code",
      "source": [
        "from sklearn.preprocessing import MinMaxScaler # 라이브러리 로딩\n",
        "scaler = MinMaxScaler() # 스케일러로 정의\n",
        "\n",
        "penguins_normed = penguins.copy()\n",
        "features = penguins_normed[['bill_length_mm','bill_depth_mm','flipper_length_mm','body_mass_g']] # 정규화 대상 선택\n",
        "features_normed = scaler.fit_transform(features)  #정규화 실행\n",
        "features_normed.shape"
      ],
      "metadata": {
        "colab": {
          "base_uri": "https://localhost:8080/"
        },
        "id": "BPZvssmmbW_z",
        "outputId": "497d7147-a4f8-4efe-b3d9-ff5a2188fc73"
      },
      "execution_count": 8,
      "outputs": [
        {
          "output_type": "execute_result",
          "data": {
            "text/plain": [
              "(333, 4)"
            ]
          },
          "metadata": {},
          "execution_count": 8
        }
      ]
    },
    {
      "cell_type": "code",
      "source": [
        "features_normed\n",
        "# 순서대로 1 col =bill_length/ 2 col =bill_depth/ 3 col = flipper_length / 4 col = body_mass_g"
      ],
      "metadata": {
        "colab": {
          "base_uri": "https://localhost:8080/"
        },
        "id": "FowfayAEcooj",
        "outputId": "a3fcc9c2-1b9f-4c23-abad-d7a812264e29"
      },
      "execution_count": 9,
      "outputs": [
        {
          "output_type": "execute_result",
          "data": {
            "text/plain": [
              "array([[0.25454545, 0.66666667, 0.15254237, 0.29166667],\n",
              "       [0.26909091, 0.51190476, 0.23728814, 0.30555556],\n",
              "       [0.29818182, 0.58333333, 0.38983051, 0.15277778],\n",
              "       ...,\n",
              "       [0.66545455, 0.30952381, 0.84745763, 0.84722222],\n",
              "       [0.47636364, 0.20238095, 0.6779661 , 0.69444444],\n",
              "       [0.64727273, 0.35714286, 0.69491525, 0.75      ]])"
            ]
          },
          "metadata": {},
          "execution_count": 9
        }
      ]
    },
    {
      "cell_type": "code",
      "source": [
        "# 정규화 시킨 데이터 입히기\n",
        "# .assign (데이터 삽입하기)\n",
        "penguins_normed = penguins_normed.assign(bill_length_mm = features_normed[:,0],\n",
        "                                         bill_depth_mm = features_normed[:,1],\n",
        "                                         flipper_length_mm = features_normed[:,2],\n",
        "                                         body_mass_g = features_normed[:,3])\n",
        "\n",
        "penguins_normed"
      ],
      "metadata": {
        "colab": {
          "base_uri": "https://localhost:8080/",
          "height": 483
        },
        "id": "xEdMJZincxq8",
        "outputId": "96593fac-824c-4fa4-f2ef-704e62f7072c"
      },
      "execution_count": 10,
      "outputs": [
        {
          "output_type": "execute_result",
          "data": {
            "text/plain": [
              "    species     island  bill_length_mm  bill_depth_mm  flipper_length_mm  \\\n",
              "0    Adelie  Torgersen        0.254545       0.666667           0.152542   \n",
              "1    Adelie  Torgersen        0.269091       0.511905           0.237288   \n",
              "2    Adelie  Torgersen        0.298182       0.583333           0.389831   \n",
              "3    Adelie  Torgersen        0.167273       0.738095           0.355932   \n",
              "4    Adelie  Torgersen        0.261818       0.892857           0.305085   \n",
              "..      ...        ...             ...            ...                ...   \n",
              "328  Gentoo     Biscoe        0.549091       0.071429           0.711864   \n",
              "329  Gentoo     Biscoe        0.534545       0.142857           0.728814   \n",
              "330  Gentoo     Biscoe        0.665455       0.309524           0.847458   \n",
              "331  Gentoo     Biscoe        0.476364       0.202381           0.677966   \n",
              "332  Gentoo     Biscoe        0.647273       0.357143           0.694915   \n",
              "\n",
              "     body_mass_g     sex  \n",
              "0       0.291667    Male  \n",
              "1       0.305556  Female  \n",
              "2       0.152778  Female  \n",
              "3       0.208333  Female  \n",
              "4       0.263889    Male  \n",
              "..           ...     ...  \n",
              "328     0.618056  Female  \n",
              "329     0.597222  Female  \n",
              "330     0.847222    Male  \n",
              "331     0.694444  Female  \n",
              "332     0.750000    Male  \n",
              "\n",
              "[333 rows x 7 columns]"
            ],
            "text/html": [
              "\n",
              "  <div id=\"df-04b7809c-e927-4903-a6f0-4c0701e61c07\">\n",
              "    <div class=\"colab-df-container\">\n",
              "      <div>\n",
              "<style scoped>\n",
              "    .dataframe tbody tr th:only-of-type {\n",
              "        vertical-align: middle;\n",
              "    }\n",
              "\n",
              "    .dataframe tbody tr th {\n",
              "        vertical-align: top;\n",
              "    }\n",
              "\n",
              "    .dataframe thead th {\n",
              "        text-align: right;\n",
              "    }\n",
              "</style>\n",
              "<table border=\"1\" class=\"dataframe\">\n",
              "  <thead>\n",
              "    <tr style=\"text-align: right;\">\n",
              "      <th></th>\n",
              "      <th>species</th>\n",
              "      <th>island</th>\n",
              "      <th>bill_length_mm</th>\n",
              "      <th>bill_depth_mm</th>\n",
              "      <th>flipper_length_mm</th>\n",
              "      <th>body_mass_g</th>\n",
              "      <th>sex</th>\n",
              "    </tr>\n",
              "  </thead>\n",
              "  <tbody>\n",
              "    <tr>\n",
              "      <th>0</th>\n",
              "      <td>Adelie</td>\n",
              "      <td>Torgersen</td>\n",
              "      <td>0.254545</td>\n",
              "      <td>0.666667</td>\n",
              "      <td>0.152542</td>\n",
              "      <td>0.291667</td>\n",
              "      <td>Male</td>\n",
              "    </tr>\n",
              "    <tr>\n",
              "      <th>1</th>\n",
              "      <td>Adelie</td>\n",
              "      <td>Torgersen</td>\n",
              "      <td>0.269091</td>\n",
              "      <td>0.511905</td>\n",
              "      <td>0.237288</td>\n",
              "      <td>0.305556</td>\n",
              "      <td>Female</td>\n",
              "    </tr>\n",
              "    <tr>\n",
              "      <th>2</th>\n",
              "      <td>Adelie</td>\n",
              "      <td>Torgersen</td>\n",
              "      <td>0.298182</td>\n",
              "      <td>0.583333</td>\n",
              "      <td>0.389831</td>\n",
              "      <td>0.152778</td>\n",
              "      <td>Female</td>\n",
              "    </tr>\n",
              "    <tr>\n",
              "      <th>3</th>\n",
              "      <td>Adelie</td>\n",
              "      <td>Torgersen</td>\n",
              "      <td>0.167273</td>\n",
              "      <td>0.738095</td>\n",
              "      <td>0.355932</td>\n",
              "      <td>0.208333</td>\n",
              "      <td>Female</td>\n",
              "    </tr>\n",
              "    <tr>\n",
              "      <th>4</th>\n",
              "      <td>Adelie</td>\n",
              "      <td>Torgersen</td>\n",
              "      <td>0.261818</td>\n",
              "      <td>0.892857</td>\n",
              "      <td>0.305085</td>\n",
              "      <td>0.263889</td>\n",
              "      <td>Male</td>\n",
              "    </tr>\n",
              "    <tr>\n",
              "      <th>...</th>\n",
              "      <td>...</td>\n",
              "      <td>...</td>\n",
              "      <td>...</td>\n",
              "      <td>...</td>\n",
              "      <td>...</td>\n",
              "      <td>...</td>\n",
              "      <td>...</td>\n",
              "    </tr>\n",
              "    <tr>\n",
              "      <th>328</th>\n",
              "      <td>Gentoo</td>\n",
              "      <td>Biscoe</td>\n",
              "      <td>0.549091</td>\n",
              "      <td>0.071429</td>\n",
              "      <td>0.711864</td>\n",
              "      <td>0.618056</td>\n",
              "      <td>Female</td>\n",
              "    </tr>\n",
              "    <tr>\n",
              "      <th>329</th>\n",
              "      <td>Gentoo</td>\n",
              "      <td>Biscoe</td>\n",
              "      <td>0.534545</td>\n",
              "      <td>0.142857</td>\n",
              "      <td>0.728814</td>\n",
              "      <td>0.597222</td>\n",
              "      <td>Female</td>\n",
              "    </tr>\n",
              "    <tr>\n",
              "      <th>330</th>\n",
              "      <td>Gentoo</td>\n",
              "      <td>Biscoe</td>\n",
              "      <td>0.665455</td>\n",
              "      <td>0.309524</td>\n",
              "      <td>0.847458</td>\n",
              "      <td>0.847222</td>\n",
              "      <td>Male</td>\n",
              "    </tr>\n",
              "    <tr>\n",
              "      <th>331</th>\n",
              "      <td>Gentoo</td>\n",
              "      <td>Biscoe</td>\n",
              "      <td>0.476364</td>\n",
              "      <td>0.202381</td>\n",
              "      <td>0.677966</td>\n",
              "      <td>0.694444</td>\n",
              "      <td>Female</td>\n",
              "    </tr>\n",
              "    <tr>\n",
              "      <th>332</th>\n",
              "      <td>Gentoo</td>\n",
              "      <td>Biscoe</td>\n",
              "      <td>0.647273</td>\n",
              "      <td>0.357143</td>\n",
              "      <td>0.694915</td>\n",
              "      <td>0.750000</td>\n",
              "      <td>Male</td>\n",
              "    </tr>\n",
              "  </tbody>\n",
              "</table>\n",
              "<p>333 rows × 7 columns</p>\n",
              "</div>\n",
              "      <button class=\"colab-df-convert\" onclick=\"convertToInteractive('df-04b7809c-e927-4903-a6f0-4c0701e61c07')\"\n",
              "              title=\"Convert this dataframe to an interactive table.\"\n",
              "              style=\"display:none;\">\n",
              "        \n",
              "  <svg xmlns=\"http://www.w3.org/2000/svg\" height=\"24px\"viewBox=\"0 0 24 24\"\n",
              "       width=\"24px\">\n",
              "    <path d=\"M0 0h24v24H0V0z\" fill=\"none\"/>\n",
              "    <path d=\"M18.56 5.44l.94 2.06.94-2.06 2.06-.94-2.06-.94-.94-2.06-.94 2.06-2.06.94zm-11 1L8.5 8.5l.94-2.06 2.06-.94-2.06-.94L8.5 2.5l-.94 2.06-2.06.94zm10 10l.94 2.06.94-2.06 2.06-.94-2.06-.94-.94-2.06-.94 2.06-2.06.94z\"/><path d=\"M17.41 7.96l-1.37-1.37c-.4-.4-.92-.59-1.43-.59-.52 0-1.04.2-1.43.59L10.3 9.45l-7.72 7.72c-.78.78-.78 2.05 0 2.83L4 21.41c.39.39.9.59 1.41.59.51 0 1.02-.2 1.41-.59l7.78-7.78 2.81-2.81c.8-.78.8-2.07 0-2.86zM5.41 20L4 18.59l7.72-7.72 1.47 1.35L5.41 20z\"/>\n",
              "  </svg>\n",
              "      </button>\n",
              "      \n",
              "  <style>\n",
              "    .colab-df-container {\n",
              "      display:flex;\n",
              "      flex-wrap:wrap;\n",
              "      gap: 12px;\n",
              "    }\n",
              "\n",
              "    .colab-df-convert {\n",
              "      background-color: #E8F0FE;\n",
              "      border: none;\n",
              "      border-radius: 50%;\n",
              "      cursor: pointer;\n",
              "      display: none;\n",
              "      fill: #1967D2;\n",
              "      height: 32px;\n",
              "      padding: 0 0 0 0;\n",
              "      width: 32px;\n",
              "    }\n",
              "\n",
              "    .colab-df-convert:hover {\n",
              "      background-color: #E2EBFA;\n",
              "      box-shadow: 0px 1px 2px rgba(60, 64, 67, 0.3), 0px 1px 3px 1px rgba(60, 64, 67, 0.15);\n",
              "      fill: #174EA6;\n",
              "    }\n",
              "\n",
              "    [theme=dark] .colab-df-convert {\n",
              "      background-color: #3B4455;\n",
              "      fill: #D2E3FC;\n",
              "    }\n",
              "\n",
              "    [theme=dark] .colab-df-convert:hover {\n",
              "      background-color: #434B5C;\n",
              "      box-shadow: 0px 1px 3px 1px rgba(0, 0, 0, 0.15);\n",
              "      filter: drop-shadow(0px 1px 2px rgba(0, 0, 0, 0.3));\n",
              "      fill: #FFFFFF;\n",
              "    }\n",
              "  </style>\n",
              "\n",
              "      <script>\n",
              "        const buttonEl =\n",
              "          document.querySelector('#df-04b7809c-e927-4903-a6f0-4c0701e61c07 button.colab-df-convert');\n",
              "        buttonEl.style.display =\n",
              "          google.colab.kernel.accessAllowed ? 'block' : 'none';\n",
              "\n",
              "        async function convertToInteractive(key) {\n",
              "          const element = document.querySelector('#df-04b7809c-e927-4903-a6f0-4c0701e61c07');\n",
              "          const dataTable =\n",
              "            await google.colab.kernel.invokeFunction('convertToInteractive',\n",
              "                                                     [key], {});\n",
              "          if (!dataTable) return;\n",
              "\n",
              "          const docLinkHtml = 'Like what you see? Visit the ' +\n",
              "            '<a target=\"_blank\" href=https://colab.research.google.com/notebooks/data_table.ipynb>data table notebook</a>'\n",
              "            + ' to learn more about interactive tables.';\n",
              "          element.innerHTML = '';\n",
              "          dataTable['output_type'] = 'display_data';\n",
              "          await google.colab.output.renderOutput(dataTable, element);\n",
              "          const docLink = document.createElement('div');\n",
              "          docLink.innerHTML = docLinkHtml;\n",
              "          element.appendChild(docLink);\n",
              "        }\n",
              "      </script>\n",
              "    </div>\n",
              "  </div>\n",
              "  "
            ]
          },
          "metadata": {},
          "execution_count": 10
        }
      ]
    },
    {
      "cell_type": "code",
      "source": [
        "# 눈의로 확인 하기\n",
        "plt.figure(figsize=(15, 5))\n",
        "sns.histplot(data=penguins_normed)\n",
        "# 혼자 떨어져 있는 데이터가 없고 모여있는 데이터로 합쳐졌다."
      ],
      "metadata": {
        "colab": {
          "base_uri": "https://localhost:8080/",
          "height": 250
        },
        "id": "ZNXduH1OdbIr",
        "outputId": "c44e7d67-da45-4ede-f279-d68e0b86243d"
      },
      "execution_count": 11,
      "outputs": [
        {
          "output_type": "execute_result",
          "data": {
            "text/plain": [
              "<matplotlib.axes._subplots.AxesSubplot at 0x7f49baa3e990>"
            ]
          },
          "metadata": {},
          "execution_count": 11
        },
        {
          "output_type": "display_data",
          "data": {
            "text/plain": [
              "<Figure size 1080x360 with 1 Axes>"
            ],
            "image/png": "[encoded data removed]"
          },
          "metadata": {
            "needs_background": "light"
          }
        }
      ]
    },
    {
      "cell_type": "markdown",
      "source": [
        "**표준화(Standardization)**\n",
        "- `StandardScaler`를 활용한 평균 0, 표준편차 1 분표 만들기\n",
        "- 만약 Feature 가 단위 차이가 극심하게 차이가 나는 상황이라면, 정규화 보다는 표준화 방법이 선호된다.      (정규화는 작은 범위로 데이터를 압축하기 때문에 정보 손실이 발생한다.)\n",
        "- 비지도 학습(최대 최소 범위를 알기 힘든 상황)에서도 **표준화 방법**이 선호됩니다."
      ],
      "metadata": {
        "id": "K_RKdhSiepK4"
      }
    },
    {
      "cell_type": "code",
      "source": [
        "from sklearn.preprocessing import StandardScaler\n",
        "scaler = StandardScaler() # 스케일러 정의 \n",
        "\n",
        "penguins_stand = penguins.copy()\n",
        "features = penguins_stand[['bill_length_mm', 'bill_depth_mm', 'flipper_length_mm', 'body_mass_g']] # 표준화 대상 지정\n",
        "features_stand = scaler.fit_transform(features) # 표준화 "
      ],
      "metadata": {
        "id": "hG1-3j_Eehlz"
      },
      "execution_count": 12,
      "outputs": []
    },
    {
      "cell_type": "code",
      "source": [
        "# .assign (데이터 삽입하기)\n",
        "penguins_stand = penguins_stand.assign(bill_length_mm = features_stand[:,0],\n",
        "                                         bill_depth_mm = features_stand[:,1],\n",
        "                                         flipper_length_mm = features_stand[:,2],\n",
        "                                         body_mass_g = features_stand[:,3])\n",
        "\n",
        "penguins_stand"
      ],
      "metadata": {
        "colab": {
          "base_uri": "https://localhost:8080/",
          "height": 483
        },
        "id": "8s_PfMq5f4dT",
        "outputId": "2e96327e-19a7-40cf-e481-2fa61a8fb7bf"
      },
      "execution_count": 13,
      "outputs": [
        {
          "output_type": "execute_result",
          "data": {
            "text/plain": [
              "    species     island  bill_length_mm  bill_depth_mm  flipper_length_mm  \\\n",
              "0    Adelie  Torgersen       -0.896042       0.780732          -1.426752   \n",
              "1    Adelie  Torgersen       -0.822788       0.119584          -1.069474   \n",
              "2    Adelie  Torgersen       -0.676280       0.424729          -0.426373   \n",
              "3    Adelie  Torgersen       -1.335566       1.085877          -0.569284   \n",
              "4    Adelie  Torgersen       -0.859415       1.747026          -0.783651   \n",
              "..      ...        ...             ...            ...                ...   \n",
              "328  Gentoo     Biscoe        0.587352      -1.762145           0.931283   \n",
              "329  Gentoo     Biscoe        0.514098      -1.457000           1.002739   \n",
              "330  Gentoo     Biscoe        1.173384      -0.744994           1.502928   \n",
              "331  Gentoo     Biscoe        0.221082      -1.202712           0.788372   \n",
              "332  Gentoo     Biscoe        1.081817      -0.541564           0.859828   \n",
              "\n",
              "     body_mass_g     sex  \n",
              "0      -0.568475    Male  \n",
              "1      -0.506286  Female  \n",
              "2      -1.190361  Female  \n",
              "3      -0.941606  Female  \n",
              "4      -0.692852    Male  \n",
              "..           ...     ...  \n",
              "328     0.892957  Female  \n",
              "329     0.799674  Female  \n",
              "330     1.919069    Male  \n",
              "331     1.234995  Female  \n",
              "332     1.483749    Male  \n",
              "\n",
              "[333 rows x 7 columns]"
            ],
            "text/html": [
              "\n",
              "  <div id=\"df-ae254522-db5d-4f18-9313-feff77d4899b\">\n",
              "    <div class=\"colab-df-container\">\n",
              "      <div>\n",
              "<style scoped>\n",
              "    .dataframe tbody tr th:only-of-type {\n",
              "        vertical-align: middle;\n",
              "    }\n",
              "\n",
              "    .dataframe tbody tr th {\n",
              "        vertical-align: top;\n",
              "    }\n",
              "\n",
              "    .dataframe thead th {\n",
              "        text-align: right;\n",
              "    }\n",
              "</style>\n",
              "<table border=\"1\" class=\"dataframe\">\n",
              "  <thead>\n",
              "    <tr style=\"text-align: right;\">\n",
              "      <th></th>\n",
              "      <th>species</th>\n",
              "      <th>island</th>\n",
              "      <th>bill_length_mm</th>\n",
              "      <th>bill_depth_mm</th>\n",
              "      <th>flipper_length_mm</th>\n",
              "      <th>body_mass_g</th>\n",
              "      <th>sex</th>\n",
              "    </tr>\n",
              "  </thead>\n",
              "  <tbody>\n",
              "    <tr>\n",
              "      <th>0</th>\n",
              "      <td>Adelie</td>\n",
              "      <td>Torgersen</td>\n",
              "      <td>-0.896042</td>\n",
              "      <td>0.780732</td>\n",
              "      <td>-1.426752</td>\n",
              "      <td>-0.568475</td>\n",
              "      <td>Male</td>\n",
              "    </tr>\n",
              "    <tr>\n",
              "      <th>1</th>\n",
              "      <td>Adelie</td>\n",
              "      <td>Torgersen</td>\n",
              "      <td>-0.822788</td>\n",
              "      <td>0.119584</td>\n",
              "      <td>-1.069474</td>\n",
              "      <td>-0.506286</td>\n",
              "      <td>Female</td>\n",
              "    </tr>\n",
              "    <tr>\n",
              "      <th>2</th>\n",
              "      <td>Adelie</td>\n",
              "      <td>Torgersen</td>\n",
              "      <td>-0.676280</td>\n",
              "      <td>0.424729</td>\n",
              "      <td>-0.426373</td>\n",
              "      <td>-1.190361</td>\n",
              "      <td>Female</td>\n",
              "    </tr>\n",
              "    <tr>\n",
              "      <th>3</th>\n",
              "      <td>Adelie</td>\n",
              "      <td>Torgersen</td>\n",
              "      <td>-1.335566</td>\n",
              "      <td>1.085877</td>\n",
              "      <td>-0.569284</td>\n",
              "      <td>-0.941606</td>\n",
              "      <td>Female</td>\n",
              "    </tr>\n",
              "    <tr>\n",
              "      <th>4</th>\n",
              "      <td>Adelie</td>\n",
              "      <td>Torgersen</td>\n",
              "      <td>-0.859415</td>\n",
              "      <td>1.747026</td>\n",
              "      <td>-0.783651</td>\n",
              "      <td>-0.692852</td>\n",
              "      <td>Male</td>\n",
              "    </tr>\n",
              "    <tr>\n",
              "      <th>...</th>\n",
              "      <td>...</td>\n",
              "      <td>...</td>\n",
              "      <td>...</td>\n",
              "      <td>...</td>\n",
              "      <td>...</td>\n",
              "      <td>...</td>\n",
              "      <td>...</td>\n",
              "    </tr>\n",
              "    <tr>\n",
              "      <th>328</th>\n",
              "      <td>Gentoo</td>\n",
              "      <td>Biscoe</td>\n",
              "      <td>0.587352</td>\n",
              "      <td>-1.762145</td>\n",
              "      <td>0.931283</td>\n",
              "      <td>0.892957</td>\n",
              "      <td>Female</td>\n",
              "    </tr>\n",
              "    <tr>\n",
              "      <th>329</th>\n",
              "      <td>Gentoo</td>\n",
              "      <td>Biscoe</td>\n",
              "      <td>0.514098</td>\n",
              "      <td>-1.457000</td>\n",
              "      <td>1.002739</td>\n",
              "      <td>0.799674</td>\n",
              "      <td>Female</td>\n",
              "    </tr>\n",
              "    <tr>\n",
              "      <th>330</th>\n",
              "      <td>Gentoo</td>\n",
              "      <td>Biscoe</td>\n",
              "      <td>1.173384</td>\n",
              "      <td>-0.744994</td>\n",
              "      <td>1.502928</td>\n",
              "      <td>1.919069</td>\n",
              "      <td>Male</td>\n",
              "    </tr>\n",
              "    <tr>\n",
              "      <th>331</th>\n",
              "      <td>Gentoo</td>\n",
              "      <td>Biscoe</td>\n",
              "      <td>0.221082</td>\n",
              "      <td>-1.202712</td>\n",
              "      <td>0.788372</td>\n",
              "      <td>1.234995</td>\n",
              "      <td>Female</td>\n",
              "    </tr>\n",
              "    <tr>\n",
              "      <th>332</th>\n",
              "      <td>Gentoo</td>\n",
              "      <td>Biscoe</td>\n",
              "      <td>1.081817</td>\n",
              "      <td>-0.541564</td>\n",
              "      <td>0.859828</td>\n",
              "      <td>1.483749</td>\n",
              "      <td>Male</td>\n",
              "    </tr>\n",
              "  </tbody>\n",
              "</table>\n",
              "<p>333 rows × 7 columns</p>\n",
              "</div>\n",
              "      <button class=\"colab-df-convert\" onclick=\"convertToInteractive('df-ae254522-db5d-4f18-9313-feff77d4899b')\"\n",
              "              title=\"Convert this dataframe to an interactive table.\"\n",
              "              style=\"display:none;\">\n",
              "        \n",
              "  <svg xmlns=\"http://www.w3.org/2000/svg\" height=\"24px\"viewBox=\"0 0 24 24\"\n",
              "       width=\"24px\">\n",
              "    <path d=\"M0 0h24v24H0V0z\" fill=\"none\"/>\n",
              "    <path d=\"M18.56 5.44l.94 2.06.94-2.06 2.06-.94-2.06-.94-.94-2.06-.94 2.06-2.06.94zm-11 1L8.5 8.5l.94-2.06 2.06-.94-2.06-.94L8.5 2.5l-.94 2.06-2.06.94zm10 10l.94 2.06.94-2.06 2.06-.94-2.06-.94-.94-2.06-.94 2.06-2.06.94z\"/><path d=\"M17.41 7.96l-1.37-1.37c-.4-.4-.92-.59-1.43-.59-.52 0-1.04.2-1.43.59L10.3 9.45l-7.72 7.72c-.78.78-.78 2.05 0 2.83L4 21.41c.39.39.9.59 1.41.59.51 0 1.02-.2 1.41-.59l7.78-7.78 2.81-2.81c.8-.78.8-2.07 0-2.86zM5.41 20L4 18.59l7.72-7.72 1.47 1.35L5.41 20z\"/>\n",
              "  </svg>\n",
              "      </button>\n",
              "      \n",
              "  <style>\n",
              "    .colab-df-container {\n",
              "      display:flex;\n",
              "      flex-wrap:wrap;\n",
              "      gap: 12px;\n",
              "    }\n",
              "\n",
              "    .colab-df-convert {\n",
              "      background-color: #E8F0FE;\n",
              "      border: none;\n",
              "      border-radius: 50%;\n",
              "      cursor: pointer;\n",
              "      display: none;\n",
              "      fill: #1967D2;\n",
              "      height: 32px;\n",
              "      padding: 0 0 0 0;\n",
              "      width: 32px;\n",
              "    }\n",
              "\n",
              "    .colab-df-convert:hover {\n",
              "      background-color: #E2EBFA;\n",
              "      box-shadow: 0px 1px 2px rgba(60, 64, 67, 0.3), 0px 1px 3px 1px rgba(60, 64, 67, 0.15);\n",
              "      fill: #174EA6;\n",
              "    }\n",
              "\n",
              "    [theme=dark] .colab-df-convert {\n",
              "      background-color: #3B4455;\n",
              "      fill: #D2E3FC;\n",
              "    }\n",
              "\n",
              "    [theme=dark] .colab-df-convert:hover {\n",
              "      background-color: #434B5C;\n",
              "      box-shadow: 0px 1px 3px 1px rgba(0, 0, 0, 0.15);\n",
              "      filter: drop-shadow(0px 1px 2px rgba(0, 0, 0, 0.3));\n",
              "      fill: #FFFFFF;\n",
              "    }\n",
              "  </style>\n",
              "\n",
              "      <script>\n",
              "        const buttonEl =\n",
              "          document.querySelector('#df-ae254522-db5d-4f18-9313-feff77d4899b button.colab-df-convert');\n",
              "        buttonEl.style.display =\n",
              "          google.colab.kernel.accessAllowed ? 'block' : 'none';\n",
              "\n",
              "        async function convertToInteractive(key) {\n",
              "          const element = document.querySelector('#df-ae254522-db5d-4f18-9313-feff77d4899b');\n",
              "          const dataTable =\n",
              "            await google.colab.kernel.invokeFunction('convertToInteractive',\n",
              "                                                     [key], {});\n",
              "          if (!dataTable) return;\n",
              "\n",
              "          const docLinkHtml = 'Like what you see? Visit the ' +\n",
              "            '<a target=\"_blank\" href=https://colab.research.google.com/notebooks/data_table.ipynb>data table notebook</a>'\n",
              "            + ' to learn more about interactive tables.';\n",
              "          element.innerHTML = '';\n",
              "          dataTable['output_type'] = 'display_data';\n",
              "          await google.colab.output.renderOutput(dataTable, element);\n",
              "          const docLink = document.createElement('div');\n",
              "          docLink.innerHTML = docLinkHtml;\n",
              "          element.appendChild(docLink);\n",
              "        }\n",
              "      </script>\n",
              "    </div>\n",
              "  </div>\n",
              "  "
            ]
          },
          "metadata": {},
          "execution_count": 13
        }
      ]
    },
    {
      "cell_type": "code",
      "source": [
        "# 눈으로 확인\n",
        "plt.figure(figsize=(15,5))\n",
        "sns.histplot(data=penguins_stand)"
      ],
      "metadata": {
        "colab": {
          "base_uri": "https://localhost:8080/",
          "height": 250
        },
        "id": "Ox3R96dZhDl5",
        "outputId": "6dbbd69c-05e0-47d0-8f04-db7a88b218e8"
      },
      "execution_count": 14,
      "outputs": [
        {
          "output_type": "execute_result",
          "data": {
            "text/plain": [
              "<matplotlib.axes._subplots.AxesSubplot at 0x7f49ba8d8050>"
            ]
          },
          "metadata": {},
          "execution_count": 14
        },
        {
          "output_type": "display_data",
          "data": {
            "text/plain": [
              "<Figure size 1080x360 with 1 Axes>"
            ],
            "image/png": "[encoded data removed]"
          },
          "metadata": {
            "needs_background": "light"
          }
        }
      ]
    },
    {
      "cell_type": "markdown",
      "source": [
        "### **범주형 데이터의 수치화 (인코딩,Encoding)**\n",
        "> - scikt-learn의 머신 러닝 알고리즘은 범주형 데이터를 계산할 수 없습니다.\n",
        "> - 따라서 일반적으로 범주형 데이터를 수치화(인코딩)해서 사용합니다.\n",
        "> - 범주형 데이터 수치화 방법 : 대표적으로 `라벨 인코딩(Label Encoding), 원핫 인코딩(One-hot Encoding)` 방법이 있습니다."
      ],
      "metadata": {
        "id": "9xhg8Dqwh-MR"
      }
    },
    {
      "cell_type": "code",
      "source": [
        "penguins_stand"
      ],
      "metadata": {
        "colab": {
          "base_uri": "https://localhost:8080/",
          "height": 483
        },
        "id": "_r3VKMwyh52q",
        "outputId": "1f74b694-d399-4473-de60-d68ae8c43fa2"
      },
      "execution_count": 15,
      "outputs": [
        {
          "output_type": "execute_result",
          "data": {
            "text/plain": [
              "    species     island  bill_length_mm  bill_depth_mm  flipper_length_mm  \\\n",
              "0    Adelie  Torgersen       -0.896042       0.780732          -1.426752   \n",
              "1    Adelie  Torgersen       -0.822788       0.119584          -1.069474   \n",
              "2    Adelie  Torgersen       -0.676280       0.424729          -0.426373   \n",
              "3    Adelie  Torgersen       -1.335566       1.085877          -0.569284   \n",
              "4    Adelie  Torgersen       -0.859415       1.747026          -0.783651   \n",
              "..      ...        ...             ...            ...                ...   \n",
              "328  Gentoo     Biscoe        0.587352      -1.762145           0.931283   \n",
              "329  Gentoo     Biscoe        0.514098      -1.457000           1.002739   \n",
              "330  Gentoo     Biscoe        1.173384      -0.744994           1.502928   \n",
              "331  Gentoo     Biscoe        0.221082      -1.202712           0.788372   \n",
              "332  Gentoo     Biscoe        1.081817      -0.541564           0.859828   \n",
              "\n",
              "     body_mass_g     sex  \n",
              "0      -0.568475    Male  \n",
              "1      -0.506286  Female  \n",
              "2      -1.190361  Female  \n",
              "3      -0.941606  Female  \n",
              "4      -0.692852    Male  \n",
              "..           ...     ...  \n",
              "328     0.892957  Female  \n",
              "329     0.799674  Female  \n",
              "330     1.919069    Male  \n",
              "331     1.234995  Female  \n",
              "332     1.483749    Male  \n",
              "\n",
              "[333 rows x 7 columns]"
            ],
            "text/html": [
              "\n",
              "  <div id=\"df-e292e518-88e6-42a1-aa35-98c7e80b867d\">\n",
              "    <div class=\"colab-df-container\">\n",
              "      <div>\n",
              "<style scoped>\n",
              "    .dataframe tbody tr th:only-of-type {\n",
              "        vertical-align: middle;\n",
              "    }\n",
              "\n",
              "    .dataframe tbody tr th {\n",
              "        vertical-align: top;\n",
              "    }\n",
              "\n",
              "    .dataframe thead th {\n",
              "        text-align: right;\n",
              "    }\n",
              "</style>\n",
              "<table border=\"1\" class=\"dataframe\">\n",
              "  <thead>\n",
              "    <tr style=\"text-align: right;\">\n",
              "      <th></th>\n",
              "      <th>species</th>\n",
              "      <th>island</th>\n",
              "      <th>bill_length_mm</th>\n",
              "      <th>bill_depth_mm</th>\n",
              "      <th>flipper_length_mm</th>\n",
              "      <th>body_mass_g</th>\n",
              "      <th>sex</th>\n",
              "    </tr>\n",
              "  </thead>\n",
              "  <tbody>\n",
              "    <tr>\n",
              "      <th>0</th>\n",
              "      <td>Adelie</td>\n",
              "      <td>Torgersen</td>\n",
              "      <td>-0.896042</td>\n",
              "      <td>0.780732</td>\n",
              "      <td>-1.426752</td>\n",
              "      <td>-0.568475</td>\n",
              "      <td>Male</td>\n",
              "    </tr>\n",
              "    <tr>\n",
              "      <th>1</th>\n",
              "      <td>Adelie</td>\n",
              "      <td>Torgersen</td>\n",
              "      <td>-0.822788</td>\n",
              "      <td>0.119584</td>\n",
              "      <td>-1.069474</td>\n",
              "      <td>-0.506286</td>\n",
              "      <td>Female</td>\n",
              "    </tr>\n",
              "    <tr>\n",
              "      <th>2</th>\n",
              "      <td>Adelie</td>\n",
              "      <td>Torgersen</td>\n",
              "      <td>-0.676280</td>\n",
              "      <td>0.424729</td>\n",
              "      <td>-0.426373</td>\n",
              "      <td>-1.190361</td>\n",
              "      <td>Female</td>\n",
              "    </tr>\n",
              "    <tr>\n",
              "      <th>3</th>\n",
              "      <td>Adelie</td>\n",
              "      <td>Torgersen</td>\n",
              "      <td>-1.335566</td>\n",
              "      <td>1.085877</td>\n",
              "      <td>-0.569284</td>\n",
              "      <td>-0.941606</td>\n",
              "      <td>Female</td>\n",
              "    </tr>\n",
              "    <tr>\n",
              "      <th>4</th>\n",
              "      <td>Adelie</td>\n",
              "      <td>Torgersen</td>\n",
              "      <td>-0.859415</td>\n",
              "      <td>1.747026</td>\n",
              "      <td>-0.783651</td>\n",
              "      <td>-0.692852</td>\n",
              "      <td>Male</td>\n",
              "    </tr>\n",
              "    <tr>\n",
              "      <th>...</th>\n",
              "      <td>...</td>\n",
              "      <td>...</td>\n",
              "      <td>...</td>\n",
              "      <td>...</td>\n",
              "      <td>...</td>\n",
              "      <td>...</td>\n",
              "      <td>...</td>\n",
              "    </tr>\n",
              "    <tr>\n",
              "      <th>328</th>\n",
              "      <td>Gentoo</td>\n",
              "      <td>Biscoe</td>\n",
              "      <td>0.587352</td>\n",
              "      <td>-1.762145</td>\n",
              "      <td>0.931283</td>\n",
              "      <td>0.892957</td>\n",
              "      <td>Female</td>\n",
              "    </tr>\n",
              "    <tr>\n",
              "      <th>329</th>\n",
              "      <td>Gentoo</td>\n",
              "      <td>Biscoe</td>\n",
              "      <td>0.514098</td>\n",
              "      <td>-1.457000</td>\n",
              "      <td>1.002739</td>\n",
              "      <td>0.799674</td>\n",
              "      <td>Female</td>\n",
              "    </tr>\n",
              "    <tr>\n",
              "      <th>330</th>\n",
              "      <td>Gentoo</td>\n",
              "      <td>Biscoe</td>\n",
              "      <td>1.173384</td>\n",
              "      <td>-0.744994</td>\n",
              "      <td>1.502928</td>\n",
              "      <td>1.919069</td>\n",
              "      <td>Male</td>\n",
              "    </tr>\n",
              "    <tr>\n",
              "      <th>331</th>\n",
              "      <td>Gentoo</td>\n",
              "      <td>Biscoe</td>\n",
              "      <td>0.221082</td>\n",
              "      <td>-1.202712</td>\n",
              "      <td>0.788372</td>\n",
              "      <td>1.234995</td>\n",
              "      <td>Female</td>\n",
              "    </tr>\n",
              "    <tr>\n",
              "      <th>332</th>\n",
              "      <td>Gentoo</td>\n",
              "      <td>Biscoe</td>\n",
              "      <td>1.081817</td>\n",
              "      <td>-0.541564</td>\n",
              "      <td>0.859828</td>\n",
              "      <td>1.483749</td>\n",
              "      <td>Male</td>\n",
              "    </tr>\n",
              "  </tbody>\n",
              "</table>\n",
              "<p>333 rows × 7 columns</p>\n",
              "</div>\n",
              "      <button class=\"colab-df-convert\" onclick=\"convertToInteractive('df-e292e518-88e6-42a1-aa35-98c7e80b867d')\"\n",
              "              title=\"Convert this dataframe to an interactive table.\"\n",
              "              style=\"display:none;\">\n",
              "        \n",
              "  <svg xmlns=\"http://www.w3.org/2000/svg\" height=\"24px\"viewBox=\"0 0 24 24\"\n",
              "       width=\"24px\">\n",
              "    <path d=\"M0 0h24v24H0V0z\" fill=\"none\"/>\n",
              "    <path d=\"M18.56 5.44l.94 2.06.94-2.06 2.06-.94-2.06-.94-.94-2.06-.94 2.06-2.06.94zm-11 1L8.5 8.5l.94-2.06 2.06-.94-2.06-.94L8.5 2.5l-.94 2.06-2.06.94zm10 10l.94 2.06.94-2.06 2.06-.94-2.06-.94-.94-2.06-.94 2.06-2.06.94z\"/><path d=\"M17.41 7.96l-1.37-1.37c-.4-.4-.92-.59-1.43-.59-.52 0-1.04.2-1.43.59L10.3 9.45l-7.72 7.72c-.78.78-.78 2.05 0 2.83L4 21.41c.39.39.9.59 1.41.59.51 0 1.02-.2 1.41-.59l7.78-7.78 2.81-2.81c.8-.78.8-2.07 0-2.86zM5.41 20L4 18.59l7.72-7.72 1.47 1.35L5.41 20z\"/>\n",
              "  </svg>\n",
              "      </button>\n",
              "      \n",
              "  <style>\n",
              "    .colab-df-container {\n",
              "      display:flex;\n",
              "      flex-wrap:wrap;\n",
              "      gap: 12px;\n",
              "    }\n",
              "\n",
              "    .colab-df-convert {\n",
              "      background-color: #E8F0FE;\n",
              "      border: none;\n",
              "      border-radius: 50%;\n",
              "      cursor: pointer;\n",
              "      display: none;\n",
              "      fill: #1967D2;\n",
              "      height: 32px;\n",
              "      padding: 0 0 0 0;\n",
              "      width: 32px;\n",
              "    }\n",
              "\n",
              "    .colab-df-convert:hover {\n",
              "      background-color: #E2EBFA;\n",
              "      box-shadow: 0px 1px 2px rgba(60, 64, 67, 0.3), 0px 1px 3px 1px rgba(60, 64, 67, 0.15);\n",
              "      fill: #174EA6;\n",
              "    }\n",
              "\n",
              "    [theme=dark] .colab-df-convert {\n",
              "      background-color: #3B4455;\n",
              "      fill: #D2E3FC;\n",
              "    }\n",
              "\n",
              "    [theme=dark] .colab-df-convert:hover {\n",
              "      background-color: #434B5C;\n",
              "      box-shadow: 0px 1px 3px 1px rgba(0, 0, 0, 0.15);\n",
              "      filter: drop-shadow(0px 1px 2px rgba(0, 0, 0, 0.3));\n",
              "      fill: #FFFFFF;\n",
              "    }\n",
              "  </style>\n",
              "\n",
              "      <script>\n",
              "        const buttonEl =\n",
              "          document.querySelector('#df-e292e518-88e6-42a1-aa35-98c7e80b867d button.colab-df-convert');\n",
              "        buttonEl.style.display =\n",
              "          google.colab.kernel.accessAllowed ? 'block' : 'none';\n",
              "\n",
              "        async function convertToInteractive(key) {\n",
              "          const element = document.querySelector('#df-e292e518-88e6-42a1-aa35-98c7e80b867d');\n",
              "          const dataTable =\n",
              "            await google.colab.kernel.invokeFunction('convertToInteractive',\n",
              "                                                     [key], {});\n",
              "          if (!dataTable) return;\n",
              "\n",
              "          const docLinkHtml = 'Like what you see? Visit the ' +\n",
              "            '<a target=\"_blank\" href=https://colab.research.google.com/notebooks/data_table.ipynb>data table notebook</a>'\n",
              "            + ' to learn more about interactive tables.';\n",
              "          element.innerHTML = '';\n",
              "          dataTable['output_type'] = 'display_data';\n",
              "          await google.colab.output.renderOutput(dataTable, element);\n",
              "          const docLink = document.createElement('div');\n",
              "          docLink.innerHTML = docLinkHtml;\n",
              "          element.appendChild(docLink);\n",
              "        }\n",
              "      </script>\n",
              "    </div>\n",
              "  </div>\n",
              "  "
            ]
          },
          "metadata": {},
          "execution_count": 15
        }
      ]
    },
    {
      "cell_type": "code",
      "source": [
        "penguins_stand['island'].unique()\n",
        "# 3가지의 value 존재    "
      ],
      "metadata": {
        "colab": {
          "base_uri": "https://localhost:8080/"
        },
        "id": "4SUxQQfHie54",
        "outputId": "2501871b-0ea9-4cc8-c331-acd0bfb7dbc9"
      },
      "execution_count": 16,
      "outputs": [
        {
          "output_type": "execute_result",
          "data": {
            "text/plain": [
              "array(['Torgersen', 'Biscoe', 'Dream'], dtype=object)"
            ]
          },
          "metadata": {},
          "execution_count": 16
        }
      ]
    },
    {
      "cell_type": "code",
      "source": [
        "penguins_stand['sex'].unique()\n",
        "# 남/녀 2개 존재"
      ],
      "metadata": {
        "colab": {
          "base_uri": "https://localhost:8080/"
        },
        "id": "RpGvsl33i5VQ",
        "outputId": "4cf95208-b498-4da6-93d3-46c553cf432d"
      },
      "execution_count": 17,
      "outputs": [
        {
          "output_type": "execute_result",
          "data": {
            "text/plain": [
              "array(['Male', 'Female'], dtype=object)"
            ]
          },
          "metadata": {},
          "execution_count": 17
        }
      ]
    },
    {
      "cell_type": "markdown",
      "source": [
        "> 라벨 인코딩 (`Label Encoding`)\n",
        "> - 범주형 데이터의 범주 가짓수에 따라 숫자를 할당해주는 방법입니다."
      ],
      "metadata": {
        "id": "MDmibRZVjDPc"
      }
    },
    {
      "cell_type": "code",
      "source": [
        "from sklearn.preprocessing import LabelEncoder # 라이브러리 로딩\n",
        "encoder = LabelEncoder() \n",
        "\n",
        "penguins_label = penguins_stand.copy()\n",
        "features = penguins_label[['species', 'island', 'sex']] # 인코딩 할 대상\n",
        "encoded = features.apply(encoder.fit_transform)\n",
        "encoded"
      ],
      "metadata": {
        "colab": {
          "base_uri": "https://localhost:8080/",
          "height": 419
        },
        "id": "AY2Gq2lPi_gB",
        "outputId": "6366dfc7-93f6-4e5d-cae7-d475ed293cd7"
      },
      "execution_count": 18,
      "outputs": [
        {
          "output_type": "execute_result",
          "data": {
            "text/plain": [
              "     species  island  sex\n",
              "0          0       2    1\n",
              "1          0       2    0\n",
              "2          0       2    0\n",
              "3          0       2    0\n",
              "4          0       2    1\n",
              "..       ...     ...  ...\n",
              "328        2       0    0\n",
              "329        2       0    0\n",
              "330        2       0    1\n",
              "331        2       0    0\n",
              "332        2       0    1\n",
              "\n",
              "[333 rows x 3 columns]"
            ],
            "text/html": [
              "\n",
              "  <div id=\"df-388d8bfd-45b5-4272-bd1b-c2cd83c3e2f9\">\n",
              "    <div class=\"colab-df-container\">\n",
              "      <div>\n",
              "<style scoped>\n",
              "    .dataframe tbody tr th:only-of-type {\n",
              "        vertical-align: middle;\n",
              "    }\n",
              "\n",
              "    .dataframe tbody tr th {\n",
              "        vertical-align: top;\n",
              "    }\n",
              "\n",
              "    .dataframe thead th {\n",
              "        text-align: right;\n",
              "    }\n",
              "</style>\n",
              "<table border=\"1\" class=\"dataframe\">\n",
              "  <thead>\n",
              "    <tr style=\"text-align: right;\">\n",
              "      <th></th>\n",
              "      <th>species</th>\n",
              "      <th>island</th>\n",
              "      <th>sex</th>\n",
              "    </tr>\n",
              "  </thead>\n",
              "  <tbody>\n",
              "    <tr>\n",
              "      <th>0</th>\n",
              "      <td>0</td>\n",
              "      <td>2</td>\n",
              "      <td>1</td>\n",
              "    </tr>\n",
              "    <tr>\n",
              "      <th>1</th>\n",
              "      <td>0</td>\n",
              "      <td>2</td>\n",
              "      <td>0</td>\n",
              "    </tr>\n",
              "    <tr>\n",
              "      <th>2</th>\n",
              "      <td>0</td>\n",
              "      <td>2</td>\n",
              "      <td>0</td>\n",
              "    </tr>\n",
              "    <tr>\n",
              "      <th>3</th>\n",
              "      <td>0</td>\n",
              "      <td>2</td>\n",
              "      <td>0</td>\n",
              "    </tr>\n",
              "    <tr>\n",
              "      <th>4</th>\n",
              "      <td>0</td>\n",
              "      <td>2</td>\n",
              "      <td>1</td>\n",
              "    </tr>\n",
              "    <tr>\n",
              "      <th>...</th>\n",
              "      <td>...</td>\n",
              "      <td>...</td>\n",
              "      <td>...</td>\n",
              "    </tr>\n",
              "    <tr>\n",
              "      <th>328</th>\n",
              "      <td>2</td>\n",
              "      <td>0</td>\n",
              "      <td>0</td>\n",
              "    </tr>\n",
              "    <tr>\n",
              "      <th>329</th>\n",
              "      <td>2</td>\n",
              "      <td>0</td>\n",
              "      <td>0</td>\n",
              "    </tr>\n",
              "    <tr>\n",
              "      <th>330</th>\n",
              "      <td>2</td>\n",
              "      <td>0</td>\n",
              "      <td>1</td>\n",
              "    </tr>\n",
              "    <tr>\n",
              "      <th>331</th>\n",
              "      <td>2</td>\n",
              "      <td>0</td>\n",
              "      <td>0</td>\n",
              "    </tr>\n",
              "    <tr>\n",
              "      <th>332</th>\n",
              "      <td>2</td>\n",
              "      <td>0</td>\n",
              "      <td>1</td>\n",
              "    </tr>\n",
              "  </tbody>\n",
              "</table>\n",
              "<p>333 rows × 3 columns</p>\n",
              "</div>\n",
              "      <button class=\"colab-df-convert\" onclick=\"convertToInteractive('df-388d8bfd-45b5-4272-bd1b-c2cd83c3e2f9')\"\n",
              "              title=\"Convert this dataframe to an interactive table.\"\n",
              "              style=\"display:none;\">\n",
              "        \n",
              "  <svg xmlns=\"http://www.w3.org/2000/svg\" height=\"24px\"viewBox=\"0 0 24 24\"\n",
              "       width=\"24px\">\n",
              "    <path d=\"M0 0h24v24H0V0z\" fill=\"none\"/>\n",
              "    <path d=\"M18.56 5.44l.94 2.06.94-2.06 2.06-.94-2.06-.94-.94-2.06-.94 2.06-2.06.94zm-11 1L8.5 8.5l.94-2.06 2.06-.94-2.06-.94L8.5 2.5l-.94 2.06-2.06.94zm10 10l.94 2.06.94-2.06 2.06-.94-2.06-.94-.94-2.06-.94 2.06-2.06.94z\"/><path d=\"M17.41 7.96l-1.37-1.37c-.4-.4-.92-.59-1.43-.59-.52 0-1.04.2-1.43.59L10.3 9.45l-7.72 7.72c-.78.78-.78 2.05 0 2.83L4 21.41c.39.39.9.59 1.41.59.51 0 1.02-.2 1.41-.59l7.78-7.78 2.81-2.81c.8-.78.8-2.07 0-2.86zM5.41 20L4 18.59l7.72-7.72 1.47 1.35L5.41 20z\"/>\n",
              "  </svg>\n",
              "      </button>\n",
              "      \n",
              "  <style>\n",
              "    .colab-df-container {\n",
              "      display:flex;\n",
              "      flex-wrap:wrap;\n",
              "      gap: 12px;\n",
              "    }\n",
              "\n",
              "    .colab-df-convert {\n",
              "      background-color: #E8F0FE;\n",
              "      border: none;\n",
              "      border-radius: 50%;\n",
              "      cursor: pointer;\n",
              "      display: none;\n",
              "      fill: #1967D2;\n",
              "      height: 32px;\n",
              "      padding: 0 0 0 0;\n",
              "      width: 32px;\n",
              "    }\n",
              "\n",
              "    .colab-df-convert:hover {\n",
              "      background-color: #E2EBFA;\n",
              "      box-shadow: 0px 1px 2px rgba(60, 64, 67, 0.3), 0px 1px 3px 1px rgba(60, 64, 67, 0.15);\n",
              "      fill: #174EA6;\n",
              "    }\n",
              "\n",
              "    [theme=dark] .colab-df-convert {\n",
              "      background-color: #3B4455;\n",
              "      fill: #D2E3FC;\n",
              "    }\n",
              "\n",
              "    [theme=dark] .colab-df-convert:hover {\n",
              "      background-color: #434B5C;\n",
              "      box-shadow: 0px 1px 3px 1px rgba(0, 0, 0, 0.15);\n",
              "      filter: drop-shadow(0px 1px 2px rgba(0, 0, 0, 0.3));\n",
              "      fill: #FFFFFF;\n",
              "    }\n",
              "  </style>\n",
              "\n",
              "      <script>\n",
              "        const buttonEl =\n",
              "          document.querySelector('#df-388d8bfd-45b5-4272-bd1b-c2cd83c3e2f9 button.colab-df-convert');\n",
              "        buttonEl.style.display =\n",
              "          google.colab.kernel.accessAllowed ? 'block' : 'none';\n",
              "\n",
              "        async function convertToInteractive(key) {\n",
              "          const element = document.querySelector('#df-388d8bfd-45b5-4272-bd1b-c2cd83c3e2f9');\n",
              "          const dataTable =\n",
              "            await google.colab.kernel.invokeFunction('convertToInteractive',\n",
              "                                                     [key], {});\n",
              "          if (!dataTable) return;\n",
              "\n",
              "          const docLinkHtml = 'Like what you see? Visit the ' +\n",
              "            '<a target=\"_blank\" href=https://colab.research.google.com/notebooks/data_table.ipynb>data table notebook</a>'\n",
              "            + ' to learn more about interactive tables.';\n",
              "          element.innerHTML = '';\n",
              "          dataTable['output_type'] = 'display_data';\n",
              "          await google.colab.output.renderOutput(dataTable, element);\n",
              "          const docLink = document.createElement('div');\n",
              "          docLink.innerHTML = docLinkHtml;\n",
              "          element.appendChild(docLink);\n",
              "        }\n",
              "      </script>\n",
              "    </div>\n",
              "  </div>\n",
              "  "
            ]
          },
          "metadata": {},
          "execution_count": 18
        }
      ]
    },
    {
      "cell_type": "code",
      "source": [
        "# 수치형 데이터로 바꾸지\n",
        "penguins_label = penguins_label.assign(species = encoded['species'],\n",
        "                                       island = encoded['island'],\n",
        "                                       sex = encoded['sex'])\n",
        "\n",
        "penguins_label"
      ],
      "metadata": {
        "colab": {
          "base_uri": "https://localhost:8080/",
          "height": 483
        },
        "id": "ZcwwszPXmBXo",
        "outputId": "94fb0b32-34d3-489c-d684-e903561bec89"
      },
      "execution_count": 19,
      "outputs": [
        {
          "output_type": "execute_result",
          "data": {
            "text/plain": [
              "     species  island  bill_length_mm  bill_depth_mm  flipper_length_mm  \\\n",
              "0          0       2       -0.896042       0.780732          -1.426752   \n",
              "1          0       2       -0.822788       0.119584          -1.069474   \n",
              "2          0       2       -0.676280       0.424729          -0.426373   \n",
              "3          0       2       -1.335566       1.085877          -0.569284   \n",
              "4          0       2       -0.859415       1.747026          -0.783651   \n",
              "..       ...     ...             ...            ...                ...   \n",
              "328        2       0        0.587352      -1.762145           0.931283   \n",
              "329        2       0        0.514098      -1.457000           1.002739   \n",
              "330        2       0        1.173384      -0.744994           1.502928   \n",
              "331        2       0        0.221082      -1.202712           0.788372   \n",
              "332        2       0        1.081817      -0.541564           0.859828   \n",
              "\n",
              "     body_mass_g  sex  \n",
              "0      -0.568475    1  \n",
              "1      -0.506286    0  \n",
              "2      -1.190361    0  \n",
              "3      -0.941606    0  \n",
              "4      -0.692852    1  \n",
              "..           ...  ...  \n",
              "328     0.892957    0  \n",
              "329     0.799674    0  \n",
              "330     1.919069    1  \n",
              "331     1.234995    0  \n",
              "332     1.483749    1  \n",
              "\n",
              "[333 rows x 7 columns]"
            ],
            "text/html": [
              "\n",
              "  <div id=\"df-713a7865-03e5-46ca-a89b-88ec93f7e5a2\">\n",
              "    <div class=\"colab-df-container\">\n",
              "      <div>\n",
              "<style scoped>\n",
              "    .dataframe tbody tr th:only-of-type {\n",
              "        vertical-align: middle;\n",
              "    }\n",
              "\n",
              "    .dataframe tbody tr th {\n",
              "        vertical-align: top;\n",
              "    }\n",
              "\n",
              "    .dataframe thead th {\n",
              "        text-align: right;\n",
              "    }\n",
              "</style>\n",
              "<table border=\"1\" class=\"dataframe\">\n",
              "  <thead>\n",
              "    <tr style=\"text-align: right;\">\n",
              "      <th></th>\n",
              "      <th>species</th>\n",
              "      <th>island</th>\n",
              "      <th>bill_length_mm</th>\n",
              "      <th>bill_depth_mm</th>\n",
              "      <th>flipper_length_mm</th>\n",
              "      <th>body_mass_g</th>\n",
              "      <th>sex</th>\n",
              "    </tr>\n",
              "  </thead>\n",
              "  <tbody>\n",
              "    <tr>\n",
              "      <th>0</th>\n",
              "      <td>0</td>\n",
              "      <td>2</td>\n",
              "      <td>-0.896042</td>\n",
              "      <td>0.780732</td>\n",
              "      <td>-1.426752</td>\n",
              "      <td>-0.568475</td>\n",
              "      <td>1</td>\n",
              "    </tr>\n",
              "    <tr>\n",
              "      <th>1</th>\n",
              "      <td>0</td>\n",
              "      <td>2</td>\n",
              "      <td>-0.822788</td>\n",
              "      <td>0.119584</td>\n",
              "      <td>-1.069474</td>\n",
              "      <td>-0.506286</td>\n",
              "      <td>0</td>\n",
              "    </tr>\n",
              "    <tr>\n",
              "      <th>2</th>\n",
              "      <td>0</td>\n",
              "      <td>2</td>\n",
              "      <td>-0.676280</td>\n",
              "      <td>0.424729</td>\n",
              "      <td>-0.426373</td>\n",
              "      <td>-1.190361</td>\n",
              "      <td>0</td>\n",
              "    </tr>\n",
              "    <tr>\n",
              "      <th>3</th>\n",
              "      <td>0</td>\n",
              "      <td>2</td>\n",
              "      <td>-1.335566</td>\n",
              "      <td>1.085877</td>\n",
              "      <td>-0.569284</td>\n",
              "      <td>-0.941606</td>\n",
              "      <td>0</td>\n",
              "    </tr>\n",
              "    <tr>\n",
              "      <th>4</th>\n",
              "      <td>0</td>\n",
              "      <td>2</td>\n",
              "      <td>-0.859415</td>\n",
              "      <td>1.747026</td>\n",
              "      <td>-0.783651</td>\n",
              "      <td>-0.692852</td>\n",
              "      <td>1</td>\n",
              "    </tr>\n",
              "    <tr>\n",
              "      <th>...</th>\n",
              "      <td>...</td>\n",
              "      <td>...</td>\n",
              "      <td>...</td>\n",
              "      <td>...</td>\n",
              "      <td>...</td>\n",
              "      <td>...</td>\n",
              "      <td>...</td>\n",
              "    </tr>\n",
              "    <tr>\n",
              "      <th>328</th>\n",
              "      <td>2</td>\n",
              "      <td>0</td>\n",
              "      <td>0.587352</td>\n",
              "      <td>-1.762145</td>\n",
              "      <td>0.931283</td>\n",
              "      <td>0.892957</td>\n",
              "      <td>0</td>\n",
              "    </tr>\n",
              "    <tr>\n",
              "      <th>329</th>\n",
              "      <td>2</td>\n",
              "      <td>0</td>\n",
              "      <td>0.514098</td>\n",
              "      <td>-1.457000</td>\n",
              "      <td>1.002739</td>\n",
              "      <td>0.799674</td>\n",
              "      <td>0</td>\n",
              "    </tr>\n",
              "    <tr>\n",
              "      <th>330</th>\n",
              "      <td>2</td>\n",
              "      <td>0</td>\n",
              "      <td>1.173384</td>\n",
              "      <td>-0.744994</td>\n",
              "      <td>1.502928</td>\n",
              "      <td>1.919069</td>\n",
              "      <td>1</td>\n",
              "    </tr>\n",
              "    <tr>\n",
              "      <th>331</th>\n",
              "      <td>2</td>\n",
              "      <td>0</td>\n",
              "      <td>0.221082</td>\n",
              "      <td>-1.202712</td>\n",
              "      <td>0.788372</td>\n",
              "      <td>1.234995</td>\n",
              "      <td>0</td>\n",
              "    </tr>\n",
              "    <tr>\n",
              "      <th>332</th>\n",
              "      <td>2</td>\n",
              "      <td>0</td>\n",
              "      <td>1.081817</td>\n",
              "      <td>-0.541564</td>\n",
              "      <td>0.859828</td>\n",
              "      <td>1.483749</td>\n",
              "      <td>1</td>\n",
              "    </tr>\n",
              "  </tbody>\n",
              "</table>\n",
              "<p>333 rows × 7 columns</p>\n",
              "</div>\n",
              "      <button class=\"colab-df-convert\" onclick=\"convertToInteractive('df-713a7865-03e5-46ca-a89b-88ec93f7e5a2')\"\n",
              "              title=\"Convert this dataframe to an interactive table.\"\n",
              "              style=\"display:none;\">\n",
              "        \n",
              "  <svg xmlns=\"http://www.w3.org/2000/svg\" height=\"24px\"viewBox=\"0 0 24 24\"\n",
              "       width=\"24px\">\n",
              "    <path d=\"M0 0h24v24H0V0z\" fill=\"none\"/>\n",
              "    <path d=\"M18.56 5.44l.94 2.06.94-2.06 2.06-.94-2.06-.94-.94-2.06-.94 2.06-2.06.94zm-11 1L8.5 8.5l.94-2.06 2.06-.94-2.06-.94L8.5 2.5l-.94 2.06-2.06.94zm10 10l.94 2.06.94-2.06 2.06-.94-2.06-.94-.94-2.06-.94 2.06-2.06.94z\"/><path d=\"M17.41 7.96l-1.37-1.37c-.4-.4-.92-.59-1.43-.59-.52 0-1.04.2-1.43.59L10.3 9.45l-7.72 7.72c-.78.78-.78 2.05 0 2.83L4 21.41c.39.39.9.59 1.41.59.51 0 1.02-.2 1.41-.59l7.78-7.78 2.81-2.81c.8-.78.8-2.07 0-2.86zM5.41 20L4 18.59l7.72-7.72 1.47 1.35L5.41 20z\"/>\n",
              "  </svg>\n",
              "      </button>\n",
              "      \n",
              "  <style>\n",
              "    .colab-df-container {\n",
              "      display:flex;\n",
              "      flex-wrap:wrap;\n",
              "      gap: 12px;\n",
              "    }\n",
              "\n",
              "    .colab-df-convert {\n",
              "      background-color: #E8F0FE;\n",
              "      border: none;\n",
              "      border-radius: 50%;\n",
              "      cursor: pointer;\n",
              "      display: none;\n",
              "      fill: #1967D2;\n",
              "      height: 32px;\n",
              "      padding: 0 0 0 0;\n",
              "      width: 32px;\n",
              "    }\n",
              "\n",
              "    .colab-df-convert:hover {\n",
              "      background-color: #E2EBFA;\n",
              "      box-shadow: 0px 1px 2px rgba(60, 64, 67, 0.3), 0px 1px 3px 1px rgba(60, 64, 67, 0.15);\n",
              "      fill: #174EA6;\n",
              "    }\n",
              "\n",
              "    [theme=dark] .colab-df-convert {\n",
              "      background-color: #3B4455;\n",
              "      fill: #D2E3FC;\n",
              "    }\n",
              "\n",
              "    [theme=dark] .colab-df-convert:hover {\n",
              "      background-color: #434B5C;\n",
              "      box-shadow: 0px 1px 3px 1px rgba(0, 0, 0, 0.15);\n",
              "      filter: drop-shadow(0px 1px 2px rgba(0, 0, 0, 0.3));\n",
              "      fill: #FFFFFF;\n",
              "    }\n",
              "  </style>\n",
              "\n",
              "      <script>\n",
              "        const buttonEl =\n",
              "          document.querySelector('#df-713a7865-03e5-46ca-a89b-88ec93f7e5a2 button.colab-df-convert');\n",
              "        buttonEl.style.display =\n",
              "          google.colab.kernel.accessAllowed ? 'block' : 'none';\n",
              "\n",
              "        async function convertToInteractive(key) {\n",
              "          const element = document.querySelector('#df-713a7865-03e5-46ca-a89b-88ec93f7e5a2');\n",
              "          const dataTable =\n",
              "            await google.colab.kernel.invokeFunction('convertToInteractive',\n",
              "                                                     [key], {});\n",
              "          if (!dataTable) return;\n",
              "\n",
              "          const docLinkHtml = 'Like what you see? Visit the ' +\n",
              "            '<a target=\"_blank\" href=https://colab.research.google.com/notebooks/data_table.ipynb>data table notebook</a>'\n",
              "            + ' to learn more about interactive tables.';\n",
              "          element.innerHTML = '';\n",
              "          dataTable['output_type'] = 'display_data';\n",
              "          await google.colab.output.renderOutput(dataTable, element);\n",
              "          const docLink = document.createElement('div');\n",
              "          docLink.innerHTML = docLinkHtml;\n",
              "          element.appendChild(docLink);\n",
              "        }\n",
              "      </script>\n",
              "    </div>\n",
              "  </div>\n",
              "  "
            ]
          },
          "metadata": {},
          "execution_count": 19
        }
      ]
    },
    {
      "cell_type": "markdown",
      "source": [
        "> 원 핫 인코딩 (`One Hot Encoding`)\n",
        "> - 범주형 데이터의 범주 가짓수에 컬럼을 추가 해주는 방법입니다.\n",
        "> - 범주에 포함되는 컬럼에 1을 부여하고 다른 컬럼을 0을 부여한다."
      ],
      "metadata": {
        "id": "8KngjDfWmb1q"
      }
    },
    {
      "cell_type": "code",
      "source": [
        "from sklearn.preprocessing import OneHotEncoder\n",
        "encoder = OneHotEncoder()\n",
        "\n",
        "penguins_onehot = penguins_stand.copy()\n",
        "features = penguins_onehot[['species', 'island', 'sex']]\n",
        "encoded = encoder.fit_transform(features).toarray() "
      ],
      "metadata": {
        "id": "kBXs8bdimVqI"
      },
      "execution_count": 20,
      "outputs": []
    },
    {
      "cell_type": "code",
      "source": [
        "encoded"
      ],
      "metadata": {
        "colab": {
          "base_uri": "https://localhost:8080/"
        },
        "id": "xETgfqVjnCqx",
        "outputId": "3d34ad88-175f-4d27-aeaf-1631ac4bdd7f"
      },
      "execution_count": 21,
      "outputs": [
        {
          "output_type": "execute_result",
          "data": {
            "text/plain": [
              "array([[1., 0., 0., ..., 1., 0., 1.],\n",
              "       [1., 0., 0., ..., 1., 1., 0.],\n",
              "       [1., 0., 0., ..., 1., 1., 0.],\n",
              "       ...,\n",
              "       [0., 0., 1., ..., 0., 0., 1.],\n",
              "       [0., 0., 1., ..., 0., 1., 0.],\n",
              "       [0., 0., 1., ..., 0., 0., 1.]])"
            ]
          },
          "metadata": {},
          "execution_count": 21
        }
      ]
    },
    {
      "cell_type": "code",
      "source": [
        "encoder.categories_"
      ],
      "metadata": {
        "colab": {
          "base_uri": "https://localhost:8080/"
        },
        "id": "ZY2Znlc0nJ5I",
        "outputId": "771f4e74-6e9f-43a3-c93e-9fde95c87c69"
      },
      "execution_count": 22,
      "outputs": [
        {
          "output_type": "execute_result",
          "data": {
            "text/plain": [
              "[array(['Adelie', 'Chinstrap', 'Gentoo'], dtype=object),\n",
              " array(['Biscoe', 'Dream', 'Torgersen'], dtype=object),\n",
              " array(['Female', 'Male'], dtype=object)]"
            ]
          },
          "metadata": {},
          "execution_count": 22
        }
      ]
    },
    {
      "cell_type": "code",
      "source": [
        "# 기존 범주형 컬럼 버리기\n",
        "penguins_onehot = penguins_onehot.drop(columns=['species', 'island', 'sex'])\n",
        "\n",
        "#인코딩 결과 프레임 생성\n",
        "encoded_df = pd.DataFrame(encoded)\n",
        "encoded_df.columns = encoder.get_feature_names_out()\n",
        "\n",
        "#기존 데이터 프레임과 결함\n",
        "penguins_onehot = pd.concat([penguins_onehot, encoded_df], axis=1)"
      ],
      "metadata": {
        "id": "ZoZxyyIhnOXv"
      },
      "execution_count": 23,
      "outputs": []
    },
    {
      "cell_type": "code",
      "source": [
        "penguins_onehot"
      ],
      "metadata": {
        "colab": {
          "base_uri": "https://localhost:8080/",
          "height": 483
        },
        "id": "tidt08IOoxr5",
        "outputId": "49b898f2-9346-4d50-cb85-45a5a22525fd"
      },
      "execution_count": 24,
      "outputs": [
        {
          "output_type": "execute_result",
          "data": {
            "text/plain": [
              "     bill_length_mm  bill_depth_mm  flipper_length_mm  body_mass_g  \\\n",
              "0         -0.896042       0.780732          -1.426752    -0.568475   \n",
              "1         -0.822788       0.119584          -1.069474    -0.506286   \n",
              "2         -0.676280       0.424729          -0.426373    -1.190361   \n",
              "3         -1.335566       1.085877          -0.569284    -0.941606   \n",
              "4         -0.859415       1.747026          -0.783651    -0.692852   \n",
              "..              ...            ...                ...          ...   \n",
              "328        0.587352      -1.762145           0.931283     0.892957   \n",
              "329        0.514098      -1.457000           1.002739     0.799674   \n",
              "330        1.173384      -0.744994           1.502928     1.919069   \n",
              "331        0.221082      -1.202712           0.788372     1.234995   \n",
              "332        1.081817      -0.541564           0.859828     1.483749   \n",
              "\n",
              "     species_Adelie  species_Chinstrap  species_Gentoo  island_Biscoe  \\\n",
              "0               1.0                0.0             0.0            0.0   \n",
              "1               1.0                0.0             0.0            0.0   \n",
              "2               1.0                0.0             0.0            0.0   \n",
              "3               1.0                0.0             0.0            0.0   \n",
              "4               1.0                0.0             0.0            0.0   \n",
              "..              ...                ...             ...            ...   \n",
              "328             0.0                0.0             1.0            1.0   \n",
              "329             0.0                0.0             1.0            1.0   \n",
              "330             0.0                0.0             1.0            1.0   \n",
              "331             0.0                0.0             1.0            1.0   \n",
              "332             0.0                0.0             1.0            1.0   \n",
              "\n",
              "     island_Dream  island_Torgersen  sex_Female  sex_Male  \n",
              "0             0.0               1.0         0.0       1.0  \n",
              "1             0.0               1.0         1.0       0.0  \n",
              "2             0.0               1.0         1.0       0.0  \n",
              "3             0.0               1.0         1.0       0.0  \n",
              "4             0.0               1.0         0.0       1.0  \n",
              "..            ...               ...         ...       ...  \n",
              "328           0.0               0.0         1.0       0.0  \n",
              "329           0.0               0.0         1.0       0.0  \n",
              "330           0.0               0.0         0.0       1.0  \n",
              "331           0.0               0.0         1.0       0.0  \n",
              "332           0.0               0.0         0.0       1.0  \n",
              "\n",
              "[333 rows x 12 columns]"
            ],
            "text/html": [
              "\n",
              "  <div id=\"df-04d98af7-3230-42dc-ad62-1856a40e678b\">\n",
              "    <div class=\"colab-df-container\">\n",
              "      <div>\n",
              "<style scoped>\n",
              "    .dataframe tbody tr th:only-of-type {\n",
              "        vertical-align: middle;\n",
              "    }\n",
              "\n",
              "    .dataframe tbody tr th {\n",
              "        vertical-align: top;\n",
              "    }\n",
              "\n",
              "    .dataframe thead th {\n",
              "        text-align: right;\n",
              "    }\n",
              "</style>\n",
              "<table border=\"1\" class=\"dataframe\">\n",
              "  <thead>\n",
              "    <tr style=\"text-align: right;\">\n",
              "      <th></th>\n",
              "      <th>bill_length_mm</th>\n",
              "      <th>bill_depth_mm</th>\n",
              "      <th>flipper_length_mm</th>\n",
              "      <th>body_mass_g</th>\n",
              "      <th>species_Adelie</th>\n",
              "      <th>species_Chinstrap</th>\n",
              "      <th>species_Gentoo</th>\n",
              "      <th>island_Biscoe</th>\n",
              "      <th>island_Dream</th>\n",
              "      <th>island_Torgersen</th>\n",
              "      <th>sex_Female</th>\n",
              "      <th>sex_Male</th>\n",
              "    </tr>\n",
              "  </thead>\n",
              "  <tbody>\n",
              "    <tr>\n",
              "      <th>0</th>\n",
              "      <td>-0.896042</td>\n",
              "      <td>0.780732</td>\n",
              "      <td>-1.426752</td>\n",
              "      <td>-0.568475</td>\n",
              "      <td>1.0</td>\n",
              "      <td>0.0</td>\n",
              "      <td>0.0</td>\n",
              "      <td>0.0</td>\n",
              "      <td>0.0</td>\n",
              "      <td>1.0</td>\n",
              "      <td>0.0</td>\n",
              "      <td>1.0</td>\n",
              "    </tr>\n",
              "    <tr>\n",
              "      <th>1</th>\n",
              "      <td>-0.822788</td>\n",
              "      <td>0.119584</td>\n",
              "      <td>-1.069474</td>\n",
              "      <td>-0.506286</td>\n",
              "      <td>1.0</td>\n",
              "      <td>0.0</td>\n",
              "      <td>0.0</td>\n",
              "      <td>0.0</td>\n",
              "      <td>0.0</td>\n",
              "      <td>1.0</td>\n",
              "      <td>1.0</td>\n",
              "      <td>0.0</td>\n",
              "    </tr>\n",
              "    <tr>\n",
              "      <th>2</th>\n",
              "      <td>-0.676280</td>\n",
              "      <td>0.424729</td>\n",
              "      <td>-0.426373</td>\n",
              "      <td>-1.190361</td>\n",
              "      <td>1.0</td>\n",
              "      <td>0.0</td>\n",
              "      <td>0.0</td>\n",
              "      <td>0.0</td>\n",
              "      <td>0.0</td>\n",
              "      <td>1.0</td>\n",
              "      <td>1.0</td>\n",
              "      <td>0.0</td>\n",
              "    </tr>\n",
              "    <tr>\n",
              "      <th>3</th>\n",
              "      <td>-1.335566</td>\n",
              "      <td>1.085877</td>\n",
              "      <td>-0.569284</td>\n",
              "      <td>-0.941606</td>\n",
              "      <td>1.0</td>\n",
              "      <td>0.0</td>\n",
              "      <td>0.0</td>\n",
              "      <td>0.0</td>\n",
              "      <td>0.0</td>\n",
              "      <td>1.0</td>\n",
              "      <td>1.0</td>\n",
              "      <td>0.0</td>\n",
              "    </tr>\n",
              "    <tr>\n",
              "      <th>4</th>\n",
              "      <td>-0.859415</td>\n",
              "      <td>1.747026</td>\n",
              "      <td>-0.783651</td>\n",
              "      <td>-0.692852</td>\n",
              "      <td>1.0</td>\n",
              "      <td>0.0</td>\n",
              "      <td>0.0</td>\n",
              "      <td>0.0</td>\n",
              "      <td>0.0</td>\n",
              "      <td>1.0</td>\n",
              "      <td>0.0</td>\n",
              "      <td>1.0</td>\n",
              "    </tr>\n",
              "    <tr>\n",
              "      <th>...</th>\n",
              "      <td>...</td>\n",
              "      <td>...</td>\n",
              "      <td>...</td>\n",
              "      <td>...</td>\n",
              "      <td>...</td>\n",
              "      <td>...</td>\n",
              "      <td>...</td>\n",
              "      <td>...</td>\n",
              "      <td>...</td>\n",
              "      <td>...</td>\n",
              "      <td>...</td>\n",
              "      <td>...</td>\n",
              "    </tr>\n",
              "    <tr>\n",
              "      <th>328</th>\n",
              "      <td>0.587352</td>\n",
              "      <td>-1.762145</td>\n",
              "      <td>0.931283</td>\n",
              "      <td>0.892957</td>\n",
              "      <td>0.0</td>\n",
              "      <td>0.0</td>\n",
              "      <td>1.0</td>\n",
              "      <td>1.0</td>\n",
              "      <td>0.0</td>\n",
              "      <td>0.0</td>\n",
              "      <td>1.0</td>\n",
              "      <td>0.0</td>\n",
              "    </tr>\n",
              "    <tr>\n",
              "      <th>329</th>\n",
              "      <td>0.514098</td>\n",
              "      <td>-1.457000</td>\n",
              "      <td>1.002739</td>\n",
              "      <td>0.799674</td>\n",
              "      <td>0.0</td>\n",
              "      <td>0.0</td>\n",
              "      <td>1.0</td>\n",
              "      <td>1.0</td>\n",
              "      <td>0.0</td>\n",
              "      <td>0.0</td>\n",
              "      <td>1.0</td>\n",
              "      <td>0.0</td>\n",
              "    </tr>\n",
              "    <tr>\n",
              "      <th>330</th>\n",
              "      <td>1.173384</td>\n",
              "      <td>-0.744994</td>\n",
              "      <td>1.502928</td>\n",
              "      <td>1.919069</td>\n",
              "      <td>0.0</td>\n",
              "      <td>0.0</td>\n",
              "      <td>1.0</td>\n",
              "      <td>1.0</td>\n",
              "      <td>0.0</td>\n",
              "      <td>0.0</td>\n",
              "      <td>0.0</td>\n",
              "      <td>1.0</td>\n",
              "    </tr>\n",
              "    <tr>\n",
              "      <th>331</th>\n",
              "      <td>0.221082</td>\n",
              "      <td>-1.202712</td>\n",
              "      <td>0.788372</td>\n",
              "      <td>1.234995</td>\n",
              "      <td>0.0</td>\n",
              "      <td>0.0</td>\n",
              "      <td>1.0</td>\n",
              "      <td>1.0</td>\n",
              "      <td>0.0</td>\n",
              "      <td>0.0</td>\n",
              "      <td>1.0</td>\n",
              "      <td>0.0</td>\n",
              "    </tr>\n",
              "    <tr>\n",
              "      <th>332</th>\n",
              "      <td>1.081817</td>\n",
              "      <td>-0.541564</td>\n",
              "      <td>0.859828</td>\n",
              "      <td>1.483749</td>\n",
              "      <td>0.0</td>\n",
              "      <td>0.0</td>\n",
              "      <td>1.0</td>\n",
              "      <td>1.0</td>\n",
              "      <td>0.0</td>\n",
              "      <td>0.0</td>\n",
              "      <td>0.0</td>\n",
              "      <td>1.0</td>\n",
              "    </tr>\n",
              "  </tbody>\n",
              "</table>\n",
              "<p>333 rows × 12 columns</p>\n",
              "</div>\n",
              "      <button class=\"colab-df-convert\" onclick=\"convertToInteractive('df-04d98af7-3230-42dc-ad62-1856a40e678b')\"\n",
              "              title=\"Convert this dataframe to an interactive table.\"\n",
              "              style=\"display:none;\">\n",
              "        \n",
              "  <svg xmlns=\"http://www.w3.org/2000/svg\" height=\"24px\"viewBox=\"0 0 24 24\"\n",
              "       width=\"24px\">\n",
              "    <path d=\"M0 0h24v24H0V0z\" fill=\"none\"/>\n",
              "    <path d=\"M18.56 5.44l.94 2.06.94-2.06 2.06-.94-2.06-.94-.94-2.06-.94 2.06-2.06.94zm-11 1L8.5 8.5l.94-2.06 2.06-.94-2.06-.94L8.5 2.5l-.94 2.06-2.06.94zm10 10l.94 2.06.94-2.06 2.06-.94-2.06-.94-.94-2.06-.94 2.06-2.06.94z\"/><path d=\"M17.41 7.96l-1.37-1.37c-.4-.4-.92-.59-1.43-.59-.52 0-1.04.2-1.43.59L10.3 9.45l-7.72 7.72c-.78.78-.78 2.05 0 2.83L4 21.41c.39.39.9.59 1.41.59.51 0 1.02-.2 1.41-.59l7.78-7.78 2.81-2.81c.8-.78.8-2.07 0-2.86zM5.41 20L4 18.59l7.72-7.72 1.47 1.35L5.41 20z\"/>\n",
              "  </svg>\n",
              "      </button>\n",
              "      \n",
              "  <style>\n",
              "    .colab-df-container {\n",
              "      display:flex;\n",
              "      flex-wrap:wrap;\n",
              "      gap: 12px;\n",
              "    }\n",
              "\n",
              "    .colab-df-convert {\n",
              "      background-color: #E8F0FE;\n",
              "      border: none;\n",
              "      border-radius: 50%;\n",
              "      cursor: pointer;\n",
              "      display: none;\n",
              "      fill: #1967D2;\n",
              "      height: 32px;\n",
              "      padding: 0 0 0 0;\n",
              "      width: 32px;\n",
              "    }\n",
              "\n",
              "    .colab-df-convert:hover {\n",
              "      background-color: #E2EBFA;\n",
              "      box-shadow: 0px 1px 2px rgba(60, 64, 67, 0.3), 0px 1px 3px 1px rgba(60, 64, 67, 0.15);\n",
              "      fill: #174EA6;\n",
              "    }\n",
              "\n",
              "    [theme=dark] .colab-df-convert {\n",
              "      background-color: #3B4455;\n",
              "      fill: #D2E3FC;\n",
              "    }\n",
              "\n",
              "    [theme=dark] .colab-df-convert:hover {\n",
              "      background-color: #434B5C;\n",
              "      box-shadow: 0px 1px 3px 1px rgba(0, 0, 0, 0.15);\n",
              "      filter: drop-shadow(0px 1px 2px rgba(0, 0, 0, 0.3));\n",
              "      fill: #FFFFFF;\n",
              "    }\n",
              "  </style>\n",
              "\n",
              "      <script>\n",
              "        const buttonEl =\n",
              "          document.querySelector('#df-04d98af7-3230-42dc-ad62-1856a40e678b button.colab-df-convert');\n",
              "        buttonEl.style.display =\n",
              "          google.colab.kernel.accessAllowed ? 'block' : 'none';\n",
              "\n",
              "        async function convertToInteractive(key) {\n",
              "          const element = document.querySelector('#df-04d98af7-3230-42dc-ad62-1856a40e678b');\n",
              "          const dataTable =\n",
              "            await google.colab.kernel.invokeFunction('convertToInteractive',\n",
              "                                                     [key], {});\n",
              "          if (!dataTable) return;\n",
              "\n",
              "          const docLinkHtml = 'Like what you see? Visit the ' +\n",
              "            '<a target=\"_blank\" href=https://colab.research.google.com/notebooks/data_table.ipynb>data table notebook</a>'\n",
              "            + ' to learn more about interactive tables.';\n",
              "          element.innerHTML = '';\n",
              "          dataTable['output_type'] = 'display_data';\n",
              "          await google.colab.output.renderOutput(dataTable, element);\n",
              "          const docLink = document.createElement('div');\n",
              "          docLink.innerHTML = docLinkHtml;\n",
              "          element.appendChild(docLink);\n",
              "        }\n",
              "      </script>\n",
              "    </div>\n",
              "  </div>\n",
              "  "
            ]
          },
          "metadata": {},
          "execution_count": 24
        }
      ]
    },
    {
      "cell_type": "markdown",
      "source": [
        "### 학습/테스트 데이터 세트 분할\n"
      ],
      "metadata": {
        "id": "dQE3c7vCpvcv"
      }
    },
    {
      "cell_type": "markdown",
      "source": [
        "- scikt-learn 은 학습 데이터 세트를 자동으로 분할해주는 기능을 제공합니다.\n",
        "- 테스트에 사용하고 싶은 데이터를 비율로 조종할 수 있다."
      ],
      "metadata": {
        "id": "z-7DjR7fp0Vb"
      }
    },
    {
      "cell_type": "code",
      "source": [
        "penguins_label.head()"
      ],
      "metadata": {
        "colab": {
          "base_uri": "https://localhost:8080/",
          "height": 268
        },
        "id": "3HUW3ZYFpvQO",
        "outputId": "ae9da995-47a6-420b-adf6-f627109e71db"
      },
      "execution_count": 25,
      "outputs": [
        {
          "output_type": "execute_result",
          "data": {
            "text/plain": [
              "   species  island  bill_length_mm  bill_depth_mm  flipper_length_mm  \\\n",
              "0        0       2       -0.896042       0.780732          -1.426752   \n",
              "1        0       2       -0.822788       0.119584          -1.069474   \n",
              "2        0       2       -0.676280       0.424729          -0.426373   \n",
              "3        0       2       -1.335566       1.085877          -0.569284   \n",
              "4        0       2       -0.859415       1.747026          -0.783651   \n",
              "\n",
              "   body_mass_g  sex  \n",
              "0    -0.568475    1  \n",
              "1    -0.506286    0  \n",
              "2    -1.190361    0  \n",
              "3    -0.941606    0  \n",
              "4    -0.692852    1  "
            ],
            "text/html": [
              "\n",
              "  <div id=\"df-684e7f0b-a274-40ae-8de5-06b5293ab5a4\">\n",
              "    <div class=\"colab-df-container\">\n",
              "      <div>\n",
              "<style scoped>\n",
              "    .dataframe tbody tr th:only-of-type {\n",
              "        vertical-align: middle;\n",
              "    }\n",
              "\n",
              "    .dataframe tbody tr th {\n",
              "        vertical-align: top;\n",
              "    }\n",
              "\n",
              "    .dataframe thead th {\n",
              "        text-align: right;\n",
              "    }\n",
              "</style>\n",
              "<table border=\"1\" class=\"dataframe\">\n",
              "  <thead>\n",
              "    <tr style=\"text-align: right;\">\n",
              "      <th></th>\n",
              "      <th>species</th>\n",
              "      <th>island</th>\n",
              "      <th>bill_length_mm</th>\n",
              "      <th>bill_depth_mm</th>\n",
              "      <th>flipper_length_mm</th>\n",
              "      <th>body_mass_g</th>\n",
              "      <th>sex</th>\n",
              "    </tr>\n",
              "  </thead>\n",
              "  <tbody>\n",
              "    <tr>\n",
              "      <th>0</th>\n",
              "      <td>0</td>\n",
              "      <td>2</td>\n",
              "      <td>-0.896042</td>\n",
              "      <td>0.780732</td>\n",
              "      <td>-1.426752</td>\n",
              "      <td>-0.568475</td>\n",
              "      <td>1</td>\n",
              "    </tr>\n",
              "    <tr>\n",
              "      <th>1</th>\n",
              "      <td>0</td>\n",
              "      <td>2</td>\n",
              "      <td>-0.822788</td>\n",
              "      <td>0.119584</td>\n",
              "      <td>-1.069474</td>\n",
              "      <td>-0.506286</td>\n",
              "      <td>0</td>\n",
              "    </tr>\n",
              "    <tr>\n",
              "      <th>2</th>\n",
              "      <td>0</td>\n",
              "      <td>2</td>\n",
              "      <td>-0.676280</td>\n",
              "      <td>0.424729</td>\n",
              "      <td>-0.426373</td>\n",
              "      <td>-1.190361</td>\n",
              "      <td>0</td>\n",
              "    </tr>\n",
              "    <tr>\n",
              "      <th>3</th>\n",
              "      <td>0</td>\n",
              "      <td>2</td>\n",
              "      <td>-1.335566</td>\n",
              "      <td>1.085877</td>\n",
              "      <td>-0.569284</td>\n",
              "      <td>-0.941606</td>\n",
              "      <td>0</td>\n",
              "    </tr>\n",
              "    <tr>\n",
              "      <th>4</th>\n",
              "      <td>0</td>\n",
              "      <td>2</td>\n",
              "      <td>-0.859415</td>\n",
              "      <td>1.747026</td>\n",
              "      <td>-0.783651</td>\n",
              "      <td>-0.692852</td>\n",
              "      <td>1</td>\n",
              "    </tr>\n",
              "  </tbody>\n",
              "</table>\n",
              "</div>\n",
              "      <button class=\"colab-df-convert\" onclick=\"convertToInteractive('df-684e7f0b-a274-40ae-8de5-06b5293ab5a4')\"\n",
              "              title=\"Convert this dataframe to an interactive table.\"\n",
              "              style=\"display:none;\">\n",
              "        \n",
              "  <svg xmlns=\"http://www.w3.org/2000/svg\" height=\"24px\"viewBox=\"0 0 24 24\"\n",
              "       width=\"24px\">\n",
              "    <path d=\"M0 0h24v24H0V0z\" fill=\"none\"/>\n",
              "    <path d=\"M18.56 5.44l.94 2.06.94-2.06 2.06-.94-2.06-.94-.94-2.06-.94 2.06-2.06.94zm-11 1L8.5 8.5l.94-2.06 2.06-.94-2.06-.94L8.5 2.5l-.94 2.06-2.06.94zm10 10l.94 2.06.94-2.06 2.06-.94-2.06-.94-.94-2.06-.94 2.06-2.06.94z\"/><path d=\"M17.41 7.96l-1.37-1.37c-.4-.4-.92-.59-1.43-.59-.52 0-1.04.2-1.43.59L10.3 9.45l-7.72 7.72c-.78.78-.78 2.05 0 2.83L4 21.41c.39.39.9.59 1.41.59.51 0 1.02-.2 1.41-.59l7.78-7.78 2.81-2.81c.8-.78.8-2.07 0-2.86zM5.41 20L4 18.59l7.72-7.72 1.47 1.35L5.41 20z\"/>\n",
              "  </svg>\n",
              "      </button>\n",
              "      \n",
              "  <style>\n",
              "    .colab-df-container {\n",
              "      display:flex;\n",
              "      flex-wrap:wrap;\n",
              "      gap: 12px;\n",
              "    }\n",
              "\n",
              "    .colab-df-convert {\n",
              "      background-color: #E8F0FE;\n",
              "      border: none;\n",
              "      border-radius: 50%;\n",
              "      cursor: pointer;\n",
              "      display: none;\n",
              "      fill: #1967D2;\n",
              "      height: 32px;\n",
              "      padding: 0 0 0 0;\n",
              "      width: 32px;\n",
              "    }\n",
              "\n",
              "    .colab-df-convert:hover {\n",
              "      background-color: #E2EBFA;\n",
              "      box-shadow: 0px 1px 2px rgba(60, 64, 67, 0.3), 0px 1px 3px 1px rgba(60, 64, 67, 0.15);\n",
              "      fill: #174EA6;\n",
              "    }\n",
              "\n",
              "    [theme=dark] .colab-df-convert {\n",
              "      background-color: #3B4455;\n",
              "      fill: #D2E3FC;\n",
              "    }\n",
              "\n",
              "    [theme=dark] .colab-df-convert:hover {\n",
              "      background-color: #434B5C;\n",
              "      box-shadow: 0px 1px 3px 1px rgba(0, 0, 0, 0.15);\n",
              "      filter: drop-shadow(0px 1px 2px rgba(0, 0, 0, 0.3));\n",
              "      fill: #FFFFFF;\n",
              "    }\n",
              "  </style>\n",
              "\n",
              "      <script>\n",
              "        const buttonEl =\n",
              "          document.querySelector('#df-684e7f0b-a274-40ae-8de5-06b5293ab5a4 button.colab-df-convert');\n",
              "        buttonEl.style.display =\n",
              "          google.colab.kernel.accessAllowed ? 'block' : 'none';\n",
              "\n",
              "        async function convertToInteractive(key) {\n",
              "          const element = document.querySelector('#df-684e7f0b-a274-40ae-8de5-06b5293ab5a4');\n",
              "          const dataTable =\n",
              "            await google.colab.kernel.invokeFunction('convertToInteractive',\n",
              "                                                     [key], {});\n",
              "          if (!dataTable) return;\n",
              "\n",
              "          const docLinkHtml = 'Like what you see? Visit the ' +\n",
              "            '<a target=\"_blank\" href=https://colab.research.google.com/notebooks/data_table.ipynb>data table notebook</a>'\n",
              "            + ' to learn more about interactive tables.';\n",
              "          element.innerHTML = '';\n",
              "          dataTable['output_type'] = 'display_data';\n",
              "          await google.colab.output.renderOutput(dataTable, element);\n",
              "          const docLink = document.createElement('div');\n",
              "          docLink.innerHTML = docLinkHtml;\n",
              "          element.appendChild(docLink);\n",
              "        }\n",
              "      </script>\n",
              "    </div>\n",
              "  </div>\n",
              "  "
            ]
          },
          "metadata": {},
          "execution_count": 25
        }
      ]
    },
    {
      "cell_type": "code",
      "source": [
        "from sklearn.model_selection import train_test_split\n",
        "\n",
        "X = penguins_label.drop('sex', axis=1)      # 예측에 사용되는 변수\n",
        "Y = penguins_label['sex']                   # 예측할 변수"
      ],
      "metadata": {
        "id": "zcvybYyWpGvu"
      },
      "execution_count": 26,
      "outputs": []
    },
    {
      "cell_type": "code",
      "source": [
        "#학습/테스트 세트 분할\n",
        "X_train, X_test, Y_train, Y_test = train_test_split(X, Y, test_size=0.2, shuffle=True)"
      ],
      "metadata": {
        "id": "2XMBLPZdqNn6"
      },
      "execution_count": 27,
      "outputs": []
    },
    {
      "cell_type": "code",
      "source": [
        "len(X_train), len(Y_train), len(Y_test), len(Y_test)"
      ],
      "metadata": {
        "colab": {
          "base_uri": "https://localhost:8080/"
        },
        "id": "_fy2kEzBqas2",
        "outputId": "fea99336-66b5-4dee-e907-51e423b23f6e"
      },
      "execution_count": 28,
      "outputs": [
        {
          "output_type": "execute_result",
          "data": {
            "text/plain": [
              "(266, 266, 67, 67)"
            ]
          },
          "metadata": {},
          "execution_count": 28
        }
      ]
    },
    {
      "cell_type": "code",
      "source": [
        "X_train"
      ],
      "metadata": {
        "colab": {
          "base_uri": "https://localhost:8080/",
          "height": 483
        },
        "id": "sva0dRrjqkBG",
        "outputId": "110ffb6c-34a0-4c72-87b5-0095b0428b0e"
      },
      "execution_count": 29,
      "outputs": [
        {
          "output_type": "execute_result",
          "data": {
            "text/plain": [
              "     species  island  bill_length_mm  bill_depth_mm  flipper_length_mm  \\\n",
              "96         0       0       -1.152431      -0.592422          -1.283840   \n",
              "228        2       0        0.330963      -1.304427           0.645461   \n",
              "27         0       1       -0.822788       0.323014          -0.926562   \n",
              "172        1       1        1.191698       0.628159          -0.069095   \n",
              "118        0       2       -1.610269      -0.643279          -1.069474   \n",
              "..       ...     ...             ...            ...                ...   \n",
              "212        1       1        1.246638       0.933305           0.645461   \n",
              "188        1       1        1.264952       0.984162          -0.354918   \n",
              "173        1       1        1.008563       0.933305          -0.069095   \n",
              "260        2       0        1.191698      -0.643279           1.717295   \n",
              "3          0       2       -1.335566       1.085877          -0.569284   \n",
              "\n",
              "     body_mass_g  \n",
              "96     -1.408021  \n",
              "228    -0.008777  \n",
              "27     -1.128172  \n",
              "172    -1.003795  \n",
              "118    -1.439115  \n",
              "..           ...  \n",
              "212    -0.133155  \n",
              "188    -0.817229  \n",
              "173    -0.506286  \n",
              "260     1.483749  \n",
              "3      -0.941606  \n",
              "\n",
              "[266 rows x 6 columns]"
            ],
            "text/html": [
              "\n",
              "  <div id=\"df-cddce59b-1bfc-481d-8964-e0b9fc272285\">\n",
              "    <div class=\"colab-df-container\">\n",
              "      <div>\n",
              "<style scoped>\n",
              "    .dataframe tbody tr th:only-of-type {\n",
              "        vertical-align: middle;\n",
              "    }\n",
              "\n",
              "    .dataframe tbody tr th {\n",
              "        vertical-align: top;\n",
              "    }\n",
              "\n",
              "    .dataframe thead th {\n",
              "        text-align: right;\n",
              "    }\n",
              "</style>\n",
              "<table border=\"1\" class=\"dataframe\">\n",
              "  <thead>\n",
              "    <tr style=\"text-align: right;\">\n",
              "      <th></th>\n",
              "      <th>species</th>\n",
              "      <th>island</th>\n",
              "      <th>bill_length_mm</th>\n",
              "      <th>bill_depth_mm</th>\n",
              "      <th>flipper_length_mm</th>\n",
              "      <th>body_mass_g</th>\n",
              "    </tr>\n",
              "  </thead>\n",
              "  <tbody>\n",
              "    <tr>\n",
              "      <th>96</th>\n",
              "      <td>0</td>\n",
              "      <td>0</td>\n",
              "      <td>-1.152431</td>\n",
              "      <td>-0.592422</td>\n",
              "      <td>-1.283840</td>\n",
              "      <td>-1.408021</td>\n",
              "    </tr>\n",
              "    <tr>\n",
              "      <th>228</th>\n",
              "      <td>2</td>\n",
              "      <td>0</td>\n",
              "      <td>0.330963</td>\n",
              "      <td>-1.304427</td>\n",
              "      <td>0.645461</td>\n",
              "      <td>-0.008777</td>\n",
              "    </tr>\n",
              "    <tr>\n",
              "      <th>27</th>\n",
              "      <td>0</td>\n",
              "      <td>1</td>\n",
              "      <td>-0.822788</td>\n",
              "      <td>0.323014</td>\n",
              "      <td>-0.926562</td>\n",
              "      <td>-1.128172</td>\n",
              "    </tr>\n",
              "    <tr>\n",
              "      <th>172</th>\n",
              "      <td>1</td>\n",
              "      <td>1</td>\n",
              "      <td>1.191698</td>\n",
              "      <td>0.628159</td>\n",
              "      <td>-0.069095</td>\n",
              "      <td>-1.003795</td>\n",
              "    </tr>\n",
              "    <tr>\n",
              "      <th>118</th>\n",
              "      <td>0</td>\n",
              "      <td>2</td>\n",
              "      <td>-1.610269</td>\n",
              "      <td>-0.643279</td>\n",
              "      <td>-1.069474</td>\n",
              "      <td>-1.439115</td>\n",
              "    </tr>\n",
              "    <tr>\n",
              "      <th>...</th>\n",
              "      <td>...</td>\n",
              "      <td>...</td>\n",
              "      <td>...</td>\n",
              "      <td>...</td>\n",
              "      <td>...</td>\n",
              "      <td>...</td>\n",
              "    </tr>\n",
              "    <tr>\n",
              "      <th>212</th>\n",
              "      <td>1</td>\n",
              "      <td>1</td>\n",
              "      <td>1.246638</td>\n",
              "      <td>0.933305</td>\n",
              "      <td>0.645461</td>\n",
              "      <td>-0.133155</td>\n",
              "    </tr>\n",
              "    <tr>\n",
              "      <th>188</th>\n",
              "      <td>1</td>\n",
              "      <td>1</td>\n",
              "      <td>1.264952</td>\n",
              "      <td>0.984162</td>\n",
              "      <td>-0.354918</td>\n",
              "      <td>-0.817229</td>\n",
              "    </tr>\n",
              "    <tr>\n",
              "      <th>173</th>\n",
              "      <td>1</td>\n",
              "      <td>1</td>\n",
              "      <td>1.008563</td>\n",
              "      <td>0.933305</td>\n",
              "      <td>-0.069095</td>\n",
              "      <td>-0.506286</td>\n",
              "    </tr>\n",
              "    <tr>\n",
              "      <th>260</th>\n",
              "      <td>2</td>\n",
              "      <td>0</td>\n",
              "      <td>1.191698</td>\n",
              "      <td>-0.643279</td>\n",
              "      <td>1.717295</td>\n",
              "      <td>1.483749</td>\n",
              "    </tr>\n",
              "    <tr>\n",
              "      <th>3</th>\n",
              "      <td>0</td>\n",
              "      <td>2</td>\n",
              "      <td>-1.335566</td>\n",
              "      <td>1.085877</td>\n",
              "      <td>-0.569284</td>\n",
              "      <td>-0.941606</td>\n",
              "    </tr>\n",
              "  </tbody>\n",
              "</table>\n",
              "<p>266 rows × 6 columns</p>\n",
              "</div>\n",
              "      <button class=\"colab-df-convert\" onclick=\"convertToInteractive('df-cddce59b-1bfc-481d-8964-e0b9fc272285')\"\n",
              "              title=\"Convert this dataframe to an interactive table.\"\n",
              "              style=\"display:none;\">\n",
              "        \n",
              "  <svg xmlns=\"http://www.w3.org/2000/svg\" height=\"24px\"viewBox=\"0 0 24 24\"\n",
              "       width=\"24px\">\n",
              "    <path d=\"M0 0h24v24H0V0z\" fill=\"none\"/>\n",
              "    <path d=\"M18.56 5.44l.94 2.06.94-2.06 2.06-.94-2.06-.94-.94-2.06-.94 2.06-2.06.94zm-11 1L8.5 8.5l.94-2.06 2.06-.94-2.06-.94L8.5 2.5l-.94 2.06-2.06.94zm10 10l.94 2.06.94-2.06 2.06-.94-2.06-.94-.94-2.06-.94 2.06-2.06.94z\"/><path d=\"M17.41 7.96l-1.37-1.37c-.4-.4-.92-.59-1.43-.59-.52 0-1.04.2-1.43.59L10.3 9.45l-7.72 7.72c-.78.78-.78 2.05 0 2.83L4 21.41c.39.39.9.59 1.41.59.51 0 1.02-.2 1.41-.59l7.78-7.78 2.81-2.81c.8-.78.8-2.07 0-2.86zM5.41 20L4 18.59l7.72-7.72 1.47 1.35L5.41 20z\"/>\n",
              "  </svg>\n",
              "      </button>\n",
              "      \n",
              "  <style>\n",
              "    .colab-df-container {\n",
              "      display:flex;\n",
              "      flex-wrap:wrap;\n",
              "      gap: 12px;\n",
              "    }\n",
              "\n",
              "    .colab-df-convert {\n",
              "      background-color: #E8F0FE;\n",
              "      border: none;\n",
              "      border-radius: 50%;\n",
              "      cursor: pointer;\n",
              "      display: none;\n",
              "      fill: #1967D2;\n",
              "      height: 32px;\n",
              "      padding: 0 0 0 0;\n",
              "      width: 32px;\n",
              "    }\n",
              "\n",
              "    .colab-df-convert:hover {\n",
              "      background-color: #E2EBFA;\n",
              "      box-shadow: 0px 1px 2px rgba(60, 64, 67, 0.3), 0px 1px 3px 1px rgba(60, 64, 67, 0.15);\n",
              "      fill: #174EA6;\n",
              "    }\n",
              "\n",
              "    [theme=dark] .colab-df-convert {\n",
              "      background-color: #3B4455;\n",
              "      fill: #D2E3FC;\n",
              "    }\n",
              "\n",
              "    [theme=dark] .colab-df-convert:hover {\n",
              "      background-color: #434B5C;\n",
              "      box-shadow: 0px 1px 3px 1px rgba(0, 0, 0, 0.15);\n",
              "      filter: drop-shadow(0px 1px 2px rgba(0, 0, 0, 0.3));\n",
              "      fill: #FFFFFF;\n",
              "    }\n",
              "  </style>\n",
              "\n",
              "      <script>\n",
              "        const buttonEl =\n",
              "          document.querySelector('#df-cddce59b-1bfc-481d-8964-e0b9fc272285 button.colab-df-convert');\n",
              "        buttonEl.style.display =\n",
              "          google.colab.kernel.accessAllowed ? 'block' : 'none';\n",
              "\n",
              "        async function convertToInteractive(key) {\n",
              "          const element = document.querySelector('#df-cddce59b-1bfc-481d-8964-e0b9fc272285');\n",
              "          const dataTable =\n",
              "            await google.colab.kernel.invokeFunction('convertToInteractive',\n",
              "                                                     [key], {});\n",
              "          if (!dataTable) return;\n",
              "\n",
              "          const docLinkHtml = 'Like what you see? Visit the ' +\n",
              "            '<a target=\"_blank\" href=https://colab.research.google.com/notebooks/data_table.ipynb>data table notebook</a>'\n",
              "            + ' to learn more about interactive tables.';\n",
              "          element.innerHTML = '';\n",
              "          dataTable['output_type'] = 'display_data';\n",
              "          await google.colab.output.renderOutput(dataTable, element);\n",
              "          const docLink = document.createElement('div');\n",
              "          docLink.innerHTML = docLinkHtml;\n",
              "          element.appendChild(docLink);\n",
              "        }\n",
              "      </script>\n",
              "    </div>\n",
              "  </div>\n",
              "  "
            ]
          },
          "metadata": {},
          "execution_count": 29
        }
      ]
    },
    {
      "cell_type": "code",
      "source": [
        "Y_test"
      ],
      "metadata": {
        "id": "KNPhgKHwqpCF",
        "outputId": "bfb15130-ab39-495f-dcfe-88d27ef591e4",
        "colab": {
          "base_uri": "https://localhost:8080/"
        }
      },
      "execution_count": 30,
      "outputs": [
        {
          "output_type": "execute_result",
          "data": {
            "text/plain": [
              "59     1\n",
              "102    0\n",
              "270    1\n",
              "37     0\n",
              "0      1\n",
              "      ..\n",
              "264    1\n",
              "239    1\n",
              "53     1\n",
              "122    0\n",
              "210    0\n",
              "Name: sex, Length: 67, dtype: int64"
            ]
          },
          "metadata": {},
          "execution_count": 30
        }
      ]
    },
    {
      "cell_type": "markdown",
      "source": [
        "> ### **로지스틱 회귀**\n",
        "> - 로지스틱 회귀(Logistic Regression)은 **대표적인 2진 분류 머신러닝 알고리즘**이다.\n",
        "> - 회귀(Regression) + 시그모이드(Sigmoid Fuction)함수를 사용해서 데이터가 어떤 범주에 속할 확률을 0에서 1사이의 값으로 예측해줍니다. (2진분류 = 2가지의사항 ex:남자/여자, 참/거짓...) (시그모이드 함수 = S자형)\n",
        "> - 회귀 방법론은 변수들 사이의 관계를 '모델링'하는 기법이다. (X와 Y의 관계)\n",
        "> - ex) 스팸일 확률이 0.5이상이면 스팸으로 분류하고, 0.5보다 작으면 정상 메일로.분류한다."
      ],
      "metadata": {
        "id": "tuTsC7yWrrcm"
      }
    },
    {
      "cell_type": "markdown",
      "source": [
        "1. [Lr]모델링 정의"
      ],
      "metadata": {
        "id": "mUdvIn0EsqNk"
      }
    },
    {
      "cell_type": "code",
      "source": [
        "from sklearn.linear_model import LogisticRegression\n",
        "lr_model = LogisticRegression(verbose=2)"
      ],
      "metadata": {
        "id": "-haZBNOjqsE2"
      },
      "execution_count": 31,
      "outputs": []
    },
    {
      "cell_type": "code",
      "source": [
        "# 파리미터 종류\n",
        "lr_model.get_params()"
      ],
      "metadata": {
        "colab": {
          "base_uri": "https://localhost:8080/"
        },
        "id": "uWu-iBYss2LC",
        "outputId": "c513dd1b-c8f5-466c-9763-7a9d96cf10b8"
      },
      "execution_count": 32,
      "outputs": [
        {
          "output_type": "execute_result",
          "data": {
            "text/plain": [
              "{'C': 1.0,\n",
              " 'class_weight': None,\n",
              " 'dual': False,\n",
              " 'fit_intercept': True,\n",
              " 'intercept_scaling': 1,\n",
              " 'l1_ratio': None,\n",
              " 'max_iter': 100,\n",
              " 'multi_class': 'auto',\n",
              " 'n_jobs': None,\n",
              " 'penalty': 'l2',\n",
              " 'random_state': None,\n",
              " 'solver': 'lbfgs',\n",
              " 'tol': 0.0001,\n",
              " 'verbose': 2,\n",
              " 'warm_start': False}"
            ]
          },
          "metadata": {},
          "execution_count": 32
        }
      ]
    },
    {
      "cell_type": "markdown",
      "source": [
        "2. [LR] 모델 학습"
      ],
      "metadata": {
        "id": "BgkgQowls-Cy"
      }
    },
    {
      "cell_type": "code",
      "source": [
        "lr_model.fit(X_train, Y_train)"
      ],
      "metadata": {
        "colab": {
          "base_uri": "https://localhost:8080/"
        },
        "id": "vbp8kkFys5G5",
        "outputId": "6b7e781e-80aa-4a34-c596-39af587b3a87"
      },
      "execution_count": 33,
      "outputs": [
        {
          "output_type": "stream",
          "name": "stderr",
          "text": [
            "[Parallel(n_jobs=1)]: Using backend SequentialBackend with 1 concurrent workers.\n",
            "[Parallel(n_jobs=1)]: Done   1 out of   1 | elapsed:    0.1s remaining:    0.0s\n",
            "[Parallel(n_jobs=1)]: Done   1 out of   1 | elapsed:    0.1s finished\n"
          ]
        },
        {
          "output_type": "execute_result",
          "data": {
            "text/plain": [
              "LogisticRegression(verbose=2)"
            ]
          },
          "metadata": {},
          "execution_count": 33
        }
      ]
    },
    {
      "cell_type": "markdown",
      "source": [
        "3. [LR] 예측"
      ],
      "metadata": {
        "id": "Zzz--LQntEJY"
      }
    },
    {
      "cell_type": "code",
      "source": [
        "# 수컷 = 1/ 암컷 = 0\n",
        "predictions = lr_model.predict(X_test)\n",
        "predictions"
      ],
      "metadata": {
        "colab": {
          "base_uri": "https://localhost:8080/"
        },
        "id": "fiwnhubrtDAf",
        "outputId": "c00dccce-e90e-462a-85b5-9635471974fa"
      },
      "execution_count": 34,
      "outputs": [
        {
          "output_type": "execute_result",
          "data": {
            "text/plain": [
              "array([1, 0, 0, 0, 1, 0, 1, 1, 1, 1, 0, 1, 1, 0, 0, 0, 1, 1, 0, 1, 0, 0,\n",
              "       0, 1, 0, 0, 0, 0, 1, 0, 0, 0, 1, 0, 1, 0, 1, 1, 1, 1, 0, 1, 0, 1,\n",
              "       1, 1, 1, 1, 1, 0, 0, 0, 1, 1, 1, 0, 0, 1, 1, 0, 1, 0, 1, 0, 1, 0,\n",
              "       0])"
            ]
          },
          "metadata": {},
          "execution_count": 34
        }
      ]
    },
    {
      "cell_type": "code",
      "source": [
        "#성능 평가\n",
        "from sklearn.metrics import accuracy_score # 정확도를 나타내는 라이브러리\n",
        "lr_acc = accuracy_score(Y_test, predictions)\n",
        "print('Logistic Regression 모델의 예측 정확도는 {}% 입니다.'.format(round(lr_acc*100)))"
      ],
      "metadata": {
        "colab": {
          "base_uri": "https://localhost:8080/"
        },
        "id": "xXvzZkEVtO7e",
        "outputId": "9cd90cdd-9e75-4ae3-8918-f242f384d117"
      },
      "execution_count": 35,
      "outputs": [
        {
          "output_type": "stream",
          "name": "stdout",
          "text": [
            "Logistic Regression 모델의 예측 정확도는 88% 입니다.\n"
          ]
        }
      ]
    },
    {
      "cell_type": "markdown",
      "source": [
        "> ### 최근접 이웃 분류기(KNeighborsClassifier)\n",
        "> - 입력데이터가 주어졌을때, 입력 값과 가까운 K개의 데이터가 속해 있는 범주를 예측 해주는 알고리즘\n",
        "> - 데이터 간 거리를 측정할 때 '유클리디안 거리'를 사용한다. 실제로 떨어져있는 거리"
      ],
      "metadata": {
        "id": "Cyr6YVrBtxVe"
      }
    },
    {
      "cell_type": "markdown",
      "source": [
        "1. [KNC]모델 정의"
      ],
      "metadata": {
        "id": "leMXdkoOuGq2"
      }
    },
    {
      "cell_type": "code",
      "source": [
        "from sklearn.neighbors import KNeighborsClassifier\n",
        "knc_model = KNeighborsClassifier()"
      ],
      "metadata": {
        "id": "k2LxF_UotpqV"
      },
      "execution_count": 36,
      "outputs": []
    },
    {
      "cell_type": "code",
      "source": [
        "# 파라미터 종류\n",
        "knc_model.get_params()"
      ],
      "metadata": {
        "colab": {
          "base_uri": "https://localhost:8080/"
        },
        "id": "J02-q6TkuPcu",
        "outputId": "8fd0f54c-8a15-4409-933d-ca68172429e1"
      },
      "execution_count": 37,
      "outputs": [
        {
          "output_type": "execute_result",
          "data": {
            "text/plain": [
              "{'algorithm': 'auto',\n",
              " 'leaf_size': 30,\n",
              " 'metric': 'minkowski',\n",
              " 'metric_params': None,\n",
              " 'n_jobs': None,\n",
              " 'n_neighbors': 5,\n",
              " 'p': 2,\n",
              " 'weights': 'uniform'}"
            ]
          },
          "metadata": {},
          "execution_count": 37
        }
      ]
    },
    {
      "cell_type": "markdown",
      "source": [
        "2. [KNC] 모델 학습"
      ],
      "metadata": {
        "id": "QilDHJVtu3VK"
      }
    },
    {
      "cell_type": "code",
      "source": [
        "knc_model.fit(X_train, Y_train)"
      ],
      "metadata": {
        "colab": {
          "base_uri": "https://localhost:8080/"
        },
        "id": "mgBXNRx5usmq",
        "outputId": "61b178c4-8c84-4040-c217-6226af7994f4"
      },
      "execution_count": 38,
      "outputs": [
        {
          "output_type": "execute_result",
          "data": {
            "text/plain": [
              "KNeighborsClassifier()"
            ]
          },
          "metadata": {},
          "execution_count": 38
        }
      ]
    },
    {
      "cell_type": "markdown",
      "source": [
        "3. [KNC]예측"
      ],
      "metadata": {
        "id": "iAC278bGu-e0"
      }
    },
    {
      "cell_type": "code",
      "source": [
        "#수컷 = 1/ 암컷 = 0\n",
        "predictions = knc_model.predict(X_test)\n",
        "predictions"
      ],
      "metadata": {
        "colab": {
          "base_uri": "https://localhost:8080/"
        },
        "id": "OFXqA6O3u8lt",
        "outputId": "d0283488-5bf6-4ac0-eded-5ba2c9a362b1"
      },
      "execution_count": 39,
      "outputs": [
        {
          "output_type": "execute_result",
          "data": {
            "text/plain": [
              "array([1, 0, 0, 0, 0, 0, 1, 1, 1, 1, 0, 1, 1, 0, 0, 1, 0, 1, 0, 1, 0, 0,\n",
              "       0, 1, 0, 0, 0, 0, 1, 0, 0, 0, 1, 0, 1, 0, 1, 1, 1, 1, 0, 1, 0, 1,\n",
              "       1, 1, 1, 1, 1, 0, 0, 0, 1, 1, 1, 0, 0, 1, 0, 0, 1, 0, 1, 0, 1, 0,\n",
              "       0])"
            ]
          },
          "metadata": {},
          "execution_count": 39
        }
      ]
    },
    {
      "cell_type": "code",
      "source": [
        "# 성능 평가\n",
        "knc_acc = accuracy_score(Y_test, predictions)\n",
        "print('KNeighborsClassifier 모델의 예측 정확도는 {}% 입니다.'.format(round(knc_acc*100)))"
      ],
      "metadata": {
        "colab": {
          "base_uri": "https://localhost:8080/"
        },
        "id": "I1BzmjcGvH4i",
        "outputId": "181c4d6a-102c-41c2-dab3-ac17abd648a4"
      },
      "execution_count": 40,
      "outputs": [
        {
          "output_type": "stream",
          "name": "stdout",
          "text": [
            "KNeighborsClassifier 모델의 예측 정확도는 88% 입니다.\n"
          ]
        }
      ]
    },
    {
      "cell_type": "markdown",
      "source": [
        "> ### 의사결정나무(Decision Tree)\n",
        "> - 의사 결정 나무(Decision Tree)란 의사 결정 규칙을 나무(tree)구조로 나타내어서**전체 데이터를 분류** 하거나, **수치형 자료를 예측**하는데 모두 사용할 수 있는 알고리즘입니다.\n",
        "> - 의사결정 나무 알고리즘은 **가지분할(split)**, **가지치기(pruning)**방법을 사용해서 복잡한 모델에서 단순화 과정을 거칩니다.\n",
        "> - 나무 모형의 크기에 따라 머신 러닝 성능이 달라지기 때문에 적절한 크기로 설정해주어야 한다."
      ],
      "metadata": {
        "id": "v1Kv9zGOvoiy"
      }
    },
    {
      "cell_type": "markdown",
      "source": [
        "1. [DT] 모델 정의"
      ],
      "metadata": {
        "id": "oXLa7fO3wMwQ"
      }
    },
    {
      "cell_type": "code",
      "source": [
        "from sklearn.tree import DecisionTreeClassifier\n",
        "dtc_model = DecisionTreeClassifier()"
      ],
      "metadata": {
        "id": "3c0kttAFvbMT"
      },
      "execution_count": 41,
      "outputs": []
    },
    {
      "cell_type": "code",
      "source": [
        "dtc_model.get_params()"
      ],
      "metadata": {
        "colab": {
          "base_uri": "https://localhost:8080/"
        },
        "id": "xXdgpR1DwVbH",
        "outputId": "b676b9da-b0d8-4337-b7f5-78e56fd6a217"
      },
      "execution_count": 42,
      "outputs": [
        {
          "output_type": "execute_result",
          "data": {
            "text/plain": [
              "{'ccp_alpha': 0.0,\n",
              " 'class_weight': None,\n",
              " 'criterion': 'gini',\n",
              " 'max_depth': None,\n",
              " 'max_features': None,\n",
              " 'max_leaf_nodes': None,\n",
              " 'min_impurity_decrease': 0.0,\n",
              " 'min_samples_leaf': 1,\n",
              " 'min_samples_split': 2,\n",
              " 'min_weight_fraction_leaf': 0.0,\n",
              " 'random_state': None,\n",
              " 'splitter': 'best'}"
            ]
          },
          "metadata": {},
          "execution_count": 42
        }
      ]
    },
    {
      "cell_type": "markdown",
      "source": [
        "2. [DT]모델 학습"
      ],
      "metadata": {
        "id": "IyHMvYZMwbRK"
      }
    },
    {
      "cell_type": "code",
      "source": [
        "dtc_model.fit(X_train, Y_train)"
      ],
      "metadata": {
        "colab": {
          "base_uri": "https://localhost:8080/"
        },
        "id": "1HgmFnwcwXYi",
        "outputId": "03d75e5e-6f5b-4d2c-bbbf-d104806e7278"
      },
      "execution_count": 43,
      "outputs": [
        {
          "output_type": "execute_result",
          "data": {
            "text/plain": [
              "DecisionTreeClassifier()"
            ]
          },
          "metadata": {},
          "execution_count": 43
        }
      ]
    },
    {
      "cell_type": "code",
      "source": [
        "# 학습된 나무 시각화\n",
        "from sklearn.tree import export_graphviz\n",
        "import graphviz\n",
        "\n",
        "dot_data = export_graphviz(dtc_model, filled = True)\n",
        "graphviz.Source(dot_data)"
      ],
      "metadata": {
        "colab": {
          "base_uri": "https://localhost:8080/",
          "height": 1000
        },
        "id": "icgZPFdawgp3",
        "outputId": "e643131c-2b12-4d3b-bc2a-d20e05144ee8"
      },
      "execution_count": 44,
      "outputs": [
        {
          "output_type": "execute_result",
          "data": {
            "text/plain": [
              "<graphviz.files.Source at 0x7f49b9f02ad0>"
            ],
            "image/svg+xml": "<?xml version=\"1.0\" encoding=\"UTF-8\" standalone=\"no\"?>\n<!DOCTYPE svg PUBLIC \"-//W3C//DTD SVG 1.1//EN\"\n \"http://www.w3.org/Graphics/SVG/1.1/DTD/svg11.dtd\">\n<!-- Generated by graphviz version 2.40.1 (20161225.0304)\n -->\n<!-- Title: Tree Pages: 1 -->\n<svg width=\"1626pt\" height=\"1205pt\"\n viewBox=\"0.00 0.00 1626.00 1205.00\" xmlns=\"http://www.w3.org/2000/svg\" xmlns:xlink=\"http://www.w3.org/1999/xlink\">\n<g id=\"graph0\" class=\"graph\" transform=\"scale(1 1) rotate(0) translate(4 1201)\">\n<title>Tree</title>\n<polygon fill=\"#ffffff\" stroke=\"transparent\" points=\"-4,4 -4,-1201 1622,-1201 1622,4 -4,4\"/>\n<!-- 0 -->\n<g id=\"node1\" class=\"node\">\n<title>0</title>\n<polygon fill=\"#f6fbfe\" stroke=\"#000000\" points=\"932.5,-1197 800.5,-1197 800.5,-1129 932.5,-1129 932.5,-1197\"/>\n<text text-anchor=\"middle\" x=\"866.5\" y=\"-1181.8\" font-family=\"Helvetica,sans-Serif\" font-size=\"14.00\" fill=\"#000000\">X[3] &lt;= 0.45</text>\n<text text-anchor=\"middle\" x=\"866.5\" y=\"-1166.8\" font-family=\"Helvetica,sans-Serif\" font-size=\"14.00\" fill=\"#000000\">gini = 0.5</text>\n<text text-anchor=\"middle\" x=\"866.5\" y=\"-1151.8\" font-family=\"Helvetica,sans-Serif\" font-size=\"14.00\" fill=\"#000000\">samples = 266</text>\n<text text-anchor=\"middle\" x=\"866.5\" y=\"-1136.8\" font-family=\"Helvetica,sans-Serif\" font-size=\"14.00\" fill=\"#000000\">value = [130, 136]</text>\n</g>\n<!-- 1 -->\n<g id=\"node2\" class=\"node\">\n<title>1</title>\n<polygon fill=\"#f2be98\" stroke=\"#000000\" points=\"811.5,-1093 687.5,-1093 687.5,-1025 811.5,-1025 811.5,-1093\"/>\n<text text-anchor=\"middle\" x=\"749.5\" y=\"-1077.8\" font-family=\"Helvetica,sans-Serif\" font-size=\"14.00\" fill=\"#000000\">X[5] &lt;= 1.017</text>\n<text text-anchor=\"middle\" x=\"749.5\" y=\"-1062.8\" font-family=\"Helvetica,sans-Serif\" font-size=\"14.00\" fill=\"#000000\">gini = 0.439</text>\n<text text-anchor=\"middle\" x=\"749.5\" y=\"-1047.8\" font-family=\"Helvetica,sans-Serif\" font-size=\"14.00\" fill=\"#000000\">samples = 163</text>\n<text text-anchor=\"middle\" x=\"749.5\" y=\"-1032.8\" font-family=\"Helvetica,sans-Serif\" font-size=\"14.00\" fill=\"#000000\">value = [110, 53]</text>\n</g>\n<!-- 0&#45;&gt;1 -->\n<g id=\"edge1\" class=\"edge\">\n<title>0&#45;&gt;1</title>\n<path fill=\"none\" stroke=\"#000000\" d=\"M828.1898,-1128.9465C817.7859,-1119.6986 806.411,-1109.5876 795.6243,-1099.9994\"/>\n<polygon fill=\"#000000\" stroke=\"#000000\" points=\"797.6956,-1097.1577 787.8962,-1093.13 793.0451,-1102.3896 797.6956,-1097.1577\"/>\n<text text-anchor=\"middle\" x=\"789.3643\" y=\"-1114.3869\" font-family=\"Helvetica,sans-Serif\" font-size=\"14.00\" fill=\"#000000\">True</text>\n</g>\n<!-- 34 -->\n<g id=\"node35\" class=\"node\">\n<title>34</title>\n<polygon fill=\"#69b5eb\" stroke=\"#000000\" points=\"1082.5,-1093 966.5,-1093 966.5,-1025 1082.5,-1025 1082.5,-1093\"/>\n<text text-anchor=\"middle\" x=\"1024.5\" y=\"-1077.8\" font-family=\"Helvetica,sans-Serif\" font-size=\"14.00\" fill=\"#000000\">X[5] &lt;= &#45;0.833</text>\n<text text-anchor=\"middle\" x=\"1024.5\" y=\"-1062.8\" font-family=\"Helvetica,sans-Serif\" font-size=\"14.00\" fill=\"#000000\">gini = 0.313</text>\n<text text-anchor=\"middle\" x=\"1024.5\" y=\"-1047.8\" font-family=\"Helvetica,sans-Serif\" font-size=\"14.00\" fill=\"#000000\">samples = 103</text>\n<text text-anchor=\"middle\" x=\"1024.5\" y=\"-1032.8\" font-family=\"Helvetica,sans-Serif\" font-size=\"14.00\" fill=\"#000000\">value = [20, 83]</text>\n</g>\n<!-- 0&#45;&gt;34 -->\n<g id=\"edge34\" class=\"edge\">\n<title>0&#45;&gt;34</title>\n<path fill=\"none\" stroke=\"#000000\" d=\"M918.2351,-1128.9465C932.8304,-1119.3395 948.8409,-1108.8009 963.9058,-1098.8848\"/>\n<polygon fill=\"#000000\" stroke=\"#000000\" points=\"966.2201,-1101.5517 972.6487,-1093.13 962.3714,-1095.7046 966.2201,-1101.5517\"/>\n<text text-anchor=\"middle\" x=\"967.6021\" y=\"-1113.9153\" font-family=\"Helvetica,sans-Serif\" font-size=\"14.00\" fill=\"#000000\">False</text>\n</g>\n<!-- 2 -->\n<g id=\"node3\" class=\"node\">\n<title>2</title>\n<polygon fill=\"#e88e4e\" stroke=\"#000000\" points=\"629.5,-989 505.5,-989 505.5,-921 629.5,-921 629.5,-989\"/>\n<text text-anchor=\"middle\" x=\"567.5\" y=\"-973.8\" font-family=\"Helvetica,sans-Serif\" font-size=\"14.00\" fill=\"#000000\">X[4] &lt;= 1.396</text>\n<text text-anchor=\"middle\" x=\"567.5\" y=\"-958.8\" font-family=\"Helvetica,sans-Serif\" font-size=\"14.00\" fill=\"#000000\">gini = 0.17</text>\n<text text-anchor=\"middle\" x=\"567.5\" y=\"-943.8\" font-family=\"Helvetica,sans-Serif\" font-size=\"14.00\" fill=\"#000000\">samples = 117</text>\n<text text-anchor=\"middle\" x=\"567.5\" y=\"-928.8\" font-family=\"Helvetica,sans-Serif\" font-size=\"14.00\" fill=\"#000000\">value = [106, 11]</text>\n</g>\n<!-- 1&#45;&gt;2 -->\n<g id=\"edge2\" class=\"edge\">\n<title>1&#45;&gt;2</title>\n<path fill=\"none\" stroke=\"#000000\" d=\"M689.9064,-1024.9465C672.7798,-1015.1599 653.9616,-1004.4066 636.3265,-994.3294\"/>\n<polygon fill=\"#000000\" stroke=\"#000000\" points=\"637.6464,-991.0526 627.2275,-989.13 634.1734,-997.1303 637.6464,-991.0526\"/>\n</g>\n<!-- 29 -->\n<g id=\"node30\" class=\"node\">\n<title>29</title>\n<polygon fill=\"#4ca6e7\" stroke=\"#000000\" points=\"803,-989 696,-989 696,-921 803,-921 803,-989\"/>\n<text text-anchor=\"middle\" x=\"749.5\" y=\"-973.8\" font-family=\"Helvetica,sans-Serif\" font-size=\"14.00\" fill=\"#000000\">X[3] &lt;= &#45;1.177</text>\n<text text-anchor=\"middle\" x=\"749.5\" y=\"-958.8\" font-family=\"Helvetica,sans-Serif\" font-size=\"14.00\" fill=\"#000000\">gini = 0.159</text>\n<text text-anchor=\"middle\" x=\"749.5\" y=\"-943.8\" font-family=\"Helvetica,sans-Serif\" font-size=\"14.00\" fill=\"#000000\">samples = 46</text>\n<text text-anchor=\"middle\" x=\"749.5\" y=\"-928.8\" font-family=\"Helvetica,sans-Serif\" font-size=\"14.00\" fill=\"#000000\">value = [4, 42]</text>\n</g>\n<!-- 1&#45;&gt;29 -->\n<g id=\"edge29\" class=\"edge\">\n<title>1&#45;&gt;29</title>\n<path fill=\"none\" stroke=\"#000000\" d=\"M749.5,-1024.9465C749.5,-1016.776 749.5,-1007.9318 749.5,-999.3697\"/>\n<polygon fill=\"#000000\" stroke=\"#000000\" points=\"753.0001,-999.13 749.5,-989.13 746.0001,-999.13 753.0001,-999.13\"/>\n</g>\n<!-- 3 -->\n<g id=\"node4\" class=\"node\">\n<title>3</title>\n<polygon fill=\"#e78c4a\" stroke=\"#000000\" points=\"421.5,-885 305.5,-885 305.5,-817 421.5,-817 421.5,-885\"/>\n<text text-anchor=\"middle\" x=\"363.5\" y=\"-869.8\" font-family=\"Helvetica,sans-Serif\" font-size=\"14.00\" fill=\"#000000\">X[3] &lt;= &#45;0.109</text>\n<text text-anchor=\"middle\" x=\"363.5\" y=\"-854.8\" font-family=\"Helvetica,sans-Serif\" font-size=\"14.00\" fill=\"#000000\">gini = 0.145</text>\n<text text-anchor=\"middle\" x=\"363.5\" y=\"-839.8\" font-family=\"Helvetica,sans-Serif\" font-size=\"14.00\" fill=\"#000000\">samples = 114</text>\n<text text-anchor=\"middle\" x=\"363.5\" y=\"-824.8\" font-family=\"Helvetica,sans-Serif\" font-size=\"14.00\" fill=\"#000000\">value = [105, 9]</text>\n</g>\n<!-- 2&#45;&gt;3 -->\n<g id=\"edge3\" class=\"edge\">\n<title>2&#45;&gt;3</title>\n<path fill=\"none\" stroke=\"#000000\" d=\"M505.4624,-923.373C481.8672,-911.3441 454.8832,-897.5875 430.8217,-885.3209\"/>\n<polygon fill=\"#000000\" stroke=\"#000000\" points=\"432.2548,-882.1229 421.7561,-880.6992 429.0755,-888.3593 432.2548,-882.1229\"/>\n</g>\n<!-- 26 -->\n<g id=\"node27\" class=\"node\">\n<title>26</title>\n<polygon fill=\"#9ccef2\" stroke=\"#000000\" points=\"619,-885 516,-885 516,-817 619,-817 619,-885\"/>\n<text text-anchor=\"middle\" x=\"567.5\" y=\"-869.8\" font-family=\"Helvetica,sans-Serif\" font-size=\"14.00\" fill=\"#000000\">X[5] &lt;= 0.909</text>\n<text text-anchor=\"middle\" x=\"567.5\" y=\"-854.8\" font-family=\"Helvetica,sans-Serif\" font-size=\"14.00\" fill=\"#000000\">gini = 0.444</text>\n<text text-anchor=\"middle\" x=\"567.5\" y=\"-839.8\" font-family=\"Helvetica,sans-Serif\" font-size=\"14.00\" fill=\"#000000\">samples = 3</text>\n<text text-anchor=\"middle\" x=\"567.5\" y=\"-824.8\" font-family=\"Helvetica,sans-Serif\" font-size=\"14.00\" fill=\"#000000\">value = [1, 2]</text>\n</g>\n<!-- 2&#45;&gt;26 -->\n<g id=\"edge26\" class=\"edge\">\n<title>2&#45;&gt;26</title>\n<path fill=\"none\" stroke=\"#000000\" d=\"M567.5,-920.9465C567.5,-912.776 567.5,-903.9318 567.5,-895.3697\"/>\n<polygon fill=\"#000000\" stroke=\"#000000\" points=\"571.0001,-895.13 567.5,-885.13 564.0001,-895.13 571.0001,-895.13\"/>\n</g>\n<!-- 4 -->\n<g id=\"node5\" class=\"node\">\n<title>4</title>\n<polygon fill=\"#e5833c\" stroke=\"#000000\" points=\"232,-781 125,-781 125,-713 232,-713 232,-781\"/>\n<text text-anchor=\"middle\" x=\"178.5\" y=\"-765.8\" font-family=\"Helvetica,sans-Serif\" font-size=\"14.00\" fill=\"#000000\">X[2] &lt;= 0.963</text>\n<text text-anchor=\"middle\" x=\"178.5\" y=\"-750.8\" font-family=\"Helvetica,sans-Serif\" font-size=\"14.00\" fill=\"#000000\">gini = 0.032</text>\n<text text-anchor=\"middle\" x=\"178.5\" y=\"-735.8\" font-family=\"Helvetica,sans-Serif\" font-size=\"14.00\" fill=\"#000000\">samples = 62</text>\n<text text-anchor=\"middle\" x=\"178.5\" y=\"-720.8\" font-family=\"Helvetica,sans-Serif\" font-size=\"14.00\" fill=\"#000000\">value = [61, 1]</text>\n</g>\n<!-- 3&#45;&gt;4 -->\n<g id=\"edge4\" class=\"edge\">\n<title>3&#45;&gt;4</title>\n<path fill=\"none\" stroke=\"#000000\" d=\"M305.4724,-818.3791C284.9813,-806.8598 261.8564,-793.8598 241.0103,-782.1409\"/>\n<polygon fill=\"#000000\" stroke=\"#000000\" points=\"242.6622,-779.0544 232.23,-777.205 239.2319,-785.1564 242.6622,-779.0544\"/>\n</g>\n<!-- 9 -->\n<g id=\"node10\" class=\"node\">\n<title>9</title>\n<polygon fill=\"#ea985d\" stroke=\"#000000\" points=\"417,-781 310,-781 310,-713 417,-713 417,-781\"/>\n<text text-anchor=\"middle\" x=\"363.5\" y=\"-765.8\" font-family=\"Helvetica,sans-Serif\" font-size=\"14.00\" fill=\"#000000\">X[5] &lt;= &#45;0.537</text>\n<text text-anchor=\"middle\" x=\"363.5\" y=\"-750.8\" font-family=\"Helvetica,sans-Serif\" font-size=\"14.00\" fill=\"#000000\">gini = 0.26</text>\n<text text-anchor=\"middle\" x=\"363.5\" y=\"-735.8\" font-family=\"Helvetica,sans-Serif\" font-size=\"14.00\" fill=\"#000000\">samples = 52</text>\n<text text-anchor=\"middle\" x=\"363.5\" y=\"-720.8\" font-family=\"Helvetica,sans-Serif\" font-size=\"14.00\" fill=\"#000000\">value = [44, 8]</text>\n</g>\n<!-- 3&#45;&gt;9 -->\n<g id=\"edge9\" class=\"edge\">\n<title>3&#45;&gt;9</title>\n<path fill=\"none\" stroke=\"#000000\" d=\"M363.5,-816.9465C363.5,-808.776 363.5,-799.9318 363.5,-791.3697\"/>\n<polygon fill=\"#000000\" stroke=\"#000000\" points=\"367.0001,-791.13 363.5,-781.13 360.0001,-791.13 367.0001,-791.13\"/>\n</g>\n<!-- 5 -->\n<g id=\"node6\" class=\"node\">\n<title>5</title>\n<polygon fill=\"#e58139\" stroke=\"#000000\" points=\"107,-669.5 0,-669.5 0,-616.5 107,-616.5 107,-669.5\"/>\n<text text-anchor=\"middle\" x=\"53.5\" y=\"-654.3\" font-family=\"Helvetica,sans-Serif\" font-size=\"14.00\" fill=\"#000000\">gini = 0.0</text>\n<text text-anchor=\"middle\" x=\"53.5\" y=\"-639.3\" font-family=\"Helvetica,sans-Serif\" font-size=\"14.00\" fill=\"#000000\">samples = 60</text>\n<text text-anchor=\"middle\" x=\"53.5\" y=\"-624.3\" font-family=\"Helvetica,sans-Serif\" font-size=\"14.00\" fill=\"#000000\">value = [60, 0]</text>\n</g>\n<!-- 4&#45;&gt;5 -->\n<g id=\"edge5\" class=\"edge\">\n<title>4&#45;&gt;5</title>\n<path fill=\"none\" stroke=\"#000000\" d=\"M137.5703,-712.9465C123.4045,-701.1606 107.5537,-687.9726 93.4662,-676.2519\"/>\n<polygon fill=\"#000000\" stroke=\"#000000\" points=\"95.3275,-673.2474 85.4016,-669.5422 90.8504,-678.6285 95.3275,-673.2474\"/>\n</g>\n<!-- 6 -->\n<g id=\"node7\" class=\"node\">\n<title>6</title>\n<polygon fill=\"#ffffff\" stroke=\"#000000\" points=\"232,-677 125,-677 125,-609 232,-609 232,-677\"/>\n<text text-anchor=\"middle\" x=\"178.5\" y=\"-661.8\" font-family=\"Helvetica,sans-Serif\" font-size=\"14.00\" fill=\"#000000\">X[3] &lt;= &#45;0.847</text>\n<text text-anchor=\"middle\" x=\"178.5\" y=\"-646.8\" font-family=\"Helvetica,sans-Serif\" font-size=\"14.00\" fill=\"#000000\">gini = 0.5</text>\n<text text-anchor=\"middle\" x=\"178.5\" y=\"-631.8\" font-family=\"Helvetica,sans-Serif\" font-size=\"14.00\" fill=\"#000000\">samples = 2</text>\n<text text-anchor=\"middle\" x=\"178.5\" y=\"-616.8\" font-family=\"Helvetica,sans-Serif\" font-size=\"14.00\" fill=\"#000000\">value = [1, 1]</text>\n</g>\n<!-- 4&#45;&gt;6 -->\n<g id=\"edge6\" class=\"edge\">\n<title>4&#45;&gt;6</title>\n<path fill=\"none\" stroke=\"#000000\" d=\"M178.5,-712.9465C178.5,-704.776 178.5,-695.9318 178.5,-687.3697\"/>\n<polygon fill=\"#000000\" stroke=\"#000000\" points=\"182.0001,-687.13 178.5,-677.13 175.0001,-687.13 182.0001,-687.13\"/>\n</g>\n<!-- 7 -->\n<g id=\"node8\" class=\"node\">\n<title>7</title>\n<polygon fill=\"#e58139\" stroke=\"#000000\" points=\"111,-565.5 12,-565.5 12,-512.5 111,-512.5 111,-565.5\"/>\n<text text-anchor=\"middle\" x=\"61.5\" y=\"-550.3\" font-family=\"Helvetica,sans-Serif\" font-size=\"14.00\" fill=\"#000000\">gini = 0.0</text>\n<text text-anchor=\"middle\" x=\"61.5\" y=\"-535.3\" font-family=\"Helvetica,sans-Serif\" font-size=\"14.00\" fill=\"#000000\">samples = 1</text>\n<text text-anchor=\"middle\" x=\"61.5\" y=\"-520.3\" font-family=\"Helvetica,sans-Serif\" font-size=\"14.00\" fill=\"#000000\">value = [1, 0]</text>\n</g>\n<!-- 6&#45;&gt;7 -->\n<g id=\"edge7\" class=\"edge\">\n<title>6&#45;&gt;7</title>\n<path fill=\"none\" stroke=\"#000000\" d=\"M140.1898,-608.9465C126.9306,-597.1606 112.0942,-583.9726 98.9084,-572.2519\"/>\n<polygon fill=\"#000000\" stroke=\"#000000\" points=\"101.1593,-569.5699 91.3599,-565.5422 96.5088,-574.8018 101.1593,-569.5699\"/>\n</g>\n<!-- 8 -->\n<g id=\"node9\" class=\"node\">\n<title>8</title>\n<polygon fill=\"#399de5\" stroke=\"#000000\" points=\"228,-565.5 129,-565.5 129,-512.5 228,-512.5 228,-565.5\"/>\n<text text-anchor=\"middle\" x=\"178.5\" y=\"-550.3\" font-family=\"Helvetica,sans-Serif\" font-size=\"14.00\" fill=\"#000000\">gini = 0.0</text>\n<text text-anchor=\"middle\" x=\"178.5\" y=\"-535.3\" font-family=\"Helvetica,sans-Serif\" font-size=\"14.00\" fill=\"#000000\">samples = 1</text>\n<text text-anchor=\"middle\" x=\"178.5\" y=\"-520.3\" font-family=\"Helvetica,sans-Serif\" font-size=\"14.00\" fill=\"#000000\">value = [0, 1]</text>\n</g>\n<!-- 6&#45;&gt;8 -->\n<g id=\"edge8\" class=\"edge\">\n<title>6&#45;&gt;8</title>\n<path fill=\"none\" stroke=\"#000000\" d=\"M178.5,-608.9465C178.5,-598.2621 178.5,-586.4254 178.5,-575.5742\"/>\n<polygon fill=\"#000000\" stroke=\"#000000\" points=\"182.0001,-575.5421 178.5,-565.5422 175.0001,-575.5422 182.0001,-575.5421\"/>\n</g>\n<!-- 10 -->\n<g id=\"node11\" class=\"node\">\n<title>10</title>\n<polygon fill=\"#e78a47\" stroke=\"#000000\" points=\"417,-677 310,-677 310,-609 417,-609 417,-677\"/>\n<text text-anchor=\"middle\" x=\"363.5\" y=\"-661.8\" font-family=\"Helvetica,sans-Serif\" font-size=\"14.00\" fill=\"#000000\">X[2] &lt;= &#45;0.63</text>\n<text text-anchor=\"middle\" x=\"363.5\" y=\"-646.8\" font-family=\"Helvetica,sans-Serif\" font-size=\"14.00\" fill=\"#000000\">gini = 0.124</text>\n<text text-anchor=\"middle\" x=\"363.5\" y=\"-631.8\" font-family=\"Helvetica,sans-Serif\" font-size=\"14.00\" fill=\"#000000\">samples = 45</text>\n<text text-anchor=\"middle\" x=\"363.5\" y=\"-616.8\" font-family=\"Helvetica,sans-Serif\" font-size=\"14.00\" fill=\"#000000\">value = [42, 3]</text>\n</g>\n<!-- 9&#45;&gt;10 -->\n<g id=\"edge10\" class=\"edge\">\n<title>9&#45;&gt;10</title>\n<path fill=\"none\" stroke=\"#000000\" d=\"M363.5,-712.9465C363.5,-704.776 363.5,-695.9318 363.5,-687.3697\"/>\n<polygon fill=\"#000000\" stroke=\"#000000\" points=\"367.0001,-687.13 363.5,-677.13 360.0001,-687.13 367.0001,-687.13\"/>\n</g>\n<!-- 19 -->\n<g id=\"node20\" class=\"node\">\n<title>19</title>\n<polygon fill=\"#88c4ef\" stroke=\"#000000\" points=\"597,-677 498,-677 498,-609 597,-609 597,-677\"/>\n<text text-anchor=\"middle\" x=\"547.5\" y=\"-661.8\" font-family=\"Helvetica,sans-Serif\" font-size=\"14.00\" fill=\"#000000\">X[0] &lt;= 0.5</text>\n<text text-anchor=\"middle\" x=\"547.5\" y=\"-646.8\" font-family=\"Helvetica,sans-Serif\" font-size=\"14.00\" fill=\"#000000\">gini = 0.408</text>\n<text text-anchor=\"middle\" x=\"547.5\" y=\"-631.8\" font-family=\"Helvetica,sans-Serif\" font-size=\"14.00\" fill=\"#000000\">samples = 7</text>\n<text text-anchor=\"middle\" x=\"547.5\" y=\"-616.8\" font-family=\"Helvetica,sans-Serif\" font-size=\"14.00\" fill=\"#000000\">value = [2, 5]</text>\n</g>\n<!-- 9&#45;&gt;19 -->\n<g id=\"edge19\" class=\"edge\">\n<title>9&#45;&gt;19</title>\n<path fill=\"none\" stroke=\"#000000\" d=\"M417.215,-716.6393C439.6896,-703.9363 465.8741,-689.1364 488.8494,-676.1503\"/>\n<polygon fill=\"#000000\" stroke=\"#000000\" points=\"490.8296,-679.0515 497.813,-671.0839 487.3852,-672.9576 490.8296,-679.0515\"/>\n</g>\n<!-- 11 -->\n<g id=\"node12\" class=\"node\">\n<title>11</title>\n<polygon fill=\"#e58139\" stroke=\"#000000\" points=\"353,-565.5 246,-565.5 246,-512.5 353,-512.5 353,-565.5\"/>\n<text text-anchor=\"middle\" x=\"299.5\" y=\"-550.3\" font-family=\"Helvetica,sans-Serif\" font-size=\"14.00\" fill=\"#000000\">gini = 0.0</text>\n<text text-anchor=\"middle\" x=\"299.5\" y=\"-535.3\" font-family=\"Helvetica,sans-Serif\" font-size=\"14.00\" fill=\"#000000\">samples = 28</text>\n<text text-anchor=\"middle\" x=\"299.5\" y=\"-520.3\" font-family=\"Helvetica,sans-Serif\" font-size=\"14.00\" fill=\"#000000\">value = [28, 0]</text>\n</g>\n<!-- 10&#45;&gt;11 -->\n<g id=\"edge11\" class=\"edge\">\n<title>10&#45;&gt;11</title>\n<path fill=\"none\" stroke=\"#000000\" d=\"M342.544,-608.9465C335.6978,-597.8215 328.0829,-585.4473 321.1843,-574.237\"/>\n<polygon fill=\"#000000\" stroke=\"#000000\" points=\"324.0555,-572.2244 315.8336,-565.5422 318.0939,-575.8931 324.0555,-572.2244\"/>\n</g>\n<!-- 12 -->\n<g id=\"node13\" class=\"node\">\n<title>12</title>\n<polygon fill=\"#eb9c63\" stroke=\"#000000\" points=\"478,-573 371,-573 371,-505 478,-505 478,-573\"/>\n<text text-anchor=\"middle\" x=\"424.5\" y=\"-557.8\" font-family=\"Helvetica,sans-Serif\" font-size=\"14.00\" fill=\"#000000\">X[2] &lt;= &#45;0.566</text>\n<text text-anchor=\"middle\" x=\"424.5\" y=\"-542.8\" font-family=\"Helvetica,sans-Serif\" font-size=\"14.00\" fill=\"#000000\">gini = 0.291</text>\n<text text-anchor=\"middle\" x=\"424.5\" y=\"-527.8\" font-family=\"Helvetica,sans-Serif\" font-size=\"14.00\" fill=\"#000000\">samples = 17</text>\n<text text-anchor=\"middle\" x=\"424.5\" y=\"-512.8\" font-family=\"Helvetica,sans-Serif\" font-size=\"14.00\" fill=\"#000000\">value = [14, 3]</text>\n</g>\n<!-- 10&#45;&gt;12 -->\n<g id=\"edge12\" class=\"edge\">\n<title>10&#45;&gt;12</title>\n<path fill=\"none\" stroke=\"#000000\" d=\"M383.4737,-608.9465C388.5293,-600.3271 394.0247,-590.9579 399.3017,-581.9611\"/>\n<polygon fill=\"#000000\" stroke=\"#000000\" points=\"402.4411,-583.5265 404.4814,-573.13 396.4031,-579.985 402.4411,-583.5265\"/>\n</g>\n<!-- 13 -->\n<g id=\"node14\" class=\"node\">\n<title>13</title>\n<polygon fill=\"#399de5\" stroke=\"#000000\" points=\"353,-461.5 254,-461.5 254,-408.5 353,-408.5 353,-461.5\"/>\n<text text-anchor=\"middle\" x=\"303.5\" y=\"-446.3\" font-family=\"Helvetica,sans-Serif\" font-size=\"14.00\" fill=\"#000000\">gini = 0.0</text>\n<text text-anchor=\"middle\" x=\"303.5\" y=\"-431.3\" font-family=\"Helvetica,sans-Serif\" font-size=\"14.00\" fill=\"#000000\">samples = 2</text>\n<text text-anchor=\"middle\" x=\"303.5\" y=\"-416.3\" font-family=\"Helvetica,sans-Serif\" font-size=\"14.00\" fill=\"#000000\">value = [0, 2]</text>\n</g>\n<!-- 12&#45;&gt;13 -->\n<g id=\"edge13\" class=\"edge\">\n<title>12&#45;&gt;13</title>\n<path fill=\"none\" stroke=\"#000000\" d=\"M384.8801,-504.9465C371.1676,-493.1606 355.8239,-479.9726 342.1873,-468.2519\"/>\n<polygon fill=\"#000000\" stroke=\"#000000\" points=\"344.2459,-465.4061 334.3808,-461.5422 339.6831,-470.7147 344.2459,-465.4061\"/>\n</g>\n<!-- 14 -->\n<g id=\"node15\" class=\"node\">\n<title>14</title>\n<polygon fill=\"#e78a47\" stroke=\"#000000\" points=\"478,-469 371,-469 371,-401 478,-401 478,-469\"/>\n<text text-anchor=\"middle\" x=\"424.5\" y=\"-453.8\" font-family=\"Helvetica,sans-Serif\" font-size=\"14.00\" fill=\"#000000\">X[2] &lt;= 0.688</text>\n<text text-anchor=\"middle\" x=\"424.5\" y=\"-438.8\" font-family=\"Helvetica,sans-Serif\" font-size=\"14.00\" fill=\"#000000\">gini = 0.124</text>\n<text text-anchor=\"middle\" x=\"424.5\" y=\"-423.8\" font-family=\"Helvetica,sans-Serif\" font-size=\"14.00\" fill=\"#000000\">samples = 15</text>\n<text text-anchor=\"middle\" x=\"424.5\" y=\"-408.8\" font-family=\"Helvetica,sans-Serif\" font-size=\"14.00\" fill=\"#000000\">value = [14, 1]</text>\n</g>\n<!-- 12&#45;&gt;14 -->\n<g id=\"edge14\" class=\"edge\">\n<title>12&#45;&gt;14</title>\n<path fill=\"none\" stroke=\"#000000\" d=\"M424.5,-504.9465C424.5,-496.776 424.5,-487.9318 424.5,-479.3697\"/>\n<polygon fill=\"#000000\" stroke=\"#000000\" points=\"428.0001,-479.13 424.5,-469.13 421.0001,-479.13 428.0001,-479.13\"/>\n</g>\n<!-- 15 -->\n<g id=\"node16\" class=\"node\">\n<title>15</title>\n<polygon fill=\"#e58139\" stroke=\"#000000\" points=\"356,-357.5 249,-357.5 249,-304.5 356,-304.5 356,-357.5\"/>\n<text text-anchor=\"middle\" x=\"302.5\" y=\"-342.3\" font-family=\"Helvetica,sans-Serif\" font-size=\"14.00\" fill=\"#000000\">gini = 0.0</text>\n<text text-anchor=\"middle\" x=\"302.5\" y=\"-327.3\" font-family=\"Helvetica,sans-Serif\" font-size=\"14.00\" fill=\"#000000\">samples = 11</text>\n<text text-anchor=\"middle\" x=\"302.5\" y=\"-312.3\" font-family=\"Helvetica,sans-Serif\" font-size=\"14.00\" fill=\"#000000\">value = [11, 0]</text>\n</g>\n<!-- 14&#45;&gt;15 -->\n<g id=\"edge15\" class=\"edge\">\n<title>14&#45;&gt;15</title>\n<path fill=\"none\" stroke=\"#000000\" d=\"M384.5526,-400.9465C370.7268,-389.1606 355.2564,-375.9726 341.5071,-364.2519\"/>\n<polygon fill=\"#000000\" stroke=\"#000000\" points=\"343.5168,-361.366 333.636,-357.5422 338.9756,-366.6931 343.5168,-361.366\"/>\n</g>\n<!-- 16 -->\n<g id=\"node17\" class=\"node\">\n<title>16</title>\n<polygon fill=\"#eeab7b\" stroke=\"#000000\" points=\"477,-365 374,-365 374,-297 477,-297 477,-365\"/>\n<text text-anchor=\"middle\" x=\"425.5\" y=\"-349.8\" font-family=\"Helvetica,sans-Serif\" font-size=\"14.00\" fill=\"#000000\">X[2] &lt;= 0.944</text>\n<text text-anchor=\"middle\" x=\"425.5\" y=\"-334.8\" font-family=\"Helvetica,sans-Serif\" font-size=\"14.00\" fill=\"#000000\">gini = 0.375</text>\n<text text-anchor=\"middle\" x=\"425.5\" y=\"-319.8\" font-family=\"Helvetica,sans-Serif\" font-size=\"14.00\" fill=\"#000000\">samples = 4</text>\n<text text-anchor=\"middle\" x=\"425.5\" y=\"-304.8\" font-family=\"Helvetica,sans-Serif\" font-size=\"14.00\" fill=\"#000000\">value = [3, 1]</text>\n</g>\n<!-- 14&#45;&gt;16 -->\n<g id=\"edge16\" class=\"edge\">\n<title>14&#45;&gt;16</title>\n<path fill=\"none\" stroke=\"#000000\" d=\"M424.8274,-400.9465C424.906,-392.776 424.991,-383.9318 425.0734,-375.3697\"/>\n<polygon fill=\"#000000\" stroke=\"#000000\" points=\"428.5754,-375.1632 425.1718,-365.13 421.5757,-375.0958 428.5754,-375.1632\"/>\n</g>\n<!-- 17 -->\n<g id=\"node18\" class=\"node\">\n<title>17</title>\n<polygon fill=\"#399de5\" stroke=\"#000000\" points=\"417,-253.5 318,-253.5 318,-200.5 417,-200.5 417,-253.5\"/>\n<text text-anchor=\"middle\" x=\"367.5\" y=\"-238.3\" font-family=\"Helvetica,sans-Serif\" font-size=\"14.00\" fill=\"#000000\">gini = 0.0</text>\n<text text-anchor=\"middle\" x=\"367.5\" y=\"-223.3\" font-family=\"Helvetica,sans-Serif\" font-size=\"14.00\" fill=\"#000000\">samples = 1</text>\n<text text-anchor=\"middle\" x=\"367.5\" y=\"-208.3\" font-family=\"Helvetica,sans-Serif\" font-size=\"14.00\" fill=\"#000000\">value = [0, 1]</text>\n</g>\n<!-- 16&#45;&gt;17 -->\n<g id=\"edge17\" class=\"edge\">\n<title>16&#45;&gt;17</title>\n<path fill=\"none\" stroke=\"#000000\" d=\"M406.5086,-296.9465C400.3657,-285.9316 393.5399,-273.6922 387.3373,-262.5703\"/>\n<polygon fill=\"#000000\" stroke=\"#000000\" points=\"390.2299,-260.5711 382.3024,-253.5422 384.1163,-263.9806 390.2299,-260.5711\"/>\n</g>\n<!-- 18 -->\n<g id=\"node19\" class=\"node\">\n<title>18</title>\n<polygon fill=\"#e58139\" stroke=\"#000000\" points=\"534,-253.5 435,-253.5 435,-200.5 534,-200.5 534,-253.5\"/>\n<text text-anchor=\"middle\" x=\"484.5\" y=\"-238.3\" font-family=\"Helvetica,sans-Serif\" font-size=\"14.00\" fill=\"#000000\">gini = 0.0</text>\n<text text-anchor=\"middle\" x=\"484.5\" y=\"-223.3\" font-family=\"Helvetica,sans-Serif\" font-size=\"14.00\" fill=\"#000000\">samples = 3</text>\n<text text-anchor=\"middle\" x=\"484.5\" y=\"-208.3\" font-family=\"Helvetica,sans-Serif\" font-size=\"14.00\" fill=\"#000000\">value = [3, 0]</text>\n</g>\n<!-- 16&#45;&gt;18 -->\n<g id=\"edge18\" class=\"edge\">\n<title>16&#45;&gt;18</title>\n<path fill=\"none\" stroke=\"#000000\" d=\"M444.8188,-296.9465C451.0676,-285.9316 458.0112,-273.6922 464.3207,-262.5703\"/>\n<polygon fill=\"#000000\" stroke=\"#000000\" points=\"467.5523,-263.967 469.4424,-253.5422 461.4638,-260.513 467.5523,-263.967\"/>\n</g>\n<!-- 20 -->\n<g id=\"node21\" class=\"node\">\n<title>20</title>\n<polygon fill=\"#61b1ea\" stroke=\"#000000\" points=\"599,-573 496,-573 496,-505 599,-505 599,-573\"/>\n<text text-anchor=\"middle\" x=\"547.5\" y=\"-557.8\" font-family=\"Helvetica,sans-Serif\" font-size=\"14.00\" fill=\"#000000\">X[3] &lt;= 0.145</text>\n<text text-anchor=\"middle\" x=\"547.5\" y=\"-542.8\" font-family=\"Helvetica,sans-Serif\" font-size=\"14.00\" fill=\"#000000\">gini = 0.278</text>\n<text text-anchor=\"middle\" x=\"547.5\" y=\"-527.8\" font-family=\"Helvetica,sans-Serif\" font-size=\"14.00\" fill=\"#000000\">samples = 6</text>\n<text text-anchor=\"middle\" x=\"547.5\" y=\"-512.8\" font-family=\"Helvetica,sans-Serif\" font-size=\"14.00\" fill=\"#000000\">value = [1, 5]</text>\n</g>\n<!-- 19&#45;&gt;20 -->\n<g id=\"edge20\" class=\"edge\">\n<title>19&#45;&gt;20</title>\n<path fill=\"none\" stroke=\"#000000\" d=\"M547.5,-608.9465C547.5,-600.776 547.5,-591.9318 547.5,-583.3697\"/>\n<polygon fill=\"#000000\" stroke=\"#000000\" points=\"551.0001,-583.13 547.5,-573.13 544.0001,-583.13 551.0001,-583.13\"/>\n</g>\n<!-- 25 -->\n<g id=\"node26\" class=\"node\">\n<title>25</title>\n<polygon fill=\"#e58139\" stroke=\"#000000\" points=\"716,-565.5 617,-565.5 617,-512.5 716,-512.5 716,-565.5\"/>\n<text text-anchor=\"middle\" x=\"666.5\" y=\"-550.3\" font-family=\"Helvetica,sans-Serif\" font-size=\"14.00\" fill=\"#000000\">gini = 0.0</text>\n<text text-anchor=\"middle\" x=\"666.5\" y=\"-535.3\" font-family=\"Helvetica,sans-Serif\" font-size=\"14.00\" fill=\"#000000\">samples = 1</text>\n<text text-anchor=\"middle\" x=\"666.5\" y=\"-520.3\" font-family=\"Helvetica,sans-Serif\" font-size=\"14.00\" fill=\"#000000\">value = [1, 0]</text>\n</g>\n<!-- 19&#45;&gt;25 -->\n<g id=\"edge25\" class=\"edge\">\n<title>19&#45;&gt;25</title>\n<path fill=\"none\" stroke=\"#000000\" d=\"M586.4651,-608.9465C599.9509,-597.1606 615.0409,-583.9726 628.4521,-572.2519\"/>\n<polygon fill=\"#000000\" stroke=\"#000000\" points=\"630.9031,-574.7582 636.1296,-565.5422 626.2967,-569.4874 630.9031,-574.7582\"/>\n</g>\n<!-- 21 -->\n<g id=\"node22\" class=\"node\">\n<title>21</title>\n<polygon fill=\"#ffffff\" stroke=\"#000000\" points=\"599,-469 496,-469 496,-401 599,-401 599,-469\"/>\n<text text-anchor=\"middle\" x=\"547.5\" y=\"-453.8\" font-family=\"Helvetica,sans-Serif\" font-size=\"14.00\" fill=\"#000000\">X[3] &lt;= 0.069</text>\n<text text-anchor=\"middle\" x=\"547.5\" y=\"-438.8\" font-family=\"Helvetica,sans-Serif\" font-size=\"14.00\" fill=\"#000000\">gini = 0.5</text>\n<text text-anchor=\"middle\" x=\"547.5\" y=\"-423.8\" font-family=\"Helvetica,sans-Serif\" font-size=\"14.00\" fill=\"#000000\">samples = 2</text>\n<text text-anchor=\"middle\" x=\"547.5\" y=\"-408.8\" font-family=\"Helvetica,sans-Serif\" font-size=\"14.00\" fill=\"#000000\">value = [1, 1]</text>\n</g>\n<!-- 20&#45;&gt;21 -->\n<g id=\"edge21\" class=\"edge\">\n<title>20&#45;&gt;21</title>\n<path fill=\"none\" stroke=\"#000000\" d=\"M547.5,-504.9465C547.5,-496.776 547.5,-487.9318 547.5,-479.3697\"/>\n<polygon fill=\"#000000\" stroke=\"#000000\" points=\"551.0001,-479.13 547.5,-469.13 544.0001,-479.13 551.0001,-479.13\"/>\n</g>\n<!-- 24 -->\n<g id=\"node25\" class=\"node\">\n<title>24</title>\n<polygon fill=\"#399de5\" stroke=\"#000000\" points=\"716,-461.5 617,-461.5 617,-408.5 716,-408.5 716,-461.5\"/>\n<text text-anchor=\"middle\" x=\"666.5\" y=\"-446.3\" font-family=\"Helvetica,sans-Serif\" font-size=\"14.00\" fill=\"#000000\">gini = 0.0</text>\n<text text-anchor=\"middle\" x=\"666.5\" y=\"-431.3\" font-family=\"Helvetica,sans-Serif\" font-size=\"14.00\" fill=\"#000000\">samples = 4</text>\n<text text-anchor=\"middle\" x=\"666.5\" y=\"-416.3\" font-family=\"Helvetica,sans-Serif\" font-size=\"14.00\" fill=\"#000000\">value = [0, 4]</text>\n</g>\n<!-- 20&#45;&gt;24 -->\n<g id=\"edge24\" class=\"edge\">\n<title>20&#45;&gt;24</title>\n<path fill=\"none\" stroke=\"#000000\" d=\"M586.4651,-504.9465C599.9509,-493.1606 615.0409,-479.9726 628.4521,-468.2519\"/>\n<polygon fill=\"#000000\" stroke=\"#000000\" points=\"630.9031,-470.7582 636.1296,-461.5422 626.2967,-465.4874 630.9031,-470.7582\"/>\n</g>\n<!-- 22 -->\n<g id=\"node23\" class=\"node\">\n<title>22</title>\n<polygon fill=\"#399de5\" stroke=\"#000000\" points=\"596,-357.5 497,-357.5 497,-304.5 596,-304.5 596,-357.5\"/>\n<text text-anchor=\"middle\" x=\"546.5\" y=\"-342.3\" font-family=\"Helvetica,sans-Serif\" font-size=\"14.00\" fill=\"#000000\">gini = 0.0</text>\n<text text-anchor=\"middle\" x=\"546.5\" y=\"-327.3\" font-family=\"Helvetica,sans-Serif\" font-size=\"14.00\" fill=\"#000000\">samples = 1</text>\n<text text-anchor=\"middle\" x=\"546.5\" y=\"-312.3\" font-family=\"Helvetica,sans-Serif\" font-size=\"14.00\" fill=\"#000000\">value = [0, 1]</text>\n</g>\n<!-- 21&#45;&gt;22 -->\n<g id=\"edge22\" class=\"edge\">\n<title>21&#45;&gt;22</title>\n<path fill=\"none\" stroke=\"#000000\" d=\"M547.1726,-400.9465C547.0698,-390.2621 546.956,-378.4254 546.8517,-367.5742\"/>\n<polygon fill=\"#000000\" stroke=\"#000000\" points=\"550.3513,-367.508 546.7552,-357.5422 543.3516,-367.5754 550.3513,-367.508\"/>\n</g>\n<!-- 23 -->\n<g id=\"node24\" class=\"node\">\n<title>23</title>\n<polygon fill=\"#e58139\" stroke=\"#000000\" points=\"713,-357.5 614,-357.5 614,-304.5 713,-304.5 713,-357.5\"/>\n<text text-anchor=\"middle\" x=\"663.5\" y=\"-342.3\" font-family=\"Helvetica,sans-Serif\" font-size=\"14.00\" fill=\"#000000\">gini = 0.0</text>\n<text text-anchor=\"middle\" x=\"663.5\" y=\"-327.3\" font-family=\"Helvetica,sans-Serif\" font-size=\"14.00\" fill=\"#000000\">samples = 1</text>\n<text text-anchor=\"middle\" x=\"663.5\" y=\"-312.3\" font-family=\"Helvetica,sans-Serif\" font-size=\"14.00\" fill=\"#000000\">value = [1, 0]</text>\n</g>\n<!-- 21&#45;&gt;23 -->\n<g id=\"edge23\" class=\"edge\">\n<title>21&#45;&gt;23</title>\n<path fill=\"none\" stroke=\"#000000\" d=\"M585.4827,-400.9465C598.6286,-389.1606 613.3382,-375.9726 626.4113,-364.2519\"/>\n<polygon fill=\"#000000\" stroke=\"#000000\" points=\"628.786,-366.8236 633.8953,-357.5422 624.1131,-361.6116 628.786,-366.8236\"/>\n</g>\n<!-- 27 -->\n<g id=\"node28\" class=\"node\">\n<title>27</title>\n<polygon fill=\"#e58139\" stroke=\"#000000\" points=\"534,-773.5 435,-773.5 435,-720.5 534,-720.5 534,-773.5\"/>\n<text text-anchor=\"middle\" x=\"484.5\" y=\"-758.3\" font-family=\"Helvetica,sans-Serif\" font-size=\"14.00\" fill=\"#000000\">gini = 0.0</text>\n<text text-anchor=\"middle\" x=\"484.5\" y=\"-743.3\" font-family=\"Helvetica,sans-Serif\" font-size=\"14.00\" fill=\"#000000\">samples = 1</text>\n<text text-anchor=\"middle\" x=\"484.5\" y=\"-728.3\" font-family=\"Helvetica,sans-Serif\" font-size=\"14.00\" fill=\"#000000\">value = [1, 0]</text>\n</g>\n<!-- 26&#45;&gt;27 -->\n<g id=\"edge27\" class=\"edge\">\n<title>26&#45;&gt;27</title>\n<path fill=\"none\" stroke=\"#000000\" d=\"M540.3227,-816.9465C531.2682,-805.6012 521.177,-792.9567 512.0914,-781.5724\"/>\n<polygon fill=\"#000000\" stroke=\"#000000\" points=\"514.6561,-779.175 505.6827,-773.5422 509.1849,-783.5414 514.6561,-779.175\"/>\n</g>\n<!-- 28 -->\n<g id=\"node29\" class=\"node\">\n<title>28</title>\n<polygon fill=\"#399de5\" stroke=\"#000000\" points=\"651,-773.5 552,-773.5 552,-720.5 651,-720.5 651,-773.5\"/>\n<text text-anchor=\"middle\" x=\"601.5\" y=\"-758.3\" font-family=\"Helvetica,sans-Serif\" font-size=\"14.00\" fill=\"#000000\">gini = 0.0</text>\n<text text-anchor=\"middle\" x=\"601.5\" y=\"-743.3\" font-family=\"Helvetica,sans-Serif\" font-size=\"14.00\" fill=\"#000000\">samples = 2</text>\n<text text-anchor=\"middle\" x=\"601.5\" y=\"-728.3\" font-family=\"Helvetica,sans-Serif\" font-size=\"14.00\" fill=\"#000000\">value = [0, 2]</text>\n</g>\n<!-- 26&#45;&gt;28 -->\n<g id=\"edge28\" class=\"edge\">\n<title>26&#45;&gt;28</title>\n<path fill=\"none\" stroke=\"#000000\" d=\"M578.6329,-816.9465C582.1619,-806.1519 586.0754,-794.1813 589.6527,-783.2389\"/>\n<polygon fill=\"#000000\" stroke=\"#000000\" points=\"593.042,-784.1347 592.8228,-773.5422 586.3886,-781.9595 593.042,-784.1347\"/>\n</g>\n<!-- 30 -->\n<g id=\"node31\" class=\"node\">\n<title>30</title>\n<polygon fill=\"#f8e0ce\" stroke=\"#000000\" points=\"770,-885 667,-885 667,-817 770,-817 770,-885\"/>\n<text text-anchor=\"middle\" x=\"718.5\" y=\"-869.8\" font-family=\"Helvetica,sans-Serif\" font-size=\"14.00\" fill=\"#000000\">X[5] &lt;= 1.297</text>\n<text text-anchor=\"middle\" x=\"718.5\" y=\"-854.8\" font-family=\"Helvetica,sans-Serif\" font-size=\"14.00\" fill=\"#000000\">gini = 0.49</text>\n<text text-anchor=\"middle\" x=\"718.5\" y=\"-839.8\" font-family=\"Helvetica,sans-Serif\" font-size=\"14.00\" fill=\"#000000\">samples = 7</text>\n<text text-anchor=\"middle\" x=\"718.5\" y=\"-824.8\" font-family=\"Helvetica,sans-Serif\" font-size=\"14.00\" fill=\"#000000\">value = [4, 3]</text>\n</g>\n<!-- 29&#45;&gt;30 -->\n<g id=\"edge30\" class=\"edge\">\n<title>29&#45;&gt;30</title>\n<path fill=\"none\" stroke=\"#000000\" d=\"M739.3494,-920.9465C736.8605,-912.5965 734.1618,-903.5427 731.5574,-894.8056\"/>\n<polygon fill=\"#000000\" stroke=\"#000000\" points=\"734.8842,-893.7135 728.6734,-885.13 728.1758,-895.7131 734.8842,-893.7135\"/>\n</g>\n<!-- 33 -->\n<g id=\"node34\" class=\"node\">\n<title>33</title>\n<polygon fill=\"#399de5\" stroke=\"#000000\" points=\"895,-877.5 788,-877.5 788,-824.5 895,-824.5 895,-877.5\"/>\n<text text-anchor=\"middle\" x=\"841.5\" y=\"-862.3\" font-family=\"Helvetica,sans-Serif\" font-size=\"14.00\" fill=\"#000000\">gini = 0.0</text>\n<text text-anchor=\"middle\" x=\"841.5\" y=\"-847.3\" font-family=\"Helvetica,sans-Serif\" font-size=\"14.00\" fill=\"#000000\">samples = 39</text>\n<text text-anchor=\"middle\" x=\"841.5\" y=\"-832.3\" font-family=\"Helvetica,sans-Serif\" font-size=\"14.00\" fill=\"#000000\">value = [0, 39]</text>\n</g>\n<!-- 29&#45;&gt;33 -->\n<g id=\"edge33\" class=\"edge\">\n<title>29&#45;&gt;33</title>\n<path fill=\"none\" stroke=\"#000000\" d=\"M779.6242,-920.9465C789.758,-909.491 801.0633,-896.711 811.2097,-885.2412\"/>\n<polygon fill=\"#000000\" stroke=\"#000000\" points=\"814.0161,-887.3512 818.0204,-877.5422 808.7731,-882.7131 814.0161,-887.3512\"/>\n</g>\n<!-- 31 -->\n<g id=\"node32\" class=\"node\">\n<title>31</title>\n<polygon fill=\"#e58139\" stroke=\"#000000\" points=\"768,-773.5 669,-773.5 669,-720.5 768,-720.5 768,-773.5\"/>\n<text text-anchor=\"middle\" x=\"718.5\" y=\"-758.3\" font-family=\"Helvetica,sans-Serif\" font-size=\"14.00\" fill=\"#000000\">gini = 0.0</text>\n<text text-anchor=\"middle\" x=\"718.5\" y=\"-743.3\" font-family=\"Helvetica,sans-Serif\" font-size=\"14.00\" fill=\"#000000\">samples = 4</text>\n<text text-anchor=\"middle\" x=\"718.5\" y=\"-728.3\" font-family=\"Helvetica,sans-Serif\" font-size=\"14.00\" fill=\"#000000\">value = [4, 0]</text>\n</g>\n<!-- 30&#45;&gt;31 -->\n<g id=\"edge31\" class=\"edge\">\n<title>30&#45;&gt;31</title>\n<path fill=\"none\" stroke=\"#000000\" d=\"M718.5,-816.9465C718.5,-806.2621 718.5,-794.4254 718.5,-783.5742\"/>\n<polygon fill=\"#000000\" stroke=\"#000000\" points=\"722.0001,-783.5421 718.5,-773.5422 715.0001,-783.5422 722.0001,-783.5421\"/>\n</g>\n<!-- 32 -->\n<g id=\"node33\" class=\"node\">\n<title>32</title>\n<polygon fill=\"#399de5\" stroke=\"#000000\" points=\"885,-773.5 786,-773.5 786,-720.5 885,-720.5 885,-773.5\"/>\n<text text-anchor=\"middle\" x=\"835.5\" y=\"-758.3\" font-family=\"Helvetica,sans-Serif\" font-size=\"14.00\" fill=\"#000000\">gini = 0.0</text>\n<text text-anchor=\"middle\" x=\"835.5\" y=\"-743.3\" font-family=\"Helvetica,sans-Serif\" font-size=\"14.00\" fill=\"#000000\">samples = 3</text>\n<text text-anchor=\"middle\" x=\"835.5\" y=\"-728.3\" font-family=\"Helvetica,sans-Serif\" font-size=\"14.00\" fill=\"#000000\">value = [0, 3]</text>\n</g>\n<!-- 30&#45;&gt;32 -->\n<g id=\"edge32\" class=\"edge\">\n<title>30&#45;&gt;32</title>\n<path fill=\"none\" stroke=\"#000000\" d=\"M756.8102,-816.9465C770.0694,-805.1606 784.9058,-791.9726 798.0916,-780.2519\"/>\n<polygon fill=\"#000000\" stroke=\"#000000\" points=\"800.4912,-782.8018 805.6401,-773.5422 795.8407,-777.5699 800.4912,-782.8018\"/>\n</g>\n<!-- 35 -->\n<g id=\"node36\" class=\"node\">\n<title>35</title>\n<polygon fill=\"#f0b78e\" stroke=\"#000000\" points=\"1078,-989 971,-989 971,-921 1078,-921 1078,-989\"/>\n<text text-anchor=\"middle\" x=\"1024.5\" y=\"-973.8\" font-family=\"Helvetica,sans-Serif\" font-size=\"14.00\" fill=\"#000000\">X[3] &lt;= 1.238</text>\n<text text-anchor=\"middle\" x=\"1024.5\" y=\"-958.8\" font-family=\"Helvetica,sans-Serif\" font-size=\"14.00\" fill=\"#000000\">gini = 0.42</text>\n<text text-anchor=\"middle\" x=\"1024.5\" y=\"-943.8\" font-family=\"Helvetica,sans-Serif\" font-size=\"14.00\" fill=\"#000000\">samples = 20</text>\n<text text-anchor=\"middle\" x=\"1024.5\" y=\"-928.8\" font-family=\"Helvetica,sans-Serif\" font-size=\"14.00\" fill=\"#000000\">value = [14, 6]</text>\n</g>\n<!-- 34&#45;&gt;35 -->\n<g id=\"edge35\" class=\"edge\">\n<title>34&#45;&gt;35</title>\n<path fill=\"none\" stroke=\"#000000\" d=\"M1024.5,-1024.9465C1024.5,-1016.776 1024.5,-1007.9318 1024.5,-999.3697\"/>\n<polygon fill=\"#000000\" stroke=\"#000000\" points=\"1028.0001,-999.13 1024.5,-989.13 1021.0001,-999.13 1028.0001,-999.13\"/>\n</g>\n<!-- 44 -->\n<g id=\"node45\" class=\"node\">\n<title>44</title>\n<polygon fill=\"#48a5e7\" stroke=\"#000000\" points=\"1262,-989 1155,-989 1155,-921 1262,-921 1262,-989\"/>\n<text text-anchor=\"middle\" x=\"1208.5\" y=\"-973.8\" font-family=\"Helvetica,sans-Serif\" font-size=\"14.00\" fill=\"#000000\">X[5] &lt;= &#45;0.351</text>\n<text text-anchor=\"middle\" x=\"1208.5\" y=\"-958.8\" font-family=\"Helvetica,sans-Serif\" font-size=\"14.00\" fill=\"#000000\">gini = 0.134</text>\n<text text-anchor=\"middle\" x=\"1208.5\" y=\"-943.8\" font-family=\"Helvetica,sans-Serif\" font-size=\"14.00\" fill=\"#000000\">samples = 83</text>\n<text text-anchor=\"middle\" x=\"1208.5\" y=\"-928.8\" font-family=\"Helvetica,sans-Serif\" font-size=\"14.00\" fill=\"#000000\">value = [6, 77]</text>\n</g>\n<!-- 34&#45;&gt;44 -->\n<g id=\"edge44\" class=\"edge\">\n<title>34&#45;&gt;44</title>\n<path fill=\"none\" stroke=\"#000000\" d=\"M1082.7188,-1026.0938C1102.804,-1014.7412 1125.3839,-1001.9787 1145.811,-990.4329\"/>\n<polygon fill=\"#000000\" stroke=\"#000000\" points=\"1147.7396,-993.3633 1154.723,-985.3957 1144.2952,-987.2693 1147.7396,-993.3633\"/>\n</g>\n<!-- 36 -->\n<g id=\"node37\" class=\"node\">\n<title>36</title>\n<polygon fill=\"#eca572\" stroke=\"#000000\" points=\"1020,-885 913,-885 913,-817 1020,-817 1020,-885\"/>\n<text text-anchor=\"middle\" x=\"966.5\" y=\"-869.8\" font-family=\"Helvetica,sans-Serif\" font-size=\"14.00\" fill=\"#000000\">X[2] &lt;= &#45;0.75</text>\n<text text-anchor=\"middle\" x=\"966.5\" y=\"-854.8\" font-family=\"Helvetica,sans-Serif\" font-size=\"14.00\" fill=\"#000000\">gini = 0.346</text>\n<text text-anchor=\"middle\" x=\"966.5\" y=\"-839.8\" font-family=\"Helvetica,sans-Serif\" font-size=\"14.00\" fill=\"#000000\">samples = 18</text>\n<text text-anchor=\"middle\" x=\"966.5\" y=\"-824.8\" font-family=\"Helvetica,sans-Serif\" font-size=\"14.00\" fill=\"#000000\">value = [14, 4]</text>\n</g>\n<!-- 35&#45;&gt;36 -->\n<g id=\"edge36\" class=\"edge\">\n<title>35&#45;&gt;36</title>\n<path fill=\"none\" stroke=\"#000000\" d=\"M1005.5086,-920.9465C1000.7017,-912.3271 995.4765,-902.9579 990.4591,-893.9611\"/>\n<polygon fill=\"#000000\" stroke=\"#000000\" points=\"993.4615,-892.1589 985.534,-885.13 987.348,-895.5684 993.4615,-892.1589\"/>\n</g>\n<!-- 43 -->\n<g id=\"node44\" class=\"node\">\n<title>43</title>\n<polygon fill=\"#399de5\" stroke=\"#000000\" points=\"1137,-877.5 1038,-877.5 1038,-824.5 1137,-824.5 1137,-877.5\"/>\n<text text-anchor=\"middle\" x=\"1087.5\" y=\"-862.3\" font-family=\"Helvetica,sans-Serif\" font-size=\"14.00\" fill=\"#000000\">gini = 0.0</text>\n<text text-anchor=\"middle\" x=\"1087.5\" y=\"-847.3\" font-family=\"Helvetica,sans-Serif\" font-size=\"14.00\" fill=\"#000000\">samples = 2</text>\n<text text-anchor=\"middle\" x=\"1087.5\" y=\"-832.3\" font-family=\"Helvetica,sans-Serif\" font-size=\"14.00\" fill=\"#000000\">value = [0, 2]</text>\n</g>\n<!-- 35&#45;&gt;43 -->\n<g id=\"edge43\" class=\"edge\">\n<title>35&#45;&gt;43</title>\n<path fill=\"none\" stroke=\"#000000\" d=\"M1045.1286,-920.9465C1051.8678,-909.8215 1059.3637,-897.4473 1066.1545,-886.237\"/>\n<polygon fill=\"#000000\" stroke=\"#000000\" points=\"1069.2339,-887.9087 1071.4216,-877.5422 1063.2467,-884.2818 1069.2339,-887.9087\"/>\n</g>\n<!-- 37 -->\n<g id=\"node38\" class=\"node\">\n<title>37</title>\n<polygon fill=\"#e58139\" stroke=\"#000000\" points=\"1011,-773.5 904,-773.5 904,-720.5 1011,-720.5 1011,-773.5\"/>\n<text text-anchor=\"middle\" x=\"957.5\" y=\"-758.3\" font-family=\"Helvetica,sans-Serif\" font-size=\"14.00\" fill=\"#000000\">gini = 0.0</text>\n<text text-anchor=\"middle\" x=\"957.5\" y=\"-743.3\" font-family=\"Helvetica,sans-Serif\" font-size=\"14.00\" fill=\"#000000\">samples = 10</text>\n<text text-anchor=\"middle\" x=\"957.5\" y=\"-728.3\" font-family=\"Helvetica,sans-Serif\" font-size=\"14.00\" fill=\"#000000\">value = [10, 0]</text>\n</g>\n<!-- 36&#45;&gt;37 -->\n<g id=\"edge37\" class=\"edge\">\n<title>36&#45;&gt;37</title>\n<path fill=\"none\" stroke=\"#000000\" d=\"M963.5531,-816.9465C962.6284,-806.2621 961.6041,-794.4254 960.6651,-783.5742\"/>\n<polygon fill=\"#000000\" stroke=\"#000000\" points=\"964.1461,-783.2031 959.7969,-773.5422 957.1722,-783.8067 964.1461,-783.2031\"/>\n</g>\n<!-- 38 -->\n<g id=\"node39\" class=\"node\">\n<title>38</title>\n<polygon fill=\"#ffffff\" stroke=\"#000000\" points=\"1128,-781 1029,-781 1029,-713 1128,-713 1128,-781\"/>\n<text text-anchor=\"middle\" x=\"1078.5\" y=\"-765.8\" font-family=\"Helvetica,sans-Serif\" font-size=\"14.00\" fill=\"#000000\">X[0] &lt;= 0.5</text>\n<text text-anchor=\"middle\" x=\"1078.5\" y=\"-750.8\" font-family=\"Helvetica,sans-Serif\" font-size=\"14.00\" fill=\"#000000\">gini = 0.5</text>\n<text text-anchor=\"middle\" x=\"1078.5\" y=\"-735.8\" font-family=\"Helvetica,sans-Serif\" font-size=\"14.00\" fill=\"#000000\">samples = 8</text>\n<text text-anchor=\"middle\" x=\"1078.5\" y=\"-720.8\" font-family=\"Helvetica,sans-Serif\" font-size=\"14.00\" fill=\"#000000\">value = [4, 4]</text>\n</g>\n<!-- 36&#45;&gt;38 -->\n<g id=\"edge38\" class=\"edge\">\n<title>36&#45;&gt;38</title>\n<path fill=\"none\" stroke=\"#000000\" d=\"M1003.173,-816.9465C1013.1323,-807.6986 1024.0211,-797.5876 1034.3468,-787.9994\"/>\n<polygon fill=\"#000000\" stroke=\"#000000\" points=\"1036.7982,-790.4993 1041.7446,-781.13 1032.0351,-785.3698 1036.7982,-790.4993\"/>\n</g>\n<!-- 39 -->\n<g id=\"node40\" class=\"node\">\n<title>39</title>\n<polygon fill=\"#399de5\" stroke=\"#000000\" points=\"1010,-669.5 911,-669.5 911,-616.5 1010,-616.5 1010,-669.5\"/>\n<text text-anchor=\"middle\" x=\"960.5\" y=\"-654.3\" font-family=\"Helvetica,sans-Serif\" font-size=\"14.00\" fill=\"#000000\">gini = 0.0</text>\n<text text-anchor=\"middle\" x=\"960.5\" y=\"-639.3\" font-family=\"Helvetica,sans-Serif\" font-size=\"14.00\" fill=\"#000000\">samples = 3</text>\n<text text-anchor=\"middle\" x=\"960.5\" y=\"-624.3\" font-family=\"Helvetica,sans-Serif\" font-size=\"14.00\" fill=\"#000000\">value = [0, 3]</text>\n</g>\n<!-- 38&#45;&gt;39 -->\n<g id=\"edge39\" class=\"edge\">\n<title>38&#45;&gt;39</title>\n<path fill=\"none\" stroke=\"#000000\" d=\"M1039.8624,-712.9465C1026.4899,-701.1606 1011.5266,-687.9726 998.2281,-676.2519\"/>\n<polygon fill=\"#000000\" stroke=\"#000000\" points=\"1000.4315,-673.5285 990.6151,-669.5422 995.803,-678.7799 1000.4315,-673.5285\"/>\n</g>\n<!-- 40 -->\n<g id=\"node41\" class=\"node\">\n<title>40</title>\n<polygon fill=\"#eca06a\" stroke=\"#000000\" points=\"1131,-677 1028,-677 1028,-609 1131,-609 1131,-677\"/>\n<text text-anchor=\"middle\" x=\"1079.5\" y=\"-661.8\" font-family=\"Helvetica,sans-Serif\" font-size=\"14.00\" fill=\"#000000\">X[2] &lt;= 1.283</text>\n<text text-anchor=\"middle\" x=\"1079.5\" y=\"-646.8\" font-family=\"Helvetica,sans-Serif\" font-size=\"14.00\" fill=\"#000000\">gini = 0.32</text>\n<text text-anchor=\"middle\" x=\"1079.5\" y=\"-631.8\" font-family=\"Helvetica,sans-Serif\" font-size=\"14.00\" fill=\"#000000\">samples = 5</text>\n<text text-anchor=\"middle\" x=\"1079.5\" y=\"-616.8\" font-family=\"Helvetica,sans-Serif\" font-size=\"14.00\" fill=\"#000000\">value = [4, 1]</text>\n</g>\n<!-- 38&#45;&gt;40 -->\n<g id=\"edge40\" class=\"edge\">\n<title>38&#45;&gt;40</title>\n<path fill=\"none\" stroke=\"#000000\" d=\"M1078.8274,-712.9465C1078.906,-704.776 1078.991,-695.9318 1079.0734,-687.3697\"/>\n<polygon fill=\"#000000\" stroke=\"#000000\" points=\"1082.5754,-687.1632 1079.1718,-677.13 1075.5757,-687.0958 1082.5754,-687.1632\"/>\n</g>\n<!-- 41 -->\n<g id=\"node42\" class=\"node\">\n<title>41</title>\n<polygon fill=\"#e58139\" stroke=\"#000000\" points=\"1012,-565.5 913,-565.5 913,-512.5 1012,-512.5 1012,-565.5\"/>\n<text text-anchor=\"middle\" x=\"962.5\" y=\"-550.3\" font-family=\"Helvetica,sans-Serif\" font-size=\"14.00\" fill=\"#000000\">gini = 0.0</text>\n<text text-anchor=\"middle\" x=\"962.5\" y=\"-535.3\" font-family=\"Helvetica,sans-Serif\" font-size=\"14.00\" fill=\"#000000\">samples = 4</text>\n<text text-anchor=\"middle\" x=\"962.5\" y=\"-520.3\" font-family=\"Helvetica,sans-Serif\" font-size=\"14.00\" fill=\"#000000\">value = [4, 0]</text>\n</g>\n<!-- 40&#45;&gt;41 -->\n<g id=\"edge41\" class=\"edge\">\n<title>40&#45;&gt;41</title>\n<path fill=\"none\" stroke=\"#000000\" d=\"M1041.1898,-608.9465C1027.9306,-597.1606 1013.0942,-583.9726 999.9084,-572.2519\"/>\n<polygon fill=\"#000000\" stroke=\"#000000\" points=\"1002.1593,-569.5699 992.3599,-565.5422 997.5088,-574.8018 1002.1593,-569.5699\"/>\n</g>\n<!-- 42 -->\n<g id=\"node43\" class=\"node\">\n<title>42</title>\n<polygon fill=\"#399de5\" stroke=\"#000000\" points=\"1129,-565.5 1030,-565.5 1030,-512.5 1129,-512.5 1129,-565.5\"/>\n<text text-anchor=\"middle\" x=\"1079.5\" y=\"-550.3\" font-family=\"Helvetica,sans-Serif\" font-size=\"14.00\" fill=\"#000000\">gini = 0.0</text>\n<text text-anchor=\"middle\" x=\"1079.5\" y=\"-535.3\" font-family=\"Helvetica,sans-Serif\" font-size=\"14.00\" fill=\"#000000\">samples = 1</text>\n<text text-anchor=\"middle\" x=\"1079.5\" y=\"-520.3\" font-family=\"Helvetica,sans-Serif\" font-size=\"14.00\" fill=\"#000000\">value = [0, 1]</text>\n</g>\n<!-- 40&#45;&gt;42 -->\n<g id=\"edge42\" class=\"edge\">\n<title>40&#45;&gt;42</title>\n<path fill=\"none\" stroke=\"#000000\" d=\"M1079.5,-608.9465C1079.5,-598.2621 1079.5,-586.4254 1079.5,-575.5742\"/>\n<polygon fill=\"#000000\" stroke=\"#000000\" points=\"1083.0001,-575.5421 1079.5,-565.5422 1076.0001,-575.5422 1083.0001,-575.5421\"/>\n</g>\n<!-- 45 -->\n<g id=\"node46\" class=\"node\">\n<title>45</title>\n<polygon fill=\"#63b2eb\" stroke=\"#000000\" points=\"1262,-885 1155,-885 1155,-817 1262,-817 1262,-885\"/>\n<text text-anchor=\"middle\" x=\"1208.5\" y=\"-869.8\" font-family=\"Helvetica,sans-Serif\" font-size=\"14.00\" fill=\"#000000\">X[2] &lt;= &#45;1.5</text>\n<text text-anchor=\"middle\" x=\"1208.5\" y=\"-854.8\" font-family=\"Helvetica,sans-Serif\" font-size=\"14.00\" fill=\"#000000\">gini = 0.291</text>\n<text text-anchor=\"middle\" x=\"1208.5\" y=\"-839.8\" font-family=\"Helvetica,sans-Serif\" font-size=\"14.00\" fill=\"#000000\">samples = 34</text>\n<text text-anchor=\"middle\" x=\"1208.5\" y=\"-824.8\" font-family=\"Helvetica,sans-Serif\" font-size=\"14.00\" fill=\"#000000\">value = [6, 28]</text>\n</g>\n<!-- 44&#45;&gt;45 -->\n<g id=\"edge45\" class=\"edge\">\n<title>44&#45;&gt;45</title>\n<path fill=\"none\" stroke=\"#000000\" d=\"M1208.5,-920.9465C1208.5,-912.776 1208.5,-903.9318 1208.5,-895.3697\"/>\n<polygon fill=\"#000000\" stroke=\"#000000\" points=\"1212.0001,-895.13 1208.5,-885.13 1205.0001,-895.13 1212.0001,-895.13\"/>\n</g>\n<!-- 66 -->\n<g id=\"node67\" class=\"node\">\n<title>66</title>\n<polygon fill=\"#399de5\" stroke=\"#000000\" points=\"1387,-877.5 1280,-877.5 1280,-824.5 1387,-824.5 1387,-877.5\"/>\n<text text-anchor=\"middle\" x=\"1333.5\" y=\"-862.3\" font-family=\"Helvetica,sans-Serif\" font-size=\"14.00\" fill=\"#000000\">gini = 0.0</text>\n<text text-anchor=\"middle\" x=\"1333.5\" y=\"-847.3\" font-family=\"Helvetica,sans-Serif\" font-size=\"14.00\" fill=\"#000000\">samples = 49</text>\n<text text-anchor=\"middle\" x=\"1333.5\" y=\"-832.3\" font-family=\"Helvetica,sans-Serif\" font-size=\"14.00\" fill=\"#000000\">value = [0, 49]</text>\n</g>\n<!-- 44&#45;&gt;66 -->\n<g id=\"edge66\" class=\"edge\">\n<title>44&#45;&gt;66</title>\n<path fill=\"none\" stroke=\"#000000\" d=\"M1249.4297,-920.9465C1263.5955,-909.1606 1279.4463,-895.9726 1293.5338,-884.2519\"/>\n<polygon fill=\"#000000\" stroke=\"#000000\" points=\"1296.1496,-886.6285 1301.5984,-877.5422 1291.6725,-881.2474 1296.1496,-886.6285\"/>\n</g>\n<!-- 46 -->\n<g id=\"node47\" class=\"node\">\n<title>46</title>\n<polygon fill=\"#e58139\" stroke=\"#000000\" points=\"1258,-773.5 1159,-773.5 1159,-720.5 1258,-720.5 1258,-773.5\"/>\n<text text-anchor=\"middle\" x=\"1208.5\" y=\"-758.3\" font-family=\"Helvetica,sans-Serif\" font-size=\"14.00\" fill=\"#000000\">gini = 0.0</text>\n<text text-anchor=\"middle\" x=\"1208.5\" y=\"-743.3\" font-family=\"Helvetica,sans-Serif\" font-size=\"14.00\" fill=\"#000000\">samples = 1</text>\n<text text-anchor=\"middle\" x=\"1208.5\" y=\"-728.3\" font-family=\"Helvetica,sans-Serif\" font-size=\"14.00\" fill=\"#000000\">value = [1, 0]</text>\n</g>\n<!-- 45&#45;&gt;46 -->\n<g id=\"edge46\" class=\"edge\">\n<title>45&#45;&gt;46</title>\n<path fill=\"none\" stroke=\"#000000\" d=\"M1208.5,-816.9465C1208.5,-806.2621 1208.5,-794.4254 1208.5,-783.5742\"/>\n<polygon fill=\"#000000\" stroke=\"#000000\" points=\"1212.0001,-783.5421 1208.5,-773.5422 1205.0001,-783.5422 1212.0001,-783.5421\"/>\n</g>\n<!-- 47 -->\n<g id=\"node48\" class=\"node\">\n<title>47</title>\n<polygon fill=\"#5caeea\" stroke=\"#000000\" points=\"1383,-781 1276,-781 1276,-713 1383,-713 1383,-781\"/>\n<text text-anchor=\"middle\" x=\"1329.5\" y=\"-765.8\" font-family=\"Helvetica,sans-Serif\" font-size=\"14.00\" fill=\"#000000\">X[3] &lt;= 1.772</text>\n<text text-anchor=\"middle\" x=\"1329.5\" y=\"-750.8\" font-family=\"Helvetica,sans-Serif\" font-size=\"14.00\" fill=\"#000000\">gini = 0.257</text>\n<text text-anchor=\"middle\" x=\"1329.5\" y=\"-735.8\" font-family=\"Helvetica,sans-Serif\" font-size=\"14.00\" fill=\"#000000\">samples = 33</text>\n<text text-anchor=\"middle\" x=\"1329.5\" y=\"-720.8\" font-family=\"Helvetica,sans-Serif\" font-size=\"14.00\" fill=\"#000000\">value = [5, 28]</text>\n</g>\n<!-- 45&#45;&gt;47 -->\n<g id=\"edge47\" class=\"edge\">\n<title>45&#45;&gt;47</title>\n<path fill=\"none\" stroke=\"#000000\" d=\"M1248.1199,-816.9465C1258.984,-807.6088 1270.8718,-797.3911 1282.1235,-787.7203\"/>\n<polygon fill=\"#000000\" stroke=\"#000000\" points=\"1284.4887,-790.3026 1289.7911,-781.13 1279.9259,-784.994 1284.4887,-790.3026\"/>\n</g>\n<!-- 48 -->\n<g id=\"node49\" class=\"node\">\n<title>48</title>\n<polygon fill=\"#56ace9\" stroke=\"#000000\" points=\"1382,-677 1275,-677 1275,-609 1382,-609 1382,-677\"/>\n<text text-anchor=\"middle\" x=\"1328.5\" y=\"-661.8\" font-family=\"Helvetica,sans-Serif\" font-size=\"14.00\" fill=\"#000000\">X[3] &lt;= 0.857</text>\n<text text-anchor=\"middle\" x=\"1328.5\" y=\"-646.8\" font-family=\"Helvetica,sans-Serif\" font-size=\"14.00\" fill=\"#000000\">gini = 0.225</text>\n<text text-anchor=\"middle\" x=\"1328.5\" y=\"-631.8\" font-family=\"Helvetica,sans-Serif\" font-size=\"14.00\" fill=\"#000000\">samples = 31</text>\n<text text-anchor=\"middle\" x=\"1328.5\" y=\"-616.8\" font-family=\"Helvetica,sans-Serif\" font-size=\"14.00\" fill=\"#000000\">value = [4, 27]</text>\n</g>\n<!-- 47&#45;&gt;48 -->\n<g id=\"edge48\" class=\"edge\">\n<title>47&#45;&gt;48</title>\n<path fill=\"none\" stroke=\"#000000\" d=\"M1329.1726,-712.9465C1329.094,-704.776 1329.009,-695.9318 1328.9266,-687.3697\"/>\n<polygon fill=\"#000000\" stroke=\"#000000\" points=\"1332.4243,-687.0958 1328.8282,-677.13 1325.4246,-687.1632 1332.4243,-687.0958\"/>\n</g>\n<!-- 63 -->\n<g id=\"node64\" class=\"node\">\n<title>63</title>\n<polygon fill=\"#ffffff\" stroke=\"#000000\" points=\"1503,-677 1400,-677 1400,-609 1503,-609 1503,-677\"/>\n<text text-anchor=\"middle\" x=\"1451.5\" y=\"-661.8\" font-family=\"Helvetica,sans-Serif\" font-size=\"14.00\" fill=\"#000000\">X[3] &lt;= 1.925</text>\n<text text-anchor=\"middle\" x=\"1451.5\" y=\"-646.8\" font-family=\"Helvetica,sans-Serif\" font-size=\"14.00\" fill=\"#000000\">gini = 0.5</text>\n<text text-anchor=\"middle\" x=\"1451.5\" y=\"-631.8\" font-family=\"Helvetica,sans-Serif\" font-size=\"14.00\" fill=\"#000000\">samples = 2</text>\n<text text-anchor=\"middle\" x=\"1451.5\" y=\"-616.8\" font-family=\"Helvetica,sans-Serif\" font-size=\"14.00\" fill=\"#000000\">value = [1, 1]</text>\n</g>\n<!-- 47&#45;&gt;63 -->\n<g id=\"edge63\" class=\"edge\">\n<title>47&#45;&gt;63</title>\n<path fill=\"none\" stroke=\"#000000\" d=\"M1369.4474,-712.9465C1380.4012,-703.6088 1392.3873,-693.3911 1403.732,-683.7203\"/>\n<polygon fill=\"#000000\" stroke=\"#000000\" points=\"1406.1233,-686.2809 1411.4629,-677.13 1401.5821,-680.9538 1406.1233,-686.2809\"/>\n</g>\n<!-- 49 -->\n<g id=\"node50\" class=\"node\">\n<title>49</title>\n<polygon fill=\"#76bbed\" stroke=\"#000000\" points=\"1258,-573 1151,-573 1151,-505 1258,-505 1258,-573\"/>\n<text text-anchor=\"middle\" x=\"1204.5\" y=\"-557.8\" font-family=\"Helvetica,sans-Serif\" font-size=\"14.00\" fill=\"#000000\">X[3] &lt;= 0.552</text>\n<text text-anchor=\"middle\" x=\"1204.5\" y=\"-542.8\" font-family=\"Helvetica,sans-Serif\" font-size=\"14.00\" fill=\"#000000\">gini = 0.36</text>\n<text text-anchor=\"middle\" x=\"1204.5\" y=\"-527.8\" font-family=\"Helvetica,sans-Serif\" font-size=\"14.00\" fill=\"#000000\">samples = 17</text>\n<text text-anchor=\"middle\" x=\"1204.5\" y=\"-512.8\" font-family=\"Helvetica,sans-Serif\" font-size=\"14.00\" fill=\"#000000\">value = [4, 13]</text>\n</g>\n<!-- 48&#45;&gt;49 -->\n<g id=\"edge49\" class=\"edge\">\n<title>48&#45;&gt;49</title>\n<path fill=\"none\" stroke=\"#000000\" d=\"M1287.8978,-608.9465C1276.7644,-599.6088 1264.5817,-589.3911 1253.0511,-579.7203\"/>\n<polygon fill=\"#000000\" stroke=\"#000000\" points=\"1255.1046,-576.8745 1245.1935,-573.13 1250.6062,-582.2378 1255.1046,-576.8745\"/>\n</g>\n<!-- 62 -->\n<g id=\"node63\" class=\"node\">\n<title>62</title>\n<polygon fill=\"#399de5\" stroke=\"#000000\" points=\"1383,-565.5 1276,-565.5 1276,-512.5 1383,-512.5 1383,-565.5\"/>\n<text text-anchor=\"middle\" x=\"1329.5\" y=\"-550.3\" font-family=\"Helvetica,sans-Serif\" font-size=\"14.00\" fill=\"#000000\">gini = 0.0</text>\n<text text-anchor=\"middle\" x=\"1329.5\" y=\"-535.3\" font-family=\"Helvetica,sans-Serif\" font-size=\"14.00\" fill=\"#000000\">samples = 14</text>\n<text text-anchor=\"middle\" x=\"1329.5\" y=\"-520.3\" font-family=\"Helvetica,sans-Serif\" font-size=\"14.00\" fill=\"#000000\">value = [0, 14]</text>\n</g>\n<!-- 48&#45;&gt;62 -->\n<g id=\"edge62\" class=\"edge\">\n<title>48&#45;&gt;62</title>\n<path fill=\"none\" stroke=\"#000000\" d=\"M1328.8274,-608.9465C1328.9302,-598.2621 1329.044,-586.4254 1329.1483,-575.5742\"/>\n<polygon fill=\"#000000\" stroke=\"#000000\" points=\"1332.6484,-575.5754 1329.2448,-565.5422 1325.6487,-575.508 1332.6484,-575.5754\"/>\n</g>\n<!-- 50 -->\n<g id=\"node51\" class=\"node\">\n<title>50</title>\n<polygon fill=\"#399de5\" stroke=\"#000000\" points=\"1194,-461.5 1095,-461.5 1095,-408.5 1194,-408.5 1194,-461.5\"/>\n<text text-anchor=\"middle\" x=\"1144.5\" y=\"-446.3\" font-family=\"Helvetica,sans-Serif\" font-size=\"14.00\" fill=\"#000000\">gini = 0.0</text>\n<text text-anchor=\"middle\" x=\"1144.5\" y=\"-431.3\" font-family=\"Helvetica,sans-Serif\" font-size=\"14.00\" fill=\"#000000\">samples = 4</text>\n<text text-anchor=\"middle\" x=\"1144.5\" y=\"-416.3\" font-family=\"Helvetica,sans-Serif\" font-size=\"14.00\" fill=\"#000000\">value = [0, 4]</text>\n</g>\n<!-- 49&#45;&gt;50 -->\n<g id=\"edge50\" class=\"edge\">\n<title>49&#45;&gt;50</title>\n<path fill=\"none\" stroke=\"#000000\" d=\"M1184.8538,-504.9465C1178.4355,-493.8215 1171.2965,-481.4473 1164.829,-470.237\"/>\n<polygon fill=\"#000000\" stroke=\"#000000\" points=\"1167.8417,-468.455 1159.8128,-461.5422 1161.7784,-471.9531 1167.8417,-468.455\"/>\n</g>\n<!-- 51 -->\n<g id=\"node52\" class=\"node\">\n<title>51</title>\n<polygon fill=\"#91c9f1\" stroke=\"#000000\" points=\"1316.5,-469 1212.5,-469 1212.5,-401 1316.5,-401 1316.5,-469\"/>\n<text text-anchor=\"middle\" x=\"1264.5\" y=\"-453.8\" font-family=\"Helvetica,sans-Serif\" font-size=\"14.00\" fill=\"#000000\">X[3] &lt;= 0.603</text>\n<text text-anchor=\"middle\" x=\"1264.5\" y=\"-438.8\" font-family=\"Helvetica,sans-Serif\" font-size=\"14.00\" fill=\"#000000\">gini = 0.426</text>\n<text text-anchor=\"middle\" x=\"1264.5\" y=\"-423.8\" font-family=\"Helvetica,sans-Serif\" font-size=\"14.00\" fill=\"#000000\">samples = 13</text>\n<text text-anchor=\"middle\" x=\"1264.5\" y=\"-408.8\" font-family=\"Helvetica,sans-Serif\" font-size=\"14.00\" fill=\"#000000\">value = [4, 9]</text>\n</g>\n<!-- 49&#45;&gt;51 -->\n<g id=\"edge51\" class=\"edge\">\n<title>49&#45;&gt;51</title>\n<path fill=\"none\" stroke=\"#000000\" d=\"M1224.1462,-504.9465C1229.119,-496.3271 1234.5243,-486.9579 1239.7148,-477.9611\"/>\n<polygon fill=\"#000000\" stroke=\"#000000\" points=\"1242.844,-479.5409 1244.8096,-469.13 1236.7807,-476.0428 1242.844,-479.5409\"/>\n</g>\n<!-- 52 -->\n<g id=\"node53\" class=\"node\">\n<title>52</title>\n<polygon fill=\"#e58139\" stroke=\"#000000\" points=\"1253,-357.5 1154,-357.5 1154,-304.5 1253,-304.5 1253,-357.5\"/>\n<text text-anchor=\"middle\" x=\"1203.5\" y=\"-342.3\" font-family=\"Helvetica,sans-Serif\" font-size=\"14.00\" fill=\"#000000\">gini = 0.0</text>\n<text text-anchor=\"middle\" x=\"1203.5\" y=\"-327.3\" font-family=\"Helvetica,sans-Serif\" font-size=\"14.00\" fill=\"#000000\">samples = 1</text>\n<text text-anchor=\"middle\" x=\"1203.5\" y=\"-312.3\" font-family=\"Helvetica,sans-Serif\" font-size=\"14.00\" fill=\"#000000\">value = [1, 0]</text>\n</g>\n<!-- 51&#45;&gt;52 -->\n<g id=\"edge52\" class=\"edge\">\n<title>51&#45;&gt;52</title>\n<path fill=\"none\" stroke=\"#000000\" d=\"M1244.5263,-400.9465C1238.001,-389.8215 1230.7431,-377.4473 1224.1678,-366.237\"/>\n<polygon fill=\"#000000\" stroke=\"#000000\" points=\"1227.1464,-364.3971 1219.068,-357.5422 1221.1084,-367.9387 1227.1464,-364.3971\"/>\n</g>\n<!-- 53 -->\n<g id=\"node54\" class=\"node\">\n<title>53</title>\n<polygon fill=\"#7bbeee\" stroke=\"#000000\" points=\"1378,-365 1271,-365 1271,-297 1378,-297 1378,-365\"/>\n<text text-anchor=\"middle\" x=\"1324.5\" y=\"-349.8\" font-family=\"Helvetica,sans-Serif\" font-size=\"14.00\" fill=\"#000000\">X[2] &lt;= &#45;0.924</text>\n<text text-anchor=\"middle\" x=\"1324.5\" y=\"-334.8\" font-family=\"Helvetica,sans-Serif\" font-size=\"14.00\" fill=\"#000000\">gini = 0.375</text>\n<text text-anchor=\"middle\" x=\"1324.5\" y=\"-319.8\" font-family=\"Helvetica,sans-Serif\" font-size=\"14.00\" fill=\"#000000\">samples = 12</text>\n<text text-anchor=\"middle\" x=\"1324.5\" y=\"-304.8\" font-family=\"Helvetica,sans-Serif\" font-size=\"14.00\" fill=\"#000000\">value = [3, 9]</text>\n</g>\n<!-- 51&#45;&gt;53 -->\n<g id=\"edge53\" class=\"edge\">\n<title>51&#45;&gt;53</title>\n<path fill=\"none\" stroke=\"#000000\" d=\"M1284.1462,-400.9465C1289.119,-392.3271 1294.5243,-382.9579 1299.7148,-373.9611\"/>\n<polygon fill=\"#000000\" stroke=\"#000000\" points=\"1302.844,-375.5409 1304.8096,-365.13 1296.7807,-372.0428 1302.844,-375.5409\"/>\n</g>\n<!-- 54 -->\n<g id=\"node55\" class=\"node\">\n<title>54</title>\n<polygon fill=\"#f2c09c\" stroke=\"#000000\" points=\"1316,-261 1209,-261 1209,-193 1316,-193 1316,-261\"/>\n<text text-anchor=\"middle\" x=\"1262.5\" y=\"-245.8\" font-family=\"Helvetica,sans-Serif\" font-size=\"14.00\" fill=\"#000000\">X[4] &lt;= &#45;1.141</text>\n<text text-anchor=\"middle\" x=\"1262.5\" y=\"-230.8\" font-family=\"Helvetica,sans-Serif\" font-size=\"14.00\" fill=\"#000000\">gini = 0.444</text>\n<text text-anchor=\"middle\" x=\"1262.5\" y=\"-215.8\" font-family=\"Helvetica,sans-Serif\" font-size=\"14.00\" fill=\"#000000\">samples = 3</text>\n<text text-anchor=\"middle\" x=\"1262.5\" y=\"-200.8\" font-family=\"Helvetica,sans-Serif\" font-size=\"14.00\" fill=\"#000000\">value = [2, 1]</text>\n</g>\n<!-- 53&#45;&gt;54 -->\n<g id=\"edge54\" class=\"edge\">\n<title>53&#45;&gt;54</title>\n<path fill=\"none\" stroke=\"#000000\" d=\"M1304.1989,-296.9465C1299.0604,-288.3271 1293.4749,-278.9579 1288.1114,-269.9611\"/>\n<polygon fill=\"#000000\" stroke=\"#000000\" points=\"1290.9737,-267.9272 1282.8467,-261.13 1284.9611,-271.5117 1290.9737,-267.9272\"/>\n</g>\n<!-- 57 -->\n<g id=\"node58\" class=\"node\">\n<title>57</title>\n<polygon fill=\"#52a9e8\" stroke=\"#000000\" points=\"1437,-261 1334,-261 1334,-193 1437,-193 1437,-261\"/>\n<text text-anchor=\"middle\" x=\"1385.5\" y=\"-245.8\" font-family=\"Helvetica,sans-Serif\" font-size=\"14.00\" fill=\"#000000\">X[2] &lt;= 1.091</text>\n<text text-anchor=\"middle\" x=\"1385.5\" y=\"-230.8\" font-family=\"Helvetica,sans-Serif\" font-size=\"14.00\" fill=\"#000000\">gini = 0.198</text>\n<text text-anchor=\"middle\" x=\"1385.5\" y=\"-215.8\" font-family=\"Helvetica,sans-Serif\" font-size=\"14.00\" fill=\"#000000\">samples = 9</text>\n<text text-anchor=\"middle\" x=\"1385.5\" y=\"-200.8\" font-family=\"Helvetica,sans-Serif\" font-size=\"14.00\" fill=\"#000000\">value = [1, 8]</text>\n</g>\n<!-- 53&#45;&gt;57 -->\n<g id=\"edge57\" class=\"edge\">\n<title>53&#45;&gt;57</title>\n<path fill=\"none\" stroke=\"#000000\" d=\"M1344.4737,-296.9465C1349.5293,-288.3271 1355.0247,-278.9579 1360.3017,-269.9611\"/>\n<polygon fill=\"#000000\" stroke=\"#000000\" points=\"1363.4411,-271.5265 1365.4814,-261.13 1357.4031,-267.985 1363.4411,-271.5265\"/>\n</g>\n<!-- 55 -->\n<g id=\"node56\" class=\"node\">\n<title>55</title>\n<polygon fill=\"#399de5\" stroke=\"#000000\" points=\"1197,-149.5 1098,-149.5 1098,-96.5 1197,-96.5 1197,-149.5\"/>\n<text text-anchor=\"middle\" x=\"1147.5\" y=\"-134.3\" font-family=\"Helvetica,sans-Serif\" font-size=\"14.00\" fill=\"#000000\">gini = 0.0</text>\n<text text-anchor=\"middle\" x=\"1147.5\" y=\"-119.3\" font-family=\"Helvetica,sans-Serif\" font-size=\"14.00\" fill=\"#000000\">samples = 1</text>\n<text text-anchor=\"middle\" x=\"1147.5\" y=\"-104.3\" font-family=\"Helvetica,sans-Serif\" font-size=\"14.00\" fill=\"#000000\">value = [0, 1]</text>\n</g>\n<!-- 54&#45;&gt;55 -->\n<g id=\"edge55\" class=\"edge\">\n<title>54&#45;&gt;55</title>\n<path fill=\"none\" stroke=\"#000000\" d=\"M1224.8447,-192.9465C1211.8122,-181.1606 1197.2294,-167.9726 1184.2689,-156.2519\"/>\n<polygon fill=\"#000000\" stroke=\"#000000\" points=\"1186.614,-153.6537 1176.8495,-149.5422 1181.9188,-158.8456 1186.614,-153.6537\"/>\n</g>\n<!-- 56 -->\n<g id=\"node57\" class=\"node\">\n<title>56</title>\n<polygon fill=\"#e58139\" stroke=\"#000000\" points=\"1314,-149.5 1215,-149.5 1215,-96.5 1314,-96.5 1314,-149.5\"/>\n<text text-anchor=\"middle\" x=\"1264.5\" y=\"-134.3\" font-family=\"Helvetica,sans-Serif\" font-size=\"14.00\" fill=\"#000000\">gini = 0.0</text>\n<text text-anchor=\"middle\" x=\"1264.5\" y=\"-119.3\" font-family=\"Helvetica,sans-Serif\" font-size=\"14.00\" fill=\"#000000\">samples = 2</text>\n<text text-anchor=\"middle\" x=\"1264.5\" y=\"-104.3\" font-family=\"Helvetica,sans-Serif\" font-size=\"14.00\" fill=\"#000000\">value = [2, 0]</text>\n</g>\n<!-- 54&#45;&gt;56 -->\n<g id=\"edge56\" class=\"edge\">\n<title>54&#45;&gt;56</title>\n<path fill=\"none\" stroke=\"#000000\" d=\"M1263.1549,-192.9465C1263.3603,-182.2621 1263.588,-170.4254 1263.7966,-159.5742\"/>\n<polygon fill=\"#000000\" stroke=\"#000000\" points=\"1267.2966,-159.6076 1263.9896,-149.5422 1260.2979,-159.473 1267.2966,-159.6076\"/>\n</g>\n<!-- 58 -->\n<g id=\"node59\" class=\"node\">\n<title>58</title>\n<polygon fill=\"#399de5\" stroke=\"#000000\" points=\"1434,-149.5 1335,-149.5 1335,-96.5 1434,-96.5 1434,-149.5\"/>\n<text text-anchor=\"middle\" x=\"1384.5\" y=\"-134.3\" font-family=\"Helvetica,sans-Serif\" font-size=\"14.00\" fill=\"#000000\">gini = 0.0</text>\n<text text-anchor=\"middle\" x=\"1384.5\" y=\"-119.3\" font-family=\"Helvetica,sans-Serif\" font-size=\"14.00\" fill=\"#000000\">samples = 7</text>\n<text text-anchor=\"middle\" x=\"1384.5\" y=\"-104.3\" font-family=\"Helvetica,sans-Serif\" font-size=\"14.00\" fill=\"#000000\">value = [0, 7]</text>\n</g>\n<!-- 57&#45;&gt;58 -->\n<g id=\"edge58\" class=\"edge\">\n<title>57&#45;&gt;58</title>\n<path fill=\"none\" stroke=\"#000000\" d=\"M1385.1726,-192.9465C1385.0698,-182.2621 1384.956,-170.4254 1384.8517,-159.5742\"/>\n<polygon fill=\"#000000\" stroke=\"#000000\" points=\"1388.3513,-159.508 1384.7552,-149.5422 1381.3516,-159.5754 1388.3513,-159.508\"/>\n</g>\n<!-- 59 -->\n<g id=\"node60\" class=\"node\">\n<title>59</title>\n<polygon fill=\"#ffffff\" stroke=\"#000000\" points=\"1555,-157 1452,-157 1452,-89 1555,-89 1555,-157\"/>\n<text text-anchor=\"middle\" x=\"1503.5\" y=\"-141.8\" font-family=\"Helvetica,sans-Serif\" font-size=\"14.00\" fill=\"#000000\">X[3] &lt;= 0.806</text>\n<text text-anchor=\"middle\" x=\"1503.5\" y=\"-126.8\" font-family=\"Helvetica,sans-Serif\" font-size=\"14.00\" fill=\"#000000\">gini = 0.5</text>\n<text text-anchor=\"middle\" x=\"1503.5\" y=\"-111.8\" font-family=\"Helvetica,sans-Serif\" font-size=\"14.00\" fill=\"#000000\">samples = 2</text>\n<text text-anchor=\"middle\" x=\"1503.5\" y=\"-96.8\" font-family=\"Helvetica,sans-Serif\" font-size=\"14.00\" fill=\"#000000\">value = [1, 1]</text>\n</g>\n<!-- 57&#45;&gt;59 -->\n<g id=\"edge59\" class=\"edge\">\n<title>57&#45;&gt;59</title>\n<path fill=\"none\" stroke=\"#000000\" d=\"M1424.1376,-192.9465C1434.6304,-183.6986 1446.1026,-173.5876 1456.9814,-163.9994\"/>\n<polygon fill=\"#000000\" stroke=\"#000000\" points=\"1459.5877,-166.3678 1464.7756,-157.13 1454.9593,-161.1163 1459.5877,-166.3678\"/>\n</g>\n<!-- 60 -->\n<g id=\"node61\" class=\"node\">\n<title>60</title>\n<polygon fill=\"#e58139\" stroke=\"#000000\" points=\"1494,-53 1395,-53 1395,0 1494,0 1494,-53\"/>\n<text text-anchor=\"middle\" x=\"1444.5\" y=\"-37.8\" font-family=\"Helvetica,sans-Serif\" font-size=\"14.00\" fill=\"#000000\">gini = 0.0</text>\n<text text-anchor=\"middle\" x=\"1444.5\" y=\"-22.8\" font-family=\"Helvetica,sans-Serif\" font-size=\"14.00\" fill=\"#000000\">samples = 1</text>\n<text text-anchor=\"middle\" x=\"1444.5\" y=\"-7.8\" font-family=\"Helvetica,sans-Serif\" font-size=\"14.00\" fill=\"#000000\">value = [1, 0]</text>\n</g>\n<!-- 59&#45;&gt;60 -->\n<g id=\"edge60\" class=\"edge\">\n<title>59&#45;&gt;60</title>\n<path fill=\"none\" stroke=\"#000000\" d=\"M1482.6988,-88.9777C1477.3242,-80.187 1471.5265,-70.7044 1466.1115,-61.8477\"/>\n<polygon fill=\"#000000\" stroke=\"#000000\" points=\"1469.0564,-59.9545 1460.854,-53.2485 1463.0842,-63.6059 1469.0564,-59.9545\"/>\n</g>\n<!-- 61 -->\n<g id=\"node62\" class=\"node\">\n<title>61</title>\n<polygon fill=\"#399de5\" stroke=\"#000000\" points=\"1611,-53 1512,-53 1512,0 1611,0 1611,-53\"/>\n<text text-anchor=\"middle\" x=\"1561.5\" y=\"-37.8\" font-family=\"Helvetica,sans-Serif\" font-size=\"14.00\" fill=\"#000000\">gini = 0.0</text>\n<text text-anchor=\"middle\" x=\"1561.5\" y=\"-22.8\" font-family=\"Helvetica,sans-Serif\" font-size=\"14.00\" fill=\"#000000\">samples = 1</text>\n<text text-anchor=\"middle\" x=\"1561.5\" y=\"-7.8\" font-family=\"Helvetica,sans-Serif\" font-size=\"14.00\" fill=\"#000000\">value = [0, 1]</text>\n</g>\n<!-- 59&#45;&gt;61 -->\n<g id=\"edge61\" class=\"edge\">\n<title>59&#45;&gt;61</title>\n<path fill=\"none\" stroke=\"#000000\" d=\"M1523.9486,-88.9777C1529.2322,-80.187 1534.9316,-70.7044 1540.2548,-61.8477\"/>\n<polygon fill=\"#000000\" stroke=\"#000000\" points=\"1543.2715,-63.6225 1545.4232,-53.2485 1537.2718,-60.0165 1543.2715,-63.6225\"/>\n</g>\n<!-- 64 -->\n<g id=\"node65\" class=\"node\">\n<title>64</title>\n<polygon fill=\"#e58139\" stroke=\"#000000\" points=\"1501,-565.5 1402,-565.5 1402,-512.5 1501,-512.5 1501,-565.5\"/>\n<text text-anchor=\"middle\" x=\"1451.5\" y=\"-550.3\" font-family=\"Helvetica,sans-Serif\" font-size=\"14.00\" fill=\"#000000\">gini = 0.0</text>\n<text text-anchor=\"middle\" x=\"1451.5\" y=\"-535.3\" font-family=\"Helvetica,sans-Serif\" font-size=\"14.00\" fill=\"#000000\">samples = 1</text>\n<text text-anchor=\"middle\" x=\"1451.5\" y=\"-520.3\" font-family=\"Helvetica,sans-Serif\" font-size=\"14.00\" fill=\"#000000\">value = [1, 0]</text>\n</g>\n<!-- 63&#45;&gt;64 -->\n<g id=\"edge64\" class=\"edge\">\n<title>63&#45;&gt;64</title>\n<path fill=\"none\" stroke=\"#000000\" d=\"M1451.5,-608.9465C1451.5,-598.2621 1451.5,-586.4254 1451.5,-575.5742\"/>\n<polygon fill=\"#000000\" stroke=\"#000000\" points=\"1455.0001,-575.5421 1451.5,-565.5422 1448.0001,-575.5422 1455.0001,-575.5421\"/>\n</g>\n<!-- 65 -->\n<g id=\"node66\" class=\"node\">\n<title>65</title>\n<polygon fill=\"#399de5\" stroke=\"#000000\" points=\"1618,-565.5 1519,-565.5 1519,-512.5 1618,-512.5 1618,-565.5\"/>\n<text text-anchor=\"middle\" x=\"1568.5\" y=\"-550.3\" font-family=\"Helvetica,sans-Serif\" font-size=\"14.00\" fill=\"#000000\">gini = 0.0</text>\n<text text-anchor=\"middle\" x=\"1568.5\" y=\"-535.3\" font-family=\"Helvetica,sans-Serif\" font-size=\"14.00\" fill=\"#000000\">samples = 1</text>\n<text text-anchor=\"middle\" x=\"1568.5\" y=\"-520.3\" font-family=\"Helvetica,sans-Serif\" font-size=\"14.00\" fill=\"#000000\">value = [0, 1]</text>\n</g>\n<!-- 63&#45;&gt;65 -->\n<g id=\"edge65\" class=\"edge\">\n<title>63&#45;&gt;65</title>\n<path fill=\"none\" stroke=\"#000000\" d=\"M1489.8102,-608.9465C1503.0694,-597.1606 1517.9058,-583.9726 1531.0916,-572.2519\"/>\n<polygon fill=\"#000000\" stroke=\"#000000\" points=\"1533.4912,-574.8018 1538.6401,-565.5422 1528.8407,-569.5699 1533.4912,-574.8018\"/>\n</g>\n</g>\n</svg>\n"
          },
          "metadata": {},
          "execution_count": 44
        }
      ]
    },
    {
      "cell_type": "markdown",
      "source": [
        "3. [DT]예측"
      ],
      "metadata": {
        "id": "SKDPzp5vwyaZ"
      }
    },
    {
      "cell_type": "code",
      "source": [
        "predictions = dtc_model.predict(X_test)\n",
        "predictions"
      ],
      "metadata": {
        "colab": {
          "base_uri": "https://localhost:8080/"
        },
        "id": "sRs3qBb8wwZa",
        "outputId": "ddb117dd-a934-4087-e740-012df534c546"
      },
      "execution_count": 45,
      "outputs": [
        {
          "output_type": "execute_result",
          "data": {
            "text/plain": [
              "array([1, 0, 0, 0, 1, 0, 1, 1, 1, 1, 0, 1, 1, 0, 0, 0, 1, 1, 0, 1, 0, 0,\n",
              "       0, 1, 0, 0, 0, 0, 1, 0, 0, 0, 1, 0, 1, 0, 1, 0, 1, 1, 0, 1, 0, 1,\n",
              "       1, 1, 1, 1, 1, 0, 0, 0, 1, 1, 1, 0, 0, 1, 0, 0, 1, 0, 1, 1, 1, 0,\n",
              "       0])"
            ]
          },
          "metadata": {},
          "execution_count": 45
        }
      ]
    },
    {
      "cell_type": "code",
      "source": [
        "# 평가\n",
        "dtc_acc = accuracy_score(Y_test, predictions)\n",
        "print('Decision Tree 모델의 예측 정확도는 {}%입니다.'.format(round(dtc_acc*100)))"
      ],
      "metadata": {
        "colab": {
          "base_uri": "https://localhost:8080/"
        },
        "id": "XkVD2GZGw4_N",
        "outputId": "02707dc7-1437-4ec1-85c5-2545a14c355d"
      },
      "execution_count": 46,
      "outputs": [
        {
          "output_type": "stream",
          "name": "stdout",
          "text": [
            "Decision Tree 모델의 예측 정확도는 93%입니다.\n"
          ]
        }
      ]
    },
    {
      "cell_type": "markdown",
      "source": [
        "> ### 서포트 백터 분류기(SVC)\n",
        "> - 서포트 벡터 분류기(Support Vector Classifier)이란 두 데이터 그룹으로부터 최대한 떨어져 있는 초평면(Optimal Hyperplane)을 구하고, 이것을 사용하는 이진 분류 모델이다.\n",
        "> - 서포트 벡터는 이 초평면을 결정하기 위해 사용되는 데이터 집합\n",
        "> - 분류나 예측 문제에 동시에 사용한다.\n",
        "> - 데이터가 많으면 예측의 정확도가 비교적 높아진다."
      ],
      "metadata": {
        "id": "UvhwrLx7xKr3"
      }
    },
    {
      "cell_type": "markdown",
      "source": [
        "1.[SVC]모델 정의"
      ],
      "metadata": {
        "id": "_VHuIWDpxitl"
      }
    },
    {
      "cell_type": "code",
      "source": [
        "from sklearn.svm import SVC\n",
        "svc_model = SVC()"
      ],
      "metadata": {
        "id": "F4wpyAbexIJA"
      },
      "execution_count": 47,
      "outputs": []
    },
    {
      "cell_type": "code",
      "source": [
        "svc_model.get_params()"
      ],
      "metadata": {
        "colab": {
          "base_uri": "https://localhost:8080/"
        },
        "id": "69xtP6XzxpN9",
        "outputId": "e3986b52-5ebf-429a-dd54-8006aecb5545"
      },
      "execution_count": 48,
      "outputs": [
        {
          "output_type": "execute_result",
          "data": {
            "text/plain": [
              "{'C': 1.0,\n",
              " 'break_ties': False,\n",
              " 'cache_size': 200,\n",
              " 'class_weight': None,\n",
              " 'coef0': 0.0,\n",
              " 'decision_function_shape': 'ovr',\n",
              " 'degree': 3,\n",
              " 'gamma': 'scale',\n",
              " 'kernel': 'rbf',\n",
              " 'max_iter': -1,\n",
              " 'probability': False,\n",
              " 'random_state': None,\n",
              " 'shrinking': True,\n",
              " 'tol': 0.001,\n",
              " 'verbose': False}"
            ]
          },
          "metadata": {},
          "execution_count": 48
        }
      ]
    },
    {
      "cell_type": "markdown",
      "source": [
        "2. [SVC]모델 학습"
      ],
      "metadata": {
        "id": "ENoao_mqxslr"
      }
    },
    {
      "cell_type": "code",
      "source": [
        "svc_model.fit(X_train, Y_train)"
      ],
      "metadata": {
        "colab": {
          "base_uri": "https://localhost:8080/"
        },
        "id": "c_DPCsX_xrFZ",
        "outputId": "fc60d31a-8ed3-40d3-e40d-e0d0a11955a8"
      },
      "execution_count": 49,
      "outputs": [
        {
          "output_type": "execute_result",
          "data": {
            "text/plain": [
              "SVC()"
            ]
          },
          "metadata": {},
          "execution_count": 49
        }
      ]
    },
    {
      "cell_type": "markdown",
      "source": [
        "2. [SVC]예측"
      ],
      "metadata": {
        "id": "iJp1x8TOxyWm"
      }
    },
    {
      "cell_type": "code",
      "source": [
        "predictions = svc_model.predict(X_test)\n",
        "predictions"
      ],
      "metadata": {
        "colab": {
          "base_uri": "https://localhost:8080/"
        },
        "id": "HNYSmYXJxxGY",
        "outputId": "3b012a9d-fcee-45e0-fba3-deff40e2381e"
      },
      "execution_count": 50,
      "outputs": [
        {
          "output_type": "execute_result",
          "data": {
            "text/plain": [
              "array([1, 0, 0, 0, 0, 0, 1, 1, 1, 1, 0, 1, 1, 0, 0, 0, 1, 1, 0, 1, 0, 0,\n",
              "       0, 1, 0, 0, 0, 0, 1, 0, 0, 0, 1, 0, 1, 0, 1, 1, 1, 1, 0, 1, 0, 1,\n",
              "       1, 1, 1, 1, 1, 0, 0, 0, 1, 1, 1, 0, 0, 1, 0, 0, 1, 0, 1, 0, 1, 0,\n",
              "       0])"
            ]
          },
          "metadata": {},
          "execution_count": 50
        }
      ]
    },
    {
      "cell_type": "code",
      "source": [
        "svc_acc = accuracy_score(Y_test, predictions)\n",
        "print('Support Vector Classifier 모델의 예측 정확도는 {}%입니다.'.format(round(svc_acc*100)))"
      ],
      "metadata": {
        "colab": {
          "base_uri": "https://localhost:8080/"
        },
        "id": "Aj7dVe3Rx5Aw",
        "outputId": "135caf60-bceb-412c-8841-4318e46f755c"
      },
      "execution_count": 51,
      "outputs": [
        {
          "output_type": "stream",
          "name": "stdout",
          "text": [
            "Support Vector Classifier 모델의 예측 정확도는 88%입니다.\n"
          ]
        }
      ]
    },
    {
      "cell_type": "markdown",
      "source": [
        "- 분류 모델별 예측 정확도"
      ],
      "metadata": {
        "id": "st5oyhfHyQCM"
      }
    },
    {
      "cell_type": "code",
      "source": [
        "accuracy_table = pd.DataFrame({'Logistic Regreesion' : [str(round(lr_acc*100))+ '%'],\n",
        "                               'KNeighbors' : [str(round(knc_acc*100)) + '%'],\n",
        "                               'Decision Tree' : [str(round(dtc_acc*100)) + '%'],\n",
        "                               'SVV' : [str(round(svc_acc*100)) + '%']})\n",
        "accuracy_table\n",
        "# 자료마다 분석 알고리즘의 정확도가 다르다."
      ],
      "metadata": {
        "colab": {
          "base_uri": "https://localhost:8080/",
          "height": 80
        },
        "id": "ADtkcFWcyFBD",
        "outputId": "41145df6-a062-40e4-f9d5-5b17a243f305"
      },
      "execution_count": 52,
      "outputs": [
        {
          "output_type": "execute_result",
          "data": {
            "text/plain": [
              "  Logistic Regreesion KNeighbors Decision Tree  SVV\n",
              "0                 88%        88%           93%  88%"
            ],
            "text/html": [
              "\n",
              "  <div id=\"df-f08206de-cb97-49e3-92db-365d3221b74c\">\n",
              "    <div class=\"colab-df-container\">\n",
              "      <div>\n",
              "<style scoped>\n",
              "    .dataframe tbody tr th:only-of-type {\n",
              "        vertical-align: middle;\n",
              "    }\n",
              "\n",
              "    .dataframe tbody tr th {\n",
              "        vertical-align: top;\n",
              "    }\n",
              "\n",
              "    .dataframe thead th {\n",
              "        text-align: right;\n",
              "    }\n",
              "</style>\n",
              "<table border=\"1\" class=\"dataframe\">\n",
              "  <thead>\n",
              "    <tr style=\"text-align: right;\">\n",
              "      <th></th>\n",
              "      <th>Logistic Regreesion</th>\n",
              "      <th>KNeighbors</th>\n",
              "      <th>Decision Tree</th>\n",
              "      <th>SVV</th>\n",
              "    </tr>\n",
              "  </thead>\n",
              "  <tbody>\n",
              "    <tr>\n",
              "      <th>0</th>\n",
              "      <td>88%</td>\n",
              "      <td>88%</td>\n",
              "      <td>93%</td>\n",
              "      <td>88%</td>\n",
              "    </tr>\n",
              "  </tbody>\n",
              "</table>\n",
              "</div>\n",
              "      <button class=\"colab-df-convert\" onclick=\"convertToInteractive('df-f08206de-cb97-49e3-92db-365d3221b74c')\"\n",
              "              title=\"Convert this dataframe to an interactive table.\"\n",
              "              style=\"display:none;\">\n",
              "        \n",
              "  <svg xmlns=\"http://www.w3.org/2000/svg\" height=\"24px\"viewBox=\"0 0 24 24\"\n",
              "       width=\"24px\">\n",
              "    <path d=\"M0 0h24v24H0V0z\" fill=\"none\"/>\n",
              "    <path d=\"M18.56 5.44l.94 2.06.94-2.06 2.06-.94-2.06-.94-.94-2.06-.94 2.06-2.06.94zm-11 1L8.5 8.5l.94-2.06 2.06-.94-2.06-.94L8.5 2.5l-.94 2.06-2.06.94zm10 10l.94 2.06.94-2.06 2.06-.94-2.06-.94-.94-2.06-.94 2.06-2.06.94z\"/><path d=\"M17.41 7.96l-1.37-1.37c-.4-.4-.92-.59-1.43-.59-.52 0-1.04.2-1.43.59L10.3 9.45l-7.72 7.72c-.78.78-.78 2.05 0 2.83L4 21.41c.39.39.9.59 1.41.59.51 0 1.02-.2 1.41-.59l7.78-7.78 2.81-2.81c.8-.78.8-2.07 0-2.86zM5.41 20L4 18.59l7.72-7.72 1.47 1.35L5.41 20z\"/>\n",
              "  </svg>\n",
              "      </button>\n",
              "      \n",
              "  <style>\n",
              "    .colab-df-container {\n",
              "      display:flex;\n",
              "      flex-wrap:wrap;\n",
              "      gap: 12px;\n",
              "    }\n",
              "\n",
              "    .colab-df-convert {\n",
              "      background-color: #E8F0FE;\n",
              "      border: none;\n",
              "      border-radius: 50%;\n",
              "      cursor: pointer;\n",
              "      display: none;\n",
              "      fill: #1967D2;\n",
              "      height: 32px;\n",
              "      padding: 0 0 0 0;\n",
              "      width: 32px;\n",
              "    }\n",
              "\n",
              "    .colab-df-convert:hover {\n",
              "      background-color: #E2EBFA;\n",
              "      box-shadow: 0px 1px 2px rgba(60, 64, 67, 0.3), 0px 1px 3px 1px rgba(60, 64, 67, 0.15);\n",
              "      fill: #174EA6;\n",
              "    }\n",
              "\n",
              "    [theme=dark] .colab-df-convert {\n",
              "      background-color: #3B4455;\n",
              "      fill: #D2E3FC;\n",
              "    }\n",
              "\n",
              "    [theme=dark] .colab-df-convert:hover {\n",
              "      background-color: #434B5C;\n",
              "      box-shadow: 0px 1px 3px 1px rgba(0, 0, 0, 0.15);\n",
              "      filter: drop-shadow(0px 1px 2px rgba(0, 0, 0, 0.3));\n",
              "      fill: #FFFFFF;\n",
              "    }\n",
              "  </style>\n",
              "\n",
              "      <script>\n",
              "        const buttonEl =\n",
              "          document.querySelector('#df-f08206de-cb97-49e3-92db-365d3221b74c button.colab-df-convert');\n",
              "        buttonEl.style.display =\n",
              "          google.colab.kernel.accessAllowed ? 'block' : 'none';\n",
              "\n",
              "        async function convertToInteractive(key) {\n",
              "          const element = document.querySelector('#df-f08206de-cb97-49e3-92db-365d3221b74c');\n",
              "          const dataTable =\n",
              "            await google.colab.kernel.invokeFunction('convertToInteractive',\n",
              "                                                     [key], {});\n",
              "          if (!dataTable) return;\n",
              "\n",
              "          const docLinkHtml = 'Like what you see? Visit the ' +\n",
              "            '<a target=\"_blank\" href=https://colab.research.google.com/notebooks/data_table.ipynb>data table notebook</a>'\n",
              "            + ' to learn more about interactive tables.';\n",
              "          element.innerHTML = '';\n",
              "          dataTable['output_type'] = 'display_data';\n",
              "          await google.colab.output.renderOutput(dataTable, element);\n",
              "          const docLink = document.createElement('div');\n",
              "          docLink.innerHTML = docLinkHtml;\n",
              "          element.appendChild(docLink);\n",
              "        }\n",
              "      </script>\n",
              "    </div>\n",
              "  </div>\n",
              "  "
            ]
          },
          "metadata": {},
          "execution_count": 52
        }
      ]
    },
    {
      "cell_type": "markdown",
      "source": [
        "## 분류 성능 평가하기\n",
        "> - **정확도(Accuraacy)**이외에 scikit-learn이 제공하는 다양한 성능을 평가하기 위한 방법 사용"
      ],
      "metadata": {
        "id": "s14KcZAMzbwN"
      }
    },
    {
      "cell_type": "markdown",
      "source": [
        "정확도 하나만으로 **'이 머신 러닝 모델은 성능이 좋은 모델이다!'** 라고 말 할 수없다.<br>\n",
        "만약 90%펭귄이 수컷인 상황이라면 모두 수컷이라고 예측을 하면 정확도는 90%이다.<br> 따라서 모델의 정확도만을 가지고 분류 성능을 평가하는 것은 주의가 필요하다."
      ],
      "metadata": {
        "id": "y5rWJCb5zuHS"
      }
    },
    {
      "cell_type": "markdown",
      "source": [
        "### 오차행렬\n",
        "> - 분류를 하면서 **모데링 얼마나 헷갈리고 있는지**를 한눈에 파악할 수있다.\n",
        "> - 실제 값 종류 별로 얼마나 맞추었는지, 아니면 얼마나 틀렸는지를 알 수 있어, **예측 오류의 종류 별로 분석**이 가능합니다."
      ],
      "metadata": {
        "id": "cfQytQmd0CIR"
      }
    },
    {
      "cell_type": "markdown",
      "source": [
        "> <img src=\"data:image/png;base64,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\" height=200 width=550/>"
      ],
      "metadata": {
        "id": "6R1Z_jYr0a6I"
      }
    },
    {
      "cell_type": "code",
      "source": [
        "# 라이브러리 import\n",
        "from sklearn.metrics import confusion_matrix\n",
        "from mlxtend.plotting import plot_confusion_matrix"
      ],
      "metadata": {
        "id": "WXPZhAuTzIUz"
      },
      "execution_count": 53,
      "outputs": []
    },
    {
      "cell_type": "code",
      "source": [
        "predictions = lr_model.predict(X_test)"
      ],
      "metadata": {
        "id": "Lyn9r1RS0sCE"
      },
      "execution_count": 54,
      "outputs": []
    },
    {
      "cell_type": "code",
      "source": [
        "# confusion matrix\n",
        "cnf_matrix = confusion_matrix(Y_test, predictions)"
      ],
      "metadata": {
        "id": "CBInWJmI09VY"
      },
      "execution_count": 55,
      "outputs": []
    },
    {
      "cell_type": "code",
      "source": [
        "cnf_matrix"
      ],
      "metadata": {
        "colab": {
          "base_uri": "https://localhost:8080/"
        },
        "id": "yU2bL54U1Dyj",
        "outputId": "67407998-9d83-4a2a-d6e0-58b6045aa52f"
      },
      "execution_count": 56,
      "outputs": [
        {
          "output_type": "execute_result",
          "data": {
            "text/plain": [
              "array([[30,  5],\n",
              "       [ 3, 29]])"
            ]
          },
          "metadata": {},
          "execution_count": 56
        }
      ]
    },
    {
      "cell_type": "code",
      "source": [
        "# Confusioin Matrix 시각화 하기\n",
        "figure, ax = plot_confusion_matrix(conf_mat = cnf_matrix, # confusion atrix\n",
        "                                   show_absolute = True, # 절대값 보여주기\n",
        "                                   show_normed = True, # 비율 보여주기\n",
        "                                   colorbar = True)\n",
        "\n",
        "plt.show()"
      ],
      "metadata": {
        "colab": {
          "base_uri": "https://localhost:8080/",
          "height": 283
        },
        "id": "0YS55XBP1E-p",
        "outputId": "73e4a6d9-cda0-45cd-ec38-73689d20c78c"
      },
      "execution_count": 57,
      "outputs": [
        {
          "output_type": "display_data",
          "data": {
            "text/plain": [
              "<Figure size 432x288 with 2 Axes>"
            ],
            "image/png": "[encoded data removed]"
          },
          "metadata": {
            "needs_background": "light"
          }
        }
      ]
    },
    {
      "cell_type": "markdown",
      "source": [
        "> ### 정확도(Accuracy)/ 정밀도(Precision)\n",
        "> - 정확도와 정밀도는 항상 헷갈리지만, 함께 봐야하는 중요한 지표 중 하나이다.\n",
        "> - scikit-learn에선 0-1 사이 값으로 계산해 줍니다.\n",
        "> - **정확도(Accuracy)** :'전체 분류 결과 중' 에서 '실제 참으로 맞춘 비율'\n",
        "    - 전체 데이터에서 얼마나 맞췄냐?\n",
        "    - TP + TN / TP + FP + TN + FN\n",
        "> - 정밀도(precision) : '참으로 분류한 것 중'에 '실제 참의 비율'\n",
        "    - 얼마나 정밀하게 참으로 분류했는가?\n",
        "    - TP/TP + FP"
      ],
      "metadata": {
        "id": "waZkkn-P2FfI"
      }
    },
    {
      "cell_type": "code",
      "source": [
        "# libary import\n",
        "from sklearn.metrics import accuracy_score\n",
        "from sklearn.metrics import precision_score"
      ],
      "metadata": {
        "id": "ZsYDP8LK13ss"
      },
      "execution_count": 58,
      "outputs": []
    },
    {
      "cell_type": "code",
      "source": [
        "#정확도\n",
        "accuracy_score(Y_test, predictions)"
      ],
      "metadata": {
        "colab": {
          "base_uri": "https://localhost:8080/"
        },
        "id": "XZSYv5R028hN",
        "outputId": "744b7ecd-718b-4621-c803-b335993f8206"
      },
      "execution_count": 59,
      "outputs": [
        {
          "output_type": "execute_result",
          "data": {
            "text/plain": [
              "0.8805970149253731"
            ]
          },
          "metadata": {},
          "execution_count": 59
        }
      ]
    },
    {
      "cell_type": "code",
      "source": [
        "#정밀도\n",
        "precision_score(Y_test, predictions)"
      ],
      "metadata": {
        "colab": {
          "base_uri": "https://localhost:8080/"
        },
        "id": "csoO2FHH3AwX",
        "outputId": "9ebf0d8d-936e-4e1b-ed20-d99ed6f87622"
      },
      "execution_count": 60,
      "outputs": [
        {
          "output_type": "execute_result",
          "data": {
            "text/plain": [
              "0.8529411764705882"
            ]
          },
          "metadata": {},
          "execution_count": 60
        }
      ]
    },
    {
      "cell_type": "markdown",
      "source": [
        "> ### 재현율(Recall)\n",
        "> - 재현율(Recall)은 Hit Ratio등으로 불리는 지표이다.\n",
        "> - 정밀도와 개념이 유사하지만, 다른 점은 분모 부분이 '실제 참 값'이 들어간다.\n",
        "> - sckit-learn에선 0-1 사이 값으로 계산\n",
        "> - 재현율(Recall) : '**실제**참값 중에서 '참으로 분류한 비율'\n",
        "    - 참 값을 얼마나 잘 재현 했는가?\n",
        "    - TP / TP + FN"
      ],
      "metadata": {
        "id": "VItxdww43I5P"
      }
    },
    {
      "cell_type": "code",
      "source": [
        "# libary import\n",
        "from sklearn.metrics import recall_score"
      ],
      "metadata": {
        "id": "35j3fRSb3Hh7"
      },
      "execution_count": 61,
      "outputs": []
    },
    {
      "cell_type": "code",
      "source": [
        "recall_score(Y_test, predictions)"
      ],
      "metadata": {
        "colab": {
          "base_uri": "https://localhost:8080/"
        },
        "id": "bu8zetme3qDz",
        "outputId": "ee9638a4-20e2-4b15-80c3-15da3d8d38bd"
      },
      "execution_count": 62,
      "outputs": [
        {
          "output_type": "execute_result",
          "data": {
            "text/plain": [
              "0.90625"
            ]
          },
          "metadata": {},
          "execution_count": 62
        }
      ]
    },
    {
      "cell_type": "markdown",
      "source": [
        "> ### F1점수 (F1-score)\n",
        "> - F1-score는 재현율과 정밀도가 한쪽으로 치우치지 않았는지 나타내는 지표이다.\n",
        "> - 재현율과 정밀도는 한쪽이 높아지면, 다른 한쪽은 낮아지는 관계(Trade-off관계)가 있습니다. 만약 정밀도를 높이려 하면 재현율이 낮아집니다.\n",
        "> - 주로 **데이터가 심각한 불균형 상태일 때** 성능 평가를 제대로 하기 위해서 사용\n",
        "> - F1점수(Recall): '데이터 불균형을 보정한 분류 성능'\n",
        "    - 데이터가 불균형을 보장한 분류 성능\n",
        "    - 2 * Precision(정밀도) * Recall/ precision+Recall"
      ],
      "metadata": {
        "id": "WE0-pFL631hx"
      }
    },
    {
      "cell_type": "code",
      "source": [
        "# libary import\n",
        "from sklearn.metrics import f1_score"
      ],
      "metadata": {
        "id": "LMzdLloH3wu2"
      },
      "execution_count": 63,
      "outputs": []
    },
    {
      "cell_type": "code",
      "source": [
        "f1_score(Y_test, predictions)"
      ],
      "metadata": {
        "colab": {
          "base_uri": "https://localhost:8080/"
        },
        "id": "y03_DnCX4lB5",
        "outputId": "20c2dc58-6a42-4128-8f6d-e54b2e8ca7a2"
      },
      "execution_count": 64,
      "outputs": [
        {
          "output_type": "execute_result",
          "data": {
            "text/plain": [
              "0.8787878787878787"
            ]
          },
          "metadata": {},
          "execution_count": 64
        }
      ]
    },
    {
      "cell_type": "markdown",
      "source": [
        "> ### **ROC(Receiver Operator Characteristic)커브**\n",
        "> - ROC 커브는 분류 모델의 판단 기준을 연속적으로 바꾸면서 성능에 어떤 변화가 있는지 측정하는 방법입니다.\n",
        "> - TPR(True Postive Rate): 참 값에 대해 참으로 바로 예측하는 비율\n",
        "    - TP/TP+FN\n",
        "> - FPr(False Postive Rate): 거짓 값에 대해 참으로 틀리게 예측하는 비율\n",
        "    - FP/FP + TN\n",
        "> - 커브 아래 면적을 AUC(Area under the ROC curve)라고 한다.\n",
        "> - 이 AUC 면적이 클수록 성능이 좋은 모델이다."
      ],
      "metadata": {
        "id": "Od8xyz4A4ujx"
      }
    },
    {
      "cell_type": "code",
      "source": [
        "from sklearn.metrics import roc_curve\n",
        "from sklearn.metrics import roc_auc_score"
      ],
      "metadata": {
        "id": "bw2y5D4m4nEW"
      },
      "execution_count": 65,
      "outputs": []
    },
    {
      "cell_type": "code",
      "source": [
        "# roc 커브 시각화\n",
        "fpr, tpr, _ = roc_curve(Y_test, predictions)\n",
        "auc = roc_auc_score(Y_test, predictions)\n",
        "plt.plot(fpr,tpr, label='aue='+str(auc))\n",
        "plt.legend(loc='lower right')\n",
        "plt.xlabel('False Postive Rate')\n",
        "plt.ylabel('True Postive Rate')\n",
        "plt.show()"
      ],
      "metadata": {
        "colab": {
          "base_uri": "https://localhost:8080/",
          "height": 279
        },
        "id": "ZTtQPO2o6AWe",
        "outputId": "6d26b427-6fa4-417c-a0d7-d6e8e1219e8f"
      },
      "execution_count": 66,
      "outputs": [
        {
          "output_type": "display_data",
          "data": {
            "text/plain": [
              "<Figure size 432x288 with 1 Axes>"
            ],
            "image/png": "[encoded data removed]"
          },
          "metadata": {
            "needs_background": "light"
          }
        }
      ]
    },
    {
      "cell_type": "code",
      "source": [
        "# 전체 분류 모델 성능 지표\n",
        "accuracy = accuracy_score(Y_test, predictions)\n",
        "precision = precision_score(Y_test, predictions)\n",
        "recall = recall_score(Y_test, predictions)\n",
        "f1_score = f1_score(Y_test, predictions)\n",
        "auc_score = roc_auc_score(Y_test, predictions)\n",
        "\n",
        "print(\"accuracy: {}\".format(round(accuracy, 2)))\n",
        "print(\"precision: {}\".format(round(precision, 2)))\n",
        "print(\"recall: {}\".format(round(recall), 2))\n",
        "print(\"f1_score: {}\".format(round(f1_score, 2)))\n",
        "print(\"auc_score: {}\".format(round(auc_score, 2)))"
      ],
      "metadata": {
        "colab": {
          "base_uri": "https://localhost:8080/"
        },
        "id": "xjxBrFKP6h1n",
        "outputId": "bcc524cc-d398-4da4-e591-77a029ebf66d"
      },
      "execution_count": 67,
      "outputs": [
        {
          "output_type": "stream",
          "name": "stdout",
          "text": [
            "accuracy: 0.88\n",
            "precision: 0.85\n",
            "recall: 1\n",
            "f1_score: 0.88\n",
            "auc_score: 0.88\n"
          ]
        }
      ]
    },
    {
      "cell_type": "markdown",
      "source": [
        "> ## 회귀 분석 모델링\n",
        "- **`수치형`** 데이터를 예측하기 위한 대표적인 지도 학습(Supervised Learning) 방법론인 **회귀 분석**"
      ],
      "metadata": {
        "id": "r8Gb8HTHPCBz"
      }
    },
    {
      "cell_type": "markdown",
      "source": [
        "> ### 회귀 분석(Regression Analysis)이란?\n",
        "- 회귀 분석은 데이터로부터 변수들 간의 함수 관게를 찾아내는 방법이다.\n",
        "- 과거 **수치형** 데이터로 부터 함수관계를아 찾아내고, 미래 수치형 데이터를 예측한다.\n",
        "- 부동산 가격 예측, 고객 수요 예측, 원재료 가격에 예측 다양한 문제를 해결 한다.\n",
        "- 과거 데이터 패턴을 학습하는 방법이기 때문에, 변동성이 심한 문제는 모델 성능이 떨어질 수 있다."
      ],
      "metadata": {
        "id": "h1yLlvZ_Plpy"
      }
    },
    {
      "cell_type": "markdown",
      "source": [
        "> ### 선형 회귀(Linear Regression)\n",
        "- 선형 회귀란 **변수들 사이의 선형적(직선적인)함수 관계를 모델링하는 방법**\n",
        "- 데이터를 바탕으로 **변수 관계를 설명하는 일차 방정식 함수**를 만들어 낸다.\n",
        "    - `Y= WX + b(W:기울기, b :y절편)`\n",
        "    - 학습 방법은 경사 하강법 알고리증 사용\n",
        "- 학습을 통해 제일 합리적인 선을 찾아내는 것\n",
        "- 만약 `변수들의 상관관계가 없다면` 합리적인 선을 `찾아내지 못할 수 있다.`\n"
      ],
      "metadata": {
        "id": "Q4ONhhYYQyQA"
      }
    },
    {
      "cell_type": "markdown",
      "source": [
        "> ![linear_regression.png](data:image/png;base64,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)"
      ],
      "metadata": {
        "id": "Si39tpjwRsxT"
      }
    },
    {
      "cell_type": "code",
      "source": [
        "from sklearn.linear_model import LinearRegression"
      ],
      "metadata": {
        "id": "Pw2Twwb_TLV2"
      },
      "execution_count": 68,
      "outputs": []
    },
    {
      "cell_type": "code",
      "source": [
        "# 샘플 데이터 생성\n",
        "df = pd.DataFrame({'height': [160, 180, 170, 150, 175, 165, 185, 155, 140, 190],\n",
        "                   'weight': [48, 75, 73, 45, 75, 55, 78, 53, 40, 85]})"
      ],
      "metadata": {
        "id": "5r8x1hQqR3tf"
      },
      "execution_count": 69,
      "outputs": []
    },
    {
      "cell_type": "code",
      "source": [
        "# 시각화\n",
        "df.plot.scatter(x='weight', y='height',figsize=(15,5))"
      ],
      "metadata": {
        "colab": {
          "base_uri": "https://localhost:8080/",
          "height": 259
        },
        "id": "231N4x2fR4eS",
        "outputId": "e23bb16a-e9f0-4e55-f987-3fa95d5dc13d"
      },
      "execution_count": 70,
      "outputs": [
        {
          "output_type": "execute_result",
          "data": {
            "text/plain": [
              "<matplotlib.axes._subplots.AxesSubplot at 0x7f49b8473850>"
            ]
          },
          "metadata": {},
          "execution_count": 70
        },
        {
          "output_type": "display_data",
          "data": {
            "text/plain": [
              "<Figure size 1080x360 with 1 Axes>"
            ],
            "image/png": "[encoded data removed]"
          },
          "metadata": {
            "needs_background": "light"
          }
        }
      ]
    },
    {
      "cell_type": "code",
      "source": [
        "lr_model = LinearRegression()\n",
        "# lr_model.fit(df['weight'], df['height'])\n",
        "# LinearRRegression()의 X값은 array 값으로 입력"
      ],
      "metadata": {
        "id": "ieQz4A_CSFow"
      },
      "execution_count": 71,
      "outputs": []
    },
    {
      "cell_type": "code",
      "source": [
        "df['weight'] # series 형태 "
      ],
      "metadata": {
        "colab": {
          "base_uri": "https://localhost:8080/"
        },
        "id": "zTrO_-Q-SQ2m",
        "outputId": "d0b457f1-6993-44bb-9706-11b00b46bc6f"
      },
      "execution_count": 72,
      "outputs": [
        {
          "output_type": "execute_result",
          "data": {
            "text/plain": [
              "0    48\n",
              "1    75\n",
              "2    73\n",
              "3    45\n",
              "4    75\n",
              "5    55\n",
              "6    78\n",
              "7    53\n",
              "8    40\n",
              "9    85\n",
              "Name: weight, dtype: int64"
            ]
          },
          "metadata": {},
          "execution_count": 72
        }
      ]
    },
    {
      "cell_type": "code",
      "source": [
        "df['weight'].values.reshape(-1,1)\n",
        "# 2차 배열 변경"
      ],
      "metadata": {
        "colab": {
          "base_uri": "https://localhost:8080/"
        },
        "id": "mArVNNO7VKPI",
        "outputId": "45b7044e-f069-4985-90e6-c4a7e46f30aa"
      },
      "execution_count": 73,
      "outputs": [
        {
          "output_type": "execute_result",
          "data": {
            "text/plain": [
              "array([[48],\n",
              "       [75],\n",
              "       [73],\n",
              "       [45],\n",
              "       [75],\n",
              "       [55],\n",
              "       [78],\n",
              "       [53],\n",
              "       [40],\n",
              "       [85]])"
            ]
          },
          "metadata": {},
          "execution_count": 73
        }
      ]
    },
    {
      "cell_type": "code",
      "source": [
        "lr_model.fit(df['weight'].values.reshape(-1,1), df['height'])"
      ],
      "metadata": {
        "colab": {
          "base_uri": "https://localhost:8080/"
        },
        "id": "j-w_SIf6Vbm2",
        "outputId": "3422ca47-7d62-4d1c-8140-d8fc50440a9b"
      },
      "execution_count": 74,
      "outputs": [
        {
          "output_type": "execute_result",
          "data": {
            "text/plain": [
              "LinearRegression()"
            ]
          },
          "metadata": {},
          "execution_count": 74
        }
      ]
    },
    {
      "cell_type": "code",
      "source": [
        "# 기울기 (W)\n",
        "lr_model.coef_"
      ],
      "metadata": {
        "colab": {
          "base_uri": "https://localhost:8080/"
        },
        "id": "1OeLpIh2VsWy",
        "outputId": "61fedf69-3e99-4628-80ec-0205b70693de"
      },
      "execution_count": 75,
      "outputs": [
        {
          "output_type": "execute_result",
          "data": {
            "text/plain": [
              "array([0.95205509])"
            ]
          },
          "metadata": {},
          "execution_count": 75
        }
      ]
    },
    {
      "cell_type": "code",
      "source": [
        "# y절평 (b)\n",
        "lr_model.intercept_"
      ],
      "metadata": {
        "colab": {
          "base_uri": "https://localhost:8080/"
        },
        "id": "yHmFxFAhVyGX",
        "outputId": "1c9ea025-ba21-4adf-e843-5908f89b61d5"
      },
      "execution_count": 76,
      "outputs": [
        {
          "output_type": "execute_result",
          "data": {
            "text/plain": [
              "107.30614601599589"
            ]
          },
          "metadata": {},
          "execution_count": 76
        }
      ]
    },
    {
      "cell_type": "code",
      "source": [
        "x = np.linspace(40, 90, 50)\n",
        "y = lr_model.coef_[0]*x + lr_model.intercept_ # Y = W*X + b\n",
        "y"
      ],
      "metadata": {
        "colab": {
          "base_uri": "https://localhost:8080/"
        },
        "id": "Yond1ss6V774",
        "outputId": "847386f4-5030-46b5-bb11-351213024e5b"
      },
      "execution_count": 77,
      "outputs": [
        {
          "output_type": "execute_result",
          "data": {
            "text/plain": [
              "array([145.38834951, 146.3598343 , 147.33131908, 148.30280386,\n",
              "       149.27428865, 150.24577343, 151.21725821, 152.188743  ,\n",
              "       153.16022778, 154.13171256, 155.10319735, 156.07468213,\n",
              "       157.04616691, 158.0176517 , 158.98913648, 159.96062126,\n",
              "       160.93210604, 161.90359083, 162.87507561, 163.84656039,\n",
              "       164.81804518, 165.78952996, 166.76101474, 167.73249953,\n",
              "       168.70398431, 169.67546909, 170.64695388, 171.61843866,\n",
              "       172.58992344, 173.56140823, 174.53289301, 175.50437779,\n",
              "       176.47586257, 177.44734736, 178.41883214, 179.39031692,\n",
              "       180.36180171, 181.33328649, 182.30477127, 183.27625606,\n",
              "       184.24774084, 185.21922562, 186.19071041, 187.16219519,\n",
              "       188.13367997, 189.10516476, 190.07664954, 191.04813432,\n",
              "       192.0196191 , 192.99110389])"
            ]
          },
          "metadata": {},
          "execution_count": 77
        }
      ]
    },
    {
      "cell_type": "code",
      "source": [
        "# 선형 회귀 선 시각화\n",
        "df.plot.scatter(x='weight', y='height', figsize=(15,5))\n",
        "plt.plot(x,y, c='blue')\n",
        "plt.show()"
      ],
      "metadata": {
        "colab": {
          "base_uri": "https://localhost:8080/",
          "height": 241
        },
        "id": "dcBZpWZGWNRR",
        "outputId": "9a17ed07-2ed0-43c4-a400-a373a3df946a"
      },
      "execution_count": 78,
      "outputs": [
        {
          "output_type": "display_data",
          "data": {
            "text/plain": [
              "<Figure size 1080x360 with 1 Axes>"
            ],
            "image/png": "[encoded data removed]"
          },
          "metadata": {
            "needs_background": "light"
          }
        }
      ]
    },
    {
      "cell_type": "markdown",
      "source": [
        "> ### 다중 선형 회귀(multi-Linear Regreesion)\n",
        "- 다중 선형 회귀랑 변수(X)가 여러개인 회귀 분석\n",
        "    - Y=W1X1 + W2X2 + W3X3 +...+ b\n",
        "- 대부분의 **실제 문제는 변수가 하나 이상** 이기 때문에, 다중 선형 회귀가 많이 활용된다.\n",
        "- 일반적으로 선형 회귀 분석에서는 자동적으로 함수를 찾아주기 때문에 **정규화/표준화 과정이** 필요 없다."
      ],
      "metadata": {
        "id": "HqvXc-xlW6SR"
      }
    },
    {
      "cell_type": "markdown",
      "source": [
        "> 실습 데이터 세트(캘리포니아 주택 가격 정보)\n",
        "> - [scikit-learn 제공 데이터 세트 목록](https://scikit-learn.org/stable/modules/classes.html?highlight=datasets#module-sklearn.datasets)"
      ],
      "metadata": {
        "id": "IT4-_qKVXdBx"
      }
    },
    {
      "cell_type": "code",
      "source": [
        "from sklearn.datasets import fetch_california_housing\n",
        "dataset = fetch_california_housing()\n",
        "cal_house_df = pd.DataFrame(dataset.data, columns=dataset.feature_names)\n",
        "cal_house_df['Price($)'] = dataset.target * 100000"
      ],
      "metadata": {
        "id": "-4vUMVEhWyyz"
      },
      "execution_count": 79,
      "outputs": []
    },
    {
      "cell_type": "code",
      "source": [
        "cal_house_df"
      ],
      "metadata": {
        "colab": {
          "base_uri": "https://localhost:8080/",
          "height": 483
        },
        "id": "t9zcA8EHYGf9",
        "outputId": "e1484c93-4020-4f43-c053-6276a008eb88"
      },
      "execution_count": 80,
      "outputs": [
        {
          "output_type": "execute_result",
          "data": {
            "text/plain": [
              "       MedInc  HouseAge  AveRooms  AveBedrms  Population  AveOccup  Latitude  \\\n",
              "0      8.3252      41.0  6.984127   1.023810       322.0  2.555556     37.88   \n",
              "1      8.3014      21.0  6.238137   0.971880      2401.0  2.109842     37.86   \n",
              "2      7.2574      52.0  8.288136   1.073446       496.0  2.802260     37.85   \n",
              "3      5.6431      52.0  5.817352   1.073059       558.0  2.547945     37.85   \n",
              "4      3.8462      52.0  6.281853   1.081081       565.0  2.181467     37.85   \n",
              "...       ...       ...       ...        ...         ...       ...       ...   \n",
              "20635  1.5603      25.0  5.045455   1.133333       845.0  2.560606     39.48   \n",
              "20636  2.5568      18.0  6.114035   1.315789       356.0  3.122807     39.49   \n",
              "20637  1.7000      17.0  5.205543   1.120092      1007.0  2.325635     39.43   \n",
              "20638  1.8672      18.0  5.329513   1.171920       741.0  2.123209     39.43   \n",
              "20639  2.3886      16.0  5.254717   1.162264      1387.0  2.616981     39.37   \n",
              "\n",
              "       Longitude  Price($)  \n",
              "0        -122.23  452600.0  \n",
              "1        -122.22  358500.0  \n",
              "2        -122.24  352100.0  \n",
              "3        -122.25  341300.0  \n",
              "4        -122.25  342200.0  \n",
              "...          ...       ...  \n",
              "20635    -121.09   78100.0  \n",
              "20636    -121.21   77100.0  \n",
              "20637    -121.22   92300.0  \n",
              "20638    -121.32   84700.0  \n",
              "20639    -121.24   89400.0  \n",
              "\n",
              "[20640 rows x 9 columns]"
            ],
            "text/html": [
              "\n",
              "  <div id=\"df-032fcf94-712f-44e2-9098-2fe2555b41d5\">\n",
              "    <div class=\"colab-df-container\">\n",
              "      <div>\n",
              "<style scoped>\n",
              "    .dataframe tbody tr th:only-of-type {\n",
              "        vertical-align: middle;\n",
              "    }\n",
              "\n",
              "    .dataframe tbody tr th {\n",
              "        vertical-align: top;\n",
              "    }\n",
              "\n",
              "    .dataframe thead th {\n",
              "        text-align: right;\n",
              "    }\n",
              "</style>\n",
              "<table border=\"1\" class=\"dataframe\">\n",
              "  <thead>\n",
              "    <tr style=\"text-align: right;\">\n",
              "      <th></th>\n",
              "      <th>MedInc</th>\n",
              "      <th>HouseAge</th>\n",
              "      <th>AveRooms</th>\n",
              "      <th>AveBedrms</th>\n",
              "      <th>Population</th>\n",
              "      <th>AveOccup</th>\n",
              "      <th>Latitude</th>\n",
              "      <th>Longitude</th>\n",
              "      <th>Price($)</th>\n",
              "    </tr>\n",
              "  </thead>\n",
              "  <tbody>\n",
              "    <tr>\n",
              "      <th>0</th>\n",
              "      <td>8.3252</td>\n",
              "      <td>41.0</td>\n",
              "      <td>6.984127</td>\n",
              "      <td>1.023810</td>\n",
              "      <td>322.0</td>\n",
              "      <td>2.555556</td>\n",
              "      <td>37.88</td>\n",
              "      <td>-122.23</td>\n",
              "      <td>452600.0</td>\n",
              "    </tr>\n",
              "    <tr>\n",
              "      <th>1</th>\n",
              "      <td>8.3014</td>\n",
              "      <td>21.0</td>\n",
              "      <td>6.238137</td>\n",
              "      <td>0.971880</td>\n",
              "      <td>2401.0</td>\n",
              "      <td>2.109842</td>\n",
              "      <td>37.86</td>\n",
              "      <td>-122.22</td>\n",
              "      <td>358500.0</td>\n",
              "    </tr>\n",
              "    <tr>\n",
              "      <th>2</th>\n",
              "      <td>7.2574</td>\n",
              "      <td>52.0</td>\n",
              "      <td>8.288136</td>\n",
              "      <td>1.073446</td>\n",
              "      <td>496.0</td>\n",
              "      <td>2.802260</td>\n",
              "      <td>37.85</td>\n",
              "      <td>-122.24</td>\n",
              "      <td>352100.0</td>\n",
              "    </tr>\n",
              "    <tr>\n",
              "      <th>3</th>\n",
              "      <td>5.6431</td>\n",
              "      <td>52.0</td>\n",
              "      <td>5.817352</td>\n",
              "      <td>1.073059</td>\n",
              "      <td>558.0</td>\n",
              "      <td>2.547945</td>\n",
              "      <td>37.85</td>\n",
              "      <td>-122.25</td>\n",
              "      <td>341300.0</td>\n",
              "    </tr>\n",
              "    <tr>\n",
              "      <th>4</th>\n",
              "      <td>3.8462</td>\n",
              "      <td>52.0</td>\n",
              "      <td>6.281853</td>\n",
              "      <td>1.081081</td>\n",
              "      <td>565.0</td>\n",
              "      <td>2.181467</td>\n",
              "      <td>37.85</td>\n",
              "      <td>-122.25</td>\n",
              "      <td>342200.0</td>\n",
              "    </tr>\n",
              "    <tr>\n",
              "      <th>...</th>\n",
              "      <td>...</td>\n",
              "      <td>...</td>\n",
              "      <td>...</td>\n",
              "      <td>...</td>\n",
              "      <td>...</td>\n",
              "      <td>...</td>\n",
              "      <td>...</td>\n",
              "      <td>...</td>\n",
              "      <td>...</td>\n",
              "    </tr>\n",
              "    <tr>\n",
              "      <th>20635</th>\n",
              "      <td>1.5603</td>\n",
              "      <td>25.0</td>\n",
              "      <td>5.045455</td>\n",
              "      <td>1.133333</td>\n",
              "      <td>845.0</td>\n",
              "      <td>2.560606</td>\n",
              "      <td>39.48</td>\n",
              "      <td>-121.09</td>\n",
              "      <td>78100.0</td>\n",
              "    </tr>\n",
              "    <tr>\n",
              "      <th>20636</th>\n",
              "      <td>2.5568</td>\n",
              "      <td>18.0</td>\n",
              "      <td>6.114035</td>\n",
              "      <td>1.315789</td>\n",
              "      <td>356.0</td>\n",
              "      <td>3.122807</td>\n",
              "      <td>39.49</td>\n",
              "      <td>-121.21</td>\n",
              "      <td>77100.0</td>\n",
              "    </tr>\n",
              "    <tr>\n",
              "      <th>20637</th>\n",
              "      <td>1.7000</td>\n",
              "      <td>17.0</td>\n",
              "      <td>5.205543</td>\n",
              "      <td>1.120092</td>\n",
              "      <td>1007.0</td>\n",
              "      <td>2.325635</td>\n",
              "      <td>39.43</td>\n",
              "      <td>-121.22</td>\n",
              "      <td>92300.0</td>\n",
              "    </tr>\n",
              "    <tr>\n",
              "      <th>20638</th>\n",
              "      <td>1.8672</td>\n",
              "      <td>18.0</td>\n",
              "      <td>5.329513</td>\n",
              "      <td>1.171920</td>\n",
              "      <td>741.0</td>\n",
              "      <td>2.123209</td>\n",
              "      <td>39.43</td>\n",
              "      <td>-121.32</td>\n",
              "      <td>84700.0</td>\n",
              "    </tr>\n",
              "    <tr>\n",
              "      <th>20639</th>\n",
              "      <td>2.3886</td>\n",
              "      <td>16.0</td>\n",
              "      <td>5.254717</td>\n",
              "      <td>1.162264</td>\n",
              "      <td>1387.0</td>\n",
              "      <td>2.616981</td>\n",
              "      <td>39.37</td>\n",
              "      <td>-121.24</td>\n",
              "      <td>89400.0</td>\n",
              "    </tr>\n",
              "  </tbody>\n",
              "</table>\n",
              "<p>20640 rows × 9 columns</p>\n",
              "</div>\n",
              "      <button class=\"colab-df-convert\" onclick=\"convertToInteractive('df-032fcf94-712f-44e2-9098-2fe2555b41d5')\"\n",
              "              title=\"Convert this dataframe to an interactive table.\"\n",
              "              style=\"display:none;\">\n",
              "        \n",
              "  <svg xmlns=\"http://www.w3.org/2000/svg\" height=\"24px\"viewBox=\"0 0 24 24\"\n",
              "       width=\"24px\">\n",
              "    <path d=\"M0 0h24v24H0V0z\" fill=\"none\"/>\n",
              "    <path d=\"M18.56 5.44l.94 2.06.94-2.06 2.06-.94-2.06-.94-.94-2.06-.94 2.06-2.06.94zm-11 1L8.5 8.5l.94-2.06 2.06-.94-2.06-.94L8.5 2.5l-.94 2.06-2.06.94zm10 10l.94 2.06.94-2.06 2.06-.94-2.06-.94-.94-2.06-.94 2.06-2.06.94z\"/><path d=\"M17.41 7.96l-1.37-1.37c-.4-.4-.92-.59-1.43-.59-.52 0-1.04.2-1.43.59L10.3 9.45l-7.72 7.72c-.78.78-.78 2.05 0 2.83L4 21.41c.39.39.9.59 1.41.59.51 0 1.02-.2 1.41-.59l7.78-7.78 2.81-2.81c.8-.78.8-2.07 0-2.86zM5.41 20L4 18.59l7.72-7.72 1.47 1.35L5.41 20z\"/>\n",
              "  </svg>\n",
              "      </button>\n",
              "      \n",
              "  <style>\n",
              "    .colab-df-container {\n",
              "      display:flex;\n",
              "      flex-wrap:wrap;\n",
              "      gap: 12px;\n",
              "    }\n",
              "\n",
              "    .colab-df-convert {\n",
              "      background-color: #E8F0FE;\n",
              "      border: none;\n",
              "      border-radius: 50%;\n",
              "      cursor: pointer;\n",
              "      display: none;\n",
              "      fill: #1967D2;\n",
              "      height: 32px;\n",
              "      padding: 0 0 0 0;\n",
              "      width: 32px;\n",
              "    }\n",
              "\n",
              "    .colab-df-convert:hover {\n",
              "      background-color: #E2EBFA;\n",
              "      box-shadow: 0px 1px 2px rgba(60, 64, 67, 0.3), 0px 1px 3px 1px rgba(60, 64, 67, 0.15);\n",
              "      fill: #174EA6;\n",
              "    }\n",
              "\n",
              "    [theme=dark] .colab-df-convert {\n",
              "      background-color: #3B4455;\n",
              "      fill: #D2E3FC;\n",
              "    }\n",
              "\n",
              "    [theme=dark] .colab-df-convert:hover {\n",
              "      background-color: #434B5C;\n",
              "      box-shadow: 0px 1px 3px 1px rgba(0, 0, 0, 0.15);\n",
              "      filter: drop-shadow(0px 1px 2px rgba(0, 0, 0, 0.3));\n",
              "      fill: #FFFFFF;\n",
              "    }\n",
              "  </style>\n",
              "\n",
              "      <script>\n",
              "        const buttonEl =\n",
              "          document.querySelector('#df-032fcf94-712f-44e2-9098-2fe2555b41d5 button.colab-df-convert');\n",
              "        buttonEl.style.display =\n",
              "          google.colab.kernel.accessAllowed ? 'block' : 'none';\n",
              "\n",
              "        async function convertToInteractive(key) {\n",
              "          const element = document.querySelector('#df-032fcf94-712f-44e2-9098-2fe2555b41d5');\n",
              "          const dataTable =\n",
              "            await google.colab.kernel.invokeFunction('convertToInteractive',\n",
              "                                                     [key], {});\n",
              "          if (!dataTable) return;\n",
              "\n",
              "          const docLinkHtml = 'Like what you see? Visit the ' +\n",
              "            '<a target=\"_blank\" href=https://colab.research.google.com/notebooks/data_table.ipynb>data table notebook</a>'\n",
              "            + ' to learn more about interactive tables.';\n",
              "          element.innerHTML = '';\n",
              "          dataTable['output_type'] = 'display_data';\n",
              "          await google.colab.output.renderOutput(dataTable, element);\n",
              "          const docLink = document.createElement('div');\n",
              "          docLink.innerHTML = docLinkHtml;\n",
              "          element.appendChild(docLink);\n",
              "        }\n",
              "      </script>\n",
              "    </div>\n",
              "  </div>\n",
              "  "
            ]
          },
          "metadata": {},
          "execution_count": 80
        }
      ]
    },
    {
      "cell_type": "code",
      "source": [
        "from sklearn.model_selection import train_test_split\n",
        "\n",
        "X = cal_house_df.drop('Price($)', axis=1)\n",
        "Y = cal_house_df['Price($)']\n",
        "\n",
        "X_train, X_test, Y_train, Y_test = train_test_split(X, Y, test_size=0.01, shuffle=True)"
      ],
      "metadata": {
        "id": "jZBzAUY7auNI"
      },
      "execution_count": 81,
      "outputs": []
    },
    {
      "cell_type": "code",
      "source": [
        "X_train"
      ],
      "metadata": {
        "colab": {
          "base_uri": "https://localhost:8080/",
          "height": 483
        },
        "id": "A6Bddm3Abjk6",
        "outputId": "285ac319-71bd-4616-cf39-c77ce9998792"
      },
      "execution_count": 82,
      "outputs": [
        {
          "output_type": "execute_result",
          "data": {
            "text/plain": [
              "       MedInc  HouseAge  AveRooms  AveBedrms  Population  AveOccup  Latitude  \\\n",
              "185    2.1917      43.0  4.844029   1.091795      4367.0  3.547522     37.79   \n",
              "16836  4.0795      33.0  5.313636   1.013636      1697.0  2.571212     37.60   \n",
              "3123   3.4015      21.0  4.803867   1.174033       945.0  2.610497     35.05   \n",
              "18306  7.3130      35.0  7.061483   1.021700      1562.0  2.824593     37.43   \n",
              "2415   2.8250      32.0  4.784232   0.979253       761.0  3.157676     36.59   \n",
              "...       ...       ...       ...        ...         ...       ...       ...   \n",
              "18034  6.0738      26.0  6.014019   0.967290      1096.0  2.560748     37.24   \n",
              "12882  4.0352      34.0  5.273684   0.926316       731.0  2.564912     38.67   \n",
              "20391  5.5402      20.0  6.561760   1.125212      1651.0  2.793570     34.22   \n",
              "7110   5.5601      36.0  5.673709   0.988263      1276.0  2.995305     33.90   \n",
              "4817   2.4359      48.0  2.778234   1.002053      1945.0  3.993840     34.04   \n",
              "\n",
              "       Longitude  \n",
              "185      -122.23  \n",
              "16836    -122.49  \n",
              "3123     -118.00  \n",
              "18306    -122.11  \n",
              "2415     -119.44  \n",
              "...          ...  \n",
              "18034    -121.93  \n",
              "12882    -121.34  \n",
              "20391    -118.89  \n",
              "7110     -118.02  \n",
              "4817     -118.29  \n",
              "\n",
              "[20433 rows x 8 columns]"
            ],
            "text/html": [
              "\n",
              "  <div id=\"df-a759fa35-3fe4-4069-953f-9a29d66812a3\">\n",
              "    <div class=\"colab-df-container\">\n",
              "      <div>\n",
              "<style scoped>\n",
              "    .dataframe tbody tr th:only-of-type {\n",
              "        vertical-align: middle;\n",
              "    }\n",
              "\n",
              "    .dataframe tbody tr th {\n",
              "        vertical-align: top;\n",
              "    }\n",
              "\n",
              "    .dataframe thead th {\n",
              "        text-align: right;\n",
              "    }\n",
              "</style>\n",
              "<table border=\"1\" class=\"dataframe\">\n",
              "  <thead>\n",
              "    <tr style=\"text-align: right;\">\n",
              "      <th></th>\n",
              "      <th>MedInc</th>\n",
              "      <th>HouseAge</th>\n",
              "      <th>AveRooms</th>\n",
              "      <th>AveBedrms</th>\n",
              "      <th>Population</th>\n",
              "      <th>AveOccup</th>\n",
              "      <th>Latitude</th>\n",
              "      <th>Longitude</th>\n",
              "    </tr>\n",
              "  </thead>\n",
              "  <tbody>\n",
              "    <tr>\n",
              "      <th>185</th>\n",
              "      <td>2.1917</td>\n",
              "      <td>43.0</td>\n",
              "      <td>4.844029</td>\n",
              "      <td>1.091795</td>\n",
              "      <td>4367.0</td>\n",
              "      <td>3.547522</td>\n",
              "      <td>37.79</td>\n",
              "      <td>-122.23</td>\n",
              "    </tr>\n",
              "    <tr>\n",
              "      <th>16836</th>\n",
              "      <td>4.0795</td>\n",
              "      <td>33.0</td>\n",
              "      <td>5.313636</td>\n",
              "      <td>1.013636</td>\n",
              "      <td>1697.0</td>\n",
              "      <td>2.571212</td>\n",
              "      <td>37.60</td>\n",
              "      <td>-122.49</td>\n",
              "    </tr>\n",
              "    <tr>\n",
              "      <th>3123</th>\n",
              "      <td>3.4015</td>\n",
              "      <td>21.0</td>\n",
              "      <td>4.803867</td>\n",
              "      <td>1.174033</td>\n",
              "      <td>945.0</td>\n",
              "      <td>2.610497</td>\n",
              "      <td>35.05</td>\n",
              "      <td>-118.00</td>\n",
              "    </tr>\n",
              "    <tr>\n",
              "      <th>18306</th>\n",
              "      <td>7.3130</td>\n",
              "      <td>35.0</td>\n",
              "      <td>7.061483</td>\n",
              "      <td>1.021700</td>\n",
              "      <td>1562.0</td>\n",
              "      <td>2.824593</td>\n",
              "      <td>37.43</td>\n",
              "      <td>-122.11</td>\n",
              "    </tr>\n",
              "    <tr>\n",
              "      <th>2415</th>\n",
              "      <td>2.8250</td>\n",
              "      <td>32.0</td>\n",
              "      <td>4.784232</td>\n",
              "      <td>0.979253</td>\n",
              "      <td>761.0</td>\n",
              "      <td>3.157676</td>\n",
              "      <td>36.59</td>\n",
              "      <td>-119.44</td>\n",
              "    </tr>\n",
              "    <tr>\n",
              "      <th>...</th>\n",
              "      <td>...</td>\n",
              "      <td>...</td>\n",
              "      <td>...</td>\n",
              "      <td>...</td>\n",
              "      <td>...</td>\n",
              "      <td>...</td>\n",
              "      <td>...</td>\n",
              "      <td>...</td>\n",
              "    </tr>\n",
              "    <tr>\n",
              "      <th>18034</th>\n",
              "      <td>6.0738</td>\n",
              "      <td>26.0</td>\n",
              "      <td>6.014019</td>\n",
              "      <td>0.967290</td>\n",
              "      <td>1096.0</td>\n",
              "      <td>2.560748</td>\n",
              "      <td>37.24</td>\n",
              "      <td>-121.93</td>\n",
              "    </tr>\n",
              "    <tr>\n",
              "      <th>12882</th>\n",
              "      <td>4.0352</td>\n",
              "      <td>34.0</td>\n",
              "      <td>5.273684</td>\n",
              "      <td>0.926316</td>\n",
              "      <td>731.0</td>\n",
              "      <td>2.564912</td>\n",
              "      <td>38.67</td>\n",
              "      <td>-121.34</td>\n",
              "    </tr>\n",
              "    <tr>\n",
              "      <th>20391</th>\n",
              "      <td>5.5402</td>\n",
              "      <td>20.0</td>\n",
              "      <td>6.561760</td>\n",
              "      <td>1.125212</td>\n",
              "      <td>1651.0</td>\n",
              "      <td>2.793570</td>\n",
              "      <td>34.22</td>\n",
              "      <td>-118.89</td>\n",
              "    </tr>\n",
              "    <tr>\n",
              "      <th>7110</th>\n",
              "      <td>5.5601</td>\n",
              "      <td>36.0</td>\n",
              "      <td>5.673709</td>\n",
              "      <td>0.988263</td>\n",
              "      <td>1276.0</td>\n",
              "      <td>2.995305</td>\n",
              "      <td>33.90</td>\n",
              "      <td>-118.02</td>\n",
              "    </tr>\n",
              "    <tr>\n",
              "      <th>4817</th>\n",
              "      <td>2.4359</td>\n",
              "      <td>48.0</td>\n",
              "      <td>2.778234</td>\n",
              "      <td>1.002053</td>\n",
              "      <td>1945.0</td>\n",
              "      <td>3.993840</td>\n",
              "      <td>34.04</td>\n",
              "      <td>-118.29</td>\n",
              "    </tr>\n",
              "  </tbody>\n",
              "</table>\n",
              "<p>20433 rows × 8 columns</p>\n",
              "</div>\n",
              "      <button class=\"colab-df-convert\" onclick=\"convertToInteractive('df-a759fa35-3fe4-4069-953f-9a29d66812a3')\"\n",
              "              title=\"Convert this dataframe to an interactive table.\"\n",
              "              style=\"display:none;\">\n",
              "        \n",
              "  <svg xmlns=\"http://www.w3.org/2000/svg\" height=\"24px\"viewBox=\"0 0 24 24\"\n",
              "       width=\"24px\">\n",
              "    <path d=\"M0 0h24v24H0V0z\" fill=\"none\"/>\n",
              "    <path d=\"M18.56 5.44l.94 2.06.94-2.06 2.06-.94-2.06-.94-.94-2.06-.94 2.06-2.06.94zm-11 1L8.5 8.5l.94-2.06 2.06-.94-2.06-.94L8.5 2.5l-.94 2.06-2.06.94zm10 10l.94 2.06.94-2.06 2.06-.94-2.06-.94-.94-2.06-.94 2.06-2.06.94z\"/><path d=\"M17.41 7.96l-1.37-1.37c-.4-.4-.92-.59-1.43-.59-.52 0-1.04.2-1.43.59L10.3 9.45l-7.72 7.72c-.78.78-.78 2.05 0 2.83L4 21.41c.39.39.9.59 1.41.59.51 0 1.02-.2 1.41-.59l7.78-7.78 2.81-2.81c.8-.78.8-2.07 0-2.86zM5.41 20L4 18.59l7.72-7.72 1.47 1.35L5.41 20z\"/>\n",
              "  </svg>\n",
              "      </button>\n",
              "      \n",
              "  <style>\n",
              "    .colab-df-container {\n",
              "      display:flex;\n",
              "      flex-wrap:wrap;\n",
              "      gap: 12px;\n",
              "    }\n",
              "\n",
              "    .colab-df-convert {\n",
              "      background-color: #E8F0FE;\n",
              "      border: none;\n",
              "      border-radius: 50%;\n",
              "      cursor: pointer;\n",
              "      display: none;\n",
              "      fill: #1967D2;\n",
              "      height: 32px;\n",
              "      padding: 0 0 0 0;\n",
              "      width: 32px;\n",
              "    }\n",
              "\n",
              "    .colab-df-convert:hover {\n",
              "      background-color: #E2EBFA;\n",
              "      box-shadow: 0px 1px 2px rgba(60, 64, 67, 0.3), 0px 1px 3px 1px rgba(60, 64, 67, 0.15);\n",
              "      fill: #174EA6;\n",
              "    }\n",
              "\n",
              "    [theme=dark] .colab-df-convert {\n",
              "      background-color: #3B4455;\n",
              "      fill: #D2E3FC;\n",
              "    }\n",
              "\n",
              "    [theme=dark] .colab-df-convert:hover {\n",
              "      background-color: #434B5C;\n",
              "      box-shadow: 0px 1px 3px 1px rgba(0, 0, 0, 0.15);\n",
              "      filter: drop-shadow(0px 1px 2px rgba(0, 0, 0, 0.3));\n",
              "      fill: #FFFFFF;\n",
              "    }\n",
              "  </style>\n",
              "\n",
              "      <script>\n",
              "        const buttonEl =\n",
              "          document.querySelector('#df-a759fa35-3fe4-4069-953f-9a29d66812a3 button.colab-df-convert');\n",
              "        buttonEl.style.display =\n",
              "          google.colab.kernel.accessAllowed ? 'block' : 'none';\n",
              "\n",
              "        async function convertToInteractive(key) {\n",
              "          const element = document.querySelector('#df-a759fa35-3fe4-4069-953f-9a29d66812a3');\n",
              "          const dataTable =\n",
              "            await google.colab.kernel.invokeFunction('convertToInteractive',\n",
              "                                                     [key], {});\n",
              "          if (!dataTable) return;\n",
              "\n",
              "          const docLinkHtml = 'Like what you see? Visit the ' +\n",
              "            '<a target=\"_blank\" href=https://colab.research.google.com/notebooks/data_table.ipynb>data table notebook</a>'\n",
              "            + ' to learn more about interactive tables.';\n",
              "          element.innerHTML = '';\n",
              "          dataTable['output_type'] = 'display_data';\n",
              "          await google.colab.output.renderOutput(dataTable, element);\n",
              "          const docLink = document.createElement('div');\n",
              "          docLink.innerHTML = docLinkHtml;\n",
              "          element.appendChild(docLink);\n",
              "        }\n",
              "      </script>\n",
              "    </div>\n",
              "  </div>\n",
              "  "
            ]
          },
          "metadata": {},
          "execution_count": 82
        }
      ]
    },
    {
      "cell_type": "code",
      "source": [
        "Y_train"
      ],
      "metadata": {
        "colab": {
          "base_uri": "https://localhost:8080/"
        },
        "id": "BL3IHJ17b0xz",
        "outputId": "cbda8c54-9a3a-44ad-879c-6ca267a27d77"
      },
      "execution_count": 83,
      "outputs": [
        {
          "output_type": "execute_result",
          "data": {
            "text/plain": [
              "185      112800.0\n",
              "16836    270600.0\n",
              "3123      86500.0\n",
              "18306    463700.0\n",
              "2415      67600.0\n",
              "           ...   \n",
              "18034    335900.0\n",
              "12882    118500.0\n",
              "20391    264600.0\n",
              "7110     205200.0\n",
              "4817     123700.0\n",
              "Name: Price($), Length: 20433, dtype: float64"
            ]
          },
          "metadata": {},
          "execution_count": 83
        }
      ]
    },
    {
      "cell_type": "code",
      "source": [
        "# 다중선형 회귀 모델 정의/학습\n",
        "mlr_model = LinearRegression()\n",
        "mlr_model.fit(X_train, Y_train)"
      ],
      "metadata": {
        "colab": {
          "base_uri": "https://localhost:8080/"
        },
        "id": "66iG5pCgb5Cz",
        "outputId": "6f9947f6-66d3-42e3-b50d-bc6d1840bb43"
      },
      "execution_count": 84,
      "outputs": [
        {
          "output_type": "execute_result",
          "data": {
            "text/plain": [
              "LinearRegression()"
            ]
          },
          "metadata": {},
          "execution_count": 84
        }
      ]
    },
    {
      "cell_type": "code",
      "source": [
        "predictions = mlr_model.predict(X_test)\n",
        "predictions"
      ],
      "metadata": {
        "colab": {
          "base_uri": "https://localhost:8080/"
        },
        "id": "9G18fbsYcD7m",
        "outputId": "bd1f99d0-2775-40a8-9254-f75819e77a00"
      },
      "execution_count": 85,
      "outputs": [
        {
          "output_type": "execute_result",
          "data": {
            "text/plain": [
              "array([231393.59100089,  51293.85062738, 177984.38099037, 216658.20370654,\n",
              "       159115.12508455,  74977.02089679,  82842.38459529, 307717.37542329,\n",
              "        57004.06788085, 151782.8447707 , 185490.94045082, 330364.87049596,\n",
              "       290302.49401905, 175900.42892755, 178054.39588844, 209327.22787589,\n",
              "       212834.92548719, 201117.48924719, 130237.74104202, 255945.20007012,\n",
              "       157042.74154162, 152517.27942241, 209486.51111092, 173724.47499631,\n",
              "       160111.47703476, 175441.69391371, 272309.48530171,  83956.48285972,\n",
              "       252414.35569208, 200671.61432804, 237702.58405317, 115015.00575683,\n",
              "       165732.61599422, 209456.84473915, 181297.99026999,  75625.57243363,\n",
              "       268838.31536945, 308914.75567257, 147372.35972502, 299122.40655521,\n",
              "       137336.00109172, 273343.35307402, 293789.61026097, 175364.79617223,\n",
              "       248251.945838  , 244234.70786005,  71308.05844302, 140967.13119537,\n",
              "       163163.50342156, 138073.21355967, 280279.36423419, 239155.88104434,\n",
              "       177019.19400255, 462206.8319017 , 124645.41708409, 229112.88740993,\n",
              "       199592.09228432, 404744.82924975, 143188.22198144, -87923.02656024,\n",
              "       105227.9098165 , 241895.08791711, 175617.90964293, 265401.44585897,\n",
              "       186870.49284303, 131965.75678211, 210899.99039438, 247736.86775133,\n",
              "       180345.49131408, 161859.87276573, 167250.01848419, 216152.65246819,\n",
              "       342377.2032592 , 154858.28051398, 205542.72879984, 139785.2530471 ,\n",
              "       228723.00989967, 159584.78794631,  88460.0918967 , 212074.64384294,\n",
              "       316115.26586988, 202953.95074331,  46422.05298115, 195921.72195803,\n",
              "       282165.56951771, 250639.35160365, 173029.06576576, 125458.88140989,\n",
              "       315171.21859857, 653169.99459423, 210907.27590951, 239120.07450257,\n",
              "        90081.39217875, 186114.57305871, 158258.41472094, 303756.67268052,\n",
              "       121896.40483872, 307686.15401153, 387905.44772488, 179150.41664167,\n",
              "       245995.67186562, 286224.92743558, 229503.93574256, 285814.12831256,\n",
              "       119618.30358764, 216995.591034  , 374016.74831612, 211901.60087538,\n",
              "       155258.13015757, 273623.34078225, 258598.75218385, 311410.99162026,\n",
              "       133067.94113314, 219429.99800069, 133130.44784957, 279226.05669653,\n",
              "       246650.66733229, 204891.98209345, 388952.08190629, 102341.59357587,\n",
              "       258232.94443931, 111229.31009386, 238732.37631418, 320133.4697    ,\n",
              "       252957.42342699, 136793.83190796, 209876.37067107, 166911.66364169,\n",
              "       138090.25678767, 368013.57182115, 270545.56763674, 201096.75981717,\n",
              "       193098.01196444,  92107.92335944, 137248.58688752, 234153.15872188,\n",
              "       177302.63495514, 161044.32387426, 202660.54653017,  75695.5631983 ,\n",
              "       167905.59652336, 145834.88389568, 243416.15471801,  88545.15924031,\n",
              "       190164.08278547,  72006.30472073, 272052.07304934, 151355.69056895,\n",
              "       339694.32388429, 325623.19370692, 148840.1748418 , 194799.85496072,\n",
              "       602272.94752107, 153768.05939871, 217456.63620505, 124747.55567349,\n",
              "       251824.17700505, 102780.37774572, 254635.10424039, 253724.8830934 ,\n",
              "       180031.19303574, 279036.68411338, 125094.12552375, 205966.64814598,\n",
              "       168193.22201783, 277067.577834  , 247557.66355647, 125083.77319018,\n",
              "       167625.05990921, -12013.61260863, 187675.8990733 , 216016.83985479,\n",
              "        77718.69592611, 182807.73937508, 300978.00772115, 123015.28384753,\n",
              "       284086.78344242, 114107.85822818, 193285.5208693 , 166457.98848218,\n",
              "       276504.77575781, 175031.08404192, 258172.04493381, 315516.04326935,\n",
              "       205783.18594637, 229667.73417983, 138275.13202879, 261676.99369945,\n",
              "       294373.87584743, 118359.88213343, 393906.24444194, 280932.09343574,\n",
              "       170407.95761986, 242548.90566929, 231658.67719382, 387129.88981735,\n",
              "       209562.09036479, 336667.40033364, 265828.60221439, 232870.32762896,\n",
              "       167117.24938595, 340677.71370263, 294016.09146077, 182915.71606108,\n",
              "       197070.11510476, 391443.99125186, 190375.06653158])"
            ]
          },
          "metadata": {},
          "execution_count": 85
        }
      ]
    },
    {
      "cell_type": "code",
      "source": [
        "# 예측 시각화\n",
        "Y_test = Y_test.reset_index(drop=True)\n",
        "\n",
        "plt.figure(figsize=(15,5))\n",
        "plt.plot(Y_test, label='Actual', color='red')\n",
        "plt.plot(predictions, label='Prediction', color='black')\n",
        "plt.legend(loc='upper right')\n",
        "plt.ylabel('Price($)')\n",
        "plt.show()"
      ],
      "metadata": {
        "colab": {
          "base_uri": "https://localhost:8080/",
          "height": 225
        },
        "id": "nZGg1NZVcIRA",
        "outputId": "5113b4d3-f2df-4dd3-a0b7-70e3e977a085"
      },
      "execution_count": 86,
      "outputs": [
        {
          "output_type": "display_data",
          "data": {
            "text/plain": [
              "<Figure size 1080x360 with 1 Axes>"
            ],
            "image/png": "[encoded data removed]"
          },
          "metadata": {
            "needs_background": "light"
          }
        }
      ]
    },
    {
      "cell_type": "markdown",
      "source": [
        "> ## 회귀 성능 평가하기\n",
        "- **회귀 모델이 얼마나 잘 학습되있는지 평가하는 방법**\n",
        "- scikit-learn에서는 다양한 회귀 성능 평가 좌표를 제공한다."
      ],
      "metadata": {
        "id": "5svYNf42KbdO"
      }
    },
    {
      "cell_type": "markdown",
      "source": [
        "> ### MAE(Mean Absolute Error)\n",
        "> $$ MAE = \\frac{\\sum\\vert y-\\hat{y} \\vert}{n}$$\n",
        "- MAE는 **실제 값과 예측값의 차이의 전페 평균** 입니다.(낮을 수록 좋은 지표)\n",
        "- 절대 값을 나타내기 때문에 가장 **직관적**으로 오차를 알수 있다.\n"
      ],
      "metadata": {
        "id": "OVgV0eATKn-C"
      }
    },
    {
      "cell_type": "markdown",
      "source": [
        "> <img src=\"data:image/png;base64,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\" height=300 width=400/>"
      ],
      "metadata": {
        "id": "uiv7z8N4K_3j"
      }
    },
    {
      "cell_type": "code",
      "source": [
        "from sklearn.metrics import mean_absolute_error\n",
        "mae = mean_absolute_error(Y_test, predictions)"
      ],
      "metadata": {
        "id": "mriiPzQWchp5"
      },
      "execution_count": 87,
      "outputs": []
    },
    {
      "cell_type": "code",
      "source": [
        "mae"
      ],
      "metadata": {
        "colab": {
          "base_uri": "https://localhost:8080/"
        },
        "id": "mbuYlor4LJ5P",
        "outputId": "a0ac4484-819b-4e48-c31b-61ad382ce6d2"
      },
      "execution_count": 88,
      "outputs": [
        {
          "output_type": "execute_result",
          "data": {
            "text/plain": [
              "50398.560096797235"
            ]
          },
          "metadata": {},
          "execution_count": 88
        }
      ]
    },
    {
      "cell_type": "markdown",
      "source": [
        "> ### MSE(Mean Squared Error)/ RMSE(Root Mean Squared Error)\n",
        "> $$ MSE = \\frac{\\sum(y-\\hat{y})^2}{n}$$\n",
        "> $$ RMSE = \\sqrt\\frac{\\sum(y-\\hat{y})^2}{n}$$\n",
        "\n",
        "- MSE는 실제값과 예측값의 차이를 제곱하기 때문에, 차이의 **면적**을 표현한다.\n",
        "- 즉, 예측값의 차이가 많이 나면 기하급수적으로 오차가 커집니다.\n",
        "- RMSE 는 MSE에 루트(root)를 씌운 지표로, MSE 수치 보다 좀더 직관적으로 확인이 가능하다."
      ],
      "metadata": {
        "id": "W4J8gNIsLMxs"
      }
    },
    {
      "cell_type": "markdown",
      "source": [
        "> <img src=\"data:image/png;base64,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\" height=300 width=400/>"
      ],
      "metadata": {
        "id": "IGLPuMF1LteO"
      }
    },
    {
      "cell_type": "code",
      "source": [
        "from sklearn.metrics import mean_squared_error\n",
        "mse = mean_squared_error(Y_test, predictions)"
      ],
      "metadata": {
        "id": "fAleCO4WLK_b"
      },
      "execution_count": 89,
      "outputs": []
    },
    {
      "cell_type": "code",
      "source": [
        "mse"
      ],
      "metadata": {
        "colab": {
          "base_uri": "https://localhost:8080/"
        },
        "id": "UHC9eEh-L3sb",
        "outputId": "10bec737-321c-4322-ebd6-eb9a591b2e44"
      },
      "execution_count": 90,
      "outputs": [
        {
          "output_type": "execute_result",
          "data": {
            "text/plain": [
              "4608962040.172564"
            ]
          },
          "metadata": {},
          "execution_count": 90
        }
      ]
    },
    {
      "cell_type": "code",
      "source": [
        "rmse = mse ** 0.5 \n",
        "# 0.5 제곱 = 루트\n",
        "rmse"
      ],
      "metadata": {
        "colab": {
          "base_uri": "https://localhost:8080/"
        },
        "id": "HaukiuWKL4sr",
        "outputId": "0fc8fcc3-5bb1-4fcf-dcc9-2ac54a2a8e1a"
      },
      "execution_count": 92,
      "outputs": [
        {
          "output_type": "execute_result",
          "data": {
            "text/plain": [
              "67889.3367191974"
            ]
          },
          "metadata": {},
          "execution_count": 92
        }
      ]
    },
    {
      "cell_type": "markdown",
      "source": [
        "> ### **R-squared(R<sup>2</sup>)**\n",
        "> $$ R^2 = \\frac{SSE}{SST}$$\n",
        "> $$ SSE = \\sum(\\hat{y}-\\bar{y})^2$$\n",
        "> $$ SST = \\sum(y-\\bar{y})^2$$\n",
        "\n",
        "- R-squared는 **회귀선이 실제 값에 얼마나 잘 적합되있는가?** 를 나타내는 지표입니다.\n",
        "- 실제 값과 실제 값 평균까지 거리를 계산한 뒤, 예측 값과 비교하는 과정\n",
        "- 0-1 사이의 값을 나타내며, **높을 수록 적합이 잘 되었다** 는 의미이다.\n",
        "- 즉, 회귀 선이 실제 값을 얼마나 잘 설명하는 선인가? 의미이다."
      ],
      "metadata": {
        "id": "XTssXQyHMB7F"
      }
    },
    {
      "cell_type": "code",
      "source": [
        "from sklearn.metrics import r2_score\n",
        "r2 = r2_score(Y_test, predictions)"
      ],
      "metadata": {
        "id": "0GM87Gf6L75g"
      },
      "execution_count": 93,
      "outputs": []
    },
    {
      "cell_type": "code",
      "source": [
        "r2"
      ],
      "metadata": {
        "colab": {
          "base_uri": "https://localhost:8080/"
        },
        "id": "egJQkY0oMz4f",
        "outputId": "d4e8faeb-0e2e-4d15-9fbb-2e4f61b80011"
      },
      "execution_count": 94,
      "outputs": [
        {
          "output_type": "execute_result",
          "data": {
            "text/plain": [
              "0.6646817793004893"
            ]
          },
          "metadata": {},
          "execution_count": 94
        }
      ]
    },
    {
      "cell_type": "markdown",
      "source": [
        "> ### Adjusted R-squared(R<sub>adj</sub><sup>2</sup>) V-difficult\n",
        "> $$ R~adj^2 = 1-(1-R^2)\\frac{n-1}{n-p-1}$$\n",
        "- 일반적으로 **회귀 모형의 적합도(R<sup>2</sup>)는 학습 변수가 많아질수록 높아지는 경향**이 있다.\n",
        "- 너무 적합도과 높다면 **과적합**이 될수 있다.\n",
        "- **과적합(Overfitting)** 또는 **과소 적합(Underfitting)**은 머신 러닝에서 자주 등장하는 개념이다. 학습 모델이 적당한 적합도를 갖게 만드는 것이 매우매우 중요!!!!\n",
        "- 수정된 적합도(Adjusted R-squared)는 이런 **과적합 현상을 판단하기 위한 지표**입니다.\n",
        "- 학습에 사용된 변수 만큼 Penalty를 부과해서, 적합도를 수정해줍시다.\n",
        "- 만약 **적합도(R<sup>2</sup>가 높은데, 수정 된 적합도(R<sub>adj</sub><sup2></sup>)가 현저하게 낮다면, 학습 모델이 과적합** 되었다고 판단한다."
      ],
      "metadata": {
        "id": "C9NAths4M3Zp"
      }
    },
    {
      "cell_type": "markdown",
      "source": [
        "> ![overfitting_underfitting.png](data:image/png;base64,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)"
      ],
      "metadata": {
        "id": "kMvHRVUJOb__"
      }
    },
    {
      "cell_type": "code",
      "source": [
        "# adjusted R-squared\n",
        "adj_r2 = 1 - (1 - r2) * (len(Y_test) - 1) / ( len(Y_test) - X_test.shape[1] - 1 )"
      ],
      "metadata": {
        "id": "mOWgSBb_M0l-"
      },
      "execution_count": 95,
      "outputs": []
    },
    {
      "cell_type": "code",
      "source": [
        "adj_r2"
      ],
      "metadata": {
        "colab": {
          "base_uri": "https://localhost:8080/"
        },
        "id": "jlKQkedIO0-3",
        "outputId": "9be12ee4-a3a2-4ea9-da3e-fb3368f48e75"
      },
      "execution_count": 96,
      "outputs": [
        {
          "output_type": "execute_result",
          "data": {
            "text/plain": [
              "0.6511335683631354"
            ]
          },
          "metadata": {},
          "execution_count": 96
        }
      ]
    },
    {
      "cell_type": "markdown",
      "source": [
        "> **전체 회귀 모델 성능 지표** 이탤릭체 텍스트"
      ],
      "metadata": {
        "id": "V3dWKOyMO6zz"
      }
    },
    {
      "cell_type": "code",
      "source": [
        "print('MAE: {}'.format(round(mae,2)))\n",
        "print('MSE : {}'.format(round(mse,2)))\n",
        "print('RMSE : {}'.format(round(rmse),2))\n",
        "print('R2 : {}'.format(round(r2, 2)))\n",
        "print('adj_R2 : {}'.format(round(adj_r2, 2)))"
      ],
      "metadata": {
        "colab": {
          "base_uri": "https://localhost:8080/"
        },
        "id": "fXD57wIBO2QQ",
        "outputId": "20310394-3092-4216-9588-7f9f39711f3f"
      },
      "execution_count": 97,
      "outputs": [
        {
          "output_type": "stream",
          "name": "stdout",
          "text": [
            "MAE: 50398.56\n",
            "MSE : 4608962040.17\n",
            "RMSE : 67889\n",
            "R2 : 0.66\n",
            "adj_R2 : 0.65\n"
          ]
        }
      ]
    },
    {
      "cell_type": "code",
      "source": [],
      "metadata": {
        "id": "AuDMhZs2PjKe"
      },
      "execution_count": null,
      "outputs": []
    }
  ]
}