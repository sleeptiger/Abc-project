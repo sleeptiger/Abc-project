{
  "nbformat": 4,
  "nbformat_minor": 0,
  "metadata": {
    "colab": {
      "name": "If else.ipynb",
      "provenance": [],
      "authorship_tag": "ABX9TyOFH2ugKOE3EuGT2gAaz3+I",
      "include_colab_link": true
    },
    "kernelspec": {
      "name": "python3",
      "display_name": "Python 3"
    },
    "language_info": {
      "name": "python"
    }
  },
  "cells": [
    {
      "cell_type": "markdown",
      "metadata": {
        "id": "view-in-github",
        "colab_type": "text"
      },
      "source": [
        "<a href=\"https://colab.research.google.com/github/sleeptiger/Abc-project/blob/main/If_else.ipynb\" target=\"_parent\"><img src=\"https://colab.research.google.com/assets/colab-badge.svg\" alt=\"Open In Colab\"/></a>"
      ]
    },
    {
      "cell_type": "markdown",
      "source": [
        "# 조건문 \n",
        "1. programmin에에서 참과 거짓을 판단. \n",
        "2. 비교 연산자로 참/ 거짓 판단후 조건문 안에 동작문"
      ],
      "metadata": {
        "id": "VPVIczaJp-c-"
      }
    },
    {
      "cell_type": "markdown",
      "source": [
        "## 비교연산자 value을 비교하여 참/거짓 판벌\n",
        "ex) >, <, <=, >=, !=, ==\n"
      ],
      "metadata": {
        "id": "qAVXsf4zqRwd"
      }
    },
    {
      "cell_type": "markdown",
      "source": [
        "## 논리 연산자: 논리로 참/거짓 판별\n",
        "ex) and, or, not"
      ],
      "metadata": {
        "id": "YPJQjP4Fqcgw"
      }
    },
    {
      "cell_type": "markdown",
      "source": [
        "## 그 밖 연산자\n",
        "1. in/ not in"
      ],
      "metadata": {
        "id": "o7Lz6oMeqfty"
      }
    },
    {
      "cell_type": "code",
      "execution_count": 1,
      "metadata": {
        "id": "5Tagt76Wp2YX"
      },
      "outputs": [],
      "source": [
        "a=[1,2,3]"
      ]
    },
    {
      "cell_type": "code",
      "source": [
        "1 in a"
      ],
      "metadata": {
        "colab": {
          "base_uri": "https://localhost:8080/"
        },
        "id": "TVFjCyuyqmpp",
        "outputId": "e1e366f2-0c77-4712-e4df-72a8543f3ab7"
      },
      "execution_count": 2,
      "outputs": [
        {
          "output_type": "execute_result",
          "data": {
            "text/plain": [
              "True"
            ]
          },
          "metadata": {},
          "execution_count": 2
        }
      ]
    },
    {
      "cell_type": "code",
      "source": [
        "6 not in a"
      ],
      "metadata": {
        "colab": {
          "base_uri": "https://localhost:8080/"
        },
        "id": "ftn7cfWGucCo",
        "outputId": "faa43cf7-661a-4729-e9eb-8809118574aa"
      },
      "execution_count": 16,
      "outputs": [
        {
          "output_type": "execute_result",
          "data": {
            "text/plain": [
              "True"
            ]
          },
          "metadata": {},
          "execution_count": 16
        }
      ]
    },
    {
      "cell_type": "markdown",
      "source": [
        "## if, else = 조건이 하나 있을때"
      ],
      "metadata": {
        "id": "ZY-1DZMiqsL0"
      }
    },
    {
      "cell_type": "code",
      "source": [
        "conditong_sleep = False\n",
        "\n",
        "if conditong_sleep == True:\n",
        "    print('커피를 마십니다.')\n",
        "else:\n",
        "    print('공부를 합니다.')"
      ],
      "metadata": {
        "colab": {
          "base_uri": "https://localhost:8080/"
        },
        "id": "dHvZ8kqfufT_",
        "outputId": "e2d28392-eadf-41cb-a898-a17f59abd8ff"
      },
      "execution_count": 18,
      "outputs": [
        {
          "output_type": "stream",
          "name": "stdout",
          "text": [
            "공부를 합니다.\n"
          ]
        }
      ]
    },
    {
      "cell_type": "markdown",
      "source": [
        "## if, else, elif = 조건이 둘이상있을때"
      ],
      "metadata": {
        "id": "pbKgXgR9q6fm"
      }
    },
    {
      "cell_type": "code",
      "source": [
        "status =['happy', 'angry', 'sad', 'sleep']\n",
        "\n",
        "if 'mad' in status:\n",
        "    print('진정제를 먹습니다.')\n",
        "elif 'angry' in status:\n",
        "    print('따뜻한 차를 마십니다.')\n",
        "elif 'sad' in status:\n",
        "    print('그냥 운다')"
      ],
      "metadata": {
        "colab": {
          "base_uri": "https://localhost:8080/"
        },
        "id": "RDgTejKlvCM5",
        "outputId": "5d7eceb8-fc43-47a8-fbe3-13641c3934af"
      },
      "execution_count": 20,
      "outputs": [
        {
          "output_type": "stream",
          "name": "stdout",
          "text": [
            "따뜻한 차를 마십니다.\n"
          ]
        }
      ]
    },
    {
      "cell_type": "markdown",
      "source": [
        "#반복문 : while/ for \n",
        "1. for 구문은 특정 구역이 잡혀있을때 ex) for i in range(특정 구간)\n",
        "2. while : 일정한 조건"
      ],
      "metadata": {
        "id": "tvryooWDq-ye"
      }
    },
    {
      "cell_type": "code",
      "source": [
        "sleep = True\n",
        "drink_coffee = 0\n",
        "wake_coffee =4\n",
        "\n",
        "while sleep == True:\n",
        "    drink_coffee = drink_coffee+1\n",
        "    print('커피를 {}잔 마셨습니다.'.format(drink_coffee))\n",
        "    \n",
        "    if drink_coffee == wake_coffee:\n",
        "        sleep= False\n",
        "        print(\"이제 잠이 안옵니다.\")"
      ],
      "metadata": {
        "colab": {
          "base_uri": "https://localhost:8080/"
        },
        "id": "_e_hGFVFqqfk",
        "outputId": "64b130f6-ef26-4ca0-9f63-0ff124237694"
      },
      "execution_count": 4,
      "outputs": [
        {
          "output_type": "stream",
          "name": "stdout",
          "text": [
            "커피를 1잔 마셨습니다.\n",
            "커피를 2잔 마셨습니다.\n",
            "커피를 3잔 마셨습니다.\n",
            "커피를 4잔 마셨습니다.\n",
            "이제 잠이 안옵니다.\n"
          ]
        }
      ]
    },
    {
      "cell_type": "code",
      "source": [
        "drink = ['커피', '물', '음류수', '사과쥬스']\n",
        "\n",
        "for i in drink: #특정 구간을 잡았을때\n",
        "    print('{}을 마셨습니다.'.format(i))"
      ],
      "metadata": {
        "colab": {
          "base_uri": "https://localhost:8080/"
        },
        "id": "kyGdPCzJr-V5",
        "outputId": "aaf95730-8d91-4c5d-bf6a-e200262ae417"
      },
      "execution_count": 5,
      "outputs": [
        {
          "output_type": "stream",
          "name": "stdout",
          "text": [
            "커피을 마셨습니다.\n",
            "물을 마셨습니다.\n",
            "음류수을 마셨습니다.\n",
            "사과쥬스을 마셨습니다.\n"
          ]
        }
      ]
    },
    {
      "cell_type": "markdown",
      "source": [
        "#함수 def \n",
        "1. input과 output이 확실하다\n"
      ],
      "metadata": {
        "id": "lA19WFHqscFR"
      }
    },
    {
      "cell_type": "code",
      "source": [
        "def drink_beverage(drink):\n",
        "    for item in drink:\n",
        "        print('{} 을(를) 마셨습니다!'.format(item))\n",
        "\n",
        "    return len(drink), drink[-1]"
      ],
      "metadata": {
        "id": "rYoBMKHmsSZ8"
      },
      "execution_count": 6,
      "outputs": []
    },
    {
      "cell_type": "code",
      "source": [
        "drunk, last_drink = drink_beverage(['커피', '음류수', '물'])\n",
        "print('{}잔을 마셨습니다.'.format(drunk))\n",
        "print('마지막으로 마신 것은 {} 입니다.'.format(last_drink))"
      ],
      "metadata": {
        "colab": {
          "base_uri": "https://localhost:8080/"
        },
        "id": "K0Qa0WQNsqul",
        "outputId": "bee2c8d8-2e3f-4292-f253-fb2868a067b7"
      },
      "execution_count": 11,
      "outputs": [
        {
          "output_type": "stream",
          "name": "stdout",
          "text": [
            "커피 을(를) 마셨습니다!\n",
            "음류수 을(를) 마셨습니다!\n",
            "물 을(를) 마셨습니다!\n",
            "3잔을 마셨습니다.\n",
            "마지막으로 마신 것은 물 입니다.\n"
          ]
        }
      ]
    },
    {
      "cell_type": "markdown",
      "source": [
        "### 리턴 값이 두개 이면 받아줄 인수도 두개이어야 한다.\n"
      ],
      "metadata": {
        "id": "9Jwc_cH0tdwk"
      }
    },
    {
      "cell_type": "code",
      "source": [
        "def drink_beverage(drink):\n",
        "    for item in drink:\n",
        "        print('{}을(를) 마셨습니다.'.format(item))\n",
        "\n",
        "    #retur(drink) - 리턴 값은 반드시 출력되게 된다. (받아줄 인자가 없으면.)"
      ],
      "metadata": {
        "id": "2R1duewqtGAx"
      },
      "execution_count": 14,
      "outputs": []
    },
    {
      "cell_type": "code",
      "source": [
        "drink_beverage(['커피', '물', '에이드'])"
      ],
      "metadata": {
        "colab": {
          "base_uri": "https://localhost:8080/"
        },
        "id": "qEG8Zov4tsOW",
        "outputId": "237aae9c-9dcf-422d-9b4a-b10414caa5e4"
      },
      "execution_count": 15,
      "outputs": [
        {
          "output_type": "stream",
          "name": "stdout",
          "text": [
            "커피을(를) 마셨습니다.\n",
            "물을(를) 마셨습니다.\n",
            "에이드을(를) 마셨습니다.\n"
          ]
        },
        {
          "output_type": "execute_result",
          "data": {
            "text/plain": [
              "3"
            ]
          },
          "metadata": {},
          "execution_count": 15
        }
      ]
    },
    {
      "cell_type": "code",
      "source": [],
      "metadata": {
        "id": "-ja_tiGfty9w"
      },
      "execution_count": null,
      "outputs": []
    }
  ]
}