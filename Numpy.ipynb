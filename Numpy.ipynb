{
  "nbformat": 4,
  "nbformat_minor": 0,
  "metadata": {
    "colab": {
      "name": "Numpy.ipynb",
      "provenance": [],
      "authorship_tag": "ABX9TyNv/VGNhgrq5B1Y/Qm4uhNy",
      "include_colab_link": true
    },
    "kernelspec": {
      "name": "python3",
      "display_name": "Python 3"
    },
    "language_info": {
      "name": "python"
    }
  },
  "cells": [
    {
      "cell_type": "markdown",
      "metadata": {
        "id": "view-in-github",
        "colab_type": "text"
      },
      "source": [
        "<a href=\"https://colab.research.google.com/github/sleeptiger/Abc-project/blob/main/Numpy.ipynb\" target=\"_parent\"><img src=\"https://colab.research.google.com/assets/colab-badge.svg\" alt=\"Open In Colab\"/></a>"
      ]
    },
    {
      "cell_type": "markdown",
      "source": [
        "# 라이브러리란?\n",
        ">- 모듈은 파이썬 확장자로 이루어져 있는 실행 가능한 하나의 파일이다.\n",
        ">- 모듈안에는 한개 이상 함수, 클래스 변수가 있다.\n",
        ">- 라이브러리는 `import` 로 호출한다.\n",
        "\n"
      ],
      "metadata": {
        "id": "PFsc0S9b0V1B"
      }
    },
    {
      "cell_type": "code",
      "execution_count": 3,
      "metadata": {
        "id": "6YZaR8Pb0UJ6"
      },
      "outputs": [],
      "source": [
        "import numpy as np # as np = numpy를 np로 사용이 가능하다."
      ]
    },
    {
      "cell_type": "markdown",
      "source": [
        "# Numpy란?\n"
      ],
      "metadata": {
        "id": "L5PzMyyD07vR"
      }
    },
    {
      "cell_type": "markdown",
      "source": [
        "## Numpy \n",
        ">- 다차원 배열을 쉽고 효율적으로 계산할 수 있도록 해주는 python 라이브러리\n",
        "<br>\n",
        "<br>\n",
        "#### why Numpy\n",
        ">- 데이터는 이미지, 오디오, 텍스트 등 다양하다.\n",
        ">- 모든 데이터는 결국, 숫자의 배열 형태로 해석이 가능하다.\n",
        ">- Numpy는 python에서 모든 데이터를 자료형으로 분석하고 계산하기 위한 라이브러리이다."
      ],
      "metadata": {
        "id": "e1YDBaug1LUg"
      }
    },
    {
      "cell_type": "markdown",
      "source": [
        "## 배열이란?\n",
        "1. 같은 타입을 가지는 데이터가 나열된 집합\n",
        "2. 축의 개수에 따라 차원이 달라진다.\n",
        "<br>\n",
        "<br>\n",
        ">- axis0 = 세로/ axis1= 가로/ axis3 = 깊이"
      ],
      "metadata": {
        "id": "1sb95E6X11zH"
      }
    },
    {
      "cell_type": "code",
      "source": [
        "silver = np.array([[1,2,3],\n",
        "                  [4,5,6]])\n",
        "np.shape(silver) # 세로로 2줄 가로로 3줄"
      ],
      "metadata": {
        "colab": {
          "base_uri": "https://localhost:8080/"
        },
        "id": "X1EJDCUH0vxr",
        "outputId": "32571ab8-d852-481b-9a89-0d95b7ddbb3b"
      },
      "execution_count": null,
      "outputs": [
        {
          "output_type": "execute_result",
          "data": {
            "text/plain": [
              "(2, 3)"
            ]
          },
          "metadata": {},
          "execution_count": 5
        }
      ]
    },
    {
      "cell_type": "code",
      "source": [
        "abc = np.array([[[1,2,3],\n",
        "               [4,5,6]],\n",
        "               [[7,8,9],\n",
        "               [10,11,12]]])\n",
        "np.shape(abc)"
      ],
      "metadata": {
        "colab": {
          "base_uri": "https://localhost:8080/"
        },
        "id": "ZE7uZK9x03t4",
        "outputId": "f1979cb8-02b5-4389-9244-393e32e78ba4"
      },
      "execution_count": null,
      "outputs": [
        {
          "output_type": "execute_result",
          "data": {
            "text/plain": [
              "(2, 2, 3)"
            ]
          },
          "metadata": {},
          "execution_count": 9
        }
      ]
    },
    {
      "cell_type": "markdown",
      "source": [
        "## 배열과 슬라이싱, 정렬\n",
        "1. 배열생성\n",
        "    >- 리스트를 np로 변경 \n",
        "    >- np를 사용해서 생성 -> 타입설정 가능\n",
        "    >- 파일기반 배열 생성"
      ],
      "metadata": {
        "id": "3fLTgiRd5rFT"
      }
    },
    {
      "cell_type": "code",
      "source": [
        "#리스트를 np로 변경\n",
        "x = [1,2,3,4]\n",
        "print(type(x))\n",
        "np.array(x)"
      ],
      "metadata": {
        "id": "y6BG3Bct24uN",
        "colab": {
          "base_uri": "https://localhost:8080/"
        },
        "outputId": "a2a2bb84-fd4c-41a2-b38a-4c72394d1124"
      },
      "execution_count": 9,
      "outputs": [
        {
          "output_type": "stream",
          "name": "stdout",
          "text": [
            "<class 'list'>\n"
          ]
        },
        {
          "output_type": "execute_result",
          "data": {
            "text/plain": [
              "array([1, 2, 3, 4])"
            ]
          },
          "metadata": {},
          "execution_count": 9
        }
      ]
    },
    {
      "cell_type": "code",
      "source": [
        "#   np.arange(x,y,z)   -- x = 시작 하는 숫자\n",
        "#                         Y = 끝나는 숫자(Y미만의 숫자)\n",
        "#                         Z = 간격"
      ],
      "metadata": {
        "id": "4eMl_3hO6nTK"
      },
      "execution_count": null,
      "outputs": []
    },
    {
      "cell_type": "code",
      "source": [
        "np.linspace(0,10,2)   # linspace(x,y,z) - z숫자 만큼 배열 시킨다."
      ],
      "metadata": {
        "colab": {
          "base_uri": "https://localhost:8080/"
        },
        "id": "m8HcSsMM7ydz",
        "outputId": "9bfc2ad6-f584-48c0-f41c-7c44f328bd43"
      },
      "execution_count": 10,
      "outputs": [
        {
          "output_type": "execute_result",
          "data": {
            "text/plain": [
              "array([ 0., 10.])"
            ]
          },
          "metadata": {},
          "execution_count": 10
        }
      ]
    },
    {
      "cell_type": "code",
      "source": [
        "# 여러가지 NUMPY 배열 생성기 \n",
        "np.zeros((3,5))\n",
        "# axis0 = 3  axis1= 5"
      ],
      "metadata": {
        "colab": {
          "base_uri": "https://localhost:8080/"
        },
        "id": "PMAJuAL876fA",
        "outputId": "651b10f5-b338-4803-f4e2-4fa314e9f74d"
      },
      "execution_count": 15,
      "outputs": [
        {
          "output_type": "execute_result",
          "data": {
            "text/plain": [
              "array([[0., 0., 0., 0., 0.],\n",
              "       [0., 0., 0., 0., 0.],\n",
              "       [0., 0., 0., 0., 0.]])"
            ]
          },
          "metadata": {},
          "execution_count": 15
        }
      ]
    },
    {
      "cell_type": "code",
      "source": [
        "np.full((3,3),10)\n",
        "#   axis0 =3 axis1 = 3 채워주는 숫자는 10"
      ],
      "metadata": {
        "colab": {
          "base_uri": "https://localhost:8080/"
        },
        "id": "BuZGrtCT8GX_",
        "outputId": "6aeddd0a-93d5-405d-90c6-633db9acf07a"
      },
      "execution_count": 14,
      "outputs": [
        {
          "output_type": "execute_result",
          "data": {
            "text/plain": [
              "array([[10, 10, 10],\n",
              "       [10, 10, 10],\n",
              "       [10, 10, 10]])"
            ]
          },
          "metadata": {},
          "execution_count": 14
        }
      ]
    },
    {
      "cell_type": "markdown",
      "source": [
        "### 슬라이싱\n",
        "- 특정 구간을 불러 들인다.\n",
        "- `,` 중심으로 (x,y,z) = (axis0, axis1, axis3) = (행 인덱스, 열 인덱스, N축 인덱스)\n",
        "-  `:` = 전체를 뜻함 ex) eve[:,1] = 모든 행에 1번 열 인덱스 출력\n"
      ],
      "metadata": {
        "id": "rOfggW7L8gVW"
      }
    },
    {
      "cell_type": "code",
      "source": [
        "eve = np.array([[1,2,3],\n",
        "                [4,5,6],\n",
        "                [7,8,9]])"
      ],
      "metadata": {
        "id": "syqi7KbK8MHf"
      },
      "execution_count": 18,
      "outputs": []
    },
    {
      "cell_type": "code",
      "source": [
        " np.array(eve[:,1])"
      ],
      "metadata": {
        "colab": {
          "base_uri": "https://localhost:8080/"
        },
        "id": "Dlb89C_O832_",
        "outputId": "20065c32-1e4a-41d1-fd53-e8efb2dedad0"
      },
      "execution_count": 26,
      "outputs": [
        {
          "output_type": "execute_result",
          "data": {
            "text/plain": [
              "array([2, 5, 8])"
            ]
          },
          "metadata": {},
          "execution_count": 26
        }
      ]
    },
    {
      "cell_type": "code",
      "source": [
        "eve[0,2]"
      ],
      "metadata": {
        "colab": {
          "base_uri": "https://localhost:8080/"
        },
        "id": "3qCLKmwY9IC_",
        "outputId": "5d3eb6d3-ae41-49ab-d5d5-98ca45578386"
      },
      "execution_count": 27,
      "outputs": [
        {
          "output_type": "execute_result",
          "data": {
            "text/plain": [
              "3"
            ]
          },
          "metadata": {},
          "execution_count": 27
        }
      ]
    },
    {
      "cell_type": "markdown",
      "source": [
        "#### FANCY 인덱싱\n",
        "- 리스트로서 특정 행/ 열을 슬라이싱 할 수 있다."
      ],
      "metadata": {
        "id": "SkrmfwEJ-JNH"
      }
    },
    {
      "cell_type": "code",
      "source": [
        "arr=np.zeros((8,8))"
      ],
      "metadata": {
        "id": "bAAOKhH5-H1Y"
      },
      "execution_count": 36,
      "outputs": []
    },
    {
      "cell_type": "code",
      "source": [
        "arr1 =np.arange(1,17)\n",
        "arr2 = arr1.reshape(4,4)\n",
        "arr2"
      ],
      "metadata": {
        "colab": {
          "base_uri": "https://localhost:8080/"
        },
        "id": "33FT42qJAOJr",
        "outputId": "afb44e72-705e-41a6-9284-97616b3425af"
      },
      "execution_count": 51,
      "outputs": [
        {
          "output_type": "execute_result",
          "data": {
            "text/plain": [
              "array([[ 1,  2,  3,  4],\n",
              "       [ 5,  6,  7,  8],\n",
              "       [ 9, 10, 11, 12],\n",
              "       [13, 14, 15, 16]])"
            ]
          },
          "metadata": {},
          "execution_count": 51
        }
      ]
    },
    {
      "cell_type": "code",
      "source": [
        "arr2[::2]"
      ],
      "metadata": {
        "colab": {
          "base_uri": "https://localhost:8080/"
        },
        "id": "ZUtI8Ha7C_0l",
        "outputId": "5031cf3b-00df-4d95-cfa5-044e5c86b1a8"
      },
      "execution_count": 85,
      "outputs": [
        {
          "output_type": "execute_result",
          "data": {
            "text/plain": [
              "array([[ 1,  2,  3,  4],\n",
              "       [ 9, 10, 11, 12]])"
            ]
          },
          "metadata": {},
          "execution_count": 85
        }
      ]
    },
    {
      "cell_type": "code",
      "source": [
        "arr2[1::2, [0,2]] # arr2[x:y:z, xz]  = x는 행의 시작점, z는 간격 수/ xz=열 컬럼"
      ],
      "metadata": {
        "colab": {
          "base_uri": "https://localhost:8080/"
        },
        "id": "mc7q8uRAATn3",
        "outputId": "7218faab-5eb0-496d-c440-a5eff7a81a9f"
      },
      "execution_count": 78,
      "outputs": [
        {
          "output_type": "execute_result",
          "data": {
            "text/plain": [
              "array([[ 5,  7],\n",
              "       [13, 15]])"
            ]
          },
          "metadata": {},
          "execution_count": 78
        }
      ]
    },
    {
      "cell_type": "code",
      "source": [
        "matrix = np.zeros((8,8))\n",
        "matrix[::2,[1,3,5,7]] = 1\n",
        "matrix[1::2,[0,2,4,6]] = 1\n",
        "np.array(matrix)"
      ],
      "metadata": {
        "colab": {
          "base_uri": "https://localhost:8080/"
        },
        "id": "QO40gDP9_fYe",
        "outputId": "d6c7ed90-8abb-409f-9432-c5ae6b0b31c5"
      },
      "execution_count": 79,
      "outputs": [
        {
          "output_type": "execute_result",
          "data": {
            "text/plain": [
              "array([[0., 1., 0., 1., 0., 1., 0., 1.],\n",
              "       [1., 0., 1., 0., 1., 0., 1., 0.],\n",
              "       [0., 1., 0., 1., 0., 1., 0., 1.],\n",
              "       [1., 0., 1., 0., 1., 0., 1., 0.],\n",
              "       [0., 1., 0., 1., 0., 1., 0., 1.],\n",
              "       [1., 0., 1., 0., 1., 0., 1., 0.],\n",
              "       [0., 1., 0., 1., 0., 1., 0., 1.],\n",
              "       [1., 0., 1., 0., 1., 0., 1., 0.]])"
            ]
          },
          "metadata": {},
          "execution_count": 79
        }
      ]
    },
    {
      "cell_type": "markdown",
      "source": [
        "### boolearn 인덱싱\n",
        "- true 값만 출력"
      ],
      "metadata": {
        "id": "f2lyNs5MDVTK"
      }
    },
    {
      "cell_type": "code",
      "source": [
        "arr2>8 # True/False만 출력을 원하면"
      ],
      "metadata": {
        "colab": {
          "base_uri": "https://localhost:8080/"
        },
        "id": "sBmFgHwJ_hDn",
        "outputId": "c5d7dfb6-f4e2-49e7-99ad-7f28201b4cec"
      },
      "execution_count": 88,
      "outputs": [
        {
          "output_type": "execute_result",
          "data": {
            "text/plain": [
              "array([[False, False, False, False],\n",
              "       [False, False, False, False],\n",
              "       [ True,  True,  True,  True],\n",
              "       [ True,  True,  True,  True]])"
            ]
          },
          "metadata": {},
          "execution_count": 88
        }
      ]
    },
    {
      "cell_type": "code",
      "source": [
        "arr2[arr2>8] # True/False값을 토대로 출력"
      ],
      "metadata": {
        "colab": {
          "base_uri": "https://localhost:8080/"
        },
        "id": "V9if2qrGDhUG",
        "outputId": "c3278e41-db59-4d8e-970b-6cceb353e47c"
      },
      "execution_count": 89,
      "outputs": [
        {
          "output_type": "execute_result",
          "data": {
            "text/plain": [
              "array([ 9, 10, 11, 12, 13, 14, 15, 16])"
            ]
          },
          "metadata": {},
          "execution_count": 89
        }
      ]
    },
    {
      "cell_type": "markdown",
      "source": [
        "## 유용한 Numpy  함수"
      ],
      "metadata": {
        "id": "AtcsPjv9E2aG"
      }
    },
    {
      "cell_type": "code",
      "source": [
        "# np.min() - 최솟값\n",
        "# np.max() - 최댓값\n",
        "# np.argmin() -최소 인덱스 값\n",
        "# np.argmax() - 최대 인덱스 값\n",
        "# np.sum() - 전체 합\n",
        "# np.mean() - 평균\n",
        "# np.where(arr2 == 7) - arr2 에서 7의 위치를 찾는다"
      ],
      "metadata": {
        "id": "z0EJxisaEXE_"
      },
      "execution_count": null,
      "outputs": []
    },
    {
      "cell_type": "markdown",
      "source": [
        "#### 배열 차원 변경"
      ],
      "metadata": {
        "id": "ExxgC1uNE9IF"
      }
    },
    {
      "cell_type": "code",
      "source": [
        "abc1 = np.arange(0,16)\n",
        "abc1"
      ],
      "metadata": {
        "colab": {
          "base_uri": "https://localhost:8080/"
        },
        "id": "NCGytwP4E8Dx",
        "outputId": "334d87bf-3c33-4fa9-a45e-0c4d13eec514"
      },
      "execution_count": 97,
      "outputs": [
        {
          "output_type": "execute_result",
          "data": {
            "text/plain": [
              "array([ 0,  1,  2,  3,  4,  5,  6,  7,  8,  9, 10, 11, 12, 13, 14, 15])"
            ]
          },
          "metadata": {},
          "execution_count": 97
        }
      ]
    },
    {
      "cell_type": "code",
      "source": [
        "abc2 = abc1.reshape(4,-1)\n",
        "abc2"
      ],
      "metadata": {
        "colab": {
          "base_uri": "https://localhost:8080/"
        },
        "id": "8gQ_a10FFE7v",
        "outputId": "77b9792b-b805-4590-9b87-0bbe3f15a4b3"
      },
      "execution_count": 102,
      "outputs": [
        {
          "output_type": "execute_result",
          "data": {
            "text/plain": [
              "array([[ 0,  1,  2,  3],\n",
              "       [ 4,  5,  6,  7],\n",
              "       [ 8,  9, 10, 11],\n",
              "       [12, 13, 14, 15]])"
            ]
          },
          "metadata": {},
          "execution_count": 102
        }
      ]
    },
    {
      "cell_type": "code",
      "source": [
        "abc2_2 = abc1.reshape(4,4)\n",
        "abc2_2"
      ],
      "metadata": {
        "colab": {
          "base_uri": "https://localhost:8080/"
        },
        "id": "gUJ_4VZlFOJt",
        "outputId": "f44c75e1-2d9b-4823-cecd-a8aae78e06d7"
      },
      "execution_count": 104,
      "outputs": [
        {
          "output_type": "execute_result",
          "data": {
            "text/plain": [
              "array([[ 0,  1,  2,  3],\n",
              "       [ 4,  5,  6,  7],\n",
              "       [ 8,  9, 10, 11],\n",
              "       [12, 13, 14, 15]])"
            ]
          },
          "metadata": {},
          "execution_count": 104
        }
      ]
    },
    {
      "cell_type": "markdown",
      "source": [
        "## 정렬 함수     "
      ],
      "metadata": {
        "id": "i_hf1wC1F9Q9"
      }
    },
    {
      "cell_type": "code",
      "source": [
        "arr = np.array([[11, 9, 11, 12], \n",
        "                [8, 9, 5, 7], \n",
        "                [3, 1, 2, 4],\n",
        "                [14, 16, 13, 15]])"
      ],
      "metadata": {
        "id": "Pg9NWbeVGW6T"
      },
      "execution_count": 106,
      "outputs": []
    },
    {
      "cell_type": "code",
      "source": [
        "np.sort(arr, axis=0) # 위에서 아래로 높은순"
      ],
      "metadata": {
        "colab": {
          "base_uri": "https://localhost:8080/"
        },
        "id": "fA1kM2F7F6HW",
        "outputId": "bbdf124b-8c8b-44e8-aef8-fc83079f9427"
      },
      "execution_count": 114,
      "outputs": [
        {
          "output_type": "execute_result",
          "data": {
            "text/plain": [
              "array([[ 3,  1,  2,  4],\n",
              "       [ 8,  9,  5,  7],\n",
              "       [11,  9, 11, 12],\n",
              "       [14, 16, 13, 15]])"
            ]
          },
          "metadata": {},
          "execution_count": 114
        }
      ]
    },
    {
      "cell_type": "code",
      "source": [
        "np.sort(arr, axis=0)[::-1] #위에서 아래로 낮음차순"
      ],
      "metadata": {
        "colab": {
          "base_uri": "https://localhost:8080/"
        },
        "id": "c4qZa_RLGJzU",
        "outputId": "8a5c6d12-46c7-43e4-c336-b4b342073303"
      },
      "execution_count": 115,
      "outputs": [
        {
          "output_type": "execute_result",
          "data": {
            "text/plain": [
              "array([[14, 16, 13, 15],\n",
              "       [11,  9, 11, 12],\n",
              "       [ 8,  9,  5,  7],\n",
              "       [ 3,  1,  2,  4]])"
            ]
          },
          "metadata": {},
          "execution_count": 115
        }
      ]
    },
    {
      "cell_type": "code",
      "source": [
        "np.sort(arr, axis=1) # 왼쪽에서 오른쪽으로 높은 차순 정력"
      ],
      "metadata": {
        "colab": {
          "base_uri": "https://localhost:8080/"
        },
        "id": "9BbuaEzFG4C-",
        "outputId": "0944d5ac-d8ad-4a0d-92ce-216076b7ca28"
      },
      "execution_count": 116,
      "outputs": [
        {
          "output_type": "execute_result",
          "data": {
            "text/plain": [
              "array([[ 9, 11, 11, 12],\n",
              "       [ 5,  7,  8,  9],\n",
              "       [ 1,  2,  3,  4],\n",
              "       [13, 14, 15, 16]])"
            ]
          },
          "metadata": {},
          "execution_count": 116
        }
      ]
    },
    {
      "cell_type": "code",
      "source": [
        "np.sort(arr, axis=1)[::-1] # 행 뒤집고 오름 차순"
      ],
      "metadata": {
        "colab": {
          "base_uri": "https://localhost:8080/"
        },
        "id": "AAqoZzGbHA_2",
        "outputId": "df45c871-c6c7-441d-c34b-723d00638e89"
      },
      "execution_count": 117,
      "outputs": [
        {
          "output_type": "execute_result",
          "data": {
            "text/plain": [
              "array([[13, 14, 15, 16],\n",
              "       [ 1,  2,  3,  4],\n",
              "       [ 5,  7,  8,  9],\n",
              "       [ 9, 11, 11, 12]])"
            ]
          },
          "metadata": {},
          "execution_count": 117
        }
      ]
    },
    {
      "cell_type": "code",
      "source": [],
      "metadata": {
        "id": "MQmxKStqHIVs"
      },
      "execution_count": null,
      "outputs": []
    }
  ]
}