{
  "nbformat": 4,
  "nbformat_minor": 0,
  "metadata": {
    "colab": {
      "name": "Numpy.ipynb",
      "provenance": [],
      "authorship_tag": "ABX9TyP5RtJxiUXC3mne7pG2Oo77",
      "include_colab_link": true
    },
    "kernelspec": {
      "name": "python3",
      "display_name": "Python 3"
    },
    "language_info": {
      "name": "python"
    }
  },
  "cells": [
    {
      "cell_type": "markdown",
      "metadata": {
        "id": "view-in-github",
        "colab_type": "text"
      },
      "source": [
        "<a href=\"https://colab.research.google.com/github/sleeptiger/Abc-project/blob/main/Numpy.ipynb\" target=\"_parent\"><img src=\"https://colab.research.google.com/assets/colab-badge.svg\" alt=\"Open In Colab\"/></a>"
      ]
    },
    {
      "cell_type": "markdown",
      "source": [
        "# 라이브러리란?\n",
        ">- 모듈은 파이썬 확장자로 이루어져 있는 실행 가능한 하나의 파일이다.\n",
        ">- 모듈안에는 한개 이상 함수, 클래스 변수가 있다.\n",
        ">- 라이브러리는 `import` 로 호출한다.\n",
        "\n"
      ],
      "metadata": {
        "id": "PFsc0S9b0V1B"
      }
    },
    {
      "cell_type": "code",
      "execution_count": 1,
      "metadata": {
        "id": "6YZaR8Pb0UJ6"
      },
      "outputs": [],
      "source": [
        "import numpy as np # as np = numpy를 np로 사용이 가능하다."
      ]
    },
    {
      "cell_type": "markdown",
      "source": [
        "# Numpy란?\n"
      ],
      "metadata": {
        "id": "L5PzMyyD07vR"
      }
    },
    {
      "cell_type": "markdown",
      "source": [
        "## Numpy \n",
        ">- 다차원 배열을 쉽고 효율적으로 계산할 수 있도록 해주는 python 라이브러리\n",
        "<br>\n",
        "<br>\n",
        "#### why Numpy\n",
        ">- 데이터는 이미지, 오디오, 텍스트 등 다양하다.\n",
        ">- 모든 데이터는 결국, 숫자의 배열 형태로 해석이 가능하다.\n",
        ">- Numpy는 python에서 모든 데이터를 자료형으로 분석하고 계산하기 위한 라이브러리이다."
      ],
      "metadata": {
        "id": "e1YDBaug1LUg"
      }
    },
    {
      "cell_type": "markdown",
      "source": [
        "## 배열이란?\n",
        "1. 같은 타입을 가지는 데이터가 나열된 집합\n",
        "2. 축의 개수에 따라 차원이 달라진다.\n",
        "<br>\n",
        "<br>\n",
        ">- axis0 = 세로/ axis1= 가로/ axis3 = 깊이"
      ],
      "metadata": {
        "id": "1sb95E6X11zH"
      }
    },
    {
      "cell_type": "code",
      "source": [
        "silver = np.array([[1,2,3],\n",
        "                  [4,5,6]])\n",
        "np.shape(silver) # 세로로 2줄 가로로 3줄"
      ],
      "metadata": {
        "colab": {
          "base_uri": "https://localhost:8080/"
        },
        "id": "X1EJDCUH0vxr",
        "outputId": "32571ab8-d852-481b-9a89-0d95b7ddbb3b"
      },
      "execution_count": 5,
      "outputs": [
        {
          "output_type": "execute_result",
          "data": {
            "text/plain": [
              "(2, 3)"
            ]
          },
          "metadata": {},
          "execution_count": 5
        }
      ]
    },
    {
      "cell_type": "code",
      "source": [
        "abc = np.array([[[1,2,3],\n",
        "               [4,5,6]],\n",
        "               [[7,8,9],\n",
        "               [10,11,12]]])\n",
        "np.shape(abc)"
      ],
      "metadata": {
        "colab": {
          "base_uri": "https://localhost:8080/"
        },
        "id": "ZE7uZK9x03t4",
        "outputId": "f1979cb8-02b5-4389-9244-393e32e78ba4"
      },
      "execution_count": 9,
      "outputs": [
        {
          "output_type": "execute_result",
          "data": {
            "text/plain": [
              "(2, 2, 3)"
            ]
          },
          "metadata": {},
          "execution_count": 9
        }
      ]
    },
    {
      "cell_type": "code",
      "source": [],
      "metadata": {
        "id": "y6BG3Bct24uN"
      },
      "execution_count": null,
      "outputs": []
    }
  ]
}