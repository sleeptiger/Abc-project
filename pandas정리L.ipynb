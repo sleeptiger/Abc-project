{
  "nbformat": 4,
  "nbformat_minor": 0,
  "metadata": {
    "colab": {
      "provenance": [],
      "collapsed_sections": [],
      "mount_file_id": "1IsJrJctCvsqWXEgusLaHVcp0kpcqkbX0",
      "authorship_tag": "ABX9TyNACRU3TYova1XsoYLQOSEe",
      "include_colab_link": true
    },
    "kernelspec": {
      "name": "python3",
      "display_name": "Python 3"
    },
    "language_info": {
      "name": "python"
    }
  },
  "cells": [
    {
      "cell_type": "markdown",
      "metadata": {
        "id": "view-in-github",
        "colab_type": "text"
      },
      "source": [
        "<a href=\"https://colab.research.google.com/github/sleeptiger/Abc-project/blob/main/pandas%EC%A0%95%EB%A6%ACL.ipynb\" target=\"_parent\"><img src=\"https://colab.research.google.com/assets/colab-badge.svg\" alt=\"Open In Colab\"/></a>"
      ]
    },
    {
      "cell_type": "markdown",
      "source": [
        "# PANDAS "
      ],
      "metadata": {
        "id": "_Bzu60W94IBx"
      }
    },
    {
      "cell_type": "markdown",
      "source": [
        "## pandas 실행"
      ],
      "metadata": {
        "id": "Vd9_hC604LuT"
      }
    },
    {
      "cell_type": "code",
      "execution_count": 1,
      "metadata": {
        "id": "oVQ46bqxw27Z"
      },
      "outputs": [],
      "source": [
        "import numpy as np\n",
        "import pandas as pd"
      ]
    },
    {
      "cell_type": "markdown",
      "source": [
        "## 리스트(list)로 pandas 만들기\n",
        "- 비추천 , columns 따로 지정"
      ],
      "metadata": {
        "id": "jsk1yJTm4mEs"
      }
    },
    {
      "cell_type": "code",
      "source": [
        "mylist = [1,2,3,4]\n",
        "print(type(mylist))\n",
        "mySeries = pd.Series(mylist)"
      ],
      "metadata": {
        "id": "IuyP-3ly4SqV"
      },
      "execution_count": null,
      "outputs": []
    },
    {
      "cell_type": "code",
      "source": [
        "type(mySeries)"
      ],
      "metadata": {
        "id": "DY2pUEMQ5IKm"
      },
      "execution_count": null,
      "outputs": []
    },
    {
      "cell_type": "code",
      "source": [
        "mylists = [['야구', '류현진', '22,300,000,000'],\n",
        "           ['축구', '손흥민', '15,000,000,000'],\n",
        "           ['롤', '페이커', '5,200,000,000']]\n",
        "df = pd.DataFrame(mylists)\n",
        "df"
      ],
      "metadata": {
        "id": "57pHNdR05J7k"
      },
      "execution_count": null,
      "outputs": []
    },
    {
      "cell_type": "code",
      "source": [
        "df = pd.DataFrame(mylists, columns=['종목', '이름', '연봉'])\n",
        "df"
      ],
      "metadata": {
        "id": "pqwNJpFg5k8W"
      },
      "execution_count": null,
      "outputs": []
    },
    {
      "cell_type": "markdown",
      "source": [
        "##딕셔너리(dict)로 만들기\n",
        "- 추천 columns 을 지정되기 때문에 편하다."
      ],
      "metadata": {
        "id": "frAthd9Q6CiY"
      }
    },
    {
      "cell_type": "code",
      "source": [
        "mydict = {'종목': ['야구', '축구', '롤'],\n",
        "          '이름' :['류현진', '손흥민', '페이커'],\n",
        "          '연봉' : ['22,300,000,000', '15,000,000,000', '5,200,000,000']}\n",
        "df = pd.DataFrame(mydict)\n",
        "df"
      ],
      "metadata": {
        "id": "yt1F3HDL56c4"
      },
      "execution_count": null,
      "outputs": []
    },
    {
      "cell_type": "markdown",
      "source": [
        "## csv파일 읽고 쓰기"
      ],
      "metadata": {
        "id": "aKguWq0d8jSA"
      }
    },
    {
      "cell_type": "code",
      "source": [
        "# csv_path = '/content/drive/MyDrive/Part.2 파이썬 데이터 분석 및 머신러닝 기초 강의자료 및 부가자료/02. 파이썬을 활용한 데이터 전처리/kpop_boys.csv'"
      ],
      "metadata": {
        "id": "r0HBLsw26nCU"
      },
      "execution_count": null,
      "outputs": []
    },
    {
      "cell_type": "code",
      "source": [
        "# df = pd.read_csv(csv_path)"
      ],
      "metadata": {
        "id": "0RRz4OmI8q3s"
      },
      "execution_count": null,
      "outputs": []
    },
    {
      "cell_type": "code",
      "source": [
        "# df.head() # 상위 5개의 columns만 출력"
      ],
      "metadata": {
        "id": "HseFTyhE8wzy"
      },
      "execution_count": null,
      "outputs": []
    },
    {
      "cell_type": "markdown",
      "source": [
        "## 요약 정보 확인하기\n"
      ],
      "metadata": {
        "id": "MkXJWUso88wd"
      }
    },
    {
      "cell_type": "code",
      "source": [
        "# df.info"
      ],
      "metadata": {
        "id": "F5wwzxHb8z3i"
      },
      "execution_count": null,
      "outputs": []
    },
    {
      "cell_type": "markdown",
      "source": [
        "## Pandas(데이터 슬라이싱) 활용하기"
      ],
      "metadata": {
        "id": "wjF2zXJdhK7B"
      }
    },
    {
      "cell_type": "code",
      "source": [
        "df = pd.read_csv('https://bit.ly/3gRXTfD')"
      ],
      "metadata": {
        "id": "QZYsEpit8_vC"
      },
      "execution_count": null,
      "outputs": []
    },
    {
      "cell_type": "code",
      "source": [
        "# 상위 10개의 값 출력\n",
        "df = df.iloc[:,1:11].head(10)\n",
        "df"
      ],
      "metadata": {
        "id": "AokyO15Xho6j"
      },
      "execution_count": null,
      "outputs": []
    },
    {
      "cell_type": "markdown",
      "source": [
        "## 행/열 선택하여 출력하기\n",
        ">- 행 하나 가져오기 `(df['행 시작 인덱스'] : '행시작 인덱스+1'])`\n",
        ">- 행 여개 가져오기 `(df['행 시작 인덱스') : ['행 끝 인덱스`])"
      ],
      "metadata": {
        "id": "GAPgwr1y7TbL"
      }
    },
    {
      "cell_type": "code",
      "source": [
        "# 행 하나 가져오기\n",
        "df[:1] # = df[0:1]"
      ],
      "metadata": {
        "id": "zKDO-X0DhqF0"
      },
      "execution_count": null,
      "outputs": []
    },
    {
      "cell_type": "markdown",
      "source": [
        "#### 행 여러개 가져오기"
      ],
      "metadata": {
        "id": "o9PYCUyE8T6w"
      }
    },
    {
      "cell_type": "code",
      "source": [
        "# 행 여러ㅐ 가져오기\n",
        "df[:2]"
      ],
      "metadata": {
        "id": "h0SRvsDh79jS"
      },
      "execution_count": null,
      "outputs": []
    },
    {
      "cell_type": "code",
      "source": [
        "df[5:]"
      ],
      "metadata": {
        "id": "n8WuEsXu8Fj1"
      },
      "execution_count": null,
      "outputs": []
    },
    {
      "cell_type": "code",
      "source": [
        "df[:5]"
      ],
      "metadata": {
        "id": "RlmB8uzH8ZC2"
      },
      "execution_count": null,
      "outputs": []
    },
    {
      "cell_type": "markdown",
      "source": [
        "#### 열 가져오기\n",
        ">- 열 하나 가져오기 `df['컬럼명']` or `df.컬럼명`\n",
        ">- 열 여기개 가져오기 `df[['columns1', columns2', 'columns3']]]\n",
        ">- 범위 설정으로 열 여러개 가져오기.\n",
        "`df[df.columns[시작 인덱스:끝인덱스]])`"
      ],
      "metadata": {
        "id": "WJ-bnZEP9FIW"
      }
    },
    {
      "cell_type": "code",
      "source": [
        "#df의 모든 columns 출력\n",
        "df.columns"
      ],
      "metadata": {
        "id": "jtca3zWB8cGm"
      },
      "execution_count": null,
      "outputs": []
    },
    {
      "cell_type": "code",
      "source": [
        "# 하나의 열  가져오기  비추천 너무 비효율적\n",
        "df['Korean Name']"
      ],
      "metadata": {
        "id": "jjtRAC3N-LxY"
      },
      "execution_count": null,
      "outputs": []
    },
    {
      "cell_type": "code",
      "source": [
        "# 특정 여러개의 열을 불러오기\n",
        "df[['Korean Name', 'Group', 'Country']]"
      ],
      "metadata": {
        "id": "UObxTJKW-Uif"
      },
      "execution_count": null,
      "outputs": []
    },
    {
      "cell_type": "markdown",
      "source": [
        "## **loc, iloc 을 사용해 편하개 조회하기**\n",
        ">- loc, iloc은 pandas에서 데이터 조작을 쉽개 도와주는 명령어다.\n",
        ">- 인덱싱(indexing)방식을 통해 데이터 읽기/쓰기, 슬라이싱 등 다양한 전처리 기능을 제공합니다.\n",
        ">- 조건문을 기본적으로 활용할 수 있으며, 쿼리(SQL)문과 같이 원하는 조건에 맞는 데이터 추출 가능\n",
        ">- 인덱스를 사용하여 바로 찾아내는 방식이기 때문에 매우 빠르다."
      ],
      "metadata": {
        "id": "7akJrNAp-qAk"
      }
    },
    {
      "cell_type": "markdown",
      "source": [
        "#### loc\n",
        ">- 행과 열의 데이터 조회할 때는 `특정 레이블(label)`을 통해 접근 가능\n",
        ">- `location`의 약어로, 사람이 읽을 수 있는 레이블 값을 사용"
      ],
      "metadata": {
        "id": "ttQovePE_TLv"
      }
    },
    {
      "cell_type": "code",
      "source": [
        "df"
      ],
      "metadata": {
        "id": "IRbulAp5-mxN"
      },
      "execution_count": null,
      "outputs": []
    },
    {
      "cell_type": "markdown",
      "source": [
        "**1. [loc] 특정 행 조회**"
      ],
      "metadata": {
        "id": "F5yaLNcF_l2N"
      }
    },
    {
      "cell_type": "code",
      "source": [
        "df.loc[0] # 행 첫 번째 출력"
      ],
      "metadata": {
        "id": "RwDnLPa0_gaz"
      },
      "execution_count": null,
      "outputs": []
    },
    {
      "cell_type": "code",
      "source": [
        "df.loc[:1] # 둘 이상 출력시 표로 나오는 것으로 추정"
      ],
      "metadata": {
        "id": "UkyLgKx2_vwo"
      },
      "execution_count": null,
      "outputs": []
    },
    {
      "cell_type": "code",
      "source": [
        "df.loc['Sunny']"
      ],
      "metadata": {
        "id": "T8vuoyU7Arwr"
      },
      "execution_count": null,
      "outputs": []
    },
    {
      "cell_type": "code",
      "source": [
        "df.loc[[1,3,5]] # []구간이 아닌 특정 순서이면 []로 묶어주기"
      ],
      "metadata": {
        "id": "4jT6yqFe_1_S"
      },
      "execution_count": null,
      "outputs": []
    },
    {
      "cell_type": "code",
      "source": [
        "# 숫자에서 -> 문자열 인덱스로 변경\n",
        "loc_df = df.copy() # 원본 훼손 방지를 위하여 카피\n",
        "loc_df.index = loc_df['Korean Name'] # 인덱스 값을 'korean Name으로 변경\n",
        "loc_df"
      ],
      "metadata": {
        "id": "LO1VnWkL_78k"
      },
      "execution_count": null,
      "outputs": []
    },
    {
      "cell_type": "code",
      "source": [
        "loc_df.loc['임윤아'] #특정 문자 값 출력 가능"
      ],
      "metadata": {
        "id": "e209bwX2AQ-L"
      },
      "execution_count": null,
      "outputs": []
    },
    {
      "cell_type": "code",
      "source": [
        "loc_df.loc[['임윤아', '이순규', '김태연']]"
      ],
      "metadata": {
        "id": "6MuHh8RcAl8w"
      },
      "execution_count": null,
      "outputs": []
    },
    {
      "cell_type": "markdown",
      "source": [
        "**2.[loc] 조건문을 사용한 행 조회\n",
        "(`df.loc[조건문]`)**\n"
      ],
      "metadata": {
        "id": "_zrHb2p9DdEM"
      }
    },
    {
      "cell_type": "code",
      "source": [
        "df.head()"
      ],
      "metadata": {
        "id": "V1cO5ulEDW_7"
      },
      "execution_count": null,
      "outputs": []
    },
    {
      "cell_type": "code",
      "source": [
        "df.loc[df['Korean Name'] == '임윤아']"
      ],
      "metadata": {
        "id": "TTbBYEovDpl4"
      },
      "execution_count": null,
      "outputs": []
    },
    {
      "cell_type": "code",
      "source": [
        "df.loc[df['Korean Name'] != '임윤아']"
      ],
      "metadata": {
        "id": "ntNzbQQzD0lV"
      },
      "execution_count": null,
      "outputs": []
    },
    {
      "cell_type": "code",
      "source": [
        "df.loc[df['Height'] >= 160]"
      ],
      "metadata": {
        "id": "rGV0qx50D97s"
      },
      "execution_count": null,
      "outputs": []
    },
    {
      "cell_type": "markdown",
      "source": [
        "**3. [loc]특정 열 조회**"
      ],
      "metadata": {
        "id": "B4eC7NABEN4V"
      }
    },
    {
      "cell_type": "code",
      "source": [
        "df.columns"
      ],
      "metadata": {
        "id": "BW9xYGEkEFlZ"
      },
      "execution_count": null,
      "outputs": []
    },
    {
      "cell_type": "code",
      "source": [
        "# 특정 열 조회\n",
        "df.loc[:, ['Korean Name']]"
      ],
      "metadata": {
        "id": "swCYrfbCET7e"
      },
      "execution_count": null,
      "outputs": []
    },
    {
      "cell_type": "code",
      "source": [
        "df.loc[:, ['Korean Name', 'K. Stage Name']]"
      ],
      "metadata": {
        "id": "eLwlt17hEY-f"
      },
      "execution_count": null,
      "outputs": []
    },
    {
      "cell_type": "markdown",
      "source": [
        "**4. [loc] 조거문을 사용하여 열 조회 (`df.loc[:, '조건문'])`**"
      ],
      "metadata": {
        "id": "mdMX7hrIE1da"
      }
    },
    {
      "cell_type": "code",
      "source": [
        "df.loc[:, df.columns == 'Korean Name']"
      ],
      "metadata": {
        "id": "eD6nn_guEyZU"
      },
      "execution_count": null,
      "outputs": []
    },
    {
      "cell_type": "code",
      "source": [
        "df.loc[:, df.columns != 'Korean Name']"
      ],
      "metadata": {
        "id": "gt9YG-KGGB8C"
      },
      "execution_count": null,
      "outputs": []
    },
    {
      "cell_type": "markdown",
      "source": [
        "**5.[loc] 행, 열 조건 조합**"
      ],
      "metadata": {
        "id": "hyczUY37GK_k"
      }
    },
    {
      "cell_type": "code",
      "source": [
        "df.loc[df['Korean Name'] == '임윤아', ['Height']]"
      ],
      "metadata": {
        "id": "0UU7sROtGHX_"
      },
      "execution_count": null,
      "outputs": []
    },
    {
      "cell_type": "code",
      "source": [
        "df.loc[df['Korean Name'] == '임윤아', df.columns =='Height']"
      ],
      "metadata": {
        "id": "l6MnppkWGXV9"
      },
      "execution_count": null,
      "outputs": []
    },
    {
      "cell_type": "markdown",
      "source": [
        "#### iloc\n",
        ">- 행과 열의 데이터를 조회할 때 '숫자 인덱스(integer index)을 통해 접근\n",
        ">- `integer location의 약어로, 컴퓨터가 읽을 수 있는 인덱스 값을 사용"
      ],
      "metadata": {
        "id": "WgJtl0zjHH0L"
      }
    },
    {
      "cell_type": "code",
      "source": [
        "iloc_df = loc_df.copy()\n",
        "iloc_df"
      ],
      "metadata": {
        "id": "8ixd-20sGkF3"
      },
      "execution_count": null,
      "outputs": []
    },
    {
      "cell_type": "markdown",
      "source": [
        "**1. [iloc]특정 `행` 조회**"
      ],
      "metadata": {
        "id": "aesoGjEzHm2V"
      }
    },
    {
      "cell_type": "code",
      "source": [
        "# 특정 행 조회\n",
        "iloc_df.iloc[0]"
      ],
      "metadata": {
        "id": "BTgHMaxKGrt3"
      },
      "execution_count": null,
      "outputs": []
    },
    {
      "cell_type": "code",
      "source": [
        "iloc_df.iloc[[0,3,5]]"
      ],
      "metadata": {
        "id": "QxBA2sR5HhU8"
      },
      "execution_count": null,
      "outputs": []
    },
    {
      "cell_type": "code",
      "source": [
        "iloc_df.iloc[1:5]"
      ],
      "metadata": {
        "id": "-8CRBPksHzsZ"
      },
      "execution_count": null,
      "outputs": []
    },
    {
      "cell_type": "markdown",
      "source": [
        "**2. [iloc] 특정 열 조회**"
      ],
      "metadata": {
        "id": "FTTIHk8jH4Fc"
      }
    },
    {
      "cell_type": "code",
      "source": [
        "# 특정 열 조회\n",
        "iloc_df.iloc[:, 1:4] # 1 = index 시작 / 3= 끝나는 값 -1"
      ],
      "metadata": {
        "id": "1reb2_eKH2RJ"
      },
      "execution_count": null,
      "outputs": []
    },
    {
      "cell_type": "markdown",
      "source": [
        "## Boolean Indexing, isin()\n",
        ">- 참/거짓 여부를 판단해서 특정 조건이 맞는 데이터만 추출하는 방법"
      ],
      "metadata": {
        "id": "jZhwA-wLIt1i"
      }
    },
    {
      "cell_type": "markdown",
      "source": [
        "**1. Boolean Indexing**"
      ],
      "metadata": {
        "id": "On_-NwO3I_LJ"
      }
    },
    {
      "cell_type": "code",
      "source": [
        "df"
      ],
      "metadata": {
        "id": "zbD7g3JuH-hE"
      },
      "execution_count": null,
      "outputs": []
    },
    {
      "cell_type": "code",
      "source": [
        "df['Height'] > 160"
      ],
      "metadata": {
        "id": "M8qJiXZ_JCyX"
      },
      "execution_count": null,
      "outputs": []
    },
    {
      "cell_type": "code",
      "source": [
        "df.loc[df['Height'] >160]"
      ],
      "metadata": {
        "id": "nAieJyPZJKnA"
      },
      "execution_count": null,
      "outputs": []
    },
    {
      "cell_type": "markdown",
      "source": [
        "**2. isin()을 활용한 색인**\n",
        ">- 내가 정한 리스트(list)안에 있는 값들만 가져오고 싶을 때 사용된다."
      ],
      "metadata": {
        "id": "ca65gPZdJTbn"
      }
    },
    {
      "cell_type": "code",
      "source": [
        "df"
      ],
      "metadata": {
        "id": "lnocsGsKJRUm"
      },
      "execution_count": null,
      "outputs": []
    },
    {
      "cell_type": "code",
      "source": [
        "group_name = ['SNSD'] # 리스트를 저장\n",
        "df['Group'].isin(group_name)"
      ],
      "metadata": {
        "id": "TjA9xMRkJe_W"
      },
      "execution_count": null,
      "outputs": []
    },
    {
      "cell_type": "code",
      "source": [
        "df.loc[df['Group'].isin(group_name)]"
      ],
      "metadata": {
        "id": "KnoW8QgtJois"
      },
      "execution_count": null,
      "outputs": []
    },
    {
      "cell_type": "markdown",
      "source": [
        "## 행(row), 열(column) 추가 및 삭제\n",
        ">- 행 추가 : `df.append('추가할 행 정도(dict 또는 Series/DataFrame 타입)`\n",
        "    - 인덱스를 무시하는 옵션 **ignore_index=True**을 반드시 추가해야 한다. \n",
        ">- 열 추가 : **df['추가할 열 이름'] ='추가할 일 정보(list or Series type)**\n",
        ">-행/ 열 삭제:\n",
        "    -행 삭제 :**df.drop(index=['delete row index'])**\n",
        "    -열 삭제 : **df.drop(columns=('delete column name'])**"
      ],
      "metadata": {
        "id": "SMea87M13x2g"
      }
    },
    {
      "cell_type": "code",
      "source": [
        "df"
      ],
      "metadata": {
        "id": "G8Pd6_HnJvSg"
      },
      "execution_count": null,
      "outputs": []
    },
    {
      "cell_type": "markdown",
      "source": [
        "> 딕셔너리(dict)를 활용한 행 추가"
      ],
      "metadata": {
        "id": "VuAi8Z434wHp"
      }
    },
    {
      "cell_type": "code",
      "source": [
        "new_row = {'Stage Name' : 'FastCampus',\n",
        "           'Full name' : 'FastCampus',\n",
        "           'Korean Name' : '패스트캠퍼스',\n",
        "           'K. Stage Name' : '패캠',\n",
        "           'Date of Birth' : '2017-01-01',\n",
        "           'Group' : 'Fc',\n",
        "           'Country' : 'South Korea',\n",
        "           'Second Country' : None,\n",
        "           'Height' : 180,\n",
        "           'Weight' : 80}\n",
        "# None, 숫자는 ''로 감싸주지 않는다. (Null value, int 값)"
      ],
      "metadata": {
        "id": "Sa9aZ29v3m-F"
      },
      "execution_count": null,
      "outputs": []
    },
    {
      "cell_type": "code",
      "source": [
        "df = df.append(new_row, ignore_index=True)\n",
        "df"
      ],
      "metadata": {
        "id": "zN0K831W5d3k"
      },
      "execution_count": null,
      "outputs": []
    },
    {
      "cell_type": "markdown",
      "source": [
        "> Series를 활용한 행 추가"
      ],
      "metadata": {
        "id": "x53skXKp53sA"
      }
    },
    {
      "cell_type": "code",
      "source": [
        "type(df.iloc[-1])"
      ],
      "metadata": {
        "id": "Er0Bj9cf5wWj"
      },
      "execution_count": null,
      "outputs": []
    },
    {
      "cell_type": "code",
      "source": [
        "df.append(df.iloc[-1])"
      ],
      "metadata": {
        "id": "R7AnKhPJ58z6"
      },
      "execution_count": null,
      "outputs": []
    },
    {
      "cell_type": "markdown",
      "source": [
        "> column append(열 추가\n",
        ">- `df['append column name'] = ['column value list']`\n",
        ">- append type list , len = all row count.\n",
        ">- df['추가할 열 이름'] = ['열에 대입할 값 리스트']\n",
        ">- 리스트 형으로 열을 추가할 경우, 길이가 전체 행 수와 같아야 한다."
      ],
      "metadata": {
        "id": "ijsCUQFj6Ujx"
      }
    },
    {
      "cell_type": "code",
      "source": [
        "df"
      ],
      "metadata": {
        "id": "aG_w8NPS6J4X"
      },
      "execution_count": null,
      "outputs": []
    },
    {
      "cell_type": "code",
      "source": [
        "df['Blood Type'] = 'A'"
      ],
      "metadata": {
        "id": "za0CAOjJ67ow"
      },
      "execution_count": null,
      "outputs": []
    },
    {
      "cell_type": "code",
      "source": [
        "df"
      ],
      "metadata": {
        "id": "4ruFZdBc7AzB"
      },
      "execution_count": null,
      "outputs": []
    },
    {
      "cell_type": "code",
      "source": [
        "len(df)"
      ],
      "metadata": {
        "id": "-HCEOQYV7BXO"
      },
      "execution_count": null,
      "outputs": []
    },
    {
      "cell_type": "code",
      "source": [
        "df['Blood Type'] = ['A']*5 + ['B'] * 5\n",
        "df"
      ],
      "metadata": {
        "id": "a16DSGBZ7Hpl"
      },
      "execution_count": null,
      "outputs": []
    },
    {
      "cell_type": "markdown",
      "source": [
        "> row/ column remove\n",
        ">- remove row : `df.drop(index=['delete row index'])\n",
        ">- remove column : `df.drop(columns=['remove column name'])\n"
      ],
      "metadata": {
        "id": "CMONM3aV71dW"
      }
    },
    {
      "cell_type": "code",
      "source": [
        "df = df.drop(index=['10,11,12'])\n",
        "# 값들이 없어서 error"
      ],
      "metadata": {
        "id": "0iIs6v3O8b-k"
      },
      "execution_count": null,
      "outputs": []
    },
    {
      "cell_type": "code",
      "source": [
        "df = df.drop(columns=['Blood Type'])\n",
        "df"
      ],
      "metadata": {
        "id": "0YG9XWoP7yP-"
      },
      "execution_count": null,
      "outputs": []
    },
    {
      "cell_type": "markdown",
      "source": [
        "## 통계값 계산 및 정렬 방법 익히기"
      ],
      "metadata": {
        "id": "b7a_F3EM4KLv"
      }
    },
    {
      "cell_type": "code",
      "source": [
        "df = pd.read_csv('http://bit.ly/3gRXTfD')"
      ],
      "metadata": {
        "id": "3HI65NPI8VGi"
      },
      "execution_count": null,
      "outputs": []
    },
    {
      "cell_type": "code",
      "source": [
        "df = df.iloc[:,1:11].head(8)\n",
        "df"
      ],
      "metadata": {
        "id": "nGKxglBo4gRj"
      },
      "execution_count": null,
      "outputs": []
    },
    {
      "cell_type": "markdown",
      "source": [
        "### 요약 정보 확인\n",
        ">- `info()` = Null값과 컬럼수, 데이터 타입 확인할 때 사용된다."
      ],
      "metadata": {
        "id": "EjCA9ete5TP7"
      }
    },
    {
      "cell_type": "code",
      "source": [
        "df.info()"
      ],
      "metadata": {
        "id": "4tEE7Xex4hSu"
      },
      "execution_count": null,
      "outputs": []
    },
    {
      "cell_type": "markdown",
      "source": [
        "- `shape` 을 사용하여 데이터 프레임 형태 확인\n",
        ">- `shape`은 튜플(tuple)형태로 데이터 프레임의 형태를 알려준다. 첫번째는 row, 두번째는 column 정보이다"
      ],
      "metadata": {
        "id": "gUzlEUk75lZC"
      }
    },
    {
      "cell_type": "code",
      "source": [
        "df.shape\n",
        "# row = 8//// column = 10"
      ],
      "metadata": {
        "id": "c6OAL-sQ5hI1"
      },
      "execution_count": null,
      "outputs": []
    },
    {
      "cell_type": "markdown",
      "source": [
        "- `head()`, `tail()`을 사용한 부분 정보 출력"
      ],
      "metadata": {
        "id": "OU0F2N7m6Vm0"
      }
    },
    {
      "cell_type": "code",
      "source": [
        "# .head() --- 상위 10개 출력\n",
        "# .head(n) --- 상위 n개 출력\n",
        "# .tail() --- 하위 10개 출력\n",
        "# .tail(n) --- 하위 n개 출력\n",
        "df.head(4)"
      ],
      "metadata": {
        "id": "zICG44_I5zjo"
      },
      "execution_count": null,
      "outputs": []
    },
    {
      "cell_type": "code",
      "source": [
        "df.tail(3)"
      ],
      "metadata": {
        "id": "89QwS6H06QfW"
      },
      "execution_count": null,
      "outputs": []
    },
    {
      "cell_type": "markdown",
      "source": [
        ">`describe()` 를 사용한 통계 정보 확인\n",
        ">- `describe()`는 주로 데이터 분석을 시작하기 전, 숫자형(int) 데이터가 어떻게 생겼는지 빠르게 요약 통계 정보를 확인\n",
        ">- 갯수(count), 평균(mean), 표준편차(std), 최소값(min), 1사분위수(25%), 2사분위수(50%), 3사분위수(75%), 최대값(max)"
      ],
      "metadata": {
        "id": "-EH--05p6d6r"
      }
    },
    {
      "cell_type": "code",
      "source": [
        "df.describe() # 숫자로 이루어진 columns의 평균값"
      ],
      "metadata": {
        "id": "U7d9aOrJ6Rzk"
      },
      "execution_count": null,
      "outputs": []
    },
    {
      "cell_type": "markdown",
      "source": [
        "### 데이터 프레임 정렬하기"
      ],
      "metadata": {
        "id": "jhVceNq_7SG7"
      }
    },
    {
      "cell_type": "markdown",
      "source": [
        "> 인덱스(index) 기준 정렬\n",
        ">- `sort_index()`는 데이터 프레임의 인덱스를 기준으로 정렬해준다."
      ],
      "metadata": {
        "id": "POY2C7AS7bvD"
      }
    },
    {
      "cell_type": "code",
      "source": [
        "# 오름차순 정렬 index (default 정렬) index기준\n",
        "df.sort_index()"
      ],
      "metadata": {
        "id": "bG--B7mH7L0G"
      },
      "execution_count": null,
      "outputs": []
    },
    {
      "cell_type": "code",
      "source": [
        "# 내림차순 정렬 (ascending=False 추가) index기준\n",
        "df.sort_index(ascending=False)"
      ],
      "metadata": {
        "id": "WF7wYqUU7k59"
      },
      "execution_count": null,
      "outputs": []
    },
    {
      "cell_type": "markdown",
      "source": [
        "> 값(value) 기준 정렬\n",
        ">- `sort_values()`는 데이터 프레임의 값을 기준으로 정렬"
      ],
      "metadata": {
        "id": "oW7gW0Kp79Fi"
      }
    },
    {
      "cell_type": "code",
      "source": [
        "df.sort_values(by='Height')"
      ],
      "metadata": {
        "id": "DyQOdi7S721E"
      },
      "execution_count": null,
      "outputs": []
    },
    {
      "cell_type": "code",
      "source": [
        "# 내림차순\n",
        "df.sort_values(by='Height', ascending=False)"
      ],
      "metadata": {
        "id": "LXea_n_h8HDy"
      },
      "execution_count": null,
      "outputs": []
    },
    {
      "cell_type": "markdown",
      "source": [
        "> 복수 값(Multi-values)기준 정렬\n",
        ">- `sort_values(by=['column', ''column2',...]`는 복수 값을 기준으로도 데이터 프레임을 정렬할 수 있다.\n",
        ">- 첫번째 값을 기준으로 우선 정렬을 하고, 그다음 두번째 컬럼 기준으로 정렬"
      ],
      "metadata": {
        "id": "yOOQRue88bT6"
      }
    },
    {
      "cell_type": "code",
      "source": [
        "#복수 값 기준 정렬\n",
        "df.sort_values(by=['Height', 'Weight'])"
      ],
      "metadata": {
        "id": "FseKq7f68YCH"
      },
      "execution_count": null,
      "outputs": []
    },
    {
      "cell_type": "code",
      "source": [
        "#복수 값 내림차순\n",
        "df.sort_values(by=['Height', 'Weight'], ascending=False)"
      ],
      "metadata": {
        "id": "PS49A1tf88fX"
      },
      "execution_count": null,
      "outputs": []
    },
    {
      "cell_type": "markdown",
      "source": [
        "- df.sort_values(by=['Height', 'Weight'], ascending=[True, False])\n",
        "-`Height column`은 오름차순으로 정렬\n",
        "`Weight column`은 내림차순으로 정렬\n",
        "However `Height`먼저 정렬후 Weight정렬"
      ],
      "metadata": {
        "id": "6cfP4Y859aEm"
      }
    },
    {
      "cell_type": "code",
      "source": [
        "df.sort_values(by=['Height', 'Weight'], ascending=[True, False])"
      ],
      "metadata": {
        "id": "PcHk0R8O9JrA"
      },
      "execution_count": null,
      "outputs": []
    },
    {
      "cell_type": "markdown",
      "source": [
        "## 피벗 테이블(pivot table) 기능과 그룹 통계(groupby)"
      ],
      "metadata": {
        "id": "qIy-HHviEeRA"
      }
    },
    {
      "cell_type": "code",
      "source": [
        "df= pd.read_csv('https://bit.ly/3gRXTfD')"
      ],
      "metadata": {
        "id": "16dU3yLi9VXQ"
      },
      "execution_count": 2,
      "outputs": []
    },
    {
      "cell_type": "code",
      "source": [
        "df = df.iloc[:, 1:11].head(200)\n",
        "df = df.loc[(df['Height']!=0)&(df['Weight']!=0)].dropna(subset=['Group'], axis=0).reset_index(drop=True)"
      ],
      "metadata": {
        "id": "1KidgLRcElWf"
      },
      "execution_count": 3,
      "outputs": []
    },
    {
      "cell_type": "code",
      "source": [
        "df.info()"
      ],
      "metadata": {
        "id": "0BMJF1Z_FRzf"
      },
      "execution_count": null,
      "outputs": []
    },
    {
      "cell_type": "markdown",
      "source": [
        "### 피벗 테이블 (pivot_table)"
      ],
      "metadata": {
        "id": "5HrHQkbgFWn_"
      }
    },
    {
      "cell_type": "markdown",
      "source": [
        ">피벗 테이블(pivot table)\n",
        ">- 피벗 테이블 = 방대한 표(데이터베이스, 스트레드 시트,...) 데이터를 요약하는 통계표입니다.\n",
        ">-이 요약에는 합계, 평균, 기타 통계가 포함/ 우리가 원하는 방식으로 묶거나 정렬 가능\n",
        ">- 엑셀에서 사용되는 피벗 테이블과 동일 개념\n",
        ">- 기본 사용법\n",
        "    - **`pd.pivot_table(df, index = 'row index', columns = 'columns index', values = '조회하고 싶은 값', aggfunc='집계 방식')`**"
      ],
      "metadata": {
        "id": "GC2yIpz-FhqC"
      }
    },
    {
      "cell_type": "code",
      "source": [
        "df.head()"
      ],
      "metadata": {
        "colab": {
          "base_uri": "https://localhost:8080/",
          "height": 350
        },
        "id": "Rsoa_H2bGSJC",
        "outputId": "c9a862ce-9c3d-4209-e9d0-e36ca2c9a99f"
      },
      "execution_count": 4,
      "outputs": [
        {
          "output_type": "execute_result",
          "data": {
            "text/plain": [
              "  Stage Name      Full Name Korean Name K. Stage Name Date of Birth Group  \\\n",
              "0    Taeyeon    Kim Taeyeon         김태연            태연    1989-03-09  SNSD   \n",
              "1      Sunny     Lee Sunkyu         이순규            써니    1989-05-15  SNSD   \n",
              "2    Tiffany  Hwang Miyoung         황미영           티파니    1989-08-01  SNSD   \n",
              "3    Hyoyeon    Kim Hyoyeon         김효연            효연    1989-09-22  SNSD   \n",
              "4       Yuri      Kwon Yuri         권유리            유리    1989-12-05  SNSD   \n",
              "\n",
              "       Country Second Country  Height  Weight  \n",
              "0  South Korea            NaN     160      44  \n",
              "1  South Korea            NaN     158      43  \n",
              "2  South Korea            USA     163      50  \n",
              "3  South Korea            NaN     158      48  \n",
              "4  South Korea            NaN     167      45  "
            ],
            "text/html": [
              "\n",
              "  <div id=\"df-3877cf7b-e547-4f37-9bc1-ac3446f7de73\">\n",
              "    <div class=\"colab-df-container\">\n",
              "      <div>\n",
              "<style scoped>\n",
              "    .dataframe tbody tr th:only-of-type {\n",
              "        vertical-align: middle;\n",
              "    }\n",
              "\n",
              "    .dataframe tbody tr th {\n",
              "        vertical-align: top;\n",
              "    }\n",
              "\n",
              "    .dataframe thead th {\n",
              "        text-align: right;\n",
              "    }\n",
              "</style>\n",
              "<table border=\"1\" class=\"dataframe\">\n",
              "  <thead>\n",
              "    <tr style=\"text-align: right;\">\n",
              "      <th></th>\n",
              "      <th>Stage Name</th>\n",
              "      <th>Full Name</th>\n",
              "      <th>Korean Name</th>\n",
              "      <th>K. Stage Name</th>\n",
              "      <th>Date of Birth</th>\n",
              "      <th>Group</th>\n",
              "      <th>Country</th>\n",
              "      <th>Second Country</th>\n",
              "      <th>Height</th>\n",
              "      <th>Weight</th>\n",
              "    </tr>\n",
              "  </thead>\n",
              "  <tbody>\n",
              "    <tr>\n",
              "      <th>0</th>\n",
              "      <td>Taeyeon</td>\n",
              "      <td>Kim Taeyeon</td>\n",
              "      <td>김태연</td>\n",
              "      <td>태연</td>\n",
              "      <td>1989-03-09</td>\n",
              "      <td>SNSD</td>\n",
              "      <td>South Korea</td>\n",
              "      <td>NaN</td>\n",
              "      <td>160</td>\n",
              "      <td>44</td>\n",
              "    </tr>\n",
              "    <tr>\n",
              "      <th>1</th>\n",
              "      <td>Sunny</td>\n",
              "      <td>Lee Sunkyu</td>\n",
              "      <td>이순규</td>\n",
              "      <td>써니</td>\n",
              "      <td>1989-05-15</td>\n",
              "      <td>SNSD</td>\n",
              "      <td>South Korea</td>\n",
              "      <td>NaN</td>\n",
              "      <td>158</td>\n",
              "      <td>43</td>\n",
              "    </tr>\n",
              "    <tr>\n",
              "      <th>2</th>\n",
              "      <td>Tiffany</td>\n",
              "      <td>Hwang Miyoung</td>\n",
              "      <td>황미영</td>\n",
              "      <td>티파니</td>\n",
              "      <td>1989-08-01</td>\n",
              "      <td>SNSD</td>\n",
              "      <td>South Korea</td>\n",
              "      <td>USA</td>\n",
              "      <td>163</td>\n",
              "      <td>50</td>\n",
              "    </tr>\n",
              "    <tr>\n",
              "      <th>3</th>\n",
              "      <td>Hyoyeon</td>\n",
              "      <td>Kim Hyoyeon</td>\n",
              "      <td>김효연</td>\n",
              "      <td>효연</td>\n",
              "      <td>1989-09-22</td>\n",
              "      <td>SNSD</td>\n",
              "      <td>South Korea</td>\n",
              "      <td>NaN</td>\n",
              "      <td>158</td>\n",
              "      <td>48</td>\n",
              "    </tr>\n",
              "    <tr>\n",
              "      <th>4</th>\n",
              "      <td>Yuri</td>\n",
              "      <td>Kwon Yuri</td>\n",
              "      <td>권유리</td>\n",
              "      <td>유리</td>\n",
              "      <td>1989-12-05</td>\n",
              "      <td>SNSD</td>\n",
              "      <td>South Korea</td>\n",
              "      <td>NaN</td>\n",
              "      <td>167</td>\n",
              "      <td>45</td>\n",
              "    </tr>\n",
              "  </tbody>\n",
              "</table>\n",
              "</div>\n",
              "      <button class=\"colab-df-convert\" onclick=\"convertToInteractive('df-3877cf7b-e547-4f37-9bc1-ac3446f7de73')\"\n",
              "              title=\"Convert this dataframe to an interactive table.\"\n",
              "              style=\"display:none;\">\n",
              "        \n",
              "  <svg xmlns=\"http://www.w3.org/2000/svg\" height=\"24px\"viewBox=\"0 0 24 24\"\n",
              "       width=\"24px\">\n",
              "    <path d=\"M0 0h24v24H0V0z\" fill=\"none\"/>\n",
              "    <path d=\"M18.56 5.44l.94 2.06.94-2.06 2.06-.94-2.06-.94-.94-2.06-.94 2.06-2.06.94zm-11 1L8.5 8.5l.94-2.06 2.06-.94-2.06-.94L8.5 2.5l-.94 2.06-2.06.94zm10 10l.94 2.06.94-2.06 2.06-.94-2.06-.94-.94-2.06-.94 2.06-2.06.94z\"/><path d=\"M17.41 7.96l-1.37-1.37c-.4-.4-.92-.59-1.43-.59-.52 0-1.04.2-1.43.59L10.3 9.45l-7.72 7.72c-.78.78-.78 2.05 0 2.83L4 21.41c.39.39.9.59 1.41.59.51 0 1.02-.2 1.41-.59l7.78-7.78 2.81-2.81c.8-.78.8-2.07 0-2.86zM5.41 20L4 18.59l7.72-7.72 1.47 1.35L5.41 20z\"/>\n",
              "  </svg>\n",
              "      </button>\n",
              "      \n",
              "  <style>\n",
              "    .colab-df-container {\n",
              "      display:flex;\n",
              "      flex-wrap:wrap;\n",
              "      gap: 12px;\n",
              "    }\n",
              "\n",
              "    .colab-df-convert {\n",
              "      background-color: #E8F0FE;\n",
              "      border: none;\n",
              "      border-radius: 50%;\n",
              "      cursor: pointer;\n",
              "      display: none;\n",
              "      fill: #1967D2;\n",
              "      height: 32px;\n",
              "      padding: 0 0 0 0;\n",
              "      width: 32px;\n",
              "    }\n",
              "\n",
              "    .colab-df-convert:hover {\n",
              "      background-color: #E2EBFA;\n",
              "      box-shadow: 0px 1px 2px rgba(60, 64, 67, 0.3), 0px 1px 3px 1px rgba(60, 64, 67, 0.15);\n",
              "      fill: #174EA6;\n",
              "    }\n",
              "\n",
              "    [theme=dark] .colab-df-convert {\n",
              "      background-color: #3B4455;\n",
              "      fill: #D2E3FC;\n",
              "    }\n",
              "\n",
              "    [theme=dark] .colab-df-convert:hover {\n",
              "      background-color: #434B5C;\n",
              "      box-shadow: 0px 1px 3px 1px rgba(0, 0, 0, 0.15);\n",
              "      filter: drop-shadow(0px 1px 2px rgba(0, 0, 0, 0.3));\n",
              "      fill: #FFFFFF;\n",
              "    }\n",
              "  </style>\n",
              "\n",
              "      <script>\n",
              "        const buttonEl =\n",
              "          document.querySelector('#df-3877cf7b-e547-4f37-9bc1-ac3446f7de73 button.colab-df-convert');\n",
              "        buttonEl.style.display =\n",
              "          google.colab.kernel.accessAllowed ? 'block' : 'none';\n",
              "\n",
              "        async function convertToInteractive(key) {\n",
              "          const element = document.querySelector('#df-3877cf7b-e547-4f37-9bc1-ac3446f7de73');\n",
              "          const dataTable =\n",
              "            await google.colab.kernel.invokeFunction('convertToInteractive',\n",
              "                                                     [key], {});\n",
              "          if (!dataTable) return;\n",
              "\n",
              "          const docLinkHtml = 'Like what you see? Visit the ' +\n",
              "            '<a target=\"_blank\" href=https://colab.research.google.com/notebooks/data_table.ipynb>data table notebook</a>'\n",
              "            + ' to learn more about interactive tables.';\n",
              "          element.innerHTML = '';\n",
              "          dataTable['output_type'] = 'display_data';\n",
              "          await google.colab.output.renderOutput(dataTable, element);\n",
              "          const docLink = document.createElement('div');\n",
              "          docLink.innerHTML = docLinkHtml;\n",
              "          element.appendChild(docLink);\n",
              "        }\n",
              "      </script>\n",
              "    </div>\n",
              "  </div>\n",
              "  "
            ]
          },
          "metadata": {},
          "execution_count": 4
        }
      ]
    },
    {
      "cell_type": "code",
      "source": [
        "# pd.pivot_table(csv_name, row_name, column_name, values, aggfunc(집계방식))\n",
        "pd.pivot_table(df, index='Group', columns='Country', values='Height', aggfunc='mean')"
      ],
      "metadata": {
        "colab": {
          "base_uri": "https://localhost:8080/",
          "height": 483
        },
        "id": "nvVRFjlmltBn",
        "outputId": "48463dc0-d009-465b-8a6a-3452c6018ec4"
      },
      "execution_count": 5,
      "outputs": [
        {
          "output_type": "execute_result",
          "data": {
            "text/plain": [
              "Country     China  South Korea  Thailand\n",
              "Group                                   \n",
              "9Muses        NaN   170.000000       NaN\n",
              "AoA           NaN   166.500000       NaN\n",
              "BLACKPINK     NaN   162.500000     170.0\n",
              "CLC           NaN   167.000000       NaN\n",
              "Girl's Day    NaN   166.750000       NaN\n",
              "Gugudan       NaN   165.000000       NaN\n",
              "LABOUM        NaN   165.250000       NaN\n",
              "Lovelyz       NaN   164.000000       NaN\n",
              "Mamamoo       NaN   163.000000       NaN\n",
              "Oh My Girl    NaN   161.714286       NaN\n",
              "SNSD          NaN   163.750000       NaN\n",
              "T-ara         NaN   165.750000       NaN\n",
              "f(x)        168.0          NaN       NaN"
            ],
            "text/html": [
              "\n",
              "  <div id=\"df-feaf4ae0-c079-4a11-8262-d75bf65b27bf\">\n",
              "    <div class=\"colab-df-container\">\n",
              "      <div>\n",
              "<style scoped>\n",
              "    .dataframe tbody tr th:only-of-type {\n",
              "        vertical-align: middle;\n",
              "    }\n",
              "\n",
              "    .dataframe tbody tr th {\n",
              "        vertical-align: top;\n",
              "    }\n",
              "\n",
              "    .dataframe thead th {\n",
              "        text-align: right;\n",
              "    }\n",
              "</style>\n",
              "<table border=\"1\" class=\"dataframe\">\n",
              "  <thead>\n",
              "    <tr style=\"text-align: right;\">\n",
              "      <th>Country</th>\n",
              "      <th>China</th>\n",
              "      <th>South Korea</th>\n",
              "      <th>Thailand</th>\n",
              "    </tr>\n",
              "    <tr>\n",
              "      <th>Group</th>\n",
              "      <th></th>\n",
              "      <th></th>\n",
              "      <th></th>\n",
              "    </tr>\n",
              "  </thead>\n",
              "  <tbody>\n",
              "    <tr>\n",
              "      <th>9Muses</th>\n",
              "      <td>NaN</td>\n",
              "      <td>170.000000</td>\n",
              "      <td>NaN</td>\n",
              "    </tr>\n",
              "    <tr>\n",
              "      <th>AoA</th>\n",
              "      <td>NaN</td>\n",
              "      <td>166.500000</td>\n",
              "      <td>NaN</td>\n",
              "    </tr>\n",
              "    <tr>\n",
              "      <th>BLACKPINK</th>\n",
              "      <td>NaN</td>\n",
              "      <td>162.500000</td>\n",
              "      <td>170.0</td>\n",
              "    </tr>\n",
              "    <tr>\n",
              "      <th>CLC</th>\n",
              "      <td>NaN</td>\n",
              "      <td>167.000000</td>\n",
              "      <td>NaN</td>\n",
              "    </tr>\n",
              "    <tr>\n",
              "      <th>Girl's Day</th>\n",
              "      <td>NaN</td>\n",
              "      <td>166.750000</td>\n",
              "      <td>NaN</td>\n",
              "    </tr>\n",
              "    <tr>\n",
              "      <th>Gugudan</th>\n",
              "      <td>NaN</td>\n",
              "      <td>165.000000</td>\n",
              "      <td>NaN</td>\n",
              "    </tr>\n",
              "    <tr>\n",
              "      <th>LABOUM</th>\n",
              "      <td>NaN</td>\n",
              "      <td>165.250000</td>\n",
              "      <td>NaN</td>\n",
              "    </tr>\n",
              "    <tr>\n",
              "      <th>Lovelyz</th>\n",
              "      <td>NaN</td>\n",
              "      <td>164.000000</td>\n",
              "      <td>NaN</td>\n",
              "    </tr>\n",
              "    <tr>\n",
              "      <th>Mamamoo</th>\n",
              "      <td>NaN</td>\n",
              "      <td>163.000000</td>\n",
              "      <td>NaN</td>\n",
              "    </tr>\n",
              "    <tr>\n",
              "      <th>Oh My Girl</th>\n",
              "      <td>NaN</td>\n",
              "      <td>161.714286</td>\n",
              "      <td>NaN</td>\n",
              "    </tr>\n",
              "    <tr>\n",
              "      <th>SNSD</th>\n",
              "      <td>NaN</td>\n",
              "      <td>163.750000</td>\n",
              "      <td>NaN</td>\n",
              "    </tr>\n",
              "    <tr>\n",
              "      <th>T-ara</th>\n",
              "      <td>NaN</td>\n",
              "      <td>165.750000</td>\n",
              "      <td>NaN</td>\n",
              "    </tr>\n",
              "    <tr>\n",
              "      <th>f(x)</th>\n",
              "      <td>168.0</td>\n",
              "      <td>NaN</td>\n",
              "      <td>NaN</td>\n",
              "    </tr>\n",
              "  </tbody>\n",
              "</table>\n",
              "</div>\n",
              "      <button class=\"colab-df-convert\" onclick=\"convertToInteractive('df-feaf4ae0-c079-4a11-8262-d75bf65b27bf')\"\n",
              "              title=\"Convert this dataframe to an interactive table.\"\n",
              "              style=\"display:none;\">\n",
              "        \n",
              "  <svg xmlns=\"http://www.w3.org/2000/svg\" height=\"24px\"viewBox=\"0 0 24 24\"\n",
              "       width=\"24px\">\n",
              "    <path d=\"M0 0h24v24H0V0z\" fill=\"none\"/>\n",
              "    <path d=\"M18.56 5.44l.94 2.06.94-2.06 2.06-.94-2.06-.94-.94-2.06-.94 2.06-2.06.94zm-11 1L8.5 8.5l.94-2.06 2.06-.94-2.06-.94L8.5 2.5l-.94 2.06-2.06.94zm10 10l.94 2.06.94-2.06 2.06-.94-2.06-.94-.94-2.06-.94 2.06-2.06.94z\"/><path d=\"M17.41 7.96l-1.37-1.37c-.4-.4-.92-.59-1.43-.59-.52 0-1.04.2-1.43.59L10.3 9.45l-7.72 7.72c-.78.78-.78 2.05 0 2.83L4 21.41c.39.39.9.59 1.41.59.51 0 1.02-.2 1.41-.59l7.78-7.78 2.81-2.81c.8-.78.8-2.07 0-2.86zM5.41 20L4 18.59l7.72-7.72 1.47 1.35L5.41 20z\"/>\n",
              "  </svg>\n",
              "      </button>\n",
              "      \n",
              "  <style>\n",
              "    .colab-df-container {\n",
              "      display:flex;\n",
              "      flex-wrap:wrap;\n",
              "      gap: 12px;\n",
              "    }\n",
              "\n",
              "    .colab-df-convert {\n",
              "      background-color: #E8F0FE;\n",
              "      border: none;\n",
              "      border-radius: 50%;\n",
              "      cursor: pointer;\n",
              "      display: none;\n",
              "      fill: #1967D2;\n",
              "      height: 32px;\n",
              "      padding: 0 0 0 0;\n",
              "      width: 32px;\n",
              "    }\n",
              "\n",
              "    .colab-df-convert:hover {\n",
              "      background-color: #E2EBFA;\n",
              "      box-shadow: 0px 1px 2px rgba(60, 64, 67, 0.3), 0px 1px 3px 1px rgba(60, 64, 67, 0.15);\n",
              "      fill: #174EA6;\n",
              "    }\n",
              "\n",
              "    [theme=dark] .colab-df-convert {\n",
              "      background-color: #3B4455;\n",
              "      fill: #D2E3FC;\n",
              "    }\n",
              "\n",
              "    [theme=dark] .colab-df-convert:hover {\n",
              "      background-color: #434B5C;\n",
              "      box-shadow: 0px 1px 3px 1px rgba(0, 0, 0, 0.15);\n",
              "      filter: drop-shadow(0px 1px 2px rgba(0, 0, 0, 0.3));\n",
              "      fill: #FFFFFF;\n",
              "    }\n",
              "  </style>\n",
              "\n",
              "      <script>\n",
              "        const buttonEl =\n",
              "          document.querySelector('#df-feaf4ae0-c079-4a11-8262-d75bf65b27bf button.colab-df-convert');\n",
              "        buttonEl.style.display =\n",
              "          google.colab.kernel.accessAllowed ? 'block' : 'none';\n",
              "\n",
              "        async function convertToInteractive(key) {\n",
              "          const element = document.querySelector('#df-feaf4ae0-c079-4a11-8262-d75bf65b27bf');\n",
              "          const dataTable =\n",
              "            await google.colab.kernel.invokeFunction('convertToInteractive',\n",
              "                                                     [key], {});\n",
              "          if (!dataTable) return;\n",
              "\n",
              "          const docLinkHtml = 'Like what you see? Visit the ' +\n",
              "            '<a target=\"_blank\" href=https://colab.research.google.com/notebooks/data_table.ipynb>data table notebook</a>'\n",
              "            + ' to learn more about interactive tables.';\n",
              "          element.innerHTML = '';\n",
              "          dataTable['output_type'] = 'display_data';\n",
              "          await google.colab.output.renderOutput(dataTable, element);\n",
              "          const docLink = document.createElement('div');\n",
              "          docLink.innerHTML = docLinkHtml;\n",
              "          element.appendChild(docLink);\n",
              "        }\n",
              "      </script>\n",
              "    </div>\n",
              "  </div>\n",
              "  "
            ]
          },
          "metadata": {},
          "execution_count": 5
        }
      ]
    },
    {
      "cell_type": "code",
      "source": [
        "pd.pivot_table(df, index='Group', columns='Country', values='Height', aggfunc=sum)"
      ],
      "metadata": {
        "colab": {
          "base_uri": "https://localhost:8080/",
          "height": 483
        },
        "id": "WFxvav1Ol68N",
        "outputId": "dc49e077-0a1e-4dd0-ec86-9b0b57242f79"
      },
      "execution_count": 7,
      "outputs": [
        {
          "output_type": "execute_result",
          "data": {
            "text/plain": [
              "Country     China  South Korea  Thailand\n",
              "Group                                   \n",
              "9Muses        NaN        850.0       NaN\n",
              "AoA           NaN        666.0       NaN\n",
              "BLACKPINK     NaN        325.0     170.0\n",
              "CLC           NaN        167.0       NaN\n",
              "Girl's Day    NaN        667.0       NaN\n",
              "Gugudan       NaN        495.0       NaN\n",
              "LABOUM        NaN        661.0       NaN\n",
              "Lovelyz       NaN       1148.0       NaN\n",
              "Mamamoo       NaN        652.0       NaN\n",
              "Oh My Girl    NaN       1132.0       NaN\n",
              "SNSD          NaN       1310.0       NaN\n",
              "T-ara         NaN        663.0       NaN\n",
              "f(x)        168.0          NaN       NaN"
            ],
            "text/html": [
              "\n",
              "  <div id=\"df-2ed98281-da19-464f-ae54-149f345324c1\">\n",
              "    <div class=\"colab-df-container\">\n",
              "      <div>\n",
              "<style scoped>\n",
              "    .dataframe tbody tr th:only-of-type {\n",
              "        vertical-align: middle;\n",
              "    }\n",
              "\n",
              "    .dataframe tbody tr th {\n",
              "        vertical-align: top;\n",
              "    }\n",
              "\n",
              "    .dataframe thead th {\n",
              "        text-align: right;\n",
              "    }\n",
              "</style>\n",
              "<table border=\"1\" class=\"dataframe\">\n",
              "  <thead>\n",
              "    <tr style=\"text-align: right;\">\n",
              "      <th>Country</th>\n",
              "      <th>China</th>\n",
              "      <th>South Korea</th>\n",
              "      <th>Thailand</th>\n",
              "    </tr>\n",
              "    <tr>\n",
              "      <th>Group</th>\n",
              "      <th></th>\n",
              "      <th></th>\n",
              "      <th></th>\n",
              "    </tr>\n",
              "  </thead>\n",
              "  <tbody>\n",
              "    <tr>\n",
              "      <th>9Muses</th>\n",
              "      <td>NaN</td>\n",
              "      <td>850.0</td>\n",
              "      <td>NaN</td>\n",
              "    </tr>\n",
              "    <tr>\n",
              "      <th>AoA</th>\n",
              "      <td>NaN</td>\n",
              "      <td>666.0</td>\n",
              "      <td>NaN</td>\n",
              "    </tr>\n",
              "    <tr>\n",
              "      <th>BLACKPINK</th>\n",
              "      <td>NaN</td>\n",
              "      <td>325.0</td>\n",
              "      <td>170.0</td>\n",
              "    </tr>\n",
              "    <tr>\n",
              "      <th>CLC</th>\n",
              "      <td>NaN</td>\n",
              "      <td>167.0</td>\n",
              "      <td>NaN</td>\n",
              "    </tr>\n",
              "    <tr>\n",
              "      <th>Girl's Day</th>\n",
              "      <td>NaN</td>\n",
              "      <td>667.0</td>\n",
              "      <td>NaN</td>\n",
              "    </tr>\n",
              "    <tr>\n",
              "      <th>Gugudan</th>\n",
              "      <td>NaN</td>\n",
              "      <td>495.0</td>\n",
              "      <td>NaN</td>\n",
              "    </tr>\n",
              "    <tr>\n",
              "      <th>LABOUM</th>\n",
              "      <td>NaN</td>\n",
              "      <td>661.0</td>\n",
              "      <td>NaN</td>\n",
              "    </tr>\n",
              "    <tr>\n",
              "      <th>Lovelyz</th>\n",
              "      <td>NaN</td>\n",
              "      <td>1148.0</td>\n",
              "      <td>NaN</td>\n",
              "    </tr>\n",
              "    <tr>\n",
              "      <th>Mamamoo</th>\n",
              "      <td>NaN</td>\n",
              "      <td>652.0</td>\n",
              "      <td>NaN</td>\n",
              "    </tr>\n",
              "    <tr>\n",
              "      <th>Oh My Girl</th>\n",
              "      <td>NaN</td>\n",
              "      <td>1132.0</td>\n",
              "      <td>NaN</td>\n",
              "    </tr>\n",
              "    <tr>\n",
              "      <th>SNSD</th>\n",
              "      <td>NaN</td>\n",
              "      <td>1310.0</td>\n",
              "      <td>NaN</td>\n",
              "    </tr>\n",
              "    <tr>\n",
              "      <th>T-ara</th>\n",
              "      <td>NaN</td>\n",
              "      <td>663.0</td>\n",
              "      <td>NaN</td>\n",
              "    </tr>\n",
              "    <tr>\n",
              "      <th>f(x)</th>\n",
              "      <td>168.0</td>\n",
              "      <td>NaN</td>\n",
              "      <td>NaN</td>\n",
              "    </tr>\n",
              "  </tbody>\n",
              "</table>\n",
              "</div>\n",
              "      <button class=\"colab-df-convert\" onclick=\"convertToInteractive('df-2ed98281-da19-464f-ae54-149f345324c1')\"\n",
              "              title=\"Convert this dataframe to an interactive table.\"\n",
              "              style=\"display:none;\">\n",
              "        \n",
              "  <svg xmlns=\"http://www.w3.org/2000/svg\" height=\"24px\"viewBox=\"0 0 24 24\"\n",
              "       width=\"24px\">\n",
              "    <path d=\"M0 0h24v24H0V0z\" fill=\"none\"/>\n",
              "    <path d=\"M18.56 5.44l.94 2.06.94-2.06 2.06-.94-2.06-.94-.94-2.06-.94 2.06-2.06.94zm-11 1L8.5 8.5l.94-2.06 2.06-.94-2.06-.94L8.5 2.5l-.94 2.06-2.06.94zm10 10l.94 2.06.94-2.06 2.06-.94-2.06-.94-.94-2.06-.94 2.06-2.06.94z\"/><path d=\"M17.41 7.96l-1.37-1.37c-.4-.4-.92-.59-1.43-.59-.52 0-1.04.2-1.43.59L10.3 9.45l-7.72 7.72c-.78.78-.78 2.05 0 2.83L4 21.41c.39.39.9.59 1.41.59.51 0 1.02-.2 1.41-.59l7.78-7.78 2.81-2.81c.8-.78.8-2.07 0-2.86zM5.41 20L4 18.59l7.72-7.72 1.47 1.35L5.41 20z\"/>\n",
              "  </svg>\n",
              "      </button>\n",
              "      \n",
              "  <style>\n",
              "    .colab-df-container {\n",
              "      display:flex;\n",
              "      flex-wrap:wrap;\n",
              "      gap: 12px;\n",
              "    }\n",
              "\n",
              "    .colab-df-convert {\n",
              "      background-color: #E8F0FE;\n",
              "      border: none;\n",
              "      border-radius: 50%;\n",
              "      cursor: pointer;\n",
              "      display: none;\n",
              "      fill: #1967D2;\n",
              "      height: 32px;\n",
              "      padding: 0 0 0 0;\n",
              "      width: 32px;\n",
              "    }\n",
              "\n",
              "    .colab-df-convert:hover {\n",
              "      background-color: #E2EBFA;\n",
              "      box-shadow: 0px 1px 2px rgba(60, 64, 67, 0.3), 0px 1px 3px 1px rgba(60, 64, 67, 0.15);\n",
              "      fill: #174EA6;\n",
              "    }\n",
              "\n",
              "    [theme=dark] .colab-df-convert {\n",
              "      background-color: #3B4455;\n",
              "      fill: #D2E3FC;\n",
              "    }\n",
              "\n",
              "    [theme=dark] .colab-df-convert:hover {\n",
              "      background-color: #434B5C;\n",
              "      box-shadow: 0px 1px 3px 1px rgba(0, 0, 0, 0.15);\n",
              "      filter: drop-shadow(0px 1px 2px rgba(0, 0, 0, 0.3));\n",
              "      fill: #FFFFFF;\n",
              "    }\n",
              "  </style>\n",
              "\n",
              "      <script>\n",
              "        const buttonEl =\n",
              "          document.querySelector('#df-2ed98281-da19-464f-ae54-149f345324c1 button.colab-df-convert');\n",
              "        buttonEl.style.display =\n",
              "          google.colab.kernel.accessAllowed ? 'block' : 'none';\n",
              "\n",
              "        async function convertToInteractive(key) {\n",
              "          const element = document.querySelector('#df-2ed98281-da19-464f-ae54-149f345324c1');\n",
              "          const dataTable =\n",
              "            await google.colab.kernel.invokeFunction('convertToInteractive',\n",
              "                                                     [key], {});\n",
              "          if (!dataTable) return;\n",
              "\n",
              "          const docLinkHtml = 'Like what you see? Visit the ' +\n",
              "            '<a target=\"_blank\" href=https://colab.research.google.com/notebooks/data_table.ipynb>data table notebook</a>'\n",
              "            + ' to learn more about interactive tables.';\n",
              "          element.innerHTML = '';\n",
              "          dataTable['output_type'] = 'display_data';\n",
              "          await google.colab.output.renderOutput(dataTable, element);\n",
              "          const docLink = document.createElement('div');\n",
              "          docLink.innerHTML = docLinkHtml;\n",
              "          element.appendChild(docLink);\n",
              "        }\n",
              "      </script>\n",
              "    </div>\n",
              "  </div>\n",
              "  "
            ]
          },
          "metadata": {},
          "execution_count": 7
        }
      ]
    },
    {
      "cell_type": "code",
      "source": [
        "pd.pivot_table(df, index='Group', columns='Country', values='Height',aggfunc='count'"
      ],
      "metadata": {
        "colab": {
          "base_uri": "https://localhost:8080/",
          "height": 135
        },
        "id": "fgCHiSflma-o",
        "outputId": "8c597370-25b4-4176-d21a-c4259cd7f5ff"
      },
      "execution_count": 9,
      "outputs": [
        {
          "output_type": "error",
          "ename": "SyntaxError",
          "evalue": "ignored",
          "traceback": [
            "\u001b[0;36m  File \u001b[0;32m\"<ipython-input-9-70aeb60dcf39>\"\u001b[0;36m, line \u001b[0;32m1\u001b[0m\n\u001b[0;31m    pd.pivot_table(df, index='Group', columns='Country', values='Height',aggfunc='count'\u001b[0m\n\u001b[0m                                                                                        ^\u001b[0m\n\u001b[0;31mSyntaxError\u001b[0m\u001b[0;31m:\u001b[0m unexpected EOF while parsing\n"
          ]
        }
      ]
    },
    {
      "cell_type": "code",
      "source": [],
      "metadata": {
        "id": "hxs_AF53ms9n"
      },
      "execution_count": null,
      "outputs": []
    }
  ]
}