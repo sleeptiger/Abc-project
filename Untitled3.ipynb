{
  "nbformat": 4,
  "nbformat_minor": 0,
  "metadata": {
    "colab": {
      "name": "Untitled3.ipynb",
      "provenance": []
    },
    "kernelspec": {
      "name": "python3",
      "display_name": "Python 3"
    },
    "language_info": {
      "name": "python"
    }
  },
  "cells": [
    {
      "cell_type": "code",
      "execution_count": 1,
      "metadata": {
        "id": "ZZWlaElQZuc7",
        "outputId": "f73dea28-c903-4219-a5ad-b6370c4e47d8",
        "colab": {
          "base_uri": "https://localhost:8080/"
        }
      },
      "outputs": [
        {
          "output_type": "stream",
          "name": "stdout",
          "text": [
            "Hello world\n"
          ]
        }
      ],
      "source": [
        "print('Hello world')\n"
      ]
    },
    {
      "cell_type": "code",
      "source": [
        "+"
      ],
      "metadata": {
        "id": "Z9pp2TdfZye5"
      },
      "execution_count": null,
      "outputs": []
    }
  ]
}